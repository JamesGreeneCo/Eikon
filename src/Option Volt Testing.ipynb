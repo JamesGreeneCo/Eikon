{
 "cells": [
  {
   "cell_type": "code",
   "execution_count": 1,
   "metadata": {},
   "outputs": [
    {
     "data": {
      "text/html": [
       "        <script type=\"text/javascript\">\n",
       "        window.PlotlyConfig = {MathJaxConfig: 'local'};\n",
       "        if (window.MathJax) {MathJax.Hub.Config({SVG: {font: \"STIX-Web\"}});}\n",
       "        if (typeof require !== 'undefined') {\n",
       "        require.undef(\"plotly\");\n",
       "        requirejs.config({\n",
       "            paths: {\n",
       "                'plotly': ['https://cdn.plot.ly/plotly-latest.min']\n",
       "            }\n",
       "        });\n",
       "        require(['plotly'], function(Plotly) {\n",
       "            window._Plotly = Plotly;\n",
       "        });\n",
       "        }\n",
       "        </script>\n",
       "        "
      ]
     },
     "metadata": {},
     "output_type": "display_data"
    },
    {
     "data": {
      "text/html": [
       "        <script type=\"text/javascript\">\n",
       "        window.PlotlyConfig = {MathJaxConfig: 'local'};\n",
       "        if (window.MathJax) {MathJax.Hub.Config({SVG: {font: \"STIX-Web\"}});}\n",
       "        if (typeof require !== 'undefined') {\n",
       "        require.undef(\"plotly\");\n",
       "        requirejs.config({\n",
       "            paths: {\n",
       "                'plotly': ['https://cdn.plot.ly/plotly-latest.min']\n",
       "            }\n",
       "        });\n",
       "        require(['plotly'], function(Plotly) {\n",
       "            window._Plotly = Plotly;\n",
       "        });\n",
       "        }\n",
       "        </script>\n",
       "        "
      ]
     },
     "metadata": {},
     "output_type": "display_data"
    }
   ],
   "source": [
    "import math\n",
    "import eikon as ek\n",
    "import numpy as np\n",
    "import pandas as pd\n",
    "import cufflinks as cf\n",
    "from scipy.integrate import quad\n",
    "import configparser as cp\n",
    "cf.set_config_file(offline=True)"
   ]
  },
  {
   "cell_type": "code",
   "execution_count": 2,
   "metadata": {},
   "outputs": [],
   "source": [
    "ek.set_app_key('XXXXXXXXXXXXX')"
   ]
  },
  {
   "cell_type": "code",
   "execution_count": 3,
   "metadata": {},
   "outputs": [],
   "source": [
    "fields = ['PUTCALLIND', 'STRIKE_PRC', 'CF_CLOSE', 'IMP_VOLT']"
   ]
  },
  {
   "cell_type": "code",
   "execution_count": 4,
   "metadata": {},
   "outputs": [],
   "source": [
    "dax = ek.get_data('0#GDAXM0*.EX', fields = fields)[0]"
   ]
  },
  {
   "cell_type": "code",
   "execution_count": 5,
   "metadata": {},
   "outputs": [
    {
     "data": {
      "text/html": [
       "<div>\n",
       "<style scoped>\n",
       "    .dataframe tbody tr th:only-of-type {\n",
       "        vertical-align: middle;\n",
       "    }\n",
       "\n",
       "    .dataframe tbody tr th {\n",
       "        vertical-align: top;\n",
       "    }\n",
       "\n",
       "    .dataframe thead th {\n",
       "        text-align: right;\n",
       "    }\n",
       "</style>\n",
       "<table border=\"1\" class=\"dataframe\">\n",
       "  <thead>\n",
       "    <tr style=\"text-align: right;\">\n",
       "      <th></th>\n",
       "      <th>Instrument</th>\n",
       "      <th>PUTCALLIND</th>\n",
       "      <th>STRIKE_PRC</th>\n",
       "      <th>CF_CLOSE</th>\n",
       "      <th>IMP_VOLT</th>\n",
       "    </tr>\n",
       "  </thead>\n",
       "  <tbody>\n",
       "    <tr>\n",
       "      <th>0</th>\n",
       "      <td>/.GDAXI</td>\n",
       "      <td>None</td>\n",
       "      <td>NaN</td>\n",
       "      <td>13300.98</td>\n",
       "      <td>NaN</td>\n",
       "    </tr>\n",
       "    <tr>\n",
       "      <th>1</th>\n",
       "      <td>/GDAX20000F0.EX</td>\n",
       "      <td>CALL</td>\n",
       "      <td>2000.0</td>\n",
       "      <td>11347.20</td>\n",
       "      <td>101.55</td>\n",
       "    </tr>\n",
       "    <tr>\n",
       "      <th>2</th>\n",
       "      <td>/GDAX20000R0.EX</td>\n",
       "      <td>PUT</td>\n",
       "      <td>2000.0</td>\n",
       "      <td>0.10</td>\n",
       "      <td>75.05</td>\n",
       "    </tr>\n",
       "    <tr>\n",
       "      <th>3</th>\n",
       "      <td>/GDAX36000F0.EX</td>\n",
       "      <td>CALL</td>\n",
       "      <td>3600.0</td>\n",
       "      <td>9742.80</td>\n",
       "      <td>69.57</td>\n",
       "    </tr>\n",
       "    <tr>\n",
       "      <th>4</th>\n",
       "      <td>/GDAX36000R0.EX</td>\n",
       "      <td>PUT</td>\n",
       "      <td>3600.0</td>\n",
       "      <td>0.10</td>\n",
       "      <td>51.99</td>\n",
       "    </tr>\n",
       "  </tbody>\n",
       "</table>\n",
       "</div>"
      ],
      "text/plain": [
       "        Instrument PUTCALLIND  STRIKE_PRC  CF_CLOSE  IMP_VOLT\n",
       "0          /.GDAXI       None         NaN  13300.98       NaN\n",
       "1  /GDAX20000F0.EX       CALL      2000.0  11347.20    101.55\n",
       "2  /GDAX20000R0.EX       PUT       2000.0      0.10     75.05\n",
       "3  /GDAX36000F0.EX       CALL      3600.0   9742.80     69.57\n",
       "4  /GDAX36000R0.EX       PUT       3600.0      0.10     51.99"
      ]
     },
     "execution_count": 5,
     "metadata": {},
     "output_type": "execute_result"
    }
   ],
   "source": [
    "dax.head()"
   ]
  },
  {
   "cell_type": "code",
   "execution_count": 6,
   "metadata": {},
   "outputs": [],
   "source": [
    "GDAXI = dax.iloc[0]['CF_CLOSE']"
   ]
  },
  {
   "cell_type": "code",
   "execution_count": 7,
   "metadata": {},
   "outputs": [
    {
     "data": {
      "text/plain": [
       "13300.98"
      ]
     },
     "execution_count": 7,
     "metadata": {},
     "output_type": "execute_result"
    }
   ],
   "source": [
    "GDAXI"
   ]
  },
  {
   "cell_type": "code",
   "execution_count": 8,
   "metadata": {},
   "outputs": [],
   "source": [
    "puts = dax[dax['PUTCALLIND'] == 'PUT ']\n",
    "calls = dax[dax['PUTCALLIND'] == 'CALL']"
   ]
  },
  {
   "cell_type": "code",
   "execution_count": 9,
   "metadata": {},
   "outputs": [
    {
     "name": "stdout",
     "output_type": "stream",
     "text": [
      "<class 'pandas.core.frame.DataFrame'>\n",
      "Int64Index: 129 entries, 2 to 258\n",
      "Data columns (total 5 columns):\n",
      "Instrument    129 non-null object\n",
      "PUTCALLIND    129 non-null object\n",
      "STRIKE_PRC    129 non-null float64\n",
      "CF_CLOSE      129 non-null float64\n",
      "IMP_VOLT      129 non-null float64\n",
      "dtypes: float64(3), object(2)\n",
      "memory usage: 6.0+ KB\n"
     ]
    }
   ],
   "source": [
    "puts.info()"
   ]
  },
  {
   "cell_type": "code",
   "execution_count": 10,
   "metadata": {},
   "outputs": [
    {
     "name": "stdout",
     "output_type": "stream",
     "text": [
      "<class 'pandas.core.frame.DataFrame'>\n",
      "Int64Index: 129 entries, 1 to 257\n",
      "Data columns (total 5 columns):\n",
      "Instrument    129 non-null object\n",
      "PUTCALLIND    129 non-null object\n",
      "STRIKE_PRC    129 non-null float64\n",
      "CF_CLOSE      129 non-null float64\n",
      "IMP_VOLT      129 non-null float64\n",
      "dtypes: float64(3), object(2)\n",
      "memory usage: 6.0+ KB\n"
     ]
    }
   ],
   "source": [
    "calls.info()"
   ]
  },
  {
   "cell_type": "code",
   "execution_count": 11,
   "metadata": {},
   "outputs": [],
   "source": [
    "limit = 2000"
   ]
  },
  {
   "cell_type": "code",
   "execution_count": 12,
   "metadata": {},
   "outputs": [],
   "source": [
    "puts = puts[abs(puts['STRIKE_PRC'] - GDAXI) < limit]\n",
    "calls = calls[abs(calls['STRIKE_PRC'] - GDAXI) < limit]"
   ]
  },
  {
   "cell_type": "code",
   "execution_count": 13,
   "metadata": {},
   "outputs": [
    {
     "name": "stdout",
     "output_type": "stream",
     "text": [
      "<class 'pandas.core.frame.DataFrame'>\n",
      "Int64Index: 74 entries, 96 to 242\n",
      "Data columns (total 5 columns):\n",
      "Instrument    74 non-null object\n",
      "PUTCALLIND    74 non-null object\n",
      "STRIKE_PRC    74 non-null float64\n",
      "CF_CLOSE      74 non-null float64\n",
      "IMP_VOLT      74 non-null float64\n",
      "dtypes: float64(3), object(2)\n",
      "memory usage: 3.5+ KB\n"
     ]
    }
   ],
   "source": [
    "puts.info()"
   ]
  },
  {
   "cell_type": "code",
   "execution_count": 14,
   "metadata": {},
   "outputs": [
    {
     "data": {
      "text/html": [
       "<div>\n",
       "<style scoped>\n",
       "    .dataframe tbody tr th:only-of-type {\n",
       "        vertical-align: middle;\n",
       "    }\n",
       "\n",
       "    .dataframe tbody tr th {\n",
       "        vertical-align: top;\n",
       "    }\n",
       "\n",
       "    .dataframe thead th {\n",
       "        text-align: right;\n",
       "    }\n",
       "</style>\n",
       "<table border=\"1\" class=\"dataframe\">\n",
       "  <thead>\n",
       "    <tr style=\"text-align: right;\">\n",
       "      <th></th>\n",
       "      <th>Instrument</th>\n",
       "      <th>PUTCALLIND</th>\n",
       "      <th>STRIKE_PRC</th>\n",
       "      <th>CF_CLOSE</th>\n",
       "      <th>IMP_VOLT</th>\n",
       "    </tr>\n",
       "  </thead>\n",
       "  <tbody>\n",
       "    <tr>\n",
       "      <th>96</th>\n",
       "      <td>/GDAX113500R0.EX</td>\n",
       "      <td>PUT</td>\n",
       "      <td>11350.0</td>\n",
       "      <td>115.9</td>\n",
       "      <td>20.44</td>\n",
       "    </tr>\n",
       "    <tr>\n",
       "      <th>98</th>\n",
       "      <td>/GDAX114000R0.EX</td>\n",
       "      <td>PUT</td>\n",
       "      <td>11400.0</td>\n",
       "      <td>120.4</td>\n",
       "      <td>20.28</td>\n",
       "    </tr>\n",
       "    <tr>\n",
       "      <th>100</th>\n",
       "      <td>/GDAX114500R0.EX</td>\n",
       "      <td>PUT</td>\n",
       "      <td>11450.0</td>\n",
       "      <td>125.3</td>\n",
       "      <td>20.11</td>\n",
       "    </tr>\n",
       "    <tr>\n",
       "      <th>102</th>\n",
       "      <td>/GDAX115000R0.EX</td>\n",
       "      <td>PUT</td>\n",
       "      <td>11500.0</td>\n",
       "      <td>130.2</td>\n",
       "      <td>19.95</td>\n",
       "    </tr>\n",
       "    <tr>\n",
       "      <th>104</th>\n",
       "      <td>/GDAX115500R0.EX</td>\n",
       "      <td>PUT</td>\n",
       "      <td>11550.0</td>\n",
       "      <td>135.3</td>\n",
       "      <td>19.80</td>\n",
       "    </tr>\n",
       "  </tbody>\n",
       "</table>\n",
       "</div>"
      ],
      "text/plain": [
       "           Instrument PUTCALLIND  STRIKE_PRC  CF_CLOSE  IMP_VOLT\n",
       "96   /GDAX113500R0.EX       PUT      11350.0     115.9     20.44\n",
       "98   /GDAX114000R0.EX       PUT      11400.0     120.4     20.28\n",
       "100  /GDAX114500R0.EX       PUT      11450.0     125.3     20.11\n",
       "102  /GDAX115000R0.EX       PUT      11500.0     130.2     19.95\n",
       "104  /GDAX115500R0.EX       PUT      11550.0     135.3     19.80"
      ]
     },
     "execution_count": 14,
     "metadata": {},
     "output_type": "execute_result"
    }
   ],
   "source": [
    "puts.head()"
   ]
  },
  {
   "cell_type": "code",
   "execution_count": 15,
   "metadata": {},
   "outputs": [
    {
     "name": "stdout",
     "output_type": "stream",
     "text": [
      "<class 'pandas.core.frame.DataFrame'>\n",
      "Int64Index: 74 entries, 95 to 241\n",
      "Data columns (total 5 columns):\n",
      "Instrument    74 non-null object\n",
      "PUTCALLIND    74 non-null object\n",
      "STRIKE_PRC    74 non-null float64\n",
      "CF_CLOSE      74 non-null float64\n",
      "IMP_VOLT      74 non-null float64\n",
      "dtypes: float64(3), object(2)\n",
      "memory usage: 3.5+ KB\n"
     ]
    }
   ],
   "source": [
    "calls.info()"
   ]
  },
  {
   "cell_type": "code",
   "execution_count": 16,
   "metadata": {},
   "outputs": [
    {
     "data": {
      "application/vnd.plotly.v1+json": {
       "config": {
        "linkText": "Export to plot.ly",
        "plotlyServerURL": "https://plot.ly",
        "showLink": true
       },
       "data": [
        {
         "line": {
          "color": "rgba(255, 153, 51, 1.0)",
          "dash": "solid",
          "shape": "linear",
          "width": 1.3
         },
         "marker": {
          "size": 6,
          "symbol": "circle"
         },
         "mode": "lines+markers",
         "name": "CF_CLOSE",
         "text": "",
         "type": "scatter",
         "x": [
          11350,
          11400,
          11450,
          11500,
          11550,
          11600,
          11650,
          11700,
          11750,
          11800,
          11850,
          11900,
          11950,
          12000,
          12050,
          12100,
          12150,
          12200,
          12250,
          12300,
          12350,
          12400,
          12450,
          12500,
          12550,
          12600,
          12650,
          12700,
          12750,
          12800,
          12850,
          12900,
          12950,
          13000,
          13050,
          13100,
          13150,
          13200,
          13250,
          13300,
          13350,
          13400,
          13450,
          13500,
          13550,
          13600,
          13650,
          13700,
          13750,
          13800,
          13850,
          13900,
          13950,
          14000,
          14050,
          14100,
          14150,
          14200,
          14250,
          14300,
          14350,
          14400,
          14450,
          14500,
          14550,
          14600,
          14650,
          14700,
          14750,
          14800,
          14850,
          14900,
          14950,
          15000
         ],
         "xaxis": "x",
         "y": [
          115.9,
          120.4,
          125.3,
          130.2,
          135.3,
          140.6,
          146.1,
          151.8,
          157.7,
          163.8,
          170.4,
          176.9,
          183.7,
          191,
          198.2,
          206,
          214.3,
          222.6,
          231.2,
          240.3,
          249.7,
          259.3,
          269.5,
          280,
          291,
          302.3,
          314.2,
          326.5,
          339.1,
          352.4,
          366.3,
          380.6,
          395.5,
          411.1,
          427.2,
          444,
          461.6,
          479.8,
          498.8,
          518.5,
          539.4,
          560.7,
          583,
          606.5,
          630.3,
          655.2,
          680.9,
          707.7,
          735.2,
          763.7,
          793.1,
          823.7,
          855.2,
          887.5,
          920.8,
          955.1,
          990.5,
          1026.5,
          1063.7,
          1101.8,
          1140.8,
          1180.5,
          1221.2,
          1262.5,
          1304.5,
          1347.3,
          1390.7,
          1434.9,
          1479.6,
          1524.7,
          1570.6,
          1616.9,
          1663.6,
          1710.7
         ],
         "yaxis": "y"
        },
        {
         "line": {
          "color": "rgba(55, 128, 191, 1.0)",
          "dash": "solid",
          "shape": "linear",
          "width": 1.3
         },
         "marker": {
          "size": 6,
          "symbol": "circle"
         },
         "mode": "lines+markers",
         "name": "IMP_VOLT",
         "text": "",
         "type": "scatter",
         "x": [
          11350,
          11400,
          11450,
          11500,
          11550,
          11600,
          11650,
          11700,
          11750,
          11800,
          11850,
          11900,
          11950,
          12000,
          12050,
          12100,
          12150,
          12200,
          12250,
          12300,
          12350,
          12400,
          12450,
          12500,
          12550,
          12600,
          12650,
          12700,
          12750,
          12800,
          12850,
          12900,
          12950,
          13000,
          13050,
          13100,
          13150,
          13200,
          13250,
          13300,
          13350,
          13400,
          13450,
          13500,
          13550,
          13600,
          13650,
          13700,
          13750,
          13800,
          13850,
          13900,
          13950,
          14000,
          14050,
          14100,
          14150,
          14200,
          14250,
          14300,
          14350,
          14400,
          14450,
          14500,
          14550,
          14600,
          14650,
          14700,
          14750,
          14800,
          14850,
          14900,
          14950,
          15000
         ],
         "xaxis": "x2",
         "y": [
          20.44,
          20.28,
          20.11,
          19.95,
          19.8,
          19.64,
          19.48,
          19.32,
          19.17,
          19,
          18.84,
          18.68,
          18.52,
          18.35,
          18.2,
          18.04,
          17.87,
          17.72,
          17.55,
          17.39,
          17.23,
          17.07,
          16.9,
          16.74,
          16.57,
          16.41,
          16.25,
          16.08,
          15.93,
          15.76,
          15.6,
          15.43,
          15.27,
          15.13,
          14.96,
          14.81,
          14.64,
          14.49,
          14.34,
          14.19,
          14.04,
          13.89,
          13.74,
          13.59,
          13.4,
          13.26,
          13.13,
          12.97,
          12.83,
          12.7,
          12.57,
          12.44,
          12.3,
          12.17,
          12.06,
          11.93,
          11.8,
          11.69,
          11.6,
          11.47,
          11.37,
          11.28,
          11.26,
          11.06,
          10.97,
          10.89,
          10.97,
          10.84,
          10.72,
          10.71,
          10.59,
          10.51,
          10.44,
          10.43
         ],
         "yaxis": "y2"
        }
       ],
       "layout": {
        "legend": {
         "bgcolor": "#F5F6F9",
         "font": {
          "color": "#4D5663"
         }
        },
        "paper_bgcolor": "#F5F6F9",
        "plot_bgcolor": "#F5F6F9",
        "template": {
         "data": {
          "bar": [
           {
            "error_x": {
             "color": "#2a3f5f"
            },
            "error_y": {
             "color": "#2a3f5f"
            },
            "marker": {
             "line": {
              "color": "#E5ECF6",
              "width": 0.5
             }
            },
            "type": "bar"
           }
          ],
          "barpolar": [
           {
            "marker": {
             "line": {
              "color": "#E5ECF6",
              "width": 0.5
             }
            },
            "type": "barpolar"
           }
          ],
          "carpet": [
           {
            "aaxis": {
             "endlinecolor": "#2a3f5f",
             "gridcolor": "white",
             "linecolor": "white",
             "minorgridcolor": "white",
             "startlinecolor": "#2a3f5f"
            },
            "baxis": {
             "endlinecolor": "#2a3f5f",
             "gridcolor": "white",
             "linecolor": "white",
             "minorgridcolor": "white",
             "startlinecolor": "#2a3f5f"
            },
            "type": "carpet"
           }
          ],
          "choropleth": [
           {
            "colorbar": {
             "outlinewidth": 0,
             "ticks": ""
            },
            "type": "choropleth"
           }
          ],
          "contour": [
           {
            "colorbar": {
             "outlinewidth": 0,
             "ticks": ""
            },
            "colorscale": [
             [
              0,
              "#0d0887"
             ],
             [
              0.1111111111111111,
              "#46039f"
             ],
             [
              0.2222222222222222,
              "#7201a8"
             ],
             [
              0.3333333333333333,
              "#9c179e"
             ],
             [
              0.4444444444444444,
              "#bd3786"
             ],
             [
              0.5555555555555556,
              "#d8576b"
             ],
             [
              0.6666666666666666,
              "#ed7953"
             ],
             [
              0.7777777777777778,
              "#fb9f3a"
             ],
             [
              0.8888888888888888,
              "#fdca26"
             ],
             [
              1,
              "#f0f921"
             ]
            ],
            "type": "contour"
           }
          ],
          "contourcarpet": [
           {
            "colorbar": {
             "outlinewidth": 0,
             "ticks": ""
            },
            "type": "contourcarpet"
           }
          ],
          "heatmap": [
           {
            "colorbar": {
             "outlinewidth": 0,
             "ticks": ""
            },
            "colorscale": [
             [
              0,
              "#0d0887"
             ],
             [
              0.1111111111111111,
              "#46039f"
             ],
             [
              0.2222222222222222,
              "#7201a8"
             ],
             [
              0.3333333333333333,
              "#9c179e"
             ],
             [
              0.4444444444444444,
              "#bd3786"
             ],
             [
              0.5555555555555556,
              "#d8576b"
             ],
             [
              0.6666666666666666,
              "#ed7953"
             ],
             [
              0.7777777777777778,
              "#fb9f3a"
             ],
             [
              0.8888888888888888,
              "#fdca26"
             ],
             [
              1,
              "#f0f921"
             ]
            ],
            "type": "heatmap"
           }
          ],
          "heatmapgl": [
           {
            "colorbar": {
             "outlinewidth": 0,
             "ticks": ""
            },
            "colorscale": [
             [
              0,
              "#0d0887"
             ],
             [
              0.1111111111111111,
              "#46039f"
             ],
             [
              0.2222222222222222,
              "#7201a8"
             ],
             [
              0.3333333333333333,
              "#9c179e"
             ],
             [
              0.4444444444444444,
              "#bd3786"
             ],
             [
              0.5555555555555556,
              "#d8576b"
             ],
             [
              0.6666666666666666,
              "#ed7953"
             ],
             [
              0.7777777777777778,
              "#fb9f3a"
             ],
             [
              0.8888888888888888,
              "#fdca26"
             ],
             [
              1,
              "#f0f921"
             ]
            ],
            "type": "heatmapgl"
           }
          ],
          "histogram": [
           {
            "marker": {
             "colorbar": {
              "outlinewidth": 0,
              "ticks": ""
             }
            },
            "type": "histogram"
           }
          ],
          "histogram2d": [
           {
            "colorbar": {
             "outlinewidth": 0,
             "ticks": ""
            },
            "colorscale": [
             [
              0,
              "#0d0887"
             ],
             [
              0.1111111111111111,
              "#46039f"
             ],
             [
              0.2222222222222222,
              "#7201a8"
             ],
             [
              0.3333333333333333,
              "#9c179e"
             ],
             [
              0.4444444444444444,
              "#bd3786"
             ],
             [
              0.5555555555555556,
              "#d8576b"
             ],
             [
              0.6666666666666666,
              "#ed7953"
             ],
             [
              0.7777777777777778,
              "#fb9f3a"
             ],
             [
              0.8888888888888888,
              "#fdca26"
             ],
             [
              1,
              "#f0f921"
             ]
            ],
            "type": "histogram2d"
           }
          ],
          "histogram2dcontour": [
           {
            "colorbar": {
             "outlinewidth": 0,
             "ticks": ""
            },
            "colorscale": [
             [
              0,
              "#0d0887"
             ],
             [
              0.1111111111111111,
              "#46039f"
             ],
             [
              0.2222222222222222,
              "#7201a8"
             ],
             [
              0.3333333333333333,
              "#9c179e"
             ],
             [
              0.4444444444444444,
              "#bd3786"
             ],
             [
              0.5555555555555556,
              "#d8576b"
             ],
             [
              0.6666666666666666,
              "#ed7953"
             ],
             [
              0.7777777777777778,
              "#fb9f3a"
             ],
             [
              0.8888888888888888,
              "#fdca26"
             ],
             [
              1,
              "#f0f921"
             ]
            ],
            "type": "histogram2dcontour"
           }
          ],
          "mesh3d": [
           {
            "colorbar": {
             "outlinewidth": 0,
             "ticks": ""
            },
            "type": "mesh3d"
           }
          ],
          "parcoords": [
           {
            "line": {
             "colorbar": {
              "outlinewidth": 0,
              "ticks": ""
             }
            },
            "type": "parcoords"
           }
          ],
          "pie": [
           {
            "automargin": true,
            "type": "pie"
           }
          ],
          "scatter": [
           {
            "marker": {
             "colorbar": {
              "outlinewidth": 0,
              "ticks": ""
             }
            },
            "type": "scatter"
           }
          ],
          "scatter3d": [
           {
            "line": {
             "colorbar": {
              "outlinewidth": 0,
              "ticks": ""
             }
            },
            "marker": {
             "colorbar": {
              "outlinewidth": 0,
              "ticks": ""
             }
            },
            "type": "scatter3d"
           }
          ],
          "scattercarpet": [
           {
            "marker": {
             "colorbar": {
              "outlinewidth": 0,
              "ticks": ""
             }
            },
            "type": "scattercarpet"
           }
          ],
          "scattergeo": [
           {
            "marker": {
             "colorbar": {
              "outlinewidth": 0,
              "ticks": ""
             }
            },
            "type": "scattergeo"
           }
          ],
          "scattergl": [
           {
            "marker": {
             "colorbar": {
              "outlinewidth": 0,
              "ticks": ""
             }
            },
            "type": "scattergl"
           }
          ],
          "scattermapbox": [
           {
            "marker": {
             "colorbar": {
              "outlinewidth": 0,
              "ticks": ""
             }
            },
            "type": "scattermapbox"
           }
          ],
          "scatterpolar": [
           {
            "marker": {
             "colorbar": {
              "outlinewidth": 0,
              "ticks": ""
             }
            },
            "type": "scatterpolar"
           }
          ],
          "scatterpolargl": [
           {
            "marker": {
             "colorbar": {
              "outlinewidth": 0,
              "ticks": ""
             }
            },
            "type": "scatterpolargl"
           }
          ],
          "scatterternary": [
           {
            "marker": {
             "colorbar": {
              "outlinewidth": 0,
              "ticks": ""
             }
            },
            "type": "scatterternary"
           }
          ],
          "surface": [
           {
            "colorbar": {
             "outlinewidth": 0,
             "ticks": ""
            },
            "colorscale": [
             [
              0,
              "#0d0887"
             ],
             [
              0.1111111111111111,
              "#46039f"
             ],
             [
              0.2222222222222222,
              "#7201a8"
             ],
             [
              0.3333333333333333,
              "#9c179e"
             ],
             [
              0.4444444444444444,
              "#bd3786"
             ],
             [
              0.5555555555555556,
              "#d8576b"
             ],
             [
              0.6666666666666666,
              "#ed7953"
             ],
             [
              0.7777777777777778,
              "#fb9f3a"
             ],
             [
              0.8888888888888888,
              "#fdca26"
             ],
             [
              1,
              "#f0f921"
             ]
            ],
            "type": "surface"
           }
          ],
          "table": [
           {
            "cells": {
             "fill": {
              "color": "#EBF0F8"
             },
             "line": {
              "color": "white"
             }
            },
            "header": {
             "fill": {
              "color": "#C8D4E3"
             },
             "line": {
              "color": "white"
             }
            },
            "type": "table"
           }
          ]
         },
         "layout": {
          "annotationdefaults": {
           "arrowcolor": "#2a3f5f",
           "arrowhead": 0,
           "arrowwidth": 1
          },
          "coloraxis": {
           "colorbar": {
            "outlinewidth": 0,
            "ticks": ""
           }
          },
          "colorscale": {
           "diverging": [
            [
             0,
             "#8e0152"
            ],
            [
             0.1,
             "#c51b7d"
            ],
            [
             0.2,
             "#de77ae"
            ],
            [
             0.3,
             "#f1b6da"
            ],
            [
             0.4,
             "#fde0ef"
            ],
            [
             0.5,
             "#f7f7f7"
            ],
            [
             0.6,
             "#e6f5d0"
            ],
            [
             0.7,
             "#b8e186"
            ],
            [
             0.8,
             "#7fbc41"
            ],
            [
             0.9,
             "#4d9221"
            ],
            [
             1,
             "#276419"
            ]
           ],
           "sequential": [
            [
             0,
             "#0d0887"
            ],
            [
             0.1111111111111111,
             "#46039f"
            ],
            [
             0.2222222222222222,
             "#7201a8"
            ],
            [
             0.3333333333333333,
             "#9c179e"
            ],
            [
             0.4444444444444444,
             "#bd3786"
            ],
            [
             0.5555555555555556,
             "#d8576b"
            ],
            [
             0.6666666666666666,
             "#ed7953"
            ],
            [
             0.7777777777777778,
             "#fb9f3a"
            ],
            [
             0.8888888888888888,
             "#fdca26"
            ],
            [
             1,
             "#f0f921"
            ]
           ],
           "sequentialminus": [
            [
             0,
             "#0d0887"
            ],
            [
             0.1111111111111111,
             "#46039f"
            ],
            [
             0.2222222222222222,
             "#7201a8"
            ],
            [
             0.3333333333333333,
             "#9c179e"
            ],
            [
             0.4444444444444444,
             "#bd3786"
            ],
            [
             0.5555555555555556,
             "#d8576b"
            ],
            [
             0.6666666666666666,
             "#ed7953"
            ],
            [
             0.7777777777777778,
             "#fb9f3a"
            ],
            [
             0.8888888888888888,
             "#fdca26"
            ],
            [
             1,
             "#f0f921"
            ]
           ]
          },
          "colorway": [
           "#636efa",
           "#EF553B",
           "#00cc96",
           "#ab63fa",
           "#FFA15A",
           "#19d3f3",
           "#FF6692",
           "#B6E880",
           "#FF97FF",
           "#FECB52"
          ],
          "font": {
           "color": "#2a3f5f"
          },
          "geo": {
           "bgcolor": "white",
           "lakecolor": "white",
           "landcolor": "#E5ECF6",
           "showlakes": true,
           "showland": true,
           "subunitcolor": "white"
          },
          "hoverlabel": {
           "align": "left"
          },
          "hovermode": "closest",
          "mapbox": {
           "style": "light"
          },
          "paper_bgcolor": "white",
          "plot_bgcolor": "#E5ECF6",
          "polar": {
           "angularaxis": {
            "gridcolor": "white",
            "linecolor": "white",
            "ticks": ""
           },
           "bgcolor": "#E5ECF6",
           "radialaxis": {
            "gridcolor": "white",
            "linecolor": "white",
            "ticks": ""
           }
          },
          "scene": {
           "xaxis": {
            "backgroundcolor": "#E5ECF6",
            "gridcolor": "white",
            "gridwidth": 2,
            "linecolor": "white",
            "showbackground": true,
            "ticks": "",
            "zerolinecolor": "white"
           },
           "yaxis": {
            "backgroundcolor": "#E5ECF6",
            "gridcolor": "white",
            "gridwidth": 2,
            "linecolor": "white",
            "showbackground": true,
            "ticks": "",
            "zerolinecolor": "white"
           },
           "zaxis": {
            "backgroundcolor": "#E5ECF6",
            "gridcolor": "white",
            "gridwidth": 2,
            "linecolor": "white",
            "showbackground": true,
            "ticks": "",
            "zerolinecolor": "white"
           }
          },
          "shapedefaults": {
           "line": {
            "color": "#2a3f5f"
           }
          },
          "ternary": {
           "aaxis": {
            "gridcolor": "white",
            "linecolor": "white",
            "ticks": ""
           },
           "baxis": {
            "gridcolor": "white",
            "linecolor": "white",
            "ticks": ""
           },
           "bgcolor": "#E5ECF6",
           "caxis": {
            "gridcolor": "white",
            "linecolor": "white",
            "ticks": ""
           }
          },
          "title": {
           "x": 0.05
          },
          "xaxis": {
           "automargin": true,
           "gridcolor": "white",
           "linecolor": "white",
           "ticks": "",
           "title": {
            "standoff": 15
           },
           "zerolinecolor": "white",
           "zerolinewidth": 2
          },
          "yaxis": {
           "automargin": true,
           "gridcolor": "white",
           "linecolor": "white",
           "ticks": "",
           "title": {
            "standoff": 15
           },
           "zerolinecolor": "white",
           "zerolinewidth": 2
          }
         }
        },
        "title": {
         "font": {
          "color": "#4D5663"
         }
        },
        "xaxis": {
         "anchor": "y",
         "domain": [
          0,
          0.45
         ],
         "gridcolor": "#E1E5ED",
         "showgrid": true,
         "tickfont": {
          "color": "#4D5663"
         },
         "title": {
          "font": {
           "color": "#4D5663"
          },
          "text": ""
         },
         "zerolinecolor": "#E1E5ED"
        },
        "xaxis2": {
         "anchor": "y2",
         "domain": [
          0.55,
          1
         ],
         "gridcolor": "#E1E5ED",
         "showgrid": true,
         "tickfont": {
          "color": "#4D5663"
         },
         "title": {
          "font": {
           "color": "#4D5663"
          },
          "text": ""
         },
         "zerolinecolor": "#E1E5ED"
        },
        "yaxis": {
         "anchor": "x",
         "domain": [
          0,
          1
         ],
         "gridcolor": "#E1E5ED",
         "showgrid": true,
         "tickfont": {
          "color": "#4D5663"
         },
         "title": {
          "font": {
           "color": "#4D5663"
          },
          "text": ""
         },
         "zerolinecolor": "#E1E5ED"
        },
        "yaxis2": {
         "anchor": "x2",
         "domain": [
          0,
          1
         ],
         "gridcolor": "#E1E5ED",
         "showgrid": true,
         "tickfont": {
          "color": "#4D5663"
         },
         "title": {
          "font": {
           "color": "#4D5663"
          },
          "text": ""
         },
         "zerolinecolor": "#E1E5ED"
        }
       }
      },
      "text/html": [
       "<div>\n",
       "        \n",
       "        \n",
       "            <div id=\"cb0cd396-5cf8-4325-8636-995da7f58013\" class=\"plotly-graph-div\" style=\"height:525px; width:100%;\"></div>\n",
       "            <script type=\"text/javascript\">\n",
       "                require([\"plotly\"], function(Plotly) {\n",
       "                    window.PLOTLYENV=window.PLOTLYENV || {};\n",
       "                    window.PLOTLYENV.BASE_URL='https://plot.ly';\n",
       "                    \n",
       "                if (document.getElementById(\"cb0cd396-5cf8-4325-8636-995da7f58013\")) {\n",
       "                    Plotly.newPlot(\n",
       "                        'cb0cd396-5cf8-4325-8636-995da7f58013',\n",
       "                        [{\"line\": {\"color\": \"rgba(255, 153, 51, 1.0)\", \"dash\": \"solid\", \"shape\": \"linear\", \"width\": 1.3}, \"marker\": {\"size\": 6, \"symbol\": \"circle\"}, \"mode\": \"lines+markers\", \"name\": \"CF_CLOSE\", \"text\": \"\", \"type\": \"scatter\", \"x\": [11350.0, 11400.0, 11450.0, 11500.0, 11550.0, 11600.0, 11650.0, 11700.0, 11750.0, 11800.0, 11850.0, 11900.0, 11950.0, 12000.0, 12050.0, 12100.0, 12150.0, 12200.0, 12250.0, 12300.0, 12350.0, 12400.0, 12450.0, 12500.0, 12550.0, 12600.0, 12650.0, 12700.0, 12750.0, 12800.0, 12850.0, 12900.0, 12950.0, 13000.0, 13050.0, 13100.0, 13150.0, 13200.0, 13250.0, 13300.0, 13350.0, 13400.0, 13450.0, 13500.0, 13550.0, 13600.0, 13650.0, 13700.0, 13750.0, 13800.0, 13850.0, 13900.0, 13950.0, 14000.0, 14050.0, 14100.0, 14150.0, 14200.0, 14250.0, 14300.0, 14350.0, 14400.0, 14450.0, 14500.0, 14550.0, 14600.0, 14650.0, 14700.0, 14750.0, 14800.0, 14850.0, 14900.0, 14950.0, 15000.0], \"xaxis\": \"x\", \"y\": [115.9, 120.4, 125.3, 130.2, 135.3, 140.6, 146.1, 151.8, 157.7, 163.8, 170.4, 176.9, 183.7, 191.0, 198.2, 206.0, 214.3, 222.6, 231.2, 240.3, 249.7, 259.3, 269.5, 280.0, 291.0, 302.3, 314.2, 326.5, 339.1, 352.4, 366.3, 380.6, 395.5, 411.1, 427.2, 444.0, 461.6, 479.8, 498.8, 518.5, 539.4, 560.7, 583.0, 606.5, 630.3, 655.2, 680.9, 707.7, 735.2, 763.7, 793.1, 823.7, 855.2, 887.5, 920.8, 955.1, 990.5, 1026.5, 1063.7, 1101.8, 1140.8, 1180.5, 1221.2, 1262.5, 1304.5, 1347.3, 1390.7, 1434.9, 1479.6, 1524.7, 1570.6, 1616.9, 1663.6, 1710.7], \"yaxis\": \"y\"}, {\"line\": {\"color\": \"rgba(55, 128, 191, 1.0)\", \"dash\": \"solid\", \"shape\": \"linear\", \"width\": 1.3}, \"marker\": {\"size\": 6, \"symbol\": \"circle\"}, \"mode\": \"lines+markers\", \"name\": \"IMP_VOLT\", \"text\": \"\", \"type\": \"scatter\", \"x\": [11350.0, 11400.0, 11450.0, 11500.0, 11550.0, 11600.0, 11650.0, 11700.0, 11750.0, 11800.0, 11850.0, 11900.0, 11950.0, 12000.0, 12050.0, 12100.0, 12150.0, 12200.0, 12250.0, 12300.0, 12350.0, 12400.0, 12450.0, 12500.0, 12550.0, 12600.0, 12650.0, 12700.0, 12750.0, 12800.0, 12850.0, 12900.0, 12950.0, 13000.0, 13050.0, 13100.0, 13150.0, 13200.0, 13250.0, 13300.0, 13350.0, 13400.0, 13450.0, 13500.0, 13550.0, 13600.0, 13650.0, 13700.0, 13750.0, 13800.0, 13850.0, 13900.0, 13950.0, 14000.0, 14050.0, 14100.0, 14150.0, 14200.0, 14250.0, 14300.0, 14350.0, 14400.0, 14450.0, 14500.0, 14550.0, 14600.0, 14650.0, 14700.0, 14750.0, 14800.0, 14850.0, 14900.0, 14950.0, 15000.0], \"xaxis\": \"x2\", \"y\": [20.44, 20.28, 20.11, 19.95, 19.8, 19.64, 19.48, 19.32, 19.17, 19.0, 18.84, 18.68, 18.52, 18.35, 18.2, 18.04, 17.87, 17.72, 17.55, 17.39, 17.23, 17.07, 16.9, 16.74, 16.57, 16.41, 16.25, 16.08, 15.93, 15.76, 15.6, 15.43, 15.27, 15.13, 14.96, 14.81, 14.64, 14.49, 14.34, 14.19, 14.04, 13.89, 13.74, 13.59, 13.4, 13.26, 13.13, 12.97, 12.83, 12.7, 12.57, 12.44, 12.3, 12.17, 12.06, 11.93, 11.8, 11.69, 11.6, 11.47, 11.37, 11.28, 11.26, 11.06, 10.97, 10.89, 10.97, 10.84, 10.72, 10.71, 10.59, 10.51, 10.44, 10.43], \"yaxis\": \"y2\"}],\n",
       "                        {\"legend\": {\"bgcolor\": \"#F5F6F9\", \"font\": {\"color\": \"#4D5663\"}}, \"paper_bgcolor\": \"#F5F6F9\", \"plot_bgcolor\": \"#F5F6F9\", \"template\": {\"data\": {\"bar\": [{\"error_x\": {\"color\": \"#2a3f5f\"}, \"error_y\": {\"color\": \"#2a3f5f\"}, \"marker\": {\"line\": {\"color\": \"#E5ECF6\", \"width\": 0.5}}, \"type\": \"bar\"}], \"barpolar\": [{\"marker\": {\"line\": {\"color\": \"#E5ECF6\", \"width\": 0.5}}, \"type\": \"barpolar\"}], \"carpet\": [{\"aaxis\": {\"endlinecolor\": \"#2a3f5f\", \"gridcolor\": \"white\", \"linecolor\": \"white\", \"minorgridcolor\": \"white\", \"startlinecolor\": \"#2a3f5f\"}, \"baxis\": {\"endlinecolor\": \"#2a3f5f\", \"gridcolor\": \"white\", \"linecolor\": \"white\", \"minorgridcolor\": \"white\", \"startlinecolor\": \"#2a3f5f\"}, \"type\": \"carpet\"}], \"choropleth\": [{\"colorbar\": {\"outlinewidth\": 0, \"ticks\": \"\"}, \"type\": \"choropleth\"}], \"contour\": [{\"colorbar\": {\"outlinewidth\": 0, \"ticks\": \"\"}, \"colorscale\": [[0.0, \"#0d0887\"], [0.1111111111111111, \"#46039f\"], [0.2222222222222222, \"#7201a8\"], [0.3333333333333333, \"#9c179e\"], [0.4444444444444444, \"#bd3786\"], [0.5555555555555556, \"#d8576b\"], [0.6666666666666666, \"#ed7953\"], [0.7777777777777778, \"#fb9f3a\"], [0.8888888888888888, \"#fdca26\"], [1.0, \"#f0f921\"]], \"type\": \"contour\"}], \"contourcarpet\": [{\"colorbar\": {\"outlinewidth\": 0, \"ticks\": \"\"}, \"type\": \"contourcarpet\"}], \"heatmap\": [{\"colorbar\": {\"outlinewidth\": 0, \"ticks\": \"\"}, \"colorscale\": [[0.0, \"#0d0887\"], [0.1111111111111111, \"#46039f\"], [0.2222222222222222, \"#7201a8\"], [0.3333333333333333, \"#9c179e\"], [0.4444444444444444, \"#bd3786\"], [0.5555555555555556, \"#d8576b\"], [0.6666666666666666, \"#ed7953\"], [0.7777777777777778, \"#fb9f3a\"], [0.8888888888888888, \"#fdca26\"], [1.0, \"#f0f921\"]], \"type\": \"heatmap\"}], \"heatmapgl\": [{\"colorbar\": {\"outlinewidth\": 0, \"ticks\": \"\"}, \"colorscale\": [[0.0, \"#0d0887\"], [0.1111111111111111, \"#46039f\"], [0.2222222222222222, \"#7201a8\"], [0.3333333333333333, \"#9c179e\"], [0.4444444444444444, \"#bd3786\"], [0.5555555555555556, \"#d8576b\"], [0.6666666666666666, \"#ed7953\"], [0.7777777777777778, \"#fb9f3a\"], [0.8888888888888888, \"#fdca26\"], [1.0, \"#f0f921\"]], \"type\": \"heatmapgl\"}], \"histogram\": [{\"marker\": {\"colorbar\": {\"outlinewidth\": 0, \"ticks\": \"\"}}, \"type\": \"histogram\"}], \"histogram2d\": [{\"colorbar\": {\"outlinewidth\": 0, \"ticks\": \"\"}, \"colorscale\": [[0.0, \"#0d0887\"], [0.1111111111111111, \"#46039f\"], [0.2222222222222222, \"#7201a8\"], [0.3333333333333333, \"#9c179e\"], [0.4444444444444444, \"#bd3786\"], [0.5555555555555556, \"#d8576b\"], [0.6666666666666666, \"#ed7953\"], [0.7777777777777778, \"#fb9f3a\"], [0.8888888888888888, \"#fdca26\"], [1.0, \"#f0f921\"]], \"type\": \"histogram2d\"}], \"histogram2dcontour\": [{\"colorbar\": {\"outlinewidth\": 0, \"ticks\": \"\"}, \"colorscale\": [[0.0, \"#0d0887\"], [0.1111111111111111, \"#46039f\"], [0.2222222222222222, \"#7201a8\"], [0.3333333333333333, \"#9c179e\"], [0.4444444444444444, \"#bd3786\"], [0.5555555555555556, \"#d8576b\"], [0.6666666666666666, \"#ed7953\"], [0.7777777777777778, \"#fb9f3a\"], [0.8888888888888888, \"#fdca26\"], [1.0, \"#f0f921\"]], \"type\": \"histogram2dcontour\"}], \"mesh3d\": [{\"colorbar\": {\"outlinewidth\": 0, \"ticks\": \"\"}, \"type\": \"mesh3d\"}], \"parcoords\": [{\"line\": {\"colorbar\": {\"outlinewidth\": 0, \"ticks\": \"\"}}, \"type\": \"parcoords\"}], \"pie\": [{\"automargin\": true, \"type\": \"pie\"}], \"scatter\": [{\"marker\": {\"colorbar\": {\"outlinewidth\": 0, \"ticks\": \"\"}}, \"type\": \"scatter\"}], \"scatter3d\": [{\"line\": {\"colorbar\": {\"outlinewidth\": 0, \"ticks\": \"\"}}, \"marker\": {\"colorbar\": {\"outlinewidth\": 0, \"ticks\": \"\"}}, \"type\": \"scatter3d\"}], \"scattercarpet\": [{\"marker\": {\"colorbar\": {\"outlinewidth\": 0, \"ticks\": \"\"}}, \"type\": \"scattercarpet\"}], \"scattergeo\": [{\"marker\": {\"colorbar\": {\"outlinewidth\": 0, \"ticks\": \"\"}}, \"type\": \"scattergeo\"}], \"scattergl\": [{\"marker\": {\"colorbar\": {\"outlinewidth\": 0, \"ticks\": \"\"}}, \"type\": \"scattergl\"}], \"scattermapbox\": [{\"marker\": {\"colorbar\": {\"outlinewidth\": 0, \"ticks\": \"\"}}, \"type\": \"scattermapbox\"}], \"scatterpolar\": [{\"marker\": {\"colorbar\": {\"outlinewidth\": 0, \"ticks\": \"\"}}, \"type\": \"scatterpolar\"}], \"scatterpolargl\": [{\"marker\": {\"colorbar\": {\"outlinewidth\": 0, \"ticks\": \"\"}}, \"type\": \"scatterpolargl\"}], \"scatterternary\": [{\"marker\": {\"colorbar\": {\"outlinewidth\": 0, \"ticks\": \"\"}}, \"type\": \"scatterternary\"}], \"surface\": [{\"colorbar\": {\"outlinewidth\": 0, \"ticks\": \"\"}, \"colorscale\": [[0.0, \"#0d0887\"], [0.1111111111111111, \"#46039f\"], [0.2222222222222222, \"#7201a8\"], [0.3333333333333333, \"#9c179e\"], [0.4444444444444444, \"#bd3786\"], [0.5555555555555556, \"#d8576b\"], [0.6666666666666666, \"#ed7953\"], [0.7777777777777778, \"#fb9f3a\"], [0.8888888888888888, \"#fdca26\"], [1.0, \"#f0f921\"]], \"type\": \"surface\"}], \"table\": [{\"cells\": {\"fill\": {\"color\": \"#EBF0F8\"}, \"line\": {\"color\": \"white\"}}, \"header\": {\"fill\": {\"color\": \"#C8D4E3\"}, \"line\": {\"color\": \"white\"}}, \"type\": \"table\"}]}, \"layout\": {\"annotationdefaults\": {\"arrowcolor\": \"#2a3f5f\", \"arrowhead\": 0, \"arrowwidth\": 1}, \"coloraxis\": {\"colorbar\": {\"outlinewidth\": 0, \"ticks\": \"\"}}, \"colorscale\": {\"diverging\": [[0, \"#8e0152\"], [0.1, \"#c51b7d\"], [0.2, \"#de77ae\"], [0.3, \"#f1b6da\"], [0.4, \"#fde0ef\"], [0.5, \"#f7f7f7\"], [0.6, \"#e6f5d0\"], [0.7, \"#b8e186\"], [0.8, \"#7fbc41\"], [0.9, \"#4d9221\"], [1, \"#276419\"]], \"sequential\": [[0.0, \"#0d0887\"], [0.1111111111111111, \"#46039f\"], [0.2222222222222222, \"#7201a8\"], [0.3333333333333333, \"#9c179e\"], [0.4444444444444444, \"#bd3786\"], [0.5555555555555556, \"#d8576b\"], [0.6666666666666666, \"#ed7953\"], [0.7777777777777778, \"#fb9f3a\"], [0.8888888888888888, \"#fdca26\"], [1.0, \"#f0f921\"]], \"sequentialminus\": [[0.0, \"#0d0887\"], [0.1111111111111111, \"#46039f\"], [0.2222222222222222, \"#7201a8\"], [0.3333333333333333, \"#9c179e\"], [0.4444444444444444, \"#bd3786\"], [0.5555555555555556, \"#d8576b\"], [0.6666666666666666, \"#ed7953\"], [0.7777777777777778, \"#fb9f3a\"], [0.8888888888888888, \"#fdca26\"], [1.0, \"#f0f921\"]]}, \"colorway\": [\"#636efa\", \"#EF553B\", \"#00cc96\", \"#ab63fa\", \"#FFA15A\", \"#19d3f3\", \"#FF6692\", \"#B6E880\", \"#FF97FF\", \"#FECB52\"], \"font\": {\"color\": \"#2a3f5f\"}, \"geo\": {\"bgcolor\": \"white\", \"lakecolor\": \"white\", \"landcolor\": \"#E5ECF6\", \"showlakes\": true, \"showland\": true, \"subunitcolor\": \"white\"}, \"hoverlabel\": {\"align\": \"left\"}, \"hovermode\": \"closest\", \"mapbox\": {\"style\": \"light\"}, \"paper_bgcolor\": \"white\", \"plot_bgcolor\": \"#E5ECF6\", \"polar\": {\"angularaxis\": {\"gridcolor\": \"white\", \"linecolor\": \"white\", \"ticks\": \"\"}, \"bgcolor\": \"#E5ECF6\", \"radialaxis\": {\"gridcolor\": \"white\", \"linecolor\": \"white\", \"ticks\": \"\"}}, \"scene\": {\"xaxis\": {\"backgroundcolor\": \"#E5ECF6\", \"gridcolor\": \"white\", \"gridwidth\": 2, \"linecolor\": \"white\", \"showbackground\": true, \"ticks\": \"\", \"zerolinecolor\": \"white\"}, \"yaxis\": {\"backgroundcolor\": \"#E5ECF6\", \"gridcolor\": \"white\", \"gridwidth\": 2, \"linecolor\": \"white\", \"showbackground\": true, \"ticks\": \"\", \"zerolinecolor\": \"white\"}, \"zaxis\": {\"backgroundcolor\": \"#E5ECF6\", \"gridcolor\": \"white\", \"gridwidth\": 2, \"linecolor\": \"white\", \"showbackground\": true, \"ticks\": \"\", \"zerolinecolor\": \"white\"}}, \"shapedefaults\": {\"line\": {\"color\": \"#2a3f5f\"}}, \"ternary\": {\"aaxis\": {\"gridcolor\": \"white\", \"linecolor\": \"white\", \"ticks\": \"\"}, \"baxis\": {\"gridcolor\": \"white\", \"linecolor\": \"white\", \"ticks\": \"\"}, \"bgcolor\": \"#E5ECF6\", \"caxis\": {\"gridcolor\": \"white\", \"linecolor\": \"white\", \"ticks\": \"\"}}, \"title\": {\"x\": 0.05}, \"xaxis\": {\"automargin\": true, \"gridcolor\": \"white\", \"linecolor\": \"white\", \"ticks\": \"\", \"title\": {\"standoff\": 15}, \"zerolinecolor\": \"white\", \"zerolinewidth\": 2}, \"yaxis\": {\"automargin\": true, \"gridcolor\": \"white\", \"linecolor\": \"white\", \"ticks\": \"\", \"title\": {\"standoff\": 15}, \"zerolinecolor\": \"white\", \"zerolinewidth\": 2}}}, \"title\": {\"font\": {\"color\": \"#4D5663\"}}, \"xaxis\": {\"anchor\": \"y\", \"domain\": [0.0, 0.45], \"gridcolor\": \"#E1E5ED\", \"showgrid\": true, \"tickfont\": {\"color\": \"#4D5663\"}, \"title\": {\"font\": {\"color\": \"#4D5663\"}, \"text\": \"\"}, \"zerolinecolor\": \"#E1E5ED\"}, \"xaxis2\": {\"anchor\": \"y2\", \"domain\": [0.55, 1.0], \"gridcolor\": \"#E1E5ED\", \"showgrid\": true, \"tickfont\": {\"color\": \"#4D5663\"}, \"title\": {\"font\": {\"color\": \"#4D5663\"}, \"text\": \"\"}, \"zerolinecolor\": \"#E1E5ED\"}, \"yaxis\": {\"anchor\": \"x\", \"domain\": [0.0, 1.0], \"gridcolor\": \"#E1E5ED\", \"showgrid\": true, \"tickfont\": {\"color\": \"#4D5663\"}, \"title\": {\"font\": {\"color\": \"#4D5663\"}, \"text\": \"\"}, \"zerolinecolor\": \"#E1E5ED\"}, \"yaxis2\": {\"anchor\": \"x2\", \"domain\": [0.0, 1.0], \"gridcolor\": \"#E1E5ED\", \"showgrid\": true, \"tickfont\": {\"color\": \"#4D5663\"}, \"title\": {\"font\": {\"color\": \"#4D5663\"}, \"text\": \"\"}, \"zerolinecolor\": \"#E1E5ED\"}},\n",
       "                        {\"showLink\": true, \"linkText\": \"Export to plot.ly\", \"plotlyServerURL\": \"https://plot.ly\", \"responsive\": true}\n",
       "                    ).then(function(){\n",
       "                            \n",
       "var gd = document.getElementById('cb0cd396-5cf8-4325-8636-995da7f58013');\n",
       "var x = new MutationObserver(function (mutations, observer) {{\n",
       "        var display = window.getComputedStyle(gd).display;\n",
       "        if (!display || display === 'none') {{\n",
       "            console.log([gd, 'removed!']);\n",
       "            Plotly.purge(gd);\n",
       "            observer.disconnect();\n",
       "        }}\n",
       "}});\n",
       "\n",
       "// Listen for the removal of the full notebook cells\n",
       "var notebookContainer = gd.closest('#notebook-container');\n",
       "if (notebookContainer) {{\n",
       "    x.observe(notebookContainer, {childList: true});\n",
       "}}\n",
       "\n",
       "// Listen for the clearing of the current output cell\n",
       "var outputEl = gd.closest('.output');\n",
       "if (outputEl) {{\n",
       "    x.observe(outputEl, {childList: true});\n",
       "}}\n",
       "\n",
       "                        })\n",
       "                };\n",
       "                });\n",
       "            </script>\n",
       "        </div>"
      ]
     },
     "metadata": {},
     "output_type": "display_data"
    }
   ],
   "source": [
    "puts.set_index('STRIKE_PRC')[['CF_CLOSE', 'IMP_VOLT']].iplot(subplots=True,\n",
    "                                                            mode='lines+markers',\n",
    "                                                            size = 6)"
   ]
  },
  {
   "cell_type": "code",
   "execution_count": 17,
   "metadata": {},
   "outputs": [
    {
     "data": {
      "application/vnd.plotly.v1+json": {
       "config": {
        "linkText": "Export to plot.ly",
        "plotlyServerURL": "https://plot.ly",
        "showLink": true
       },
       "data": [
        {
         "line": {
          "color": "rgba(255, 153, 51, 1.0)",
          "dash": "solid",
          "shape": "linear",
          "width": 1.3
         },
         "marker": {
          "size": 6,
          "symbol": "circle"
         },
         "mode": "lines+markers",
         "name": "CF_CLOSE",
         "text": "",
         "type": "scatter",
         "x": [
          11350,
          11400,
          11450,
          11500,
          11550,
          11600,
          11650,
          11700,
          11750,
          11800,
          11850,
          11900,
          11950,
          12000,
          12050,
          12100,
          12150,
          12200,
          12250,
          12300,
          12350,
          12400,
          12450,
          12500,
          12550,
          12600,
          12650,
          12700,
          12750,
          12800,
          12850,
          12900,
          12950,
          13000,
          13050,
          13100,
          13150,
          13200,
          13250,
          13300,
          13350,
          13400,
          13450,
          13500,
          13550,
          13600,
          13650,
          13700,
          13750,
          13800,
          13850,
          13900,
          13950,
          14000,
          14050,
          14100,
          14150,
          14200,
          14250,
          14300,
          14350,
          14400,
          14450,
          14500,
          14550,
          14600,
          14650,
          14700,
          14750,
          14800,
          14850,
          14900,
          14950,
          15000
         ],
         "xaxis": "x",
         "y": [
          2087.2,
          2041.8,
          1996.3,
          1951.1,
          1906.1,
          1861.2,
          1816.6,
          1772.1,
          1727.9,
          1683.9,
          1640.3,
          1596.7,
          1553.6,
          1510.6,
          1467.9,
          1425.6,
          1383.4,
          1341.6,
          1300,
          1259,
          1218.2,
          1177.8,
          1137.8,
          1098.2,
          1059,
          1020.2,
          982,
          944.1,
          906.6,
          869.7,
          833.5,
          797.6,
          762.4,
          727.9,
          693.9,
          660.6,
          627.9,
          596.1,
          564.9,
          534.5,
          505.2,
          476.4,
          448.6,
          421.5,
          395.6,
          370.4,
          345.9,
          322.5,
          299.9,
          278.2,
          257.6,
          238,
          219.4,
          201.5,
          184.7,
          168.8,
          154.1,
          140.3,
          127.1,
          115.3,
          103.9,
          93.7,
          84,
          75.2,
          67,
          59.7,
          52.9,
          47,
          41.5,
          36.7,
          32.2,
          28.5,
          25.1,
          22
         ],
         "yaxis": "y"
        },
        {
         "line": {
          "color": "rgba(55, 128, 191, 1.0)",
          "dash": "solid",
          "shape": "linear",
          "width": 1.3
         },
         "marker": {
          "size": 6,
          "symbol": "circle"
         },
         "mode": "lines+markers",
         "name": "IMP_VOLT",
         "text": "",
         "type": "scatter",
         "x": [
          11350,
          11400,
          11450,
          11500,
          11550,
          11600,
          11650,
          11700,
          11750,
          11800,
          11850,
          11900,
          11950,
          12000,
          12050,
          12100,
          12150,
          12200,
          12250,
          12300,
          12350,
          12400,
          12450,
          12500,
          12550,
          12600,
          12650,
          12700,
          12750,
          12800,
          12850,
          12900,
          12950,
          13000,
          13050,
          13100,
          13150,
          13200,
          13250,
          13300,
          13350,
          13400,
          13450,
          13500,
          13550,
          13600,
          13650,
          13700,
          13750,
          13800,
          13850,
          13900,
          13950,
          14000,
          14050,
          14100,
          14150,
          14200,
          14250,
          14300,
          14350,
          14400,
          14450,
          14500,
          14550,
          14600,
          14650,
          14700,
          14750,
          14800,
          14850,
          14900,
          14950,
          15000
         ],
         "xaxis": "x2",
         "y": [
          20.56,
          20.37,
          20.23,
          20.07,
          19.91,
          19.74,
          19.56,
          19.42,
          19.24,
          19.07,
          18.92,
          18.76,
          18.6,
          18.44,
          18.26,
          18.11,
          17.91,
          17.78,
          17.6,
          17.44,
          17.26,
          17.11,
          16.95,
          16.77,
          16.62,
          16.45,
          16.29,
          16.12,
          15.96,
          15.8,
          15.64,
          15.48,
          15.31,
          15.15,
          14.99,
          14.84,
          14.67,
          14.4,
          14.36,
          14.19,
          14.06,
          13.9,
          13.75,
          13.61,
          13.45,
          13.32,
          13.16,
          13.04,
          12.9,
          12.77,
          12.63,
          12.5,
          12.37,
          12.24,
          12.13,
          12,
          11.88,
          11.77,
          11.67,
          11.54,
          11.45,
          11.33,
          11.24,
          11.15,
          11.05,
          10.97,
          10.89,
          10.8,
          10.73,
          10.67,
          10.59,
          10.54,
          10.48,
          10.41
         ],
         "yaxis": "y2"
        }
       ],
       "layout": {
        "legend": {
         "bgcolor": "#F5F6F9",
         "font": {
          "color": "#4D5663"
         }
        },
        "paper_bgcolor": "#F5F6F9",
        "plot_bgcolor": "#F5F6F9",
        "template": {
         "data": {
          "bar": [
           {
            "error_x": {
             "color": "#2a3f5f"
            },
            "error_y": {
             "color": "#2a3f5f"
            },
            "marker": {
             "line": {
              "color": "#E5ECF6",
              "width": 0.5
             }
            },
            "type": "bar"
           }
          ],
          "barpolar": [
           {
            "marker": {
             "line": {
              "color": "#E5ECF6",
              "width": 0.5
             }
            },
            "type": "barpolar"
           }
          ],
          "carpet": [
           {
            "aaxis": {
             "endlinecolor": "#2a3f5f",
             "gridcolor": "white",
             "linecolor": "white",
             "minorgridcolor": "white",
             "startlinecolor": "#2a3f5f"
            },
            "baxis": {
             "endlinecolor": "#2a3f5f",
             "gridcolor": "white",
             "linecolor": "white",
             "minorgridcolor": "white",
             "startlinecolor": "#2a3f5f"
            },
            "type": "carpet"
           }
          ],
          "choropleth": [
           {
            "colorbar": {
             "outlinewidth": 0,
             "ticks": ""
            },
            "type": "choropleth"
           }
          ],
          "contour": [
           {
            "colorbar": {
             "outlinewidth": 0,
             "ticks": ""
            },
            "colorscale": [
             [
              0,
              "#0d0887"
             ],
             [
              0.1111111111111111,
              "#46039f"
             ],
             [
              0.2222222222222222,
              "#7201a8"
             ],
             [
              0.3333333333333333,
              "#9c179e"
             ],
             [
              0.4444444444444444,
              "#bd3786"
             ],
             [
              0.5555555555555556,
              "#d8576b"
             ],
             [
              0.6666666666666666,
              "#ed7953"
             ],
             [
              0.7777777777777778,
              "#fb9f3a"
             ],
             [
              0.8888888888888888,
              "#fdca26"
             ],
             [
              1,
              "#f0f921"
             ]
            ],
            "type": "contour"
           }
          ],
          "contourcarpet": [
           {
            "colorbar": {
             "outlinewidth": 0,
             "ticks": ""
            },
            "type": "contourcarpet"
           }
          ],
          "heatmap": [
           {
            "colorbar": {
             "outlinewidth": 0,
             "ticks": ""
            },
            "colorscale": [
             [
              0,
              "#0d0887"
             ],
             [
              0.1111111111111111,
              "#46039f"
             ],
             [
              0.2222222222222222,
              "#7201a8"
             ],
             [
              0.3333333333333333,
              "#9c179e"
             ],
             [
              0.4444444444444444,
              "#bd3786"
             ],
             [
              0.5555555555555556,
              "#d8576b"
             ],
             [
              0.6666666666666666,
              "#ed7953"
             ],
             [
              0.7777777777777778,
              "#fb9f3a"
             ],
             [
              0.8888888888888888,
              "#fdca26"
             ],
             [
              1,
              "#f0f921"
             ]
            ],
            "type": "heatmap"
           }
          ],
          "heatmapgl": [
           {
            "colorbar": {
             "outlinewidth": 0,
             "ticks": ""
            },
            "colorscale": [
             [
              0,
              "#0d0887"
             ],
             [
              0.1111111111111111,
              "#46039f"
             ],
             [
              0.2222222222222222,
              "#7201a8"
             ],
             [
              0.3333333333333333,
              "#9c179e"
             ],
             [
              0.4444444444444444,
              "#bd3786"
             ],
             [
              0.5555555555555556,
              "#d8576b"
             ],
             [
              0.6666666666666666,
              "#ed7953"
             ],
             [
              0.7777777777777778,
              "#fb9f3a"
             ],
             [
              0.8888888888888888,
              "#fdca26"
             ],
             [
              1,
              "#f0f921"
             ]
            ],
            "type": "heatmapgl"
           }
          ],
          "histogram": [
           {
            "marker": {
             "colorbar": {
              "outlinewidth": 0,
              "ticks": ""
             }
            },
            "type": "histogram"
           }
          ],
          "histogram2d": [
           {
            "colorbar": {
             "outlinewidth": 0,
             "ticks": ""
            },
            "colorscale": [
             [
              0,
              "#0d0887"
             ],
             [
              0.1111111111111111,
              "#46039f"
             ],
             [
              0.2222222222222222,
              "#7201a8"
             ],
             [
              0.3333333333333333,
              "#9c179e"
             ],
             [
              0.4444444444444444,
              "#bd3786"
             ],
             [
              0.5555555555555556,
              "#d8576b"
             ],
             [
              0.6666666666666666,
              "#ed7953"
             ],
             [
              0.7777777777777778,
              "#fb9f3a"
             ],
             [
              0.8888888888888888,
              "#fdca26"
             ],
             [
              1,
              "#f0f921"
             ]
            ],
            "type": "histogram2d"
           }
          ],
          "histogram2dcontour": [
           {
            "colorbar": {
             "outlinewidth": 0,
             "ticks": ""
            },
            "colorscale": [
             [
              0,
              "#0d0887"
             ],
             [
              0.1111111111111111,
              "#46039f"
             ],
             [
              0.2222222222222222,
              "#7201a8"
             ],
             [
              0.3333333333333333,
              "#9c179e"
             ],
             [
              0.4444444444444444,
              "#bd3786"
             ],
             [
              0.5555555555555556,
              "#d8576b"
             ],
             [
              0.6666666666666666,
              "#ed7953"
             ],
             [
              0.7777777777777778,
              "#fb9f3a"
             ],
             [
              0.8888888888888888,
              "#fdca26"
             ],
             [
              1,
              "#f0f921"
             ]
            ],
            "type": "histogram2dcontour"
           }
          ],
          "mesh3d": [
           {
            "colorbar": {
             "outlinewidth": 0,
             "ticks": ""
            },
            "type": "mesh3d"
           }
          ],
          "parcoords": [
           {
            "line": {
             "colorbar": {
              "outlinewidth": 0,
              "ticks": ""
             }
            },
            "type": "parcoords"
           }
          ],
          "pie": [
           {
            "automargin": true,
            "type": "pie"
           }
          ],
          "scatter": [
           {
            "marker": {
             "colorbar": {
              "outlinewidth": 0,
              "ticks": ""
             }
            },
            "type": "scatter"
           }
          ],
          "scatter3d": [
           {
            "line": {
             "colorbar": {
              "outlinewidth": 0,
              "ticks": ""
             }
            },
            "marker": {
             "colorbar": {
              "outlinewidth": 0,
              "ticks": ""
             }
            },
            "type": "scatter3d"
           }
          ],
          "scattercarpet": [
           {
            "marker": {
             "colorbar": {
              "outlinewidth": 0,
              "ticks": ""
             }
            },
            "type": "scattercarpet"
           }
          ],
          "scattergeo": [
           {
            "marker": {
             "colorbar": {
              "outlinewidth": 0,
              "ticks": ""
             }
            },
            "type": "scattergeo"
           }
          ],
          "scattergl": [
           {
            "marker": {
             "colorbar": {
              "outlinewidth": 0,
              "ticks": ""
             }
            },
            "type": "scattergl"
           }
          ],
          "scattermapbox": [
           {
            "marker": {
             "colorbar": {
              "outlinewidth": 0,
              "ticks": ""
             }
            },
            "type": "scattermapbox"
           }
          ],
          "scatterpolar": [
           {
            "marker": {
             "colorbar": {
              "outlinewidth": 0,
              "ticks": ""
             }
            },
            "type": "scatterpolar"
           }
          ],
          "scatterpolargl": [
           {
            "marker": {
             "colorbar": {
              "outlinewidth": 0,
              "ticks": ""
             }
            },
            "type": "scatterpolargl"
           }
          ],
          "scatterternary": [
           {
            "marker": {
             "colorbar": {
              "outlinewidth": 0,
              "ticks": ""
             }
            },
            "type": "scatterternary"
           }
          ],
          "surface": [
           {
            "colorbar": {
             "outlinewidth": 0,
             "ticks": ""
            },
            "colorscale": [
             [
              0,
              "#0d0887"
             ],
             [
              0.1111111111111111,
              "#46039f"
             ],
             [
              0.2222222222222222,
              "#7201a8"
             ],
             [
              0.3333333333333333,
              "#9c179e"
             ],
             [
              0.4444444444444444,
              "#bd3786"
             ],
             [
              0.5555555555555556,
              "#d8576b"
             ],
             [
              0.6666666666666666,
              "#ed7953"
             ],
             [
              0.7777777777777778,
              "#fb9f3a"
             ],
             [
              0.8888888888888888,
              "#fdca26"
             ],
             [
              1,
              "#f0f921"
             ]
            ],
            "type": "surface"
           }
          ],
          "table": [
           {
            "cells": {
             "fill": {
              "color": "#EBF0F8"
             },
             "line": {
              "color": "white"
             }
            },
            "header": {
             "fill": {
              "color": "#C8D4E3"
             },
             "line": {
              "color": "white"
             }
            },
            "type": "table"
           }
          ]
         },
         "layout": {
          "annotationdefaults": {
           "arrowcolor": "#2a3f5f",
           "arrowhead": 0,
           "arrowwidth": 1
          },
          "coloraxis": {
           "colorbar": {
            "outlinewidth": 0,
            "ticks": ""
           }
          },
          "colorscale": {
           "diverging": [
            [
             0,
             "#8e0152"
            ],
            [
             0.1,
             "#c51b7d"
            ],
            [
             0.2,
             "#de77ae"
            ],
            [
             0.3,
             "#f1b6da"
            ],
            [
             0.4,
             "#fde0ef"
            ],
            [
             0.5,
             "#f7f7f7"
            ],
            [
             0.6,
             "#e6f5d0"
            ],
            [
             0.7,
             "#b8e186"
            ],
            [
             0.8,
             "#7fbc41"
            ],
            [
             0.9,
             "#4d9221"
            ],
            [
             1,
             "#276419"
            ]
           ],
           "sequential": [
            [
             0,
             "#0d0887"
            ],
            [
             0.1111111111111111,
             "#46039f"
            ],
            [
             0.2222222222222222,
             "#7201a8"
            ],
            [
             0.3333333333333333,
             "#9c179e"
            ],
            [
             0.4444444444444444,
             "#bd3786"
            ],
            [
             0.5555555555555556,
             "#d8576b"
            ],
            [
             0.6666666666666666,
             "#ed7953"
            ],
            [
             0.7777777777777778,
             "#fb9f3a"
            ],
            [
             0.8888888888888888,
             "#fdca26"
            ],
            [
             1,
             "#f0f921"
            ]
           ],
           "sequentialminus": [
            [
             0,
             "#0d0887"
            ],
            [
             0.1111111111111111,
             "#46039f"
            ],
            [
             0.2222222222222222,
             "#7201a8"
            ],
            [
             0.3333333333333333,
             "#9c179e"
            ],
            [
             0.4444444444444444,
             "#bd3786"
            ],
            [
             0.5555555555555556,
             "#d8576b"
            ],
            [
             0.6666666666666666,
             "#ed7953"
            ],
            [
             0.7777777777777778,
             "#fb9f3a"
            ],
            [
             0.8888888888888888,
             "#fdca26"
            ],
            [
             1,
             "#f0f921"
            ]
           ]
          },
          "colorway": [
           "#636efa",
           "#EF553B",
           "#00cc96",
           "#ab63fa",
           "#FFA15A",
           "#19d3f3",
           "#FF6692",
           "#B6E880",
           "#FF97FF",
           "#FECB52"
          ],
          "font": {
           "color": "#2a3f5f"
          },
          "geo": {
           "bgcolor": "white",
           "lakecolor": "white",
           "landcolor": "#E5ECF6",
           "showlakes": true,
           "showland": true,
           "subunitcolor": "white"
          },
          "hoverlabel": {
           "align": "left"
          },
          "hovermode": "closest",
          "mapbox": {
           "style": "light"
          },
          "paper_bgcolor": "white",
          "plot_bgcolor": "#E5ECF6",
          "polar": {
           "angularaxis": {
            "gridcolor": "white",
            "linecolor": "white",
            "ticks": ""
           },
           "bgcolor": "#E5ECF6",
           "radialaxis": {
            "gridcolor": "white",
            "linecolor": "white",
            "ticks": ""
           }
          },
          "scene": {
           "xaxis": {
            "backgroundcolor": "#E5ECF6",
            "gridcolor": "white",
            "gridwidth": 2,
            "linecolor": "white",
            "showbackground": true,
            "ticks": "",
            "zerolinecolor": "white"
           },
           "yaxis": {
            "backgroundcolor": "#E5ECF6",
            "gridcolor": "white",
            "gridwidth": 2,
            "linecolor": "white",
            "showbackground": true,
            "ticks": "",
            "zerolinecolor": "white"
           },
           "zaxis": {
            "backgroundcolor": "#E5ECF6",
            "gridcolor": "white",
            "gridwidth": 2,
            "linecolor": "white",
            "showbackground": true,
            "ticks": "",
            "zerolinecolor": "white"
           }
          },
          "shapedefaults": {
           "line": {
            "color": "#2a3f5f"
           }
          },
          "ternary": {
           "aaxis": {
            "gridcolor": "white",
            "linecolor": "white",
            "ticks": ""
           },
           "baxis": {
            "gridcolor": "white",
            "linecolor": "white",
            "ticks": ""
           },
           "bgcolor": "#E5ECF6",
           "caxis": {
            "gridcolor": "white",
            "linecolor": "white",
            "ticks": ""
           }
          },
          "title": {
           "x": 0.05
          },
          "xaxis": {
           "automargin": true,
           "gridcolor": "white",
           "linecolor": "white",
           "ticks": "",
           "title": {
            "standoff": 15
           },
           "zerolinecolor": "white",
           "zerolinewidth": 2
          },
          "yaxis": {
           "automargin": true,
           "gridcolor": "white",
           "linecolor": "white",
           "ticks": "",
           "title": {
            "standoff": 15
           },
           "zerolinecolor": "white",
           "zerolinewidth": 2
          }
         }
        },
        "title": {
         "font": {
          "color": "#4D5663"
         }
        },
        "xaxis": {
         "anchor": "y",
         "domain": [
          0,
          0.45
         ],
         "gridcolor": "#E1E5ED",
         "showgrid": true,
         "tickfont": {
          "color": "#4D5663"
         },
         "title": {
          "font": {
           "color": "#4D5663"
          },
          "text": ""
         },
         "zerolinecolor": "#E1E5ED"
        },
        "xaxis2": {
         "anchor": "y2",
         "domain": [
          0.55,
          1
         ],
         "gridcolor": "#E1E5ED",
         "showgrid": true,
         "tickfont": {
          "color": "#4D5663"
         },
         "title": {
          "font": {
           "color": "#4D5663"
          },
          "text": ""
         },
         "zerolinecolor": "#E1E5ED"
        },
        "yaxis": {
         "anchor": "x",
         "domain": [
          0,
          1
         ],
         "gridcolor": "#E1E5ED",
         "showgrid": true,
         "tickfont": {
          "color": "#4D5663"
         },
         "title": {
          "font": {
           "color": "#4D5663"
          },
          "text": ""
         },
         "zerolinecolor": "#E1E5ED"
        },
        "yaxis2": {
         "anchor": "x2",
         "domain": [
          0,
          1
         ],
         "gridcolor": "#E1E5ED",
         "showgrid": true,
         "tickfont": {
          "color": "#4D5663"
         },
         "title": {
          "font": {
           "color": "#4D5663"
          },
          "text": ""
         },
         "zerolinecolor": "#E1E5ED"
        }
       }
      },
      "text/html": [
       "<div>\n",
       "        \n",
       "        \n",
       "            <div id=\"ab526a90-c49a-4dae-bc76-0f5e2f341626\" class=\"plotly-graph-div\" style=\"height:525px; width:100%;\"></div>\n",
       "            <script type=\"text/javascript\">\n",
       "                require([\"plotly\"], function(Plotly) {\n",
       "                    window.PLOTLYENV=window.PLOTLYENV || {};\n",
       "                    window.PLOTLYENV.BASE_URL='https://plot.ly';\n",
       "                    \n",
       "                if (document.getElementById(\"ab526a90-c49a-4dae-bc76-0f5e2f341626\")) {\n",
       "                    Plotly.newPlot(\n",
       "                        'ab526a90-c49a-4dae-bc76-0f5e2f341626',\n",
       "                        [{\"line\": {\"color\": \"rgba(255, 153, 51, 1.0)\", \"dash\": \"solid\", \"shape\": \"linear\", \"width\": 1.3}, \"marker\": {\"size\": 6, \"symbol\": \"circle\"}, \"mode\": \"lines+markers\", \"name\": \"CF_CLOSE\", \"text\": \"\", \"type\": \"scatter\", \"x\": [11350.0, 11400.0, 11450.0, 11500.0, 11550.0, 11600.0, 11650.0, 11700.0, 11750.0, 11800.0, 11850.0, 11900.0, 11950.0, 12000.0, 12050.0, 12100.0, 12150.0, 12200.0, 12250.0, 12300.0, 12350.0, 12400.0, 12450.0, 12500.0, 12550.0, 12600.0, 12650.0, 12700.0, 12750.0, 12800.0, 12850.0, 12900.0, 12950.0, 13000.0, 13050.0, 13100.0, 13150.0, 13200.0, 13250.0, 13300.0, 13350.0, 13400.0, 13450.0, 13500.0, 13550.0, 13600.0, 13650.0, 13700.0, 13750.0, 13800.0, 13850.0, 13900.0, 13950.0, 14000.0, 14050.0, 14100.0, 14150.0, 14200.0, 14250.0, 14300.0, 14350.0, 14400.0, 14450.0, 14500.0, 14550.0, 14600.0, 14650.0, 14700.0, 14750.0, 14800.0, 14850.0, 14900.0, 14950.0, 15000.0], \"xaxis\": \"x\", \"y\": [2087.2, 2041.8, 1996.3, 1951.1, 1906.1, 1861.2, 1816.6, 1772.1, 1727.9, 1683.9, 1640.3, 1596.7, 1553.6, 1510.6, 1467.9, 1425.6, 1383.4, 1341.6, 1300.0, 1259.0, 1218.2, 1177.8, 1137.8, 1098.2, 1059.0, 1020.2, 982.0, 944.1, 906.6, 869.7, 833.5, 797.6, 762.4, 727.9, 693.9, 660.6, 627.9, 596.1, 564.9, 534.5, 505.2, 476.4, 448.6, 421.5, 395.6, 370.4, 345.9, 322.5, 299.9, 278.2, 257.6, 238.0, 219.4, 201.5, 184.7, 168.8, 154.1, 140.3, 127.1, 115.3, 103.9, 93.7, 84.0, 75.2, 67.0, 59.7, 52.9, 47.0, 41.5, 36.7, 32.2, 28.5, 25.1, 22.0], \"yaxis\": \"y\"}, {\"line\": {\"color\": \"rgba(55, 128, 191, 1.0)\", \"dash\": \"solid\", \"shape\": \"linear\", \"width\": 1.3}, \"marker\": {\"size\": 6, \"symbol\": \"circle\"}, \"mode\": \"lines+markers\", \"name\": \"IMP_VOLT\", \"text\": \"\", \"type\": \"scatter\", \"x\": [11350.0, 11400.0, 11450.0, 11500.0, 11550.0, 11600.0, 11650.0, 11700.0, 11750.0, 11800.0, 11850.0, 11900.0, 11950.0, 12000.0, 12050.0, 12100.0, 12150.0, 12200.0, 12250.0, 12300.0, 12350.0, 12400.0, 12450.0, 12500.0, 12550.0, 12600.0, 12650.0, 12700.0, 12750.0, 12800.0, 12850.0, 12900.0, 12950.0, 13000.0, 13050.0, 13100.0, 13150.0, 13200.0, 13250.0, 13300.0, 13350.0, 13400.0, 13450.0, 13500.0, 13550.0, 13600.0, 13650.0, 13700.0, 13750.0, 13800.0, 13850.0, 13900.0, 13950.0, 14000.0, 14050.0, 14100.0, 14150.0, 14200.0, 14250.0, 14300.0, 14350.0, 14400.0, 14450.0, 14500.0, 14550.0, 14600.0, 14650.0, 14700.0, 14750.0, 14800.0, 14850.0, 14900.0, 14950.0, 15000.0], \"xaxis\": \"x2\", \"y\": [20.56, 20.37, 20.23, 20.07, 19.91, 19.74, 19.56, 19.42, 19.24, 19.07, 18.92, 18.76, 18.6, 18.44, 18.26, 18.11, 17.91, 17.78, 17.6, 17.44, 17.26, 17.11, 16.95, 16.77, 16.62, 16.45, 16.29, 16.12, 15.96, 15.8, 15.64, 15.48, 15.31, 15.15, 14.99, 14.84, 14.67, 14.4, 14.36, 14.19, 14.06, 13.9, 13.75, 13.61, 13.45, 13.32, 13.16, 13.04, 12.9, 12.77, 12.63, 12.5, 12.37, 12.24, 12.13, 12.0, 11.88, 11.77, 11.67, 11.54, 11.45, 11.33, 11.24, 11.15, 11.05, 10.97, 10.89, 10.8, 10.73, 10.67, 10.59, 10.54, 10.48, 10.41], \"yaxis\": \"y2\"}],\n",
       "                        {\"legend\": {\"bgcolor\": \"#F5F6F9\", \"font\": {\"color\": \"#4D5663\"}}, \"paper_bgcolor\": \"#F5F6F9\", \"plot_bgcolor\": \"#F5F6F9\", \"template\": {\"data\": {\"bar\": [{\"error_x\": {\"color\": \"#2a3f5f\"}, \"error_y\": {\"color\": \"#2a3f5f\"}, \"marker\": {\"line\": {\"color\": \"#E5ECF6\", \"width\": 0.5}}, \"type\": \"bar\"}], \"barpolar\": [{\"marker\": {\"line\": {\"color\": \"#E5ECF6\", \"width\": 0.5}}, \"type\": \"barpolar\"}], \"carpet\": [{\"aaxis\": {\"endlinecolor\": \"#2a3f5f\", \"gridcolor\": \"white\", \"linecolor\": \"white\", \"minorgridcolor\": \"white\", \"startlinecolor\": \"#2a3f5f\"}, \"baxis\": {\"endlinecolor\": \"#2a3f5f\", \"gridcolor\": \"white\", \"linecolor\": \"white\", \"minorgridcolor\": \"white\", \"startlinecolor\": \"#2a3f5f\"}, \"type\": \"carpet\"}], \"choropleth\": [{\"colorbar\": {\"outlinewidth\": 0, \"ticks\": \"\"}, \"type\": \"choropleth\"}], \"contour\": [{\"colorbar\": {\"outlinewidth\": 0, \"ticks\": \"\"}, \"colorscale\": [[0.0, \"#0d0887\"], [0.1111111111111111, \"#46039f\"], [0.2222222222222222, \"#7201a8\"], [0.3333333333333333, \"#9c179e\"], [0.4444444444444444, \"#bd3786\"], [0.5555555555555556, \"#d8576b\"], [0.6666666666666666, \"#ed7953\"], [0.7777777777777778, \"#fb9f3a\"], [0.8888888888888888, \"#fdca26\"], [1.0, \"#f0f921\"]], \"type\": \"contour\"}], \"contourcarpet\": [{\"colorbar\": {\"outlinewidth\": 0, \"ticks\": \"\"}, \"type\": \"contourcarpet\"}], \"heatmap\": [{\"colorbar\": {\"outlinewidth\": 0, \"ticks\": \"\"}, \"colorscale\": [[0.0, \"#0d0887\"], [0.1111111111111111, \"#46039f\"], [0.2222222222222222, \"#7201a8\"], [0.3333333333333333, \"#9c179e\"], [0.4444444444444444, \"#bd3786\"], [0.5555555555555556, \"#d8576b\"], [0.6666666666666666, \"#ed7953\"], [0.7777777777777778, \"#fb9f3a\"], [0.8888888888888888, \"#fdca26\"], [1.0, \"#f0f921\"]], \"type\": \"heatmap\"}], \"heatmapgl\": [{\"colorbar\": {\"outlinewidth\": 0, \"ticks\": \"\"}, \"colorscale\": [[0.0, \"#0d0887\"], [0.1111111111111111, \"#46039f\"], [0.2222222222222222, \"#7201a8\"], [0.3333333333333333, \"#9c179e\"], [0.4444444444444444, \"#bd3786\"], [0.5555555555555556, \"#d8576b\"], [0.6666666666666666, \"#ed7953\"], [0.7777777777777778, \"#fb9f3a\"], [0.8888888888888888, \"#fdca26\"], [1.0, \"#f0f921\"]], \"type\": \"heatmapgl\"}], \"histogram\": [{\"marker\": {\"colorbar\": {\"outlinewidth\": 0, \"ticks\": \"\"}}, \"type\": \"histogram\"}], \"histogram2d\": [{\"colorbar\": {\"outlinewidth\": 0, \"ticks\": \"\"}, \"colorscale\": [[0.0, \"#0d0887\"], [0.1111111111111111, \"#46039f\"], [0.2222222222222222, \"#7201a8\"], [0.3333333333333333, \"#9c179e\"], [0.4444444444444444, \"#bd3786\"], [0.5555555555555556, \"#d8576b\"], [0.6666666666666666, \"#ed7953\"], [0.7777777777777778, \"#fb9f3a\"], [0.8888888888888888, \"#fdca26\"], [1.0, \"#f0f921\"]], \"type\": \"histogram2d\"}], \"histogram2dcontour\": [{\"colorbar\": {\"outlinewidth\": 0, \"ticks\": \"\"}, \"colorscale\": [[0.0, \"#0d0887\"], [0.1111111111111111, \"#46039f\"], [0.2222222222222222, \"#7201a8\"], [0.3333333333333333, \"#9c179e\"], [0.4444444444444444, \"#bd3786\"], [0.5555555555555556, \"#d8576b\"], [0.6666666666666666, \"#ed7953\"], [0.7777777777777778, \"#fb9f3a\"], [0.8888888888888888, \"#fdca26\"], [1.0, \"#f0f921\"]], \"type\": \"histogram2dcontour\"}], \"mesh3d\": [{\"colorbar\": {\"outlinewidth\": 0, \"ticks\": \"\"}, \"type\": \"mesh3d\"}], \"parcoords\": [{\"line\": {\"colorbar\": {\"outlinewidth\": 0, \"ticks\": \"\"}}, \"type\": \"parcoords\"}], \"pie\": [{\"automargin\": true, \"type\": \"pie\"}], \"scatter\": [{\"marker\": {\"colorbar\": {\"outlinewidth\": 0, \"ticks\": \"\"}}, \"type\": \"scatter\"}], \"scatter3d\": [{\"line\": {\"colorbar\": {\"outlinewidth\": 0, \"ticks\": \"\"}}, \"marker\": {\"colorbar\": {\"outlinewidth\": 0, \"ticks\": \"\"}}, \"type\": \"scatter3d\"}], \"scattercarpet\": [{\"marker\": {\"colorbar\": {\"outlinewidth\": 0, \"ticks\": \"\"}}, \"type\": \"scattercarpet\"}], \"scattergeo\": [{\"marker\": {\"colorbar\": {\"outlinewidth\": 0, \"ticks\": \"\"}}, \"type\": \"scattergeo\"}], \"scattergl\": [{\"marker\": {\"colorbar\": {\"outlinewidth\": 0, \"ticks\": \"\"}}, \"type\": \"scattergl\"}], \"scattermapbox\": [{\"marker\": {\"colorbar\": {\"outlinewidth\": 0, \"ticks\": \"\"}}, \"type\": \"scattermapbox\"}], \"scatterpolar\": [{\"marker\": {\"colorbar\": {\"outlinewidth\": 0, \"ticks\": \"\"}}, \"type\": \"scatterpolar\"}], \"scatterpolargl\": [{\"marker\": {\"colorbar\": {\"outlinewidth\": 0, \"ticks\": \"\"}}, \"type\": \"scatterpolargl\"}], \"scatterternary\": [{\"marker\": {\"colorbar\": {\"outlinewidth\": 0, \"ticks\": \"\"}}, \"type\": \"scatterternary\"}], \"surface\": [{\"colorbar\": {\"outlinewidth\": 0, \"ticks\": \"\"}, \"colorscale\": [[0.0, \"#0d0887\"], [0.1111111111111111, \"#46039f\"], [0.2222222222222222, \"#7201a8\"], [0.3333333333333333, \"#9c179e\"], [0.4444444444444444, \"#bd3786\"], [0.5555555555555556, \"#d8576b\"], [0.6666666666666666, \"#ed7953\"], [0.7777777777777778, \"#fb9f3a\"], [0.8888888888888888, \"#fdca26\"], [1.0, \"#f0f921\"]], \"type\": \"surface\"}], \"table\": [{\"cells\": {\"fill\": {\"color\": \"#EBF0F8\"}, \"line\": {\"color\": \"white\"}}, \"header\": {\"fill\": {\"color\": \"#C8D4E3\"}, \"line\": {\"color\": \"white\"}}, \"type\": \"table\"}]}, \"layout\": {\"annotationdefaults\": {\"arrowcolor\": \"#2a3f5f\", \"arrowhead\": 0, \"arrowwidth\": 1}, \"coloraxis\": {\"colorbar\": {\"outlinewidth\": 0, \"ticks\": \"\"}}, \"colorscale\": {\"diverging\": [[0, \"#8e0152\"], [0.1, \"#c51b7d\"], [0.2, \"#de77ae\"], [0.3, \"#f1b6da\"], [0.4, \"#fde0ef\"], [0.5, \"#f7f7f7\"], [0.6, \"#e6f5d0\"], [0.7, \"#b8e186\"], [0.8, \"#7fbc41\"], [0.9, \"#4d9221\"], [1, \"#276419\"]], \"sequential\": [[0.0, \"#0d0887\"], [0.1111111111111111, \"#46039f\"], [0.2222222222222222, \"#7201a8\"], [0.3333333333333333, \"#9c179e\"], [0.4444444444444444, \"#bd3786\"], [0.5555555555555556, \"#d8576b\"], [0.6666666666666666, \"#ed7953\"], [0.7777777777777778, \"#fb9f3a\"], [0.8888888888888888, \"#fdca26\"], [1.0, \"#f0f921\"]], \"sequentialminus\": [[0.0, \"#0d0887\"], [0.1111111111111111, \"#46039f\"], [0.2222222222222222, \"#7201a8\"], [0.3333333333333333, \"#9c179e\"], [0.4444444444444444, \"#bd3786\"], [0.5555555555555556, \"#d8576b\"], [0.6666666666666666, \"#ed7953\"], [0.7777777777777778, \"#fb9f3a\"], [0.8888888888888888, \"#fdca26\"], [1.0, \"#f0f921\"]]}, \"colorway\": [\"#636efa\", \"#EF553B\", \"#00cc96\", \"#ab63fa\", \"#FFA15A\", \"#19d3f3\", \"#FF6692\", \"#B6E880\", \"#FF97FF\", \"#FECB52\"], \"font\": {\"color\": \"#2a3f5f\"}, \"geo\": {\"bgcolor\": \"white\", \"lakecolor\": \"white\", \"landcolor\": \"#E5ECF6\", \"showlakes\": true, \"showland\": true, \"subunitcolor\": \"white\"}, \"hoverlabel\": {\"align\": \"left\"}, \"hovermode\": \"closest\", \"mapbox\": {\"style\": \"light\"}, \"paper_bgcolor\": \"white\", \"plot_bgcolor\": \"#E5ECF6\", \"polar\": {\"angularaxis\": {\"gridcolor\": \"white\", \"linecolor\": \"white\", \"ticks\": \"\"}, \"bgcolor\": \"#E5ECF6\", \"radialaxis\": {\"gridcolor\": \"white\", \"linecolor\": \"white\", \"ticks\": \"\"}}, \"scene\": {\"xaxis\": {\"backgroundcolor\": \"#E5ECF6\", \"gridcolor\": \"white\", \"gridwidth\": 2, \"linecolor\": \"white\", \"showbackground\": true, \"ticks\": \"\", \"zerolinecolor\": \"white\"}, \"yaxis\": {\"backgroundcolor\": \"#E5ECF6\", \"gridcolor\": \"white\", \"gridwidth\": 2, \"linecolor\": \"white\", \"showbackground\": true, \"ticks\": \"\", \"zerolinecolor\": \"white\"}, \"zaxis\": {\"backgroundcolor\": \"#E5ECF6\", \"gridcolor\": \"white\", \"gridwidth\": 2, \"linecolor\": \"white\", \"showbackground\": true, \"ticks\": \"\", \"zerolinecolor\": \"white\"}}, \"shapedefaults\": {\"line\": {\"color\": \"#2a3f5f\"}}, \"ternary\": {\"aaxis\": {\"gridcolor\": \"white\", \"linecolor\": \"white\", \"ticks\": \"\"}, \"baxis\": {\"gridcolor\": \"white\", \"linecolor\": \"white\", \"ticks\": \"\"}, \"bgcolor\": \"#E5ECF6\", \"caxis\": {\"gridcolor\": \"white\", \"linecolor\": \"white\", \"ticks\": \"\"}}, \"title\": {\"x\": 0.05}, \"xaxis\": {\"automargin\": true, \"gridcolor\": \"white\", \"linecolor\": \"white\", \"ticks\": \"\", \"title\": {\"standoff\": 15}, \"zerolinecolor\": \"white\", \"zerolinewidth\": 2}, \"yaxis\": {\"automargin\": true, \"gridcolor\": \"white\", \"linecolor\": \"white\", \"ticks\": \"\", \"title\": {\"standoff\": 15}, \"zerolinecolor\": \"white\", \"zerolinewidth\": 2}}}, \"title\": {\"font\": {\"color\": \"#4D5663\"}}, \"xaxis\": {\"anchor\": \"y\", \"domain\": [0.0, 0.45], \"gridcolor\": \"#E1E5ED\", \"showgrid\": true, \"tickfont\": {\"color\": \"#4D5663\"}, \"title\": {\"font\": {\"color\": \"#4D5663\"}, \"text\": \"\"}, \"zerolinecolor\": \"#E1E5ED\"}, \"xaxis2\": {\"anchor\": \"y2\", \"domain\": [0.55, 1.0], \"gridcolor\": \"#E1E5ED\", \"showgrid\": true, \"tickfont\": {\"color\": \"#4D5663\"}, \"title\": {\"font\": {\"color\": \"#4D5663\"}, \"text\": \"\"}, \"zerolinecolor\": \"#E1E5ED\"}, \"yaxis\": {\"anchor\": \"x\", \"domain\": [0.0, 1.0], \"gridcolor\": \"#E1E5ED\", \"showgrid\": true, \"tickfont\": {\"color\": \"#4D5663\"}, \"title\": {\"font\": {\"color\": \"#4D5663\"}, \"text\": \"\"}, \"zerolinecolor\": \"#E1E5ED\"}, \"yaxis2\": {\"anchor\": \"x2\", \"domain\": [0.0, 1.0], \"gridcolor\": \"#E1E5ED\", \"showgrid\": true, \"tickfont\": {\"color\": \"#4D5663\"}, \"title\": {\"font\": {\"color\": \"#4D5663\"}, \"text\": \"\"}, \"zerolinecolor\": \"#E1E5ED\"}},\n",
       "                        {\"showLink\": true, \"linkText\": \"Export to plot.ly\", \"plotlyServerURL\": \"https://plot.ly\", \"responsive\": true}\n",
       "                    ).then(function(){\n",
       "                            \n",
       "var gd = document.getElementById('ab526a90-c49a-4dae-bc76-0f5e2f341626');\n",
       "var x = new MutationObserver(function (mutations, observer) {{\n",
       "        var display = window.getComputedStyle(gd).display;\n",
       "        if (!display || display === 'none') {{\n",
       "            console.log([gd, 'removed!']);\n",
       "            Plotly.purge(gd);\n",
       "            observer.disconnect();\n",
       "        }}\n",
       "}});\n",
       "\n",
       "// Listen for the removal of the full notebook cells\n",
       "var notebookContainer = gd.closest('#notebook-container');\n",
       "if (notebookContainer) {{\n",
       "    x.observe(notebookContainer, {childList: true});\n",
       "}}\n",
       "\n",
       "// Listen for the clearing of the current output cell\n",
       "var outputEl = gd.closest('.output');\n",
       "if (outputEl) {{\n",
       "    x.observe(outputEl, {childList: true});\n",
       "}}\n",
       "\n",
       "                        })\n",
       "                };\n",
       "                });\n",
       "            </script>\n",
       "        </div>"
      ]
     },
     "metadata": {},
     "output_type": "display_data"
    }
   ],
   "source": [
    "calls.set_index('STRIKE_PRC')[['CF_CLOSE', 'IMP_VOLT']].iplot(subplots=True,\n",
    "                                                            mode='lines+markers',\n",
    "                                                            size = 6)"
   ]
  },
  {
   "cell_type": "code",
   "execution_count": 18,
   "metadata": {},
   "outputs": [
    {
     "data": {
      "text/html": [
       "<div>\n",
       "<style scoped>\n",
       "    .dataframe tbody tr th:only-of-type {\n",
       "        vertical-align: middle;\n",
       "    }\n",
       "\n",
       "    .dataframe tbody tr th {\n",
       "        vertical-align: top;\n",
       "    }\n",
       "\n",
       "    .dataframe thead th {\n",
       "        text-align: right;\n",
       "    }\n",
       "</style>\n",
       "<table border=\"1\" class=\"dataframe\">\n",
       "  <thead>\n",
       "    <tr style=\"text-align: right;\">\n",
       "      <th></th>\n",
       "      <th>Instrument</th>\n",
       "      <th>PUTCALLIND</th>\n",
       "      <th>STRIKE_PRC</th>\n",
       "      <th>CF_CLOSE</th>\n",
       "      <th>IMP_VOLT</th>\n",
       "    </tr>\n",
       "  </thead>\n",
       "  <tbody>\n",
       "    <tr>\n",
       "      <th>95</th>\n",
       "      <td>/GDAX113500F0.EX</td>\n",
       "      <td>CALL</td>\n",
       "      <td>11350.0</td>\n",
       "      <td>2087.2</td>\n",
       "      <td>20.56</td>\n",
       "    </tr>\n",
       "    <tr>\n",
       "      <th>97</th>\n",
       "      <td>/GDAX114000F0.EX</td>\n",
       "      <td>CALL</td>\n",
       "      <td>11400.0</td>\n",
       "      <td>2041.8</td>\n",
       "      <td>20.37</td>\n",
       "    </tr>\n",
       "    <tr>\n",
       "      <th>99</th>\n",
       "      <td>/GDAX114500F0.EX</td>\n",
       "      <td>CALL</td>\n",
       "      <td>11450.0</td>\n",
       "      <td>1996.3</td>\n",
       "      <td>20.23</td>\n",
       "    </tr>\n",
       "    <tr>\n",
       "      <th>101</th>\n",
       "      <td>/GDAX115000F0.EX</td>\n",
       "      <td>CALL</td>\n",
       "      <td>11500.0</td>\n",
       "      <td>1951.1</td>\n",
       "      <td>20.07</td>\n",
       "    </tr>\n",
       "    <tr>\n",
       "      <th>103</th>\n",
       "      <td>/GDAX115500F0.EX</td>\n",
       "      <td>CALL</td>\n",
       "      <td>11550.0</td>\n",
       "      <td>1906.1</td>\n",
       "      <td>19.91</td>\n",
       "    </tr>\n",
       "  </tbody>\n",
       "</table>\n",
       "</div>"
      ],
      "text/plain": [
       "           Instrument PUTCALLIND  STRIKE_PRC  CF_CLOSE  IMP_VOLT\n",
       "95   /GDAX113500F0.EX       CALL     11350.0    2087.2     20.56\n",
       "97   /GDAX114000F0.EX       CALL     11400.0    2041.8     20.37\n",
       "99   /GDAX114500F0.EX       CALL     11450.0    1996.3     20.23\n",
       "101  /GDAX115000F0.EX       CALL     11500.0    1951.1     20.07\n",
       "103  /GDAX115500F0.EX       CALL     11550.0    1906.1     19.91"
      ]
     },
     "execution_count": 18,
     "metadata": {},
     "output_type": "execute_result"
    }
   ],
   "source": [
    "calls.head()"
   ]
  },
  {
   "cell_type": "code",
   "execution_count": 19,
   "metadata": {},
   "outputs": [],
   "source": [
    "selectCall = dax.iloc[101]"
   ]
  },
  {
   "cell_type": "code",
   "execution_count": 20,
   "metadata": {},
   "outputs": [
    {
     "data": {
      "text/plain": [
       "Instrument    /GDAX115000F0.EX\n",
       "PUTCALLIND                CALL\n",
       "STRIKE_PRC               11500\n",
       "CF_CLOSE                1951.1\n",
       "IMP_VOLT                 20.07\n",
       "Name: 101, dtype: object"
      ]
     },
     "execution_count": 20,
     "metadata": {},
     "output_type": "execute_result"
    }
   ],
   "source": [
    "selectCall"
   ]
  },
  {
   "cell_type": "code",
   "execution_count": 21,
   "metadata": {},
   "outputs": [],
   "source": [
    "fields = ['PUTCALLIND', 'EXPIR_DATE', 'STRIKE_PRC', 'CF_CLOSE', 'IMP_VOLT']"
   ]
  },
  {
   "cell_type": "code",
   "execution_count": 22,
   "metadata": {},
   "outputs": [],
   "source": [
    "dax = ek.get_data('0#GDAX*.EX', fields=fields)[0]"
   ]
  },
  {
   "cell_type": "code",
   "execution_count": 23,
   "metadata": {},
   "outputs": [
    {
     "data": {
      "text/html": [
       "<div>\n",
       "<style scoped>\n",
       "    .dataframe tbody tr th:only-of-type {\n",
       "        vertical-align: middle;\n",
       "    }\n",
       "\n",
       "    .dataframe tbody tr th {\n",
       "        vertical-align: top;\n",
       "    }\n",
       "\n",
       "    .dataframe thead th {\n",
       "        text-align: right;\n",
       "    }\n",
       "</style>\n",
       "<table border=\"1\" class=\"dataframe\">\n",
       "  <thead>\n",
       "    <tr style=\"text-align: right;\">\n",
       "      <th></th>\n",
       "      <th>Instrument</th>\n",
       "      <th>PUTCALLIND</th>\n",
       "      <th>EXPIR_DATE</th>\n",
       "      <th>STRIKE_PRC</th>\n",
       "      <th>CF_CLOSE</th>\n",
       "      <th>IMP_VOLT</th>\n",
       "    </tr>\n",
       "  </thead>\n",
       "  <tbody>\n",
       "    <tr>\n",
       "      <th>0</th>\n",
       "      <td>/.GDAXI</td>\n",
       "      <td>None</td>\n",
       "      <td>None</td>\n",
       "      <td>NaN</td>\n",
       "      <td>13300.98</td>\n",
       "      <td>NaN</td>\n",
       "    </tr>\n",
       "    <tr>\n",
       "      <th>1</th>\n",
       "      <td>/GDAX96000A0.EX</td>\n",
       "      <td>CALL</td>\n",
       "      <td>2020-01-17</td>\n",
       "      <td>9600.0</td>\n",
       "      <td>3704.30</td>\n",
       "      <td>41.12</td>\n",
       "    </tr>\n",
       "    <tr>\n",
       "      <th>2</th>\n",
       "      <td>/GDAX96000M0.EX</td>\n",
       "      <td>PUT</td>\n",
       "      <td>2020-01-17</td>\n",
       "      <td>9600.0</td>\n",
       "      <td>0.40</td>\n",
       "      <td>40.98</td>\n",
       "    </tr>\n",
       "    <tr>\n",
       "      <th>3</th>\n",
       "      <td>/GDAX98000A0.EX</td>\n",
       "      <td>CALL</td>\n",
       "      <td>2020-01-17</td>\n",
       "      <td>9800.0</td>\n",
       "      <td>3504.20</td>\n",
       "      <td>39.28</td>\n",
       "    </tr>\n",
       "    <tr>\n",
       "      <th>4</th>\n",
       "      <td>/GDAX98000M0.EX</td>\n",
       "      <td>PUT</td>\n",
       "      <td>2020-01-17</td>\n",
       "      <td>9800.0</td>\n",
       "      <td>0.50</td>\n",
       "      <td>40.15</td>\n",
       "    </tr>\n",
       "  </tbody>\n",
       "</table>\n",
       "</div>"
      ],
      "text/plain": [
       "        Instrument PUTCALLIND  EXPIR_DATE  STRIKE_PRC  CF_CLOSE  IMP_VOLT\n",
       "0          /.GDAXI       None        None         NaN  13300.98       NaN\n",
       "1  /GDAX96000A0.EX       CALL  2020-01-17      9600.0   3704.30     41.12\n",
       "2  /GDAX96000M0.EX       PUT   2020-01-17      9600.0      0.40     40.98\n",
       "3  /GDAX98000A0.EX       CALL  2020-01-17      9800.0   3504.20     39.28\n",
       "4  /GDAX98000M0.EX       PUT   2020-01-17      9800.0      0.50     40.15"
      ]
     },
     "execution_count": 23,
     "metadata": {},
     "output_type": "execute_result"
    }
   ],
   "source": [
    "dax.head()"
   ]
  },
  {
   "cell_type": "code",
   "execution_count": 24,
   "metadata": {},
   "outputs": [],
   "source": [
    "puts = dax[dax['PUTCALLIND'] == 'PUT ']\n",
    "calls = dax[dax['PUTCALLIND'] == 'CALL']"
   ]
  },
  {
   "cell_type": "code",
   "execution_count": 25,
   "metadata": {},
   "outputs": [],
   "source": [
    "puts = puts[abs(puts['STRIKE_PRC'] - GDAXI) < limit]\n",
    "calls = calls[abs(calls['STRIKE_PRC'] - GDAXI) < limit]"
   ]
  },
  {
   "cell_type": "code",
   "execution_count": 26,
   "metadata": {},
   "outputs": [
    {
     "name": "stdout",
     "output_type": "stream",
     "text": [
      "<class 'pandas.core.frame.DataFrame'>\n",
      "Int64Index: 548 entries, 34 to 1862\n",
      "Data columns (total 6 columns):\n",
      "Instrument    548 non-null object\n",
      "PUTCALLIND    548 non-null object\n",
      "EXPIR_DATE    548 non-null object\n",
      "STRIKE_PRC    548 non-null float64\n",
      "CF_CLOSE      548 non-null float64\n",
      "IMP_VOLT      533 non-null float64\n",
      "dtypes: float64(3), object(3)\n",
      "memory usage: 30.0+ KB\n"
     ]
    }
   ],
   "source": [
    "puts.info()"
   ]
  },
  {
   "cell_type": "code",
   "execution_count": 27,
   "metadata": {},
   "outputs": [
    {
     "name": "stdout",
     "output_type": "stream",
     "text": [
      "<class 'pandas.core.frame.DataFrame'>\n",
      "Int64Index: 548 entries, 33 to 1861\n",
      "Data columns (total 6 columns):\n",
      "Instrument    548 non-null object\n",
      "PUTCALLIND    548 non-null object\n",
      "EXPIR_DATE    548 non-null object\n",
      "STRIKE_PRC    548 non-null float64\n",
      "CF_CLOSE      548 non-null float64\n",
      "IMP_VOLT      533 non-null float64\n",
      "dtypes: float64(3), object(3)\n",
      "memory usage: 30.0+ KB\n"
     ]
    }
   ],
   "source": [
    "calls.info()"
   ]
  },
  {
   "cell_type": "code",
   "execution_count": 28,
   "metadata": {},
   "outputs": [],
   "source": [
    "exp_dates = sorted(list(set(puts['EXPIR_DATE'])))"
   ]
  },
  {
   "cell_type": "code",
   "execution_count": 29,
   "metadata": {},
   "outputs": [
    {
     "data": {
      "text/plain": [
       "['2020-01-17',\n",
       " '2020-02-21',\n",
       " '2020-03-20',\n",
       " '2020-06-19',\n",
       " '2020-09-18',\n",
       " '2020-12-18',\n",
       " '2021-06-18',\n",
       " '2021-12-17',\n",
       " '2022-06-17',\n",
       " '2022-12-16',\n",
       " '2023-12-15',\n",
       " '2024-12-20']"
      ]
     },
     "execution_count": 29,
     "metadata": {},
     "output_type": "execute_result"
    }
   ],
   "source": [
    "exp_dates"
   ]
  },
  {
   "cell_type": "code",
   "execution_count": 30,
   "metadata": {},
   "outputs": [],
   "source": [
    "exp_dates = exp_dates[0:7:3]"
   ]
  },
  {
   "cell_type": "code",
   "execution_count": 31,
   "metadata": {},
   "outputs": [
    {
     "data": {
      "text/plain": [
       "['2020-01-17', '2020-06-19', '2021-06-18']"
      ]
     },
     "execution_count": 31,
     "metadata": {},
     "output_type": "execute_result"
    }
   ],
   "source": [
    "exp_dates"
   ]
  },
  {
   "cell_type": "code",
   "execution_count": 32,
   "metadata": {},
   "outputs": [
    {
     "name": "stdout",
     "output_type": "stream",
     "text": [
      "Object `to_plot.iplot` not found.\n"
     ]
    }
   ],
   "source": [
    "to_plot.iplot?"
   ]
  },
  {
   "cell_type": "code",
   "execution_count": 33,
   "metadata": {
    "scrolled": false
   },
   "outputs": [
    {
     "data": {
      "application/vnd.plotly.v1+json": {
       "config": {
        "linkText": "Export to plot.ly",
        "plotlyServerURL": "https://plot.ly",
        "showLink": true
       },
       "data": [
        {
         "line": {
          "color": "rgba(255, 153, 51, 1.0)",
          "dash": "solid",
          "shape": "linear",
          "width": 1.3
         },
         "marker": {
          "size": 6,
          "symbol": "circle"
         },
         "mode": "lines+markers",
         "name": "CF_CLOSE",
         "text": "",
         "type": "scatter",
         "x": [
          11400,
          11450,
          11500,
          11550,
          11600,
          11650,
          11700,
          11750,
          11800,
          11850,
          11900,
          11950,
          12000,
          12050,
          12100,
          12150,
          12200,
          12250,
          12300,
          12350,
          12400,
          12450,
          12500,
          12550,
          12600,
          12650,
          12700,
          12750,
          12800,
          12850,
          12900,
          12950,
          13000,
          13050,
          13100,
          13150,
          13200,
          13250,
          13300,
          13350,
          13400,
          13450,
          13500,
          13550,
          13600,
          13650,
          13700,
          13750,
          13800,
          13850,
          13900,
          13950,
          14000,
          14050,
          14100,
          14150,
          14200,
          14250,
          14300,
          14350,
          14400,
          14450,
          14500,
          14550,
          14600,
          14650,
          14700,
          14750,
          14800,
          14850,
          14900,
          14950,
          15000,
          15050,
          15100,
          15150,
          15200,
          15250,
          15300
         ],
         "y": [
          2.8,
          3,
          3.2,
          3.5,
          3.8,
          4.2,
          4.5,
          5,
          5.4,
          5.9,
          6.4,
          7,
          7.6,
          8.2,
          9,
          9.8,
          10.8,
          11.8,
          13,
          14.2,
          15.7,
          17.3,
          19.2,
          21.3,
          23.7,
          26.5,
          29.9,
          33.9,
          38.6,
          43.9,
          50.1,
          57.4,
          65.8,
          75.6,
          87,
          99.9,
          114.9,
          132.2,
          152.2,
          175.1,
          201,
          230.1,
          262,
          297.2,
          335.2,
          375.8,
          418.5,
          462.9,
          508.7,
          555.6,
          603.3,
          651.7,
          700.6,
          749.9,
          799.3,
          849,
          898.7,
          948.6,
          998.5,
          1048.4,
          1098.4,
          1148.3,
          1198.3,
          1248.3,
          1298.3,
          1348.3,
          1398.4,
          1448.4,
          1498.4,
          1548.4,
          1598.4,
          1648.4,
          1698.5,
          1748.5,
          1798.5,
          1848.5,
          1898.5,
          1948.6,
          1998.6
         ]
        },
        {
         "line": {
          "color": "rgba(55, 128, 191, 1.0)",
          "dash": "solid",
          "shape": "linear",
          "width": 1.3
         },
         "marker": {
          "size": 6,
          "symbol": "circle"
         },
         "mode": "lines+markers",
         "name": "IMP_VOLT",
         "text": "",
         "type": "scatter",
         "x": [
          11400,
          11450,
          11500,
          11550,
          11600,
          11650,
          11700,
          11750,
          11800,
          11850,
          11900,
          11950,
          12000,
          12050,
          12100,
          12150,
          12200,
          12250,
          12300,
          12350,
          12400,
          12450,
          12500,
          12550,
          12600,
          12650,
          12700,
          12750,
          12800,
          12850,
          12900,
          12950,
          13000,
          13050,
          13100,
          13150,
          13200,
          13250,
          13300,
          13350,
          13400,
          13450,
          13500,
          13550,
          13600,
          13650,
          13700,
          13750,
          13800,
          13850,
          13900,
          13950,
          14000,
          14050,
          14100,
          14150,
          14200,
          14250,
          14300,
          14350,
          14400,
          14450,
          14500,
          14550,
          14600,
          14650,
          14700,
          14750,
          14800,
          14850,
          14900,
          14950,
          15000,
          15050,
          15100,
          15150,
          15200,
          15250,
          15300
         ],
         "xaxis": "x",
         "y": [
          26.11,
          25.67,
          24.91,
          24.85,
          24.45,
          24.03,
          23.66,
          23.36,
          22.9,
          22.5,
          22.11,
          21.71,
          21.35,
          20.91,
          20.46,
          20.01,
          19.43,
          19.11,
          18.65,
          18.21,
          17.77,
          17.43,
          16.91,
          16.54,
          16.12,
          15.74,
          15.34,
          14.98,
          14.6,
          14.26,
          13.89,
          13.54,
          13.21,
          12.86,
          12.53,
          12.2,
          11.87,
          11.58,
          11.26,
          11.07,
          10.88,
          10.67,
          10.42,
          10.4,
          10.1,
          10.07,
          10.21,
          9.84,
          10.35,
          9.9,
          10.02,
          9.96,
          10.11,
          10.11,
          11.26,
          11.83,
          10.84,
          12.26,
          12.78,
          13.3,
          13.81,
          14.32,
          14.82,
          15.31,
          15.8,
          16.29,
          16.77,
          17.25,
          17.72,
          18.19,
          18.65,
          19.11,
          19.57,
          17.15,
          17.51,
          17.86,
          18.2,
          18.54,
          18.87
         ],
         "yaxis": "y2"
        }
       ],
       "layout": {
        "legend": {
         "bgcolor": "#F5F6F9",
         "font": {
          "color": "#4D5663"
         }
        },
        "paper_bgcolor": "#F5F6F9",
        "plot_bgcolor": "#F5F6F9",
        "template": {
         "data": {
          "bar": [
           {
            "error_x": {
             "color": "#2a3f5f"
            },
            "error_y": {
             "color": "#2a3f5f"
            },
            "marker": {
             "line": {
              "color": "#E5ECF6",
              "width": 0.5
             }
            },
            "type": "bar"
           }
          ],
          "barpolar": [
           {
            "marker": {
             "line": {
              "color": "#E5ECF6",
              "width": 0.5
             }
            },
            "type": "barpolar"
           }
          ],
          "carpet": [
           {
            "aaxis": {
             "endlinecolor": "#2a3f5f",
             "gridcolor": "white",
             "linecolor": "white",
             "minorgridcolor": "white",
             "startlinecolor": "#2a3f5f"
            },
            "baxis": {
             "endlinecolor": "#2a3f5f",
             "gridcolor": "white",
             "linecolor": "white",
             "minorgridcolor": "white",
             "startlinecolor": "#2a3f5f"
            },
            "type": "carpet"
           }
          ],
          "choropleth": [
           {
            "colorbar": {
             "outlinewidth": 0,
             "ticks": ""
            },
            "type": "choropleth"
           }
          ],
          "contour": [
           {
            "colorbar": {
             "outlinewidth": 0,
             "ticks": ""
            },
            "colorscale": [
             [
              0,
              "#0d0887"
             ],
             [
              0.1111111111111111,
              "#46039f"
             ],
             [
              0.2222222222222222,
              "#7201a8"
             ],
             [
              0.3333333333333333,
              "#9c179e"
             ],
             [
              0.4444444444444444,
              "#bd3786"
             ],
             [
              0.5555555555555556,
              "#d8576b"
             ],
             [
              0.6666666666666666,
              "#ed7953"
             ],
             [
              0.7777777777777778,
              "#fb9f3a"
             ],
             [
              0.8888888888888888,
              "#fdca26"
             ],
             [
              1,
              "#f0f921"
             ]
            ],
            "type": "contour"
           }
          ],
          "contourcarpet": [
           {
            "colorbar": {
             "outlinewidth": 0,
             "ticks": ""
            },
            "type": "contourcarpet"
           }
          ],
          "heatmap": [
           {
            "colorbar": {
             "outlinewidth": 0,
             "ticks": ""
            },
            "colorscale": [
             [
              0,
              "#0d0887"
             ],
             [
              0.1111111111111111,
              "#46039f"
             ],
             [
              0.2222222222222222,
              "#7201a8"
             ],
             [
              0.3333333333333333,
              "#9c179e"
             ],
             [
              0.4444444444444444,
              "#bd3786"
             ],
             [
              0.5555555555555556,
              "#d8576b"
             ],
             [
              0.6666666666666666,
              "#ed7953"
             ],
             [
              0.7777777777777778,
              "#fb9f3a"
             ],
             [
              0.8888888888888888,
              "#fdca26"
             ],
             [
              1,
              "#f0f921"
             ]
            ],
            "type": "heatmap"
           }
          ],
          "heatmapgl": [
           {
            "colorbar": {
             "outlinewidth": 0,
             "ticks": ""
            },
            "colorscale": [
             [
              0,
              "#0d0887"
             ],
             [
              0.1111111111111111,
              "#46039f"
             ],
             [
              0.2222222222222222,
              "#7201a8"
             ],
             [
              0.3333333333333333,
              "#9c179e"
             ],
             [
              0.4444444444444444,
              "#bd3786"
             ],
             [
              0.5555555555555556,
              "#d8576b"
             ],
             [
              0.6666666666666666,
              "#ed7953"
             ],
             [
              0.7777777777777778,
              "#fb9f3a"
             ],
             [
              0.8888888888888888,
              "#fdca26"
             ],
             [
              1,
              "#f0f921"
             ]
            ],
            "type": "heatmapgl"
           }
          ],
          "histogram": [
           {
            "marker": {
             "colorbar": {
              "outlinewidth": 0,
              "ticks": ""
             }
            },
            "type": "histogram"
           }
          ],
          "histogram2d": [
           {
            "colorbar": {
             "outlinewidth": 0,
             "ticks": ""
            },
            "colorscale": [
             [
              0,
              "#0d0887"
             ],
             [
              0.1111111111111111,
              "#46039f"
             ],
             [
              0.2222222222222222,
              "#7201a8"
             ],
             [
              0.3333333333333333,
              "#9c179e"
             ],
             [
              0.4444444444444444,
              "#bd3786"
             ],
             [
              0.5555555555555556,
              "#d8576b"
             ],
             [
              0.6666666666666666,
              "#ed7953"
             ],
             [
              0.7777777777777778,
              "#fb9f3a"
             ],
             [
              0.8888888888888888,
              "#fdca26"
             ],
             [
              1,
              "#f0f921"
             ]
            ],
            "type": "histogram2d"
           }
          ],
          "histogram2dcontour": [
           {
            "colorbar": {
             "outlinewidth": 0,
             "ticks": ""
            },
            "colorscale": [
             [
              0,
              "#0d0887"
             ],
             [
              0.1111111111111111,
              "#46039f"
             ],
             [
              0.2222222222222222,
              "#7201a8"
             ],
             [
              0.3333333333333333,
              "#9c179e"
             ],
             [
              0.4444444444444444,
              "#bd3786"
             ],
             [
              0.5555555555555556,
              "#d8576b"
             ],
             [
              0.6666666666666666,
              "#ed7953"
             ],
             [
              0.7777777777777778,
              "#fb9f3a"
             ],
             [
              0.8888888888888888,
              "#fdca26"
             ],
             [
              1,
              "#f0f921"
             ]
            ],
            "type": "histogram2dcontour"
           }
          ],
          "mesh3d": [
           {
            "colorbar": {
             "outlinewidth": 0,
             "ticks": ""
            },
            "type": "mesh3d"
           }
          ],
          "parcoords": [
           {
            "line": {
             "colorbar": {
              "outlinewidth": 0,
              "ticks": ""
             }
            },
            "type": "parcoords"
           }
          ],
          "pie": [
           {
            "automargin": true,
            "type": "pie"
           }
          ],
          "scatter": [
           {
            "marker": {
             "colorbar": {
              "outlinewidth": 0,
              "ticks": ""
             }
            },
            "type": "scatter"
           }
          ],
          "scatter3d": [
           {
            "line": {
             "colorbar": {
              "outlinewidth": 0,
              "ticks": ""
             }
            },
            "marker": {
             "colorbar": {
              "outlinewidth": 0,
              "ticks": ""
             }
            },
            "type": "scatter3d"
           }
          ],
          "scattercarpet": [
           {
            "marker": {
             "colorbar": {
              "outlinewidth": 0,
              "ticks": ""
             }
            },
            "type": "scattercarpet"
           }
          ],
          "scattergeo": [
           {
            "marker": {
             "colorbar": {
              "outlinewidth": 0,
              "ticks": ""
             }
            },
            "type": "scattergeo"
           }
          ],
          "scattergl": [
           {
            "marker": {
             "colorbar": {
              "outlinewidth": 0,
              "ticks": ""
             }
            },
            "type": "scattergl"
           }
          ],
          "scattermapbox": [
           {
            "marker": {
             "colorbar": {
              "outlinewidth": 0,
              "ticks": ""
             }
            },
            "type": "scattermapbox"
           }
          ],
          "scatterpolar": [
           {
            "marker": {
             "colorbar": {
              "outlinewidth": 0,
              "ticks": ""
             }
            },
            "type": "scatterpolar"
           }
          ],
          "scatterpolargl": [
           {
            "marker": {
             "colorbar": {
              "outlinewidth": 0,
              "ticks": ""
             }
            },
            "type": "scatterpolargl"
           }
          ],
          "scatterternary": [
           {
            "marker": {
             "colorbar": {
              "outlinewidth": 0,
              "ticks": ""
             }
            },
            "type": "scatterternary"
           }
          ],
          "surface": [
           {
            "colorbar": {
             "outlinewidth": 0,
             "ticks": ""
            },
            "colorscale": [
             [
              0,
              "#0d0887"
             ],
             [
              0.1111111111111111,
              "#46039f"
             ],
             [
              0.2222222222222222,
              "#7201a8"
             ],
             [
              0.3333333333333333,
              "#9c179e"
             ],
             [
              0.4444444444444444,
              "#bd3786"
             ],
             [
              0.5555555555555556,
              "#d8576b"
             ],
             [
              0.6666666666666666,
              "#ed7953"
             ],
             [
              0.7777777777777778,
              "#fb9f3a"
             ],
             [
              0.8888888888888888,
              "#fdca26"
             ],
             [
              1,
              "#f0f921"
             ]
            ],
            "type": "surface"
           }
          ],
          "table": [
           {
            "cells": {
             "fill": {
              "color": "#EBF0F8"
             },
             "line": {
              "color": "white"
             }
            },
            "header": {
             "fill": {
              "color": "#C8D4E3"
             },
             "line": {
              "color": "white"
             }
            },
            "type": "table"
           }
          ]
         },
         "layout": {
          "annotationdefaults": {
           "arrowcolor": "#2a3f5f",
           "arrowhead": 0,
           "arrowwidth": 1
          },
          "coloraxis": {
           "colorbar": {
            "outlinewidth": 0,
            "ticks": ""
           }
          },
          "colorscale": {
           "diverging": [
            [
             0,
             "#8e0152"
            ],
            [
             0.1,
             "#c51b7d"
            ],
            [
             0.2,
             "#de77ae"
            ],
            [
             0.3,
             "#f1b6da"
            ],
            [
             0.4,
             "#fde0ef"
            ],
            [
             0.5,
             "#f7f7f7"
            ],
            [
             0.6,
             "#e6f5d0"
            ],
            [
             0.7,
             "#b8e186"
            ],
            [
             0.8,
             "#7fbc41"
            ],
            [
             0.9,
             "#4d9221"
            ],
            [
             1,
             "#276419"
            ]
           ],
           "sequential": [
            [
             0,
             "#0d0887"
            ],
            [
             0.1111111111111111,
             "#46039f"
            ],
            [
             0.2222222222222222,
             "#7201a8"
            ],
            [
             0.3333333333333333,
             "#9c179e"
            ],
            [
             0.4444444444444444,
             "#bd3786"
            ],
            [
             0.5555555555555556,
             "#d8576b"
            ],
            [
             0.6666666666666666,
             "#ed7953"
            ],
            [
             0.7777777777777778,
             "#fb9f3a"
            ],
            [
             0.8888888888888888,
             "#fdca26"
            ],
            [
             1,
             "#f0f921"
            ]
           ],
           "sequentialminus": [
            [
             0,
             "#0d0887"
            ],
            [
             0.1111111111111111,
             "#46039f"
            ],
            [
             0.2222222222222222,
             "#7201a8"
            ],
            [
             0.3333333333333333,
             "#9c179e"
            ],
            [
             0.4444444444444444,
             "#bd3786"
            ],
            [
             0.5555555555555556,
             "#d8576b"
            ],
            [
             0.6666666666666666,
             "#ed7953"
            ],
            [
             0.7777777777777778,
             "#fb9f3a"
            ],
            [
             0.8888888888888888,
             "#fdca26"
            ],
            [
             1,
             "#f0f921"
            ]
           ]
          },
          "colorway": [
           "#636efa",
           "#EF553B",
           "#00cc96",
           "#ab63fa",
           "#FFA15A",
           "#19d3f3",
           "#FF6692",
           "#B6E880",
           "#FF97FF",
           "#FECB52"
          ],
          "font": {
           "color": "#2a3f5f"
          },
          "geo": {
           "bgcolor": "white",
           "lakecolor": "white",
           "landcolor": "#E5ECF6",
           "showlakes": true,
           "showland": true,
           "subunitcolor": "white"
          },
          "hoverlabel": {
           "align": "left"
          },
          "hovermode": "closest",
          "mapbox": {
           "style": "light"
          },
          "paper_bgcolor": "white",
          "plot_bgcolor": "#E5ECF6",
          "polar": {
           "angularaxis": {
            "gridcolor": "white",
            "linecolor": "white",
            "ticks": ""
           },
           "bgcolor": "#E5ECF6",
           "radialaxis": {
            "gridcolor": "white",
            "linecolor": "white",
            "ticks": ""
           }
          },
          "scene": {
           "xaxis": {
            "backgroundcolor": "#E5ECF6",
            "gridcolor": "white",
            "gridwidth": 2,
            "linecolor": "white",
            "showbackground": true,
            "ticks": "",
            "zerolinecolor": "white"
           },
           "yaxis": {
            "backgroundcolor": "#E5ECF6",
            "gridcolor": "white",
            "gridwidth": 2,
            "linecolor": "white",
            "showbackground": true,
            "ticks": "",
            "zerolinecolor": "white"
           },
           "zaxis": {
            "backgroundcolor": "#E5ECF6",
            "gridcolor": "white",
            "gridwidth": 2,
            "linecolor": "white",
            "showbackground": true,
            "ticks": "",
            "zerolinecolor": "white"
           }
          },
          "shapedefaults": {
           "line": {
            "color": "#2a3f5f"
           }
          },
          "ternary": {
           "aaxis": {
            "gridcolor": "white",
            "linecolor": "white",
            "ticks": ""
           },
           "baxis": {
            "gridcolor": "white",
            "linecolor": "white",
            "ticks": ""
           },
           "bgcolor": "#E5ECF6",
           "caxis": {
            "gridcolor": "white",
            "linecolor": "white",
            "ticks": ""
           }
          },
          "title": {
           "x": 0.05
          },
          "xaxis": {
           "automargin": true,
           "gridcolor": "white",
           "linecolor": "white",
           "ticks": "",
           "title": {
            "standoff": 15
           },
           "zerolinecolor": "white",
           "zerolinewidth": 2
          },
          "yaxis": {
           "automargin": true,
           "gridcolor": "white",
           "linecolor": "white",
           "ticks": "",
           "title": {
            "standoff": 15
           },
           "zerolinecolor": "white",
           "zerolinewidth": 2
          }
         }
        },
        "title": {
         "font": {
          "color": "#4D5663"
         },
         "text": "2020-01-17"
        },
        "xaxis": {
         "gridcolor": "#E1E5ED",
         "showgrid": true,
         "tickfont": {
          "color": "#4D5663"
         },
         "title": {
          "font": {
           "color": "#4D5663"
          },
          "text": "strike price"
         },
         "zerolinecolor": "#E1E5ED"
        },
        "yaxis": {
         "gridcolor": "#E1E5ED",
         "showgrid": true,
         "tickfont": {
          "color": "#4D5663"
         },
         "title": {
          "font": {
           "color": "#4D5663"
          },
          "text": ""
         },
         "zerolinecolor": "#E1E5ED"
        },
        "yaxis2": {
         "anchor": "x",
         "gridcolor": "#E1E5ED",
         "overlaying": "y",
         "showgrid": true,
         "side": "right",
         "tickfont": {
          "color": "#4D5663"
         },
         "title": {
          "text": ""
         },
         "zerolinecolor": "#E1E5ED"
        }
       }
      },
      "text/html": [
       "<div>\n",
       "        \n",
       "        \n",
       "            <div id=\"9e1414b7-e0a4-4859-be8d-e154c6c22c67\" class=\"plotly-graph-div\" style=\"height:525px; width:100%;\"></div>\n",
       "            <script type=\"text/javascript\">\n",
       "                require([\"plotly\"], function(Plotly) {\n",
       "                    window.PLOTLYENV=window.PLOTLYENV || {};\n",
       "                    window.PLOTLYENV.BASE_URL='https://plot.ly';\n",
       "                    \n",
       "                if (document.getElementById(\"9e1414b7-e0a4-4859-be8d-e154c6c22c67\")) {\n",
       "                    Plotly.newPlot(\n",
       "                        '9e1414b7-e0a4-4859-be8d-e154c6c22c67',\n",
       "                        [{\"line\": {\"color\": \"rgba(255, 153, 51, 1.0)\", \"dash\": \"solid\", \"shape\": \"linear\", \"width\": 1.3}, \"marker\": {\"size\": 6, \"symbol\": \"circle\"}, \"mode\": \"lines+markers\", \"name\": \"CF_CLOSE\", \"text\": \"\", \"type\": \"scatter\", \"x\": [11400.0, 11450.0, 11500.0, 11550.0, 11600.0, 11650.0, 11700.0, 11750.0, 11800.0, 11850.0, 11900.0, 11950.0, 12000.0, 12050.0, 12100.0, 12150.0, 12200.0, 12250.0, 12300.0, 12350.0, 12400.0, 12450.0, 12500.0, 12550.0, 12600.0, 12650.0, 12700.0, 12750.0, 12800.0, 12850.0, 12900.0, 12950.0, 13000.0, 13050.0, 13100.0, 13150.0, 13200.0, 13250.0, 13300.0, 13350.0, 13400.0, 13450.0, 13500.0, 13550.0, 13600.0, 13650.0, 13700.0, 13750.0, 13800.0, 13850.0, 13900.0, 13950.0, 14000.0, 14050.0, 14100.0, 14150.0, 14200.0, 14250.0, 14300.0, 14350.0, 14400.0, 14450.0, 14500.0, 14550.0, 14600.0, 14650.0, 14700.0, 14750.0, 14800.0, 14850.0, 14900.0, 14950.0, 15000.0, 15050.0, 15100.0, 15150.0, 15200.0, 15250.0, 15300.0], \"y\": [2.8, 3.0, 3.2, 3.5, 3.8, 4.2, 4.5, 5.0, 5.4, 5.9, 6.4, 7.0, 7.6, 8.2, 9.0, 9.8, 10.8, 11.8, 13.0, 14.2, 15.7, 17.3, 19.2, 21.3, 23.7, 26.5, 29.9, 33.9, 38.6, 43.9, 50.1, 57.4, 65.8, 75.6, 87.0, 99.9, 114.9, 132.2, 152.2, 175.1, 201.0, 230.1, 262.0, 297.2, 335.2, 375.8, 418.5, 462.9, 508.7, 555.6, 603.3, 651.7, 700.6, 749.9, 799.3, 849.0, 898.7, 948.6, 998.5, 1048.4, 1098.4, 1148.3, 1198.3, 1248.3, 1298.3, 1348.3, 1398.4, 1448.4, 1498.4, 1548.4, 1598.4, 1648.4, 1698.5, 1748.5, 1798.5, 1848.5, 1898.5, 1948.6, 1998.6]}, {\"line\": {\"color\": \"rgba(55, 128, 191, 1.0)\", \"dash\": \"solid\", \"shape\": \"linear\", \"width\": 1.3}, \"marker\": {\"size\": 6, \"symbol\": \"circle\"}, \"mode\": \"lines+markers\", \"name\": \"IMP_VOLT\", \"text\": \"\", \"type\": \"scatter\", \"x\": [11400.0, 11450.0, 11500.0, 11550.0, 11600.0, 11650.0, 11700.0, 11750.0, 11800.0, 11850.0, 11900.0, 11950.0, 12000.0, 12050.0, 12100.0, 12150.0, 12200.0, 12250.0, 12300.0, 12350.0, 12400.0, 12450.0, 12500.0, 12550.0, 12600.0, 12650.0, 12700.0, 12750.0, 12800.0, 12850.0, 12900.0, 12950.0, 13000.0, 13050.0, 13100.0, 13150.0, 13200.0, 13250.0, 13300.0, 13350.0, 13400.0, 13450.0, 13500.0, 13550.0, 13600.0, 13650.0, 13700.0, 13750.0, 13800.0, 13850.0, 13900.0, 13950.0, 14000.0, 14050.0, 14100.0, 14150.0, 14200.0, 14250.0, 14300.0, 14350.0, 14400.0, 14450.0, 14500.0, 14550.0, 14600.0, 14650.0, 14700.0, 14750.0, 14800.0, 14850.0, 14900.0, 14950.0, 15000.0, 15050.0, 15100.0, 15150.0, 15200.0, 15250.0, 15300.0], \"xaxis\": \"x\", \"y\": [26.11, 25.67, 24.91, 24.85, 24.45, 24.03, 23.66, 23.36, 22.9, 22.5, 22.11, 21.71, 21.35, 20.91, 20.46, 20.01, 19.43, 19.11, 18.65, 18.21, 17.77, 17.43, 16.91, 16.54, 16.12, 15.74, 15.34, 14.98, 14.6, 14.26, 13.89, 13.54, 13.21, 12.86, 12.53, 12.2, 11.87, 11.58, 11.26, 11.07, 10.88, 10.67, 10.42, 10.4, 10.1, 10.07, 10.21, 9.84, 10.35, 9.9, 10.02, 9.96, 10.11, 10.11, 11.26, 11.83, 10.84, 12.26, 12.78, 13.3, 13.81, 14.32, 14.82, 15.31, 15.8, 16.29, 16.77, 17.25, 17.72, 18.19, 18.65, 19.11, 19.57, 17.15, 17.51, 17.86, 18.2, 18.54, 18.87], \"yaxis\": \"y2\"}],\n",
       "                        {\"legend\": {\"bgcolor\": \"#F5F6F9\", \"font\": {\"color\": \"#4D5663\"}}, \"paper_bgcolor\": \"#F5F6F9\", \"plot_bgcolor\": \"#F5F6F9\", \"template\": {\"data\": {\"bar\": [{\"error_x\": {\"color\": \"#2a3f5f\"}, \"error_y\": {\"color\": \"#2a3f5f\"}, \"marker\": {\"line\": {\"color\": \"#E5ECF6\", \"width\": 0.5}}, \"type\": \"bar\"}], \"barpolar\": [{\"marker\": {\"line\": {\"color\": \"#E5ECF6\", \"width\": 0.5}}, \"type\": \"barpolar\"}], \"carpet\": [{\"aaxis\": {\"endlinecolor\": \"#2a3f5f\", \"gridcolor\": \"white\", \"linecolor\": \"white\", \"minorgridcolor\": \"white\", \"startlinecolor\": \"#2a3f5f\"}, \"baxis\": {\"endlinecolor\": \"#2a3f5f\", \"gridcolor\": \"white\", \"linecolor\": \"white\", \"minorgridcolor\": \"white\", \"startlinecolor\": \"#2a3f5f\"}, \"type\": \"carpet\"}], \"choropleth\": [{\"colorbar\": {\"outlinewidth\": 0, \"ticks\": \"\"}, \"type\": \"choropleth\"}], \"contour\": [{\"colorbar\": {\"outlinewidth\": 0, \"ticks\": \"\"}, \"colorscale\": [[0.0, \"#0d0887\"], [0.1111111111111111, \"#46039f\"], [0.2222222222222222, \"#7201a8\"], [0.3333333333333333, \"#9c179e\"], [0.4444444444444444, \"#bd3786\"], [0.5555555555555556, \"#d8576b\"], [0.6666666666666666, \"#ed7953\"], [0.7777777777777778, \"#fb9f3a\"], [0.8888888888888888, \"#fdca26\"], [1.0, \"#f0f921\"]], \"type\": \"contour\"}], \"contourcarpet\": [{\"colorbar\": {\"outlinewidth\": 0, \"ticks\": \"\"}, \"type\": \"contourcarpet\"}], \"heatmap\": [{\"colorbar\": {\"outlinewidth\": 0, \"ticks\": \"\"}, \"colorscale\": [[0.0, \"#0d0887\"], [0.1111111111111111, \"#46039f\"], [0.2222222222222222, \"#7201a8\"], [0.3333333333333333, \"#9c179e\"], [0.4444444444444444, \"#bd3786\"], [0.5555555555555556, \"#d8576b\"], [0.6666666666666666, \"#ed7953\"], [0.7777777777777778, \"#fb9f3a\"], [0.8888888888888888, \"#fdca26\"], [1.0, \"#f0f921\"]], \"type\": \"heatmap\"}], \"heatmapgl\": [{\"colorbar\": {\"outlinewidth\": 0, \"ticks\": \"\"}, \"colorscale\": [[0.0, \"#0d0887\"], [0.1111111111111111, \"#46039f\"], [0.2222222222222222, \"#7201a8\"], [0.3333333333333333, \"#9c179e\"], [0.4444444444444444, \"#bd3786\"], [0.5555555555555556, \"#d8576b\"], [0.6666666666666666, \"#ed7953\"], [0.7777777777777778, \"#fb9f3a\"], [0.8888888888888888, \"#fdca26\"], [1.0, \"#f0f921\"]], \"type\": \"heatmapgl\"}], \"histogram\": [{\"marker\": {\"colorbar\": {\"outlinewidth\": 0, \"ticks\": \"\"}}, \"type\": \"histogram\"}], \"histogram2d\": [{\"colorbar\": {\"outlinewidth\": 0, \"ticks\": \"\"}, \"colorscale\": [[0.0, \"#0d0887\"], [0.1111111111111111, \"#46039f\"], [0.2222222222222222, \"#7201a8\"], [0.3333333333333333, \"#9c179e\"], [0.4444444444444444, \"#bd3786\"], [0.5555555555555556, \"#d8576b\"], [0.6666666666666666, \"#ed7953\"], [0.7777777777777778, \"#fb9f3a\"], [0.8888888888888888, \"#fdca26\"], [1.0, \"#f0f921\"]], \"type\": \"histogram2d\"}], \"histogram2dcontour\": [{\"colorbar\": {\"outlinewidth\": 0, \"ticks\": \"\"}, \"colorscale\": [[0.0, \"#0d0887\"], [0.1111111111111111, \"#46039f\"], [0.2222222222222222, \"#7201a8\"], [0.3333333333333333, \"#9c179e\"], [0.4444444444444444, \"#bd3786\"], [0.5555555555555556, \"#d8576b\"], [0.6666666666666666, \"#ed7953\"], [0.7777777777777778, \"#fb9f3a\"], [0.8888888888888888, \"#fdca26\"], [1.0, \"#f0f921\"]], \"type\": \"histogram2dcontour\"}], \"mesh3d\": [{\"colorbar\": {\"outlinewidth\": 0, \"ticks\": \"\"}, \"type\": \"mesh3d\"}], \"parcoords\": [{\"line\": {\"colorbar\": {\"outlinewidth\": 0, \"ticks\": \"\"}}, \"type\": \"parcoords\"}], \"pie\": [{\"automargin\": true, \"type\": \"pie\"}], \"scatter\": [{\"marker\": {\"colorbar\": {\"outlinewidth\": 0, \"ticks\": \"\"}}, \"type\": \"scatter\"}], \"scatter3d\": [{\"line\": {\"colorbar\": {\"outlinewidth\": 0, \"ticks\": \"\"}}, \"marker\": {\"colorbar\": {\"outlinewidth\": 0, \"ticks\": \"\"}}, \"type\": \"scatter3d\"}], \"scattercarpet\": [{\"marker\": {\"colorbar\": {\"outlinewidth\": 0, \"ticks\": \"\"}}, \"type\": \"scattercarpet\"}], \"scattergeo\": [{\"marker\": {\"colorbar\": {\"outlinewidth\": 0, \"ticks\": \"\"}}, \"type\": \"scattergeo\"}], \"scattergl\": [{\"marker\": {\"colorbar\": {\"outlinewidth\": 0, \"ticks\": \"\"}}, \"type\": \"scattergl\"}], \"scattermapbox\": [{\"marker\": {\"colorbar\": {\"outlinewidth\": 0, \"ticks\": \"\"}}, \"type\": \"scattermapbox\"}], \"scatterpolar\": [{\"marker\": {\"colorbar\": {\"outlinewidth\": 0, \"ticks\": \"\"}}, \"type\": \"scatterpolar\"}], \"scatterpolargl\": [{\"marker\": {\"colorbar\": {\"outlinewidth\": 0, \"ticks\": \"\"}}, \"type\": \"scatterpolargl\"}], \"scatterternary\": [{\"marker\": {\"colorbar\": {\"outlinewidth\": 0, \"ticks\": \"\"}}, \"type\": \"scatterternary\"}], \"surface\": [{\"colorbar\": {\"outlinewidth\": 0, \"ticks\": \"\"}, \"colorscale\": [[0.0, \"#0d0887\"], [0.1111111111111111, \"#46039f\"], [0.2222222222222222, \"#7201a8\"], [0.3333333333333333, \"#9c179e\"], [0.4444444444444444, \"#bd3786\"], [0.5555555555555556, \"#d8576b\"], [0.6666666666666666, \"#ed7953\"], [0.7777777777777778, \"#fb9f3a\"], [0.8888888888888888, \"#fdca26\"], [1.0, \"#f0f921\"]], \"type\": \"surface\"}], \"table\": [{\"cells\": {\"fill\": {\"color\": \"#EBF0F8\"}, \"line\": {\"color\": \"white\"}}, \"header\": {\"fill\": {\"color\": \"#C8D4E3\"}, \"line\": {\"color\": \"white\"}}, \"type\": \"table\"}]}, \"layout\": {\"annotationdefaults\": {\"arrowcolor\": \"#2a3f5f\", \"arrowhead\": 0, \"arrowwidth\": 1}, \"coloraxis\": {\"colorbar\": {\"outlinewidth\": 0, \"ticks\": \"\"}}, \"colorscale\": {\"diverging\": [[0, \"#8e0152\"], [0.1, \"#c51b7d\"], [0.2, \"#de77ae\"], [0.3, \"#f1b6da\"], [0.4, \"#fde0ef\"], [0.5, \"#f7f7f7\"], [0.6, \"#e6f5d0\"], [0.7, \"#b8e186\"], [0.8, \"#7fbc41\"], [0.9, \"#4d9221\"], [1, \"#276419\"]], \"sequential\": [[0.0, \"#0d0887\"], [0.1111111111111111, \"#46039f\"], [0.2222222222222222, \"#7201a8\"], [0.3333333333333333, \"#9c179e\"], [0.4444444444444444, \"#bd3786\"], [0.5555555555555556, \"#d8576b\"], [0.6666666666666666, \"#ed7953\"], [0.7777777777777778, \"#fb9f3a\"], [0.8888888888888888, \"#fdca26\"], [1.0, \"#f0f921\"]], \"sequentialminus\": [[0.0, \"#0d0887\"], [0.1111111111111111, \"#46039f\"], [0.2222222222222222, \"#7201a8\"], [0.3333333333333333, \"#9c179e\"], [0.4444444444444444, \"#bd3786\"], [0.5555555555555556, \"#d8576b\"], [0.6666666666666666, \"#ed7953\"], [0.7777777777777778, \"#fb9f3a\"], [0.8888888888888888, \"#fdca26\"], [1.0, \"#f0f921\"]]}, \"colorway\": [\"#636efa\", \"#EF553B\", \"#00cc96\", \"#ab63fa\", \"#FFA15A\", \"#19d3f3\", \"#FF6692\", \"#B6E880\", \"#FF97FF\", \"#FECB52\"], \"font\": {\"color\": \"#2a3f5f\"}, \"geo\": {\"bgcolor\": \"white\", \"lakecolor\": \"white\", \"landcolor\": \"#E5ECF6\", \"showlakes\": true, \"showland\": true, \"subunitcolor\": \"white\"}, \"hoverlabel\": {\"align\": \"left\"}, \"hovermode\": \"closest\", \"mapbox\": {\"style\": \"light\"}, \"paper_bgcolor\": \"white\", \"plot_bgcolor\": \"#E5ECF6\", \"polar\": {\"angularaxis\": {\"gridcolor\": \"white\", \"linecolor\": \"white\", \"ticks\": \"\"}, \"bgcolor\": \"#E5ECF6\", \"radialaxis\": {\"gridcolor\": \"white\", \"linecolor\": \"white\", \"ticks\": \"\"}}, \"scene\": {\"xaxis\": {\"backgroundcolor\": \"#E5ECF6\", \"gridcolor\": \"white\", \"gridwidth\": 2, \"linecolor\": \"white\", \"showbackground\": true, \"ticks\": \"\", \"zerolinecolor\": \"white\"}, \"yaxis\": {\"backgroundcolor\": \"#E5ECF6\", \"gridcolor\": \"white\", \"gridwidth\": 2, \"linecolor\": \"white\", \"showbackground\": true, \"ticks\": \"\", \"zerolinecolor\": \"white\"}, \"zaxis\": {\"backgroundcolor\": \"#E5ECF6\", \"gridcolor\": \"white\", \"gridwidth\": 2, \"linecolor\": \"white\", \"showbackground\": true, \"ticks\": \"\", \"zerolinecolor\": \"white\"}}, \"shapedefaults\": {\"line\": {\"color\": \"#2a3f5f\"}}, \"ternary\": {\"aaxis\": {\"gridcolor\": \"white\", \"linecolor\": \"white\", \"ticks\": \"\"}, \"baxis\": {\"gridcolor\": \"white\", \"linecolor\": \"white\", \"ticks\": \"\"}, \"bgcolor\": \"#E5ECF6\", \"caxis\": {\"gridcolor\": \"white\", \"linecolor\": \"white\", \"ticks\": \"\"}}, \"title\": {\"x\": 0.05}, \"xaxis\": {\"automargin\": true, \"gridcolor\": \"white\", \"linecolor\": \"white\", \"ticks\": \"\", \"title\": {\"standoff\": 15}, \"zerolinecolor\": \"white\", \"zerolinewidth\": 2}, \"yaxis\": {\"automargin\": true, \"gridcolor\": \"white\", \"linecolor\": \"white\", \"ticks\": \"\", \"title\": {\"standoff\": 15}, \"zerolinecolor\": \"white\", \"zerolinewidth\": 2}}}, \"title\": {\"font\": {\"color\": \"#4D5663\"}, \"text\": \"2020-01-17\"}, \"xaxis\": {\"gridcolor\": \"#E1E5ED\", \"showgrid\": true, \"tickfont\": {\"color\": \"#4D5663\"}, \"title\": {\"font\": {\"color\": \"#4D5663\"}, \"text\": \"strike price\"}, \"zerolinecolor\": \"#E1E5ED\"}, \"yaxis\": {\"gridcolor\": \"#E1E5ED\", \"showgrid\": true, \"tickfont\": {\"color\": \"#4D5663\"}, \"title\": {\"font\": {\"color\": \"#4D5663\"}, \"text\": \"\"}, \"zerolinecolor\": \"#E1E5ED\"}, \"yaxis2\": {\"anchor\": \"x\", \"gridcolor\": \"#E1E5ED\", \"overlaying\": \"y\", \"showgrid\": true, \"side\": \"right\", \"tickfont\": {\"color\": \"#4D5663\"}, \"title\": {\"text\": \"\"}, \"zerolinecolor\": \"#E1E5ED\"}},\n",
       "                        {\"showLink\": true, \"linkText\": \"Export to plot.ly\", \"plotlyServerURL\": \"https://plot.ly\", \"responsive\": true}\n",
       "                    ).then(function(){\n",
       "                            \n",
       "var gd = document.getElementById('9e1414b7-e0a4-4859-be8d-e154c6c22c67');\n",
       "var x = new MutationObserver(function (mutations, observer) {{\n",
       "        var display = window.getComputedStyle(gd).display;\n",
       "        if (!display || display === 'none') {{\n",
       "            console.log([gd, 'removed!']);\n",
       "            Plotly.purge(gd);\n",
       "            observer.disconnect();\n",
       "        }}\n",
       "}});\n",
       "\n",
       "// Listen for the removal of the full notebook cells\n",
       "var notebookContainer = gd.closest('#notebook-container');\n",
       "if (notebookContainer) {{\n",
       "    x.observe(notebookContainer, {childList: true});\n",
       "}}\n",
       "\n",
       "// Listen for the clearing of the current output cell\n",
       "var outputEl = gd.closest('.output');\n",
       "if (outputEl) {{\n",
       "    x.observe(outputEl, {childList: true});\n",
       "}}\n",
       "\n",
       "                        })\n",
       "                };\n",
       "                });\n",
       "            </script>\n",
       "        </div>"
      ]
     },
     "metadata": {},
     "output_type": "display_data"
    },
    {
     "data": {
      "application/vnd.plotly.v1+json": {
       "config": {
        "linkText": "Export to plot.ly",
        "plotlyServerURL": "https://plot.ly",
        "showLink": true
       },
       "data": [
        {
         "line": {
          "color": "rgba(255, 153, 51, 1.0)",
          "dash": "solid",
          "shape": "linear",
          "width": 1.3
         },
         "marker": {
          "size": 6,
          "symbol": "circle"
         },
         "mode": "lines+markers",
         "name": "CF_CLOSE",
         "text": "",
         "type": "scatter",
         "x": [
          11350,
          11400,
          11450,
          11500,
          11550,
          11600,
          11650,
          11700,
          11750,
          11800,
          11850,
          11900,
          11950,
          12000,
          12050,
          12100,
          12150,
          12200,
          12250,
          12300,
          12350,
          12400,
          12450,
          12500,
          12550,
          12600,
          12650,
          12700,
          12750,
          12800,
          12850,
          12900,
          12950,
          13000,
          13050,
          13100,
          13150,
          13200,
          13250,
          13300,
          13350,
          13400,
          13450,
          13500,
          13550,
          13600,
          13650,
          13700,
          13750,
          13800,
          13850,
          13900,
          13950,
          14000,
          14050,
          14100,
          14150,
          14200,
          14250,
          14300,
          14350,
          14400,
          14450,
          14500,
          14550,
          14600,
          14650,
          14700,
          14750,
          14800,
          14850,
          14900,
          14950,
          15000
         ],
         "y": [
          115.9,
          120.4,
          125.3,
          130.2,
          135.3,
          140.6,
          146.1,
          151.8,
          157.7,
          163.8,
          170.4,
          176.9,
          183.7,
          191,
          198.2,
          206,
          214.3,
          222.6,
          231.2,
          240.3,
          249.7,
          259.3,
          269.5,
          280,
          291,
          302.3,
          314.2,
          326.5,
          339.1,
          352.4,
          366.3,
          380.6,
          395.5,
          411.1,
          427.2,
          444,
          461.6,
          479.8,
          498.8,
          518.5,
          539.4,
          560.7,
          583,
          606.5,
          630.3,
          655.2,
          680.9,
          707.7,
          735.2,
          763.7,
          793.1,
          823.7,
          855.2,
          887.5,
          920.8,
          955.1,
          990.5,
          1026.5,
          1063.7,
          1101.8,
          1140.8,
          1180.5,
          1221.2,
          1262.5,
          1304.5,
          1347.3,
          1390.7,
          1434.9,
          1479.6,
          1524.7,
          1570.6,
          1616.9,
          1663.6,
          1710.7
         ]
        },
        {
         "line": {
          "color": "rgba(55, 128, 191, 1.0)",
          "dash": "solid",
          "shape": "linear",
          "width": 1.3
         },
         "marker": {
          "size": 6,
          "symbol": "circle"
         },
         "mode": "lines+markers",
         "name": "IMP_VOLT",
         "text": "",
         "type": "scatter",
         "x": [
          11350,
          11400,
          11450,
          11500,
          11550,
          11600,
          11650,
          11700,
          11750,
          11800,
          11850,
          11900,
          11950,
          12000,
          12050,
          12100,
          12150,
          12200,
          12250,
          12300,
          12350,
          12400,
          12450,
          12500,
          12550,
          12600,
          12650,
          12700,
          12750,
          12800,
          12850,
          12900,
          12950,
          13000,
          13050,
          13100,
          13150,
          13200,
          13250,
          13300,
          13350,
          13400,
          13450,
          13500,
          13550,
          13600,
          13650,
          13700,
          13750,
          13800,
          13850,
          13900,
          13950,
          14000,
          14050,
          14100,
          14150,
          14200,
          14250,
          14300,
          14350,
          14400,
          14450,
          14500,
          14550,
          14600,
          14650,
          14700,
          14750,
          14800,
          14850,
          14900,
          14950,
          15000
         ],
         "xaxis": "x",
         "y": [
          20.44,
          20.28,
          20.11,
          19.95,
          19.8,
          19.64,
          19.48,
          19.32,
          19.17,
          19,
          18.84,
          18.68,
          18.52,
          18.35,
          18.2,
          18.04,
          17.87,
          17.72,
          17.55,
          17.39,
          17.23,
          17.07,
          16.9,
          16.74,
          16.57,
          16.41,
          16.25,
          16.08,
          15.93,
          15.76,
          15.6,
          15.43,
          15.27,
          15.13,
          14.96,
          14.81,
          14.64,
          14.49,
          14.34,
          14.19,
          14.04,
          13.89,
          13.74,
          13.59,
          13.4,
          13.26,
          13.13,
          12.97,
          12.83,
          12.7,
          12.57,
          12.44,
          12.3,
          12.17,
          12.06,
          11.93,
          11.8,
          11.69,
          11.6,
          11.47,
          11.37,
          11.28,
          11.26,
          11.06,
          10.97,
          10.89,
          10.97,
          10.84,
          10.72,
          10.71,
          10.59,
          10.51,
          10.44,
          10.43
         ],
         "yaxis": "y2"
        }
       ],
       "layout": {
        "legend": {
         "bgcolor": "#F5F6F9",
         "font": {
          "color": "#4D5663"
         }
        },
        "paper_bgcolor": "#F5F6F9",
        "plot_bgcolor": "#F5F6F9",
        "template": {
         "data": {
          "bar": [
           {
            "error_x": {
             "color": "#2a3f5f"
            },
            "error_y": {
             "color": "#2a3f5f"
            },
            "marker": {
             "line": {
              "color": "#E5ECF6",
              "width": 0.5
             }
            },
            "type": "bar"
           }
          ],
          "barpolar": [
           {
            "marker": {
             "line": {
              "color": "#E5ECF6",
              "width": 0.5
             }
            },
            "type": "barpolar"
           }
          ],
          "carpet": [
           {
            "aaxis": {
             "endlinecolor": "#2a3f5f",
             "gridcolor": "white",
             "linecolor": "white",
             "minorgridcolor": "white",
             "startlinecolor": "#2a3f5f"
            },
            "baxis": {
             "endlinecolor": "#2a3f5f",
             "gridcolor": "white",
             "linecolor": "white",
             "minorgridcolor": "white",
             "startlinecolor": "#2a3f5f"
            },
            "type": "carpet"
           }
          ],
          "choropleth": [
           {
            "colorbar": {
             "outlinewidth": 0,
             "ticks": ""
            },
            "type": "choropleth"
           }
          ],
          "contour": [
           {
            "colorbar": {
             "outlinewidth": 0,
             "ticks": ""
            },
            "colorscale": [
             [
              0,
              "#0d0887"
             ],
             [
              0.1111111111111111,
              "#46039f"
             ],
             [
              0.2222222222222222,
              "#7201a8"
             ],
             [
              0.3333333333333333,
              "#9c179e"
             ],
             [
              0.4444444444444444,
              "#bd3786"
             ],
             [
              0.5555555555555556,
              "#d8576b"
             ],
             [
              0.6666666666666666,
              "#ed7953"
             ],
             [
              0.7777777777777778,
              "#fb9f3a"
             ],
             [
              0.8888888888888888,
              "#fdca26"
             ],
             [
              1,
              "#f0f921"
             ]
            ],
            "type": "contour"
           }
          ],
          "contourcarpet": [
           {
            "colorbar": {
             "outlinewidth": 0,
             "ticks": ""
            },
            "type": "contourcarpet"
           }
          ],
          "heatmap": [
           {
            "colorbar": {
             "outlinewidth": 0,
             "ticks": ""
            },
            "colorscale": [
             [
              0,
              "#0d0887"
             ],
             [
              0.1111111111111111,
              "#46039f"
             ],
             [
              0.2222222222222222,
              "#7201a8"
             ],
             [
              0.3333333333333333,
              "#9c179e"
             ],
             [
              0.4444444444444444,
              "#bd3786"
             ],
             [
              0.5555555555555556,
              "#d8576b"
             ],
             [
              0.6666666666666666,
              "#ed7953"
             ],
             [
              0.7777777777777778,
              "#fb9f3a"
             ],
             [
              0.8888888888888888,
              "#fdca26"
             ],
             [
              1,
              "#f0f921"
             ]
            ],
            "type": "heatmap"
           }
          ],
          "heatmapgl": [
           {
            "colorbar": {
             "outlinewidth": 0,
             "ticks": ""
            },
            "colorscale": [
             [
              0,
              "#0d0887"
             ],
             [
              0.1111111111111111,
              "#46039f"
             ],
             [
              0.2222222222222222,
              "#7201a8"
             ],
             [
              0.3333333333333333,
              "#9c179e"
             ],
             [
              0.4444444444444444,
              "#bd3786"
             ],
             [
              0.5555555555555556,
              "#d8576b"
             ],
             [
              0.6666666666666666,
              "#ed7953"
             ],
             [
              0.7777777777777778,
              "#fb9f3a"
             ],
             [
              0.8888888888888888,
              "#fdca26"
             ],
             [
              1,
              "#f0f921"
             ]
            ],
            "type": "heatmapgl"
           }
          ],
          "histogram": [
           {
            "marker": {
             "colorbar": {
              "outlinewidth": 0,
              "ticks": ""
             }
            },
            "type": "histogram"
           }
          ],
          "histogram2d": [
           {
            "colorbar": {
             "outlinewidth": 0,
             "ticks": ""
            },
            "colorscale": [
             [
              0,
              "#0d0887"
             ],
             [
              0.1111111111111111,
              "#46039f"
             ],
             [
              0.2222222222222222,
              "#7201a8"
             ],
             [
              0.3333333333333333,
              "#9c179e"
             ],
             [
              0.4444444444444444,
              "#bd3786"
             ],
             [
              0.5555555555555556,
              "#d8576b"
             ],
             [
              0.6666666666666666,
              "#ed7953"
             ],
             [
              0.7777777777777778,
              "#fb9f3a"
             ],
             [
              0.8888888888888888,
              "#fdca26"
             ],
             [
              1,
              "#f0f921"
             ]
            ],
            "type": "histogram2d"
           }
          ],
          "histogram2dcontour": [
           {
            "colorbar": {
             "outlinewidth": 0,
             "ticks": ""
            },
            "colorscale": [
             [
              0,
              "#0d0887"
             ],
             [
              0.1111111111111111,
              "#46039f"
             ],
             [
              0.2222222222222222,
              "#7201a8"
             ],
             [
              0.3333333333333333,
              "#9c179e"
             ],
             [
              0.4444444444444444,
              "#bd3786"
             ],
             [
              0.5555555555555556,
              "#d8576b"
             ],
             [
              0.6666666666666666,
              "#ed7953"
             ],
             [
              0.7777777777777778,
              "#fb9f3a"
             ],
             [
              0.8888888888888888,
              "#fdca26"
             ],
             [
              1,
              "#f0f921"
             ]
            ],
            "type": "histogram2dcontour"
           }
          ],
          "mesh3d": [
           {
            "colorbar": {
             "outlinewidth": 0,
             "ticks": ""
            },
            "type": "mesh3d"
           }
          ],
          "parcoords": [
           {
            "line": {
             "colorbar": {
              "outlinewidth": 0,
              "ticks": ""
             }
            },
            "type": "parcoords"
           }
          ],
          "pie": [
           {
            "automargin": true,
            "type": "pie"
           }
          ],
          "scatter": [
           {
            "marker": {
             "colorbar": {
              "outlinewidth": 0,
              "ticks": ""
             }
            },
            "type": "scatter"
           }
          ],
          "scatter3d": [
           {
            "line": {
             "colorbar": {
              "outlinewidth": 0,
              "ticks": ""
             }
            },
            "marker": {
             "colorbar": {
              "outlinewidth": 0,
              "ticks": ""
             }
            },
            "type": "scatter3d"
           }
          ],
          "scattercarpet": [
           {
            "marker": {
             "colorbar": {
              "outlinewidth": 0,
              "ticks": ""
             }
            },
            "type": "scattercarpet"
           }
          ],
          "scattergeo": [
           {
            "marker": {
             "colorbar": {
              "outlinewidth": 0,
              "ticks": ""
             }
            },
            "type": "scattergeo"
           }
          ],
          "scattergl": [
           {
            "marker": {
             "colorbar": {
              "outlinewidth": 0,
              "ticks": ""
             }
            },
            "type": "scattergl"
           }
          ],
          "scattermapbox": [
           {
            "marker": {
             "colorbar": {
              "outlinewidth": 0,
              "ticks": ""
             }
            },
            "type": "scattermapbox"
           }
          ],
          "scatterpolar": [
           {
            "marker": {
             "colorbar": {
              "outlinewidth": 0,
              "ticks": ""
             }
            },
            "type": "scatterpolar"
           }
          ],
          "scatterpolargl": [
           {
            "marker": {
             "colorbar": {
              "outlinewidth": 0,
              "ticks": ""
             }
            },
            "type": "scatterpolargl"
           }
          ],
          "scatterternary": [
           {
            "marker": {
             "colorbar": {
              "outlinewidth": 0,
              "ticks": ""
             }
            },
            "type": "scatterternary"
           }
          ],
          "surface": [
           {
            "colorbar": {
             "outlinewidth": 0,
             "ticks": ""
            },
            "colorscale": [
             [
              0,
              "#0d0887"
             ],
             [
              0.1111111111111111,
              "#46039f"
             ],
             [
              0.2222222222222222,
              "#7201a8"
             ],
             [
              0.3333333333333333,
              "#9c179e"
             ],
             [
              0.4444444444444444,
              "#bd3786"
             ],
             [
              0.5555555555555556,
              "#d8576b"
             ],
             [
              0.6666666666666666,
              "#ed7953"
             ],
             [
              0.7777777777777778,
              "#fb9f3a"
             ],
             [
              0.8888888888888888,
              "#fdca26"
             ],
             [
              1,
              "#f0f921"
             ]
            ],
            "type": "surface"
           }
          ],
          "table": [
           {
            "cells": {
             "fill": {
              "color": "#EBF0F8"
             },
             "line": {
              "color": "white"
             }
            },
            "header": {
             "fill": {
              "color": "#C8D4E3"
             },
             "line": {
              "color": "white"
             }
            },
            "type": "table"
           }
          ]
         },
         "layout": {
          "annotationdefaults": {
           "arrowcolor": "#2a3f5f",
           "arrowhead": 0,
           "arrowwidth": 1
          },
          "coloraxis": {
           "colorbar": {
            "outlinewidth": 0,
            "ticks": ""
           }
          },
          "colorscale": {
           "diverging": [
            [
             0,
             "#8e0152"
            ],
            [
             0.1,
             "#c51b7d"
            ],
            [
             0.2,
             "#de77ae"
            ],
            [
             0.3,
             "#f1b6da"
            ],
            [
             0.4,
             "#fde0ef"
            ],
            [
             0.5,
             "#f7f7f7"
            ],
            [
             0.6,
             "#e6f5d0"
            ],
            [
             0.7,
             "#b8e186"
            ],
            [
             0.8,
             "#7fbc41"
            ],
            [
             0.9,
             "#4d9221"
            ],
            [
             1,
             "#276419"
            ]
           ],
           "sequential": [
            [
             0,
             "#0d0887"
            ],
            [
             0.1111111111111111,
             "#46039f"
            ],
            [
             0.2222222222222222,
             "#7201a8"
            ],
            [
             0.3333333333333333,
             "#9c179e"
            ],
            [
             0.4444444444444444,
             "#bd3786"
            ],
            [
             0.5555555555555556,
             "#d8576b"
            ],
            [
             0.6666666666666666,
             "#ed7953"
            ],
            [
             0.7777777777777778,
             "#fb9f3a"
            ],
            [
             0.8888888888888888,
             "#fdca26"
            ],
            [
             1,
             "#f0f921"
            ]
           ],
           "sequentialminus": [
            [
             0,
             "#0d0887"
            ],
            [
             0.1111111111111111,
             "#46039f"
            ],
            [
             0.2222222222222222,
             "#7201a8"
            ],
            [
             0.3333333333333333,
             "#9c179e"
            ],
            [
             0.4444444444444444,
             "#bd3786"
            ],
            [
             0.5555555555555556,
             "#d8576b"
            ],
            [
             0.6666666666666666,
             "#ed7953"
            ],
            [
             0.7777777777777778,
             "#fb9f3a"
            ],
            [
             0.8888888888888888,
             "#fdca26"
            ],
            [
             1,
             "#f0f921"
            ]
           ]
          },
          "colorway": [
           "#636efa",
           "#EF553B",
           "#00cc96",
           "#ab63fa",
           "#FFA15A",
           "#19d3f3",
           "#FF6692",
           "#B6E880",
           "#FF97FF",
           "#FECB52"
          ],
          "font": {
           "color": "#2a3f5f"
          },
          "geo": {
           "bgcolor": "white",
           "lakecolor": "white",
           "landcolor": "#E5ECF6",
           "showlakes": true,
           "showland": true,
           "subunitcolor": "white"
          },
          "hoverlabel": {
           "align": "left"
          },
          "hovermode": "closest",
          "mapbox": {
           "style": "light"
          },
          "paper_bgcolor": "white",
          "plot_bgcolor": "#E5ECF6",
          "polar": {
           "angularaxis": {
            "gridcolor": "white",
            "linecolor": "white",
            "ticks": ""
           },
           "bgcolor": "#E5ECF6",
           "radialaxis": {
            "gridcolor": "white",
            "linecolor": "white",
            "ticks": ""
           }
          },
          "scene": {
           "xaxis": {
            "backgroundcolor": "#E5ECF6",
            "gridcolor": "white",
            "gridwidth": 2,
            "linecolor": "white",
            "showbackground": true,
            "ticks": "",
            "zerolinecolor": "white"
           },
           "yaxis": {
            "backgroundcolor": "#E5ECF6",
            "gridcolor": "white",
            "gridwidth": 2,
            "linecolor": "white",
            "showbackground": true,
            "ticks": "",
            "zerolinecolor": "white"
           },
           "zaxis": {
            "backgroundcolor": "#E5ECF6",
            "gridcolor": "white",
            "gridwidth": 2,
            "linecolor": "white",
            "showbackground": true,
            "ticks": "",
            "zerolinecolor": "white"
           }
          },
          "shapedefaults": {
           "line": {
            "color": "#2a3f5f"
           }
          },
          "ternary": {
           "aaxis": {
            "gridcolor": "white",
            "linecolor": "white",
            "ticks": ""
           },
           "baxis": {
            "gridcolor": "white",
            "linecolor": "white",
            "ticks": ""
           },
           "bgcolor": "#E5ECF6",
           "caxis": {
            "gridcolor": "white",
            "linecolor": "white",
            "ticks": ""
           }
          },
          "title": {
           "x": 0.05
          },
          "xaxis": {
           "automargin": true,
           "gridcolor": "white",
           "linecolor": "white",
           "ticks": "",
           "title": {
            "standoff": 15
           },
           "zerolinecolor": "white",
           "zerolinewidth": 2
          },
          "yaxis": {
           "automargin": true,
           "gridcolor": "white",
           "linecolor": "white",
           "ticks": "",
           "title": {
            "standoff": 15
           },
           "zerolinecolor": "white",
           "zerolinewidth": 2
          }
         }
        },
        "title": {
         "font": {
          "color": "#4D5663"
         },
         "text": "2020-06-19"
        },
        "xaxis": {
         "gridcolor": "#E1E5ED",
         "showgrid": true,
         "tickfont": {
          "color": "#4D5663"
         },
         "title": {
          "font": {
           "color": "#4D5663"
          },
          "text": "strike price"
         },
         "zerolinecolor": "#E1E5ED"
        },
        "yaxis": {
         "gridcolor": "#E1E5ED",
         "showgrid": true,
         "tickfont": {
          "color": "#4D5663"
         },
         "title": {
          "font": {
           "color": "#4D5663"
          },
          "text": ""
         },
         "zerolinecolor": "#E1E5ED"
        },
        "yaxis2": {
         "anchor": "x",
         "gridcolor": "#E1E5ED",
         "overlaying": "y",
         "showgrid": true,
         "side": "right",
         "tickfont": {
          "color": "#4D5663"
         },
         "title": {
          "text": ""
         },
         "zerolinecolor": "#E1E5ED"
        }
       }
      },
      "text/html": [
       "<div>\n",
       "        \n",
       "        \n",
       "            <div id=\"7ef0a282-a18b-40b8-913d-9a4d8997b12a\" class=\"plotly-graph-div\" style=\"height:525px; width:100%;\"></div>\n",
       "            <script type=\"text/javascript\">\n",
       "                require([\"plotly\"], function(Plotly) {\n",
       "                    window.PLOTLYENV=window.PLOTLYENV || {};\n",
       "                    window.PLOTLYENV.BASE_URL='https://plot.ly';\n",
       "                    \n",
       "                if (document.getElementById(\"7ef0a282-a18b-40b8-913d-9a4d8997b12a\")) {\n",
       "                    Plotly.newPlot(\n",
       "                        '7ef0a282-a18b-40b8-913d-9a4d8997b12a',\n",
       "                        [{\"line\": {\"color\": \"rgba(255, 153, 51, 1.0)\", \"dash\": \"solid\", \"shape\": \"linear\", \"width\": 1.3}, \"marker\": {\"size\": 6, \"symbol\": \"circle\"}, \"mode\": \"lines+markers\", \"name\": \"CF_CLOSE\", \"text\": \"\", \"type\": \"scatter\", \"x\": [11350.0, 11400.0, 11450.0, 11500.0, 11550.0, 11600.0, 11650.0, 11700.0, 11750.0, 11800.0, 11850.0, 11900.0, 11950.0, 12000.0, 12050.0, 12100.0, 12150.0, 12200.0, 12250.0, 12300.0, 12350.0, 12400.0, 12450.0, 12500.0, 12550.0, 12600.0, 12650.0, 12700.0, 12750.0, 12800.0, 12850.0, 12900.0, 12950.0, 13000.0, 13050.0, 13100.0, 13150.0, 13200.0, 13250.0, 13300.0, 13350.0, 13400.0, 13450.0, 13500.0, 13550.0, 13600.0, 13650.0, 13700.0, 13750.0, 13800.0, 13850.0, 13900.0, 13950.0, 14000.0, 14050.0, 14100.0, 14150.0, 14200.0, 14250.0, 14300.0, 14350.0, 14400.0, 14450.0, 14500.0, 14550.0, 14600.0, 14650.0, 14700.0, 14750.0, 14800.0, 14850.0, 14900.0, 14950.0, 15000.0], \"y\": [115.9, 120.4, 125.3, 130.2, 135.3, 140.6, 146.1, 151.8, 157.7, 163.8, 170.4, 176.9, 183.7, 191.0, 198.2, 206.0, 214.3, 222.6, 231.2, 240.3, 249.7, 259.3, 269.5, 280.0, 291.0, 302.3, 314.2, 326.5, 339.1, 352.4, 366.3, 380.6, 395.5, 411.1, 427.2, 444.0, 461.6, 479.8, 498.8, 518.5, 539.4, 560.7, 583.0, 606.5, 630.3, 655.2, 680.9, 707.7, 735.2, 763.7, 793.1, 823.7, 855.2, 887.5, 920.8, 955.1, 990.5, 1026.5, 1063.7, 1101.8, 1140.8, 1180.5, 1221.2, 1262.5, 1304.5, 1347.3, 1390.7, 1434.9, 1479.6, 1524.7, 1570.6, 1616.9, 1663.6, 1710.7]}, {\"line\": {\"color\": \"rgba(55, 128, 191, 1.0)\", \"dash\": \"solid\", \"shape\": \"linear\", \"width\": 1.3}, \"marker\": {\"size\": 6, \"symbol\": \"circle\"}, \"mode\": \"lines+markers\", \"name\": \"IMP_VOLT\", \"text\": \"\", \"type\": \"scatter\", \"x\": [11350.0, 11400.0, 11450.0, 11500.0, 11550.0, 11600.0, 11650.0, 11700.0, 11750.0, 11800.0, 11850.0, 11900.0, 11950.0, 12000.0, 12050.0, 12100.0, 12150.0, 12200.0, 12250.0, 12300.0, 12350.0, 12400.0, 12450.0, 12500.0, 12550.0, 12600.0, 12650.0, 12700.0, 12750.0, 12800.0, 12850.0, 12900.0, 12950.0, 13000.0, 13050.0, 13100.0, 13150.0, 13200.0, 13250.0, 13300.0, 13350.0, 13400.0, 13450.0, 13500.0, 13550.0, 13600.0, 13650.0, 13700.0, 13750.0, 13800.0, 13850.0, 13900.0, 13950.0, 14000.0, 14050.0, 14100.0, 14150.0, 14200.0, 14250.0, 14300.0, 14350.0, 14400.0, 14450.0, 14500.0, 14550.0, 14600.0, 14650.0, 14700.0, 14750.0, 14800.0, 14850.0, 14900.0, 14950.0, 15000.0], \"xaxis\": \"x\", \"y\": [20.44, 20.28, 20.11, 19.95, 19.8, 19.64, 19.48, 19.32, 19.17, 19.0, 18.84, 18.68, 18.52, 18.35, 18.2, 18.04, 17.87, 17.72, 17.55, 17.39, 17.23, 17.07, 16.9, 16.74, 16.57, 16.41, 16.25, 16.08, 15.93, 15.76, 15.6, 15.43, 15.27, 15.13, 14.96, 14.81, 14.64, 14.49, 14.34, 14.19, 14.04, 13.89, 13.74, 13.59, 13.4, 13.26, 13.13, 12.97, 12.83, 12.7, 12.57, 12.44, 12.3, 12.17, 12.06, 11.93, 11.8, 11.69, 11.6, 11.47, 11.37, 11.28, 11.26, 11.06, 10.97, 10.89, 10.97, 10.84, 10.72, 10.71, 10.59, 10.51, 10.44, 10.43], \"yaxis\": \"y2\"}],\n",
       "                        {\"legend\": {\"bgcolor\": \"#F5F6F9\", \"font\": {\"color\": \"#4D5663\"}}, \"paper_bgcolor\": \"#F5F6F9\", \"plot_bgcolor\": \"#F5F6F9\", \"template\": {\"data\": {\"bar\": [{\"error_x\": {\"color\": \"#2a3f5f\"}, \"error_y\": {\"color\": \"#2a3f5f\"}, \"marker\": {\"line\": {\"color\": \"#E5ECF6\", \"width\": 0.5}}, \"type\": \"bar\"}], \"barpolar\": [{\"marker\": {\"line\": {\"color\": \"#E5ECF6\", \"width\": 0.5}}, \"type\": \"barpolar\"}], \"carpet\": [{\"aaxis\": {\"endlinecolor\": \"#2a3f5f\", \"gridcolor\": \"white\", \"linecolor\": \"white\", \"minorgridcolor\": \"white\", \"startlinecolor\": \"#2a3f5f\"}, \"baxis\": {\"endlinecolor\": \"#2a3f5f\", \"gridcolor\": \"white\", \"linecolor\": \"white\", \"minorgridcolor\": \"white\", \"startlinecolor\": \"#2a3f5f\"}, \"type\": \"carpet\"}], \"choropleth\": [{\"colorbar\": {\"outlinewidth\": 0, \"ticks\": \"\"}, \"type\": \"choropleth\"}], \"contour\": [{\"colorbar\": {\"outlinewidth\": 0, \"ticks\": \"\"}, \"colorscale\": [[0.0, \"#0d0887\"], [0.1111111111111111, \"#46039f\"], [0.2222222222222222, \"#7201a8\"], [0.3333333333333333, \"#9c179e\"], [0.4444444444444444, \"#bd3786\"], [0.5555555555555556, \"#d8576b\"], [0.6666666666666666, \"#ed7953\"], [0.7777777777777778, \"#fb9f3a\"], [0.8888888888888888, \"#fdca26\"], [1.0, \"#f0f921\"]], \"type\": \"contour\"}], \"contourcarpet\": [{\"colorbar\": {\"outlinewidth\": 0, \"ticks\": \"\"}, \"type\": \"contourcarpet\"}], \"heatmap\": [{\"colorbar\": {\"outlinewidth\": 0, \"ticks\": \"\"}, \"colorscale\": [[0.0, \"#0d0887\"], [0.1111111111111111, \"#46039f\"], [0.2222222222222222, \"#7201a8\"], [0.3333333333333333, \"#9c179e\"], [0.4444444444444444, \"#bd3786\"], [0.5555555555555556, \"#d8576b\"], [0.6666666666666666, \"#ed7953\"], [0.7777777777777778, \"#fb9f3a\"], [0.8888888888888888, \"#fdca26\"], [1.0, \"#f0f921\"]], \"type\": \"heatmap\"}], \"heatmapgl\": [{\"colorbar\": {\"outlinewidth\": 0, \"ticks\": \"\"}, \"colorscale\": [[0.0, \"#0d0887\"], [0.1111111111111111, \"#46039f\"], [0.2222222222222222, \"#7201a8\"], [0.3333333333333333, \"#9c179e\"], [0.4444444444444444, \"#bd3786\"], [0.5555555555555556, \"#d8576b\"], [0.6666666666666666, \"#ed7953\"], [0.7777777777777778, \"#fb9f3a\"], [0.8888888888888888, \"#fdca26\"], [1.0, \"#f0f921\"]], \"type\": \"heatmapgl\"}], \"histogram\": [{\"marker\": {\"colorbar\": {\"outlinewidth\": 0, \"ticks\": \"\"}}, \"type\": \"histogram\"}], \"histogram2d\": [{\"colorbar\": {\"outlinewidth\": 0, \"ticks\": \"\"}, \"colorscale\": [[0.0, \"#0d0887\"], [0.1111111111111111, \"#46039f\"], [0.2222222222222222, \"#7201a8\"], [0.3333333333333333, \"#9c179e\"], [0.4444444444444444, \"#bd3786\"], [0.5555555555555556, \"#d8576b\"], [0.6666666666666666, \"#ed7953\"], [0.7777777777777778, \"#fb9f3a\"], [0.8888888888888888, \"#fdca26\"], [1.0, \"#f0f921\"]], \"type\": \"histogram2d\"}], \"histogram2dcontour\": [{\"colorbar\": {\"outlinewidth\": 0, \"ticks\": \"\"}, \"colorscale\": [[0.0, \"#0d0887\"], [0.1111111111111111, \"#46039f\"], [0.2222222222222222, \"#7201a8\"], [0.3333333333333333, \"#9c179e\"], [0.4444444444444444, \"#bd3786\"], [0.5555555555555556, \"#d8576b\"], [0.6666666666666666, \"#ed7953\"], [0.7777777777777778, \"#fb9f3a\"], [0.8888888888888888, \"#fdca26\"], [1.0, \"#f0f921\"]], \"type\": \"histogram2dcontour\"}], \"mesh3d\": [{\"colorbar\": {\"outlinewidth\": 0, \"ticks\": \"\"}, \"type\": \"mesh3d\"}], \"parcoords\": [{\"line\": {\"colorbar\": {\"outlinewidth\": 0, \"ticks\": \"\"}}, \"type\": \"parcoords\"}], \"pie\": [{\"automargin\": true, \"type\": \"pie\"}], \"scatter\": [{\"marker\": {\"colorbar\": {\"outlinewidth\": 0, \"ticks\": \"\"}}, \"type\": \"scatter\"}], \"scatter3d\": [{\"line\": {\"colorbar\": {\"outlinewidth\": 0, \"ticks\": \"\"}}, \"marker\": {\"colorbar\": {\"outlinewidth\": 0, \"ticks\": \"\"}}, \"type\": \"scatter3d\"}], \"scattercarpet\": [{\"marker\": {\"colorbar\": {\"outlinewidth\": 0, \"ticks\": \"\"}}, \"type\": \"scattercarpet\"}], \"scattergeo\": [{\"marker\": {\"colorbar\": {\"outlinewidth\": 0, \"ticks\": \"\"}}, \"type\": \"scattergeo\"}], \"scattergl\": [{\"marker\": {\"colorbar\": {\"outlinewidth\": 0, \"ticks\": \"\"}}, \"type\": \"scattergl\"}], \"scattermapbox\": [{\"marker\": {\"colorbar\": {\"outlinewidth\": 0, \"ticks\": \"\"}}, \"type\": \"scattermapbox\"}], \"scatterpolar\": [{\"marker\": {\"colorbar\": {\"outlinewidth\": 0, \"ticks\": \"\"}}, \"type\": \"scatterpolar\"}], \"scatterpolargl\": [{\"marker\": {\"colorbar\": {\"outlinewidth\": 0, \"ticks\": \"\"}}, \"type\": \"scatterpolargl\"}], \"scatterternary\": [{\"marker\": {\"colorbar\": {\"outlinewidth\": 0, \"ticks\": \"\"}}, \"type\": \"scatterternary\"}], \"surface\": [{\"colorbar\": {\"outlinewidth\": 0, \"ticks\": \"\"}, \"colorscale\": [[0.0, \"#0d0887\"], [0.1111111111111111, \"#46039f\"], [0.2222222222222222, \"#7201a8\"], [0.3333333333333333, \"#9c179e\"], [0.4444444444444444, \"#bd3786\"], [0.5555555555555556, \"#d8576b\"], [0.6666666666666666, \"#ed7953\"], [0.7777777777777778, \"#fb9f3a\"], [0.8888888888888888, \"#fdca26\"], [1.0, \"#f0f921\"]], \"type\": \"surface\"}], \"table\": [{\"cells\": {\"fill\": {\"color\": \"#EBF0F8\"}, \"line\": {\"color\": \"white\"}}, \"header\": {\"fill\": {\"color\": \"#C8D4E3\"}, \"line\": {\"color\": \"white\"}}, \"type\": \"table\"}]}, \"layout\": {\"annotationdefaults\": {\"arrowcolor\": \"#2a3f5f\", \"arrowhead\": 0, \"arrowwidth\": 1}, \"coloraxis\": {\"colorbar\": {\"outlinewidth\": 0, \"ticks\": \"\"}}, \"colorscale\": {\"diverging\": [[0, \"#8e0152\"], [0.1, \"#c51b7d\"], [0.2, \"#de77ae\"], [0.3, \"#f1b6da\"], [0.4, \"#fde0ef\"], [0.5, \"#f7f7f7\"], [0.6, \"#e6f5d0\"], [0.7, \"#b8e186\"], [0.8, \"#7fbc41\"], [0.9, \"#4d9221\"], [1, \"#276419\"]], \"sequential\": [[0.0, \"#0d0887\"], [0.1111111111111111, \"#46039f\"], [0.2222222222222222, \"#7201a8\"], [0.3333333333333333, \"#9c179e\"], [0.4444444444444444, \"#bd3786\"], [0.5555555555555556, \"#d8576b\"], [0.6666666666666666, \"#ed7953\"], [0.7777777777777778, \"#fb9f3a\"], [0.8888888888888888, \"#fdca26\"], [1.0, \"#f0f921\"]], \"sequentialminus\": [[0.0, \"#0d0887\"], [0.1111111111111111, \"#46039f\"], [0.2222222222222222, \"#7201a8\"], [0.3333333333333333, \"#9c179e\"], [0.4444444444444444, \"#bd3786\"], [0.5555555555555556, \"#d8576b\"], [0.6666666666666666, \"#ed7953\"], [0.7777777777777778, \"#fb9f3a\"], [0.8888888888888888, \"#fdca26\"], [1.0, \"#f0f921\"]]}, \"colorway\": [\"#636efa\", \"#EF553B\", \"#00cc96\", \"#ab63fa\", \"#FFA15A\", \"#19d3f3\", \"#FF6692\", \"#B6E880\", \"#FF97FF\", \"#FECB52\"], \"font\": {\"color\": \"#2a3f5f\"}, \"geo\": {\"bgcolor\": \"white\", \"lakecolor\": \"white\", \"landcolor\": \"#E5ECF6\", \"showlakes\": true, \"showland\": true, \"subunitcolor\": \"white\"}, \"hoverlabel\": {\"align\": \"left\"}, \"hovermode\": \"closest\", \"mapbox\": {\"style\": \"light\"}, \"paper_bgcolor\": \"white\", \"plot_bgcolor\": \"#E5ECF6\", \"polar\": {\"angularaxis\": {\"gridcolor\": \"white\", \"linecolor\": \"white\", \"ticks\": \"\"}, \"bgcolor\": \"#E5ECF6\", \"radialaxis\": {\"gridcolor\": \"white\", \"linecolor\": \"white\", \"ticks\": \"\"}}, \"scene\": {\"xaxis\": {\"backgroundcolor\": \"#E5ECF6\", \"gridcolor\": \"white\", \"gridwidth\": 2, \"linecolor\": \"white\", \"showbackground\": true, \"ticks\": \"\", \"zerolinecolor\": \"white\"}, \"yaxis\": {\"backgroundcolor\": \"#E5ECF6\", \"gridcolor\": \"white\", \"gridwidth\": 2, \"linecolor\": \"white\", \"showbackground\": true, \"ticks\": \"\", \"zerolinecolor\": \"white\"}, \"zaxis\": {\"backgroundcolor\": \"#E5ECF6\", \"gridcolor\": \"white\", \"gridwidth\": 2, \"linecolor\": \"white\", \"showbackground\": true, \"ticks\": \"\", \"zerolinecolor\": \"white\"}}, \"shapedefaults\": {\"line\": {\"color\": \"#2a3f5f\"}}, \"ternary\": {\"aaxis\": {\"gridcolor\": \"white\", \"linecolor\": \"white\", \"ticks\": \"\"}, \"baxis\": {\"gridcolor\": \"white\", \"linecolor\": \"white\", \"ticks\": \"\"}, \"bgcolor\": \"#E5ECF6\", \"caxis\": {\"gridcolor\": \"white\", \"linecolor\": \"white\", \"ticks\": \"\"}}, \"title\": {\"x\": 0.05}, \"xaxis\": {\"automargin\": true, \"gridcolor\": \"white\", \"linecolor\": \"white\", \"ticks\": \"\", \"title\": {\"standoff\": 15}, \"zerolinecolor\": \"white\", \"zerolinewidth\": 2}, \"yaxis\": {\"automargin\": true, \"gridcolor\": \"white\", \"linecolor\": \"white\", \"ticks\": \"\", \"title\": {\"standoff\": 15}, \"zerolinecolor\": \"white\", \"zerolinewidth\": 2}}}, \"title\": {\"font\": {\"color\": \"#4D5663\"}, \"text\": \"2020-06-19\"}, \"xaxis\": {\"gridcolor\": \"#E1E5ED\", \"showgrid\": true, \"tickfont\": {\"color\": \"#4D5663\"}, \"title\": {\"font\": {\"color\": \"#4D5663\"}, \"text\": \"strike price\"}, \"zerolinecolor\": \"#E1E5ED\"}, \"yaxis\": {\"gridcolor\": \"#E1E5ED\", \"showgrid\": true, \"tickfont\": {\"color\": \"#4D5663\"}, \"title\": {\"font\": {\"color\": \"#4D5663\"}, \"text\": \"\"}, \"zerolinecolor\": \"#E1E5ED\"}, \"yaxis2\": {\"anchor\": \"x\", \"gridcolor\": \"#E1E5ED\", \"overlaying\": \"y\", \"showgrid\": true, \"side\": \"right\", \"tickfont\": {\"color\": \"#4D5663\"}, \"title\": {\"text\": \"\"}, \"zerolinecolor\": \"#E1E5ED\"}},\n",
       "                        {\"showLink\": true, \"linkText\": \"Export to plot.ly\", \"plotlyServerURL\": \"https://plot.ly\", \"responsive\": true}\n",
       "                    ).then(function(){\n",
       "                            \n",
       "var gd = document.getElementById('7ef0a282-a18b-40b8-913d-9a4d8997b12a');\n",
       "var x = new MutationObserver(function (mutations, observer) {{\n",
       "        var display = window.getComputedStyle(gd).display;\n",
       "        if (!display || display === 'none') {{\n",
       "            console.log([gd, 'removed!']);\n",
       "            Plotly.purge(gd);\n",
       "            observer.disconnect();\n",
       "        }}\n",
       "}});\n",
       "\n",
       "// Listen for the removal of the full notebook cells\n",
       "var notebookContainer = gd.closest('#notebook-container');\n",
       "if (notebookContainer) {{\n",
       "    x.observe(notebookContainer, {childList: true});\n",
       "}}\n",
       "\n",
       "// Listen for the clearing of the current output cell\n",
       "var outputEl = gd.closest('.output');\n",
       "if (outputEl) {{\n",
       "    x.observe(outputEl, {childList: true});\n",
       "}}\n",
       "\n",
       "                        })\n",
       "                };\n",
       "                });\n",
       "            </script>\n",
       "        </div>"
      ]
     },
     "metadata": {},
     "output_type": "display_data"
    },
    {
     "data": {
      "application/vnd.plotly.v1+json": {
       "config": {
        "linkText": "Export to plot.ly",
        "plotlyServerURL": "https://plot.ly",
        "showLink": true
       },
       "data": [
        {
         "line": {
          "color": "rgba(255, 153, 51, 1.0)",
          "dash": "solid",
          "shape": "linear",
          "width": 1.3
         },
         "marker": {
          "size": 6,
          "symbol": "circle"
         },
         "mode": "lines+markers",
         "name": "CF_CLOSE",
         "text": "",
         "type": "scatter",
         "x": [
          11400,
          11500,
          11550,
          11600,
          11650,
          11700,
          11750,
          11800,
          11850,
          11900,
          11950,
          12000,
          12050,
          12100,
          12150,
          12200,
          12250,
          12300,
          12350,
          12400,
          12450,
          12500,
          12550,
          12600,
          12650,
          12700,
          12750,
          12800,
          12850,
          12900,
          12950,
          13000,
          13050,
          13100,
          13150,
          13200,
          13250,
          13300,
          13350,
          13400,
          13450,
          13500,
          13550,
          13600,
          13650,
          13700,
          13750,
          13800,
          13850,
          13900,
          13950,
          14000,
          14050,
          14100,
          14150,
          14200,
          14300,
          14400,
          14600,
          14800,
          15000,
          15200
         ],
         "y": [
          440.8,
          461.1,
          471.8,
          482.9,
          494,
          505.1,
          516.2,
          528.7,
          540.3,
          552.5,
          565.3,
          578,
          590.7,
          604,
          617.8,
          631.6,
          646,
          660.3,
          675.3,
          690.2,
          705.6,
          721.1,
          737.1,
          753.2,
          770.2,
          787,
          804.5,
          821.9,
          840,
          858.1,
          876.7,
          895.4,
          914.7,
          934.6,
          954.5,
          975,
          996.2,
          1018,
          1039.8,
          1062.5,
          1084.7,
          1108.2,
          1131.7,
          1155.8,
          1180.5,
          1205.2,
          1230.6,
          1255.9,
          1281.9,
          1309.2,
          1335.9,
          1363.8,
          1391.7,
          1420.4,
          1448.9,
          1478.6,
          1538.5,
          1600.8,
          1730.9,
          1868,
          2012.4,
          2163.6
         ]
        },
        {
         "line": {
          "color": "rgba(55, 128, 191, 1.0)",
          "dash": "solid",
          "shape": "linear",
          "width": 1.3
         },
         "marker": {
          "size": 6,
          "symbol": "circle"
         },
         "mode": "lines+markers",
         "name": "IMP_VOLT",
         "text": "",
         "type": "scatter",
         "x": [
          11400,
          11500,
          11550,
          11600,
          11650,
          11700,
          11750,
          11800,
          11850,
          11900,
          11950,
          12000,
          12050,
          12100,
          12150,
          12200,
          12250,
          12300,
          12350,
          12400,
          12450,
          12500,
          12550,
          12600,
          12650,
          12700,
          12750,
          12800,
          12850,
          12900,
          12950,
          13000,
          13050,
          13100,
          13150,
          13200,
          13250,
          13300,
          13350,
          13400,
          13450,
          13500,
          13550,
          13600,
          13650,
          13700,
          13750,
          13800,
          13850,
          13900,
          13950,
          14000,
          14050,
          14100,
          14150,
          14200,
          14300,
          14400,
          14600,
          14800,
          15000,
          15200
         ],
         "xaxis": "x",
         "y": [
          19.18,
          18.97,
          18.88,
          18.79,
          18.69,
          18.59,
          18.49,
          18.39,
          18.3,
          18.2,
          18.1,
          18.08,
          17.92,
          17.82,
          17.72,
          17.62,
          17.53,
          17.43,
          17.35,
          17.25,
          17.16,
          17.06,
          16.96,
          16.88,
          16.78,
          16.69,
          16.59,
          16.51,
          16.42,
          16.34,
          16.24,
          16.16,
          16.06,
          15.98,
          15.9,
          15.81,
          15.72,
          15.64,
          15.55,
          15.48,
          15.39,
          15.31,
          15.24,
          15.15,
          15.07,
          15,
          14.92,
          14.84,
          14.82,
          14.75,
          14.67,
          14.61,
          14.52,
          14.46,
          14.39,
          14.32,
          14.15,
          14.03,
          13.76,
          13.51,
          13.28,
          13.04
         ],
         "yaxis": "y2"
        }
       ],
       "layout": {
        "legend": {
         "bgcolor": "#F5F6F9",
         "font": {
          "color": "#4D5663"
         }
        },
        "paper_bgcolor": "#F5F6F9",
        "plot_bgcolor": "#F5F6F9",
        "template": {
         "data": {
          "bar": [
           {
            "error_x": {
             "color": "#2a3f5f"
            },
            "error_y": {
             "color": "#2a3f5f"
            },
            "marker": {
             "line": {
              "color": "#E5ECF6",
              "width": 0.5
             }
            },
            "type": "bar"
           }
          ],
          "barpolar": [
           {
            "marker": {
             "line": {
              "color": "#E5ECF6",
              "width": 0.5
             }
            },
            "type": "barpolar"
           }
          ],
          "carpet": [
           {
            "aaxis": {
             "endlinecolor": "#2a3f5f",
             "gridcolor": "white",
             "linecolor": "white",
             "minorgridcolor": "white",
             "startlinecolor": "#2a3f5f"
            },
            "baxis": {
             "endlinecolor": "#2a3f5f",
             "gridcolor": "white",
             "linecolor": "white",
             "minorgridcolor": "white",
             "startlinecolor": "#2a3f5f"
            },
            "type": "carpet"
           }
          ],
          "choropleth": [
           {
            "colorbar": {
             "outlinewidth": 0,
             "ticks": ""
            },
            "type": "choropleth"
           }
          ],
          "contour": [
           {
            "colorbar": {
             "outlinewidth": 0,
             "ticks": ""
            },
            "colorscale": [
             [
              0,
              "#0d0887"
             ],
             [
              0.1111111111111111,
              "#46039f"
             ],
             [
              0.2222222222222222,
              "#7201a8"
             ],
             [
              0.3333333333333333,
              "#9c179e"
             ],
             [
              0.4444444444444444,
              "#bd3786"
             ],
             [
              0.5555555555555556,
              "#d8576b"
             ],
             [
              0.6666666666666666,
              "#ed7953"
             ],
             [
              0.7777777777777778,
              "#fb9f3a"
             ],
             [
              0.8888888888888888,
              "#fdca26"
             ],
             [
              1,
              "#f0f921"
             ]
            ],
            "type": "contour"
           }
          ],
          "contourcarpet": [
           {
            "colorbar": {
             "outlinewidth": 0,
             "ticks": ""
            },
            "type": "contourcarpet"
           }
          ],
          "heatmap": [
           {
            "colorbar": {
             "outlinewidth": 0,
             "ticks": ""
            },
            "colorscale": [
             [
              0,
              "#0d0887"
             ],
             [
              0.1111111111111111,
              "#46039f"
             ],
             [
              0.2222222222222222,
              "#7201a8"
             ],
             [
              0.3333333333333333,
              "#9c179e"
             ],
             [
              0.4444444444444444,
              "#bd3786"
             ],
             [
              0.5555555555555556,
              "#d8576b"
             ],
             [
              0.6666666666666666,
              "#ed7953"
             ],
             [
              0.7777777777777778,
              "#fb9f3a"
             ],
             [
              0.8888888888888888,
              "#fdca26"
             ],
             [
              1,
              "#f0f921"
             ]
            ],
            "type": "heatmap"
           }
          ],
          "heatmapgl": [
           {
            "colorbar": {
             "outlinewidth": 0,
             "ticks": ""
            },
            "colorscale": [
             [
              0,
              "#0d0887"
             ],
             [
              0.1111111111111111,
              "#46039f"
             ],
             [
              0.2222222222222222,
              "#7201a8"
             ],
             [
              0.3333333333333333,
              "#9c179e"
             ],
             [
              0.4444444444444444,
              "#bd3786"
             ],
             [
              0.5555555555555556,
              "#d8576b"
             ],
             [
              0.6666666666666666,
              "#ed7953"
             ],
             [
              0.7777777777777778,
              "#fb9f3a"
             ],
             [
              0.8888888888888888,
              "#fdca26"
             ],
             [
              1,
              "#f0f921"
             ]
            ],
            "type": "heatmapgl"
           }
          ],
          "histogram": [
           {
            "marker": {
             "colorbar": {
              "outlinewidth": 0,
              "ticks": ""
             }
            },
            "type": "histogram"
           }
          ],
          "histogram2d": [
           {
            "colorbar": {
             "outlinewidth": 0,
             "ticks": ""
            },
            "colorscale": [
             [
              0,
              "#0d0887"
             ],
             [
              0.1111111111111111,
              "#46039f"
             ],
             [
              0.2222222222222222,
              "#7201a8"
             ],
             [
              0.3333333333333333,
              "#9c179e"
             ],
             [
              0.4444444444444444,
              "#bd3786"
             ],
             [
              0.5555555555555556,
              "#d8576b"
             ],
             [
              0.6666666666666666,
              "#ed7953"
             ],
             [
              0.7777777777777778,
              "#fb9f3a"
             ],
             [
              0.8888888888888888,
              "#fdca26"
             ],
             [
              1,
              "#f0f921"
             ]
            ],
            "type": "histogram2d"
           }
          ],
          "histogram2dcontour": [
           {
            "colorbar": {
             "outlinewidth": 0,
             "ticks": ""
            },
            "colorscale": [
             [
              0,
              "#0d0887"
             ],
             [
              0.1111111111111111,
              "#46039f"
             ],
             [
              0.2222222222222222,
              "#7201a8"
             ],
             [
              0.3333333333333333,
              "#9c179e"
             ],
             [
              0.4444444444444444,
              "#bd3786"
             ],
             [
              0.5555555555555556,
              "#d8576b"
             ],
             [
              0.6666666666666666,
              "#ed7953"
             ],
             [
              0.7777777777777778,
              "#fb9f3a"
             ],
             [
              0.8888888888888888,
              "#fdca26"
             ],
             [
              1,
              "#f0f921"
             ]
            ],
            "type": "histogram2dcontour"
           }
          ],
          "mesh3d": [
           {
            "colorbar": {
             "outlinewidth": 0,
             "ticks": ""
            },
            "type": "mesh3d"
           }
          ],
          "parcoords": [
           {
            "line": {
             "colorbar": {
              "outlinewidth": 0,
              "ticks": ""
             }
            },
            "type": "parcoords"
           }
          ],
          "pie": [
           {
            "automargin": true,
            "type": "pie"
           }
          ],
          "scatter": [
           {
            "marker": {
             "colorbar": {
              "outlinewidth": 0,
              "ticks": ""
             }
            },
            "type": "scatter"
           }
          ],
          "scatter3d": [
           {
            "line": {
             "colorbar": {
              "outlinewidth": 0,
              "ticks": ""
             }
            },
            "marker": {
             "colorbar": {
              "outlinewidth": 0,
              "ticks": ""
             }
            },
            "type": "scatter3d"
           }
          ],
          "scattercarpet": [
           {
            "marker": {
             "colorbar": {
              "outlinewidth": 0,
              "ticks": ""
             }
            },
            "type": "scattercarpet"
           }
          ],
          "scattergeo": [
           {
            "marker": {
             "colorbar": {
              "outlinewidth": 0,
              "ticks": ""
             }
            },
            "type": "scattergeo"
           }
          ],
          "scattergl": [
           {
            "marker": {
             "colorbar": {
              "outlinewidth": 0,
              "ticks": ""
             }
            },
            "type": "scattergl"
           }
          ],
          "scattermapbox": [
           {
            "marker": {
             "colorbar": {
              "outlinewidth": 0,
              "ticks": ""
             }
            },
            "type": "scattermapbox"
           }
          ],
          "scatterpolar": [
           {
            "marker": {
             "colorbar": {
              "outlinewidth": 0,
              "ticks": ""
             }
            },
            "type": "scatterpolar"
           }
          ],
          "scatterpolargl": [
           {
            "marker": {
             "colorbar": {
              "outlinewidth": 0,
              "ticks": ""
             }
            },
            "type": "scatterpolargl"
           }
          ],
          "scatterternary": [
           {
            "marker": {
             "colorbar": {
              "outlinewidth": 0,
              "ticks": ""
             }
            },
            "type": "scatterternary"
           }
          ],
          "surface": [
           {
            "colorbar": {
             "outlinewidth": 0,
             "ticks": ""
            },
            "colorscale": [
             [
              0,
              "#0d0887"
             ],
             [
              0.1111111111111111,
              "#46039f"
             ],
             [
              0.2222222222222222,
              "#7201a8"
             ],
             [
              0.3333333333333333,
              "#9c179e"
             ],
             [
              0.4444444444444444,
              "#bd3786"
             ],
             [
              0.5555555555555556,
              "#d8576b"
             ],
             [
              0.6666666666666666,
              "#ed7953"
             ],
             [
              0.7777777777777778,
              "#fb9f3a"
             ],
             [
              0.8888888888888888,
              "#fdca26"
             ],
             [
              1,
              "#f0f921"
             ]
            ],
            "type": "surface"
           }
          ],
          "table": [
           {
            "cells": {
             "fill": {
              "color": "#EBF0F8"
             },
             "line": {
              "color": "white"
             }
            },
            "header": {
             "fill": {
              "color": "#C8D4E3"
             },
             "line": {
              "color": "white"
             }
            },
            "type": "table"
           }
          ]
         },
         "layout": {
          "annotationdefaults": {
           "arrowcolor": "#2a3f5f",
           "arrowhead": 0,
           "arrowwidth": 1
          },
          "coloraxis": {
           "colorbar": {
            "outlinewidth": 0,
            "ticks": ""
           }
          },
          "colorscale": {
           "diverging": [
            [
             0,
             "#8e0152"
            ],
            [
             0.1,
             "#c51b7d"
            ],
            [
             0.2,
             "#de77ae"
            ],
            [
             0.3,
             "#f1b6da"
            ],
            [
             0.4,
             "#fde0ef"
            ],
            [
             0.5,
             "#f7f7f7"
            ],
            [
             0.6,
             "#e6f5d0"
            ],
            [
             0.7,
             "#b8e186"
            ],
            [
             0.8,
             "#7fbc41"
            ],
            [
             0.9,
             "#4d9221"
            ],
            [
             1,
             "#276419"
            ]
           ],
           "sequential": [
            [
             0,
             "#0d0887"
            ],
            [
             0.1111111111111111,
             "#46039f"
            ],
            [
             0.2222222222222222,
             "#7201a8"
            ],
            [
             0.3333333333333333,
             "#9c179e"
            ],
            [
             0.4444444444444444,
             "#bd3786"
            ],
            [
             0.5555555555555556,
             "#d8576b"
            ],
            [
             0.6666666666666666,
             "#ed7953"
            ],
            [
             0.7777777777777778,
             "#fb9f3a"
            ],
            [
             0.8888888888888888,
             "#fdca26"
            ],
            [
             1,
             "#f0f921"
            ]
           ],
           "sequentialminus": [
            [
             0,
             "#0d0887"
            ],
            [
             0.1111111111111111,
             "#46039f"
            ],
            [
             0.2222222222222222,
             "#7201a8"
            ],
            [
             0.3333333333333333,
             "#9c179e"
            ],
            [
             0.4444444444444444,
             "#bd3786"
            ],
            [
             0.5555555555555556,
             "#d8576b"
            ],
            [
             0.6666666666666666,
             "#ed7953"
            ],
            [
             0.7777777777777778,
             "#fb9f3a"
            ],
            [
             0.8888888888888888,
             "#fdca26"
            ],
            [
             1,
             "#f0f921"
            ]
           ]
          },
          "colorway": [
           "#636efa",
           "#EF553B",
           "#00cc96",
           "#ab63fa",
           "#FFA15A",
           "#19d3f3",
           "#FF6692",
           "#B6E880",
           "#FF97FF",
           "#FECB52"
          ],
          "font": {
           "color": "#2a3f5f"
          },
          "geo": {
           "bgcolor": "white",
           "lakecolor": "white",
           "landcolor": "#E5ECF6",
           "showlakes": true,
           "showland": true,
           "subunitcolor": "white"
          },
          "hoverlabel": {
           "align": "left"
          },
          "hovermode": "closest",
          "mapbox": {
           "style": "light"
          },
          "paper_bgcolor": "white",
          "plot_bgcolor": "#E5ECF6",
          "polar": {
           "angularaxis": {
            "gridcolor": "white",
            "linecolor": "white",
            "ticks": ""
           },
           "bgcolor": "#E5ECF6",
           "radialaxis": {
            "gridcolor": "white",
            "linecolor": "white",
            "ticks": ""
           }
          },
          "scene": {
           "xaxis": {
            "backgroundcolor": "#E5ECF6",
            "gridcolor": "white",
            "gridwidth": 2,
            "linecolor": "white",
            "showbackground": true,
            "ticks": "",
            "zerolinecolor": "white"
           },
           "yaxis": {
            "backgroundcolor": "#E5ECF6",
            "gridcolor": "white",
            "gridwidth": 2,
            "linecolor": "white",
            "showbackground": true,
            "ticks": "",
            "zerolinecolor": "white"
           },
           "zaxis": {
            "backgroundcolor": "#E5ECF6",
            "gridcolor": "white",
            "gridwidth": 2,
            "linecolor": "white",
            "showbackground": true,
            "ticks": "",
            "zerolinecolor": "white"
           }
          },
          "shapedefaults": {
           "line": {
            "color": "#2a3f5f"
           }
          },
          "ternary": {
           "aaxis": {
            "gridcolor": "white",
            "linecolor": "white",
            "ticks": ""
           },
           "baxis": {
            "gridcolor": "white",
            "linecolor": "white",
            "ticks": ""
           },
           "bgcolor": "#E5ECF6",
           "caxis": {
            "gridcolor": "white",
            "linecolor": "white",
            "ticks": ""
           }
          },
          "title": {
           "x": 0.05
          },
          "xaxis": {
           "automargin": true,
           "gridcolor": "white",
           "linecolor": "white",
           "ticks": "",
           "title": {
            "standoff": 15
           },
           "zerolinecolor": "white",
           "zerolinewidth": 2
          },
          "yaxis": {
           "automargin": true,
           "gridcolor": "white",
           "linecolor": "white",
           "ticks": "",
           "title": {
            "standoff": 15
           },
           "zerolinecolor": "white",
           "zerolinewidth": 2
          }
         }
        },
        "title": {
         "font": {
          "color": "#4D5663"
         },
         "text": "2021-06-18"
        },
        "xaxis": {
         "gridcolor": "#E1E5ED",
         "showgrid": true,
         "tickfont": {
          "color": "#4D5663"
         },
         "title": {
          "font": {
           "color": "#4D5663"
          },
          "text": "strike price"
         },
         "zerolinecolor": "#E1E5ED"
        },
        "yaxis": {
         "gridcolor": "#E1E5ED",
         "showgrid": true,
         "tickfont": {
          "color": "#4D5663"
         },
         "title": {
          "font": {
           "color": "#4D5663"
          },
          "text": ""
         },
         "zerolinecolor": "#E1E5ED"
        },
        "yaxis2": {
         "anchor": "x",
         "gridcolor": "#E1E5ED",
         "overlaying": "y",
         "showgrid": true,
         "side": "right",
         "tickfont": {
          "color": "#4D5663"
         },
         "title": {
          "text": ""
         },
         "zerolinecolor": "#E1E5ED"
        }
       }
      },
      "text/html": [
       "<div>\n",
       "        \n",
       "        \n",
       "            <div id=\"0fa24dfb-3d6d-4cfa-90c6-24404f47ecc0\" class=\"plotly-graph-div\" style=\"height:525px; width:100%;\"></div>\n",
       "            <script type=\"text/javascript\">\n",
       "                require([\"plotly\"], function(Plotly) {\n",
       "                    window.PLOTLYENV=window.PLOTLYENV || {};\n",
       "                    window.PLOTLYENV.BASE_URL='https://plot.ly';\n",
       "                    \n",
       "                if (document.getElementById(\"0fa24dfb-3d6d-4cfa-90c6-24404f47ecc0\")) {\n",
       "                    Plotly.newPlot(\n",
       "                        '0fa24dfb-3d6d-4cfa-90c6-24404f47ecc0',\n",
       "                        [{\"line\": {\"color\": \"rgba(255, 153, 51, 1.0)\", \"dash\": \"solid\", \"shape\": \"linear\", \"width\": 1.3}, \"marker\": {\"size\": 6, \"symbol\": \"circle\"}, \"mode\": \"lines+markers\", \"name\": \"CF_CLOSE\", \"text\": \"\", \"type\": \"scatter\", \"x\": [11400.0, 11500.0, 11550.0, 11600.0, 11650.0, 11700.0, 11750.0, 11800.0, 11850.0, 11900.0, 11950.0, 12000.0, 12050.0, 12100.0, 12150.0, 12200.0, 12250.0, 12300.0, 12350.0, 12400.0, 12450.0, 12500.0, 12550.0, 12600.0, 12650.0, 12700.0, 12750.0, 12800.0, 12850.0, 12900.0, 12950.0, 13000.0, 13050.0, 13100.0, 13150.0, 13200.0, 13250.0, 13300.0, 13350.0, 13400.0, 13450.0, 13500.0, 13550.0, 13600.0, 13650.0, 13700.0, 13750.0, 13800.0, 13850.0, 13900.0, 13950.0, 14000.0, 14050.0, 14100.0, 14150.0, 14200.0, 14300.0, 14400.0, 14600.0, 14800.0, 15000.0, 15200.0], \"y\": [440.8, 461.1, 471.8, 482.9, 494.0, 505.1, 516.2, 528.7, 540.3, 552.5, 565.3, 578.0, 590.7, 604.0, 617.8, 631.6, 646.0, 660.3, 675.3, 690.2, 705.6, 721.1, 737.1, 753.2, 770.2, 787.0, 804.5, 821.9, 840.0, 858.1, 876.7, 895.4, 914.7, 934.6, 954.5, 975.0, 996.2, 1018.0, 1039.8, 1062.5, 1084.7, 1108.2, 1131.7, 1155.8, 1180.5, 1205.2, 1230.6, 1255.9, 1281.9, 1309.2, 1335.9, 1363.8, 1391.7, 1420.4, 1448.9, 1478.6, 1538.5, 1600.8, 1730.9, 1868.0, 2012.4, 2163.6]}, {\"line\": {\"color\": \"rgba(55, 128, 191, 1.0)\", \"dash\": \"solid\", \"shape\": \"linear\", \"width\": 1.3}, \"marker\": {\"size\": 6, \"symbol\": \"circle\"}, \"mode\": \"lines+markers\", \"name\": \"IMP_VOLT\", \"text\": \"\", \"type\": \"scatter\", \"x\": [11400.0, 11500.0, 11550.0, 11600.0, 11650.0, 11700.0, 11750.0, 11800.0, 11850.0, 11900.0, 11950.0, 12000.0, 12050.0, 12100.0, 12150.0, 12200.0, 12250.0, 12300.0, 12350.0, 12400.0, 12450.0, 12500.0, 12550.0, 12600.0, 12650.0, 12700.0, 12750.0, 12800.0, 12850.0, 12900.0, 12950.0, 13000.0, 13050.0, 13100.0, 13150.0, 13200.0, 13250.0, 13300.0, 13350.0, 13400.0, 13450.0, 13500.0, 13550.0, 13600.0, 13650.0, 13700.0, 13750.0, 13800.0, 13850.0, 13900.0, 13950.0, 14000.0, 14050.0, 14100.0, 14150.0, 14200.0, 14300.0, 14400.0, 14600.0, 14800.0, 15000.0, 15200.0], \"xaxis\": \"x\", \"y\": [19.18, 18.97, 18.88, 18.79, 18.69, 18.59, 18.49, 18.39, 18.3, 18.2, 18.1, 18.08, 17.92, 17.82, 17.72, 17.62, 17.53, 17.43, 17.35, 17.25, 17.16, 17.06, 16.96, 16.88, 16.78, 16.69, 16.59, 16.51, 16.42, 16.34, 16.24, 16.16, 16.06, 15.98, 15.9, 15.81, 15.72, 15.64, 15.55, 15.48, 15.39, 15.31, 15.24, 15.15, 15.07, 15.0, 14.92, 14.84, 14.82, 14.75, 14.67, 14.61, 14.52, 14.46, 14.39, 14.32, 14.15, 14.03, 13.76, 13.51, 13.28, 13.04], \"yaxis\": \"y2\"}],\n",
       "                        {\"legend\": {\"bgcolor\": \"#F5F6F9\", \"font\": {\"color\": \"#4D5663\"}}, \"paper_bgcolor\": \"#F5F6F9\", \"plot_bgcolor\": \"#F5F6F9\", \"template\": {\"data\": {\"bar\": [{\"error_x\": {\"color\": \"#2a3f5f\"}, \"error_y\": {\"color\": \"#2a3f5f\"}, \"marker\": {\"line\": {\"color\": \"#E5ECF6\", \"width\": 0.5}}, \"type\": \"bar\"}], \"barpolar\": [{\"marker\": {\"line\": {\"color\": \"#E5ECF6\", \"width\": 0.5}}, \"type\": \"barpolar\"}], \"carpet\": [{\"aaxis\": {\"endlinecolor\": \"#2a3f5f\", \"gridcolor\": \"white\", \"linecolor\": \"white\", \"minorgridcolor\": \"white\", \"startlinecolor\": \"#2a3f5f\"}, \"baxis\": {\"endlinecolor\": \"#2a3f5f\", \"gridcolor\": \"white\", \"linecolor\": \"white\", \"minorgridcolor\": \"white\", \"startlinecolor\": \"#2a3f5f\"}, \"type\": \"carpet\"}], \"choropleth\": [{\"colorbar\": {\"outlinewidth\": 0, \"ticks\": \"\"}, \"type\": \"choropleth\"}], \"contour\": [{\"colorbar\": {\"outlinewidth\": 0, \"ticks\": \"\"}, \"colorscale\": [[0.0, \"#0d0887\"], [0.1111111111111111, \"#46039f\"], [0.2222222222222222, \"#7201a8\"], [0.3333333333333333, \"#9c179e\"], [0.4444444444444444, \"#bd3786\"], [0.5555555555555556, \"#d8576b\"], [0.6666666666666666, \"#ed7953\"], [0.7777777777777778, \"#fb9f3a\"], [0.8888888888888888, \"#fdca26\"], [1.0, \"#f0f921\"]], \"type\": \"contour\"}], \"contourcarpet\": [{\"colorbar\": {\"outlinewidth\": 0, \"ticks\": \"\"}, \"type\": \"contourcarpet\"}], \"heatmap\": [{\"colorbar\": {\"outlinewidth\": 0, \"ticks\": \"\"}, \"colorscale\": [[0.0, \"#0d0887\"], [0.1111111111111111, \"#46039f\"], [0.2222222222222222, \"#7201a8\"], [0.3333333333333333, \"#9c179e\"], [0.4444444444444444, \"#bd3786\"], [0.5555555555555556, \"#d8576b\"], [0.6666666666666666, \"#ed7953\"], [0.7777777777777778, \"#fb9f3a\"], [0.8888888888888888, \"#fdca26\"], [1.0, \"#f0f921\"]], \"type\": \"heatmap\"}], \"heatmapgl\": [{\"colorbar\": {\"outlinewidth\": 0, \"ticks\": \"\"}, \"colorscale\": [[0.0, \"#0d0887\"], [0.1111111111111111, \"#46039f\"], [0.2222222222222222, \"#7201a8\"], [0.3333333333333333, \"#9c179e\"], [0.4444444444444444, \"#bd3786\"], [0.5555555555555556, \"#d8576b\"], [0.6666666666666666, \"#ed7953\"], [0.7777777777777778, \"#fb9f3a\"], [0.8888888888888888, \"#fdca26\"], [1.0, \"#f0f921\"]], \"type\": \"heatmapgl\"}], \"histogram\": [{\"marker\": {\"colorbar\": {\"outlinewidth\": 0, \"ticks\": \"\"}}, \"type\": \"histogram\"}], \"histogram2d\": [{\"colorbar\": {\"outlinewidth\": 0, \"ticks\": \"\"}, \"colorscale\": [[0.0, \"#0d0887\"], [0.1111111111111111, \"#46039f\"], [0.2222222222222222, \"#7201a8\"], [0.3333333333333333, \"#9c179e\"], [0.4444444444444444, \"#bd3786\"], [0.5555555555555556, \"#d8576b\"], [0.6666666666666666, \"#ed7953\"], [0.7777777777777778, \"#fb9f3a\"], [0.8888888888888888, \"#fdca26\"], [1.0, \"#f0f921\"]], \"type\": \"histogram2d\"}], \"histogram2dcontour\": [{\"colorbar\": {\"outlinewidth\": 0, \"ticks\": \"\"}, \"colorscale\": [[0.0, \"#0d0887\"], [0.1111111111111111, \"#46039f\"], [0.2222222222222222, \"#7201a8\"], [0.3333333333333333, \"#9c179e\"], [0.4444444444444444, \"#bd3786\"], [0.5555555555555556, \"#d8576b\"], [0.6666666666666666, \"#ed7953\"], [0.7777777777777778, \"#fb9f3a\"], [0.8888888888888888, \"#fdca26\"], [1.0, \"#f0f921\"]], \"type\": \"histogram2dcontour\"}], \"mesh3d\": [{\"colorbar\": {\"outlinewidth\": 0, \"ticks\": \"\"}, \"type\": \"mesh3d\"}], \"parcoords\": [{\"line\": {\"colorbar\": {\"outlinewidth\": 0, \"ticks\": \"\"}}, \"type\": \"parcoords\"}], \"pie\": [{\"automargin\": true, \"type\": \"pie\"}], \"scatter\": [{\"marker\": {\"colorbar\": {\"outlinewidth\": 0, \"ticks\": \"\"}}, \"type\": \"scatter\"}], \"scatter3d\": [{\"line\": {\"colorbar\": {\"outlinewidth\": 0, \"ticks\": \"\"}}, \"marker\": {\"colorbar\": {\"outlinewidth\": 0, \"ticks\": \"\"}}, \"type\": \"scatter3d\"}], \"scattercarpet\": [{\"marker\": {\"colorbar\": {\"outlinewidth\": 0, \"ticks\": \"\"}}, \"type\": \"scattercarpet\"}], \"scattergeo\": [{\"marker\": {\"colorbar\": {\"outlinewidth\": 0, \"ticks\": \"\"}}, \"type\": \"scattergeo\"}], \"scattergl\": [{\"marker\": {\"colorbar\": {\"outlinewidth\": 0, \"ticks\": \"\"}}, \"type\": \"scattergl\"}], \"scattermapbox\": [{\"marker\": {\"colorbar\": {\"outlinewidth\": 0, \"ticks\": \"\"}}, \"type\": \"scattermapbox\"}], \"scatterpolar\": [{\"marker\": {\"colorbar\": {\"outlinewidth\": 0, \"ticks\": \"\"}}, \"type\": \"scatterpolar\"}], \"scatterpolargl\": [{\"marker\": {\"colorbar\": {\"outlinewidth\": 0, \"ticks\": \"\"}}, \"type\": \"scatterpolargl\"}], \"scatterternary\": [{\"marker\": {\"colorbar\": {\"outlinewidth\": 0, \"ticks\": \"\"}}, \"type\": \"scatterternary\"}], \"surface\": [{\"colorbar\": {\"outlinewidth\": 0, \"ticks\": \"\"}, \"colorscale\": [[0.0, \"#0d0887\"], [0.1111111111111111, \"#46039f\"], [0.2222222222222222, \"#7201a8\"], [0.3333333333333333, \"#9c179e\"], [0.4444444444444444, \"#bd3786\"], [0.5555555555555556, \"#d8576b\"], [0.6666666666666666, \"#ed7953\"], [0.7777777777777778, \"#fb9f3a\"], [0.8888888888888888, \"#fdca26\"], [1.0, \"#f0f921\"]], \"type\": \"surface\"}], \"table\": [{\"cells\": {\"fill\": {\"color\": \"#EBF0F8\"}, \"line\": {\"color\": \"white\"}}, \"header\": {\"fill\": {\"color\": \"#C8D4E3\"}, \"line\": {\"color\": \"white\"}}, \"type\": \"table\"}]}, \"layout\": {\"annotationdefaults\": {\"arrowcolor\": \"#2a3f5f\", \"arrowhead\": 0, \"arrowwidth\": 1}, \"coloraxis\": {\"colorbar\": {\"outlinewidth\": 0, \"ticks\": \"\"}}, \"colorscale\": {\"diverging\": [[0, \"#8e0152\"], [0.1, \"#c51b7d\"], [0.2, \"#de77ae\"], [0.3, \"#f1b6da\"], [0.4, \"#fde0ef\"], [0.5, \"#f7f7f7\"], [0.6, \"#e6f5d0\"], [0.7, \"#b8e186\"], [0.8, \"#7fbc41\"], [0.9, \"#4d9221\"], [1, \"#276419\"]], \"sequential\": [[0.0, \"#0d0887\"], [0.1111111111111111, \"#46039f\"], [0.2222222222222222, \"#7201a8\"], [0.3333333333333333, \"#9c179e\"], [0.4444444444444444, \"#bd3786\"], [0.5555555555555556, \"#d8576b\"], [0.6666666666666666, \"#ed7953\"], [0.7777777777777778, \"#fb9f3a\"], [0.8888888888888888, \"#fdca26\"], [1.0, \"#f0f921\"]], \"sequentialminus\": [[0.0, \"#0d0887\"], [0.1111111111111111, \"#46039f\"], [0.2222222222222222, \"#7201a8\"], [0.3333333333333333, \"#9c179e\"], [0.4444444444444444, \"#bd3786\"], [0.5555555555555556, \"#d8576b\"], [0.6666666666666666, \"#ed7953\"], [0.7777777777777778, \"#fb9f3a\"], [0.8888888888888888, \"#fdca26\"], [1.0, \"#f0f921\"]]}, \"colorway\": [\"#636efa\", \"#EF553B\", \"#00cc96\", \"#ab63fa\", \"#FFA15A\", \"#19d3f3\", \"#FF6692\", \"#B6E880\", \"#FF97FF\", \"#FECB52\"], \"font\": {\"color\": \"#2a3f5f\"}, \"geo\": {\"bgcolor\": \"white\", \"lakecolor\": \"white\", \"landcolor\": \"#E5ECF6\", \"showlakes\": true, \"showland\": true, \"subunitcolor\": \"white\"}, \"hoverlabel\": {\"align\": \"left\"}, \"hovermode\": \"closest\", \"mapbox\": {\"style\": \"light\"}, \"paper_bgcolor\": \"white\", \"plot_bgcolor\": \"#E5ECF6\", \"polar\": {\"angularaxis\": {\"gridcolor\": \"white\", \"linecolor\": \"white\", \"ticks\": \"\"}, \"bgcolor\": \"#E5ECF6\", \"radialaxis\": {\"gridcolor\": \"white\", \"linecolor\": \"white\", \"ticks\": \"\"}}, \"scene\": {\"xaxis\": {\"backgroundcolor\": \"#E5ECF6\", \"gridcolor\": \"white\", \"gridwidth\": 2, \"linecolor\": \"white\", \"showbackground\": true, \"ticks\": \"\", \"zerolinecolor\": \"white\"}, \"yaxis\": {\"backgroundcolor\": \"#E5ECF6\", \"gridcolor\": \"white\", \"gridwidth\": 2, \"linecolor\": \"white\", \"showbackground\": true, \"ticks\": \"\", \"zerolinecolor\": \"white\"}, \"zaxis\": {\"backgroundcolor\": \"#E5ECF6\", \"gridcolor\": \"white\", \"gridwidth\": 2, \"linecolor\": \"white\", \"showbackground\": true, \"ticks\": \"\", \"zerolinecolor\": \"white\"}}, \"shapedefaults\": {\"line\": {\"color\": \"#2a3f5f\"}}, \"ternary\": {\"aaxis\": {\"gridcolor\": \"white\", \"linecolor\": \"white\", \"ticks\": \"\"}, \"baxis\": {\"gridcolor\": \"white\", \"linecolor\": \"white\", \"ticks\": \"\"}, \"bgcolor\": \"#E5ECF6\", \"caxis\": {\"gridcolor\": \"white\", \"linecolor\": \"white\", \"ticks\": \"\"}}, \"title\": {\"x\": 0.05}, \"xaxis\": {\"automargin\": true, \"gridcolor\": \"white\", \"linecolor\": \"white\", \"ticks\": \"\", \"title\": {\"standoff\": 15}, \"zerolinecolor\": \"white\", \"zerolinewidth\": 2}, \"yaxis\": {\"automargin\": true, \"gridcolor\": \"white\", \"linecolor\": \"white\", \"ticks\": \"\", \"title\": {\"standoff\": 15}, \"zerolinecolor\": \"white\", \"zerolinewidth\": 2}}}, \"title\": {\"font\": {\"color\": \"#4D5663\"}, \"text\": \"2021-06-18\"}, \"xaxis\": {\"gridcolor\": \"#E1E5ED\", \"showgrid\": true, \"tickfont\": {\"color\": \"#4D5663\"}, \"title\": {\"font\": {\"color\": \"#4D5663\"}, \"text\": \"strike price\"}, \"zerolinecolor\": \"#E1E5ED\"}, \"yaxis\": {\"gridcolor\": \"#E1E5ED\", \"showgrid\": true, \"tickfont\": {\"color\": \"#4D5663\"}, \"title\": {\"font\": {\"color\": \"#4D5663\"}, \"text\": \"\"}, \"zerolinecolor\": \"#E1E5ED\"}, \"yaxis2\": {\"anchor\": \"x\", \"gridcolor\": \"#E1E5ED\", \"overlaying\": \"y\", \"showgrid\": true, \"side\": \"right\", \"tickfont\": {\"color\": \"#4D5663\"}, \"title\": {\"text\": \"\"}, \"zerolinecolor\": \"#E1E5ED\"}},\n",
       "                        {\"showLink\": true, \"linkText\": \"Export to plot.ly\", \"plotlyServerURL\": \"https://plot.ly\", \"responsive\": true}\n",
       "                    ).then(function(){\n",
       "                            \n",
       "var gd = document.getElementById('0fa24dfb-3d6d-4cfa-90c6-24404f47ecc0');\n",
       "var x = new MutationObserver(function (mutations, observer) {{\n",
       "        var display = window.getComputedStyle(gd).display;\n",
       "        if (!display || display === 'none') {{\n",
       "            console.log([gd, 'removed!']);\n",
       "            Plotly.purge(gd);\n",
       "            observer.disconnect();\n",
       "        }}\n",
       "}});\n",
       "\n",
       "// Listen for the removal of the full notebook cells\n",
       "var notebookContainer = gd.closest('#notebook-container');\n",
       "if (notebookContainer) {{\n",
       "    x.observe(notebookContainer, {childList: true});\n",
       "}}\n",
       "\n",
       "// Listen for the clearing of the current output cell\n",
       "var outputEl = gd.closest('.output');\n",
       "if (outputEl) {{\n",
       "    x.observe(outputEl, {childList: true});\n",
       "}}\n",
       "\n",
       "                        })\n",
       "                };\n",
       "                });\n",
       "            </script>\n",
       "        </div>"
      ]
     },
     "metadata": {},
     "output_type": "display_data"
    }
   ],
   "source": [
    "for expiry in exp_dates:\n",
    "    to_plot = puts[puts['EXPIR_DATE'] == expiry]\n",
    "    to_plot.set_index('STRIKE_PRC')[['CF_CLOSE', 'IMP_VOLT']].iplot(title=expiry, secondary_y=['IMP_VOLT'], mode='lines+markers', size=6, xTitle='strike price')"
   ]
  },
  {
   "cell_type": "code",
   "execution_count": 34,
   "metadata": {},
   "outputs": [
    {
     "data": {
      "application/vnd.plotly.v1+json": {
       "config": {
        "linkText": "Export to plot.ly",
        "plotlyServerURL": "https://plot.ly",
        "showLink": true
       },
       "data": [
        {
         "line": {
          "color": "rgba(255, 153, 51, 1.0)",
          "dash": "solid",
          "shape": "linear",
          "width": 1.3
         },
         "marker": {
          "size": 6,
          "symbol": "circle"
         },
         "mode": "lines+markers",
         "name": "CF_CLOSE",
         "text": "",
         "type": "scatter",
         "x": [
          11400,
          11450,
          11500,
          11550,
          11600,
          11650,
          11700,
          11750,
          11800,
          11850,
          11900,
          11950,
          12000,
          12050,
          12100,
          12150,
          12200,
          12250,
          12300,
          12350,
          12400,
          12450,
          12500,
          12550,
          12600,
          12650,
          12700,
          12750,
          12800,
          12850,
          12900,
          12950,
          13000,
          13050,
          13100,
          13150,
          13200,
          13250,
          13300,
          13350,
          13400,
          13450,
          13500,
          13550,
          13600,
          13650,
          13700,
          13750,
          13800,
          13850,
          13900,
          13950,
          14000,
          14050,
          14100,
          14150,
          14200,
          14250,
          14300,
          14350,
          14400,
          14450,
          14500,
          14550,
          14600,
          14650,
          14700,
          14750,
          14800,
          14850,
          14900,
          14950,
          15000,
          15050,
          15100,
          15150,
          15200,
          15250,
          15300
         ],
         "y": [
          1905.8,
          1856,
          1806.3,
          1756.5,
          1706.8,
          1657.1,
          1607.5,
          1557.9,
          1508.3,
          1458.8,
          1409.3,
          1359.8,
          1310.4,
          1261.1,
          1211.8,
          1162.6,
          1113.5,
          1064.5,
          1015.7,
          966.9,
          918.4,
          870,
          821.8,
          773.9,
          726.3,
          679.1,
          632.5,
          586.5,
          541.1,
          496.4,
          452.6,
          409.8,
          368.2,
          327.9,
          289.2,
          252.2,
          217.2,
          184.5,
          154.5,
          127.2,
          103.3,
          82.3,
          64.1,
          49.3,
          37.4,
          27.9,
          20.6,
          15,
          10.8,
          7.6,
          5.4,
          3.7,
          2.6,
          1.8,
          1.3,
          0.9,
          0.6,
          0.4,
          0.3,
          0.2,
          0.2,
          0.1,
          0.1,
          0.1,
          0.1,
          0.1,
          0.1,
          0.1,
          0.1,
          0.1,
          0.1,
          0.1,
          0.1,
          0.1,
          0.1,
          0.1,
          0.1,
          0.1,
          0.1
         ]
        },
        {
         "line": {
          "color": "rgba(55, 128, 191, 1.0)",
          "dash": "solid",
          "shape": "linear",
          "width": 1.3
         },
         "marker": {
          "size": 6,
          "symbol": "circle"
         },
         "mode": "lines+markers",
         "name": "IMP_VOLT",
         "text": "",
         "type": "scatter",
         "x": [
          11400,
          11450,
          11500,
          11550,
          11600,
          11650,
          11700,
          11750,
          11800,
          11850,
          11900,
          11950,
          12000,
          12050,
          12100,
          12150,
          12200,
          12250,
          12300,
          12350,
          12400,
          12450,
          12500,
          12550,
          12600,
          12650,
          12700,
          12750,
          12800,
          12850,
          12900,
          12950,
          13000,
          13050,
          13100,
          13150,
          13200,
          13250,
          13300,
          13350,
          13400,
          13450,
          13500,
          13550,
          13600,
          13650,
          13700,
          13750,
          13800,
          13850,
          13900,
          13950,
          14000,
          14050,
          14100,
          14150,
          14200,
          14250,
          14300,
          14350,
          14400,
          14450,
          14500,
          14550,
          14600,
          14650,
          14700,
          14750,
          14800,
          14850,
          14900,
          14950,
          15000,
          15050,
          15100,
          15150,
          15200,
          15250,
          15300
         ],
         "xaxis": "x",
         "y": [
          22.72,
          22.17,
          21.63,
          21.09,
          22.31,
          21.71,
          22.24,
          21.61,
          20.98,
          21.17,
          20.52,
          20.53,
          20.94,
          19.73,
          19.53,
          19.65,
          18.53,
          18.19,
          17.8,
          17.96,
          17.45,
          17.15,
          16.78,
          16.36,
          15.89,
          15.54,
          14.96,
          14.63,
          14.48,
          14.1,
          13.62,
          13.38,
          13.2,
          12.72,
          12.5,
          12.12,
          11.79,
          11.48,
          11.26,
          10.99,
          10.79,
          10.52,
          10.32,
          10.15,
          10.03,
          9.93,
          9.88,
          9.81,
          9.77,
          9.75,
          9.74,
          9.74,
          9.8,
          9.81,
          9.83,
          9.87,
          10.21,
          10.43,
          10.69,
          11.03,
          11.48,
          11.93,
          12.38,
          10.99,
          11.37,
          11.75,
          12.13,
          12.51,
          12.88,
          13.26,
          13.63,
          14,
          14.36,
          14.73,
          15.09,
          15.45,
          15.81,
          16.17,
          16.52
         ],
         "yaxis": "y2"
        }
       ],
       "layout": {
        "legend": {
         "bgcolor": "#F5F6F9",
         "font": {
          "color": "#4D5663"
         }
        },
        "paper_bgcolor": "#F5F6F9",
        "plot_bgcolor": "#F5F6F9",
        "template": {
         "data": {
          "bar": [
           {
            "error_x": {
             "color": "#2a3f5f"
            },
            "error_y": {
             "color": "#2a3f5f"
            },
            "marker": {
             "line": {
              "color": "#E5ECF6",
              "width": 0.5
             }
            },
            "type": "bar"
           }
          ],
          "barpolar": [
           {
            "marker": {
             "line": {
              "color": "#E5ECF6",
              "width": 0.5
             }
            },
            "type": "barpolar"
           }
          ],
          "carpet": [
           {
            "aaxis": {
             "endlinecolor": "#2a3f5f",
             "gridcolor": "white",
             "linecolor": "white",
             "minorgridcolor": "white",
             "startlinecolor": "#2a3f5f"
            },
            "baxis": {
             "endlinecolor": "#2a3f5f",
             "gridcolor": "white",
             "linecolor": "white",
             "minorgridcolor": "white",
             "startlinecolor": "#2a3f5f"
            },
            "type": "carpet"
           }
          ],
          "choropleth": [
           {
            "colorbar": {
             "outlinewidth": 0,
             "ticks": ""
            },
            "type": "choropleth"
           }
          ],
          "contour": [
           {
            "colorbar": {
             "outlinewidth": 0,
             "ticks": ""
            },
            "colorscale": [
             [
              0,
              "#0d0887"
             ],
             [
              0.1111111111111111,
              "#46039f"
             ],
             [
              0.2222222222222222,
              "#7201a8"
             ],
             [
              0.3333333333333333,
              "#9c179e"
             ],
             [
              0.4444444444444444,
              "#bd3786"
             ],
             [
              0.5555555555555556,
              "#d8576b"
             ],
             [
              0.6666666666666666,
              "#ed7953"
             ],
             [
              0.7777777777777778,
              "#fb9f3a"
             ],
             [
              0.8888888888888888,
              "#fdca26"
             ],
             [
              1,
              "#f0f921"
             ]
            ],
            "type": "contour"
           }
          ],
          "contourcarpet": [
           {
            "colorbar": {
             "outlinewidth": 0,
             "ticks": ""
            },
            "type": "contourcarpet"
           }
          ],
          "heatmap": [
           {
            "colorbar": {
             "outlinewidth": 0,
             "ticks": ""
            },
            "colorscale": [
             [
              0,
              "#0d0887"
             ],
             [
              0.1111111111111111,
              "#46039f"
             ],
             [
              0.2222222222222222,
              "#7201a8"
             ],
             [
              0.3333333333333333,
              "#9c179e"
             ],
             [
              0.4444444444444444,
              "#bd3786"
             ],
             [
              0.5555555555555556,
              "#d8576b"
             ],
             [
              0.6666666666666666,
              "#ed7953"
             ],
             [
              0.7777777777777778,
              "#fb9f3a"
             ],
             [
              0.8888888888888888,
              "#fdca26"
             ],
             [
              1,
              "#f0f921"
             ]
            ],
            "type": "heatmap"
           }
          ],
          "heatmapgl": [
           {
            "colorbar": {
             "outlinewidth": 0,
             "ticks": ""
            },
            "colorscale": [
             [
              0,
              "#0d0887"
             ],
             [
              0.1111111111111111,
              "#46039f"
             ],
             [
              0.2222222222222222,
              "#7201a8"
             ],
             [
              0.3333333333333333,
              "#9c179e"
             ],
             [
              0.4444444444444444,
              "#bd3786"
             ],
             [
              0.5555555555555556,
              "#d8576b"
             ],
             [
              0.6666666666666666,
              "#ed7953"
             ],
             [
              0.7777777777777778,
              "#fb9f3a"
             ],
             [
              0.8888888888888888,
              "#fdca26"
             ],
             [
              1,
              "#f0f921"
             ]
            ],
            "type": "heatmapgl"
           }
          ],
          "histogram": [
           {
            "marker": {
             "colorbar": {
              "outlinewidth": 0,
              "ticks": ""
             }
            },
            "type": "histogram"
           }
          ],
          "histogram2d": [
           {
            "colorbar": {
             "outlinewidth": 0,
             "ticks": ""
            },
            "colorscale": [
             [
              0,
              "#0d0887"
             ],
             [
              0.1111111111111111,
              "#46039f"
             ],
             [
              0.2222222222222222,
              "#7201a8"
             ],
             [
              0.3333333333333333,
              "#9c179e"
             ],
             [
              0.4444444444444444,
              "#bd3786"
             ],
             [
              0.5555555555555556,
              "#d8576b"
             ],
             [
              0.6666666666666666,
              "#ed7953"
             ],
             [
              0.7777777777777778,
              "#fb9f3a"
             ],
             [
              0.8888888888888888,
              "#fdca26"
             ],
             [
              1,
              "#f0f921"
             ]
            ],
            "type": "histogram2d"
           }
          ],
          "histogram2dcontour": [
           {
            "colorbar": {
             "outlinewidth": 0,
             "ticks": ""
            },
            "colorscale": [
             [
              0,
              "#0d0887"
             ],
             [
              0.1111111111111111,
              "#46039f"
             ],
             [
              0.2222222222222222,
              "#7201a8"
             ],
             [
              0.3333333333333333,
              "#9c179e"
             ],
             [
              0.4444444444444444,
              "#bd3786"
             ],
             [
              0.5555555555555556,
              "#d8576b"
             ],
             [
              0.6666666666666666,
              "#ed7953"
             ],
             [
              0.7777777777777778,
              "#fb9f3a"
             ],
             [
              0.8888888888888888,
              "#fdca26"
             ],
             [
              1,
              "#f0f921"
             ]
            ],
            "type": "histogram2dcontour"
           }
          ],
          "mesh3d": [
           {
            "colorbar": {
             "outlinewidth": 0,
             "ticks": ""
            },
            "type": "mesh3d"
           }
          ],
          "parcoords": [
           {
            "line": {
             "colorbar": {
              "outlinewidth": 0,
              "ticks": ""
             }
            },
            "type": "parcoords"
           }
          ],
          "pie": [
           {
            "automargin": true,
            "type": "pie"
           }
          ],
          "scatter": [
           {
            "marker": {
             "colorbar": {
              "outlinewidth": 0,
              "ticks": ""
             }
            },
            "type": "scatter"
           }
          ],
          "scatter3d": [
           {
            "line": {
             "colorbar": {
              "outlinewidth": 0,
              "ticks": ""
             }
            },
            "marker": {
             "colorbar": {
              "outlinewidth": 0,
              "ticks": ""
             }
            },
            "type": "scatter3d"
           }
          ],
          "scattercarpet": [
           {
            "marker": {
             "colorbar": {
              "outlinewidth": 0,
              "ticks": ""
             }
            },
            "type": "scattercarpet"
           }
          ],
          "scattergeo": [
           {
            "marker": {
             "colorbar": {
              "outlinewidth": 0,
              "ticks": ""
             }
            },
            "type": "scattergeo"
           }
          ],
          "scattergl": [
           {
            "marker": {
             "colorbar": {
              "outlinewidth": 0,
              "ticks": ""
             }
            },
            "type": "scattergl"
           }
          ],
          "scattermapbox": [
           {
            "marker": {
             "colorbar": {
              "outlinewidth": 0,
              "ticks": ""
             }
            },
            "type": "scattermapbox"
           }
          ],
          "scatterpolar": [
           {
            "marker": {
             "colorbar": {
              "outlinewidth": 0,
              "ticks": ""
             }
            },
            "type": "scatterpolar"
           }
          ],
          "scatterpolargl": [
           {
            "marker": {
             "colorbar": {
              "outlinewidth": 0,
              "ticks": ""
             }
            },
            "type": "scatterpolargl"
           }
          ],
          "scatterternary": [
           {
            "marker": {
             "colorbar": {
              "outlinewidth": 0,
              "ticks": ""
             }
            },
            "type": "scatterternary"
           }
          ],
          "surface": [
           {
            "colorbar": {
             "outlinewidth": 0,
             "ticks": ""
            },
            "colorscale": [
             [
              0,
              "#0d0887"
             ],
             [
              0.1111111111111111,
              "#46039f"
             ],
             [
              0.2222222222222222,
              "#7201a8"
             ],
             [
              0.3333333333333333,
              "#9c179e"
             ],
             [
              0.4444444444444444,
              "#bd3786"
             ],
             [
              0.5555555555555556,
              "#d8576b"
             ],
             [
              0.6666666666666666,
              "#ed7953"
             ],
             [
              0.7777777777777778,
              "#fb9f3a"
             ],
             [
              0.8888888888888888,
              "#fdca26"
             ],
             [
              1,
              "#f0f921"
             ]
            ],
            "type": "surface"
           }
          ],
          "table": [
           {
            "cells": {
             "fill": {
              "color": "#EBF0F8"
             },
             "line": {
              "color": "white"
             }
            },
            "header": {
             "fill": {
              "color": "#C8D4E3"
             },
             "line": {
              "color": "white"
             }
            },
            "type": "table"
           }
          ]
         },
         "layout": {
          "annotationdefaults": {
           "arrowcolor": "#2a3f5f",
           "arrowhead": 0,
           "arrowwidth": 1
          },
          "coloraxis": {
           "colorbar": {
            "outlinewidth": 0,
            "ticks": ""
           }
          },
          "colorscale": {
           "diverging": [
            [
             0,
             "#8e0152"
            ],
            [
             0.1,
             "#c51b7d"
            ],
            [
             0.2,
             "#de77ae"
            ],
            [
             0.3,
             "#f1b6da"
            ],
            [
             0.4,
             "#fde0ef"
            ],
            [
             0.5,
             "#f7f7f7"
            ],
            [
             0.6,
             "#e6f5d0"
            ],
            [
             0.7,
             "#b8e186"
            ],
            [
             0.8,
             "#7fbc41"
            ],
            [
             0.9,
             "#4d9221"
            ],
            [
             1,
             "#276419"
            ]
           ],
           "sequential": [
            [
             0,
             "#0d0887"
            ],
            [
             0.1111111111111111,
             "#46039f"
            ],
            [
             0.2222222222222222,
             "#7201a8"
            ],
            [
             0.3333333333333333,
             "#9c179e"
            ],
            [
             0.4444444444444444,
             "#bd3786"
            ],
            [
             0.5555555555555556,
             "#d8576b"
            ],
            [
             0.6666666666666666,
             "#ed7953"
            ],
            [
             0.7777777777777778,
             "#fb9f3a"
            ],
            [
             0.8888888888888888,
             "#fdca26"
            ],
            [
             1,
             "#f0f921"
            ]
           ],
           "sequentialminus": [
            [
             0,
             "#0d0887"
            ],
            [
             0.1111111111111111,
             "#46039f"
            ],
            [
             0.2222222222222222,
             "#7201a8"
            ],
            [
             0.3333333333333333,
             "#9c179e"
            ],
            [
             0.4444444444444444,
             "#bd3786"
            ],
            [
             0.5555555555555556,
             "#d8576b"
            ],
            [
             0.6666666666666666,
             "#ed7953"
            ],
            [
             0.7777777777777778,
             "#fb9f3a"
            ],
            [
             0.8888888888888888,
             "#fdca26"
            ],
            [
             1,
             "#f0f921"
            ]
           ]
          },
          "colorway": [
           "#636efa",
           "#EF553B",
           "#00cc96",
           "#ab63fa",
           "#FFA15A",
           "#19d3f3",
           "#FF6692",
           "#B6E880",
           "#FF97FF",
           "#FECB52"
          ],
          "font": {
           "color": "#2a3f5f"
          },
          "geo": {
           "bgcolor": "white",
           "lakecolor": "white",
           "landcolor": "#E5ECF6",
           "showlakes": true,
           "showland": true,
           "subunitcolor": "white"
          },
          "hoverlabel": {
           "align": "left"
          },
          "hovermode": "closest",
          "mapbox": {
           "style": "light"
          },
          "paper_bgcolor": "white",
          "plot_bgcolor": "#E5ECF6",
          "polar": {
           "angularaxis": {
            "gridcolor": "white",
            "linecolor": "white",
            "ticks": ""
           },
           "bgcolor": "#E5ECF6",
           "radialaxis": {
            "gridcolor": "white",
            "linecolor": "white",
            "ticks": ""
           }
          },
          "scene": {
           "xaxis": {
            "backgroundcolor": "#E5ECF6",
            "gridcolor": "white",
            "gridwidth": 2,
            "linecolor": "white",
            "showbackground": true,
            "ticks": "",
            "zerolinecolor": "white"
           },
           "yaxis": {
            "backgroundcolor": "#E5ECF6",
            "gridcolor": "white",
            "gridwidth": 2,
            "linecolor": "white",
            "showbackground": true,
            "ticks": "",
            "zerolinecolor": "white"
           },
           "zaxis": {
            "backgroundcolor": "#E5ECF6",
            "gridcolor": "white",
            "gridwidth": 2,
            "linecolor": "white",
            "showbackground": true,
            "ticks": "",
            "zerolinecolor": "white"
           }
          },
          "shapedefaults": {
           "line": {
            "color": "#2a3f5f"
           }
          },
          "ternary": {
           "aaxis": {
            "gridcolor": "white",
            "linecolor": "white",
            "ticks": ""
           },
           "baxis": {
            "gridcolor": "white",
            "linecolor": "white",
            "ticks": ""
           },
           "bgcolor": "#E5ECF6",
           "caxis": {
            "gridcolor": "white",
            "linecolor": "white",
            "ticks": ""
           }
          },
          "title": {
           "x": 0.05
          },
          "xaxis": {
           "automargin": true,
           "gridcolor": "white",
           "linecolor": "white",
           "ticks": "",
           "title": {
            "standoff": 15
           },
           "zerolinecolor": "white",
           "zerolinewidth": 2
          },
          "yaxis": {
           "automargin": true,
           "gridcolor": "white",
           "linecolor": "white",
           "ticks": "",
           "title": {
            "standoff": 15
           },
           "zerolinecolor": "white",
           "zerolinewidth": 2
          }
         }
        },
        "title": {
         "font": {
          "color": "#4D5663"
         },
         "text": "2020-01-17"
        },
        "xaxis": {
         "gridcolor": "#E1E5ED",
         "showgrid": true,
         "tickfont": {
          "color": "#4D5663"
         },
         "title": {
          "font": {
           "color": "#4D5663"
          },
          "text": "strike price"
         },
         "zerolinecolor": "#E1E5ED"
        },
        "yaxis": {
         "gridcolor": "#E1E5ED",
         "showgrid": true,
         "tickfont": {
          "color": "#4D5663"
         },
         "title": {
          "font": {
           "color": "#4D5663"
          },
          "text": ""
         },
         "zerolinecolor": "#E1E5ED"
        },
        "yaxis2": {
         "anchor": "x",
         "gridcolor": "#E1E5ED",
         "overlaying": "y",
         "showgrid": true,
         "side": "right",
         "tickfont": {
          "color": "#4D5663"
         },
         "title": {
          "text": ""
         },
         "zerolinecolor": "#E1E5ED"
        }
       }
      },
      "text/html": [
       "<div>\n",
       "        \n",
       "        \n",
       "            <div id=\"f5a93e60-14fb-4af5-a7b0-64eca509302d\" class=\"plotly-graph-div\" style=\"height:525px; width:100%;\"></div>\n",
       "            <script type=\"text/javascript\">\n",
       "                require([\"plotly\"], function(Plotly) {\n",
       "                    window.PLOTLYENV=window.PLOTLYENV || {};\n",
       "                    window.PLOTLYENV.BASE_URL='https://plot.ly';\n",
       "                    \n",
       "                if (document.getElementById(\"f5a93e60-14fb-4af5-a7b0-64eca509302d\")) {\n",
       "                    Plotly.newPlot(\n",
       "                        'f5a93e60-14fb-4af5-a7b0-64eca509302d',\n",
       "                        [{\"line\": {\"color\": \"rgba(255, 153, 51, 1.0)\", \"dash\": \"solid\", \"shape\": \"linear\", \"width\": 1.3}, \"marker\": {\"size\": 6, \"symbol\": \"circle\"}, \"mode\": \"lines+markers\", \"name\": \"CF_CLOSE\", \"text\": \"\", \"type\": \"scatter\", \"x\": [11400.0, 11450.0, 11500.0, 11550.0, 11600.0, 11650.0, 11700.0, 11750.0, 11800.0, 11850.0, 11900.0, 11950.0, 12000.0, 12050.0, 12100.0, 12150.0, 12200.0, 12250.0, 12300.0, 12350.0, 12400.0, 12450.0, 12500.0, 12550.0, 12600.0, 12650.0, 12700.0, 12750.0, 12800.0, 12850.0, 12900.0, 12950.0, 13000.0, 13050.0, 13100.0, 13150.0, 13200.0, 13250.0, 13300.0, 13350.0, 13400.0, 13450.0, 13500.0, 13550.0, 13600.0, 13650.0, 13700.0, 13750.0, 13800.0, 13850.0, 13900.0, 13950.0, 14000.0, 14050.0, 14100.0, 14150.0, 14200.0, 14250.0, 14300.0, 14350.0, 14400.0, 14450.0, 14500.0, 14550.0, 14600.0, 14650.0, 14700.0, 14750.0, 14800.0, 14850.0, 14900.0, 14950.0, 15000.0, 15050.0, 15100.0, 15150.0, 15200.0, 15250.0, 15300.0], \"y\": [1905.8, 1856.0, 1806.3, 1756.5, 1706.8, 1657.1, 1607.5, 1557.9, 1508.3, 1458.8, 1409.3, 1359.8, 1310.4, 1261.1, 1211.8, 1162.6, 1113.5, 1064.5, 1015.7, 966.9, 918.4, 870.0, 821.8, 773.9, 726.3, 679.1, 632.5, 586.5, 541.1, 496.4, 452.6, 409.8, 368.2, 327.9, 289.2, 252.2, 217.2, 184.5, 154.5, 127.2, 103.3, 82.3, 64.1, 49.3, 37.4, 27.9, 20.6, 15.0, 10.8, 7.6, 5.4, 3.7, 2.6, 1.8, 1.3, 0.9, 0.6, 0.4, 0.3, 0.2, 0.2, 0.1, 0.1, 0.1, 0.1, 0.1, 0.1, 0.1, 0.1, 0.1, 0.1, 0.1, 0.1, 0.1, 0.1, 0.1, 0.1, 0.1, 0.1]}, {\"line\": {\"color\": \"rgba(55, 128, 191, 1.0)\", \"dash\": \"solid\", \"shape\": \"linear\", \"width\": 1.3}, \"marker\": {\"size\": 6, \"symbol\": \"circle\"}, \"mode\": \"lines+markers\", \"name\": \"IMP_VOLT\", \"text\": \"\", \"type\": \"scatter\", \"x\": [11400.0, 11450.0, 11500.0, 11550.0, 11600.0, 11650.0, 11700.0, 11750.0, 11800.0, 11850.0, 11900.0, 11950.0, 12000.0, 12050.0, 12100.0, 12150.0, 12200.0, 12250.0, 12300.0, 12350.0, 12400.0, 12450.0, 12500.0, 12550.0, 12600.0, 12650.0, 12700.0, 12750.0, 12800.0, 12850.0, 12900.0, 12950.0, 13000.0, 13050.0, 13100.0, 13150.0, 13200.0, 13250.0, 13300.0, 13350.0, 13400.0, 13450.0, 13500.0, 13550.0, 13600.0, 13650.0, 13700.0, 13750.0, 13800.0, 13850.0, 13900.0, 13950.0, 14000.0, 14050.0, 14100.0, 14150.0, 14200.0, 14250.0, 14300.0, 14350.0, 14400.0, 14450.0, 14500.0, 14550.0, 14600.0, 14650.0, 14700.0, 14750.0, 14800.0, 14850.0, 14900.0, 14950.0, 15000.0, 15050.0, 15100.0, 15150.0, 15200.0, 15250.0, 15300.0], \"xaxis\": \"x\", \"y\": [22.72, 22.17, 21.63, 21.09, 22.31, 21.71, 22.24, 21.61, 20.98, 21.17, 20.52, 20.53, 20.94, 19.73, 19.53, 19.65, 18.53, 18.19, 17.8, 17.96, 17.45, 17.15, 16.78, 16.36, 15.89, 15.54, 14.96, 14.63, 14.48, 14.1, 13.62, 13.38, 13.2, 12.72, 12.5, 12.12, 11.79, 11.48, 11.26, 10.99, 10.79, 10.52, 10.32, 10.15, 10.03, 9.93, 9.88, 9.81, 9.77, 9.75, 9.74, 9.74, 9.8, 9.81, 9.83, 9.87, 10.21, 10.43, 10.69, 11.03, 11.48, 11.93, 12.38, 10.99, 11.37, 11.75, 12.13, 12.51, 12.88, 13.26, 13.63, 14.0, 14.36, 14.73, 15.09, 15.45, 15.81, 16.17, 16.52], \"yaxis\": \"y2\"}],\n",
       "                        {\"legend\": {\"bgcolor\": \"#F5F6F9\", \"font\": {\"color\": \"#4D5663\"}}, \"paper_bgcolor\": \"#F5F6F9\", \"plot_bgcolor\": \"#F5F6F9\", \"template\": {\"data\": {\"bar\": [{\"error_x\": {\"color\": \"#2a3f5f\"}, \"error_y\": {\"color\": \"#2a3f5f\"}, \"marker\": {\"line\": {\"color\": \"#E5ECF6\", \"width\": 0.5}}, \"type\": \"bar\"}], \"barpolar\": [{\"marker\": {\"line\": {\"color\": \"#E5ECF6\", \"width\": 0.5}}, \"type\": \"barpolar\"}], \"carpet\": [{\"aaxis\": {\"endlinecolor\": \"#2a3f5f\", \"gridcolor\": \"white\", \"linecolor\": \"white\", \"minorgridcolor\": \"white\", \"startlinecolor\": \"#2a3f5f\"}, \"baxis\": {\"endlinecolor\": \"#2a3f5f\", \"gridcolor\": \"white\", \"linecolor\": \"white\", \"minorgridcolor\": \"white\", \"startlinecolor\": \"#2a3f5f\"}, \"type\": \"carpet\"}], \"choropleth\": [{\"colorbar\": {\"outlinewidth\": 0, \"ticks\": \"\"}, \"type\": \"choropleth\"}], \"contour\": [{\"colorbar\": {\"outlinewidth\": 0, \"ticks\": \"\"}, \"colorscale\": [[0.0, \"#0d0887\"], [0.1111111111111111, \"#46039f\"], [0.2222222222222222, \"#7201a8\"], [0.3333333333333333, \"#9c179e\"], [0.4444444444444444, \"#bd3786\"], [0.5555555555555556, \"#d8576b\"], [0.6666666666666666, \"#ed7953\"], [0.7777777777777778, \"#fb9f3a\"], [0.8888888888888888, \"#fdca26\"], [1.0, \"#f0f921\"]], \"type\": \"contour\"}], \"contourcarpet\": [{\"colorbar\": {\"outlinewidth\": 0, \"ticks\": \"\"}, \"type\": \"contourcarpet\"}], \"heatmap\": [{\"colorbar\": {\"outlinewidth\": 0, \"ticks\": \"\"}, \"colorscale\": [[0.0, \"#0d0887\"], [0.1111111111111111, \"#46039f\"], [0.2222222222222222, \"#7201a8\"], [0.3333333333333333, \"#9c179e\"], [0.4444444444444444, \"#bd3786\"], [0.5555555555555556, \"#d8576b\"], [0.6666666666666666, \"#ed7953\"], [0.7777777777777778, \"#fb9f3a\"], [0.8888888888888888, \"#fdca26\"], [1.0, \"#f0f921\"]], \"type\": \"heatmap\"}], \"heatmapgl\": [{\"colorbar\": {\"outlinewidth\": 0, \"ticks\": \"\"}, \"colorscale\": [[0.0, \"#0d0887\"], [0.1111111111111111, \"#46039f\"], [0.2222222222222222, \"#7201a8\"], [0.3333333333333333, \"#9c179e\"], [0.4444444444444444, \"#bd3786\"], [0.5555555555555556, \"#d8576b\"], [0.6666666666666666, \"#ed7953\"], [0.7777777777777778, \"#fb9f3a\"], [0.8888888888888888, \"#fdca26\"], [1.0, \"#f0f921\"]], \"type\": \"heatmapgl\"}], \"histogram\": [{\"marker\": {\"colorbar\": {\"outlinewidth\": 0, \"ticks\": \"\"}}, \"type\": \"histogram\"}], \"histogram2d\": [{\"colorbar\": {\"outlinewidth\": 0, \"ticks\": \"\"}, \"colorscale\": [[0.0, \"#0d0887\"], [0.1111111111111111, \"#46039f\"], [0.2222222222222222, \"#7201a8\"], [0.3333333333333333, \"#9c179e\"], [0.4444444444444444, \"#bd3786\"], [0.5555555555555556, \"#d8576b\"], [0.6666666666666666, \"#ed7953\"], [0.7777777777777778, \"#fb9f3a\"], [0.8888888888888888, \"#fdca26\"], [1.0, \"#f0f921\"]], \"type\": \"histogram2d\"}], \"histogram2dcontour\": [{\"colorbar\": {\"outlinewidth\": 0, \"ticks\": \"\"}, \"colorscale\": [[0.0, \"#0d0887\"], [0.1111111111111111, \"#46039f\"], [0.2222222222222222, \"#7201a8\"], [0.3333333333333333, \"#9c179e\"], [0.4444444444444444, \"#bd3786\"], [0.5555555555555556, \"#d8576b\"], [0.6666666666666666, \"#ed7953\"], [0.7777777777777778, \"#fb9f3a\"], [0.8888888888888888, \"#fdca26\"], [1.0, \"#f0f921\"]], \"type\": \"histogram2dcontour\"}], \"mesh3d\": [{\"colorbar\": {\"outlinewidth\": 0, \"ticks\": \"\"}, \"type\": \"mesh3d\"}], \"parcoords\": [{\"line\": {\"colorbar\": {\"outlinewidth\": 0, \"ticks\": \"\"}}, \"type\": \"parcoords\"}], \"pie\": [{\"automargin\": true, \"type\": \"pie\"}], \"scatter\": [{\"marker\": {\"colorbar\": {\"outlinewidth\": 0, \"ticks\": \"\"}}, \"type\": \"scatter\"}], \"scatter3d\": [{\"line\": {\"colorbar\": {\"outlinewidth\": 0, \"ticks\": \"\"}}, \"marker\": {\"colorbar\": {\"outlinewidth\": 0, \"ticks\": \"\"}}, \"type\": \"scatter3d\"}], \"scattercarpet\": [{\"marker\": {\"colorbar\": {\"outlinewidth\": 0, \"ticks\": \"\"}}, \"type\": \"scattercarpet\"}], \"scattergeo\": [{\"marker\": {\"colorbar\": {\"outlinewidth\": 0, \"ticks\": \"\"}}, \"type\": \"scattergeo\"}], \"scattergl\": [{\"marker\": {\"colorbar\": {\"outlinewidth\": 0, \"ticks\": \"\"}}, \"type\": \"scattergl\"}], \"scattermapbox\": [{\"marker\": {\"colorbar\": {\"outlinewidth\": 0, \"ticks\": \"\"}}, \"type\": \"scattermapbox\"}], \"scatterpolar\": [{\"marker\": {\"colorbar\": {\"outlinewidth\": 0, \"ticks\": \"\"}}, \"type\": \"scatterpolar\"}], \"scatterpolargl\": [{\"marker\": {\"colorbar\": {\"outlinewidth\": 0, \"ticks\": \"\"}}, \"type\": \"scatterpolargl\"}], \"scatterternary\": [{\"marker\": {\"colorbar\": {\"outlinewidth\": 0, \"ticks\": \"\"}}, \"type\": \"scatterternary\"}], \"surface\": [{\"colorbar\": {\"outlinewidth\": 0, \"ticks\": \"\"}, \"colorscale\": [[0.0, \"#0d0887\"], [0.1111111111111111, \"#46039f\"], [0.2222222222222222, \"#7201a8\"], [0.3333333333333333, \"#9c179e\"], [0.4444444444444444, \"#bd3786\"], [0.5555555555555556, \"#d8576b\"], [0.6666666666666666, \"#ed7953\"], [0.7777777777777778, \"#fb9f3a\"], [0.8888888888888888, \"#fdca26\"], [1.0, \"#f0f921\"]], \"type\": \"surface\"}], \"table\": [{\"cells\": {\"fill\": {\"color\": \"#EBF0F8\"}, \"line\": {\"color\": \"white\"}}, \"header\": {\"fill\": {\"color\": \"#C8D4E3\"}, \"line\": {\"color\": \"white\"}}, \"type\": \"table\"}]}, \"layout\": {\"annotationdefaults\": {\"arrowcolor\": \"#2a3f5f\", \"arrowhead\": 0, \"arrowwidth\": 1}, \"coloraxis\": {\"colorbar\": {\"outlinewidth\": 0, \"ticks\": \"\"}}, \"colorscale\": {\"diverging\": [[0, \"#8e0152\"], [0.1, \"#c51b7d\"], [0.2, \"#de77ae\"], [0.3, \"#f1b6da\"], [0.4, \"#fde0ef\"], [0.5, \"#f7f7f7\"], [0.6, \"#e6f5d0\"], [0.7, \"#b8e186\"], [0.8, \"#7fbc41\"], [0.9, \"#4d9221\"], [1, \"#276419\"]], \"sequential\": [[0.0, \"#0d0887\"], [0.1111111111111111, \"#46039f\"], [0.2222222222222222, \"#7201a8\"], [0.3333333333333333, \"#9c179e\"], [0.4444444444444444, \"#bd3786\"], [0.5555555555555556, \"#d8576b\"], [0.6666666666666666, \"#ed7953\"], [0.7777777777777778, \"#fb9f3a\"], [0.8888888888888888, \"#fdca26\"], [1.0, \"#f0f921\"]], \"sequentialminus\": [[0.0, \"#0d0887\"], [0.1111111111111111, \"#46039f\"], [0.2222222222222222, \"#7201a8\"], [0.3333333333333333, \"#9c179e\"], [0.4444444444444444, \"#bd3786\"], [0.5555555555555556, \"#d8576b\"], [0.6666666666666666, \"#ed7953\"], [0.7777777777777778, \"#fb9f3a\"], [0.8888888888888888, \"#fdca26\"], [1.0, \"#f0f921\"]]}, \"colorway\": [\"#636efa\", \"#EF553B\", \"#00cc96\", \"#ab63fa\", \"#FFA15A\", \"#19d3f3\", \"#FF6692\", \"#B6E880\", \"#FF97FF\", \"#FECB52\"], \"font\": {\"color\": \"#2a3f5f\"}, \"geo\": {\"bgcolor\": \"white\", \"lakecolor\": \"white\", \"landcolor\": \"#E5ECF6\", \"showlakes\": true, \"showland\": true, \"subunitcolor\": \"white\"}, \"hoverlabel\": {\"align\": \"left\"}, \"hovermode\": \"closest\", \"mapbox\": {\"style\": \"light\"}, \"paper_bgcolor\": \"white\", \"plot_bgcolor\": \"#E5ECF6\", \"polar\": {\"angularaxis\": {\"gridcolor\": \"white\", \"linecolor\": \"white\", \"ticks\": \"\"}, \"bgcolor\": \"#E5ECF6\", \"radialaxis\": {\"gridcolor\": \"white\", \"linecolor\": \"white\", \"ticks\": \"\"}}, \"scene\": {\"xaxis\": {\"backgroundcolor\": \"#E5ECF6\", \"gridcolor\": \"white\", \"gridwidth\": 2, \"linecolor\": \"white\", \"showbackground\": true, \"ticks\": \"\", \"zerolinecolor\": \"white\"}, \"yaxis\": {\"backgroundcolor\": \"#E5ECF6\", \"gridcolor\": \"white\", \"gridwidth\": 2, \"linecolor\": \"white\", \"showbackground\": true, \"ticks\": \"\", \"zerolinecolor\": \"white\"}, \"zaxis\": {\"backgroundcolor\": \"#E5ECF6\", \"gridcolor\": \"white\", \"gridwidth\": 2, \"linecolor\": \"white\", \"showbackground\": true, \"ticks\": \"\", \"zerolinecolor\": \"white\"}}, \"shapedefaults\": {\"line\": {\"color\": \"#2a3f5f\"}}, \"ternary\": {\"aaxis\": {\"gridcolor\": \"white\", \"linecolor\": \"white\", \"ticks\": \"\"}, \"baxis\": {\"gridcolor\": \"white\", \"linecolor\": \"white\", \"ticks\": \"\"}, \"bgcolor\": \"#E5ECF6\", \"caxis\": {\"gridcolor\": \"white\", \"linecolor\": \"white\", \"ticks\": \"\"}}, \"title\": {\"x\": 0.05}, \"xaxis\": {\"automargin\": true, \"gridcolor\": \"white\", \"linecolor\": \"white\", \"ticks\": \"\", \"title\": {\"standoff\": 15}, \"zerolinecolor\": \"white\", \"zerolinewidth\": 2}, \"yaxis\": {\"automargin\": true, \"gridcolor\": \"white\", \"linecolor\": \"white\", \"ticks\": \"\", \"title\": {\"standoff\": 15}, \"zerolinecolor\": \"white\", \"zerolinewidth\": 2}}}, \"title\": {\"font\": {\"color\": \"#4D5663\"}, \"text\": \"2020-01-17\"}, \"xaxis\": {\"gridcolor\": \"#E1E5ED\", \"showgrid\": true, \"tickfont\": {\"color\": \"#4D5663\"}, \"title\": {\"font\": {\"color\": \"#4D5663\"}, \"text\": \"strike price\"}, \"zerolinecolor\": \"#E1E5ED\"}, \"yaxis\": {\"gridcolor\": \"#E1E5ED\", \"showgrid\": true, \"tickfont\": {\"color\": \"#4D5663\"}, \"title\": {\"font\": {\"color\": \"#4D5663\"}, \"text\": \"\"}, \"zerolinecolor\": \"#E1E5ED\"}, \"yaxis2\": {\"anchor\": \"x\", \"gridcolor\": \"#E1E5ED\", \"overlaying\": \"y\", \"showgrid\": true, \"side\": \"right\", \"tickfont\": {\"color\": \"#4D5663\"}, \"title\": {\"text\": \"\"}, \"zerolinecolor\": \"#E1E5ED\"}},\n",
       "                        {\"showLink\": true, \"linkText\": \"Export to plot.ly\", \"plotlyServerURL\": \"https://plot.ly\", \"responsive\": true}\n",
       "                    ).then(function(){\n",
       "                            \n",
       "var gd = document.getElementById('f5a93e60-14fb-4af5-a7b0-64eca509302d');\n",
       "var x = new MutationObserver(function (mutations, observer) {{\n",
       "        var display = window.getComputedStyle(gd).display;\n",
       "        if (!display || display === 'none') {{\n",
       "            console.log([gd, 'removed!']);\n",
       "            Plotly.purge(gd);\n",
       "            observer.disconnect();\n",
       "        }}\n",
       "}});\n",
       "\n",
       "// Listen for the removal of the full notebook cells\n",
       "var notebookContainer = gd.closest('#notebook-container');\n",
       "if (notebookContainer) {{\n",
       "    x.observe(notebookContainer, {childList: true});\n",
       "}}\n",
       "\n",
       "// Listen for the clearing of the current output cell\n",
       "var outputEl = gd.closest('.output');\n",
       "if (outputEl) {{\n",
       "    x.observe(outputEl, {childList: true});\n",
       "}}\n",
       "\n",
       "                        })\n",
       "                };\n",
       "                });\n",
       "            </script>\n",
       "        </div>"
      ]
     },
     "metadata": {},
     "output_type": "display_data"
    },
    {
     "data": {
      "application/vnd.plotly.v1+json": {
       "config": {
        "linkText": "Export to plot.ly",
        "plotlyServerURL": "https://plot.ly",
        "showLink": true
       },
       "data": [
        {
         "line": {
          "color": "rgba(255, 153, 51, 1.0)",
          "dash": "solid",
          "shape": "linear",
          "width": 1.3
         },
         "marker": {
          "size": 6,
          "symbol": "circle"
         },
         "mode": "lines+markers",
         "name": "CF_CLOSE",
         "text": "",
         "type": "scatter",
         "x": [
          11350,
          11400,
          11450,
          11500,
          11550,
          11600,
          11650,
          11700,
          11750,
          11800,
          11850,
          11900,
          11950,
          12000,
          12050,
          12100,
          12150,
          12200,
          12250,
          12300,
          12350,
          12400,
          12450,
          12500,
          12550,
          12600,
          12650,
          12700,
          12750,
          12800,
          12850,
          12900,
          12950,
          13000,
          13050,
          13100,
          13150,
          13200,
          13250,
          13300,
          13350,
          13400,
          13450,
          13500,
          13550,
          13600,
          13650,
          13700,
          13750,
          13800,
          13850,
          13900,
          13950,
          14000,
          14050,
          14100,
          14150,
          14200,
          14250,
          14300,
          14350,
          14400,
          14450,
          14500,
          14550,
          14600,
          14650,
          14700,
          14750,
          14800,
          14850,
          14900,
          14950,
          15000
         ],
         "y": [
          2087.2,
          2041.8,
          1996.3,
          1951.1,
          1906.1,
          1861.2,
          1816.6,
          1772.1,
          1727.9,
          1683.9,
          1640.3,
          1596.7,
          1553.6,
          1510.6,
          1467.9,
          1425.6,
          1383.4,
          1341.6,
          1300,
          1259,
          1218.2,
          1177.8,
          1137.8,
          1098.2,
          1059,
          1020.2,
          982,
          944.1,
          906.6,
          869.7,
          833.5,
          797.6,
          762.4,
          727.9,
          693.9,
          660.6,
          627.9,
          596.1,
          564.9,
          534.5,
          505.2,
          476.4,
          448.6,
          421.5,
          395.6,
          370.4,
          345.9,
          322.5,
          299.9,
          278.2,
          257.6,
          238,
          219.4,
          201.5,
          184.7,
          168.8,
          154.1,
          140.3,
          127.1,
          115.3,
          103.9,
          93.7,
          84,
          75.2,
          67,
          59.7,
          52.9,
          47,
          41.5,
          36.7,
          32.2,
          28.5,
          25.1,
          22
         ]
        },
        {
         "line": {
          "color": "rgba(55, 128, 191, 1.0)",
          "dash": "solid",
          "shape": "linear",
          "width": 1.3
         },
         "marker": {
          "size": 6,
          "symbol": "circle"
         },
         "mode": "lines+markers",
         "name": "IMP_VOLT",
         "text": "",
         "type": "scatter",
         "x": [
          11350,
          11400,
          11450,
          11500,
          11550,
          11600,
          11650,
          11700,
          11750,
          11800,
          11850,
          11900,
          11950,
          12000,
          12050,
          12100,
          12150,
          12200,
          12250,
          12300,
          12350,
          12400,
          12450,
          12500,
          12550,
          12600,
          12650,
          12700,
          12750,
          12800,
          12850,
          12900,
          12950,
          13000,
          13050,
          13100,
          13150,
          13200,
          13250,
          13300,
          13350,
          13400,
          13450,
          13500,
          13550,
          13600,
          13650,
          13700,
          13750,
          13800,
          13850,
          13900,
          13950,
          14000,
          14050,
          14100,
          14150,
          14200,
          14250,
          14300,
          14350,
          14400,
          14450,
          14500,
          14550,
          14600,
          14650,
          14700,
          14750,
          14800,
          14850,
          14900,
          14950,
          15000
         ],
         "xaxis": "x",
         "y": [
          20.56,
          20.37,
          20.23,
          20.07,
          19.91,
          19.74,
          19.56,
          19.42,
          19.24,
          19.07,
          18.92,
          18.76,
          18.6,
          18.44,
          18.26,
          18.11,
          17.91,
          17.78,
          17.6,
          17.44,
          17.26,
          17.11,
          16.95,
          16.77,
          16.62,
          16.45,
          16.29,
          16.12,
          15.96,
          15.8,
          15.64,
          15.48,
          15.31,
          15.15,
          14.99,
          14.84,
          14.67,
          14.4,
          14.36,
          14.19,
          14.06,
          13.9,
          13.75,
          13.61,
          13.45,
          13.32,
          13.16,
          13.04,
          12.9,
          12.77,
          12.63,
          12.5,
          12.37,
          12.24,
          12.13,
          12,
          11.88,
          11.77,
          11.67,
          11.54,
          11.45,
          11.33,
          11.24,
          11.15,
          11.05,
          10.97,
          10.89,
          10.8,
          10.73,
          10.67,
          10.59,
          10.54,
          10.48,
          10.41
         ],
         "yaxis": "y2"
        }
       ],
       "layout": {
        "legend": {
         "bgcolor": "#F5F6F9",
         "font": {
          "color": "#4D5663"
         }
        },
        "paper_bgcolor": "#F5F6F9",
        "plot_bgcolor": "#F5F6F9",
        "template": {
         "data": {
          "bar": [
           {
            "error_x": {
             "color": "#2a3f5f"
            },
            "error_y": {
             "color": "#2a3f5f"
            },
            "marker": {
             "line": {
              "color": "#E5ECF6",
              "width": 0.5
             }
            },
            "type": "bar"
           }
          ],
          "barpolar": [
           {
            "marker": {
             "line": {
              "color": "#E5ECF6",
              "width": 0.5
             }
            },
            "type": "barpolar"
           }
          ],
          "carpet": [
           {
            "aaxis": {
             "endlinecolor": "#2a3f5f",
             "gridcolor": "white",
             "linecolor": "white",
             "minorgridcolor": "white",
             "startlinecolor": "#2a3f5f"
            },
            "baxis": {
             "endlinecolor": "#2a3f5f",
             "gridcolor": "white",
             "linecolor": "white",
             "minorgridcolor": "white",
             "startlinecolor": "#2a3f5f"
            },
            "type": "carpet"
           }
          ],
          "choropleth": [
           {
            "colorbar": {
             "outlinewidth": 0,
             "ticks": ""
            },
            "type": "choropleth"
           }
          ],
          "contour": [
           {
            "colorbar": {
             "outlinewidth": 0,
             "ticks": ""
            },
            "colorscale": [
             [
              0,
              "#0d0887"
             ],
             [
              0.1111111111111111,
              "#46039f"
             ],
             [
              0.2222222222222222,
              "#7201a8"
             ],
             [
              0.3333333333333333,
              "#9c179e"
             ],
             [
              0.4444444444444444,
              "#bd3786"
             ],
             [
              0.5555555555555556,
              "#d8576b"
             ],
             [
              0.6666666666666666,
              "#ed7953"
             ],
             [
              0.7777777777777778,
              "#fb9f3a"
             ],
             [
              0.8888888888888888,
              "#fdca26"
             ],
             [
              1,
              "#f0f921"
             ]
            ],
            "type": "contour"
           }
          ],
          "contourcarpet": [
           {
            "colorbar": {
             "outlinewidth": 0,
             "ticks": ""
            },
            "type": "contourcarpet"
           }
          ],
          "heatmap": [
           {
            "colorbar": {
             "outlinewidth": 0,
             "ticks": ""
            },
            "colorscale": [
             [
              0,
              "#0d0887"
             ],
             [
              0.1111111111111111,
              "#46039f"
             ],
             [
              0.2222222222222222,
              "#7201a8"
             ],
             [
              0.3333333333333333,
              "#9c179e"
             ],
             [
              0.4444444444444444,
              "#bd3786"
             ],
             [
              0.5555555555555556,
              "#d8576b"
             ],
             [
              0.6666666666666666,
              "#ed7953"
             ],
             [
              0.7777777777777778,
              "#fb9f3a"
             ],
             [
              0.8888888888888888,
              "#fdca26"
             ],
             [
              1,
              "#f0f921"
             ]
            ],
            "type": "heatmap"
           }
          ],
          "heatmapgl": [
           {
            "colorbar": {
             "outlinewidth": 0,
             "ticks": ""
            },
            "colorscale": [
             [
              0,
              "#0d0887"
             ],
             [
              0.1111111111111111,
              "#46039f"
             ],
             [
              0.2222222222222222,
              "#7201a8"
             ],
             [
              0.3333333333333333,
              "#9c179e"
             ],
             [
              0.4444444444444444,
              "#bd3786"
             ],
             [
              0.5555555555555556,
              "#d8576b"
             ],
             [
              0.6666666666666666,
              "#ed7953"
             ],
             [
              0.7777777777777778,
              "#fb9f3a"
             ],
             [
              0.8888888888888888,
              "#fdca26"
             ],
             [
              1,
              "#f0f921"
             ]
            ],
            "type": "heatmapgl"
           }
          ],
          "histogram": [
           {
            "marker": {
             "colorbar": {
              "outlinewidth": 0,
              "ticks": ""
             }
            },
            "type": "histogram"
           }
          ],
          "histogram2d": [
           {
            "colorbar": {
             "outlinewidth": 0,
             "ticks": ""
            },
            "colorscale": [
             [
              0,
              "#0d0887"
             ],
             [
              0.1111111111111111,
              "#46039f"
             ],
             [
              0.2222222222222222,
              "#7201a8"
             ],
             [
              0.3333333333333333,
              "#9c179e"
             ],
             [
              0.4444444444444444,
              "#bd3786"
             ],
             [
              0.5555555555555556,
              "#d8576b"
             ],
             [
              0.6666666666666666,
              "#ed7953"
             ],
             [
              0.7777777777777778,
              "#fb9f3a"
             ],
             [
              0.8888888888888888,
              "#fdca26"
             ],
             [
              1,
              "#f0f921"
             ]
            ],
            "type": "histogram2d"
           }
          ],
          "histogram2dcontour": [
           {
            "colorbar": {
             "outlinewidth": 0,
             "ticks": ""
            },
            "colorscale": [
             [
              0,
              "#0d0887"
             ],
             [
              0.1111111111111111,
              "#46039f"
             ],
             [
              0.2222222222222222,
              "#7201a8"
             ],
             [
              0.3333333333333333,
              "#9c179e"
             ],
             [
              0.4444444444444444,
              "#bd3786"
             ],
             [
              0.5555555555555556,
              "#d8576b"
             ],
             [
              0.6666666666666666,
              "#ed7953"
             ],
             [
              0.7777777777777778,
              "#fb9f3a"
             ],
             [
              0.8888888888888888,
              "#fdca26"
             ],
             [
              1,
              "#f0f921"
             ]
            ],
            "type": "histogram2dcontour"
           }
          ],
          "mesh3d": [
           {
            "colorbar": {
             "outlinewidth": 0,
             "ticks": ""
            },
            "type": "mesh3d"
           }
          ],
          "parcoords": [
           {
            "line": {
             "colorbar": {
              "outlinewidth": 0,
              "ticks": ""
             }
            },
            "type": "parcoords"
           }
          ],
          "pie": [
           {
            "automargin": true,
            "type": "pie"
           }
          ],
          "scatter": [
           {
            "marker": {
             "colorbar": {
              "outlinewidth": 0,
              "ticks": ""
             }
            },
            "type": "scatter"
           }
          ],
          "scatter3d": [
           {
            "line": {
             "colorbar": {
              "outlinewidth": 0,
              "ticks": ""
             }
            },
            "marker": {
             "colorbar": {
              "outlinewidth": 0,
              "ticks": ""
             }
            },
            "type": "scatter3d"
           }
          ],
          "scattercarpet": [
           {
            "marker": {
             "colorbar": {
              "outlinewidth": 0,
              "ticks": ""
             }
            },
            "type": "scattercarpet"
           }
          ],
          "scattergeo": [
           {
            "marker": {
             "colorbar": {
              "outlinewidth": 0,
              "ticks": ""
             }
            },
            "type": "scattergeo"
           }
          ],
          "scattergl": [
           {
            "marker": {
             "colorbar": {
              "outlinewidth": 0,
              "ticks": ""
             }
            },
            "type": "scattergl"
           }
          ],
          "scattermapbox": [
           {
            "marker": {
             "colorbar": {
              "outlinewidth": 0,
              "ticks": ""
             }
            },
            "type": "scattermapbox"
           }
          ],
          "scatterpolar": [
           {
            "marker": {
             "colorbar": {
              "outlinewidth": 0,
              "ticks": ""
             }
            },
            "type": "scatterpolar"
           }
          ],
          "scatterpolargl": [
           {
            "marker": {
             "colorbar": {
              "outlinewidth": 0,
              "ticks": ""
             }
            },
            "type": "scatterpolargl"
           }
          ],
          "scatterternary": [
           {
            "marker": {
             "colorbar": {
              "outlinewidth": 0,
              "ticks": ""
             }
            },
            "type": "scatterternary"
           }
          ],
          "surface": [
           {
            "colorbar": {
             "outlinewidth": 0,
             "ticks": ""
            },
            "colorscale": [
             [
              0,
              "#0d0887"
             ],
             [
              0.1111111111111111,
              "#46039f"
             ],
             [
              0.2222222222222222,
              "#7201a8"
             ],
             [
              0.3333333333333333,
              "#9c179e"
             ],
             [
              0.4444444444444444,
              "#bd3786"
             ],
             [
              0.5555555555555556,
              "#d8576b"
             ],
             [
              0.6666666666666666,
              "#ed7953"
             ],
             [
              0.7777777777777778,
              "#fb9f3a"
             ],
             [
              0.8888888888888888,
              "#fdca26"
             ],
             [
              1,
              "#f0f921"
             ]
            ],
            "type": "surface"
           }
          ],
          "table": [
           {
            "cells": {
             "fill": {
              "color": "#EBF0F8"
             },
             "line": {
              "color": "white"
             }
            },
            "header": {
             "fill": {
              "color": "#C8D4E3"
             },
             "line": {
              "color": "white"
             }
            },
            "type": "table"
           }
          ]
         },
         "layout": {
          "annotationdefaults": {
           "arrowcolor": "#2a3f5f",
           "arrowhead": 0,
           "arrowwidth": 1
          },
          "coloraxis": {
           "colorbar": {
            "outlinewidth": 0,
            "ticks": ""
           }
          },
          "colorscale": {
           "diverging": [
            [
             0,
             "#8e0152"
            ],
            [
             0.1,
             "#c51b7d"
            ],
            [
             0.2,
             "#de77ae"
            ],
            [
             0.3,
             "#f1b6da"
            ],
            [
             0.4,
             "#fde0ef"
            ],
            [
             0.5,
             "#f7f7f7"
            ],
            [
             0.6,
             "#e6f5d0"
            ],
            [
             0.7,
             "#b8e186"
            ],
            [
             0.8,
             "#7fbc41"
            ],
            [
             0.9,
             "#4d9221"
            ],
            [
             1,
             "#276419"
            ]
           ],
           "sequential": [
            [
             0,
             "#0d0887"
            ],
            [
             0.1111111111111111,
             "#46039f"
            ],
            [
             0.2222222222222222,
             "#7201a8"
            ],
            [
             0.3333333333333333,
             "#9c179e"
            ],
            [
             0.4444444444444444,
             "#bd3786"
            ],
            [
             0.5555555555555556,
             "#d8576b"
            ],
            [
             0.6666666666666666,
             "#ed7953"
            ],
            [
             0.7777777777777778,
             "#fb9f3a"
            ],
            [
             0.8888888888888888,
             "#fdca26"
            ],
            [
             1,
             "#f0f921"
            ]
           ],
           "sequentialminus": [
            [
             0,
             "#0d0887"
            ],
            [
             0.1111111111111111,
             "#46039f"
            ],
            [
             0.2222222222222222,
             "#7201a8"
            ],
            [
             0.3333333333333333,
             "#9c179e"
            ],
            [
             0.4444444444444444,
             "#bd3786"
            ],
            [
             0.5555555555555556,
             "#d8576b"
            ],
            [
             0.6666666666666666,
             "#ed7953"
            ],
            [
             0.7777777777777778,
             "#fb9f3a"
            ],
            [
             0.8888888888888888,
             "#fdca26"
            ],
            [
             1,
             "#f0f921"
            ]
           ]
          },
          "colorway": [
           "#636efa",
           "#EF553B",
           "#00cc96",
           "#ab63fa",
           "#FFA15A",
           "#19d3f3",
           "#FF6692",
           "#B6E880",
           "#FF97FF",
           "#FECB52"
          ],
          "font": {
           "color": "#2a3f5f"
          },
          "geo": {
           "bgcolor": "white",
           "lakecolor": "white",
           "landcolor": "#E5ECF6",
           "showlakes": true,
           "showland": true,
           "subunitcolor": "white"
          },
          "hoverlabel": {
           "align": "left"
          },
          "hovermode": "closest",
          "mapbox": {
           "style": "light"
          },
          "paper_bgcolor": "white",
          "plot_bgcolor": "#E5ECF6",
          "polar": {
           "angularaxis": {
            "gridcolor": "white",
            "linecolor": "white",
            "ticks": ""
           },
           "bgcolor": "#E5ECF6",
           "radialaxis": {
            "gridcolor": "white",
            "linecolor": "white",
            "ticks": ""
           }
          },
          "scene": {
           "xaxis": {
            "backgroundcolor": "#E5ECF6",
            "gridcolor": "white",
            "gridwidth": 2,
            "linecolor": "white",
            "showbackground": true,
            "ticks": "",
            "zerolinecolor": "white"
           },
           "yaxis": {
            "backgroundcolor": "#E5ECF6",
            "gridcolor": "white",
            "gridwidth": 2,
            "linecolor": "white",
            "showbackground": true,
            "ticks": "",
            "zerolinecolor": "white"
           },
           "zaxis": {
            "backgroundcolor": "#E5ECF6",
            "gridcolor": "white",
            "gridwidth": 2,
            "linecolor": "white",
            "showbackground": true,
            "ticks": "",
            "zerolinecolor": "white"
           }
          },
          "shapedefaults": {
           "line": {
            "color": "#2a3f5f"
           }
          },
          "ternary": {
           "aaxis": {
            "gridcolor": "white",
            "linecolor": "white",
            "ticks": ""
           },
           "baxis": {
            "gridcolor": "white",
            "linecolor": "white",
            "ticks": ""
           },
           "bgcolor": "#E5ECF6",
           "caxis": {
            "gridcolor": "white",
            "linecolor": "white",
            "ticks": ""
           }
          },
          "title": {
           "x": 0.05
          },
          "xaxis": {
           "automargin": true,
           "gridcolor": "white",
           "linecolor": "white",
           "ticks": "",
           "title": {
            "standoff": 15
           },
           "zerolinecolor": "white",
           "zerolinewidth": 2
          },
          "yaxis": {
           "automargin": true,
           "gridcolor": "white",
           "linecolor": "white",
           "ticks": "",
           "title": {
            "standoff": 15
           },
           "zerolinecolor": "white",
           "zerolinewidth": 2
          }
         }
        },
        "title": {
         "font": {
          "color": "#4D5663"
         },
         "text": "2020-06-19"
        },
        "xaxis": {
         "gridcolor": "#E1E5ED",
         "showgrid": true,
         "tickfont": {
          "color": "#4D5663"
         },
         "title": {
          "font": {
           "color": "#4D5663"
          },
          "text": "strike price"
         },
         "zerolinecolor": "#E1E5ED"
        },
        "yaxis": {
         "gridcolor": "#E1E5ED",
         "showgrid": true,
         "tickfont": {
          "color": "#4D5663"
         },
         "title": {
          "font": {
           "color": "#4D5663"
          },
          "text": ""
         },
         "zerolinecolor": "#E1E5ED"
        },
        "yaxis2": {
         "anchor": "x",
         "gridcolor": "#E1E5ED",
         "overlaying": "y",
         "showgrid": true,
         "side": "right",
         "tickfont": {
          "color": "#4D5663"
         },
         "title": {
          "text": ""
         },
         "zerolinecolor": "#E1E5ED"
        }
       }
      },
      "text/html": [
       "<div>\n",
       "        \n",
       "        \n",
       "            <div id=\"67677f09-637e-4da5-a00e-eb23832c2c84\" class=\"plotly-graph-div\" style=\"height:525px; width:100%;\"></div>\n",
       "            <script type=\"text/javascript\">\n",
       "                require([\"plotly\"], function(Plotly) {\n",
       "                    window.PLOTLYENV=window.PLOTLYENV || {};\n",
       "                    window.PLOTLYENV.BASE_URL='https://plot.ly';\n",
       "                    \n",
       "                if (document.getElementById(\"67677f09-637e-4da5-a00e-eb23832c2c84\")) {\n",
       "                    Plotly.newPlot(\n",
       "                        '67677f09-637e-4da5-a00e-eb23832c2c84',\n",
       "                        [{\"line\": {\"color\": \"rgba(255, 153, 51, 1.0)\", \"dash\": \"solid\", \"shape\": \"linear\", \"width\": 1.3}, \"marker\": {\"size\": 6, \"symbol\": \"circle\"}, \"mode\": \"lines+markers\", \"name\": \"CF_CLOSE\", \"text\": \"\", \"type\": \"scatter\", \"x\": [11350.0, 11400.0, 11450.0, 11500.0, 11550.0, 11600.0, 11650.0, 11700.0, 11750.0, 11800.0, 11850.0, 11900.0, 11950.0, 12000.0, 12050.0, 12100.0, 12150.0, 12200.0, 12250.0, 12300.0, 12350.0, 12400.0, 12450.0, 12500.0, 12550.0, 12600.0, 12650.0, 12700.0, 12750.0, 12800.0, 12850.0, 12900.0, 12950.0, 13000.0, 13050.0, 13100.0, 13150.0, 13200.0, 13250.0, 13300.0, 13350.0, 13400.0, 13450.0, 13500.0, 13550.0, 13600.0, 13650.0, 13700.0, 13750.0, 13800.0, 13850.0, 13900.0, 13950.0, 14000.0, 14050.0, 14100.0, 14150.0, 14200.0, 14250.0, 14300.0, 14350.0, 14400.0, 14450.0, 14500.0, 14550.0, 14600.0, 14650.0, 14700.0, 14750.0, 14800.0, 14850.0, 14900.0, 14950.0, 15000.0], \"y\": [2087.2, 2041.8, 1996.3, 1951.1, 1906.1, 1861.2, 1816.6, 1772.1, 1727.9, 1683.9, 1640.3, 1596.7, 1553.6, 1510.6, 1467.9, 1425.6, 1383.4, 1341.6, 1300.0, 1259.0, 1218.2, 1177.8, 1137.8, 1098.2, 1059.0, 1020.2, 982.0, 944.1, 906.6, 869.7, 833.5, 797.6, 762.4, 727.9, 693.9, 660.6, 627.9, 596.1, 564.9, 534.5, 505.2, 476.4, 448.6, 421.5, 395.6, 370.4, 345.9, 322.5, 299.9, 278.2, 257.6, 238.0, 219.4, 201.5, 184.7, 168.8, 154.1, 140.3, 127.1, 115.3, 103.9, 93.7, 84.0, 75.2, 67.0, 59.7, 52.9, 47.0, 41.5, 36.7, 32.2, 28.5, 25.1, 22.0]}, {\"line\": {\"color\": \"rgba(55, 128, 191, 1.0)\", \"dash\": \"solid\", \"shape\": \"linear\", \"width\": 1.3}, \"marker\": {\"size\": 6, \"symbol\": \"circle\"}, \"mode\": \"lines+markers\", \"name\": \"IMP_VOLT\", \"text\": \"\", \"type\": \"scatter\", \"x\": [11350.0, 11400.0, 11450.0, 11500.0, 11550.0, 11600.0, 11650.0, 11700.0, 11750.0, 11800.0, 11850.0, 11900.0, 11950.0, 12000.0, 12050.0, 12100.0, 12150.0, 12200.0, 12250.0, 12300.0, 12350.0, 12400.0, 12450.0, 12500.0, 12550.0, 12600.0, 12650.0, 12700.0, 12750.0, 12800.0, 12850.0, 12900.0, 12950.0, 13000.0, 13050.0, 13100.0, 13150.0, 13200.0, 13250.0, 13300.0, 13350.0, 13400.0, 13450.0, 13500.0, 13550.0, 13600.0, 13650.0, 13700.0, 13750.0, 13800.0, 13850.0, 13900.0, 13950.0, 14000.0, 14050.0, 14100.0, 14150.0, 14200.0, 14250.0, 14300.0, 14350.0, 14400.0, 14450.0, 14500.0, 14550.0, 14600.0, 14650.0, 14700.0, 14750.0, 14800.0, 14850.0, 14900.0, 14950.0, 15000.0], \"xaxis\": \"x\", \"y\": [20.56, 20.37, 20.23, 20.07, 19.91, 19.74, 19.56, 19.42, 19.24, 19.07, 18.92, 18.76, 18.6, 18.44, 18.26, 18.11, 17.91, 17.78, 17.6, 17.44, 17.26, 17.11, 16.95, 16.77, 16.62, 16.45, 16.29, 16.12, 15.96, 15.8, 15.64, 15.48, 15.31, 15.15, 14.99, 14.84, 14.67, 14.4, 14.36, 14.19, 14.06, 13.9, 13.75, 13.61, 13.45, 13.32, 13.16, 13.04, 12.9, 12.77, 12.63, 12.5, 12.37, 12.24, 12.13, 12.0, 11.88, 11.77, 11.67, 11.54, 11.45, 11.33, 11.24, 11.15, 11.05, 10.97, 10.89, 10.8, 10.73, 10.67, 10.59, 10.54, 10.48, 10.41], \"yaxis\": \"y2\"}],\n",
       "                        {\"legend\": {\"bgcolor\": \"#F5F6F9\", \"font\": {\"color\": \"#4D5663\"}}, \"paper_bgcolor\": \"#F5F6F9\", \"plot_bgcolor\": \"#F5F6F9\", \"template\": {\"data\": {\"bar\": [{\"error_x\": {\"color\": \"#2a3f5f\"}, \"error_y\": {\"color\": \"#2a3f5f\"}, \"marker\": {\"line\": {\"color\": \"#E5ECF6\", \"width\": 0.5}}, \"type\": \"bar\"}], \"barpolar\": [{\"marker\": {\"line\": {\"color\": \"#E5ECF6\", \"width\": 0.5}}, \"type\": \"barpolar\"}], \"carpet\": [{\"aaxis\": {\"endlinecolor\": \"#2a3f5f\", \"gridcolor\": \"white\", \"linecolor\": \"white\", \"minorgridcolor\": \"white\", \"startlinecolor\": \"#2a3f5f\"}, \"baxis\": {\"endlinecolor\": \"#2a3f5f\", \"gridcolor\": \"white\", \"linecolor\": \"white\", \"minorgridcolor\": \"white\", \"startlinecolor\": \"#2a3f5f\"}, \"type\": \"carpet\"}], \"choropleth\": [{\"colorbar\": {\"outlinewidth\": 0, \"ticks\": \"\"}, \"type\": \"choropleth\"}], \"contour\": [{\"colorbar\": {\"outlinewidth\": 0, \"ticks\": \"\"}, \"colorscale\": [[0.0, \"#0d0887\"], [0.1111111111111111, \"#46039f\"], [0.2222222222222222, \"#7201a8\"], [0.3333333333333333, \"#9c179e\"], [0.4444444444444444, \"#bd3786\"], [0.5555555555555556, \"#d8576b\"], [0.6666666666666666, \"#ed7953\"], [0.7777777777777778, \"#fb9f3a\"], [0.8888888888888888, \"#fdca26\"], [1.0, \"#f0f921\"]], \"type\": \"contour\"}], \"contourcarpet\": [{\"colorbar\": {\"outlinewidth\": 0, \"ticks\": \"\"}, \"type\": \"contourcarpet\"}], \"heatmap\": [{\"colorbar\": {\"outlinewidth\": 0, \"ticks\": \"\"}, \"colorscale\": [[0.0, \"#0d0887\"], [0.1111111111111111, \"#46039f\"], [0.2222222222222222, \"#7201a8\"], [0.3333333333333333, \"#9c179e\"], [0.4444444444444444, \"#bd3786\"], [0.5555555555555556, \"#d8576b\"], [0.6666666666666666, \"#ed7953\"], [0.7777777777777778, \"#fb9f3a\"], [0.8888888888888888, \"#fdca26\"], [1.0, \"#f0f921\"]], \"type\": \"heatmap\"}], \"heatmapgl\": [{\"colorbar\": {\"outlinewidth\": 0, \"ticks\": \"\"}, \"colorscale\": [[0.0, \"#0d0887\"], [0.1111111111111111, \"#46039f\"], [0.2222222222222222, \"#7201a8\"], [0.3333333333333333, \"#9c179e\"], [0.4444444444444444, \"#bd3786\"], [0.5555555555555556, \"#d8576b\"], [0.6666666666666666, \"#ed7953\"], [0.7777777777777778, \"#fb9f3a\"], [0.8888888888888888, \"#fdca26\"], [1.0, \"#f0f921\"]], \"type\": \"heatmapgl\"}], \"histogram\": [{\"marker\": {\"colorbar\": {\"outlinewidth\": 0, \"ticks\": \"\"}}, \"type\": \"histogram\"}], \"histogram2d\": [{\"colorbar\": {\"outlinewidth\": 0, \"ticks\": \"\"}, \"colorscale\": [[0.0, \"#0d0887\"], [0.1111111111111111, \"#46039f\"], [0.2222222222222222, \"#7201a8\"], [0.3333333333333333, \"#9c179e\"], [0.4444444444444444, \"#bd3786\"], [0.5555555555555556, \"#d8576b\"], [0.6666666666666666, \"#ed7953\"], [0.7777777777777778, \"#fb9f3a\"], [0.8888888888888888, \"#fdca26\"], [1.0, \"#f0f921\"]], \"type\": \"histogram2d\"}], \"histogram2dcontour\": [{\"colorbar\": {\"outlinewidth\": 0, \"ticks\": \"\"}, \"colorscale\": [[0.0, \"#0d0887\"], [0.1111111111111111, \"#46039f\"], [0.2222222222222222, \"#7201a8\"], [0.3333333333333333, \"#9c179e\"], [0.4444444444444444, \"#bd3786\"], [0.5555555555555556, \"#d8576b\"], [0.6666666666666666, \"#ed7953\"], [0.7777777777777778, \"#fb9f3a\"], [0.8888888888888888, \"#fdca26\"], [1.0, \"#f0f921\"]], \"type\": \"histogram2dcontour\"}], \"mesh3d\": [{\"colorbar\": {\"outlinewidth\": 0, \"ticks\": \"\"}, \"type\": \"mesh3d\"}], \"parcoords\": [{\"line\": {\"colorbar\": {\"outlinewidth\": 0, \"ticks\": \"\"}}, \"type\": \"parcoords\"}], \"pie\": [{\"automargin\": true, \"type\": \"pie\"}], \"scatter\": [{\"marker\": {\"colorbar\": {\"outlinewidth\": 0, \"ticks\": \"\"}}, \"type\": \"scatter\"}], \"scatter3d\": [{\"line\": {\"colorbar\": {\"outlinewidth\": 0, \"ticks\": \"\"}}, \"marker\": {\"colorbar\": {\"outlinewidth\": 0, \"ticks\": \"\"}}, \"type\": \"scatter3d\"}], \"scattercarpet\": [{\"marker\": {\"colorbar\": {\"outlinewidth\": 0, \"ticks\": \"\"}}, \"type\": \"scattercarpet\"}], \"scattergeo\": [{\"marker\": {\"colorbar\": {\"outlinewidth\": 0, \"ticks\": \"\"}}, \"type\": \"scattergeo\"}], \"scattergl\": [{\"marker\": {\"colorbar\": {\"outlinewidth\": 0, \"ticks\": \"\"}}, \"type\": \"scattergl\"}], \"scattermapbox\": [{\"marker\": {\"colorbar\": {\"outlinewidth\": 0, \"ticks\": \"\"}}, \"type\": \"scattermapbox\"}], \"scatterpolar\": [{\"marker\": {\"colorbar\": {\"outlinewidth\": 0, \"ticks\": \"\"}}, \"type\": \"scatterpolar\"}], \"scatterpolargl\": [{\"marker\": {\"colorbar\": {\"outlinewidth\": 0, \"ticks\": \"\"}}, \"type\": \"scatterpolargl\"}], \"scatterternary\": [{\"marker\": {\"colorbar\": {\"outlinewidth\": 0, \"ticks\": \"\"}}, \"type\": \"scatterternary\"}], \"surface\": [{\"colorbar\": {\"outlinewidth\": 0, \"ticks\": \"\"}, \"colorscale\": [[0.0, \"#0d0887\"], [0.1111111111111111, \"#46039f\"], [0.2222222222222222, \"#7201a8\"], [0.3333333333333333, \"#9c179e\"], [0.4444444444444444, \"#bd3786\"], [0.5555555555555556, \"#d8576b\"], [0.6666666666666666, \"#ed7953\"], [0.7777777777777778, \"#fb9f3a\"], [0.8888888888888888, \"#fdca26\"], [1.0, \"#f0f921\"]], \"type\": \"surface\"}], \"table\": [{\"cells\": {\"fill\": {\"color\": \"#EBF0F8\"}, \"line\": {\"color\": \"white\"}}, \"header\": {\"fill\": {\"color\": \"#C8D4E3\"}, \"line\": {\"color\": \"white\"}}, \"type\": \"table\"}]}, \"layout\": {\"annotationdefaults\": {\"arrowcolor\": \"#2a3f5f\", \"arrowhead\": 0, \"arrowwidth\": 1}, \"coloraxis\": {\"colorbar\": {\"outlinewidth\": 0, \"ticks\": \"\"}}, \"colorscale\": {\"diverging\": [[0, \"#8e0152\"], [0.1, \"#c51b7d\"], [0.2, \"#de77ae\"], [0.3, \"#f1b6da\"], [0.4, \"#fde0ef\"], [0.5, \"#f7f7f7\"], [0.6, \"#e6f5d0\"], [0.7, \"#b8e186\"], [0.8, \"#7fbc41\"], [0.9, \"#4d9221\"], [1, \"#276419\"]], \"sequential\": [[0.0, \"#0d0887\"], [0.1111111111111111, \"#46039f\"], [0.2222222222222222, \"#7201a8\"], [0.3333333333333333, \"#9c179e\"], [0.4444444444444444, \"#bd3786\"], [0.5555555555555556, \"#d8576b\"], [0.6666666666666666, \"#ed7953\"], [0.7777777777777778, \"#fb9f3a\"], [0.8888888888888888, \"#fdca26\"], [1.0, \"#f0f921\"]], \"sequentialminus\": [[0.0, \"#0d0887\"], [0.1111111111111111, \"#46039f\"], [0.2222222222222222, \"#7201a8\"], [0.3333333333333333, \"#9c179e\"], [0.4444444444444444, \"#bd3786\"], [0.5555555555555556, \"#d8576b\"], [0.6666666666666666, \"#ed7953\"], [0.7777777777777778, \"#fb9f3a\"], [0.8888888888888888, \"#fdca26\"], [1.0, \"#f0f921\"]]}, \"colorway\": [\"#636efa\", \"#EF553B\", \"#00cc96\", \"#ab63fa\", \"#FFA15A\", \"#19d3f3\", \"#FF6692\", \"#B6E880\", \"#FF97FF\", \"#FECB52\"], \"font\": {\"color\": \"#2a3f5f\"}, \"geo\": {\"bgcolor\": \"white\", \"lakecolor\": \"white\", \"landcolor\": \"#E5ECF6\", \"showlakes\": true, \"showland\": true, \"subunitcolor\": \"white\"}, \"hoverlabel\": {\"align\": \"left\"}, \"hovermode\": \"closest\", \"mapbox\": {\"style\": \"light\"}, \"paper_bgcolor\": \"white\", \"plot_bgcolor\": \"#E5ECF6\", \"polar\": {\"angularaxis\": {\"gridcolor\": \"white\", \"linecolor\": \"white\", \"ticks\": \"\"}, \"bgcolor\": \"#E5ECF6\", \"radialaxis\": {\"gridcolor\": \"white\", \"linecolor\": \"white\", \"ticks\": \"\"}}, \"scene\": {\"xaxis\": {\"backgroundcolor\": \"#E5ECF6\", \"gridcolor\": \"white\", \"gridwidth\": 2, \"linecolor\": \"white\", \"showbackground\": true, \"ticks\": \"\", \"zerolinecolor\": \"white\"}, \"yaxis\": {\"backgroundcolor\": \"#E5ECF6\", \"gridcolor\": \"white\", \"gridwidth\": 2, \"linecolor\": \"white\", \"showbackground\": true, \"ticks\": \"\", \"zerolinecolor\": \"white\"}, \"zaxis\": {\"backgroundcolor\": \"#E5ECF6\", \"gridcolor\": \"white\", \"gridwidth\": 2, \"linecolor\": \"white\", \"showbackground\": true, \"ticks\": \"\", \"zerolinecolor\": \"white\"}}, \"shapedefaults\": {\"line\": {\"color\": \"#2a3f5f\"}}, \"ternary\": {\"aaxis\": {\"gridcolor\": \"white\", \"linecolor\": \"white\", \"ticks\": \"\"}, \"baxis\": {\"gridcolor\": \"white\", \"linecolor\": \"white\", \"ticks\": \"\"}, \"bgcolor\": \"#E5ECF6\", \"caxis\": {\"gridcolor\": \"white\", \"linecolor\": \"white\", \"ticks\": \"\"}}, \"title\": {\"x\": 0.05}, \"xaxis\": {\"automargin\": true, \"gridcolor\": \"white\", \"linecolor\": \"white\", \"ticks\": \"\", \"title\": {\"standoff\": 15}, \"zerolinecolor\": \"white\", \"zerolinewidth\": 2}, \"yaxis\": {\"automargin\": true, \"gridcolor\": \"white\", \"linecolor\": \"white\", \"ticks\": \"\", \"title\": {\"standoff\": 15}, \"zerolinecolor\": \"white\", \"zerolinewidth\": 2}}}, \"title\": {\"font\": {\"color\": \"#4D5663\"}, \"text\": \"2020-06-19\"}, \"xaxis\": {\"gridcolor\": \"#E1E5ED\", \"showgrid\": true, \"tickfont\": {\"color\": \"#4D5663\"}, \"title\": {\"font\": {\"color\": \"#4D5663\"}, \"text\": \"strike price\"}, \"zerolinecolor\": \"#E1E5ED\"}, \"yaxis\": {\"gridcolor\": \"#E1E5ED\", \"showgrid\": true, \"tickfont\": {\"color\": \"#4D5663\"}, \"title\": {\"font\": {\"color\": \"#4D5663\"}, \"text\": \"\"}, \"zerolinecolor\": \"#E1E5ED\"}, \"yaxis2\": {\"anchor\": \"x\", \"gridcolor\": \"#E1E5ED\", \"overlaying\": \"y\", \"showgrid\": true, \"side\": \"right\", \"tickfont\": {\"color\": \"#4D5663\"}, \"title\": {\"text\": \"\"}, \"zerolinecolor\": \"#E1E5ED\"}},\n",
       "                        {\"showLink\": true, \"linkText\": \"Export to plot.ly\", \"plotlyServerURL\": \"https://plot.ly\", \"responsive\": true}\n",
       "                    ).then(function(){\n",
       "                            \n",
       "var gd = document.getElementById('67677f09-637e-4da5-a00e-eb23832c2c84');\n",
       "var x = new MutationObserver(function (mutations, observer) {{\n",
       "        var display = window.getComputedStyle(gd).display;\n",
       "        if (!display || display === 'none') {{\n",
       "            console.log([gd, 'removed!']);\n",
       "            Plotly.purge(gd);\n",
       "            observer.disconnect();\n",
       "        }}\n",
       "}});\n",
       "\n",
       "// Listen for the removal of the full notebook cells\n",
       "var notebookContainer = gd.closest('#notebook-container');\n",
       "if (notebookContainer) {{\n",
       "    x.observe(notebookContainer, {childList: true});\n",
       "}}\n",
       "\n",
       "// Listen for the clearing of the current output cell\n",
       "var outputEl = gd.closest('.output');\n",
       "if (outputEl) {{\n",
       "    x.observe(outputEl, {childList: true});\n",
       "}}\n",
       "\n",
       "                        })\n",
       "                };\n",
       "                });\n",
       "            </script>\n",
       "        </div>"
      ]
     },
     "metadata": {},
     "output_type": "display_data"
    },
    {
     "data": {
      "application/vnd.plotly.v1+json": {
       "config": {
        "linkText": "Export to plot.ly",
        "plotlyServerURL": "https://plot.ly",
        "showLink": true
       },
       "data": [
        {
         "line": {
          "color": "rgba(255, 153, 51, 1.0)",
          "dash": "solid",
          "shape": "linear",
          "width": 1.3
         },
         "marker": {
          "size": 6,
          "symbol": "circle"
         },
         "mode": "lines+markers",
         "name": "CF_CLOSE",
         "text": "",
         "type": "scatter",
         "x": [
          11400,
          11500,
          11550,
          11600,
          11650,
          11700,
          11750,
          11800,
          11850,
          11900,
          11950,
          12000,
          12050,
          12100,
          12150,
          12200,
          12250,
          12300,
          12350,
          12400,
          12450,
          12500,
          12550,
          12600,
          12650,
          12700,
          12750,
          12800,
          12850,
          12900,
          12950,
          13000,
          13050,
          13100,
          13150,
          13200,
          13250,
          13300,
          13350,
          13400,
          13450,
          13500,
          13550,
          13600,
          13650,
          13700,
          13750,
          13800,
          13850,
          13900,
          13950,
          14000,
          14050,
          14100,
          14150,
          14200,
          14300,
          14400,
          14600,
          14800,
          15000,
          15200
         ],
         "y": [
          2350.3,
          2269.9,
          2230.2,
          2191,
          2151.7,
          2112,
          2073.2,
          2034.7,
          1996.6,
          1958.4,
          1920.8,
          1883.2,
          1845.5,
          1809,
          1771.9,
          1735.4,
          1699.4,
          1663.4,
          1627.9,
          1592.5,
          1557.6,
          1522.7,
          1488.3,
          1454.6,
          1420.6,
          1387.1,
          1354.2,
          1321.3,
          1289.1,
          1256.7,
          1225.1,
          1193.4,
          1162.3,
          1131.8,
          1101.4,
          1071.5,
          1042.4,
          1013.8,
          985.2,
          956.9,
          929.4,
          902.5,
          875.6,
          849.4,
          823.7,
          798.1,
          773.1,
          748.1,
          723.7,
          700,
          677,
          654.5,
          632.1,
          610.4,
          588.5,
          567.8,
          527.7,
          488.6,
          417.3,
          352.9,
          295.9,
          245.7
         ]
        },
        {
         "line": {
          "color": "rgba(55, 128, 191, 1.0)",
          "dash": "solid",
          "shape": "linear",
          "width": 1.3
         },
         "marker": {
          "size": 6,
          "symbol": "circle"
         },
         "mode": "lines+markers",
         "name": "IMP_VOLT",
         "text": "",
         "type": "scatter",
         "x": [
          11400,
          11500,
          11550,
          11600,
          11650,
          11700,
          11750,
          11800,
          11850,
          11900,
          11950,
          12000,
          12050,
          12100,
          12150,
          12200,
          12250,
          12300,
          12350,
          12400,
          12450,
          12500,
          12550,
          12600,
          12650,
          12700,
          12750,
          12800,
          12850,
          12900,
          12950,
          13000,
          13050,
          13100,
          13150,
          13200,
          13250,
          13300,
          13350,
          13400,
          13450,
          13500,
          13550,
          13600,
          13650,
          13700,
          13750,
          13800,
          13850,
          13900,
          13950,
          14000,
          14050,
          14100,
          14150,
          14200,
          14300,
          14400,
          14600,
          14800,
          15000,
          15200
         ],
         "xaxis": "x",
         "y": [
          19.28,
          19.09,
          18.98,
          18.88,
          18.79,
          18.69,
          18.59,
          18.49,
          18.39,
          18.29,
          18.19,
          18.1,
          18.01,
          17.91,
          17.81,
          17.72,
          17.63,
          17.53,
          17.43,
          17.34,
          17.24,
          17.16,
          17.05,
          16.96,
          16.87,
          16.77,
          16.69,
          16.59,
          16.51,
          16.42,
          16.32,
          16.23,
          16.14,
          16.06,
          15.97,
          15.88,
          15.8,
          15.64,
          15.56,
          15.47,
          15.39,
          15.31,
          15.23,
          15.14,
          15.06,
          14.99,
          14.91,
          14.83,
          14.75,
          14.68,
          14.6,
          14.46,
          14.45,
          14.37,
          14.29,
          14.22,
          14.08,
          13.94,
          13.66,
          13.39,
          13.14,
          12.9
         ],
         "yaxis": "y2"
        }
       ],
       "layout": {
        "legend": {
         "bgcolor": "#F5F6F9",
         "font": {
          "color": "#4D5663"
         }
        },
        "paper_bgcolor": "#F5F6F9",
        "plot_bgcolor": "#F5F6F9",
        "template": {
         "data": {
          "bar": [
           {
            "error_x": {
             "color": "#2a3f5f"
            },
            "error_y": {
             "color": "#2a3f5f"
            },
            "marker": {
             "line": {
              "color": "#E5ECF6",
              "width": 0.5
             }
            },
            "type": "bar"
           }
          ],
          "barpolar": [
           {
            "marker": {
             "line": {
              "color": "#E5ECF6",
              "width": 0.5
             }
            },
            "type": "barpolar"
           }
          ],
          "carpet": [
           {
            "aaxis": {
             "endlinecolor": "#2a3f5f",
             "gridcolor": "white",
             "linecolor": "white",
             "minorgridcolor": "white",
             "startlinecolor": "#2a3f5f"
            },
            "baxis": {
             "endlinecolor": "#2a3f5f",
             "gridcolor": "white",
             "linecolor": "white",
             "minorgridcolor": "white",
             "startlinecolor": "#2a3f5f"
            },
            "type": "carpet"
           }
          ],
          "choropleth": [
           {
            "colorbar": {
             "outlinewidth": 0,
             "ticks": ""
            },
            "type": "choropleth"
           }
          ],
          "contour": [
           {
            "colorbar": {
             "outlinewidth": 0,
             "ticks": ""
            },
            "colorscale": [
             [
              0,
              "#0d0887"
             ],
             [
              0.1111111111111111,
              "#46039f"
             ],
             [
              0.2222222222222222,
              "#7201a8"
             ],
             [
              0.3333333333333333,
              "#9c179e"
             ],
             [
              0.4444444444444444,
              "#bd3786"
             ],
             [
              0.5555555555555556,
              "#d8576b"
             ],
             [
              0.6666666666666666,
              "#ed7953"
             ],
             [
              0.7777777777777778,
              "#fb9f3a"
             ],
             [
              0.8888888888888888,
              "#fdca26"
             ],
             [
              1,
              "#f0f921"
             ]
            ],
            "type": "contour"
           }
          ],
          "contourcarpet": [
           {
            "colorbar": {
             "outlinewidth": 0,
             "ticks": ""
            },
            "type": "contourcarpet"
           }
          ],
          "heatmap": [
           {
            "colorbar": {
             "outlinewidth": 0,
             "ticks": ""
            },
            "colorscale": [
             [
              0,
              "#0d0887"
             ],
             [
              0.1111111111111111,
              "#46039f"
             ],
             [
              0.2222222222222222,
              "#7201a8"
             ],
             [
              0.3333333333333333,
              "#9c179e"
             ],
             [
              0.4444444444444444,
              "#bd3786"
             ],
             [
              0.5555555555555556,
              "#d8576b"
             ],
             [
              0.6666666666666666,
              "#ed7953"
             ],
             [
              0.7777777777777778,
              "#fb9f3a"
             ],
             [
              0.8888888888888888,
              "#fdca26"
             ],
             [
              1,
              "#f0f921"
             ]
            ],
            "type": "heatmap"
           }
          ],
          "heatmapgl": [
           {
            "colorbar": {
             "outlinewidth": 0,
             "ticks": ""
            },
            "colorscale": [
             [
              0,
              "#0d0887"
             ],
             [
              0.1111111111111111,
              "#46039f"
             ],
             [
              0.2222222222222222,
              "#7201a8"
             ],
             [
              0.3333333333333333,
              "#9c179e"
             ],
             [
              0.4444444444444444,
              "#bd3786"
             ],
             [
              0.5555555555555556,
              "#d8576b"
             ],
             [
              0.6666666666666666,
              "#ed7953"
             ],
             [
              0.7777777777777778,
              "#fb9f3a"
             ],
             [
              0.8888888888888888,
              "#fdca26"
             ],
             [
              1,
              "#f0f921"
             ]
            ],
            "type": "heatmapgl"
           }
          ],
          "histogram": [
           {
            "marker": {
             "colorbar": {
              "outlinewidth": 0,
              "ticks": ""
             }
            },
            "type": "histogram"
           }
          ],
          "histogram2d": [
           {
            "colorbar": {
             "outlinewidth": 0,
             "ticks": ""
            },
            "colorscale": [
             [
              0,
              "#0d0887"
             ],
             [
              0.1111111111111111,
              "#46039f"
             ],
             [
              0.2222222222222222,
              "#7201a8"
             ],
             [
              0.3333333333333333,
              "#9c179e"
             ],
             [
              0.4444444444444444,
              "#bd3786"
             ],
             [
              0.5555555555555556,
              "#d8576b"
             ],
             [
              0.6666666666666666,
              "#ed7953"
             ],
             [
              0.7777777777777778,
              "#fb9f3a"
             ],
             [
              0.8888888888888888,
              "#fdca26"
             ],
             [
              1,
              "#f0f921"
             ]
            ],
            "type": "histogram2d"
           }
          ],
          "histogram2dcontour": [
           {
            "colorbar": {
             "outlinewidth": 0,
             "ticks": ""
            },
            "colorscale": [
             [
              0,
              "#0d0887"
             ],
             [
              0.1111111111111111,
              "#46039f"
             ],
             [
              0.2222222222222222,
              "#7201a8"
             ],
             [
              0.3333333333333333,
              "#9c179e"
             ],
             [
              0.4444444444444444,
              "#bd3786"
             ],
             [
              0.5555555555555556,
              "#d8576b"
             ],
             [
              0.6666666666666666,
              "#ed7953"
             ],
             [
              0.7777777777777778,
              "#fb9f3a"
             ],
             [
              0.8888888888888888,
              "#fdca26"
             ],
             [
              1,
              "#f0f921"
             ]
            ],
            "type": "histogram2dcontour"
           }
          ],
          "mesh3d": [
           {
            "colorbar": {
             "outlinewidth": 0,
             "ticks": ""
            },
            "type": "mesh3d"
           }
          ],
          "parcoords": [
           {
            "line": {
             "colorbar": {
              "outlinewidth": 0,
              "ticks": ""
             }
            },
            "type": "parcoords"
           }
          ],
          "pie": [
           {
            "automargin": true,
            "type": "pie"
           }
          ],
          "scatter": [
           {
            "marker": {
             "colorbar": {
              "outlinewidth": 0,
              "ticks": ""
             }
            },
            "type": "scatter"
           }
          ],
          "scatter3d": [
           {
            "line": {
             "colorbar": {
              "outlinewidth": 0,
              "ticks": ""
             }
            },
            "marker": {
             "colorbar": {
              "outlinewidth": 0,
              "ticks": ""
             }
            },
            "type": "scatter3d"
           }
          ],
          "scattercarpet": [
           {
            "marker": {
             "colorbar": {
              "outlinewidth": 0,
              "ticks": ""
             }
            },
            "type": "scattercarpet"
           }
          ],
          "scattergeo": [
           {
            "marker": {
             "colorbar": {
              "outlinewidth": 0,
              "ticks": ""
             }
            },
            "type": "scattergeo"
           }
          ],
          "scattergl": [
           {
            "marker": {
             "colorbar": {
              "outlinewidth": 0,
              "ticks": ""
             }
            },
            "type": "scattergl"
           }
          ],
          "scattermapbox": [
           {
            "marker": {
             "colorbar": {
              "outlinewidth": 0,
              "ticks": ""
             }
            },
            "type": "scattermapbox"
           }
          ],
          "scatterpolar": [
           {
            "marker": {
             "colorbar": {
              "outlinewidth": 0,
              "ticks": ""
             }
            },
            "type": "scatterpolar"
           }
          ],
          "scatterpolargl": [
           {
            "marker": {
             "colorbar": {
              "outlinewidth": 0,
              "ticks": ""
             }
            },
            "type": "scatterpolargl"
           }
          ],
          "scatterternary": [
           {
            "marker": {
             "colorbar": {
              "outlinewidth": 0,
              "ticks": ""
             }
            },
            "type": "scatterternary"
           }
          ],
          "surface": [
           {
            "colorbar": {
             "outlinewidth": 0,
             "ticks": ""
            },
            "colorscale": [
             [
              0,
              "#0d0887"
             ],
             [
              0.1111111111111111,
              "#46039f"
             ],
             [
              0.2222222222222222,
              "#7201a8"
             ],
             [
              0.3333333333333333,
              "#9c179e"
             ],
             [
              0.4444444444444444,
              "#bd3786"
             ],
             [
              0.5555555555555556,
              "#d8576b"
             ],
             [
              0.6666666666666666,
              "#ed7953"
             ],
             [
              0.7777777777777778,
              "#fb9f3a"
             ],
             [
              0.8888888888888888,
              "#fdca26"
             ],
             [
              1,
              "#f0f921"
             ]
            ],
            "type": "surface"
           }
          ],
          "table": [
           {
            "cells": {
             "fill": {
              "color": "#EBF0F8"
             },
             "line": {
              "color": "white"
             }
            },
            "header": {
             "fill": {
              "color": "#C8D4E3"
             },
             "line": {
              "color": "white"
             }
            },
            "type": "table"
           }
          ]
         },
         "layout": {
          "annotationdefaults": {
           "arrowcolor": "#2a3f5f",
           "arrowhead": 0,
           "arrowwidth": 1
          },
          "coloraxis": {
           "colorbar": {
            "outlinewidth": 0,
            "ticks": ""
           }
          },
          "colorscale": {
           "diverging": [
            [
             0,
             "#8e0152"
            ],
            [
             0.1,
             "#c51b7d"
            ],
            [
             0.2,
             "#de77ae"
            ],
            [
             0.3,
             "#f1b6da"
            ],
            [
             0.4,
             "#fde0ef"
            ],
            [
             0.5,
             "#f7f7f7"
            ],
            [
             0.6,
             "#e6f5d0"
            ],
            [
             0.7,
             "#b8e186"
            ],
            [
             0.8,
             "#7fbc41"
            ],
            [
             0.9,
             "#4d9221"
            ],
            [
             1,
             "#276419"
            ]
           ],
           "sequential": [
            [
             0,
             "#0d0887"
            ],
            [
             0.1111111111111111,
             "#46039f"
            ],
            [
             0.2222222222222222,
             "#7201a8"
            ],
            [
             0.3333333333333333,
             "#9c179e"
            ],
            [
             0.4444444444444444,
             "#bd3786"
            ],
            [
             0.5555555555555556,
             "#d8576b"
            ],
            [
             0.6666666666666666,
             "#ed7953"
            ],
            [
             0.7777777777777778,
             "#fb9f3a"
            ],
            [
             0.8888888888888888,
             "#fdca26"
            ],
            [
             1,
             "#f0f921"
            ]
           ],
           "sequentialminus": [
            [
             0,
             "#0d0887"
            ],
            [
             0.1111111111111111,
             "#46039f"
            ],
            [
             0.2222222222222222,
             "#7201a8"
            ],
            [
             0.3333333333333333,
             "#9c179e"
            ],
            [
             0.4444444444444444,
             "#bd3786"
            ],
            [
             0.5555555555555556,
             "#d8576b"
            ],
            [
             0.6666666666666666,
             "#ed7953"
            ],
            [
             0.7777777777777778,
             "#fb9f3a"
            ],
            [
             0.8888888888888888,
             "#fdca26"
            ],
            [
             1,
             "#f0f921"
            ]
           ]
          },
          "colorway": [
           "#636efa",
           "#EF553B",
           "#00cc96",
           "#ab63fa",
           "#FFA15A",
           "#19d3f3",
           "#FF6692",
           "#B6E880",
           "#FF97FF",
           "#FECB52"
          ],
          "font": {
           "color": "#2a3f5f"
          },
          "geo": {
           "bgcolor": "white",
           "lakecolor": "white",
           "landcolor": "#E5ECF6",
           "showlakes": true,
           "showland": true,
           "subunitcolor": "white"
          },
          "hoverlabel": {
           "align": "left"
          },
          "hovermode": "closest",
          "mapbox": {
           "style": "light"
          },
          "paper_bgcolor": "white",
          "plot_bgcolor": "#E5ECF6",
          "polar": {
           "angularaxis": {
            "gridcolor": "white",
            "linecolor": "white",
            "ticks": ""
           },
           "bgcolor": "#E5ECF6",
           "radialaxis": {
            "gridcolor": "white",
            "linecolor": "white",
            "ticks": ""
           }
          },
          "scene": {
           "xaxis": {
            "backgroundcolor": "#E5ECF6",
            "gridcolor": "white",
            "gridwidth": 2,
            "linecolor": "white",
            "showbackground": true,
            "ticks": "",
            "zerolinecolor": "white"
           },
           "yaxis": {
            "backgroundcolor": "#E5ECF6",
            "gridcolor": "white",
            "gridwidth": 2,
            "linecolor": "white",
            "showbackground": true,
            "ticks": "",
            "zerolinecolor": "white"
           },
           "zaxis": {
            "backgroundcolor": "#E5ECF6",
            "gridcolor": "white",
            "gridwidth": 2,
            "linecolor": "white",
            "showbackground": true,
            "ticks": "",
            "zerolinecolor": "white"
           }
          },
          "shapedefaults": {
           "line": {
            "color": "#2a3f5f"
           }
          },
          "ternary": {
           "aaxis": {
            "gridcolor": "white",
            "linecolor": "white",
            "ticks": ""
           },
           "baxis": {
            "gridcolor": "white",
            "linecolor": "white",
            "ticks": ""
           },
           "bgcolor": "#E5ECF6",
           "caxis": {
            "gridcolor": "white",
            "linecolor": "white",
            "ticks": ""
           }
          },
          "title": {
           "x": 0.05
          },
          "xaxis": {
           "automargin": true,
           "gridcolor": "white",
           "linecolor": "white",
           "ticks": "",
           "title": {
            "standoff": 15
           },
           "zerolinecolor": "white",
           "zerolinewidth": 2
          },
          "yaxis": {
           "automargin": true,
           "gridcolor": "white",
           "linecolor": "white",
           "ticks": "",
           "title": {
            "standoff": 15
           },
           "zerolinecolor": "white",
           "zerolinewidth": 2
          }
         }
        },
        "title": {
         "font": {
          "color": "#4D5663"
         },
         "text": "2021-06-18"
        },
        "xaxis": {
         "gridcolor": "#E1E5ED",
         "showgrid": true,
         "tickfont": {
          "color": "#4D5663"
         },
         "title": {
          "font": {
           "color": "#4D5663"
          },
          "text": "strike price"
         },
         "zerolinecolor": "#E1E5ED"
        },
        "yaxis": {
         "gridcolor": "#E1E5ED",
         "showgrid": true,
         "tickfont": {
          "color": "#4D5663"
         },
         "title": {
          "font": {
           "color": "#4D5663"
          },
          "text": ""
         },
         "zerolinecolor": "#E1E5ED"
        },
        "yaxis2": {
         "anchor": "x",
         "gridcolor": "#E1E5ED",
         "overlaying": "y",
         "showgrid": true,
         "side": "right",
         "tickfont": {
          "color": "#4D5663"
         },
         "title": {
          "text": ""
         },
         "zerolinecolor": "#E1E5ED"
        }
       }
      },
      "text/html": [
       "<div>\n",
       "        \n",
       "        \n",
       "            <div id=\"da653002-a7c9-41c3-b73d-534173619122\" class=\"plotly-graph-div\" style=\"height:525px; width:100%;\"></div>\n",
       "            <script type=\"text/javascript\">\n",
       "                require([\"plotly\"], function(Plotly) {\n",
       "                    window.PLOTLYENV=window.PLOTLYENV || {};\n",
       "                    window.PLOTLYENV.BASE_URL='https://plot.ly';\n",
       "                    \n",
       "                if (document.getElementById(\"da653002-a7c9-41c3-b73d-534173619122\")) {\n",
       "                    Plotly.newPlot(\n",
       "                        'da653002-a7c9-41c3-b73d-534173619122',\n",
       "                        [{\"line\": {\"color\": \"rgba(255, 153, 51, 1.0)\", \"dash\": \"solid\", \"shape\": \"linear\", \"width\": 1.3}, \"marker\": {\"size\": 6, \"symbol\": \"circle\"}, \"mode\": \"lines+markers\", \"name\": \"CF_CLOSE\", \"text\": \"\", \"type\": \"scatter\", \"x\": [11400.0, 11500.0, 11550.0, 11600.0, 11650.0, 11700.0, 11750.0, 11800.0, 11850.0, 11900.0, 11950.0, 12000.0, 12050.0, 12100.0, 12150.0, 12200.0, 12250.0, 12300.0, 12350.0, 12400.0, 12450.0, 12500.0, 12550.0, 12600.0, 12650.0, 12700.0, 12750.0, 12800.0, 12850.0, 12900.0, 12950.0, 13000.0, 13050.0, 13100.0, 13150.0, 13200.0, 13250.0, 13300.0, 13350.0, 13400.0, 13450.0, 13500.0, 13550.0, 13600.0, 13650.0, 13700.0, 13750.0, 13800.0, 13850.0, 13900.0, 13950.0, 14000.0, 14050.0, 14100.0, 14150.0, 14200.0, 14300.0, 14400.0, 14600.0, 14800.0, 15000.0, 15200.0], \"y\": [2350.3, 2269.9, 2230.2, 2191.0, 2151.7, 2112.0, 2073.2, 2034.7, 1996.6, 1958.4, 1920.8, 1883.2, 1845.5, 1809.0, 1771.9, 1735.4, 1699.4, 1663.4, 1627.9, 1592.5, 1557.6, 1522.7, 1488.3, 1454.6, 1420.6, 1387.1, 1354.2, 1321.3, 1289.1, 1256.7, 1225.1, 1193.4, 1162.3, 1131.8, 1101.4, 1071.5, 1042.4, 1013.8, 985.2, 956.9, 929.4, 902.5, 875.6, 849.4, 823.7, 798.1, 773.1, 748.1, 723.7, 700.0, 677.0, 654.5, 632.1, 610.4, 588.5, 567.8, 527.7, 488.6, 417.3, 352.9, 295.9, 245.7]}, {\"line\": {\"color\": \"rgba(55, 128, 191, 1.0)\", \"dash\": \"solid\", \"shape\": \"linear\", \"width\": 1.3}, \"marker\": {\"size\": 6, \"symbol\": \"circle\"}, \"mode\": \"lines+markers\", \"name\": \"IMP_VOLT\", \"text\": \"\", \"type\": \"scatter\", \"x\": [11400.0, 11500.0, 11550.0, 11600.0, 11650.0, 11700.0, 11750.0, 11800.0, 11850.0, 11900.0, 11950.0, 12000.0, 12050.0, 12100.0, 12150.0, 12200.0, 12250.0, 12300.0, 12350.0, 12400.0, 12450.0, 12500.0, 12550.0, 12600.0, 12650.0, 12700.0, 12750.0, 12800.0, 12850.0, 12900.0, 12950.0, 13000.0, 13050.0, 13100.0, 13150.0, 13200.0, 13250.0, 13300.0, 13350.0, 13400.0, 13450.0, 13500.0, 13550.0, 13600.0, 13650.0, 13700.0, 13750.0, 13800.0, 13850.0, 13900.0, 13950.0, 14000.0, 14050.0, 14100.0, 14150.0, 14200.0, 14300.0, 14400.0, 14600.0, 14800.0, 15000.0, 15200.0], \"xaxis\": \"x\", \"y\": [19.28, 19.09, 18.98, 18.88, 18.79, 18.69, 18.59, 18.49, 18.39, 18.29, 18.19, 18.1, 18.01, 17.91, 17.81, 17.72, 17.63, 17.53, 17.43, 17.34, 17.24, 17.16, 17.05, 16.96, 16.87, 16.77, 16.69, 16.59, 16.51, 16.42, 16.32, 16.23, 16.14, 16.06, 15.97, 15.88, 15.8, 15.64, 15.56, 15.47, 15.39, 15.31, 15.23, 15.14, 15.06, 14.99, 14.91, 14.83, 14.75, 14.68, 14.6, 14.46, 14.45, 14.37, 14.29, 14.22, 14.08, 13.94, 13.66, 13.39, 13.14, 12.9], \"yaxis\": \"y2\"}],\n",
       "                        {\"legend\": {\"bgcolor\": \"#F5F6F9\", \"font\": {\"color\": \"#4D5663\"}}, \"paper_bgcolor\": \"#F5F6F9\", \"plot_bgcolor\": \"#F5F6F9\", \"template\": {\"data\": {\"bar\": [{\"error_x\": {\"color\": \"#2a3f5f\"}, \"error_y\": {\"color\": \"#2a3f5f\"}, \"marker\": {\"line\": {\"color\": \"#E5ECF6\", \"width\": 0.5}}, \"type\": \"bar\"}], \"barpolar\": [{\"marker\": {\"line\": {\"color\": \"#E5ECF6\", \"width\": 0.5}}, \"type\": \"barpolar\"}], \"carpet\": [{\"aaxis\": {\"endlinecolor\": \"#2a3f5f\", \"gridcolor\": \"white\", \"linecolor\": \"white\", \"minorgridcolor\": \"white\", \"startlinecolor\": \"#2a3f5f\"}, \"baxis\": {\"endlinecolor\": \"#2a3f5f\", \"gridcolor\": \"white\", \"linecolor\": \"white\", \"minorgridcolor\": \"white\", \"startlinecolor\": \"#2a3f5f\"}, \"type\": \"carpet\"}], \"choropleth\": [{\"colorbar\": {\"outlinewidth\": 0, \"ticks\": \"\"}, \"type\": \"choropleth\"}], \"contour\": [{\"colorbar\": {\"outlinewidth\": 0, \"ticks\": \"\"}, \"colorscale\": [[0.0, \"#0d0887\"], [0.1111111111111111, \"#46039f\"], [0.2222222222222222, \"#7201a8\"], [0.3333333333333333, \"#9c179e\"], [0.4444444444444444, \"#bd3786\"], [0.5555555555555556, \"#d8576b\"], [0.6666666666666666, \"#ed7953\"], [0.7777777777777778, \"#fb9f3a\"], [0.8888888888888888, \"#fdca26\"], [1.0, \"#f0f921\"]], \"type\": \"contour\"}], \"contourcarpet\": [{\"colorbar\": {\"outlinewidth\": 0, \"ticks\": \"\"}, \"type\": \"contourcarpet\"}], \"heatmap\": [{\"colorbar\": {\"outlinewidth\": 0, \"ticks\": \"\"}, \"colorscale\": [[0.0, \"#0d0887\"], [0.1111111111111111, \"#46039f\"], [0.2222222222222222, \"#7201a8\"], [0.3333333333333333, \"#9c179e\"], [0.4444444444444444, \"#bd3786\"], [0.5555555555555556, \"#d8576b\"], [0.6666666666666666, \"#ed7953\"], [0.7777777777777778, \"#fb9f3a\"], [0.8888888888888888, \"#fdca26\"], [1.0, \"#f0f921\"]], \"type\": \"heatmap\"}], \"heatmapgl\": [{\"colorbar\": {\"outlinewidth\": 0, \"ticks\": \"\"}, \"colorscale\": [[0.0, \"#0d0887\"], [0.1111111111111111, \"#46039f\"], [0.2222222222222222, \"#7201a8\"], [0.3333333333333333, \"#9c179e\"], [0.4444444444444444, \"#bd3786\"], [0.5555555555555556, \"#d8576b\"], [0.6666666666666666, \"#ed7953\"], [0.7777777777777778, \"#fb9f3a\"], [0.8888888888888888, \"#fdca26\"], [1.0, \"#f0f921\"]], \"type\": \"heatmapgl\"}], \"histogram\": [{\"marker\": {\"colorbar\": {\"outlinewidth\": 0, \"ticks\": \"\"}}, \"type\": \"histogram\"}], \"histogram2d\": [{\"colorbar\": {\"outlinewidth\": 0, \"ticks\": \"\"}, \"colorscale\": [[0.0, \"#0d0887\"], [0.1111111111111111, \"#46039f\"], [0.2222222222222222, \"#7201a8\"], [0.3333333333333333, \"#9c179e\"], [0.4444444444444444, \"#bd3786\"], [0.5555555555555556, \"#d8576b\"], [0.6666666666666666, \"#ed7953\"], [0.7777777777777778, \"#fb9f3a\"], [0.8888888888888888, \"#fdca26\"], [1.0, \"#f0f921\"]], \"type\": \"histogram2d\"}], \"histogram2dcontour\": [{\"colorbar\": {\"outlinewidth\": 0, \"ticks\": \"\"}, \"colorscale\": [[0.0, \"#0d0887\"], [0.1111111111111111, \"#46039f\"], [0.2222222222222222, \"#7201a8\"], [0.3333333333333333, \"#9c179e\"], [0.4444444444444444, \"#bd3786\"], [0.5555555555555556, \"#d8576b\"], [0.6666666666666666, \"#ed7953\"], [0.7777777777777778, \"#fb9f3a\"], [0.8888888888888888, \"#fdca26\"], [1.0, \"#f0f921\"]], \"type\": \"histogram2dcontour\"}], \"mesh3d\": [{\"colorbar\": {\"outlinewidth\": 0, \"ticks\": \"\"}, \"type\": \"mesh3d\"}], \"parcoords\": [{\"line\": {\"colorbar\": {\"outlinewidth\": 0, \"ticks\": \"\"}}, \"type\": \"parcoords\"}], \"pie\": [{\"automargin\": true, \"type\": \"pie\"}], \"scatter\": [{\"marker\": {\"colorbar\": {\"outlinewidth\": 0, \"ticks\": \"\"}}, \"type\": \"scatter\"}], \"scatter3d\": [{\"line\": {\"colorbar\": {\"outlinewidth\": 0, \"ticks\": \"\"}}, \"marker\": {\"colorbar\": {\"outlinewidth\": 0, \"ticks\": \"\"}}, \"type\": \"scatter3d\"}], \"scattercarpet\": [{\"marker\": {\"colorbar\": {\"outlinewidth\": 0, \"ticks\": \"\"}}, \"type\": \"scattercarpet\"}], \"scattergeo\": [{\"marker\": {\"colorbar\": {\"outlinewidth\": 0, \"ticks\": \"\"}}, \"type\": \"scattergeo\"}], \"scattergl\": [{\"marker\": {\"colorbar\": {\"outlinewidth\": 0, \"ticks\": \"\"}}, \"type\": \"scattergl\"}], \"scattermapbox\": [{\"marker\": {\"colorbar\": {\"outlinewidth\": 0, \"ticks\": \"\"}}, \"type\": \"scattermapbox\"}], \"scatterpolar\": [{\"marker\": {\"colorbar\": {\"outlinewidth\": 0, \"ticks\": \"\"}}, \"type\": \"scatterpolar\"}], \"scatterpolargl\": [{\"marker\": {\"colorbar\": {\"outlinewidth\": 0, \"ticks\": \"\"}}, \"type\": \"scatterpolargl\"}], \"scatterternary\": [{\"marker\": {\"colorbar\": {\"outlinewidth\": 0, \"ticks\": \"\"}}, \"type\": \"scatterternary\"}], \"surface\": [{\"colorbar\": {\"outlinewidth\": 0, \"ticks\": \"\"}, \"colorscale\": [[0.0, \"#0d0887\"], [0.1111111111111111, \"#46039f\"], [0.2222222222222222, \"#7201a8\"], [0.3333333333333333, \"#9c179e\"], [0.4444444444444444, \"#bd3786\"], [0.5555555555555556, \"#d8576b\"], [0.6666666666666666, \"#ed7953\"], [0.7777777777777778, \"#fb9f3a\"], [0.8888888888888888, \"#fdca26\"], [1.0, \"#f0f921\"]], \"type\": \"surface\"}], \"table\": [{\"cells\": {\"fill\": {\"color\": \"#EBF0F8\"}, \"line\": {\"color\": \"white\"}}, \"header\": {\"fill\": {\"color\": \"#C8D4E3\"}, \"line\": {\"color\": \"white\"}}, \"type\": \"table\"}]}, \"layout\": {\"annotationdefaults\": {\"arrowcolor\": \"#2a3f5f\", \"arrowhead\": 0, \"arrowwidth\": 1}, \"coloraxis\": {\"colorbar\": {\"outlinewidth\": 0, \"ticks\": \"\"}}, \"colorscale\": {\"diverging\": [[0, \"#8e0152\"], [0.1, \"#c51b7d\"], [0.2, \"#de77ae\"], [0.3, \"#f1b6da\"], [0.4, \"#fde0ef\"], [0.5, \"#f7f7f7\"], [0.6, \"#e6f5d0\"], [0.7, \"#b8e186\"], [0.8, \"#7fbc41\"], [0.9, \"#4d9221\"], [1, \"#276419\"]], \"sequential\": [[0.0, \"#0d0887\"], [0.1111111111111111, \"#46039f\"], [0.2222222222222222, \"#7201a8\"], [0.3333333333333333, \"#9c179e\"], [0.4444444444444444, \"#bd3786\"], [0.5555555555555556, \"#d8576b\"], [0.6666666666666666, \"#ed7953\"], [0.7777777777777778, \"#fb9f3a\"], [0.8888888888888888, \"#fdca26\"], [1.0, \"#f0f921\"]], \"sequentialminus\": [[0.0, \"#0d0887\"], [0.1111111111111111, \"#46039f\"], [0.2222222222222222, \"#7201a8\"], [0.3333333333333333, \"#9c179e\"], [0.4444444444444444, \"#bd3786\"], [0.5555555555555556, \"#d8576b\"], [0.6666666666666666, \"#ed7953\"], [0.7777777777777778, \"#fb9f3a\"], [0.8888888888888888, \"#fdca26\"], [1.0, \"#f0f921\"]]}, \"colorway\": [\"#636efa\", \"#EF553B\", \"#00cc96\", \"#ab63fa\", \"#FFA15A\", \"#19d3f3\", \"#FF6692\", \"#B6E880\", \"#FF97FF\", \"#FECB52\"], \"font\": {\"color\": \"#2a3f5f\"}, \"geo\": {\"bgcolor\": \"white\", \"lakecolor\": \"white\", \"landcolor\": \"#E5ECF6\", \"showlakes\": true, \"showland\": true, \"subunitcolor\": \"white\"}, \"hoverlabel\": {\"align\": \"left\"}, \"hovermode\": \"closest\", \"mapbox\": {\"style\": \"light\"}, \"paper_bgcolor\": \"white\", \"plot_bgcolor\": \"#E5ECF6\", \"polar\": {\"angularaxis\": {\"gridcolor\": \"white\", \"linecolor\": \"white\", \"ticks\": \"\"}, \"bgcolor\": \"#E5ECF6\", \"radialaxis\": {\"gridcolor\": \"white\", \"linecolor\": \"white\", \"ticks\": \"\"}}, \"scene\": {\"xaxis\": {\"backgroundcolor\": \"#E5ECF6\", \"gridcolor\": \"white\", \"gridwidth\": 2, \"linecolor\": \"white\", \"showbackground\": true, \"ticks\": \"\", \"zerolinecolor\": \"white\"}, \"yaxis\": {\"backgroundcolor\": \"#E5ECF6\", \"gridcolor\": \"white\", \"gridwidth\": 2, \"linecolor\": \"white\", \"showbackground\": true, \"ticks\": \"\", \"zerolinecolor\": \"white\"}, \"zaxis\": {\"backgroundcolor\": \"#E5ECF6\", \"gridcolor\": \"white\", \"gridwidth\": 2, \"linecolor\": \"white\", \"showbackground\": true, \"ticks\": \"\", \"zerolinecolor\": \"white\"}}, \"shapedefaults\": {\"line\": {\"color\": \"#2a3f5f\"}}, \"ternary\": {\"aaxis\": {\"gridcolor\": \"white\", \"linecolor\": \"white\", \"ticks\": \"\"}, \"baxis\": {\"gridcolor\": \"white\", \"linecolor\": \"white\", \"ticks\": \"\"}, \"bgcolor\": \"#E5ECF6\", \"caxis\": {\"gridcolor\": \"white\", \"linecolor\": \"white\", \"ticks\": \"\"}}, \"title\": {\"x\": 0.05}, \"xaxis\": {\"automargin\": true, \"gridcolor\": \"white\", \"linecolor\": \"white\", \"ticks\": \"\", \"title\": {\"standoff\": 15}, \"zerolinecolor\": \"white\", \"zerolinewidth\": 2}, \"yaxis\": {\"automargin\": true, \"gridcolor\": \"white\", \"linecolor\": \"white\", \"ticks\": \"\", \"title\": {\"standoff\": 15}, \"zerolinecolor\": \"white\", \"zerolinewidth\": 2}}}, \"title\": {\"font\": {\"color\": \"#4D5663\"}, \"text\": \"2021-06-18\"}, \"xaxis\": {\"gridcolor\": \"#E1E5ED\", \"showgrid\": true, \"tickfont\": {\"color\": \"#4D5663\"}, \"title\": {\"font\": {\"color\": \"#4D5663\"}, \"text\": \"strike price\"}, \"zerolinecolor\": \"#E1E5ED\"}, \"yaxis\": {\"gridcolor\": \"#E1E5ED\", \"showgrid\": true, \"tickfont\": {\"color\": \"#4D5663\"}, \"title\": {\"font\": {\"color\": \"#4D5663\"}, \"text\": \"\"}, \"zerolinecolor\": \"#E1E5ED\"}, \"yaxis2\": {\"anchor\": \"x\", \"gridcolor\": \"#E1E5ED\", \"overlaying\": \"y\", \"showgrid\": true, \"side\": \"right\", \"tickfont\": {\"color\": \"#4D5663\"}, \"title\": {\"text\": \"\"}, \"zerolinecolor\": \"#E1E5ED\"}},\n",
       "                        {\"showLink\": true, \"linkText\": \"Export to plot.ly\", \"plotlyServerURL\": \"https://plot.ly\", \"responsive\": true}\n",
       "                    ).then(function(){\n",
       "                            \n",
       "var gd = document.getElementById('da653002-a7c9-41c3-b73d-534173619122');\n",
       "var x = new MutationObserver(function (mutations, observer) {{\n",
       "        var display = window.getComputedStyle(gd).display;\n",
       "        if (!display || display === 'none') {{\n",
       "            console.log([gd, 'removed!']);\n",
       "            Plotly.purge(gd);\n",
       "            observer.disconnect();\n",
       "        }}\n",
       "}});\n",
       "\n",
       "// Listen for the removal of the full notebook cells\n",
       "var notebookContainer = gd.closest('#notebook-container');\n",
       "if (notebookContainer) {{\n",
       "    x.observe(notebookContainer, {childList: true});\n",
       "}}\n",
       "\n",
       "// Listen for the clearing of the current output cell\n",
       "var outputEl = gd.closest('.output');\n",
       "if (outputEl) {{\n",
       "    x.observe(outputEl, {childList: true});\n",
       "}}\n",
       "\n",
       "                        })\n",
       "                };\n",
       "                });\n",
       "            </script>\n",
       "        </div>"
      ]
     },
     "metadata": {},
     "output_type": "display_data"
    }
   ],
   "source": [
    "for expiry in exp_dates:\n",
    "    to_plot = calls[calls['EXPIR_DATE'] == expiry]\n",
    "    to_plot.set_index('STRIKE_PRC')[['CF_CLOSE', 'IMP_VOLT']].iplot(title=expiry, secondary_y=['IMP_VOLT'], mode='lines+markers', size=6, xTitle='strike price')"
   ]
  },
  {
   "cell_type": "code",
   "execution_count": 35,
   "metadata": {},
   "outputs": [],
   "source": [
    "puts_close = pd.DataFrame()\n",
    "puts_vols = pd.DataFrame()\n",
    "for expiry in exp_dates:\n",
    "    sub_set = puts[puts['EXPIR_DATE'] == expiry]\n",
    "    puts_close[expiry] = sub_set.set_index('STRIKE_PRC')['CF_CLOSE']\n",
    "    puts_vols[expiry] = sub_set.set_index('STRIKE_PRC')['IMP_VOLT']"
   ]
  },
  {
   "cell_type": "code",
   "execution_count": 36,
   "metadata": {},
   "outputs": [
    {
     "data": {
      "application/vnd.plotly.v1+json": {
       "config": {
        "linkText": "Export to plot.ly",
        "plotlyServerURL": "https://plot.ly",
        "showLink": true
       },
       "data": [
        {
         "line": {
          "color": "rgba(255, 153, 51, 1.0)",
          "dash": "solid",
          "shape": "linear",
          "width": 1.3
         },
         "marker": {
          "size": 6,
          "symbol": "circle"
         },
         "mode": "lines+markers",
         "name": "2020-01-17",
         "text": "",
         "type": "scatter",
         "x": [
          11400,
          11450,
          11500,
          11550,
          11600,
          11650,
          11700,
          11750,
          11800,
          11850,
          11900,
          11950,
          12000,
          12050,
          12100,
          12150,
          12200,
          12250,
          12300,
          12350,
          12400,
          12450,
          12500,
          12550,
          12600,
          12650,
          12700,
          12750,
          12800,
          12850,
          12900,
          12950,
          13000,
          13050,
          13100,
          13150,
          13200,
          13250,
          13300,
          13350,
          13400,
          13450,
          13500,
          13550,
          13600,
          13650,
          13700,
          13750,
          13800,
          13850,
          13900,
          13950,
          14000,
          14050,
          14100,
          14150,
          14200,
          14250,
          14300,
          14350,
          14400,
          14450,
          14500,
          14550,
          14600,
          14650,
          14700,
          14750,
          14800,
          14850,
          14900,
          14950,
          15000,
          15050,
          15100,
          15150,
          15200,
          15250,
          15300
         ],
         "y": [
          2.8,
          3,
          3.2,
          3.5,
          3.8,
          4.2,
          4.5,
          5,
          5.4,
          5.9,
          6.4,
          7,
          7.6,
          8.2,
          9,
          9.8,
          10.8,
          11.8,
          13,
          14.2,
          15.7,
          17.3,
          19.2,
          21.3,
          23.7,
          26.5,
          29.9,
          33.9,
          38.6,
          43.9,
          50.1,
          57.4,
          65.8,
          75.6,
          87,
          99.9,
          114.9,
          132.2,
          152.2,
          175.1,
          201,
          230.1,
          262,
          297.2,
          335.2,
          375.8,
          418.5,
          462.9,
          508.7,
          555.6,
          603.3,
          651.7,
          700.6,
          749.9,
          799.3,
          849,
          898.7,
          948.6,
          998.5,
          1048.4,
          1098.4,
          1148.3,
          1198.3,
          1248.3,
          1298.3,
          1348.3,
          1398.4,
          1448.4,
          1498.4,
          1548.4,
          1598.4,
          1648.4,
          1698.5,
          1748.5,
          1798.5,
          1848.5,
          1898.5,
          1948.6,
          1998.6
         ]
        },
        {
         "line": {
          "color": "rgba(55, 128, 191, 1.0)",
          "dash": "solid",
          "shape": "linear",
          "width": 1.3
         },
         "marker": {
          "size": 6,
          "symbol": "circle"
         },
         "mode": "lines+markers",
         "name": "2020-06-19",
         "text": "",
         "type": "scatter",
         "x": [
          11400,
          11450,
          11500,
          11550,
          11600,
          11650,
          11700,
          11750,
          11800,
          11850,
          11900,
          11950,
          12000,
          12050,
          12100,
          12150,
          12200,
          12250,
          12300,
          12350,
          12400,
          12450,
          12500,
          12550,
          12600,
          12650,
          12700,
          12750,
          12800,
          12850,
          12900,
          12950,
          13000,
          13050,
          13100,
          13150,
          13200,
          13250,
          13300,
          13350,
          13400,
          13450,
          13500,
          13550,
          13600,
          13650,
          13700,
          13750,
          13800,
          13850,
          13900,
          13950,
          14000,
          14050,
          14100,
          14150,
          14200,
          14250,
          14300,
          14350,
          14400,
          14450,
          14500,
          14550,
          14600,
          14650,
          14700,
          14750,
          14800,
          14850,
          14900,
          14950,
          15000,
          15050,
          15100,
          15150,
          15200,
          15250,
          15300
         ],
         "y": [
          120.4,
          125.3,
          130.2,
          135.3,
          140.6,
          146.1,
          151.8,
          157.7,
          163.8,
          170.4,
          176.9,
          183.7,
          191,
          198.2,
          206,
          214.3,
          222.6,
          231.2,
          240.3,
          249.7,
          259.3,
          269.5,
          280,
          291,
          302.3,
          314.2,
          326.5,
          339.1,
          352.4,
          366.3,
          380.6,
          395.5,
          411.1,
          427.2,
          444,
          461.6,
          479.8,
          498.8,
          518.5,
          539.4,
          560.7,
          583,
          606.5,
          630.3,
          655.2,
          680.9,
          707.7,
          735.2,
          763.7,
          793.1,
          823.7,
          855.2,
          887.5,
          920.8,
          955.1,
          990.5,
          1026.5,
          1063.7,
          1101.8,
          1140.8,
          1180.5,
          1221.2,
          1262.5,
          1304.5,
          1347.3,
          1390.7,
          1434.9,
          1479.6,
          1524.7,
          1570.6,
          1616.9,
          1663.6,
          1710.7,
          "",
          "",
          "",
          "",
          "",
          ""
         ]
        },
        {
         "line": {
          "color": "rgba(50, 171, 96, 1.0)",
          "dash": "solid",
          "shape": "linear",
          "width": 1.3
         },
         "marker": {
          "size": 6,
          "symbol": "circle"
         },
         "mode": "lines+markers",
         "name": "2021-06-18",
         "text": "",
         "type": "scatter",
         "x": [
          11400,
          11450,
          11500,
          11550,
          11600,
          11650,
          11700,
          11750,
          11800,
          11850,
          11900,
          11950,
          12000,
          12050,
          12100,
          12150,
          12200,
          12250,
          12300,
          12350,
          12400,
          12450,
          12500,
          12550,
          12600,
          12650,
          12700,
          12750,
          12800,
          12850,
          12900,
          12950,
          13000,
          13050,
          13100,
          13150,
          13200,
          13250,
          13300,
          13350,
          13400,
          13450,
          13500,
          13550,
          13600,
          13650,
          13700,
          13750,
          13800,
          13850,
          13900,
          13950,
          14000,
          14050,
          14100,
          14150,
          14200,
          14250,
          14300,
          14350,
          14400,
          14450,
          14500,
          14550,
          14600,
          14650,
          14700,
          14750,
          14800,
          14850,
          14900,
          14950,
          15000,
          15050,
          15100,
          15150,
          15200,
          15250,
          15300
         ],
         "y": [
          440.8,
          "",
          461.1,
          471.8,
          482.9,
          494,
          505.1,
          516.2,
          528.7,
          540.3,
          552.5,
          565.3,
          578,
          590.7,
          604,
          617.8,
          631.6,
          646,
          660.3,
          675.3,
          690.2,
          705.6,
          721.1,
          737.1,
          753.2,
          770.2,
          787,
          804.5,
          821.9,
          840,
          858.1,
          876.7,
          895.4,
          914.7,
          934.6,
          954.5,
          975,
          996.2,
          1018,
          1039.8,
          1062.5,
          1084.7,
          1108.2,
          1131.7,
          1155.8,
          1180.5,
          1205.2,
          1230.6,
          1255.9,
          1281.9,
          1309.2,
          1335.9,
          1363.8,
          1391.7,
          1420.4,
          1448.9,
          1478.6,
          "",
          1538.5,
          "",
          1600.8,
          "",
          "",
          "",
          1730.9,
          "",
          "",
          "",
          1868,
          "",
          "",
          "",
          2012.4,
          "",
          "",
          "",
          2163.6,
          "",
          ""
         ]
        }
       ],
       "layout": {
        "legend": {
         "bgcolor": "#F5F6F9",
         "font": {
          "color": "#4D5663"
         }
        },
        "paper_bgcolor": "#F5F6F9",
        "plot_bgcolor": "#F5F6F9",
        "template": {
         "data": {
          "bar": [
           {
            "error_x": {
             "color": "#2a3f5f"
            },
            "error_y": {
             "color": "#2a3f5f"
            },
            "marker": {
             "line": {
              "color": "#E5ECF6",
              "width": 0.5
             }
            },
            "type": "bar"
           }
          ],
          "barpolar": [
           {
            "marker": {
             "line": {
              "color": "#E5ECF6",
              "width": 0.5
             }
            },
            "type": "barpolar"
           }
          ],
          "carpet": [
           {
            "aaxis": {
             "endlinecolor": "#2a3f5f",
             "gridcolor": "white",
             "linecolor": "white",
             "minorgridcolor": "white",
             "startlinecolor": "#2a3f5f"
            },
            "baxis": {
             "endlinecolor": "#2a3f5f",
             "gridcolor": "white",
             "linecolor": "white",
             "minorgridcolor": "white",
             "startlinecolor": "#2a3f5f"
            },
            "type": "carpet"
           }
          ],
          "choropleth": [
           {
            "colorbar": {
             "outlinewidth": 0,
             "ticks": ""
            },
            "type": "choropleth"
           }
          ],
          "contour": [
           {
            "colorbar": {
             "outlinewidth": 0,
             "ticks": ""
            },
            "colorscale": [
             [
              0,
              "#0d0887"
             ],
             [
              0.1111111111111111,
              "#46039f"
             ],
             [
              0.2222222222222222,
              "#7201a8"
             ],
             [
              0.3333333333333333,
              "#9c179e"
             ],
             [
              0.4444444444444444,
              "#bd3786"
             ],
             [
              0.5555555555555556,
              "#d8576b"
             ],
             [
              0.6666666666666666,
              "#ed7953"
             ],
             [
              0.7777777777777778,
              "#fb9f3a"
             ],
             [
              0.8888888888888888,
              "#fdca26"
             ],
             [
              1,
              "#f0f921"
             ]
            ],
            "type": "contour"
           }
          ],
          "contourcarpet": [
           {
            "colorbar": {
             "outlinewidth": 0,
             "ticks": ""
            },
            "type": "contourcarpet"
           }
          ],
          "heatmap": [
           {
            "colorbar": {
             "outlinewidth": 0,
             "ticks": ""
            },
            "colorscale": [
             [
              0,
              "#0d0887"
             ],
             [
              0.1111111111111111,
              "#46039f"
             ],
             [
              0.2222222222222222,
              "#7201a8"
             ],
             [
              0.3333333333333333,
              "#9c179e"
             ],
             [
              0.4444444444444444,
              "#bd3786"
             ],
             [
              0.5555555555555556,
              "#d8576b"
             ],
             [
              0.6666666666666666,
              "#ed7953"
             ],
             [
              0.7777777777777778,
              "#fb9f3a"
             ],
             [
              0.8888888888888888,
              "#fdca26"
             ],
             [
              1,
              "#f0f921"
             ]
            ],
            "type": "heatmap"
           }
          ],
          "heatmapgl": [
           {
            "colorbar": {
             "outlinewidth": 0,
             "ticks": ""
            },
            "colorscale": [
             [
              0,
              "#0d0887"
             ],
             [
              0.1111111111111111,
              "#46039f"
             ],
             [
              0.2222222222222222,
              "#7201a8"
             ],
             [
              0.3333333333333333,
              "#9c179e"
             ],
             [
              0.4444444444444444,
              "#bd3786"
             ],
             [
              0.5555555555555556,
              "#d8576b"
             ],
             [
              0.6666666666666666,
              "#ed7953"
             ],
             [
              0.7777777777777778,
              "#fb9f3a"
             ],
             [
              0.8888888888888888,
              "#fdca26"
             ],
             [
              1,
              "#f0f921"
             ]
            ],
            "type": "heatmapgl"
           }
          ],
          "histogram": [
           {
            "marker": {
             "colorbar": {
              "outlinewidth": 0,
              "ticks": ""
             }
            },
            "type": "histogram"
           }
          ],
          "histogram2d": [
           {
            "colorbar": {
             "outlinewidth": 0,
             "ticks": ""
            },
            "colorscale": [
             [
              0,
              "#0d0887"
             ],
             [
              0.1111111111111111,
              "#46039f"
             ],
             [
              0.2222222222222222,
              "#7201a8"
             ],
             [
              0.3333333333333333,
              "#9c179e"
             ],
             [
              0.4444444444444444,
              "#bd3786"
             ],
             [
              0.5555555555555556,
              "#d8576b"
             ],
             [
              0.6666666666666666,
              "#ed7953"
             ],
             [
              0.7777777777777778,
              "#fb9f3a"
             ],
             [
              0.8888888888888888,
              "#fdca26"
             ],
             [
              1,
              "#f0f921"
             ]
            ],
            "type": "histogram2d"
           }
          ],
          "histogram2dcontour": [
           {
            "colorbar": {
             "outlinewidth": 0,
             "ticks": ""
            },
            "colorscale": [
             [
              0,
              "#0d0887"
             ],
             [
              0.1111111111111111,
              "#46039f"
             ],
             [
              0.2222222222222222,
              "#7201a8"
             ],
             [
              0.3333333333333333,
              "#9c179e"
             ],
             [
              0.4444444444444444,
              "#bd3786"
             ],
             [
              0.5555555555555556,
              "#d8576b"
             ],
             [
              0.6666666666666666,
              "#ed7953"
             ],
             [
              0.7777777777777778,
              "#fb9f3a"
             ],
             [
              0.8888888888888888,
              "#fdca26"
             ],
             [
              1,
              "#f0f921"
             ]
            ],
            "type": "histogram2dcontour"
           }
          ],
          "mesh3d": [
           {
            "colorbar": {
             "outlinewidth": 0,
             "ticks": ""
            },
            "type": "mesh3d"
           }
          ],
          "parcoords": [
           {
            "line": {
             "colorbar": {
              "outlinewidth": 0,
              "ticks": ""
             }
            },
            "type": "parcoords"
           }
          ],
          "pie": [
           {
            "automargin": true,
            "type": "pie"
           }
          ],
          "scatter": [
           {
            "marker": {
             "colorbar": {
              "outlinewidth": 0,
              "ticks": ""
             }
            },
            "type": "scatter"
           }
          ],
          "scatter3d": [
           {
            "line": {
             "colorbar": {
              "outlinewidth": 0,
              "ticks": ""
             }
            },
            "marker": {
             "colorbar": {
              "outlinewidth": 0,
              "ticks": ""
             }
            },
            "type": "scatter3d"
           }
          ],
          "scattercarpet": [
           {
            "marker": {
             "colorbar": {
              "outlinewidth": 0,
              "ticks": ""
             }
            },
            "type": "scattercarpet"
           }
          ],
          "scattergeo": [
           {
            "marker": {
             "colorbar": {
              "outlinewidth": 0,
              "ticks": ""
             }
            },
            "type": "scattergeo"
           }
          ],
          "scattergl": [
           {
            "marker": {
             "colorbar": {
              "outlinewidth": 0,
              "ticks": ""
             }
            },
            "type": "scattergl"
           }
          ],
          "scattermapbox": [
           {
            "marker": {
             "colorbar": {
              "outlinewidth": 0,
              "ticks": ""
             }
            },
            "type": "scattermapbox"
           }
          ],
          "scatterpolar": [
           {
            "marker": {
             "colorbar": {
              "outlinewidth": 0,
              "ticks": ""
             }
            },
            "type": "scatterpolar"
           }
          ],
          "scatterpolargl": [
           {
            "marker": {
             "colorbar": {
              "outlinewidth": 0,
              "ticks": ""
             }
            },
            "type": "scatterpolargl"
           }
          ],
          "scatterternary": [
           {
            "marker": {
             "colorbar": {
              "outlinewidth": 0,
              "ticks": ""
             }
            },
            "type": "scatterternary"
           }
          ],
          "surface": [
           {
            "colorbar": {
             "outlinewidth": 0,
             "ticks": ""
            },
            "colorscale": [
             [
              0,
              "#0d0887"
             ],
             [
              0.1111111111111111,
              "#46039f"
             ],
             [
              0.2222222222222222,
              "#7201a8"
             ],
             [
              0.3333333333333333,
              "#9c179e"
             ],
             [
              0.4444444444444444,
              "#bd3786"
             ],
             [
              0.5555555555555556,
              "#d8576b"
             ],
             [
              0.6666666666666666,
              "#ed7953"
             ],
             [
              0.7777777777777778,
              "#fb9f3a"
             ],
             [
              0.8888888888888888,
              "#fdca26"
             ],
             [
              1,
              "#f0f921"
             ]
            ],
            "type": "surface"
           }
          ],
          "table": [
           {
            "cells": {
             "fill": {
              "color": "#EBF0F8"
             },
             "line": {
              "color": "white"
             }
            },
            "header": {
             "fill": {
              "color": "#C8D4E3"
             },
             "line": {
              "color": "white"
             }
            },
            "type": "table"
           }
          ]
         },
         "layout": {
          "annotationdefaults": {
           "arrowcolor": "#2a3f5f",
           "arrowhead": 0,
           "arrowwidth": 1
          },
          "coloraxis": {
           "colorbar": {
            "outlinewidth": 0,
            "ticks": ""
           }
          },
          "colorscale": {
           "diverging": [
            [
             0,
             "#8e0152"
            ],
            [
             0.1,
             "#c51b7d"
            ],
            [
             0.2,
             "#de77ae"
            ],
            [
             0.3,
             "#f1b6da"
            ],
            [
             0.4,
             "#fde0ef"
            ],
            [
             0.5,
             "#f7f7f7"
            ],
            [
             0.6,
             "#e6f5d0"
            ],
            [
             0.7,
             "#b8e186"
            ],
            [
             0.8,
             "#7fbc41"
            ],
            [
             0.9,
             "#4d9221"
            ],
            [
             1,
             "#276419"
            ]
           ],
           "sequential": [
            [
             0,
             "#0d0887"
            ],
            [
             0.1111111111111111,
             "#46039f"
            ],
            [
             0.2222222222222222,
             "#7201a8"
            ],
            [
             0.3333333333333333,
             "#9c179e"
            ],
            [
             0.4444444444444444,
             "#bd3786"
            ],
            [
             0.5555555555555556,
             "#d8576b"
            ],
            [
             0.6666666666666666,
             "#ed7953"
            ],
            [
             0.7777777777777778,
             "#fb9f3a"
            ],
            [
             0.8888888888888888,
             "#fdca26"
            ],
            [
             1,
             "#f0f921"
            ]
           ],
           "sequentialminus": [
            [
             0,
             "#0d0887"
            ],
            [
             0.1111111111111111,
             "#46039f"
            ],
            [
             0.2222222222222222,
             "#7201a8"
            ],
            [
             0.3333333333333333,
             "#9c179e"
            ],
            [
             0.4444444444444444,
             "#bd3786"
            ],
            [
             0.5555555555555556,
             "#d8576b"
            ],
            [
             0.6666666666666666,
             "#ed7953"
            ],
            [
             0.7777777777777778,
             "#fb9f3a"
            ],
            [
             0.8888888888888888,
             "#fdca26"
            ],
            [
             1,
             "#f0f921"
            ]
           ]
          },
          "colorway": [
           "#636efa",
           "#EF553B",
           "#00cc96",
           "#ab63fa",
           "#FFA15A",
           "#19d3f3",
           "#FF6692",
           "#B6E880",
           "#FF97FF",
           "#FECB52"
          ],
          "font": {
           "color": "#2a3f5f"
          },
          "geo": {
           "bgcolor": "white",
           "lakecolor": "white",
           "landcolor": "#E5ECF6",
           "showlakes": true,
           "showland": true,
           "subunitcolor": "white"
          },
          "hoverlabel": {
           "align": "left"
          },
          "hovermode": "closest",
          "mapbox": {
           "style": "light"
          },
          "paper_bgcolor": "white",
          "plot_bgcolor": "#E5ECF6",
          "polar": {
           "angularaxis": {
            "gridcolor": "white",
            "linecolor": "white",
            "ticks": ""
           },
           "bgcolor": "#E5ECF6",
           "radialaxis": {
            "gridcolor": "white",
            "linecolor": "white",
            "ticks": ""
           }
          },
          "scene": {
           "xaxis": {
            "backgroundcolor": "#E5ECF6",
            "gridcolor": "white",
            "gridwidth": 2,
            "linecolor": "white",
            "showbackground": true,
            "ticks": "",
            "zerolinecolor": "white"
           },
           "yaxis": {
            "backgroundcolor": "#E5ECF6",
            "gridcolor": "white",
            "gridwidth": 2,
            "linecolor": "white",
            "showbackground": true,
            "ticks": "",
            "zerolinecolor": "white"
           },
           "zaxis": {
            "backgroundcolor": "#E5ECF6",
            "gridcolor": "white",
            "gridwidth": 2,
            "linecolor": "white",
            "showbackground": true,
            "ticks": "",
            "zerolinecolor": "white"
           }
          },
          "shapedefaults": {
           "line": {
            "color": "#2a3f5f"
           }
          },
          "ternary": {
           "aaxis": {
            "gridcolor": "white",
            "linecolor": "white",
            "ticks": ""
           },
           "baxis": {
            "gridcolor": "white",
            "linecolor": "white",
            "ticks": ""
           },
           "bgcolor": "#E5ECF6",
           "caxis": {
            "gridcolor": "white",
            "linecolor": "white",
            "ticks": ""
           }
          },
          "title": {
           "x": 0.05
          },
          "xaxis": {
           "automargin": true,
           "gridcolor": "white",
           "linecolor": "white",
           "ticks": "",
           "title": {
            "standoff": 15
           },
           "zerolinecolor": "white",
           "zerolinewidth": 2
          },
          "yaxis": {
           "automargin": true,
           "gridcolor": "white",
           "linecolor": "white",
           "ticks": "",
           "title": {
            "standoff": 15
           },
           "zerolinecolor": "white",
           "zerolinewidth": 2
          }
         }
        },
        "title": {
         "font": {
          "color": "#4D5663"
         }
        },
        "xaxis": {
         "gridcolor": "#E1E5ED",
         "showgrid": true,
         "tickfont": {
          "color": "#4D5663"
         },
         "title": {
          "font": {
           "color": "#4D5663"
          },
          "text": "strike price"
         },
         "zerolinecolor": "#E1E5ED"
        },
        "yaxis": {
         "gridcolor": "#E1E5ED",
         "showgrid": true,
         "tickfont": {
          "color": "#4D5663"
         },
         "title": {
          "font": {
           "color": "#4D5663"
          },
          "text": ""
         },
         "zerolinecolor": "#E1E5ED"
        }
       }
      },
      "text/html": [
       "<div>\n",
       "        \n",
       "        \n",
       "            <div id=\"9e22ad2e-77ba-424e-86c6-d607b0adf175\" class=\"plotly-graph-div\" style=\"height:525px; width:100%;\"></div>\n",
       "            <script type=\"text/javascript\">\n",
       "                require([\"plotly\"], function(Plotly) {\n",
       "                    window.PLOTLYENV=window.PLOTLYENV || {};\n",
       "                    window.PLOTLYENV.BASE_URL='https://plot.ly';\n",
       "                    \n",
       "                if (document.getElementById(\"9e22ad2e-77ba-424e-86c6-d607b0adf175\")) {\n",
       "                    Plotly.newPlot(\n",
       "                        '9e22ad2e-77ba-424e-86c6-d607b0adf175',\n",
       "                        [{\"line\": {\"color\": \"rgba(255, 153, 51, 1.0)\", \"dash\": \"solid\", \"shape\": \"linear\", \"width\": 1.3}, \"marker\": {\"size\": 6, \"symbol\": \"circle\"}, \"mode\": \"lines+markers\", \"name\": \"2020-01-17\", \"text\": \"\", \"type\": \"scatter\", \"x\": [11400.0, 11450.0, 11500.0, 11550.0, 11600.0, 11650.0, 11700.0, 11750.0, 11800.0, 11850.0, 11900.0, 11950.0, 12000.0, 12050.0, 12100.0, 12150.0, 12200.0, 12250.0, 12300.0, 12350.0, 12400.0, 12450.0, 12500.0, 12550.0, 12600.0, 12650.0, 12700.0, 12750.0, 12800.0, 12850.0, 12900.0, 12950.0, 13000.0, 13050.0, 13100.0, 13150.0, 13200.0, 13250.0, 13300.0, 13350.0, 13400.0, 13450.0, 13500.0, 13550.0, 13600.0, 13650.0, 13700.0, 13750.0, 13800.0, 13850.0, 13900.0, 13950.0, 14000.0, 14050.0, 14100.0, 14150.0, 14200.0, 14250.0, 14300.0, 14350.0, 14400.0, 14450.0, 14500.0, 14550.0, 14600.0, 14650.0, 14700.0, 14750.0, 14800.0, 14850.0, 14900.0, 14950.0, 15000.0, 15050.0, 15100.0, 15150.0, 15200.0, 15250.0, 15300.0], \"y\": [2.8, 3.0, 3.2, 3.5, 3.8, 4.2, 4.5, 5.0, 5.4, 5.9, 6.4, 7.0, 7.6, 8.2, 9.0, 9.8, 10.8, 11.8, 13.0, 14.2, 15.7, 17.3, 19.2, 21.3, 23.7, 26.5, 29.9, 33.9, 38.6, 43.9, 50.1, 57.4, 65.8, 75.6, 87.0, 99.9, 114.9, 132.2, 152.2, 175.1, 201.0, 230.1, 262.0, 297.2, 335.2, 375.8, 418.5, 462.9, 508.7, 555.6, 603.3, 651.7, 700.6, 749.9, 799.3, 849.0, 898.7, 948.6, 998.5, 1048.4, 1098.4, 1148.3, 1198.3, 1248.3, 1298.3, 1348.3, 1398.4, 1448.4, 1498.4, 1548.4, 1598.4, 1648.4, 1698.5, 1748.5, 1798.5, 1848.5, 1898.5, 1948.6, 1998.6]}, {\"line\": {\"color\": \"rgba(55, 128, 191, 1.0)\", \"dash\": \"solid\", \"shape\": \"linear\", \"width\": 1.3}, \"marker\": {\"size\": 6, \"symbol\": \"circle\"}, \"mode\": \"lines+markers\", \"name\": \"2020-06-19\", \"text\": \"\", \"type\": \"scatter\", \"x\": [11400.0, 11450.0, 11500.0, 11550.0, 11600.0, 11650.0, 11700.0, 11750.0, 11800.0, 11850.0, 11900.0, 11950.0, 12000.0, 12050.0, 12100.0, 12150.0, 12200.0, 12250.0, 12300.0, 12350.0, 12400.0, 12450.0, 12500.0, 12550.0, 12600.0, 12650.0, 12700.0, 12750.0, 12800.0, 12850.0, 12900.0, 12950.0, 13000.0, 13050.0, 13100.0, 13150.0, 13200.0, 13250.0, 13300.0, 13350.0, 13400.0, 13450.0, 13500.0, 13550.0, 13600.0, 13650.0, 13700.0, 13750.0, 13800.0, 13850.0, 13900.0, 13950.0, 14000.0, 14050.0, 14100.0, 14150.0, 14200.0, 14250.0, 14300.0, 14350.0, 14400.0, 14450.0, 14500.0, 14550.0, 14600.0, 14650.0, 14700.0, 14750.0, 14800.0, 14850.0, 14900.0, 14950.0, 15000.0, 15050.0, 15100.0, 15150.0, 15200.0, 15250.0, 15300.0], \"y\": [120.4, 125.3, 130.2, 135.3, 140.6, 146.1, 151.8, 157.7, 163.8, 170.4, 176.9, 183.7, 191.0, 198.2, 206.0, 214.3, 222.6, 231.2, 240.3, 249.7, 259.3, 269.5, 280.0, 291.0, 302.3, 314.2, 326.5, 339.1, 352.4, 366.3, 380.6, 395.5, 411.1, 427.2, 444.0, 461.6, 479.8, 498.8, 518.5, 539.4, 560.7, 583.0, 606.5, 630.3, 655.2, 680.9, 707.7, 735.2, 763.7, 793.1, 823.7, 855.2, 887.5, 920.8, 955.1, 990.5, 1026.5, 1063.7, 1101.8, 1140.8, 1180.5, 1221.2, 1262.5, 1304.5, 1347.3, 1390.7, 1434.9, 1479.6, 1524.7, 1570.6, 1616.9, 1663.6, 1710.7, \"\", \"\", \"\", \"\", \"\", \"\"]}, {\"line\": {\"color\": \"rgba(50, 171, 96, 1.0)\", \"dash\": \"solid\", \"shape\": \"linear\", \"width\": 1.3}, \"marker\": {\"size\": 6, \"symbol\": \"circle\"}, \"mode\": \"lines+markers\", \"name\": \"2021-06-18\", \"text\": \"\", \"type\": \"scatter\", \"x\": [11400.0, 11450.0, 11500.0, 11550.0, 11600.0, 11650.0, 11700.0, 11750.0, 11800.0, 11850.0, 11900.0, 11950.0, 12000.0, 12050.0, 12100.0, 12150.0, 12200.0, 12250.0, 12300.0, 12350.0, 12400.0, 12450.0, 12500.0, 12550.0, 12600.0, 12650.0, 12700.0, 12750.0, 12800.0, 12850.0, 12900.0, 12950.0, 13000.0, 13050.0, 13100.0, 13150.0, 13200.0, 13250.0, 13300.0, 13350.0, 13400.0, 13450.0, 13500.0, 13550.0, 13600.0, 13650.0, 13700.0, 13750.0, 13800.0, 13850.0, 13900.0, 13950.0, 14000.0, 14050.0, 14100.0, 14150.0, 14200.0, 14250.0, 14300.0, 14350.0, 14400.0, 14450.0, 14500.0, 14550.0, 14600.0, 14650.0, 14700.0, 14750.0, 14800.0, 14850.0, 14900.0, 14950.0, 15000.0, 15050.0, 15100.0, 15150.0, 15200.0, 15250.0, 15300.0], \"y\": [440.8, \"\", 461.1, 471.8, 482.9, 494.0, 505.1, 516.2, 528.7, 540.3, 552.5, 565.3, 578.0, 590.7, 604.0, 617.8, 631.6, 646.0, 660.3, 675.3, 690.2, 705.6, 721.1, 737.1, 753.2, 770.2, 787.0, 804.5, 821.9, 840.0, 858.1, 876.7, 895.4, 914.7, 934.6, 954.5, 975.0, 996.2, 1018.0, 1039.8, 1062.5, 1084.7, 1108.2, 1131.7, 1155.8, 1180.5, 1205.2, 1230.6, 1255.9, 1281.9, 1309.2, 1335.9, 1363.8, 1391.7, 1420.4, 1448.9, 1478.6, \"\", 1538.5, \"\", 1600.8, \"\", \"\", \"\", 1730.9, \"\", \"\", \"\", 1868.0, \"\", \"\", \"\", 2012.4, \"\", \"\", \"\", 2163.6, \"\", \"\"]}],\n",
       "                        {\"legend\": {\"bgcolor\": \"#F5F6F9\", \"font\": {\"color\": \"#4D5663\"}}, \"paper_bgcolor\": \"#F5F6F9\", \"plot_bgcolor\": \"#F5F6F9\", \"template\": {\"data\": {\"bar\": [{\"error_x\": {\"color\": \"#2a3f5f\"}, \"error_y\": {\"color\": \"#2a3f5f\"}, \"marker\": {\"line\": {\"color\": \"#E5ECF6\", \"width\": 0.5}}, \"type\": \"bar\"}], \"barpolar\": [{\"marker\": {\"line\": {\"color\": \"#E5ECF6\", \"width\": 0.5}}, \"type\": \"barpolar\"}], \"carpet\": [{\"aaxis\": {\"endlinecolor\": \"#2a3f5f\", \"gridcolor\": \"white\", \"linecolor\": \"white\", \"minorgridcolor\": \"white\", \"startlinecolor\": \"#2a3f5f\"}, \"baxis\": {\"endlinecolor\": \"#2a3f5f\", \"gridcolor\": \"white\", \"linecolor\": \"white\", \"minorgridcolor\": \"white\", \"startlinecolor\": \"#2a3f5f\"}, \"type\": \"carpet\"}], \"choropleth\": [{\"colorbar\": {\"outlinewidth\": 0, \"ticks\": \"\"}, \"type\": \"choropleth\"}], \"contour\": [{\"colorbar\": {\"outlinewidth\": 0, \"ticks\": \"\"}, \"colorscale\": [[0.0, \"#0d0887\"], [0.1111111111111111, \"#46039f\"], [0.2222222222222222, \"#7201a8\"], [0.3333333333333333, \"#9c179e\"], [0.4444444444444444, \"#bd3786\"], [0.5555555555555556, \"#d8576b\"], [0.6666666666666666, \"#ed7953\"], [0.7777777777777778, \"#fb9f3a\"], [0.8888888888888888, \"#fdca26\"], [1.0, \"#f0f921\"]], \"type\": \"contour\"}], \"contourcarpet\": [{\"colorbar\": {\"outlinewidth\": 0, \"ticks\": \"\"}, \"type\": \"contourcarpet\"}], \"heatmap\": [{\"colorbar\": {\"outlinewidth\": 0, \"ticks\": \"\"}, \"colorscale\": [[0.0, \"#0d0887\"], [0.1111111111111111, \"#46039f\"], [0.2222222222222222, \"#7201a8\"], [0.3333333333333333, \"#9c179e\"], [0.4444444444444444, \"#bd3786\"], [0.5555555555555556, \"#d8576b\"], [0.6666666666666666, \"#ed7953\"], [0.7777777777777778, \"#fb9f3a\"], [0.8888888888888888, \"#fdca26\"], [1.0, \"#f0f921\"]], \"type\": \"heatmap\"}], \"heatmapgl\": [{\"colorbar\": {\"outlinewidth\": 0, \"ticks\": \"\"}, \"colorscale\": [[0.0, \"#0d0887\"], [0.1111111111111111, \"#46039f\"], [0.2222222222222222, \"#7201a8\"], [0.3333333333333333, \"#9c179e\"], [0.4444444444444444, \"#bd3786\"], [0.5555555555555556, \"#d8576b\"], [0.6666666666666666, \"#ed7953\"], [0.7777777777777778, \"#fb9f3a\"], [0.8888888888888888, \"#fdca26\"], [1.0, \"#f0f921\"]], \"type\": \"heatmapgl\"}], \"histogram\": [{\"marker\": {\"colorbar\": {\"outlinewidth\": 0, \"ticks\": \"\"}}, \"type\": \"histogram\"}], \"histogram2d\": [{\"colorbar\": {\"outlinewidth\": 0, \"ticks\": \"\"}, \"colorscale\": [[0.0, \"#0d0887\"], [0.1111111111111111, \"#46039f\"], [0.2222222222222222, \"#7201a8\"], [0.3333333333333333, \"#9c179e\"], [0.4444444444444444, \"#bd3786\"], [0.5555555555555556, \"#d8576b\"], [0.6666666666666666, \"#ed7953\"], [0.7777777777777778, \"#fb9f3a\"], [0.8888888888888888, \"#fdca26\"], [1.0, \"#f0f921\"]], \"type\": \"histogram2d\"}], \"histogram2dcontour\": [{\"colorbar\": {\"outlinewidth\": 0, \"ticks\": \"\"}, \"colorscale\": [[0.0, \"#0d0887\"], [0.1111111111111111, \"#46039f\"], [0.2222222222222222, \"#7201a8\"], [0.3333333333333333, \"#9c179e\"], [0.4444444444444444, \"#bd3786\"], [0.5555555555555556, \"#d8576b\"], [0.6666666666666666, \"#ed7953\"], [0.7777777777777778, \"#fb9f3a\"], [0.8888888888888888, \"#fdca26\"], [1.0, \"#f0f921\"]], \"type\": \"histogram2dcontour\"}], \"mesh3d\": [{\"colorbar\": {\"outlinewidth\": 0, \"ticks\": \"\"}, \"type\": \"mesh3d\"}], \"parcoords\": [{\"line\": {\"colorbar\": {\"outlinewidth\": 0, \"ticks\": \"\"}}, \"type\": \"parcoords\"}], \"pie\": [{\"automargin\": true, \"type\": \"pie\"}], \"scatter\": [{\"marker\": {\"colorbar\": {\"outlinewidth\": 0, \"ticks\": \"\"}}, \"type\": \"scatter\"}], \"scatter3d\": [{\"line\": {\"colorbar\": {\"outlinewidth\": 0, \"ticks\": \"\"}}, \"marker\": {\"colorbar\": {\"outlinewidth\": 0, \"ticks\": \"\"}}, \"type\": \"scatter3d\"}], \"scattercarpet\": [{\"marker\": {\"colorbar\": {\"outlinewidth\": 0, \"ticks\": \"\"}}, \"type\": \"scattercarpet\"}], \"scattergeo\": [{\"marker\": {\"colorbar\": {\"outlinewidth\": 0, \"ticks\": \"\"}}, \"type\": \"scattergeo\"}], \"scattergl\": [{\"marker\": {\"colorbar\": {\"outlinewidth\": 0, \"ticks\": \"\"}}, \"type\": \"scattergl\"}], \"scattermapbox\": [{\"marker\": {\"colorbar\": {\"outlinewidth\": 0, \"ticks\": \"\"}}, \"type\": \"scattermapbox\"}], \"scatterpolar\": [{\"marker\": {\"colorbar\": {\"outlinewidth\": 0, \"ticks\": \"\"}}, \"type\": \"scatterpolar\"}], \"scatterpolargl\": [{\"marker\": {\"colorbar\": {\"outlinewidth\": 0, \"ticks\": \"\"}}, \"type\": \"scatterpolargl\"}], \"scatterternary\": [{\"marker\": {\"colorbar\": {\"outlinewidth\": 0, \"ticks\": \"\"}}, \"type\": \"scatterternary\"}], \"surface\": [{\"colorbar\": {\"outlinewidth\": 0, \"ticks\": \"\"}, \"colorscale\": [[0.0, \"#0d0887\"], [0.1111111111111111, \"#46039f\"], [0.2222222222222222, \"#7201a8\"], [0.3333333333333333, \"#9c179e\"], [0.4444444444444444, \"#bd3786\"], [0.5555555555555556, \"#d8576b\"], [0.6666666666666666, \"#ed7953\"], [0.7777777777777778, \"#fb9f3a\"], [0.8888888888888888, \"#fdca26\"], [1.0, \"#f0f921\"]], \"type\": \"surface\"}], \"table\": [{\"cells\": {\"fill\": {\"color\": \"#EBF0F8\"}, \"line\": {\"color\": \"white\"}}, \"header\": {\"fill\": {\"color\": \"#C8D4E3\"}, \"line\": {\"color\": \"white\"}}, \"type\": \"table\"}]}, \"layout\": {\"annotationdefaults\": {\"arrowcolor\": \"#2a3f5f\", \"arrowhead\": 0, \"arrowwidth\": 1}, \"coloraxis\": {\"colorbar\": {\"outlinewidth\": 0, \"ticks\": \"\"}}, \"colorscale\": {\"diverging\": [[0, \"#8e0152\"], [0.1, \"#c51b7d\"], [0.2, \"#de77ae\"], [0.3, \"#f1b6da\"], [0.4, \"#fde0ef\"], [0.5, \"#f7f7f7\"], [0.6, \"#e6f5d0\"], [0.7, \"#b8e186\"], [0.8, \"#7fbc41\"], [0.9, \"#4d9221\"], [1, \"#276419\"]], \"sequential\": [[0.0, \"#0d0887\"], [0.1111111111111111, \"#46039f\"], [0.2222222222222222, \"#7201a8\"], [0.3333333333333333, \"#9c179e\"], [0.4444444444444444, \"#bd3786\"], [0.5555555555555556, \"#d8576b\"], [0.6666666666666666, \"#ed7953\"], [0.7777777777777778, \"#fb9f3a\"], [0.8888888888888888, \"#fdca26\"], [1.0, \"#f0f921\"]], \"sequentialminus\": [[0.0, \"#0d0887\"], [0.1111111111111111, \"#46039f\"], [0.2222222222222222, \"#7201a8\"], [0.3333333333333333, \"#9c179e\"], [0.4444444444444444, \"#bd3786\"], [0.5555555555555556, \"#d8576b\"], [0.6666666666666666, \"#ed7953\"], [0.7777777777777778, \"#fb9f3a\"], [0.8888888888888888, \"#fdca26\"], [1.0, \"#f0f921\"]]}, \"colorway\": [\"#636efa\", \"#EF553B\", \"#00cc96\", \"#ab63fa\", \"#FFA15A\", \"#19d3f3\", \"#FF6692\", \"#B6E880\", \"#FF97FF\", \"#FECB52\"], \"font\": {\"color\": \"#2a3f5f\"}, \"geo\": {\"bgcolor\": \"white\", \"lakecolor\": \"white\", \"landcolor\": \"#E5ECF6\", \"showlakes\": true, \"showland\": true, \"subunitcolor\": \"white\"}, \"hoverlabel\": {\"align\": \"left\"}, \"hovermode\": \"closest\", \"mapbox\": {\"style\": \"light\"}, \"paper_bgcolor\": \"white\", \"plot_bgcolor\": \"#E5ECF6\", \"polar\": {\"angularaxis\": {\"gridcolor\": \"white\", \"linecolor\": \"white\", \"ticks\": \"\"}, \"bgcolor\": \"#E5ECF6\", \"radialaxis\": {\"gridcolor\": \"white\", \"linecolor\": \"white\", \"ticks\": \"\"}}, \"scene\": {\"xaxis\": {\"backgroundcolor\": \"#E5ECF6\", \"gridcolor\": \"white\", \"gridwidth\": 2, \"linecolor\": \"white\", \"showbackground\": true, \"ticks\": \"\", \"zerolinecolor\": \"white\"}, \"yaxis\": {\"backgroundcolor\": \"#E5ECF6\", \"gridcolor\": \"white\", \"gridwidth\": 2, \"linecolor\": \"white\", \"showbackground\": true, \"ticks\": \"\", \"zerolinecolor\": \"white\"}, \"zaxis\": {\"backgroundcolor\": \"#E5ECF6\", \"gridcolor\": \"white\", \"gridwidth\": 2, \"linecolor\": \"white\", \"showbackground\": true, \"ticks\": \"\", \"zerolinecolor\": \"white\"}}, \"shapedefaults\": {\"line\": {\"color\": \"#2a3f5f\"}}, \"ternary\": {\"aaxis\": {\"gridcolor\": \"white\", \"linecolor\": \"white\", \"ticks\": \"\"}, \"baxis\": {\"gridcolor\": \"white\", \"linecolor\": \"white\", \"ticks\": \"\"}, \"bgcolor\": \"#E5ECF6\", \"caxis\": {\"gridcolor\": \"white\", \"linecolor\": \"white\", \"ticks\": \"\"}}, \"title\": {\"x\": 0.05}, \"xaxis\": {\"automargin\": true, \"gridcolor\": \"white\", \"linecolor\": \"white\", \"ticks\": \"\", \"title\": {\"standoff\": 15}, \"zerolinecolor\": \"white\", \"zerolinewidth\": 2}, \"yaxis\": {\"automargin\": true, \"gridcolor\": \"white\", \"linecolor\": \"white\", \"ticks\": \"\", \"title\": {\"standoff\": 15}, \"zerolinecolor\": \"white\", \"zerolinewidth\": 2}}}, \"title\": {\"font\": {\"color\": \"#4D5663\"}}, \"xaxis\": {\"gridcolor\": \"#E1E5ED\", \"showgrid\": true, \"tickfont\": {\"color\": \"#4D5663\"}, \"title\": {\"font\": {\"color\": \"#4D5663\"}, \"text\": \"strike price\"}, \"zerolinecolor\": \"#E1E5ED\"}, \"yaxis\": {\"gridcolor\": \"#E1E5ED\", \"showgrid\": true, \"tickfont\": {\"color\": \"#4D5663\"}, \"title\": {\"font\": {\"color\": \"#4D5663\"}, \"text\": \"\"}, \"zerolinecolor\": \"#E1E5ED\"}},\n",
       "                        {\"showLink\": true, \"linkText\": \"Export to plot.ly\", \"plotlyServerURL\": \"https://plot.ly\", \"responsive\": true}\n",
       "                    ).then(function(){\n",
       "                            \n",
       "var gd = document.getElementById('9e22ad2e-77ba-424e-86c6-d607b0adf175');\n",
       "var x = new MutationObserver(function (mutations, observer) {{\n",
       "        var display = window.getComputedStyle(gd).display;\n",
       "        if (!display || display === 'none') {{\n",
       "            console.log([gd, 'removed!']);\n",
       "            Plotly.purge(gd);\n",
       "            observer.disconnect();\n",
       "        }}\n",
       "}});\n",
       "\n",
       "// Listen for the removal of the full notebook cells\n",
       "var notebookContainer = gd.closest('#notebook-container');\n",
       "if (notebookContainer) {{\n",
       "    x.observe(notebookContainer, {childList: true});\n",
       "}}\n",
       "\n",
       "// Listen for the clearing of the current output cell\n",
       "var outputEl = gd.closest('.output');\n",
       "if (outputEl) {{\n",
       "    x.observe(outputEl, {childList: true});\n",
       "}}\n",
       "\n",
       "                        })\n",
       "                };\n",
       "                });\n",
       "            </script>\n",
       "        </div>"
      ]
     },
     "metadata": {},
     "output_type": "display_data"
    }
   ],
   "source": [
    "puts_close.iplot(mode='lines+markers', size=6, xTitle='strike price')"
   ]
  },
  {
   "cell_type": "code",
   "execution_count": 37,
   "metadata": {},
   "outputs": [
    {
     "data": {
      "application/vnd.plotly.v1+json": {
       "config": {
        "linkText": "Export to plot.ly",
        "plotlyServerURL": "https://plot.ly",
        "showLink": true
       },
       "data": [
        {
         "line": {
          "color": "rgba(255, 153, 51, 1.0)",
          "dash": "solid",
          "shape": "linear",
          "width": 1.3
         },
         "marker": {
          "size": 6,
          "symbol": "circle"
         },
         "mode": "lines+markers",
         "name": "2020-01-17",
         "text": "",
         "type": "scatter",
         "x": [
          11400,
          11450,
          11500,
          11550,
          11600,
          11650,
          11700,
          11750,
          11800,
          11850,
          11900,
          11950,
          12000,
          12050,
          12100,
          12150,
          12200,
          12250,
          12300,
          12350,
          12400,
          12450,
          12500,
          12550,
          12600,
          12650,
          12700,
          12750,
          12800,
          12850,
          12900,
          12950,
          13000,
          13050,
          13100,
          13150,
          13200,
          13250,
          13300,
          13350,
          13400,
          13450,
          13500,
          13550,
          13600,
          13650,
          13700,
          13750,
          13800,
          13850,
          13900,
          13950,
          14000,
          14050,
          14100,
          14150,
          14200,
          14250,
          14300,
          14350,
          14400,
          14450,
          14500,
          14550,
          14600,
          14650,
          14700,
          14750,
          14800,
          14850,
          14900,
          14950,
          15000,
          15050,
          15100,
          15150,
          15200,
          15250,
          15300
         ],
         "y": [
          26.11,
          25.67,
          24.91,
          24.85,
          24.45,
          24.03,
          23.66,
          23.36,
          22.9,
          22.5,
          22.11,
          21.71,
          21.35,
          20.91,
          20.46,
          20.01,
          19.43,
          19.11,
          18.65,
          18.21,
          17.77,
          17.43,
          16.91,
          16.54,
          16.12,
          15.74,
          15.34,
          14.98,
          14.6,
          14.26,
          13.89,
          13.54,
          13.21,
          12.86,
          12.53,
          12.2,
          11.87,
          11.58,
          11.26,
          11.07,
          10.88,
          10.67,
          10.42,
          10.4,
          10.1,
          10.07,
          10.21,
          9.84,
          10.35,
          9.9,
          10.02,
          9.96,
          10.11,
          10.11,
          11.26,
          11.83,
          10.84,
          12.26,
          12.78,
          13.3,
          13.81,
          14.32,
          14.82,
          15.31,
          15.8,
          16.29,
          16.77,
          17.25,
          17.72,
          18.19,
          18.65,
          19.11,
          19.57,
          17.15,
          17.51,
          17.86,
          18.2,
          18.54,
          18.87
         ]
        },
        {
         "line": {
          "color": "rgba(55, 128, 191, 1.0)",
          "dash": "solid",
          "shape": "linear",
          "width": 1.3
         },
         "marker": {
          "size": 6,
          "symbol": "circle"
         },
         "mode": "lines+markers",
         "name": "2020-06-19",
         "text": "",
         "type": "scatter",
         "x": [
          11400,
          11450,
          11500,
          11550,
          11600,
          11650,
          11700,
          11750,
          11800,
          11850,
          11900,
          11950,
          12000,
          12050,
          12100,
          12150,
          12200,
          12250,
          12300,
          12350,
          12400,
          12450,
          12500,
          12550,
          12600,
          12650,
          12700,
          12750,
          12800,
          12850,
          12900,
          12950,
          13000,
          13050,
          13100,
          13150,
          13200,
          13250,
          13300,
          13350,
          13400,
          13450,
          13500,
          13550,
          13600,
          13650,
          13700,
          13750,
          13800,
          13850,
          13900,
          13950,
          14000,
          14050,
          14100,
          14150,
          14200,
          14250,
          14300,
          14350,
          14400,
          14450,
          14500,
          14550,
          14600,
          14650,
          14700,
          14750,
          14800,
          14850,
          14900,
          14950,
          15000,
          15050,
          15100,
          15150,
          15200,
          15250,
          15300
         ],
         "y": [
          20.28,
          20.11,
          19.95,
          19.8,
          19.64,
          19.48,
          19.32,
          19.17,
          19,
          18.84,
          18.68,
          18.52,
          18.35,
          18.2,
          18.04,
          17.87,
          17.72,
          17.55,
          17.39,
          17.23,
          17.07,
          16.9,
          16.74,
          16.57,
          16.41,
          16.25,
          16.08,
          15.93,
          15.76,
          15.6,
          15.43,
          15.27,
          15.13,
          14.96,
          14.81,
          14.64,
          14.49,
          14.34,
          14.19,
          14.04,
          13.89,
          13.74,
          13.59,
          13.4,
          13.26,
          13.13,
          12.97,
          12.83,
          12.7,
          12.57,
          12.44,
          12.3,
          12.17,
          12.06,
          11.93,
          11.8,
          11.69,
          11.6,
          11.47,
          11.37,
          11.28,
          11.26,
          11.06,
          10.97,
          10.89,
          10.97,
          10.84,
          10.72,
          10.71,
          10.59,
          10.51,
          10.44,
          10.43,
          "",
          "",
          "",
          "",
          "",
          ""
         ]
        },
        {
         "line": {
          "color": "rgba(50, 171, 96, 1.0)",
          "dash": "solid",
          "shape": "linear",
          "width": 1.3
         },
         "marker": {
          "size": 6,
          "symbol": "circle"
         },
         "mode": "lines+markers",
         "name": "2021-06-18",
         "text": "",
         "type": "scatter",
         "x": [
          11400,
          11450,
          11500,
          11550,
          11600,
          11650,
          11700,
          11750,
          11800,
          11850,
          11900,
          11950,
          12000,
          12050,
          12100,
          12150,
          12200,
          12250,
          12300,
          12350,
          12400,
          12450,
          12500,
          12550,
          12600,
          12650,
          12700,
          12750,
          12800,
          12850,
          12900,
          12950,
          13000,
          13050,
          13100,
          13150,
          13200,
          13250,
          13300,
          13350,
          13400,
          13450,
          13500,
          13550,
          13600,
          13650,
          13700,
          13750,
          13800,
          13850,
          13900,
          13950,
          14000,
          14050,
          14100,
          14150,
          14200,
          14250,
          14300,
          14350,
          14400,
          14450,
          14500,
          14550,
          14600,
          14650,
          14700,
          14750,
          14800,
          14850,
          14900,
          14950,
          15000,
          15050,
          15100,
          15150,
          15200,
          15250,
          15300
         ],
         "y": [
          19.18,
          "",
          18.97,
          18.88,
          18.79,
          18.69,
          18.59,
          18.49,
          18.39,
          18.3,
          18.2,
          18.1,
          18.08,
          17.92,
          17.82,
          17.72,
          17.62,
          17.53,
          17.43,
          17.35,
          17.25,
          17.16,
          17.06,
          16.96,
          16.88,
          16.78,
          16.69,
          16.59,
          16.51,
          16.42,
          16.34,
          16.24,
          16.16,
          16.06,
          15.98,
          15.9,
          15.81,
          15.72,
          15.64,
          15.55,
          15.48,
          15.39,
          15.31,
          15.24,
          15.15,
          15.07,
          15,
          14.92,
          14.84,
          14.82,
          14.75,
          14.67,
          14.61,
          14.52,
          14.46,
          14.39,
          14.32,
          "",
          14.15,
          "",
          14.03,
          "",
          "",
          "",
          13.76,
          "",
          "",
          "",
          13.51,
          "",
          "",
          "",
          13.28,
          "",
          "",
          "",
          13.04,
          "",
          ""
         ]
        }
       ],
       "layout": {
        "legend": {
         "bgcolor": "#F5F6F9",
         "font": {
          "color": "#4D5663"
         }
        },
        "paper_bgcolor": "#F5F6F9",
        "plot_bgcolor": "#F5F6F9",
        "template": {
         "data": {
          "bar": [
           {
            "error_x": {
             "color": "#2a3f5f"
            },
            "error_y": {
             "color": "#2a3f5f"
            },
            "marker": {
             "line": {
              "color": "#E5ECF6",
              "width": 0.5
             }
            },
            "type": "bar"
           }
          ],
          "barpolar": [
           {
            "marker": {
             "line": {
              "color": "#E5ECF6",
              "width": 0.5
             }
            },
            "type": "barpolar"
           }
          ],
          "carpet": [
           {
            "aaxis": {
             "endlinecolor": "#2a3f5f",
             "gridcolor": "white",
             "linecolor": "white",
             "minorgridcolor": "white",
             "startlinecolor": "#2a3f5f"
            },
            "baxis": {
             "endlinecolor": "#2a3f5f",
             "gridcolor": "white",
             "linecolor": "white",
             "minorgridcolor": "white",
             "startlinecolor": "#2a3f5f"
            },
            "type": "carpet"
           }
          ],
          "choropleth": [
           {
            "colorbar": {
             "outlinewidth": 0,
             "ticks": ""
            },
            "type": "choropleth"
           }
          ],
          "contour": [
           {
            "colorbar": {
             "outlinewidth": 0,
             "ticks": ""
            },
            "colorscale": [
             [
              0,
              "#0d0887"
             ],
             [
              0.1111111111111111,
              "#46039f"
             ],
             [
              0.2222222222222222,
              "#7201a8"
             ],
             [
              0.3333333333333333,
              "#9c179e"
             ],
             [
              0.4444444444444444,
              "#bd3786"
             ],
             [
              0.5555555555555556,
              "#d8576b"
             ],
             [
              0.6666666666666666,
              "#ed7953"
             ],
             [
              0.7777777777777778,
              "#fb9f3a"
             ],
             [
              0.8888888888888888,
              "#fdca26"
             ],
             [
              1,
              "#f0f921"
             ]
            ],
            "type": "contour"
           }
          ],
          "contourcarpet": [
           {
            "colorbar": {
             "outlinewidth": 0,
             "ticks": ""
            },
            "type": "contourcarpet"
           }
          ],
          "heatmap": [
           {
            "colorbar": {
             "outlinewidth": 0,
             "ticks": ""
            },
            "colorscale": [
             [
              0,
              "#0d0887"
             ],
             [
              0.1111111111111111,
              "#46039f"
             ],
             [
              0.2222222222222222,
              "#7201a8"
             ],
             [
              0.3333333333333333,
              "#9c179e"
             ],
             [
              0.4444444444444444,
              "#bd3786"
             ],
             [
              0.5555555555555556,
              "#d8576b"
             ],
             [
              0.6666666666666666,
              "#ed7953"
             ],
             [
              0.7777777777777778,
              "#fb9f3a"
             ],
             [
              0.8888888888888888,
              "#fdca26"
             ],
             [
              1,
              "#f0f921"
             ]
            ],
            "type": "heatmap"
           }
          ],
          "heatmapgl": [
           {
            "colorbar": {
             "outlinewidth": 0,
             "ticks": ""
            },
            "colorscale": [
             [
              0,
              "#0d0887"
             ],
             [
              0.1111111111111111,
              "#46039f"
             ],
             [
              0.2222222222222222,
              "#7201a8"
             ],
             [
              0.3333333333333333,
              "#9c179e"
             ],
             [
              0.4444444444444444,
              "#bd3786"
             ],
             [
              0.5555555555555556,
              "#d8576b"
             ],
             [
              0.6666666666666666,
              "#ed7953"
             ],
             [
              0.7777777777777778,
              "#fb9f3a"
             ],
             [
              0.8888888888888888,
              "#fdca26"
             ],
             [
              1,
              "#f0f921"
             ]
            ],
            "type": "heatmapgl"
           }
          ],
          "histogram": [
           {
            "marker": {
             "colorbar": {
              "outlinewidth": 0,
              "ticks": ""
             }
            },
            "type": "histogram"
           }
          ],
          "histogram2d": [
           {
            "colorbar": {
             "outlinewidth": 0,
             "ticks": ""
            },
            "colorscale": [
             [
              0,
              "#0d0887"
             ],
             [
              0.1111111111111111,
              "#46039f"
             ],
             [
              0.2222222222222222,
              "#7201a8"
             ],
             [
              0.3333333333333333,
              "#9c179e"
             ],
             [
              0.4444444444444444,
              "#bd3786"
             ],
             [
              0.5555555555555556,
              "#d8576b"
             ],
             [
              0.6666666666666666,
              "#ed7953"
             ],
             [
              0.7777777777777778,
              "#fb9f3a"
             ],
             [
              0.8888888888888888,
              "#fdca26"
             ],
             [
              1,
              "#f0f921"
             ]
            ],
            "type": "histogram2d"
           }
          ],
          "histogram2dcontour": [
           {
            "colorbar": {
             "outlinewidth": 0,
             "ticks": ""
            },
            "colorscale": [
             [
              0,
              "#0d0887"
             ],
             [
              0.1111111111111111,
              "#46039f"
             ],
             [
              0.2222222222222222,
              "#7201a8"
             ],
             [
              0.3333333333333333,
              "#9c179e"
             ],
             [
              0.4444444444444444,
              "#bd3786"
             ],
             [
              0.5555555555555556,
              "#d8576b"
             ],
             [
              0.6666666666666666,
              "#ed7953"
             ],
             [
              0.7777777777777778,
              "#fb9f3a"
             ],
             [
              0.8888888888888888,
              "#fdca26"
             ],
             [
              1,
              "#f0f921"
             ]
            ],
            "type": "histogram2dcontour"
           }
          ],
          "mesh3d": [
           {
            "colorbar": {
             "outlinewidth": 0,
             "ticks": ""
            },
            "type": "mesh3d"
           }
          ],
          "parcoords": [
           {
            "line": {
             "colorbar": {
              "outlinewidth": 0,
              "ticks": ""
             }
            },
            "type": "parcoords"
           }
          ],
          "pie": [
           {
            "automargin": true,
            "type": "pie"
           }
          ],
          "scatter": [
           {
            "marker": {
             "colorbar": {
              "outlinewidth": 0,
              "ticks": ""
             }
            },
            "type": "scatter"
           }
          ],
          "scatter3d": [
           {
            "line": {
             "colorbar": {
              "outlinewidth": 0,
              "ticks": ""
             }
            },
            "marker": {
             "colorbar": {
              "outlinewidth": 0,
              "ticks": ""
             }
            },
            "type": "scatter3d"
           }
          ],
          "scattercarpet": [
           {
            "marker": {
             "colorbar": {
              "outlinewidth": 0,
              "ticks": ""
             }
            },
            "type": "scattercarpet"
           }
          ],
          "scattergeo": [
           {
            "marker": {
             "colorbar": {
              "outlinewidth": 0,
              "ticks": ""
             }
            },
            "type": "scattergeo"
           }
          ],
          "scattergl": [
           {
            "marker": {
             "colorbar": {
              "outlinewidth": 0,
              "ticks": ""
             }
            },
            "type": "scattergl"
           }
          ],
          "scattermapbox": [
           {
            "marker": {
             "colorbar": {
              "outlinewidth": 0,
              "ticks": ""
             }
            },
            "type": "scattermapbox"
           }
          ],
          "scatterpolar": [
           {
            "marker": {
             "colorbar": {
              "outlinewidth": 0,
              "ticks": ""
             }
            },
            "type": "scatterpolar"
           }
          ],
          "scatterpolargl": [
           {
            "marker": {
             "colorbar": {
              "outlinewidth": 0,
              "ticks": ""
             }
            },
            "type": "scatterpolargl"
           }
          ],
          "scatterternary": [
           {
            "marker": {
             "colorbar": {
              "outlinewidth": 0,
              "ticks": ""
             }
            },
            "type": "scatterternary"
           }
          ],
          "surface": [
           {
            "colorbar": {
             "outlinewidth": 0,
             "ticks": ""
            },
            "colorscale": [
             [
              0,
              "#0d0887"
             ],
             [
              0.1111111111111111,
              "#46039f"
             ],
             [
              0.2222222222222222,
              "#7201a8"
             ],
             [
              0.3333333333333333,
              "#9c179e"
             ],
             [
              0.4444444444444444,
              "#bd3786"
             ],
             [
              0.5555555555555556,
              "#d8576b"
             ],
             [
              0.6666666666666666,
              "#ed7953"
             ],
             [
              0.7777777777777778,
              "#fb9f3a"
             ],
             [
              0.8888888888888888,
              "#fdca26"
             ],
             [
              1,
              "#f0f921"
             ]
            ],
            "type": "surface"
           }
          ],
          "table": [
           {
            "cells": {
             "fill": {
              "color": "#EBF0F8"
             },
             "line": {
              "color": "white"
             }
            },
            "header": {
             "fill": {
              "color": "#C8D4E3"
             },
             "line": {
              "color": "white"
             }
            },
            "type": "table"
           }
          ]
         },
         "layout": {
          "annotationdefaults": {
           "arrowcolor": "#2a3f5f",
           "arrowhead": 0,
           "arrowwidth": 1
          },
          "coloraxis": {
           "colorbar": {
            "outlinewidth": 0,
            "ticks": ""
           }
          },
          "colorscale": {
           "diverging": [
            [
             0,
             "#8e0152"
            ],
            [
             0.1,
             "#c51b7d"
            ],
            [
             0.2,
             "#de77ae"
            ],
            [
             0.3,
             "#f1b6da"
            ],
            [
             0.4,
             "#fde0ef"
            ],
            [
             0.5,
             "#f7f7f7"
            ],
            [
             0.6,
             "#e6f5d0"
            ],
            [
             0.7,
             "#b8e186"
            ],
            [
             0.8,
             "#7fbc41"
            ],
            [
             0.9,
             "#4d9221"
            ],
            [
             1,
             "#276419"
            ]
           ],
           "sequential": [
            [
             0,
             "#0d0887"
            ],
            [
             0.1111111111111111,
             "#46039f"
            ],
            [
             0.2222222222222222,
             "#7201a8"
            ],
            [
             0.3333333333333333,
             "#9c179e"
            ],
            [
             0.4444444444444444,
             "#bd3786"
            ],
            [
             0.5555555555555556,
             "#d8576b"
            ],
            [
             0.6666666666666666,
             "#ed7953"
            ],
            [
             0.7777777777777778,
             "#fb9f3a"
            ],
            [
             0.8888888888888888,
             "#fdca26"
            ],
            [
             1,
             "#f0f921"
            ]
           ],
           "sequentialminus": [
            [
             0,
             "#0d0887"
            ],
            [
             0.1111111111111111,
             "#46039f"
            ],
            [
             0.2222222222222222,
             "#7201a8"
            ],
            [
             0.3333333333333333,
             "#9c179e"
            ],
            [
             0.4444444444444444,
             "#bd3786"
            ],
            [
             0.5555555555555556,
             "#d8576b"
            ],
            [
             0.6666666666666666,
             "#ed7953"
            ],
            [
             0.7777777777777778,
             "#fb9f3a"
            ],
            [
             0.8888888888888888,
             "#fdca26"
            ],
            [
             1,
             "#f0f921"
            ]
           ]
          },
          "colorway": [
           "#636efa",
           "#EF553B",
           "#00cc96",
           "#ab63fa",
           "#FFA15A",
           "#19d3f3",
           "#FF6692",
           "#B6E880",
           "#FF97FF",
           "#FECB52"
          ],
          "font": {
           "color": "#2a3f5f"
          },
          "geo": {
           "bgcolor": "white",
           "lakecolor": "white",
           "landcolor": "#E5ECF6",
           "showlakes": true,
           "showland": true,
           "subunitcolor": "white"
          },
          "hoverlabel": {
           "align": "left"
          },
          "hovermode": "closest",
          "mapbox": {
           "style": "light"
          },
          "paper_bgcolor": "white",
          "plot_bgcolor": "#E5ECF6",
          "polar": {
           "angularaxis": {
            "gridcolor": "white",
            "linecolor": "white",
            "ticks": ""
           },
           "bgcolor": "#E5ECF6",
           "radialaxis": {
            "gridcolor": "white",
            "linecolor": "white",
            "ticks": ""
           }
          },
          "scene": {
           "xaxis": {
            "backgroundcolor": "#E5ECF6",
            "gridcolor": "white",
            "gridwidth": 2,
            "linecolor": "white",
            "showbackground": true,
            "ticks": "",
            "zerolinecolor": "white"
           },
           "yaxis": {
            "backgroundcolor": "#E5ECF6",
            "gridcolor": "white",
            "gridwidth": 2,
            "linecolor": "white",
            "showbackground": true,
            "ticks": "",
            "zerolinecolor": "white"
           },
           "zaxis": {
            "backgroundcolor": "#E5ECF6",
            "gridcolor": "white",
            "gridwidth": 2,
            "linecolor": "white",
            "showbackground": true,
            "ticks": "",
            "zerolinecolor": "white"
           }
          },
          "shapedefaults": {
           "line": {
            "color": "#2a3f5f"
           }
          },
          "ternary": {
           "aaxis": {
            "gridcolor": "white",
            "linecolor": "white",
            "ticks": ""
           },
           "baxis": {
            "gridcolor": "white",
            "linecolor": "white",
            "ticks": ""
           },
           "bgcolor": "#E5ECF6",
           "caxis": {
            "gridcolor": "white",
            "linecolor": "white",
            "ticks": ""
           }
          },
          "title": {
           "x": 0.05
          },
          "xaxis": {
           "automargin": true,
           "gridcolor": "white",
           "linecolor": "white",
           "ticks": "",
           "title": {
            "standoff": 15
           },
           "zerolinecolor": "white",
           "zerolinewidth": 2
          },
          "yaxis": {
           "automargin": true,
           "gridcolor": "white",
           "linecolor": "white",
           "ticks": "",
           "title": {
            "standoff": 15
           },
           "zerolinecolor": "white",
           "zerolinewidth": 2
          }
         }
        },
        "title": {
         "font": {
          "color": "#4D5663"
         }
        },
        "xaxis": {
         "gridcolor": "#E1E5ED",
         "showgrid": true,
         "tickfont": {
          "color": "#4D5663"
         },
         "title": {
          "font": {
           "color": "#4D5663"
          },
          "text": "strike price"
         },
         "zerolinecolor": "#E1E5ED"
        },
        "yaxis": {
         "gridcolor": "#E1E5ED",
         "showgrid": true,
         "tickfont": {
          "color": "#4D5663"
         },
         "title": {
          "font": {
           "color": "#4D5663"
          },
          "text": ""
         },
         "zerolinecolor": "#E1E5ED"
        }
       }
      },
      "text/html": [
       "<div>\n",
       "        \n",
       "        \n",
       "            <div id=\"649ad35e-9fb6-4202-945e-d849166e0790\" class=\"plotly-graph-div\" style=\"height:525px; width:100%;\"></div>\n",
       "            <script type=\"text/javascript\">\n",
       "                require([\"plotly\"], function(Plotly) {\n",
       "                    window.PLOTLYENV=window.PLOTLYENV || {};\n",
       "                    window.PLOTLYENV.BASE_URL='https://plot.ly';\n",
       "                    \n",
       "                if (document.getElementById(\"649ad35e-9fb6-4202-945e-d849166e0790\")) {\n",
       "                    Plotly.newPlot(\n",
       "                        '649ad35e-9fb6-4202-945e-d849166e0790',\n",
       "                        [{\"line\": {\"color\": \"rgba(255, 153, 51, 1.0)\", \"dash\": \"solid\", \"shape\": \"linear\", \"width\": 1.3}, \"marker\": {\"size\": 6, \"symbol\": \"circle\"}, \"mode\": \"lines+markers\", \"name\": \"2020-01-17\", \"text\": \"\", \"type\": \"scatter\", \"x\": [11400.0, 11450.0, 11500.0, 11550.0, 11600.0, 11650.0, 11700.0, 11750.0, 11800.0, 11850.0, 11900.0, 11950.0, 12000.0, 12050.0, 12100.0, 12150.0, 12200.0, 12250.0, 12300.0, 12350.0, 12400.0, 12450.0, 12500.0, 12550.0, 12600.0, 12650.0, 12700.0, 12750.0, 12800.0, 12850.0, 12900.0, 12950.0, 13000.0, 13050.0, 13100.0, 13150.0, 13200.0, 13250.0, 13300.0, 13350.0, 13400.0, 13450.0, 13500.0, 13550.0, 13600.0, 13650.0, 13700.0, 13750.0, 13800.0, 13850.0, 13900.0, 13950.0, 14000.0, 14050.0, 14100.0, 14150.0, 14200.0, 14250.0, 14300.0, 14350.0, 14400.0, 14450.0, 14500.0, 14550.0, 14600.0, 14650.0, 14700.0, 14750.0, 14800.0, 14850.0, 14900.0, 14950.0, 15000.0, 15050.0, 15100.0, 15150.0, 15200.0, 15250.0, 15300.0], \"y\": [26.11, 25.67, 24.91, 24.85, 24.45, 24.03, 23.66, 23.36, 22.9, 22.5, 22.11, 21.71, 21.35, 20.91, 20.46, 20.01, 19.43, 19.11, 18.65, 18.21, 17.77, 17.43, 16.91, 16.54, 16.12, 15.74, 15.34, 14.98, 14.6, 14.26, 13.89, 13.54, 13.21, 12.86, 12.53, 12.2, 11.87, 11.58, 11.26, 11.07, 10.88, 10.67, 10.42, 10.4, 10.1, 10.07, 10.21, 9.84, 10.35, 9.9, 10.02, 9.96, 10.11, 10.11, 11.26, 11.83, 10.84, 12.26, 12.78, 13.3, 13.81, 14.32, 14.82, 15.31, 15.8, 16.29, 16.77, 17.25, 17.72, 18.19, 18.65, 19.11, 19.57, 17.15, 17.51, 17.86, 18.2, 18.54, 18.87]}, {\"line\": {\"color\": \"rgba(55, 128, 191, 1.0)\", \"dash\": \"solid\", \"shape\": \"linear\", \"width\": 1.3}, \"marker\": {\"size\": 6, \"symbol\": \"circle\"}, \"mode\": \"lines+markers\", \"name\": \"2020-06-19\", \"text\": \"\", \"type\": \"scatter\", \"x\": [11400.0, 11450.0, 11500.0, 11550.0, 11600.0, 11650.0, 11700.0, 11750.0, 11800.0, 11850.0, 11900.0, 11950.0, 12000.0, 12050.0, 12100.0, 12150.0, 12200.0, 12250.0, 12300.0, 12350.0, 12400.0, 12450.0, 12500.0, 12550.0, 12600.0, 12650.0, 12700.0, 12750.0, 12800.0, 12850.0, 12900.0, 12950.0, 13000.0, 13050.0, 13100.0, 13150.0, 13200.0, 13250.0, 13300.0, 13350.0, 13400.0, 13450.0, 13500.0, 13550.0, 13600.0, 13650.0, 13700.0, 13750.0, 13800.0, 13850.0, 13900.0, 13950.0, 14000.0, 14050.0, 14100.0, 14150.0, 14200.0, 14250.0, 14300.0, 14350.0, 14400.0, 14450.0, 14500.0, 14550.0, 14600.0, 14650.0, 14700.0, 14750.0, 14800.0, 14850.0, 14900.0, 14950.0, 15000.0, 15050.0, 15100.0, 15150.0, 15200.0, 15250.0, 15300.0], \"y\": [20.28, 20.11, 19.95, 19.8, 19.64, 19.48, 19.32, 19.17, 19.0, 18.84, 18.68, 18.52, 18.35, 18.2, 18.04, 17.87, 17.72, 17.55, 17.39, 17.23, 17.07, 16.9, 16.74, 16.57, 16.41, 16.25, 16.08, 15.93, 15.76, 15.6, 15.43, 15.27, 15.13, 14.96, 14.81, 14.64, 14.49, 14.34, 14.19, 14.04, 13.89, 13.74, 13.59, 13.4, 13.26, 13.13, 12.97, 12.83, 12.7, 12.57, 12.44, 12.3, 12.17, 12.06, 11.93, 11.8, 11.69, 11.6, 11.47, 11.37, 11.28, 11.26, 11.06, 10.97, 10.89, 10.97, 10.84, 10.72, 10.71, 10.59, 10.51, 10.44, 10.43, \"\", \"\", \"\", \"\", \"\", \"\"]}, {\"line\": {\"color\": \"rgba(50, 171, 96, 1.0)\", \"dash\": \"solid\", \"shape\": \"linear\", \"width\": 1.3}, \"marker\": {\"size\": 6, \"symbol\": \"circle\"}, \"mode\": \"lines+markers\", \"name\": \"2021-06-18\", \"text\": \"\", \"type\": \"scatter\", \"x\": [11400.0, 11450.0, 11500.0, 11550.0, 11600.0, 11650.0, 11700.0, 11750.0, 11800.0, 11850.0, 11900.0, 11950.0, 12000.0, 12050.0, 12100.0, 12150.0, 12200.0, 12250.0, 12300.0, 12350.0, 12400.0, 12450.0, 12500.0, 12550.0, 12600.0, 12650.0, 12700.0, 12750.0, 12800.0, 12850.0, 12900.0, 12950.0, 13000.0, 13050.0, 13100.0, 13150.0, 13200.0, 13250.0, 13300.0, 13350.0, 13400.0, 13450.0, 13500.0, 13550.0, 13600.0, 13650.0, 13700.0, 13750.0, 13800.0, 13850.0, 13900.0, 13950.0, 14000.0, 14050.0, 14100.0, 14150.0, 14200.0, 14250.0, 14300.0, 14350.0, 14400.0, 14450.0, 14500.0, 14550.0, 14600.0, 14650.0, 14700.0, 14750.0, 14800.0, 14850.0, 14900.0, 14950.0, 15000.0, 15050.0, 15100.0, 15150.0, 15200.0, 15250.0, 15300.0], \"y\": [19.18, \"\", 18.97, 18.88, 18.79, 18.69, 18.59, 18.49, 18.39, 18.3, 18.2, 18.1, 18.08, 17.92, 17.82, 17.72, 17.62, 17.53, 17.43, 17.35, 17.25, 17.16, 17.06, 16.96, 16.88, 16.78, 16.69, 16.59, 16.51, 16.42, 16.34, 16.24, 16.16, 16.06, 15.98, 15.9, 15.81, 15.72, 15.64, 15.55, 15.48, 15.39, 15.31, 15.24, 15.15, 15.07, 15.0, 14.92, 14.84, 14.82, 14.75, 14.67, 14.61, 14.52, 14.46, 14.39, 14.32, \"\", 14.15, \"\", 14.03, \"\", \"\", \"\", 13.76, \"\", \"\", \"\", 13.51, \"\", \"\", \"\", 13.28, \"\", \"\", \"\", 13.04, \"\", \"\"]}],\n",
       "                        {\"legend\": {\"bgcolor\": \"#F5F6F9\", \"font\": {\"color\": \"#4D5663\"}}, \"paper_bgcolor\": \"#F5F6F9\", \"plot_bgcolor\": \"#F5F6F9\", \"template\": {\"data\": {\"bar\": [{\"error_x\": {\"color\": \"#2a3f5f\"}, \"error_y\": {\"color\": \"#2a3f5f\"}, \"marker\": {\"line\": {\"color\": \"#E5ECF6\", \"width\": 0.5}}, \"type\": \"bar\"}], \"barpolar\": [{\"marker\": {\"line\": {\"color\": \"#E5ECF6\", \"width\": 0.5}}, \"type\": \"barpolar\"}], \"carpet\": [{\"aaxis\": {\"endlinecolor\": \"#2a3f5f\", \"gridcolor\": \"white\", \"linecolor\": \"white\", \"minorgridcolor\": \"white\", \"startlinecolor\": \"#2a3f5f\"}, \"baxis\": {\"endlinecolor\": \"#2a3f5f\", \"gridcolor\": \"white\", \"linecolor\": \"white\", \"minorgridcolor\": \"white\", \"startlinecolor\": \"#2a3f5f\"}, \"type\": \"carpet\"}], \"choropleth\": [{\"colorbar\": {\"outlinewidth\": 0, \"ticks\": \"\"}, \"type\": \"choropleth\"}], \"contour\": [{\"colorbar\": {\"outlinewidth\": 0, \"ticks\": \"\"}, \"colorscale\": [[0.0, \"#0d0887\"], [0.1111111111111111, \"#46039f\"], [0.2222222222222222, \"#7201a8\"], [0.3333333333333333, \"#9c179e\"], [0.4444444444444444, \"#bd3786\"], [0.5555555555555556, \"#d8576b\"], [0.6666666666666666, \"#ed7953\"], [0.7777777777777778, \"#fb9f3a\"], [0.8888888888888888, \"#fdca26\"], [1.0, \"#f0f921\"]], \"type\": \"contour\"}], \"contourcarpet\": [{\"colorbar\": {\"outlinewidth\": 0, \"ticks\": \"\"}, \"type\": \"contourcarpet\"}], \"heatmap\": [{\"colorbar\": {\"outlinewidth\": 0, \"ticks\": \"\"}, \"colorscale\": [[0.0, \"#0d0887\"], [0.1111111111111111, \"#46039f\"], [0.2222222222222222, \"#7201a8\"], [0.3333333333333333, \"#9c179e\"], [0.4444444444444444, \"#bd3786\"], [0.5555555555555556, \"#d8576b\"], [0.6666666666666666, \"#ed7953\"], [0.7777777777777778, \"#fb9f3a\"], [0.8888888888888888, \"#fdca26\"], [1.0, \"#f0f921\"]], \"type\": \"heatmap\"}], \"heatmapgl\": [{\"colorbar\": {\"outlinewidth\": 0, \"ticks\": \"\"}, \"colorscale\": [[0.0, \"#0d0887\"], [0.1111111111111111, \"#46039f\"], [0.2222222222222222, \"#7201a8\"], [0.3333333333333333, \"#9c179e\"], [0.4444444444444444, \"#bd3786\"], [0.5555555555555556, \"#d8576b\"], [0.6666666666666666, \"#ed7953\"], [0.7777777777777778, \"#fb9f3a\"], [0.8888888888888888, \"#fdca26\"], [1.0, \"#f0f921\"]], \"type\": \"heatmapgl\"}], \"histogram\": [{\"marker\": {\"colorbar\": {\"outlinewidth\": 0, \"ticks\": \"\"}}, \"type\": \"histogram\"}], \"histogram2d\": [{\"colorbar\": {\"outlinewidth\": 0, \"ticks\": \"\"}, \"colorscale\": [[0.0, \"#0d0887\"], [0.1111111111111111, \"#46039f\"], [0.2222222222222222, \"#7201a8\"], [0.3333333333333333, \"#9c179e\"], [0.4444444444444444, \"#bd3786\"], [0.5555555555555556, \"#d8576b\"], [0.6666666666666666, \"#ed7953\"], [0.7777777777777778, \"#fb9f3a\"], [0.8888888888888888, \"#fdca26\"], [1.0, \"#f0f921\"]], \"type\": \"histogram2d\"}], \"histogram2dcontour\": [{\"colorbar\": {\"outlinewidth\": 0, \"ticks\": \"\"}, \"colorscale\": [[0.0, \"#0d0887\"], [0.1111111111111111, \"#46039f\"], [0.2222222222222222, \"#7201a8\"], [0.3333333333333333, \"#9c179e\"], [0.4444444444444444, \"#bd3786\"], [0.5555555555555556, \"#d8576b\"], [0.6666666666666666, \"#ed7953\"], [0.7777777777777778, \"#fb9f3a\"], [0.8888888888888888, \"#fdca26\"], [1.0, \"#f0f921\"]], \"type\": \"histogram2dcontour\"}], \"mesh3d\": [{\"colorbar\": {\"outlinewidth\": 0, \"ticks\": \"\"}, \"type\": \"mesh3d\"}], \"parcoords\": [{\"line\": {\"colorbar\": {\"outlinewidth\": 0, \"ticks\": \"\"}}, \"type\": \"parcoords\"}], \"pie\": [{\"automargin\": true, \"type\": \"pie\"}], \"scatter\": [{\"marker\": {\"colorbar\": {\"outlinewidth\": 0, \"ticks\": \"\"}}, \"type\": \"scatter\"}], \"scatter3d\": [{\"line\": {\"colorbar\": {\"outlinewidth\": 0, \"ticks\": \"\"}}, \"marker\": {\"colorbar\": {\"outlinewidth\": 0, \"ticks\": \"\"}}, \"type\": \"scatter3d\"}], \"scattercarpet\": [{\"marker\": {\"colorbar\": {\"outlinewidth\": 0, \"ticks\": \"\"}}, \"type\": \"scattercarpet\"}], \"scattergeo\": [{\"marker\": {\"colorbar\": {\"outlinewidth\": 0, \"ticks\": \"\"}}, \"type\": \"scattergeo\"}], \"scattergl\": [{\"marker\": {\"colorbar\": {\"outlinewidth\": 0, \"ticks\": \"\"}}, \"type\": \"scattergl\"}], \"scattermapbox\": [{\"marker\": {\"colorbar\": {\"outlinewidth\": 0, \"ticks\": \"\"}}, \"type\": \"scattermapbox\"}], \"scatterpolar\": [{\"marker\": {\"colorbar\": {\"outlinewidth\": 0, \"ticks\": \"\"}}, \"type\": \"scatterpolar\"}], \"scatterpolargl\": [{\"marker\": {\"colorbar\": {\"outlinewidth\": 0, \"ticks\": \"\"}}, \"type\": \"scatterpolargl\"}], \"scatterternary\": [{\"marker\": {\"colorbar\": {\"outlinewidth\": 0, \"ticks\": \"\"}}, \"type\": \"scatterternary\"}], \"surface\": [{\"colorbar\": {\"outlinewidth\": 0, \"ticks\": \"\"}, \"colorscale\": [[0.0, \"#0d0887\"], [0.1111111111111111, \"#46039f\"], [0.2222222222222222, \"#7201a8\"], [0.3333333333333333, \"#9c179e\"], [0.4444444444444444, \"#bd3786\"], [0.5555555555555556, \"#d8576b\"], [0.6666666666666666, \"#ed7953\"], [0.7777777777777778, \"#fb9f3a\"], [0.8888888888888888, \"#fdca26\"], [1.0, \"#f0f921\"]], \"type\": \"surface\"}], \"table\": [{\"cells\": {\"fill\": {\"color\": \"#EBF0F8\"}, \"line\": {\"color\": \"white\"}}, \"header\": {\"fill\": {\"color\": \"#C8D4E3\"}, \"line\": {\"color\": \"white\"}}, \"type\": \"table\"}]}, \"layout\": {\"annotationdefaults\": {\"arrowcolor\": \"#2a3f5f\", \"arrowhead\": 0, \"arrowwidth\": 1}, \"coloraxis\": {\"colorbar\": {\"outlinewidth\": 0, \"ticks\": \"\"}}, \"colorscale\": {\"diverging\": [[0, \"#8e0152\"], [0.1, \"#c51b7d\"], [0.2, \"#de77ae\"], [0.3, \"#f1b6da\"], [0.4, \"#fde0ef\"], [0.5, \"#f7f7f7\"], [0.6, \"#e6f5d0\"], [0.7, \"#b8e186\"], [0.8, \"#7fbc41\"], [0.9, \"#4d9221\"], [1, \"#276419\"]], \"sequential\": [[0.0, \"#0d0887\"], [0.1111111111111111, \"#46039f\"], [0.2222222222222222, \"#7201a8\"], [0.3333333333333333, \"#9c179e\"], [0.4444444444444444, \"#bd3786\"], [0.5555555555555556, \"#d8576b\"], [0.6666666666666666, \"#ed7953\"], [0.7777777777777778, \"#fb9f3a\"], [0.8888888888888888, \"#fdca26\"], [1.0, \"#f0f921\"]], \"sequentialminus\": [[0.0, \"#0d0887\"], [0.1111111111111111, \"#46039f\"], [0.2222222222222222, \"#7201a8\"], [0.3333333333333333, \"#9c179e\"], [0.4444444444444444, \"#bd3786\"], [0.5555555555555556, \"#d8576b\"], [0.6666666666666666, \"#ed7953\"], [0.7777777777777778, \"#fb9f3a\"], [0.8888888888888888, \"#fdca26\"], [1.0, \"#f0f921\"]]}, \"colorway\": [\"#636efa\", \"#EF553B\", \"#00cc96\", \"#ab63fa\", \"#FFA15A\", \"#19d3f3\", \"#FF6692\", \"#B6E880\", \"#FF97FF\", \"#FECB52\"], \"font\": {\"color\": \"#2a3f5f\"}, \"geo\": {\"bgcolor\": \"white\", \"lakecolor\": \"white\", \"landcolor\": \"#E5ECF6\", \"showlakes\": true, \"showland\": true, \"subunitcolor\": \"white\"}, \"hoverlabel\": {\"align\": \"left\"}, \"hovermode\": \"closest\", \"mapbox\": {\"style\": \"light\"}, \"paper_bgcolor\": \"white\", \"plot_bgcolor\": \"#E5ECF6\", \"polar\": {\"angularaxis\": {\"gridcolor\": \"white\", \"linecolor\": \"white\", \"ticks\": \"\"}, \"bgcolor\": \"#E5ECF6\", \"radialaxis\": {\"gridcolor\": \"white\", \"linecolor\": \"white\", \"ticks\": \"\"}}, \"scene\": {\"xaxis\": {\"backgroundcolor\": \"#E5ECF6\", \"gridcolor\": \"white\", \"gridwidth\": 2, \"linecolor\": \"white\", \"showbackground\": true, \"ticks\": \"\", \"zerolinecolor\": \"white\"}, \"yaxis\": {\"backgroundcolor\": \"#E5ECF6\", \"gridcolor\": \"white\", \"gridwidth\": 2, \"linecolor\": \"white\", \"showbackground\": true, \"ticks\": \"\", \"zerolinecolor\": \"white\"}, \"zaxis\": {\"backgroundcolor\": \"#E5ECF6\", \"gridcolor\": \"white\", \"gridwidth\": 2, \"linecolor\": \"white\", \"showbackground\": true, \"ticks\": \"\", \"zerolinecolor\": \"white\"}}, \"shapedefaults\": {\"line\": {\"color\": \"#2a3f5f\"}}, \"ternary\": {\"aaxis\": {\"gridcolor\": \"white\", \"linecolor\": \"white\", \"ticks\": \"\"}, \"baxis\": {\"gridcolor\": \"white\", \"linecolor\": \"white\", \"ticks\": \"\"}, \"bgcolor\": \"#E5ECF6\", \"caxis\": {\"gridcolor\": \"white\", \"linecolor\": \"white\", \"ticks\": \"\"}}, \"title\": {\"x\": 0.05}, \"xaxis\": {\"automargin\": true, \"gridcolor\": \"white\", \"linecolor\": \"white\", \"ticks\": \"\", \"title\": {\"standoff\": 15}, \"zerolinecolor\": \"white\", \"zerolinewidth\": 2}, \"yaxis\": {\"automargin\": true, \"gridcolor\": \"white\", \"linecolor\": \"white\", \"ticks\": \"\", \"title\": {\"standoff\": 15}, \"zerolinecolor\": \"white\", \"zerolinewidth\": 2}}}, \"title\": {\"font\": {\"color\": \"#4D5663\"}}, \"xaxis\": {\"gridcolor\": \"#E1E5ED\", \"showgrid\": true, \"tickfont\": {\"color\": \"#4D5663\"}, \"title\": {\"font\": {\"color\": \"#4D5663\"}, \"text\": \"strike price\"}, \"zerolinecolor\": \"#E1E5ED\"}, \"yaxis\": {\"gridcolor\": \"#E1E5ED\", \"showgrid\": true, \"tickfont\": {\"color\": \"#4D5663\"}, \"title\": {\"font\": {\"color\": \"#4D5663\"}, \"text\": \"\"}, \"zerolinecolor\": \"#E1E5ED\"}},\n",
       "                        {\"showLink\": true, \"linkText\": \"Export to plot.ly\", \"plotlyServerURL\": \"https://plot.ly\", \"responsive\": true}\n",
       "                    ).then(function(){\n",
       "                            \n",
       "var gd = document.getElementById('649ad35e-9fb6-4202-945e-d849166e0790');\n",
       "var x = new MutationObserver(function (mutations, observer) {{\n",
       "        var display = window.getComputedStyle(gd).display;\n",
       "        if (!display || display === 'none') {{\n",
       "            console.log([gd, 'removed!']);\n",
       "            Plotly.purge(gd);\n",
       "            observer.disconnect();\n",
       "        }}\n",
       "}});\n",
       "\n",
       "// Listen for the removal of the full notebook cells\n",
       "var notebookContainer = gd.closest('#notebook-container');\n",
       "if (notebookContainer) {{\n",
       "    x.observe(notebookContainer, {childList: true});\n",
       "}}\n",
       "\n",
       "// Listen for the clearing of the current output cell\n",
       "var outputEl = gd.closest('.output');\n",
       "if (outputEl) {{\n",
       "    x.observe(outputEl, {childList: true});\n",
       "}}\n",
       "\n",
       "                        })\n",
       "                };\n",
       "                });\n",
       "            </script>\n",
       "        </div>"
      ]
     },
     "metadata": {},
     "output_type": "display_data"
    }
   ],
   "source": [
    "puts_vols.iplot(mode='lines+markers', size=6, xTitle='strike price')"
   ]
  },
  {
   "cell_type": "code",
   "execution_count": 38,
   "metadata": {},
   "outputs": [],
   "source": [
    "calls_close = pd.DataFrame()\n",
    "calls_vols = pd.DataFrame()\n",
    "for expiry in exp_dates:\n",
    "    sub_set = calls[calls['EXPIR_DATE'] == expiry]\n",
    "    calls_close[expiry] = sub_set.set_index('STRIKE_PRC')['CF_CLOSE']\n",
    "    calls_vols[expiry] = sub_set.set_index('STRIKE_PRC')['IMP_VOLT']"
   ]
  },
  {
   "cell_type": "code",
   "execution_count": 39,
   "metadata": {},
   "outputs": [
    {
     "data": {
      "application/vnd.plotly.v1+json": {
       "config": {
        "linkText": "Export to plot.ly",
        "plotlyServerURL": "https://plot.ly",
        "showLink": true
       },
       "data": [
        {
         "line": {
          "color": "rgba(255, 153, 51, 1.0)",
          "dash": "solid",
          "shape": "linear",
          "width": 1.3
         },
         "marker": {
          "size": 6,
          "symbol": "circle"
         },
         "mode": "lines+markers",
         "name": "2020-01-17",
         "text": "",
         "type": "scatter",
         "x": [
          11400,
          11450,
          11500,
          11550,
          11600,
          11650,
          11700,
          11750,
          11800,
          11850,
          11900,
          11950,
          12000,
          12050,
          12100,
          12150,
          12200,
          12250,
          12300,
          12350,
          12400,
          12450,
          12500,
          12550,
          12600,
          12650,
          12700,
          12750,
          12800,
          12850,
          12900,
          12950,
          13000,
          13050,
          13100,
          13150,
          13200,
          13250,
          13300,
          13350,
          13400,
          13450,
          13500,
          13550,
          13600,
          13650,
          13700,
          13750,
          13800,
          13850,
          13900,
          13950,
          14000,
          14050,
          14100,
          14150,
          14200,
          14250,
          14300,
          14350,
          14400,
          14450,
          14500,
          14550,
          14600,
          14650,
          14700,
          14750,
          14800,
          14850,
          14900,
          14950,
          15000,
          15050,
          15100,
          15150,
          15200,
          15250,
          15300
         ],
         "y": [
          1905.8,
          1856,
          1806.3,
          1756.5,
          1706.8,
          1657.1,
          1607.5,
          1557.9,
          1508.3,
          1458.8,
          1409.3,
          1359.8,
          1310.4,
          1261.1,
          1211.8,
          1162.6,
          1113.5,
          1064.5,
          1015.7,
          966.9,
          918.4,
          870,
          821.8,
          773.9,
          726.3,
          679.1,
          632.5,
          586.5,
          541.1,
          496.4,
          452.6,
          409.8,
          368.2,
          327.9,
          289.2,
          252.2,
          217.2,
          184.5,
          154.5,
          127.2,
          103.3,
          82.3,
          64.1,
          49.3,
          37.4,
          27.9,
          20.6,
          15,
          10.8,
          7.6,
          5.4,
          3.7,
          2.6,
          1.8,
          1.3,
          0.9,
          0.6,
          0.4,
          0.3,
          0.2,
          0.2,
          0.1,
          0.1,
          0.1,
          0.1,
          0.1,
          0.1,
          0.1,
          0.1,
          0.1,
          0.1,
          0.1,
          0.1,
          0.1,
          0.1,
          0.1,
          0.1,
          0.1,
          0.1
         ]
        },
        {
         "line": {
          "color": "rgba(55, 128, 191, 1.0)",
          "dash": "solid",
          "shape": "linear",
          "width": 1.3
         },
         "marker": {
          "size": 6,
          "symbol": "circle"
         },
         "mode": "lines+markers",
         "name": "2020-06-19",
         "text": "",
         "type": "scatter",
         "x": [
          11400,
          11450,
          11500,
          11550,
          11600,
          11650,
          11700,
          11750,
          11800,
          11850,
          11900,
          11950,
          12000,
          12050,
          12100,
          12150,
          12200,
          12250,
          12300,
          12350,
          12400,
          12450,
          12500,
          12550,
          12600,
          12650,
          12700,
          12750,
          12800,
          12850,
          12900,
          12950,
          13000,
          13050,
          13100,
          13150,
          13200,
          13250,
          13300,
          13350,
          13400,
          13450,
          13500,
          13550,
          13600,
          13650,
          13700,
          13750,
          13800,
          13850,
          13900,
          13950,
          14000,
          14050,
          14100,
          14150,
          14200,
          14250,
          14300,
          14350,
          14400,
          14450,
          14500,
          14550,
          14600,
          14650,
          14700,
          14750,
          14800,
          14850,
          14900,
          14950,
          15000,
          15050,
          15100,
          15150,
          15200,
          15250,
          15300
         ],
         "y": [
          2041.8,
          1996.3,
          1951.1,
          1906.1,
          1861.2,
          1816.6,
          1772.1,
          1727.9,
          1683.9,
          1640.3,
          1596.7,
          1553.6,
          1510.6,
          1467.9,
          1425.6,
          1383.4,
          1341.6,
          1300,
          1259,
          1218.2,
          1177.8,
          1137.8,
          1098.2,
          1059,
          1020.2,
          982,
          944.1,
          906.6,
          869.7,
          833.5,
          797.6,
          762.4,
          727.9,
          693.9,
          660.6,
          627.9,
          596.1,
          564.9,
          534.5,
          505.2,
          476.4,
          448.6,
          421.5,
          395.6,
          370.4,
          345.9,
          322.5,
          299.9,
          278.2,
          257.6,
          238,
          219.4,
          201.5,
          184.7,
          168.8,
          154.1,
          140.3,
          127.1,
          115.3,
          103.9,
          93.7,
          84,
          75.2,
          67,
          59.7,
          52.9,
          47,
          41.5,
          36.7,
          32.2,
          28.5,
          25.1,
          22,
          "",
          "",
          "",
          "",
          "",
          ""
         ]
        },
        {
         "line": {
          "color": "rgba(50, 171, 96, 1.0)",
          "dash": "solid",
          "shape": "linear",
          "width": 1.3
         },
         "marker": {
          "size": 6,
          "symbol": "circle"
         },
         "mode": "lines+markers",
         "name": "2021-06-18",
         "text": "",
         "type": "scatter",
         "x": [
          11400,
          11450,
          11500,
          11550,
          11600,
          11650,
          11700,
          11750,
          11800,
          11850,
          11900,
          11950,
          12000,
          12050,
          12100,
          12150,
          12200,
          12250,
          12300,
          12350,
          12400,
          12450,
          12500,
          12550,
          12600,
          12650,
          12700,
          12750,
          12800,
          12850,
          12900,
          12950,
          13000,
          13050,
          13100,
          13150,
          13200,
          13250,
          13300,
          13350,
          13400,
          13450,
          13500,
          13550,
          13600,
          13650,
          13700,
          13750,
          13800,
          13850,
          13900,
          13950,
          14000,
          14050,
          14100,
          14150,
          14200,
          14250,
          14300,
          14350,
          14400,
          14450,
          14500,
          14550,
          14600,
          14650,
          14700,
          14750,
          14800,
          14850,
          14900,
          14950,
          15000,
          15050,
          15100,
          15150,
          15200,
          15250,
          15300
         ],
         "y": [
          2350.3,
          "",
          2269.9,
          2230.2,
          2191,
          2151.7,
          2112,
          2073.2,
          2034.7,
          1996.6,
          1958.4,
          1920.8,
          1883.2,
          1845.5,
          1809,
          1771.9,
          1735.4,
          1699.4,
          1663.4,
          1627.9,
          1592.5,
          1557.6,
          1522.7,
          1488.3,
          1454.6,
          1420.6,
          1387.1,
          1354.2,
          1321.3,
          1289.1,
          1256.7,
          1225.1,
          1193.4,
          1162.3,
          1131.8,
          1101.4,
          1071.5,
          1042.4,
          1013.8,
          985.2,
          956.9,
          929.4,
          902.5,
          875.6,
          849.4,
          823.7,
          798.1,
          773.1,
          748.1,
          723.7,
          700,
          677,
          654.5,
          632.1,
          610.4,
          588.5,
          567.8,
          "",
          527.7,
          "",
          488.6,
          "",
          "",
          "",
          417.3,
          "",
          "",
          "",
          352.9,
          "",
          "",
          "",
          295.9,
          "",
          "",
          "",
          245.7,
          "",
          ""
         ]
        }
       ],
       "layout": {
        "legend": {
         "bgcolor": "#F5F6F9",
         "font": {
          "color": "#4D5663"
         }
        },
        "paper_bgcolor": "#F5F6F9",
        "plot_bgcolor": "#F5F6F9",
        "template": {
         "data": {
          "bar": [
           {
            "error_x": {
             "color": "#2a3f5f"
            },
            "error_y": {
             "color": "#2a3f5f"
            },
            "marker": {
             "line": {
              "color": "#E5ECF6",
              "width": 0.5
             }
            },
            "type": "bar"
           }
          ],
          "barpolar": [
           {
            "marker": {
             "line": {
              "color": "#E5ECF6",
              "width": 0.5
             }
            },
            "type": "barpolar"
           }
          ],
          "carpet": [
           {
            "aaxis": {
             "endlinecolor": "#2a3f5f",
             "gridcolor": "white",
             "linecolor": "white",
             "minorgridcolor": "white",
             "startlinecolor": "#2a3f5f"
            },
            "baxis": {
             "endlinecolor": "#2a3f5f",
             "gridcolor": "white",
             "linecolor": "white",
             "minorgridcolor": "white",
             "startlinecolor": "#2a3f5f"
            },
            "type": "carpet"
           }
          ],
          "choropleth": [
           {
            "colorbar": {
             "outlinewidth": 0,
             "ticks": ""
            },
            "type": "choropleth"
           }
          ],
          "contour": [
           {
            "colorbar": {
             "outlinewidth": 0,
             "ticks": ""
            },
            "colorscale": [
             [
              0,
              "#0d0887"
             ],
             [
              0.1111111111111111,
              "#46039f"
             ],
             [
              0.2222222222222222,
              "#7201a8"
             ],
             [
              0.3333333333333333,
              "#9c179e"
             ],
             [
              0.4444444444444444,
              "#bd3786"
             ],
             [
              0.5555555555555556,
              "#d8576b"
             ],
             [
              0.6666666666666666,
              "#ed7953"
             ],
             [
              0.7777777777777778,
              "#fb9f3a"
             ],
             [
              0.8888888888888888,
              "#fdca26"
             ],
             [
              1,
              "#f0f921"
             ]
            ],
            "type": "contour"
           }
          ],
          "contourcarpet": [
           {
            "colorbar": {
             "outlinewidth": 0,
             "ticks": ""
            },
            "type": "contourcarpet"
           }
          ],
          "heatmap": [
           {
            "colorbar": {
             "outlinewidth": 0,
             "ticks": ""
            },
            "colorscale": [
             [
              0,
              "#0d0887"
             ],
             [
              0.1111111111111111,
              "#46039f"
             ],
             [
              0.2222222222222222,
              "#7201a8"
             ],
             [
              0.3333333333333333,
              "#9c179e"
             ],
             [
              0.4444444444444444,
              "#bd3786"
             ],
             [
              0.5555555555555556,
              "#d8576b"
             ],
             [
              0.6666666666666666,
              "#ed7953"
             ],
             [
              0.7777777777777778,
              "#fb9f3a"
             ],
             [
              0.8888888888888888,
              "#fdca26"
             ],
             [
              1,
              "#f0f921"
             ]
            ],
            "type": "heatmap"
           }
          ],
          "heatmapgl": [
           {
            "colorbar": {
             "outlinewidth": 0,
             "ticks": ""
            },
            "colorscale": [
             [
              0,
              "#0d0887"
             ],
             [
              0.1111111111111111,
              "#46039f"
             ],
             [
              0.2222222222222222,
              "#7201a8"
             ],
             [
              0.3333333333333333,
              "#9c179e"
             ],
             [
              0.4444444444444444,
              "#bd3786"
             ],
             [
              0.5555555555555556,
              "#d8576b"
             ],
             [
              0.6666666666666666,
              "#ed7953"
             ],
             [
              0.7777777777777778,
              "#fb9f3a"
             ],
             [
              0.8888888888888888,
              "#fdca26"
             ],
             [
              1,
              "#f0f921"
             ]
            ],
            "type": "heatmapgl"
           }
          ],
          "histogram": [
           {
            "marker": {
             "colorbar": {
              "outlinewidth": 0,
              "ticks": ""
             }
            },
            "type": "histogram"
           }
          ],
          "histogram2d": [
           {
            "colorbar": {
             "outlinewidth": 0,
             "ticks": ""
            },
            "colorscale": [
             [
              0,
              "#0d0887"
             ],
             [
              0.1111111111111111,
              "#46039f"
             ],
             [
              0.2222222222222222,
              "#7201a8"
             ],
             [
              0.3333333333333333,
              "#9c179e"
             ],
             [
              0.4444444444444444,
              "#bd3786"
             ],
             [
              0.5555555555555556,
              "#d8576b"
             ],
             [
              0.6666666666666666,
              "#ed7953"
             ],
             [
              0.7777777777777778,
              "#fb9f3a"
             ],
             [
              0.8888888888888888,
              "#fdca26"
             ],
             [
              1,
              "#f0f921"
             ]
            ],
            "type": "histogram2d"
           }
          ],
          "histogram2dcontour": [
           {
            "colorbar": {
             "outlinewidth": 0,
             "ticks": ""
            },
            "colorscale": [
             [
              0,
              "#0d0887"
             ],
             [
              0.1111111111111111,
              "#46039f"
             ],
             [
              0.2222222222222222,
              "#7201a8"
             ],
             [
              0.3333333333333333,
              "#9c179e"
             ],
             [
              0.4444444444444444,
              "#bd3786"
             ],
             [
              0.5555555555555556,
              "#d8576b"
             ],
             [
              0.6666666666666666,
              "#ed7953"
             ],
             [
              0.7777777777777778,
              "#fb9f3a"
             ],
             [
              0.8888888888888888,
              "#fdca26"
             ],
             [
              1,
              "#f0f921"
             ]
            ],
            "type": "histogram2dcontour"
           }
          ],
          "mesh3d": [
           {
            "colorbar": {
             "outlinewidth": 0,
             "ticks": ""
            },
            "type": "mesh3d"
           }
          ],
          "parcoords": [
           {
            "line": {
             "colorbar": {
              "outlinewidth": 0,
              "ticks": ""
             }
            },
            "type": "parcoords"
           }
          ],
          "pie": [
           {
            "automargin": true,
            "type": "pie"
           }
          ],
          "scatter": [
           {
            "marker": {
             "colorbar": {
              "outlinewidth": 0,
              "ticks": ""
             }
            },
            "type": "scatter"
           }
          ],
          "scatter3d": [
           {
            "line": {
             "colorbar": {
              "outlinewidth": 0,
              "ticks": ""
             }
            },
            "marker": {
             "colorbar": {
              "outlinewidth": 0,
              "ticks": ""
             }
            },
            "type": "scatter3d"
           }
          ],
          "scattercarpet": [
           {
            "marker": {
             "colorbar": {
              "outlinewidth": 0,
              "ticks": ""
             }
            },
            "type": "scattercarpet"
           }
          ],
          "scattergeo": [
           {
            "marker": {
             "colorbar": {
              "outlinewidth": 0,
              "ticks": ""
             }
            },
            "type": "scattergeo"
           }
          ],
          "scattergl": [
           {
            "marker": {
             "colorbar": {
              "outlinewidth": 0,
              "ticks": ""
             }
            },
            "type": "scattergl"
           }
          ],
          "scattermapbox": [
           {
            "marker": {
             "colorbar": {
              "outlinewidth": 0,
              "ticks": ""
             }
            },
            "type": "scattermapbox"
           }
          ],
          "scatterpolar": [
           {
            "marker": {
             "colorbar": {
              "outlinewidth": 0,
              "ticks": ""
             }
            },
            "type": "scatterpolar"
           }
          ],
          "scatterpolargl": [
           {
            "marker": {
             "colorbar": {
              "outlinewidth": 0,
              "ticks": ""
             }
            },
            "type": "scatterpolargl"
           }
          ],
          "scatterternary": [
           {
            "marker": {
             "colorbar": {
              "outlinewidth": 0,
              "ticks": ""
             }
            },
            "type": "scatterternary"
           }
          ],
          "surface": [
           {
            "colorbar": {
             "outlinewidth": 0,
             "ticks": ""
            },
            "colorscale": [
             [
              0,
              "#0d0887"
             ],
             [
              0.1111111111111111,
              "#46039f"
             ],
             [
              0.2222222222222222,
              "#7201a8"
             ],
             [
              0.3333333333333333,
              "#9c179e"
             ],
             [
              0.4444444444444444,
              "#bd3786"
             ],
             [
              0.5555555555555556,
              "#d8576b"
             ],
             [
              0.6666666666666666,
              "#ed7953"
             ],
             [
              0.7777777777777778,
              "#fb9f3a"
             ],
             [
              0.8888888888888888,
              "#fdca26"
             ],
             [
              1,
              "#f0f921"
             ]
            ],
            "type": "surface"
           }
          ],
          "table": [
           {
            "cells": {
             "fill": {
              "color": "#EBF0F8"
             },
             "line": {
              "color": "white"
             }
            },
            "header": {
             "fill": {
              "color": "#C8D4E3"
             },
             "line": {
              "color": "white"
             }
            },
            "type": "table"
           }
          ]
         },
         "layout": {
          "annotationdefaults": {
           "arrowcolor": "#2a3f5f",
           "arrowhead": 0,
           "arrowwidth": 1
          },
          "coloraxis": {
           "colorbar": {
            "outlinewidth": 0,
            "ticks": ""
           }
          },
          "colorscale": {
           "diverging": [
            [
             0,
             "#8e0152"
            ],
            [
             0.1,
             "#c51b7d"
            ],
            [
             0.2,
             "#de77ae"
            ],
            [
             0.3,
             "#f1b6da"
            ],
            [
             0.4,
             "#fde0ef"
            ],
            [
             0.5,
             "#f7f7f7"
            ],
            [
             0.6,
             "#e6f5d0"
            ],
            [
             0.7,
             "#b8e186"
            ],
            [
             0.8,
             "#7fbc41"
            ],
            [
             0.9,
             "#4d9221"
            ],
            [
             1,
             "#276419"
            ]
           ],
           "sequential": [
            [
             0,
             "#0d0887"
            ],
            [
             0.1111111111111111,
             "#46039f"
            ],
            [
             0.2222222222222222,
             "#7201a8"
            ],
            [
             0.3333333333333333,
             "#9c179e"
            ],
            [
             0.4444444444444444,
             "#bd3786"
            ],
            [
             0.5555555555555556,
             "#d8576b"
            ],
            [
             0.6666666666666666,
             "#ed7953"
            ],
            [
             0.7777777777777778,
             "#fb9f3a"
            ],
            [
             0.8888888888888888,
             "#fdca26"
            ],
            [
             1,
             "#f0f921"
            ]
           ],
           "sequentialminus": [
            [
             0,
             "#0d0887"
            ],
            [
             0.1111111111111111,
             "#46039f"
            ],
            [
             0.2222222222222222,
             "#7201a8"
            ],
            [
             0.3333333333333333,
             "#9c179e"
            ],
            [
             0.4444444444444444,
             "#bd3786"
            ],
            [
             0.5555555555555556,
             "#d8576b"
            ],
            [
             0.6666666666666666,
             "#ed7953"
            ],
            [
             0.7777777777777778,
             "#fb9f3a"
            ],
            [
             0.8888888888888888,
             "#fdca26"
            ],
            [
             1,
             "#f0f921"
            ]
           ]
          },
          "colorway": [
           "#636efa",
           "#EF553B",
           "#00cc96",
           "#ab63fa",
           "#FFA15A",
           "#19d3f3",
           "#FF6692",
           "#B6E880",
           "#FF97FF",
           "#FECB52"
          ],
          "font": {
           "color": "#2a3f5f"
          },
          "geo": {
           "bgcolor": "white",
           "lakecolor": "white",
           "landcolor": "#E5ECF6",
           "showlakes": true,
           "showland": true,
           "subunitcolor": "white"
          },
          "hoverlabel": {
           "align": "left"
          },
          "hovermode": "closest",
          "mapbox": {
           "style": "light"
          },
          "paper_bgcolor": "white",
          "plot_bgcolor": "#E5ECF6",
          "polar": {
           "angularaxis": {
            "gridcolor": "white",
            "linecolor": "white",
            "ticks": ""
           },
           "bgcolor": "#E5ECF6",
           "radialaxis": {
            "gridcolor": "white",
            "linecolor": "white",
            "ticks": ""
           }
          },
          "scene": {
           "xaxis": {
            "backgroundcolor": "#E5ECF6",
            "gridcolor": "white",
            "gridwidth": 2,
            "linecolor": "white",
            "showbackground": true,
            "ticks": "",
            "zerolinecolor": "white"
           },
           "yaxis": {
            "backgroundcolor": "#E5ECF6",
            "gridcolor": "white",
            "gridwidth": 2,
            "linecolor": "white",
            "showbackground": true,
            "ticks": "",
            "zerolinecolor": "white"
           },
           "zaxis": {
            "backgroundcolor": "#E5ECF6",
            "gridcolor": "white",
            "gridwidth": 2,
            "linecolor": "white",
            "showbackground": true,
            "ticks": "",
            "zerolinecolor": "white"
           }
          },
          "shapedefaults": {
           "line": {
            "color": "#2a3f5f"
           }
          },
          "ternary": {
           "aaxis": {
            "gridcolor": "white",
            "linecolor": "white",
            "ticks": ""
           },
           "baxis": {
            "gridcolor": "white",
            "linecolor": "white",
            "ticks": ""
           },
           "bgcolor": "#E5ECF6",
           "caxis": {
            "gridcolor": "white",
            "linecolor": "white",
            "ticks": ""
           }
          },
          "title": {
           "x": 0.05
          },
          "xaxis": {
           "automargin": true,
           "gridcolor": "white",
           "linecolor": "white",
           "ticks": "",
           "title": {
            "standoff": 15
           },
           "zerolinecolor": "white",
           "zerolinewidth": 2
          },
          "yaxis": {
           "automargin": true,
           "gridcolor": "white",
           "linecolor": "white",
           "ticks": "",
           "title": {
            "standoff": 15
           },
           "zerolinecolor": "white",
           "zerolinewidth": 2
          }
         }
        },
        "title": {
         "font": {
          "color": "#4D5663"
         }
        },
        "xaxis": {
         "gridcolor": "#E1E5ED",
         "showgrid": true,
         "tickfont": {
          "color": "#4D5663"
         },
         "title": {
          "font": {
           "color": "#4D5663"
          },
          "text": ""
         },
         "zerolinecolor": "#E1E5ED"
        },
        "yaxis": {
         "gridcolor": "#E1E5ED",
         "showgrid": true,
         "tickfont": {
          "color": "#4D5663"
         },
         "title": {
          "font": {
           "color": "#4D5663"
          },
          "text": ""
         },
         "zerolinecolor": "#E1E5ED"
        }
       }
      },
      "text/html": [
       "<div>\n",
       "        \n",
       "        \n",
       "            <div id=\"e310a9f7-a139-41e3-8c52-82c6d9685e71\" class=\"plotly-graph-div\" style=\"height:525px; width:100%;\"></div>\n",
       "            <script type=\"text/javascript\">\n",
       "                require([\"plotly\"], function(Plotly) {\n",
       "                    window.PLOTLYENV=window.PLOTLYENV || {};\n",
       "                    window.PLOTLYENV.BASE_URL='https://plot.ly';\n",
       "                    \n",
       "                if (document.getElementById(\"e310a9f7-a139-41e3-8c52-82c6d9685e71\")) {\n",
       "                    Plotly.newPlot(\n",
       "                        'e310a9f7-a139-41e3-8c52-82c6d9685e71',\n",
       "                        [{\"line\": {\"color\": \"rgba(255, 153, 51, 1.0)\", \"dash\": \"solid\", \"shape\": \"linear\", \"width\": 1.3}, \"marker\": {\"size\": 6, \"symbol\": \"circle\"}, \"mode\": \"lines+markers\", \"name\": \"2020-01-17\", \"text\": \"\", \"type\": \"scatter\", \"x\": [11400.0, 11450.0, 11500.0, 11550.0, 11600.0, 11650.0, 11700.0, 11750.0, 11800.0, 11850.0, 11900.0, 11950.0, 12000.0, 12050.0, 12100.0, 12150.0, 12200.0, 12250.0, 12300.0, 12350.0, 12400.0, 12450.0, 12500.0, 12550.0, 12600.0, 12650.0, 12700.0, 12750.0, 12800.0, 12850.0, 12900.0, 12950.0, 13000.0, 13050.0, 13100.0, 13150.0, 13200.0, 13250.0, 13300.0, 13350.0, 13400.0, 13450.0, 13500.0, 13550.0, 13600.0, 13650.0, 13700.0, 13750.0, 13800.0, 13850.0, 13900.0, 13950.0, 14000.0, 14050.0, 14100.0, 14150.0, 14200.0, 14250.0, 14300.0, 14350.0, 14400.0, 14450.0, 14500.0, 14550.0, 14600.0, 14650.0, 14700.0, 14750.0, 14800.0, 14850.0, 14900.0, 14950.0, 15000.0, 15050.0, 15100.0, 15150.0, 15200.0, 15250.0, 15300.0], \"y\": [1905.8, 1856.0, 1806.3, 1756.5, 1706.8, 1657.1, 1607.5, 1557.9, 1508.3, 1458.8, 1409.3, 1359.8, 1310.4, 1261.1, 1211.8, 1162.6, 1113.5, 1064.5, 1015.7, 966.9, 918.4, 870.0, 821.8, 773.9, 726.3, 679.1, 632.5, 586.5, 541.1, 496.4, 452.6, 409.8, 368.2, 327.9, 289.2, 252.2, 217.2, 184.5, 154.5, 127.2, 103.3, 82.3, 64.1, 49.3, 37.4, 27.9, 20.6, 15.0, 10.8, 7.6, 5.4, 3.7, 2.6, 1.8, 1.3, 0.9, 0.6, 0.4, 0.3, 0.2, 0.2, 0.1, 0.1, 0.1, 0.1, 0.1, 0.1, 0.1, 0.1, 0.1, 0.1, 0.1, 0.1, 0.1, 0.1, 0.1, 0.1, 0.1, 0.1]}, {\"line\": {\"color\": \"rgba(55, 128, 191, 1.0)\", \"dash\": \"solid\", \"shape\": \"linear\", \"width\": 1.3}, \"marker\": {\"size\": 6, \"symbol\": \"circle\"}, \"mode\": \"lines+markers\", \"name\": \"2020-06-19\", \"text\": \"\", \"type\": \"scatter\", \"x\": [11400.0, 11450.0, 11500.0, 11550.0, 11600.0, 11650.0, 11700.0, 11750.0, 11800.0, 11850.0, 11900.0, 11950.0, 12000.0, 12050.0, 12100.0, 12150.0, 12200.0, 12250.0, 12300.0, 12350.0, 12400.0, 12450.0, 12500.0, 12550.0, 12600.0, 12650.0, 12700.0, 12750.0, 12800.0, 12850.0, 12900.0, 12950.0, 13000.0, 13050.0, 13100.0, 13150.0, 13200.0, 13250.0, 13300.0, 13350.0, 13400.0, 13450.0, 13500.0, 13550.0, 13600.0, 13650.0, 13700.0, 13750.0, 13800.0, 13850.0, 13900.0, 13950.0, 14000.0, 14050.0, 14100.0, 14150.0, 14200.0, 14250.0, 14300.0, 14350.0, 14400.0, 14450.0, 14500.0, 14550.0, 14600.0, 14650.0, 14700.0, 14750.0, 14800.0, 14850.0, 14900.0, 14950.0, 15000.0, 15050.0, 15100.0, 15150.0, 15200.0, 15250.0, 15300.0], \"y\": [2041.8, 1996.3, 1951.1, 1906.1, 1861.2, 1816.6, 1772.1, 1727.9, 1683.9, 1640.3, 1596.7, 1553.6, 1510.6, 1467.9, 1425.6, 1383.4, 1341.6, 1300.0, 1259.0, 1218.2, 1177.8, 1137.8, 1098.2, 1059.0, 1020.2, 982.0, 944.1, 906.6, 869.7, 833.5, 797.6, 762.4, 727.9, 693.9, 660.6, 627.9, 596.1, 564.9, 534.5, 505.2, 476.4, 448.6, 421.5, 395.6, 370.4, 345.9, 322.5, 299.9, 278.2, 257.6, 238.0, 219.4, 201.5, 184.7, 168.8, 154.1, 140.3, 127.1, 115.3, 103.9, 93.7, 84.0, 75.2, 67.0, 59.7, 52.9, 47.0, 41.5, 36.7, 32.2, 28.5, 25.1, 22.0, \"\", \"\", \"\", \"\", \"\", \"\"]}, {\"line\": {\"color\": \"rgba(50, 171, 96, 1.0)\", \"dash\": \"solid\", \"shape\": \"linear\", \"width\": 1.3}, \"marker\": {\"size\": 6, \"symbol\": \"circle\"}, \"mode\": \"lines+markers\", \"name\": \"2021-06-18\", \"text\": \"\", \"type\": \"scatter\", \"x\": [11400.0, 11450.0, 11500.0, 11550.0, 11600.0, 11650.0, 11700.0, 11750.0, 11800.0, 11850.0, 11900.0, 11950.0, 12000.0, 12050.0, 12100.0, 12150.0, 12200.0, 12250.0, 12300.0, 12350.0, 12400.0, 12450.0, 12500.0, 12550.0, 12600.0, 12650.0, 12700.0, 12750.0, 12800.0, 12850.0, 12900.0, 12950.0, 13000.0, 13050.0, 13100.0, 13150.0, 13200.0, 13250.0, 13300.0, 13350.0, 13400.0, 13450.0, 13500.0, 13550.0, 13600.0, 13650.0, 13700.0, 13750.0, 13800.0, 13850.0, 13900.0, 13950.0, 14000.0, 14050.0, 14100.0, 14150.0, 14200.0, 14250.0, 14300.0, 14350.0, 14400.0, 14450.0, 14500.0, 14550.0, 14600.0, 14650.0, 14700.0, 14750.0, 14800.0, 14850.0, 14900.0, 14950.0, 15000.0, 15050.0, 15100.0, 15150.0, 15200.0, 15250.0, 15300.0], \"y\": [2350.3, \"\", 2269.9, 2230.2, 2191.0, 2151.7, 2112.0, 2073.2, 2034.7, 1996.6, 1958.4, 1920.8, 1883.2, 1845.5, 1809.0, 1771.9, 1735.4, 1699.4, 1663.4, 1627.9, 1592.5, 1557.6, 1522.7, 1488.3, 1454.6, 1420.6, 1387.1, 1354.2, 1321.3, 1289.1, 1256.7, 1225.1, 1193.4, 1162.3, 1131.8, 1101.4, 1071.5, 1042.4, 1013.8, 985.2, 956.9, 929.4, 902.5, 875.6, 849.4, 823.7, 798.1, 773.1, 748.1, 723.7, 700.0, 677.0, 654.5, 632.1, 610.4, 588.5, 567.8, \"\", 527.7, \"\", 488.6, \"\", \"\", \"\", 417.3, \"\", \"\", \"\", 352.9, \"\", \"\", \"\", 295.9, \"\", \"\", \"\", 245.7, \"\", \"\"]}],\n",
       "                        {\"legend\": {\"bgcolor\": \"#F5F6F9\", \"font\": {\"color\": \"#4D5663\"}}, \"paper_bgcolor\": \"#F5F6F9\", \"plot_bgcolor\": \"#F5F6F9\", \"template\": {\"data\": {\"bar\": [{\"error_x\": {\"color\": \"#2a3f5f\"}, \"error_y\": {\"color\": \"#2a3f5f\"}, \"marker\": {\"line\": {\"color\": \"#E5ECF6\", \"width\": 0.5}}, \"type\": \"bar\"}], \"barpolar\": [{\"marker\": {\"line\": {\"color\": \"#E5ECF6\", \"width\": 0.5}}, \"type\": \"barpolar\"}], \"carpet\": [{\"aaxis\": {\"endlinecolor\": \"#2a3f5f\", \"gridcolor\": \"white\", \"linecolor\": \"white\", \"minorgridcolor\": \"white\", \"startlinecolor\": \"#2a3f5f\"}, \"baxis\": {\"endlinecolor\": \"#2a3f5f\", \"gridcolor\": \"white\", \"linecolor\": \"white\", \"minorgridcolor\": \"white\", \"startlinecolor\": \"#2a3f5f\"}, \"type\": \"carpet\"}], \"choropleth\": [{\"colorbar\": {\"outlinewidth\": 0, \"ticks\": \"\"}, \"type\": \"choropleth\"}], \"contour\": [{\"colorbar\": {\"outlinewidth\": 0, \"ticks\": \"\"}, \"colorscale\": [[0.0, \"#0d0887\"], [0.1111111111111111, \"#46039f\"], [0.2222222222222222, \"#7201a8\"], [0.3333333333333333, \"#9c179e\"], [0.4444444444444444, \"#bd3786\"], [0.5555555555555556, \"#d8576b\"], [0.6666666666666666, \"#ed7953\"], [0.7777777777777778, \"#fb9f3a\"], [0.8888888888888888, \"#fdca26\"], [1.0, \"#f0f921\"]], \"type\": \"contour\"}], \"contourcarpet\": [{\"colorbar\": {\"outlinewidth\": 0, \"ticks\": \"\"}, \"type\": \"contourcarpet\"}], \"heatmap\": [{\"colorbar\": {\"outlinewidth\": 0, \"ticks\": \"\"}, \"colorscale\": [[0.0, \"#0d0887\"], [0.1111111111111111, \"#46039f\"], [0.2222222222222222, \"#7201a8\"], [0.3333333333333333, \"#9c179e\"], [0.4444444444444444, \"#bd3786\"], [0.5555555555555556, \"#d8576b\"], [0.6666666666666666, \"#ed7953\"], [0.7777777777777778, \"#fb9f3a\"], [0.8888888888888888, \"#fdca26\"], [1.0, \"#f0f921\"]], \"type\": \"heatmap\"}], \"heatmapgl\": [{\"colorbar\": {\"outlinewidth\": 0, \"ticks\": \"\"}, \"colorscale\": [[0.0, \"#0d0887\"], [0.1111111111111111, \"#46039f\"], [0.2222222222222222, \"#7201a8\"], [0.3333333333333333, \"#9c179e\"], [0.4444444444444444, \"#bd3786\"], [0.5555555555555556, \"#d8576b\"], [0.6666666666666666, \"#ed7953\"], [0.7777777777777778, \"#fb9f3a\"], [0.8888888888888888, \"#fdca26\"], [1.0, \"#f0f921\"]], \"type\": \"heatmapgl\"}], \"histogram\": [{\"marker\": {\"colorbar\": {\"outlinewidth\": 0, \"ticks\": \"\"}}, \"type\": \"histogram\"}], \"histogram2d\": [{\"colorbar\": {\"outlinewidth\": 0, \"ticks\": \"\"}, \"colorscale\": [[0.0, \"#0d0887\"], [0.1111111111111111, \"#46039f\"], [0.2222222222222222, \"#7201a8\"], [0.3333333333333333, \"#9c179e\"], [0.4444444444444444, \"#bd3786\"], [0.5555555555555556, \"#d8576b\"], [0.6666666666666666, \"#ed7953\"], [0.7777777777777778, \"#fb9f3a\"], [0.8888888888888888, \"#fdca26\"], [1.0, \"#f0f921\"]], \"type\": \"histogram2d\"}], \"histogram2dcontour\": [{\"colorbar\": {\"outlinewidth\": 0, \"ticks\": \"\"}, \"colorscale\": [[0.0, \"#0d0887\"], [0.1111111111111111, \"#46039f\"], [0.2222222222222222, \"#7201a8\"], [0.3333333333333333, \"#9c179e\"], [0.4444444444444444, \"#bd3786\"], [0.5555555555555556, \"#d8576b\"], [0.6666666666666666, \"#ed7953\"], [0.7777777777777778, \"#fb9f3a\"], [0.8888888888888888, \"#fdca26\"], [1.0, \"#f0f921\"]], \"type\": \"histogram2dcontour\"}], \"mesh3d\": [{\"colorbar\": {\"outlinewidth\": 0, \"ticks\": \"\"}, \"type\": \"mesh3d\"}], \"parcoords\": [{\"line\": {\"colorbar\": {\"outlinewidth\": 0, \"ticks\": \"\"}}, \"type\": \"parcoords\"}], \"pie\": [{\"automargin\": true, \"type\": \"pie\"}], \"scatter\": [{\"marker\": {\"colorbar\": {\"outlinewidth\": 0, \"ticks\": \"\"}}, \"type\": \"scatter\"}], \"scatter3d\": [{\"line\": {\"colorbar\": {\"outlinewidth\": 0, \"ticks\": \"\"}}, \"marker\": {\"colorbar\": {\"outlinewidth\": 0, \"ticks\": \"\"}}, \"type\": \"scatter3d\"}], \"scattercarpet\": [{\"marker\": {\"colorbar\": {\"outlinewidth\": 0, \"ticks\": \"\"}}, \"type\": \"scattercarpet\"}], \"scattergeo\": [{\"marker\": {\"colorbar\": {\"outlinewidth\": 0, \"ticks\": \"\"}}, \"type\": \"scattergeo\"}], \"scattergl\": [{\"marker\": {\"colorbar\": {\"outlinewidth\": 0, \"ticks\": \"\"}}, \"type\": \"scattergl\"}], \"scattermapbox\": [{\"marker\": {\"colorbar\": {\"outlinewidth\": 0, \"ticks\": \"\"}}, \"type\": \"scattermapbox\"}], \"scatterpolar\": [{\"marker\": {\"colorbar\": {\"outlinewidth\": 0, \"ticks\": \"\"}}, \"type\": \"scatterpolar\"}], \"scatterpolargl\": [{\"marker\": {\"colorbar\": {\"outlinewidth\": 0, \"ticks\": \"\"}}, \"type\": \"scatterpolargl\"}], \"scatterternary\": [{\"marker\": {\"colorbar\": {\"outlinewidth\": 0, \"ticks\": \"\"}}, \"type\": \"scatterternary\"}], \"surface\": [{\"colorbar\": {\"outlinewidth\": 0, \"ticks\": \"\"}, \"colorscale\": [[0.0, \"#0d0887\"], [0.1111111111111111, \"#46039f\"], [0.2222222222222222, \"#7201a8\"], [0.3333333333333333, \"#9c179e\"], [0.4444444444444444, \"#bd3786\"], [0.5555555555555556, \"#d8576b\"], [0.6666666666666666, \"#ed7953\"], [0.7777777777777778, \"#fb9f3a\"], [0.8888888888888888, \"#fdca26\"], [1.0, \"#f0f921\"]], \"type\": \"surface\"}], \"table\": [{\"cells\": {\"fill\": {\"color\": \"#EBF0F8\"}, \"line\": {\"color\": \"white\"}}, \"header\": {\"fill\": {\"color\": \"#C8D4E3\"}, \"line\": {\"color\": \"white\"}}, \"type\": \"table\"}]}, \"layout\": {\"annotationdefaults\": {\"arrowcolor\": \"#2a3f5f\", \"arrowhead\": 0, \"arrowwidth\": 1}, \"coloraxis\": {\"colorbar\": {\"outlinewidth\": 0, \"ticks\": \"\"}}, \"colorscale\": {\"diverging\": [[0, \"#8e0152\"], [0.1, \"#c51b7d\"], [0.2, \"#de77ae\"], [0.3, \"#f1b6da\"], [0.4, \"#fde0ef\"], [0.5, \"#f7f7f7\"], [0.6, \"#e6f5d0\"], [0.7, \"#b8e186\"], [0.8, \"#7fbc41\"], [0.9, \"#4d9221\"], [1, \"#276419\"]], \"sequential\": [[0.0, \"#0d0887\"], [0.1111111111111111, \"#46039f\"], [0.2222222222222222, \"#7201a8\"], [0.3333333333333333, \"#9c179e\"], [0.4444444444444444, \"#bd3786\"], [0.5555555555555556, \"#d8576b\"], [0.6666666666666666, \"#ed7953\"], [0.7777777777777778, \"#fb9f3a\"], [0.8888888888888888, \"#fdca26\"], [1.0, \"#f0f921\"]], \"sequentialminus\": [[0.0, \"#0d0887\"], [0.1111111111111111, \"#46039f\"], [0.2222222222222222, \"#7201a8\"], [0.3333333333333333, \"#9c179e\"], [0.4444444444444444, \"#bd3786\"], [0.5555555555555556, \"#d8576b\"], [0.6666666666666666, \"#ed7953\"], [0.7777777777777778, \"#fb9f3a\"], [0.8888888888888888, \"#fdca26\"], [1.0, \"#f0f921\"]]}, \"colorway\": [\"#636efa\", \"#EF553B\", \"#00cc96\", \"#ab63fa\", \"#FFA15A\", \"#19d3f3\", \"#FF6692\", \"#B6E880\", \"#FF97FF\", \"#FECB52\"], \"font\": {\"color\": \"#2a3f5f\"}, \"geo\": {\"bgcolor\": \"white\", \"lakecolor\": \"white\", \"landcolor\": \"#E5ECF6\", \"showlakes\": true, \"showland\": true, \"subunitcolor\": \"white\"}, \"hoverlabel\": {\"align\": \"left\"}, \"hovermode\": \"closest\", \"mapbox\": {\"style\": \"light\"}, \"paper_bgcolor\": \"white\", \"plot_bgcolor\": \"#E5ECF6\", \"polar\": {\"angularaxis\": {\"gridcolor\": \"white\", \"linecolor\": \"white\", \"ticks\": \"\"}, \"bgcolor\": \"#E5ECF6\", \"radialaxis\": {\"gridcolor\": \"white\", \"linecolor\": \"white\", \"ticks\": \"\"}}, \"scene\": {\"xaxis\": {\"backgroundcolor\": \"#E5ECF6\", \"gridcolor\": \"white\", \"gridwidth\": 2, \"linecolor\": \"white\", \"showbackground\": true, \"ticks\": \"\", \"zerolinecolor\": \"white\"}, \"yaxis\": {\"backgroundcolor\": \"#E5ECF6\", \"gridcolor\": \"white\", \"gridwidth\": 2, \"linecolor\": \"white\", \"showbackground\": true, \"ticks\": \"\", \"zerolinecolor\": \"white\"}, \"zaxis\": {\"backgroundcolor\": \"#E5ECF6\", \"gridcolor\": \"white\", \"gridwidth\": 2, \"linecolor\": \"white\", \"showbackground\": true, \"ticks\": \"\", \"zerolinecolor\": \"white\"}}, \"shapedefaults\": {\"line\": {\"color\": \"#2a3f5f\"}}, \"ternary\": {\"aaxis\": {\"gridcolor\": \"white\", \"linecolor\": \"white\", \"ticks\": \"\"}, \"baxis\": {\"gridcolor\": \"white\", \"linecolor\": \"white\", \"ticks\": \"\"}, \"bgcolor\": \"#E5ECF6\", \"caxis\": {\"gridcolor\": \"white\", \"linecolor\": \"white\", \"ticks\": \"\"}}, \"title\": {\"x\": 0.05}, \"xaxis\": {\"automargin\": true, \"gridcolor\": \"white\", \"linecolor\": \"white\", \"ticks\": \"\", \"title\": {\"standoff\": 15}, \"zerolinecolor\": \"white\", \"zerolinewidth\": 2}, \"yaxis\": {\"automargin\": true, \"gridcolor\": \"white\", \"linecolor\": \"white\", \"ticks\": \"\", \"title\": {\"standoff\": 15}, \"zerolinecolor\": \"white\", \"zerolinewidth\": 2}}}, \"title\": {\"font\": {\"color\": \"#4D5663\"}}, \"xaxis\": {\"gridcolor\": \"#E1E5ED\", \"showgrid\": true, \"tickfont\": {\"color\": \"#4D5663\"}, \"title\": {\"font\": {\"color\": \"#4D5663\"}, \"text\": \"\"}, \"zerolinecolor\": \"#E1E5ED\"}, \"yaxis\": {\"gridcolor\": \"#E1E5ED\", \"showgrid\": true, \"tickfont\": {\"color\": \"#4D5663\"}, \"title\": {\"font\": {\"color\": \"#4D5663\"}, \"text\": \"\"}, \"zerolinecolor\": \"#E1E5ED\"}},\n",
       "                        {\"showLink\": true, \"linkText\": \"Export to plot.ly\", \"plotlyServerURL\": \"https://plot.ly\", \"responsive\": true}\n",
       "                    ).then(function(){\n",
       "                            \n",
       "var gd = document.getElementById('e310a9f7-a139-41e3-8c52-82c6d9685e71');\n",
       "var x = new MutationObserver(function (mutations, observer) {{\n",
       "        var display = window.getComputedStyle(gd).display;\n",
       "        if (!display || display === 'none') {{\n",
       "            console.log([gd, 'removed!']);\n",
       "            Plotly.purge(gd);\n",
       "            observer.disconnect();\n",
       "        }}\n",
       "}});\n",
       "\n",
       "// Listen for the removal of the full notebook cells\n",
       "var notebookContainer = gd.closest('#notebook-container');\n",
       "if (notebookContainer) {{\n",
       "    x.observe(notebookContainer, {childList: true});\n",
       "}}\n",
       "\n",
       "// Listen for the clearing of the current output cell\n",
       "var outputEl = gd.closest('.output');\n",
       "if (outputEl) {{\n",
       "    x.observe(outputEl, {childList: true});\n",
       "}}\n",
       "\n",
       "                        })\n",
       "                };\n",
       "                });\n",
       "            </script>\n",
       "        </div>"
      ]
     },
     "metadata": {},
     "output_type": "display_data"
    }
   ],
   "source": [
    "calls_close.iplot(mode='lines+markers', size=6)"
   ]
  },
  {
   "cell_type": "code",
   "execution_count": 40,
   "metadata": {},
   "outputs": [
    {
     "data": {
      "application/vnd.plotly.v1+json": {
       "config": {
        "linkText": "Export to plot.ly",
        "plotlyServerURL": "https://plot.ly",
        "showLink": true
       },
       "data": [
        {
         "line": {
          "color": "rgba(255, 153, 51, 1.0)",
          "dash": "solid",
          "shape": "linear",
          "width": 1.3
         },
         "marker": {
          "size": 6,
          "symbol": "circle"
         },
         "mode": "lines+markers",
         "name": "2020-01-17",
         "text": "",
         "type": "scatter",
         "x": [
          11400,
          11450,
          11500,
          11550,
          11600,
          11650,
          11700,
          11750,
          11800,
          11850,
          11900,
          11950,
          12000,
          12050,
          12100,
          12150,
          12200,
          12250,
          12300,
          12350,
          12400,
          12450,
          12500,
          12550,
          12600,
          12650,
          12700,
          12750,
          12800,
          12850,
          12900,
          12950,
          13000,
          13050,
          13100,
          13150,
          13200,
          13250,
          13300,
          13350,
          13400,
          13450,
          13500,
          13550,
          13600,
          13650,
          13700,
          13750,
          13800,
          13850,
          13900,
          13950,
          14000,
          14050,
          14100,
          14150,
          14200,
          14250,
          14300,
          14350,
          14400,
          14450,
          14500,
          14550,
          14600,
          14650,
          14700,
          14750,
          14800,
          14850,
          14900,
          14950,
          15000,
          15050,
          15100,
          15150,
          15200,
          15250,
          15300
         ],
         "y": [
          22.72,
          22.17,
          21.63,
          21.09,
          22.31,
          21.71,
          22.24,
          21.61,
          20.98,
          21.17,
          20.52,
          20.53,
          20.94,
          19.73,
          19.53,
          19.65,
          18.53,
          18.19,
          17.8,
          17.96,
          17.45,
          17.15,
          16.78,
          16.36,
          15.89,
          15.54,
          14.96,
          14.63,
          14.48,
          14.1,
          13.62,
          13.38,
          13.2,
          12.72,
          12.5,
          12.12,
          11.79,
          11.48,
          11.26,
          10.99,
          10.79,
          10.52,
          10.32,
          10.15,
          10.03,
          9.93,
          9.88,
          9.81,
          9.77,
          9.75,
          9.74,
          9.74,
          9.8,
          9.81,
          9.83,
          9.87,
          10.21,
          10.43,
          10.69,
          11.03,
          11.48,
          11.93,
          12.38,
          10.99,
          11.37,
          11.75,
          12.13,
          12.51,
          12.88,
          13.26,
          13.63,
          14,
          14.36,
          14.73,
          15.09,
          15.45,
          15.81,
          16.17,
          16.52
         ]
        },
        {
         "line": {
          "color": "rgba(55, 128, 191, 1.0)",
          "dash": "solid",
          "shape": "linear",
          "width": 1.3
         },
         "marker": {
          "size": 6,
          "symbol": "circle"
         },
         "mode": "lines+markers",
         "name": "2020-06-19",
         "text": "",
         "type": "scatter",
         "x": [
          11400,
          11450,
          11500,
          11550,
          11600,
          11650,
          11700,
          11750,
          11800,
          11850,
          11900,
          11950,
          12000,
          12050,
          12100,
          12150,
          12200,
          12250,
          12300,
          12350,
          12400,
          12450,
          12500,
          12550,
          12600,
          12650,
          12700,
          12750,
          12800,
          12850,
          12900,
          12950,
          13000,
          13050,
          13100,
          13150,
          13200,
          13250,
          13300,
          13350,
          13400,
          13450,
          13500,
          13550,
          13600,
          13650,
          13700,
          13750,
          13800,
          13850,
          13900,
          13950,
          14000,
          14050,
          14100,
          14150,
          14200,
          14250,
          14300,
          14350,
          14400,
          14450,
          14500,
          14550,
          14600,
          14650,
          14700,
          14750,
          14800,
          14850,
          14900,
          14950,
          15000,
          15050,
          15100,
          15150,
          15200,
          15250,
          15300
         ],
         "y": [
          20.37,
          20.23,
          20.07,
          19.91,
          19.74,
          19.56,
          19.42,
          19.24,
          19.07,
          18.92,
          18.76,
          18.6,
          18.44,
          18.26,
          18.11,
          17.91,
          17.78,
          17.6,
          17.44,
          17.26,
          17.11,
          16.95,
          16.77,
          16.62,
          16.45,
          16.29,
          16.12,
          15.96,
          15.8,
          15.64,
          15.48,
          15.31,
          15.15,
          14.99,
          14.84,
          14.67,
          14.4,
          14.36,
          14.19,
          14.06,
          13.9,
          13.75,
          13.61,
          13.45,
          13.32,
          13.16,
          13.04,
          12.9,
          12.77,
          12.63,
          12.5,
          12.37,
          12.24,
          12.13,
          12,
          11.88,
          11.77,
          11.67,
          11.54,
          11.45,
          11.33,
          11.24,
          11.15,
          11.05,
          10.97,
          10.89,
          10.8,
          10.73,
          10.67,
          10.59,
          10.54,
          10.48,
          10.41,
          "",
          "",
          "",
          "",
          "",
          ""
         ]
        },
        {
         "line": {
          "color": "rgba(50, 171, 96, 1.0)",
          "dash": "solid",
          "shape": "linear",
          "width": 1.3
         },
         "marker": {
          "size": 6,
          "symbol": "circle"
         },
         "mode": "lines+markers",
         "name": "2021-06-18",
         "text": "",
         "type": "scatter",
         "x": [
          11400,
          11450,
          11500,
          11550,
          11600,
          11650,
          11700,
          11750,
          11800,
          11850,
          11900,
          11950,
          12000,
          12050,
          12100,
          12150,
          12200,
          12250,
          12300,
          12350,
          12400,
          12450,
          12500,
          12550,
          12600,
          12650,
          12700,
          12750,
          12800,
          12850,
          12900,
          12950,
          13000,
          13050,
          13100,
          13150,
          13200,
          13250,
          13300,
          13350,
          13400,
          13450,
          13500,
          13550,
          13600,
          13650,
          13700,
          13750,
          13800,
          13850,
          13900,
          13950,
          14000,
          14050,
          14100,
          14150,
          14200,
          14250,
          14300,
          14350,
          14400,
          14450,
          14500,
          14550,
          14600,
          14650,
          14700,
          14750,
          14800,
          14850,
          14900,
          14950,
          15000,
          15050,
          15100,
          15150,
          15200,
          15250,
          15300
         ],
         "y": [
          19.28,
          "",
          19.09,
          18.98,
          18.88,
          18.79,
          18.69,
          18.59,
          18.49,
          18.39,
          18.29,
          18.19,
          18.1,
          18.01,
          17.91,
          17.81,
          17.72,
          17.63,
          17.53,
          17.43,
          17.34,
          17.24,
          17.16,
          17.05,
          16.96,
          16.87,
          16.77,
          16.69,
          16.59,
          16.51,
          16.42,
          16.32,
          16.23,
          16.14,
          16.06,
          15.97,
          15.88,
          15.8,
          15.64,
          15.56,
          15.47,
          15.39,
          15.31,
          15.23,
          15.14,
          15.06,
          14.99,
          14.91,
          14.83,
          14.75,
          14.68,
          14.6,
          14.46,
          14.45,
          14.37,
          14.29,
          14.22,
          "",
          14.08,
          "",
          13.94,
          "",
          "",
          "",
          13.66,
          "",
          "",
          "",
          13.39,
          "",
          "",
          "",
          13.14,
          "",
          "",
          "",
          12.9,
          "",
          ""
         ]
        }
       ],
       "layout": {
        "legend": {
         "bgcolor": "#F5F6F9",
         "font": {
          "color": "#4D5663"
         }
        },
        "paper_bgcolor": "#F5F6F9",
        "plot_bgcolor": "#F5F6F9",
        "template": {
         "data": {
          "bar": [
           {
            "error_x": {
             "color": "#2a3f5f"
            },
            "error_y": {
             "color": "#2a3f5f"
            },
            "marker": {
             "line": {
              "color": "#E5ECF6",
              "width": 0.5
             }
            },
            "type": "bar"
           }
          ],
          "barpolar": [
           {
            "marker": {
             "line": {
              "color": "#E5ECF6",
              "width": 0.5
             }
            },
            "type": "barpolar"
           }
          ],
          "carpet": [
           {
            "aaxis": {
             "endlinecolor": "#2a3f5f",
             "gridcolor": "white",
             "linecolor": "white",
             "minorgridcolor": "white",
             "startlinecolor": "#2a3f5f"
            },
            "baxis": {
             "endlinecolor": "#2a3f5f",
             "gridcolor": "white",
             "linecolor": "white",
             "minorgridcolor": "white",
             "startlinecolor": "#2a3f5f"
            },
            "type": "carpet"
           }
          ],
          "choropleth": [
           {
            "colorbar": {
             "outlinewidth": 0,
             "ticks": ""
            },
            "type": "choropleth"
           }
          ],
          "contour": [
           {
            "colorbar": {
             "outlinewidth": 0,
             "ticks": ""
            },
            "colorscale": [
             [
              0,
              "#0d0887"
             ],
             [
              0.1111111111111111,
              "#46039f"
             ],
             [
              0.2222222222222222,
              "#7201a8"
             ],
             [
              0.3333333333333333,
              "#9c179e"
             ],
             [
              0.4444444444444444,
              "#bd3786"
             ],
             [
              0.5555555555555556,
              "#d8576b"
             ],
             [
              0.6666666666666666,
              "#ed7953"
             ],
             [
              0.7777777777777778,
              "#fb9f3a"
             ],
             [
              0.8888888888888888,
              "#fdca26"
             ],
             [
              1,
              "#f0f921"
             ]
            ],
            "type": "contour"
           }
          ],
          "contourcarpet": [
           {
            "colorbar": {
             "outlinewidth": 0,
             "ticks": ""
            },
            "type": "contourcarpet"
           }
          ],
          "heatmap": [
           {
            "colorbar": {
             "outlinewidth": 0,
             "ticks": ""
            },
            "colorscale": [
             [
              0,
              "#0d0887"
             ],
             [
              0.1111111111111111,
              "#46039f"
             ],
             [
              0.2222222222222222,
              "#7201a8"
             ],
             [
              0.3333333333333333,
              "#9c179e"
             ],
             [
              0.4444444444444444,
              "#bd3786"
             ],
             [
              0.5555555555555556,
              "#d8576b"
             ],
             [
              0.6666666666666666,
              "#ed7953"
             ],
             [
              0.7777777777777778,
              "#fb9f3a"
             ],
             [
              0.8888888888888888,
              "#fdca26"
             ],
             [
              1,
              "#f0f921"
             ]
            ],
            "type": "heatmap"
           }
          ],
          "heatmapgl": [
           {
            "colorbar": {
             "outlinewidth": 0,
             "ticks": ""
            },
            "colorscale": [
             [
              0,
              "#0d0887"
             ],
             [
              0.1111111111111111,
              "#46039f"
             ],
             [
              0.2222222222222222,
              "#7201a8"
             ],
             [
              0.3333333333333333,
              "#9c179e"
             ],
             [
              0.4444444444444444,
              "#bd3786"
             ],
             [
              0.5555555555555556,
              "#d8576b"
             ],
             [
              0.6666666666666666,
              "#ed7953"
             ],
             [
              0.7777777777777778,
              "#fb9f3a"
             ],
             [
              0.8888888888888888,
              "#fdca26"
             ],
             [
              1,
              "#f0f921"
             ]
            ],
            "type": "heatmapgl"
           }
          ],
          "histogram": [
           {
            "marker": {
             "colorbar": {
              "outlinewidth": 0,
              "ticks": ""
             }
            },
            "type": "histogram"
           }
          ],
          "histogram2d": [
           {
            "colorbar": {
             "outlinewidth": 0,
             "ticks": ""
            },
            "colorscale": [
             [
              0,
              "#0d0887"
             ],
             [
              0.1111111111111111,
              "#46039f"
             ],
             [
              0.2222222222222222,
              "#7201a8"
             ],
             [
              0.3333333333333333,
              "#9c179e"
             ],
             [
              0.4444444444444444,
              "#bd3786"
             ],
             [
              0.5555555555555556,
              "#d8576b"
             ],
             [
              0.6666666666666666,
              "#ed7953"
             ],
             [
              0.7777777777777778,
              "#fb9f3a"
             ],
             [
              0.8888888888888888,
              "#fdca26"
             ],
             [
              1,
              "#f0f921"
             ]
            ],
            "type": "histogram2d"
           }
          ],
          "histogram2dcontour": [
           {
            "colorbar": {
             "outlinewidth": 0,
             "ticks": ""
            },
            "colorscale": [
             [
              0,
              "#0d0887"
             ],
             [
              0.1111111111111111,
              "#46039f"
             ],
             [
              0.2222222222222222,
              "#7201a8"
             ],
             [
              0.3333333333333333,
              "#9c179e"
             ],
             [
              0.4444444444444444,
              "#bd3786"
             ],
             [
              0.5555555555555556,
              "#d8576b"
             ],
             [
              0.6666666666666666,
              "#ed7953"
             ],
             [
              0.7777777777777778,
              "#fb9f3a"
             ],
             [
              0.8888888888888888,
              "#fdca26"
             ],
             [
              1,
              "#f0f921"
             ]
            ],
            "type": "histogram2dcontour"
           }
          ],
          "mesh3d": [
           {
            "colorbar": {
             "outlinewidth": 0,
             "ticks": ""
            },
            "type": "mesh3d"
           }
          ],
          "parcoords": [
           {
            "line": {
             "colorbar": {
              "outlinewidth": 0,
              "ticks": ""
             }
            },
            "type": "parcoords"
           }
          ],
          "pie": [
           {
            "automargin": true,
            "type": "pie"
           }
          ],
          "scatter": [
           {
            "marker": {
             "colorbar": {
              "outlinewidth": 0,
              "ticks": ""
             }
            },
            "type": "scatter"
           }
          ],
          "scatter3d": [
           {
            "line": {
             "colorbar": {
              "outlinewidth": 0,
              "ticks": ""
             }
            },
            "marker": {
             "colorbar": {
              "outlinewidth": 0,
              "ticks": ""
             }
            },
            "type": "scatter3d"
           }
          ],
          "scattercarpet": [
           {
            "marker": {
             "colorbar": {
              "outlinewidth": 0,
              "ticks": ""
             }
            },
            "type": "scattercarpet"
           }
          ],
          "scattergeo": [
           {
            "marker": {
             "colorbar": {
              "outlinewidth": 0,
              "ticks": ""
             }
            },
            "type": "scattergeo"
           }
          ],
          "scattergl": [
           {
            "marker": {
             "colorbar": {
              "outlinewidth": 0,
              "ticks": ""
             }
            },
            "type": "scattergl"
           }
          ],
          "scattermapbox": [
           {
            "marker": {
             "colorbar": {
              "outlinewidth": 0,
              "ticks": ""
             }
            },
            "type": "scattermapbox"
           }
          ],
          "scatterpolar": [
           {
            "marker": {
             "colorbar": {
              "outlinewidth": 0,
              "ticks": ""
             }
            },
            "type": "scatterpolar"
           }
          ],
          "scatterpolargl": [
           {
            "marker": {
             "colorbar": {
              "outlinewidth": 0,
              "ticks": ""
             }
            },
            "type": "scatterpolargl"
           }
          ],
          "scatterternary": [
           {
            "marker": {
             "colorbar": {
              "outlinewidth": 0,
              "ticks": ""
             }
            },
            "type": "scatterternary"
           }
          ],
          "surface": [
           {
            "colorbar": {
             "outlinewidth": 0,
             "ticks": ""
            },
            "colorscale": [
             [
              0,
              "#0d0887"
             ],
             [
              0.1111111111111111,
              "#46039f"
             ],
             [
              0.2222222222222222,
              "#7201a8"
             ],
             [
              0.3333333333333333,
              "#9c179e"
             ],
             [
              0.4444444444444444,
              "#bd3786"
             ],
             [
              0.5555555555555556,
              "#d8576b"
             ],
             [
              0.6666666666666666,
              "#ed7953"
             ],
             [
              0.7777777777777778,
              "#fb9f3a"
             ],
             [
              0.8888888888888888,
              "#fdca26"
             ],
             [
              1,
              "#f0f921"
             ]
            ],
            "type": "surface"
           }
          ],
          "table": [
           {
            "cells": {
             "fill": {
              "color": "#EBF0F8"
             },
             "line": {
              "color": "white"
             }
            },
            "header": {
             "fill": {
              "color": "#C8D4E3"
             },
             "line": {
              "color": "white"
             }
            },
            "type": "table"
           }
          ]
         },
         "layout": {
          "annotationdefaults": {
           "arrowcolor": "#2a3f5f",
           "arrowhead": 0,
           "arrowwidth": 1
          },
          "coloraxis": {
           "colorbar": {
            "outlinewidth": 0,
            "ticks": ""
           }
          },
          "colorscale": {
           "diverging": [
            [
             0,
             "#8e0152"
            ],
            [
             0.1,
             "#c51b7d"
            ],
            [
             0.2,
             "#de77ae"
            ],
            [
             0.3,
             "#f1b6da"
            ],
            [
             0.4,
             "#fde0ef"
            ],
            [
             0.5,
             "#f7f7f7"
            ],
            [
             0.6,
             "#e6f5d0"
            ],
            [
             0.7,
             "#b8e186"
            ],
            [
             0.8,
             "#7fbc41"
            ],
            [
             0.9,
             "#4d9221"
            ],
            [
             1,
             "#276419"
            ]
           ],
           "sequential": [
            [
             0,
             "#0d0887"
            ],
            [
             0.1111111111111111,
             "#46039f"
            ],
            [
             0.2222222222222222,
             "#7201a8"
            ],
            [
             0.3333333333333333,
             "#9c179e"
            ],
            [
             0.4444444444444444,
             "#bd3786"
            ],
            [
             0.5555555555555556,
             "#d8576b"
            ],
            [
             0.6666666666666666,
             "#ed7953"
            ],
            [
             0.7777777777777778,
             "#fb9f3a"
            ],
            [
             0.8888888888888888,
             "#fdca26"
            ],
            [
             1,
             "#f0f921"
            ]
           ],
           "sequentialminus": [
            [
             0,
             "#0d0887"
            ],
            [
             0.1111111111111111,
             "#46039f"
            ],
            [
             0.2222222222222222,
             "#7201a8"
            ],
            [
             0.3333333333333333,
             "#9c179e"
            ],
            [
             0.4444444444444444,
             "#bd3786"
            ],
            [
             0.5555555555555556,
             "#d8576b"
            ],
            [
             0.6666666666666666,
             "#ed7953"
            ],
            [
             0.7777777777777778,
             "#fb9f3a"
            ],
            [
             0.8888888888888888,
             "#fdca26"
            ],
            [
             1,
             "#f0f921"
            ]
           ]
          },
          "colorway": [
           "#636efa",
           "#EF553B",
           "#00cc96",
           "#ab63fa",
           "#FFA15A",
           "#19d3f3",
           "#FF6692",
           "#B6E880",
           "#FF97FF",
           "#FECB52"
          ],
          "font": {
           "color": "#2a3f5f"
          },
          "geo": {
           "bgcolor": "white",
           "lakecolor": "white",
           "landcolor": "#E5ECF6",
           "showlakes": true,
           "showland": true,
           "subunitcolor": "white"
          },
          "hoverlabel": {
           "align": "left"
          },
          "hovermode": "closest",
          "mapbox": {
           "style": "light"
          },
          "paper_bgcolor": "white",
          "plot_bgcolor": "#E5ECF6",
          "polar": {
           "angularaxis": {
            "gridcolor": "white",
            "linecolor": "white",
            "ticks": ""
           },
           "bgcolor": "#E5ECF6",
           "radialaxis": {
            "gridcolor": "white",
            "linecolor": "white",
            "ticks": ""
           }
          },
          "scene": {
           "xaxis": {
            "backgroundcolor": "#E5ECF6",
            "gridcolor": "white",
            "gridwidth": 2,
            "linecolor": "white",
            "showbackground": true,
            "ticks": "",
            "zerolinecolor": "white"
           },
           "yaxis": {
            "backgroundcolor": "#E5ECF6",
            "gridcolor": "white",
            "gridwidth": 2,
            "linecolor": "white",
            "showbackground": true,
            "ticks": "",
            "zerolinecolor": "white"
           },
           "zaxis": {
            "backgroundcolor": "#E5ECF6",
            "gridcolor": "white",
            "gridwidth": 2,
            "linecolor": "white",
            "showbackground": true,
            "ticks": "",
            "zerolinecolor": "white"
           }
          },
          "shapedefaults": {
           "line": {
            "color": "#2a3f5f"
           }
          },
          "ternary": {
           "aaxis": {
            "gridcolor": "white",
            "linecolor": "white",
            "ticks": ""
           },
           "baxis": {
            "gridcolor": "white",
            "linecolor": "white",
            "ticks": ""
           },
           "bgcolor": "#E5ECF6",
           "caxis": {
            "gridcolor": "white",
            "linecolor": "white",
            "ticks": ""
           }
          },
          "title": {
           "x": 0.05
          },
          "xaxis": {
           "automargin": true,
           "gridcolor": "white",
           "linecolor": "white",
           "ticks": "",
           "title": {
            "standoff": 15
           },
           "zerolinecolor": "white",
           "zerolinewidth": 2
          },
          "yaxis": {
           "automargin": true,
           "gridcolor": "white",
           "linecolor": "white",
           "ticks": "",
           "title": {
            "standoff": 15
           },
           "zerolinecolor": "white",
           "zerolinewidth": 2
          }
         }
        },
        "title": {
         "font": {
          "color": "#4D5663"
         }
        },
        "xaxis": {
         "gridcolor": "#E1E5ED",
         "showgrid": true,
         "tickfont": {
          "color": "#4D5663"
         },
         "title": {
          "font": {
           "color": "#4D5663"
          },
          "text": ""
         },
         "zerolinecolor": "#E1E5ED"
        },
        "yaxis": {
         "gridcolor": "#E1E5ED",
         "showgrid": true,
         "tickfont": {
          "color": "#4D5663"
         },
         "title": {
          "font": {
           "color": "#4D5663"
          },
          "text": ""
         },
         "zerolinecolor": "#E1E5ED"
        }
       }
      },
      "text/html": [
       "<div>\n",
       "        \n",
       "        \n",
       "            <div id=\"83a85f23-0c7e-4c11-ae4f-6dbc1a220e81\" class=\"plotly-graph-div\" style=\"height:525px; width:100%;\"></div>\n",
       "            <script type=\"text/javascript\">\n",
       "                require([\"plotly\"], function(Plotly) {\n",
       "                    window.PLOTLYENV=window.PLOTLYENV || {};\n",
       "                    window.PLOTLYENV.BASE_URL='https://plot.ly';\n",
       "                    \n",
       "                if (document.getElementById(\"83a85f23-0c7e-4c11-ae4f-6dbc1a220e81\")) {\n",
       "                    Plotly.newPlot(\n",
       "                        '83a85f23-0c7e-4c11-ae4f-6dbc1a220e81',\n",
       "                        [{\"line\": {\"color\": \"rgba(255, 153, 51, 1.0)\", \"dash\": \"solid\", \"shape\": \"linear\", \"width\": 1.3}, \"marker\": {\"size\": 6, \"symbol\": \"circle\"}, \"mode\": \"lines+markers\", \"name\": \"2020-01-17\", \"text\": \"\", \"type\": \"scatter\", \"x\": [11400.0, 11450.0, 11500.0, 11550.0, 11600.0, 11650.0, 11700.0, 11750.0, 11800.0, 11850.0, 11900.0, 11950.0, 12000.0, 12050.0, 12100.0, 12150.0, 12200.0, 12250.0, 12300.0, 12350.0, 12400.0, 12450.0, 12500.0, 12550.0, 12600.0, 12650.0, 12700.0, 12750.0, 12800.0, 12850.0, 12900.0, 12950.0, 13000.0, 13050.0, 13100.0, 13150.0, 13200.0, 13250.0, 13300.0, 13350.0, 13400.0, 13450.0, 13500.0, 13550.0, 13600.0, 13650.0, 13700.0, 13750.0, 13800.0, 13850.0, 13900.0, 13950.0, 14000.0, 14050.0, 14100.0, 14150.0, 14200.0, 14250.0, 14300.0, 14350.0, 14400.0, 14450.0, 14500.0, 14550.0, 14600.0, 14650.0, 14700.0, 14750.0, 14800.0, 14850.0, 14900.0, 14950.0, 15000.0, 15050.0, 15100.0, 15150.0, 15200.0, 15250.0, 15300.0], \"y\": [22.72, 22.17, 21.63, 21.09, 22.31, 21.71, 22.24, 21.61, 20.98, 21.17, 20.52, 20.53, 20.94, 19.73, 19.53, 19.65, 18.53, 18.19, 17.8, 17.96, 17.45, 17.15, 16.78, 16.36, 15.89, 15.54, 14.96, 14.63, 14.48, 14.1, 13.62, 13.38, 13.2, 12.72, 12.5, 12.12, 11.79, 11.48, 11.26, 10.99, 10.79, 10.52, 10.32, 10.15, 10.03, 9.93, 9.88, 9.81, 9.77, 9.75, 9.74, 9.74, 9.8, 9.81, 9.83, 9.87, 10.21, 10.43, 10.69, 11.03, 11.48, 11.93, 12.38, 10.99, 11.37, 11.75, 12.13, 12.51, 12.88, 13.26, 13.63, 14.0, 14.36, 14.73, 15.09, 15.45, 15.81, 16.17, 16.52]}, {\"line\": {\"color\": \"rgba(55, 128, 191, 1.0)\", \"dash\": \"solid\", \"shape\": \"linear\", \"width\": 1.3}, \"marker\": {\"size\": 6, \"symbol\": \"circle\"}, \"mode\": \"lines+markers\", \"name\": \"2020-06-19\", \"text\": \"\", \"type\": \"scatter\", \"x\": [11400.0, 11450.0, 11500.0, 11550.0, 11600.0, 11650.0, 11700.0, 11750.0, 11800.0, 11850.0, 11900.0, 11950.0, 12000.0, 12050.0, 12100.0, 12150.0, 12200.0, 12250.0, 12300.0, 12350.0, 12400.0, 12450.0, 12500.0, 12550.0, 12600.0, 12650.0, 12700.0, 12750.0, 12800.0, 12850.0, 12900.0, 12950.0, 13000.0, 13050.0, 13100.0, 13150.0, 13200.0, 13250.0, 13300.0, 13350.0, 13400.0, 13450.0, 13500.0, 13550.0, 13600.0, 13650.0, 13700.0, 13750.0, 13800.0, 13850.0, 13900.0, 13950.0, 14000.0, 14050.0, 14100.0, 14150.0, 14200.0, 14250.0, 14300.0, 14350.0, 14400.0, 14450.0, 14500.0, 14550.0, 14600.0, 14650.0, 14700.0, 14750.0, 14800.0, 14850.0, 14900.0, 14950.0, 15000.0, 15050.0, 15100.0, 15150.0, 15200.0, 15250.0, 15300.0], \"y\": [20.37, 20.23, 20.07, 19.91, 19.74, 19.56, 19.42, 19.24, 19.07, 18.92, 18.76, 18.6, 18.44, 18.26, 18.11, 17.91, 17.78, 17.6, 17.44, 17.26, 17.11, 16.95, 16.77, 16.62, 16.45, 16.29, 16.12, 15.96, 15.8, 15.64, 15.48, 15.31, 15.15, 14.99, 14.84, 14.67, 14.4, 14.36, 14.19, 14.06, 13.9, 13.75, 13.61, 13.45, 13.32, 13.16, 13.04, 12.9, 12.77, 12.63, 12.5, 12.37, 12.24, 12.13, 12.0, 11.88, 11.77, 11.67, 11.54, 11.45, 11.33, 11.24, 11.15, 11.05, 10.97, 10.89, 10.8, 10.73, 10.67, 10.59, 10.54, 10.48, 10.41, \"\", \"\", \"\", \"\", \"\", \"\"]}, {\"line\": {\"color\": \"rgba(50, 171, 96, 1.0)\", \"dash\": \"solid\", \"shape\": \"linear\", \"width\": 1.3}, \"marker\": {\"size\": 6, \"symbol\": \"circle\"}, \"mode\": \"lines+markers\", \"name\": \"2021-06-18\", \"text\": \"\", \"type\": \"scatter\", \"x\": [11400.0, 11450.0, 11500.0, 11550.0, 11600.0, 11650.0, 11700.0, 11750.0, 11800.0, 11850.0, 11900.0, 11950.0, 12000.0, 12050.0, 12100.0, 12150.0, 12200.0, 12250.0, 12300.0, 12350.0, 12400.0, 12450.0, 12500.0, 12550.0, 12600.0, 12650.0, 12700.0, 12750.0, 12800.0, 12850.0, 12900.0, 12950.0, 13000.0, 13050.0, 13100.0, 13150.0, 13200.0, 13250.0, 13300.0, 13350.0, 13400.0, 13450.0, 13500.0, 13550.0, 13600.0, 13650.0, 13700.0, 13750.0, 13800.0, 13850.0, 13900.0, 13950.0, 14000.0, 14050.0, 14100.0, 14150.0, 14200.0, 14250.0, 14300.0, 14350.0, 14400.0, 14450.0, 14500.0, 14550.0, 14600.0, 14650.0, 14700.0, 14750.0, 14800.0, 14850.0, 14900.0, 14950.0, 15000.0, 15050.0, 15100.0, 15150.0, 15200.0, 15250.0, 15300.0], \"y\": [19.28, \"\", 19.09, 18.98, 18.88, 18.79, 18.69, 18.59, 18.49, 18.39, 18.29, 18.19, 18.1, 18.01, 17.91, 17.81, 17.72, 17.63, 17.53, 17.43, 17.34, 17.24, 17.16, 17.05, 16.96, 16.87, 16.77, 16.69, 16.59, 16.51, 16.42, 16.32, 16.23, 16.14, 16.06, 15.97, 15.88, 15.8, 15.64, 15.56, 15.47, 15.39, 15.31, 15.23, 15.14, 15.06, 14.99, 14.91, 14.83, 14.75, 14.68, 14.6, 14.46, 14.45, 14.37, 14.29, 14.22, \"\", 14.08, \"\", 13.94, \"\", \"\", \"\", 13.66, \"\", \"\", \"\", 13.39, \"\", \"\", \"\", 13.14, \"\", \"\", \"\", 12.9, \"\", \"\"]}],\n",
       "                        {\"legend\": {\"bgcolor\": \"#F5F6F9\", \"font\": {\"color\": \"#4D5663\"}}, \"paper_bgcolor\": \"#F5F6F9\", \"plot_bgcolor\": \"#F5F6F9\", \"template\": {\"data\": {\"bar\": [{\"error_x\": {\"color\": \"#2a3f5f\"}, \"error_y\": {\"color\": \"#2a3f5f\"}, \"marker\": {\"line\": {\"color\": \"#E5ECF6\", \"width\": 0.5}}, \"type\": \"bar\"}], \"barpolar\": [{\"marker\": {\"line\": {\"color\": \"#E5ECF6\", \"width\": 0.5}}, \"type\": \"barpolar\"}], \"carpet\": [{\"aaxis\": {\"endlinecolor\": \"#2a3f5f\", \"gridcolor\": \"white\", \"linecolor\": \"white\", \"minorgridcolor\": \"white\", \"startlinecolor\": \"#2a3f5f\"}, \"baxis\": {\"endlinecolor\": \"#2a3f5f\", \"gridcolor\": \"white\", \"linecolor\": \"white\", \"minorgridcolor\": \"white\", \"startlinecolor\": \"#2a3f5f\"}, \"type\": \"carpet\"}], \"choropleth\": [{\"colorbar\": {\"outlinewidth\": 0, \"ticks\": \"\"}, \"type\": \"choropleth\"}], \"contour\": [{\"colorbar\": {\"outlinewidth\": 0, \"ticks\": \"\"}, \"colorscale\": [[0.0, \"#0d0887\"], [0.1111111111111111, \"#46039f\"], [0.2222222222222222, \"#7201a8\"], [0.3333333333333333, \"#9c179e\"], [0.4444444444444444, \"#bd3786\"], [0.5555555555555556, \"#d8576b\"], [0.6666666666666666, \"#ed7953\"], [0.7777777777777778, \"#fb9f3a\"], [0.8888888888888888, \"#fdca26\"], [1.0, \"#f0f921\"]], \"type\": \"contour\"}], \"contourcarpet\": [{\"colorbar\": {\"outlinewidth\": 0, \"ticks\": \"\"}, \"type\": \"contourcarpet\"}], \"heatmap\": [{\"colorbar\": {\"outlinewidth\": 0, \"ticks\": \"\"}, \"colorscale\": [[0.0, \"#0d0887\"], [0.1111111111111111, \"#46039f\"], [0.2222222222222222, \"#7201a8\"], [0.3333333333333333, \"#9c179e\"], [0.4444444444444444, \"#bd3786\"], [0.5555555555555556, \"#d8576b\"], [0.6666666666666666, \"#ed7953\"], [0.7777777777777778, \"#fb9f3a\"], [0.8888888888888888, \"#fdca26\"], [1.0, \"#f0f921\"]], \"type\": \"heatmap\"}], \"heatmapgl\": [{\"colorbar\": {\"outlinewidth\": 0, \"ticks\": \"\"}, \"colorscale\": [[0.0, \"#0d0887\"], [0.1111111111111111, \"#46039f\"], [0.2222222222222222, \"#7201a8\"], [0.3333333333333333, \"#9c179e\"], [0.4444444444444444, \"#bd3786\"], [0.5555555555555556, \"#d8576b\"], [0.6666666666666666, \"#ed7953\"], [0.7777777777777778, \"#fb9f3a\"], [0.8888888888888888, \"#fdca26\"], [1.0, \"#f0f921\"]], \"type\": \"heatmapgl\"}], \"histogram\": [{\"marker\": {\"colorbar\": {\"outlinewidth\": 0, \"ticks\": \"\"}}, \"type\": \"histogram\"}], \"histogram2d\": [{\"colorbar\": {\"outlinewidth\": 0, \"ticks\": \"\"}, \"colorscale\": [[0.0, \"#0d0887\"], [0.1111111111111111, \"#46039f\"], [0.2222222222222222, \"#7201a8\"], [0.3333333333333333, \"#9c179e\"], [0.4444444444444444, \"#bd3786\"], [0.5555555555555556, \"#d8576b\"], [0.6666666666666666, \"#ed7953\"], [0.7777777777777778, \"#fb9f3a\"], [0.8888888888888888, \"#fdca26\"], [1.0, \"#f0f921\"]], \"type\": \"histogram2d\"}], \"histogram2dcontour\": [{\"colorbar\": {\"outlinewidth\": 0, \"ticks\": \"\"}, \"colorscale\": [[0.0, \"#0d0887\"], [0.1111111111111111, \"#46039f\"], [0.2222222222222222, \"#7201a8\"], [0.3333333333333333, \"#9c179e\"], [0.4444444444444444, \"#bd3786\"], [0.5555555555555556, \"#d8576b\"], [0.6666666666666666, \"#ed7953\"], [0.7777777777777778, \"#fb9f3a\"], [0.8888888888888888, \"#fdca26\"], [1.0, \"#f0f921\"]], \"type\": \"histogram2dcontour\"}], \"mesh3d\": [{\"colorbar\": {\"outlinewidth\": 0, \"ticks\": \"\"}, \"type\": \"mesh3d\"}], \"parcoords\": [{\"line\": {\"colorbar\": {\"outlinewidth\": 0, \"ticks\": \"\"}}, \"type\": \"parcoords\"}], \"pie\": [{\"automargin\": true, \"type\": \"pie\"}], \"scatter\": [{\"marker\": {\"colorbar\": {\"outlinewidth\": 0, \"ticks\": \"\"}}, \"type\": \"scatter\"}], \"scatter3d\": [{\"line\": {\"colorbar\": {\"outlinewidth\": 0, \"ticks\": \"\"}}, \"marker\": {\"colorbar\": {\"outlinewidth\": 0, \"ticks\": \"\"}}, \"type\": \"scatter3d\"}], \"scattercarpet\": [{\"marker\": {\"colorbar\": {\"outlinewidth\": 0, \"ticks\": \"\"}}, \"type\": \"scattercarpet\"}], \"scattergeo\": [{\"marker\": {\"colorbar\": {\"outlinewidth\": 0, \"ticks\": \"\"}}, \"type\": \"scattergeo\"}], \"scattergl\": [{\"marker\": {\"colorbar\": {\"outlinewidth\": 0, \"ticks\": \"\"}}, \"type\": \"scattergl\"}], \"scattermapbox\": [{\"marker\": {\"colorbar\": {\"outlinewidth\": 0, \"ticks\": \"\"}}, \"type\": \"scattermapbox\"}], \"scatterpolar\": [{\"marker\": {\"colorbar\": {\"outlinewidth\": 0, \"ticks\": \"\"}}, \"type\": \"scatterpolar\"}], \"scatterpolargl\": [{\"marker\": {\"colorbar\": {\"outlinewidth\": 0, \"ticks\": \"\"}}, \"type\": \"scatterpolargl\"}], \"scatterternary\": [{\"marker\": {\"colorbar\": {\"outlinewidth\": 0, \"ticks\": \"\"}}, \"type\": \"scatterternary\"}], \"surface\": [{\"colorbar\": {\"outlinewidth\": 0, \"ticks\": \"\"}, \"colorscale\": [[0.0, \"#0d0887\"], [0.1111111111111111, \"#46039f\"], [0.2222222222222222, \"#7201a8\"], [0.3333333333333333, \"#9c179e\"], [0.4444444444444444, \"#bd3786\"], [0.5555555555555556, \"#d8576b\"], [0.6666666666666666, \"#ed7953\"], [0.7777777777777778, \"#fb9f3a\"], [0.8888888888888888, \"#fdca26\"], [1.0, \"#f0f921\"]], \"type\": \"surface\"}], \"table\": [{\"cells\": {\"fill\": {\"color\": \"#EBF0F8\"}, \"line\": {\"color\": \"white\"}}, \"header\": {\"fill\": {\"color\": \"#C8D4E3\"}, \"line\": {\"color\": \"white\"}}, \"type\": \"table\"}]}, \"layout\": {\"annotationdefaults\": {\"arrowcolor\": \"#2a3f5f\", \"arrowhead\": 0, \"arrowwidth\": 1}, \"coloraxis\": {\"colorbar\": {\"outlinewidth\": 0, \"ticks\": \"\"}}, \"colorscale\": {\"diverging\": [[0, \"#8e0152\"], [0.1, \"#c51b7d\"], [0.2, \"#de77ae\"], [0.3, \"#f1b6da\"], [0.4, \"#fde0ef\"], [0.5, \"#f7f7f7\"], [0.6, \"#e6f5d0\"], [0.7, \"#b8e186\"], [0.8, \"#7fbc41\"], [0.9, \"#4d9221\"], [1, \"#276419\"]], \"sequential\": [[0.0, \"#0d0887\"], [0.1111111111111111, \"#46039f\"], [0.2222222222222222, \"#7201a8\"], [0.3333333333333333, \"#9c179e\"], [0.4444444444444444, \"#bd3786\"], [0.5555555555555556, \"#d8576b\"], [0.6666666666666666, \"#ed7953\"], [0.7777777777777778, \"#fb9f3a\"], [0.8888888888888888, \"#fdca26\"], [1.0, \"#f0f921\"]], \"sequentialminus\": [[0.0, \"#0d0887\"], [0.1111111111111111, \"#46039f\"], [0.2222222222222222, \"#7201a8\"], [0.3333333333333333, \"#9c179e\"], [0.4444444444444444, \"#bd3786\"], [0.5555555555555556, \"#d8576b\"], [0.6666666666666666, \"#ed7953\"], [0.7777777777777778, \"#fb9f3a\"], [0.8888888888888888, \"#fdca26\"], [1.0, \"#f0f921\"]]}, \"colorway\": [\"#636efa\", \"#EF553B\", \"#00cc96\", \"#ab63fa\", \"#FFA15A\", \"#19d3f3\", \"#FF6692\", \"#B6E880\", \"#FF97FF\", \"#FECB52\"], \"font\": {\"color\": \"#2a3f5f\"}, \"geo\": {\"bgcolor\": \"white\", \"lakecolor\": \"white\", \"landcolor\": \"#E5ECF6\", \"showlakes\": true, \"showland\": true, \"subunitcolor\": \"white\"}, \"hoverlabel\": {\"align\": \"left\"}, \"hovermode\": \"closest\", \"mapbox\": {\"style\": \"light\"}, \"paper_bgcolor\": \"white\", \"plot_bgcolor\": \"#E5ECF6\", \"polar\": {\"angularaxis\": {\"gridcolor\": \"white\", \"linecolor\": \"white\", \"ticks\": \"\"}, \"bgcolor\": \"#E5ECF6\", \"radialaxis\": {\"gridcolor\": \"white\", \"linecolor\": \"white\", \"ticks\": \"\"}}, \"scene\": {\"xaxis\": {\"backgroundcolor\": \"#E5ECF6\", \"gridcolor\": \"white\", \"gridwidth\": 2, \"linecolor\": \"white\", \"showbackground\": true, \"ticks\": \"\", \"zerolinecolor\": \"white\"}, \"yaxis\": {\"backgroundcolor\": \"#E5ECF6\", \"gridcolor\": \"white\", \"gridwidth\": 2, \"linecolor\": \"white\", \"showbackground\": true, \"ticks\": \"\", \"zerolinecolor\": \"white\"}, \"zaxis\": {\"backgroundcolor\": \"#E5ECF6\", \"gridcolor\": \"white\", \"gridwidth\": 2, \"linecolor\": \"white\", \"showbackground\": true, \"ticks\": \"\", \"zerolinecolor\": \"white\"}}, \"shapedefaults\": {\"line\": {\"color\": \"#2a3f5f\"}}, \"ternary\": {\"aaxis\": {\"gridcolor\": \"white\", \"linecolor\": \"white\", \"ticks\": \"\"}, \"baxis\": {\"gridcolor\": \"white\", \"linecolor\": \"white\", \"ticks\": \"\"}, \"bgcolor\": \"#E5ECF6\", \"caxis\": {\"gridcolor\": \"white\", \"linecolor\": \"white\", \"ticks\": \"\"}}, \"title\": {\"x\": 0.05}, \"xaxis\": {\"automargin\": true, \"gridcolor\": \"white\", \"linecolor\": \"white\", \"ticks\": \"\", \"title\": {\"standoff\": 15}, \"zerolinecolor\": \"white\", \"zerolinewidth\": 2}, \"yaxis\": {\"automargin\": true, \"gridcolor\": \"white\", \"linecolor\": \"white\", \"ticks\": \"\", \"title\": {\"standoff\": 15}, \"zerolinecolor\": \"white\", \"zerolinewidth\": 2}}}, \"title\": {\"font\": {\"color\": \"#4D5663\"}}, \"xaxis\": {\"gridcolor\": \"#E1E5ED\", \"showgrid\": true, \"tickfont\": {\"color\": \"#4D5663\"}, \"title\": {\"font\": {\"color\": \"#4D5663\"}, \"text\": \"\"}, \"zerolinecolor\": \"#E1E5ED\"}, \"yaxis\": {\"gridcolor\": \"#E1E5ED\", \"showgrid\": true, \"tickfont\": {\"color\": \"#4D5663\"}, \"title\": {\"font\": {\"color\": \"#4D5663\"}, \"text\": \"\"}, \"zerolinecolor\": \"#E1E5ED\"}},\n",
       "                        {\"showLink\": true, \"linkText\": \"Export to plot.ly\", \"plotlyServerURL\": \"https://plot.ly\", \"responsive\": true}\n",
       "                    ).then(function(){\n",
       "                            \n",
       "var gd = document.getElementById('83a85f23-0c7e-4c11-ae4f-6dbc1a220e81');\n",
       "var x = new MutationObserver(function (mutations, observer) {{\n",
       "        var display = window.getComputedStyle(gd).display;\n",
       "        if (!display || display === 'none') {{\n",
       "            console.log([gd, 'removed!']);\n",
       "            Plotly.purge(gd);\n",
       "            observer.disconnect();\n",
       "        }}\n",
       "}});\n",
       "\n",
       "// Listen for the removal of the full notebook cells\n",
       "var notebookContainer = gd.closest('#notebook-container');\n",
       "if (notebookContainer) {{\n",
       "    x.observe(notebookContainer, {childList: true});\n",
       "}}\n",
       "\n",
       "// Listen for the clearing of the current output cell\n",
       "var outputEl = gd.closest('.output');\n",
       "if (outputEl) {{\n",
       "    x.observe(outputEl, {childList: true});\n",
       "}}\n",
       "\n",
       "                        })\n",
       "                };\n",
       "                });\n",
       "            </script>\n",
       "        </div>"
      ]
     },
     "metadata": {},
     "output_type": "display_data"
    }
   ],
   "source": [
    "calls_vols.iplot(mode='lines+markers', size=6)"
   ]
  },
  {
   "cell_type": "code",
   "execution_count": 41,
   "metadata": {},
   "outputs": [],
   "source": [
    "stock = ek.get_data('0#GDAX*.EX', fields = 'CF_CLOSE')[0]"
   ]
  },
  {
   "cell_type": "code",
   "execution_count": 42,
   "metadata": {},
   "outputs": [],
   "source": [
    "spy = ek.get_timeseries('SPY', fields = ['CLOSE', 'VOLUME'], start_date = '2010-01-01', end_date = '2019-12-01')"
   ]
  },
  {
   "cell_type": "code",
   "execution_count": 43,
   "metadata": {},
   "outputs": [
    {
     "name": "stdout",
     "output_type": "stream",
     "text": [
      "<class 'pandas.core.frame.DataFrame'>\n",
      "DatetimeIndex: 2495 entries, 2010-01-04 to 2019-11-29\n",
      "Data columns (total 2 columns):\n",
      "CLOSE     2495 non-null float64\n",
      "VOLUME    2495 non-null float64\n",
      "dtypes: float64(2)\n",
      "memory usage: 58.5 KB\n"
     ]
    }
   ],
   "source": [
    "spy.info()"
   ]
  },
  {
   "cell_type": "code",
   "execution_count": 44,
   "metadata": {},
   "outputs": [
    {
     "data": {
      "application/vnd.plotly.v1+json": {
       "config": {
        "linkText": "Export to plot.ly",
        "plotlyServerURL": "https://plot.ly",
        "showLink": true
       },
       "data": [
        {
         "line": {
          "color": "rgba(255, 153, 51, 1.0)",
          "dash": "solid",
          "shape": "linear",
          "width": 1.3
         },
         "mode": "lines",
         "name": "CLOSE",
         "text": "",
         "type": "scatter",
         "x": [
          "2010-01-04",
          "2010-01-05",
          "2010-01-06",
          "2010-01-07",
          "2010-01-08",
          "2010-01-11",
          "2010-01-12",
          "2010-01-13",
          "2010-01-14",
          "2010-01-15",
          "2010-01-19",
          "2010-01-20",
          "2010-01-21",
          "2010-01-22",
          "2010-01-25",
          "2010-01-26",
          "2010-01-27",
          "2010-01-28",
          "2010-01-29",
          "2010-02-01",
          "2010-02-02",
          "2010-02-03",
          "2010-02-04",
          "2010-02-05",
          "2010-02-08",
          "2010-02-09",
          "2010-02-10",
          "2010-02-11",
          "2010-02-12",
          "2010-02-16",
          "2010-02-17",
          "2010-02-18",
          "2010-02-19",
          "2010-02-22",
          "2010-02-23",
          "2010-02-24",
          "2010-02-25",
          "2010-02-26",
          "2010-03-01",
          "2010-03-02",
          "2010-03-03",
          "2010-03-04",
          "2010-03-05",
          "2010-03-08",
          "2010-03-09",
          "2010-03-10",
          "2010-03-11",
          "2010-03-12",
          "2010-03-15",
          "2010-03-16",
          "2010-03-17",
          "2010-03-18",
          "2010-03-19",
          "2010-03-22",
          "2010-03-23",
          "2010-03-24",
          "2010-03-25",
          "2010-03-26",
          "2010-03-29",
          "2010-03-30",
          "2010-03-31",
          "2010-04-01",
          "2010-04-05",
          "2010-04-06",
          "2010-04-07",
          "2010-04-08",
          "2010-04-09",
          "2010-04-12",
          "2010-04-13",
          "2010-04-14",
          "2010-04-15",
          "2010-04-16",
          "2010-04-19",
          "2010-04-20",
          "2010-04-21",
          "2010-04-22",
          "2010-04-23",
          "2010-04-26",
          "2010-04-27",
          "2010-04-28",
          "2010-04-29",
          "2010-04-30",
          "2010-05-03",
          "2010-05-04",
          "2010-05-05",
          "2010-05-06",
          "2010-05-07",
          "2010-05-10",
          "2010-05-11",
          "2010-05-12",
          "2010-05-13",
          "2010-05-14",
          "2010-05-17",
          "2010-05-18",
          "2010-05-19",
          "2010-05-20",
          "2010-05-21",
          "2010-05-24",
          "2010-05-25",
          "2010-05-26",
          "2010-05-27",
          "2010-05-28",
          "2010-06-01",
          "2010-06-02",
          "2010-06-03",
          "2010-06-04",
          "2010-06-07",
          "2010-06-08",
          "2010-06-09",
          "2010-06-10",
          "2010-06-11",
          "2010-06-14",
          "2010-06-15",
          "2010-06-16",
          "2010-06-17",
          "2010-06-18",
          "2010-06-21",
          "2010-06-22",
          "2010-06-23",
          "2010-06-24",
          "2010-06-25",
          "2010-06-28",
          "2010-06-29",
          "2010-06-30",
          "2010-07-01",
          "2010-07-02",
          "2010-07-06",
          "2010-07-07",
          "2010-07-08",
          "2010-07-09",
          "2010-07-12",
          "2010-07-13",
          "2010-07-14",
          "2010-07-15",
          "2010-07-16",
          "2010-07-19",
          "2010-07-20",
          "2010-07-21",
          "2010-07-22",
          "2010-07-23",
          "2010-07-26",
          "2010-07-27",
          "2010-07-28",
          "2010-07-29",
          "2010-07-30",
          "2010-08-02",
          "2010-08-03",
          "2010-08-04",
          "2010-08-05",
          "2010-08-06",
          "2010-08-09",
          "2010-08-10",
          "2010-08-11",
          "2010-08-12",
          "2010-08-13",
          "2010-08-16",
          "2010-08-17",
          "2010-08-18",
          "2010-08-19",
          "2010-08-20",
          "2010-08-23",
          "2010-08-24",
          "2010-08-25",
          "2010-08-26",
          "2010-08-27",
          "2010-08-30",
          "2010-08-31",
          "2010-09-01",
          "2010-09-02",
          "2010-09-03",
          "2010-09-07",
          "2010-09-08",
          "2010-09-09",
          "2010-09-10",
          "2010-09-13",
          "2010-09-14",
          "2010-09-15",
          "2010-09-16",
          "2010-09-17",
          "2010-09-20",
          "2010-09-21",
          "2010-09-22",
          "2010-09-23",
          "2010-09-24",
          "2010-09-27",
          "2010-09-28",
          "2010-09-29",
          "2010-09-30",
          "2010-10-01",
          "2010-10-04",
          "2010-10-05",
          "2010-10-06",
          "2010-10-07",
          "2010-10-08",
          "2010-10-11",
          "2010-10-12",
          "2010-10-13",
          "2010-10-14",
          "2010-10-15",
          "2010-10-18",
          "2010-10-19",
          "2010-10-20",
          "2010-10-21",
          "2010-10-22",
          "2010-10-25",
          "2010-10-26",
          "2010-10-27",
          "2010-10-28",
          "2010-10-29",
          "2010-11-01",
          "2010-11-02",
          "2010-11-03",
          "2010-11-04",
          "2010-11-05",
          "2010-11-08",
          "2010-11-09",
          "2010-11-10",
          "2010-11-11",
          "2010-11-12",
          "2010-11-15",
          "2010-11-16",
          "2010-11-17",
          "2010-11-18",
          "2010-11-19",
          "2010-11-22",
          "2010-11-23",
          "2010-11-24",
          "2010-11-26",
          "2010-11-29",
          "2010-11-30",
          "2010-12-01",
          "2010-12-02",
          "2010-12-03",
          "2010-12-06",
          "2010-12-07",
          "2010-12-08",
          "2010-12-09",
          "2010-12-10",
          "2010-12-13",
          "2010-12-14",
          "2010-12-15",
          "2010-12-16",
          "2010-12-17",
          "2010-12-20",
          "2010-12-21",
          "2010-12-22",
          "2010-12-23",
          "2010-12-27",
          "2010-12-28",
          "2010-12-29",
          "2010-12-30",
          "2010-12-31",
          "2011-01-03",
          "2011-01-04",
          "2011-01-05",
          "2011-01-06",
          "2011-01-07",
          "2011-01-10",
          "2011-01-11",
          "2011-01-12",
          "2011-01-13",
          "2011-01-14",
          "2011-01-18",
          "2011-01-19",
          "2011-01-20",
          "2011-01-21",
          "2011-01-24",
          "2011-01-25",
          "2011-01-26",
          "2011-01-27",
          "2011-01-28",
          "2011-01-31",
          "2011-02-01",
          "2011-02-02",
          "2011-02-03",
          "2011-02-04",
          "2011-02-07",
          "2011-02-08",
          "2011-02-09",
          "2011-02-10",
          "2011-02-11",
          "2011-02-14",
          "2011-02-15",
          "2011-02-16",
          "2011-02-17",
          "2011-02-18",
          "2011-02-22",
          "2011-02-23",
          "2011-02-24",
          "2011-02-25",
          "2011-02-28",
          "2011-03-01",
          "2011-03-02",
          "2011-03-03",
          "2011-03-04",
          "2011-03-07",
          "2011-03-08",
          "2011-03-09",
          "2011-03-10",
          "2011-03-11",
          "2011-03-14",
          "2011-03-15",
          "2011-03-16",
          "2011-03-17",
          "2011-03-18",
          "2011-03-21",
          "2011-03-22",
          "2011-03-23",
          "2011-03-24",
          "2011-03-25",
          "2011-03-28",
          "2011-03-29",
          "2011-03-30",
          "2011-03-31",
          "2011-04-01",
          "2011-04-04",
          "2011-04-05",
          "2011-04-06",
          "2011-04-07",
          "2011-04-08",
          "2011-04-11",
          "2011-04-12",
          "2011-04-13",
          "2011-04-14",
          "2011-04-15",
          "2011-04-18",
          "2011-04-19",
          "2011-04-20",
          "2011-04-21",
          "2011-04-25",
          "2011-04-26",
          "2011-04-27",
          "2011-04-28",
          "2011-04-29",
          "2011-05-02",
          "2011-05-03",
          "2011-05-04",
          "2011-05-05",
          "2011-05-06",
          "2011-05-09",
          "2011-05-10",
          "2011-05-11",
          "2011-05-12",
          "2011-05-13",
          "2011-05-16",
          "2011-05-17",
          "2011-05-18",
          "2011-05-19",
          "2011-05-20",
          "2011-05-23",
          "2011-05-24",
          "2011-05-25",
          "2011-05-26",
          "2011-05-27",
          "2011-05-31",
          "2011-06-01",
          "2011-06-02",
          "2011-06-03",
          "2011-06-06",
          "2011-06-07",
          "2011-06-08",
          "2011-06-09",
          "2011-06-10",
          "2011-06-13",
          "2011-06-14",
          "2011-06-15",
          "2011-06-16",
          "2011-06-17",
          "2011-06-20",
          "2011-06-21",
          "2011-06-22",
          "2011-06-23",
          "2011-06-24",
          "2011-06-27",
          "2011-06-28",
          "2011-06-29",
          "2011-06-30",
          "2011-07-01",
          "2011-07-05",
          "2011-07-06",
          "2011-07-07",
          "2011-07-08",
          "2011-07-11",
          "2011-07-12",
          "2011-07-13",
          "2011-07-14",
          "2011-07-15",
          "2011-07-18",
          "2011-07-19",
          "2011-07-20",
          "2011-07-21",
          "2011-07-22",
          "2011-07-25",
          "2011-07-26",
          "2011-07-27",
          "2011-07-28",
          "2011-07-29",
          "2011-08-01",
          "2011-08-02",
          "2011-08-03",
          "2011-08-04",
          "2011-08-05",
          "2011-08-08",
          "2011-08-09",
          "2011-08-10",
          "2011-08-11",
          "2011-08-12",
          "2011-08-15",
          "2011-08-16",
          "2011-08-17",
          "2011-08-18",
          "2011-08-19",
          "2011-08-22",
          "2011-08-23",
          "2011-08-24",
          "2011-08-25",
          "2011-08-26",
          "2011-08-29",
          "2011-08-30",
          "2011-08-31",
          "2011-09-01",
          "2011-09-02",
          "2011-09-06",
          "2011-09-07",
          "2011-09-08",
          "2011-09-09",
          "2011-09-12",
          "2011-09-13",
          "2011-09-14",
          "2011-09-15",
          "2011-09-16",
          "2011-09-19",
          "2011-09-20",
          "2011-09-21",
          "2011-09-22",
          "2011-09-23",
          "2011-09-26",
          "2011-09-27",
          "2011-09-28",
          "2011-09-29",
          "2011-09-30",
          "2011-10-03",
          "2011-10-04",
          "2011-10-05",
          "2011-10-06",
          "2011-10-07",
          "2011-10-10",
          "2011-10-11",
          "2011-10-12",
          "2011-10-13",
          "2011-10-14",
          "2011-10-17",
          "2011-10-18",
          "2011-10-19",
          "2011-10-20",
          "2011-10-21",
          "2011-10-24",
          "2011-10-25",
          "2011-10-26",
          "2011-10-27",
          "2011-10-28",
          "2011-10-31",
          "2011-11-01",
          "2011-11-02",
          "2011-11-03",
          "2011-11-04",
          "2011-11-07",
          "2011-11-08",
          "2011-11-09",
          "2011-11-10",
          "2011-11-11",
          "2011-11-14",
          "2011-11-15",
          "2011-11-16",
          "2011-11-17",
          "2011-11-18",
          "2011-11-21",
          "2011-11-22",
          "2011-11-23",
          "2011-11-25",
          "2011-11-28",
          "2011-11-29",
          "2011-11-30",
          "2011-12-01",
          "2011-12-02",
          "2011-12-05",
          "2011-12-06",
          "2011-12-07",
          "2011-12-08",
          "2011-12-09",
          "2011-12-12",
          "2011-12-13",
          "2011-12-14",
          "2011-12-15",
          "2011-12-16",
          "2011-12-19",
          "2011-12-20",
          "2011-12-21",
          "2011-12-22",
          "2011-12-23",
          "2011-12-27",
          "2011-12-28",
          "2011-12-29",
          "2011-12-30",
          "2012-01-03",
          "2012-01-04",
          "2012-01-05",
          "2012-01-06",
          "2012-01-09",
          "2012-01-10",
          "2012-01-11",
          "2012-01-12",
          "2012-01-13",
          "2012-01-17",
          "2012-01-18",
          "2012-01-19",
          "2012-01-20",
          "2012-01-23",
          "2012-01-24",
          "2012-01-25",
          "2012-01-26",
          "2012-01-27",
          "2012-01-30",
          "2012-01-31",
          "2012-02-01",
          "2012-02-02",
          "2012-02-03",
          "2012-02-06",
          "2012-02-07",
          "2012-02-08",
          "2012-02-09",
          "2012-02-10",
          "2012-02-13",
          "2012-02-14",
          "2012-02-15",
          "2012-02-16",
          "2012-02-17",
          "2012-02-21",
          "2012-02-22",
          "2012-02-23",
          "2012-02-24",
          "2012-02-27",
          "2012-02-28",
          "2012-02-29",
          "2012-03-01",
          "2012-03-02",
          "2012-03-05",
          "2012-03-06",
          "2012-03-07",
          "2012-03-08",
          "2012-03-09",
          "2012-03-12",
          "2012-03-13",
          "2012-03-14",
          "2012-03-15",
          "2012-03-16",
          "2012-03-19",
          "2012-03-20",
          "2012-03-21",
          "2012-03-22",
          "2012-03-23",
          "2012-03-26",
          "2012-03-27",
          "2012-03-28",
          "2012-03-29",
          "2012-03-30",
          "2012-04-02",
          "2012-04-03",
          "2012-04-04",
          "2012-04-05",
          "2012-04-09",
          "2012-04-10",
          "2012-04-11",
          "2012-04-12",
          "2012-04-13",
          "2012-04-16",
          "2012-04-17",
          "2012-04-18",
          "2012-04-19",
          "2012-04-20",
          "2012-04-23",
          "2012-04-24",
          "2012-04-25",
          "2012-04-26",
          "2012-04-27",
          "2012-04-30",
          "2012-05-01",
          "2012-05-02",
          "2012-05-03",
          "2012-05-04",
          "2012-05-07",
          "2012-05-08",
          "2012-05-09",
          "2012-05-10",
          "2012-05-11",
          "2012-05-14",
          "2012-05-15",
          "2012-05-16",
          "2012-05-17",
          "2012-05-18",
          "2012-05-21",
          "2012-05-22",
          "2012-05-23",
          "2012-05-24",
          "2012-05-25",
          "2012-05-29",
          "2012-05-30",
          "2012-05-31",
          "2012-06-01",
          "2012-06-04",
          "2012-06-05",
          "2012-06-06",
          "2012-06-07",
          "2012-06-08",
          "2012-06-11",
          "2012-06-12",
          "2012-06-13",
          "2012-06-14",
          "2012-06-15",
          "2012-06-18",
          "2012-06-19",
          "2012-06-20",
          "2012-06-21",
          "2012-06-22",
          "2012-06-25",
          "2012-06-26",
          "2012-06-27",
          "2012-06-28",
          "2012-06-29",
          "2012-07-02",
          "2012-07-03",
          "2012-07-05",
          "2012-07-06",
          "2012-07-09",
          "2012-07-10",
          "2012-07-11",
          "2012-07-12",
          "2012-07-13",
          "2012-07-16",
          "2012-07-17",
          "2012-07-18",
          "2012-07-19",
          "2012-07-20",
          "2012-07-23",
          "2012-07-24",
          "2012-07-25",
          "2012-07-26",
          "2012-07-27",
          "2012-07-30",
          "2012-07-31",
          "2012-08-01",
          "2012-08-02",
          "2012-08-03",
          "2012-08-06",
          "2012-08-07",
          "2012-08-08",
          "2012-08-09",
          "2012-08-10",
          "2012-08-13",
          "2012-08-14",
          "2012-08-15",
          "2012-08-16",
          "2012-08-17",
          "2012-08-20",
          "2012-08-21",
          "2012-08-22",
          "2012-08-23",
          "2012-08-24",
          "2012-08-27",
          "2012-08-28",
          "2012-08-29",
          "2012-08-30",
          "2012-08-31",
          "2012-09-04",
          "2012-09-05",
          "2012-09-06",
          "2012-09-07",
          "2012-09-10",
          "2012-09-11",
          "2012-09-12",
          "2012-09-13",
          "2012-09-14",
          "2012-09-17",
          "2012-09-18",
          "2012-09-19",
          "2012-09-20",
          "2012-09-21",
          "2012-09-24",
          "2012-09-25",
          "2012-09-26",
          "2012-09-27",
          "2012-09-28",
          "2012-10-01",
          "2012-10-02",
          "2012-10-03",
          "2012-10-04",
          "2012-10-05",
          "2012-10-08",
          "2012-10-09",
          "2012-10-10",
          "2012-10-11",
          "2012-10-12",
          "2012-10-15",
          "2012-10-16",
          "2012-10-17",
          "2012-10-18",
          "2012-10-19",
          "2012-10-22",
          "2012-10-23",
          "2012-10-24",
          "2012-10-25",
          "2012-10-26",
          "2012-10-31",
          "2012-11-01",
          "2012-11-02",
          "2012-11-05",
          "2012-11-06",
          "2012-11-07",
          "2012-11-08",
          "2012-11-09",
          "2012-11-12",
          "2012-11-13",
          "2012-11-14",
          "2012-11-15",
          "2012-11-16",
          "2012-11-19",
          "2012-11-20",
          "2012-11-21",
          "2012-11-23",
          "2012-11-26",
          "2012-11-27",
          "2012-11-28",
          "2012-11-29",
          "2012-11-30",
          "2012-12-03",
          "2012-12-04",
          "2012-12-05",
          "2012-12-06",
          "2012-12-07",
          "2012-12-10",
          "2012-12-11",
          "2012-12-12",
          "2012-12-13",
          "2012-12-14",
          "2012-12-17",
          "2012-12-18",
          "2012-12-19",
          "2012-12-20",
          "2012-12-21",
          "2012-12-24",
          "2012-12-26",
          "2012-12-27",
          "2012-12-28",
          "2012-12-31",
          "2013-01-02",
          "2013-01-03",
          "2013-01-04",
          "2013-01-07",
          "2013-01-08",
          "2013-01-09",
          "2013-01-10",
          "2013-01-11",
          "2013-01-14",
          "2013-01-15",
          "2013-01-16",
          "2013-01-17",
          "2013-01-18",
          "2013-01-22",
          "2013-01-23",
          "2013-01-24",
          "2013-01-25",
          "2013-01-28",
          "2013-01-29",
          "2013-01-30",
          "2013-01-31",
          "2013-02-01",
          "2013-02-04",
          "2013-02-05",
          "2013-02-06",
          "2013-02-07",
          "2013-02-08",
          "2013-02-11",
          "2013-02-12",
          "2013-02-13",
          "2013-02-14",
          "2013-02-15",
          "2013-02-19",
          "2013-02-20",
          "2013-02-21",
          "2013-02-22",
          "2013-02-25",
          "2013-02-26",
          "2013-02-27",
          "2013-02-28",
          "2013-03-01",
          "2013-03-04",
          "2013-03-05",
          "2013-03-06",
          "2013-03-07",
          "2013-03-08",
          "2013-03-11",
          "2013-03-12",
          "2013-03-13",
          "2013-03-14",
          "2013-03-15",
          "2013-03-18",
          "2013-03-19",
          "2013-03-20",
          "2013-03-21",
          "2013-03-22",
          "2013-03-25",
          "2013-03-26",
          "2013-03-27",
          "2013-03-28",
          "2013-04-01",
          "2013-04-02",
          "2013-04-03",
          "2013-04-04",
          "2013-04-05",
          "2013-04-08",
          "2013-04-09",
          "2013-04-10",
          "2013-04-11",
          "2013-04-12",
          "2013-04-15",
          "2013-04-16",
          "2013-04-17",
          "2013-04-18",
          "2013-04-19",
          "2013-04-22",
          "2013-04-23",
          "2013-04-24",
          "2013-04-25",
          "2013-04-26",
          "2013-04-29",
          "2013-04-30",
          "2013-05-01",
          "2013-05-02",
          "2013-05-03",
          "2013-05-06",
          "2013-05-07",
          "2013-05-08",
          "2013-05-09",
          "2013-05-10",
          "2013-05-13",
          "2013-05-14",
          "2013-05-15",
          "2013-05-16",
          "2013-05-17",
          "2013-05-20",
          "2013-05-21",
          "2013-05-22",
          "2013-05-23",
          "2013-05-24",
          "2013-05-28",
          "2013-05-29",
          "2013-05-30",
          "2013-05-31",
          "2013-06-03",
          "2013-06-04",
          "2013-06-05",
          "2013-06-06",
          "2013-06-07",
          "2013-06-10",
          "2013-06-11",
          "2013-06-12",
          "2013-06-13",
          "2013-06-14",
          "2013-06-17",
          "2013-06-18",
          "2013-06-19",
          "2013-06-20",
          "2013-06-21",
          "2013-06-24",
          "2013-06-25",
          "2013-06-26",
          "2013-06-27",
          "2013-06-28",
          "2013-07-01",
          "2013-07-02",
          "2013-07-03",
          "2013-07-05",
          "2013-07-08",
          "2013-07-09",
          "2013-07-10",
          "2013-07-11",
          "2013-07-12",
          "2013-07-15",
          "2013-07-16",
          "2013-07-17",
          "2013-07-18",
          "2013-07-19",
          "2013-07-22",
          "2013-07-23",
          "2013-07-24",
          "2013-07-25",
          "2013-07-26",
          "2013-07-29",
          "2013-07-30",
          "2013-07-31",
          "2013-08-01",
          "2013-08-02",
          "2013-08-05",
          "2013-08-06",
          "2013-08-07",
          "2013-08-08",
          "2013-08-09",
          "2013-08-12",
          "2013-08-13",
          "2013-08-14",
          "2013-08-15",
          "2013-08-16",
          "2013-08-19",
          "2013-08-20",
          "2013-08-21",
          "2013-08-22",
          "2013-08-23",
          "2013-08-26",
          "2013-08-27",
          "2013-08-28",
          "2013-08-29",
          "2013-08-30",
          "2013-09-03",
          "2013-09-04",
          "2013-09-05",
          "2013-09-06",
          "2013-09-09",
          "2013-09-10",
          "2013-09-11",
          "2013-09-12",
          "2013-09-13",
          "2013-09-16",
          "2013-09-17",
          "2013-09-18",
          "2013-09-19",
          "2013-09-20",
          "2013-09-23",
          "2013-09-24",
          "2013-09-25",
          "2013-09-26",
          "2013-09-27",
          "2013-09-30",
          "2013-10-01",
          "2013-10-02",
          "2013-10-03",
          "2013-10-04",
          "2013-10-07",
          "2013-10-08",
          "2013-10-09",
          "2013-10-10",
          "2013-10-11",
          "2013-10-14",
          "2013-10-15",
          "2013-10-16",
          "2013-10-17",
          "2013-10-18",
          "2013-10-21",
          "2013-10-22",
          "2013-10-23",
          "2013-10-24",
          "2013-10-25",
          "2013-10-28",
          "2013-10-29",
          "2013-10-30",
          "2013-10-31",
          "2013-11-01",
          "2013-11-04",
          "2013-11-05",
          "2013-11-06",
          "2013-11-07",
          "2013-11-08",
          "2013-11-11",
          "2013-11-12",
          "2013-11-13",
          "2013-11-14",
          "2013-11-15",
          "2013-11-18",
          "2013-11-19",
          "2013-11-20",
          "2013-11-21",
          "2013-11-22",
          "2013-11-25",
          "2013-11-26",
          "2013-11-27",
          "2013-11-29",
          "2013-12-02",
          "2013-12-03",
          "2013-12-04",
          "2013-12-05",
          "2013-12-06",
          "2013-12-09",
          "2013-12-10",
          "2013-12-11",
          "2013-12-12",
          "2013-12-13",
          "2013-12-16",
          "2013-12-17",
          "2013-12-18",
          "2013-12-19",
          "2013-12-20",
          "2013-12-23",
          "2013-12-24",
          "2013-12-26",
          "2013-12-27",
          "2013-12-30",
          "2013-12-31",
          "2014-01-02",
          "2014-01-03",
          "2014-01-06",
          "2014-01-07",
          "2014-01-08",
          "2014-01-09",
          "2014-01-10",
          "2014-01-13",
          "2014-01-14",
          "2014-01-15",
          "2014-01-16",
          "2014-01-17",
          "2014-01-21",
          "2014-01-22",
          "2014-01-23",
          "2014-01-24",
          "2014-01-27",
          "2014-01-28",
          "2014-01-29",
          "2014-01-30",
          "2014-01-31",
          "2014-02-03",
          "2014-02-04",
          "2014-02-05",
          "2014-02-06",
          "2014-02-07",
          "2014-02-10",
          "2014-02-11",
          "2014-02-12",
          "2014-02-13",
          "2014-02-14",
          "2014-02-18",
          "2014-02-19",
          "2014-02-20",
          "2014-02-21",
          "2014-02-24",
          "2014-02-25",
          "2014-02-26",
          "2014-02-27",
          "2014-02-28",
          "2014-03-03",
          "2014-03-04",
          "2014-03-05",
          "2014-03-06",
          "2014-03-07",
          "2014-03-10",
          "2014-03-11",
          "2014-03-12",
          "2014-03-13",
          "2014-03-14",
          "2014-03-17",
          "2014-03-18",
          "2014-03-19",
          "2014-03-20",
          "2014-03-21",
          "2014-03-24",
          "2014-03-25",
          "2014-03-26",
          "2014-03-27",
          "2014-03-28",
          "2014-03-31",
          "2014-04-01",
          "2014-04-02",
          "2014-04-03",
          "2014-04-04",
          "2014-04-07",
          "2014-04-08",
          "2014-04-09",
          "2014-04-10",
          "2014-04-11",
          "2014-04-14",
          "2014-04-15",
          "2014-04-16",
          "2014-04-17",
          "2014-04-21",
          "2014-04-22",
          "2014-04-23",
          "2014-04-24",
          "2014-04-25",
          "2014-04-28",
          "2014-04-29",
          "2014-04-30",
          "2014-05-01",
          "2014-05-02",
          "2014-05-05",
          "2014-05-06",
          "2014-05-07",
          "2014-05-08",
          "2014-05-09",
          "2014-05-12",
          "2014-05-13",
          "2014-05-14",
          "2014-05-15",
          "2014-05-16",
          "2014-05-19",
          "2014-05-20",
          "2014-05-21",
          "2014-05-22",
          "2014-05-23",
          "2014-05-27",
          "2014-05-28",
          "2014-05-29",
          "2014-05-30",
          "2014-06-02",
          "2014-06-03",
          "2014-06-04",
          "2014-06-05",
          "2014-06-06",
          "2014-06-09",
          "2014-06-10",
          "2014-06-11",
          "2014-06-12",
          "2014-06-13",
          "2014-06-16",
          "2014-06-17",
          "2014-06-18",
          "2014-06-19",
          "2014-06-20",
          "2014-06-23",
          "2014-06-24",
          "2014-06-25",
          "2014-06-26",
          "2014-06-27",
          "2014-06-30",
          "2014-07-01",
          "2014-07-02",
          "2014-07-03",
          "2014-07-07",
          "2014-07-08",
          "2014-07-09",
          "2014-07-10",
          "2014-07-11",
          "2014-07-14",
          "2014-07-15",
          "2014-07-16",
          "2014-07-17",
          "2014-07-18",
          "2014-07-21",
          "2014-07-22",
          "2014-07-23",
          "2014-07-24",
          "2014-07-25",
          "2014-07-28",
          "2014-07-29",
          "2014-07-30",
          "2014-07-31",
          "2014-08-01",
          "2014-08-04",
          "2014-08-05",
          "2014-08-06",
          "2014-08-07",
          "2014-08-08",
          "2014-08-11",
          "2014-08-12",
          "2014-08-13",
          "2014-08-14",
          "2014-08-15",
          "2014-08-18",
          "2014-08-19",
          "2014-08-20",
          "2014-08-21",
          "2014-08-22",
          "2014-08-25",
          "2014-08-26",
          "2014-08-27",
          "2014-08-28",
          "2014-08-29",
          "2014-09-02",
          "2014-09-03",
          "2014-09-04",
          "2014-09-05",
          "2014-09-08",
          "2014-09-09",
          "2014-09-10",
          "2014-09-11",
          "2014-09-12",
          "2014-09-15",
          "2014-09-16",
          "2014-09-17",
          "2014-09-18",
          "2014-09-19",
          "2014-09-22",
          "2014-09-23",
          "2014-09-24",
          "2014-09-25",
          "2014-09-26",
          "2014-09-29",
          "2014-09-30",
          "2014-10-01",
          "2014-10-02",
          "2014-10-03",
          "2014-10-06",
          "2014-10-07",
          "2014-10-08",
          "2014-10-09",
          "2014-10-10",
          "2014-10-13",
          "2014-10-14",
          "2014-10-15",
          "2014-10-16",
          "2014-10-17",
          "2014-10-20",
          "2014-10-21",
          "2014-10-22",
          "2014-10-23",
          "2014-10-24",
          "2014-10-27",
          "2014-10-28",
          "2014-10-29",
          "2014-10-30",
          "2014-10-31",
          "2014-11-03",
          "2014-11-04",
          "2014-11-05",
          "2014-11-06",
          "2014-11-07",
          "2014-11-10",
          "2014-11-11",
          "2014-11-12",
          "2014-11-13",
          "2014-11-14",
          "2014-11-17",
          "2014-11-18",
          "2014-11-19",
          "2014-11-20",
          "2014-11-21",
          "2014-11-24",
          "2014-11-25",
          "2014-11-26",
          "2014-11-28",
          "2014-12-01",
          "2014-12-02",
          "2014-12-03",
          "2014-12-04",
          "2014-12-05",
          "2014-12-08",
          "2014-12-09",
          "2014-12-10",
          "2014-12-11",
          "2014-12-12",
          "2014-12-15",
          "2014-12-16",
          "2014-12-17",
          "2014-12-18",
          "2014-12-19",
          "2014-12-22",
          "2014-12-23",
          "2014-12-24",
          "2014-12-26",
          "2014-12-29",
          "2014-12-30",
          "2014-12-31",
          "2015-01-02",
          "2015-01-05",
          "2015-01-06",
          "2015-01-07",
          "2015-01-08",
          "2015-01-09",
          "2015-01-12",
          "2015-01-13",
          "2015-01-14",
          "2015-01-15",
          "2015-01-16",
          "2015-01-20",
          "2015-01-21",
          "2015-01-22",
          "2015-01-23",
          "2015-01-26",
          "2015-01-27",
          "2015-01-28",
          "2015-01-29",
          "2015-01-30",
          "2015-02-02",
          "2015-02-03",
          "2015-02-04",
          "2015-02-05",
          "2015-02-06",
          "2015-02-09",
          "2015-02-10",
          "2015-02-11",
          "2015-02-12",
          "2015-02-13",
          "2015-02-17",
          "2015-02-18",
          "2015-02-19",
          "2015-02-20",
          "2015-02-23",
          "2015-02-24",
          "2015-02-25",
          "2015-02-26",
          "2015-02-27",
          "2015-03-02",
          "2015-03-03",
          "2015-03-04",
          "2015-03-05",
          "2015-03-06",
          "2015-03-09",
          "2015-03-10",
          "2015-03-11",
          "2015-03-12",
          "2015-03-13",
          "2015-03-16",
          "2015-03-17",
          "2015-03-18",
          "2015-03-19",
          "2015-03-20",
          "2015-03-23",
          "2015-03-24",
          "2015-03-25",
          "2015-03-26",
          "2015-03-27",
          "2015-03-30",
          "2015-03-31",
          "2015-04-01",
          "2015-04-02",
          "2015-04-06",
          "2015-04-07",
          "2015-04-08",
          "2015-04-09",
          "2015-04-10",
          "2015-04-13",
          "2015-04-14",
          "2015-04-15",
          "2015-04-16",
          "2015-04-17",
          "2015-04-20",
          "2015-04-21",
          "2015-04-22",
          "2015-04-23",
          "2015-04-24",
          "2015-04-27",
          "2015-04-28",
          "2015-04-29",
          "2015-04-30",
          "2015-05-01",
          "2015-05-04",
          "2015-05-05",
          "2015-05-06",
          "2015-05-07",
          "2015-05-08",
          "2015-05-11",
          "2015-05-12",
          "2015-05-13",
          "2015-05-14",
          "2015-05-15",
          "2015-05-18",
          "2015-05-19",
          "2015-05-20",
          "2015-05-21",
          "2015-05-22",
          "2015-05-26",
          "2015-05-27",
          "2015-05-28",
          "2015-05-29",
          "2015-06-01",
          "2015-06-02",
          "2015-06-03",
          "2015-06-04",
          "2015-06-05",
          "2015-06-08",
          "2015-06-09",
          "2015-06-10",
          "2015-06-11",
          "2015-06-12",
          "2015-06-15",
          "2015-06-16",
          "2015-06-17",
          "2015-06-18",
          "2015-06-19",
          "2015-06-22",
          "2015-06-23",
          "2015-06-24",
          "2015-06-25",
          "2015-06-26",
          "2015-06-29",
          "2015-06-30",
          "2015-07-01",
          "2015-07-02",
          "2015-07-06",
          "2015-07-07",
          "2015-07-08",
          "2015-07-09",
          "2015-07-10",
          "2015-07-13",
          "2015-07-14",
          "2015-07-15",
          "2015-07-16",
          "2015-07-17",
          "2015-07-20",
          "2015-07-21",
          "2015-07-22",
          "2015-07-23",
          "2015-07-24",
          "2015-07-27",
          "2015-07-28",
          "2015-07-29",
          "2015-07-30",
          "2015-07-31",
          "2015-08-03",
          "2015-08-04",
          "2015-08-05",
          "2015-08-06",
          "2015-08-07",
          "2015-08-10",
          "2015-08-11",
          "2015-08-12",
          "2015-08-13",
          "2015-08-14",
          "2015-08-17",
          "2015-08-18",
          "2015-08-19",
          "2015-08-20",
          "2015-08-21",
          "2015-08-24",
          "2015-08-25",
          "2015-08-26",
          "2015-08-27",
          "2015-08-28",
          "2015-08-31",
          "2015-09-01",
          "2015-09-02",
          "2015-09-03",
          "2015-09-04",
          "2015-09-08",
          "2015-09-09",
          "2015-09-10",
          "2015-09-11",
          "2015-09-14",
          "2015-09-15",
          "2015-09-16",
          "2015-09-17",
          "2015-09-18",
          "2015-09-21",
          "2015-09-22",
          "2015-09-23",
          "2015-09-24",
          "2015-09-25",
          "2015-09-28",
          "2015-09-29",
          "2015-09-30",
          "2015-10-01",
          "2015-10-02",
          "2015-10-05",
          "2015-10-06",
          "2015-10-07",
          "2015-10-08",
          "2015-10-09",
          "2015-10-12",
          "2015-10-13",
          "2015-10-14",
          "2015-10-15",
          "2015-10-16",
          "2015-10-19",
          "2015-10-20",
          "2015-10-21",
          "2015-10-22",
          "2015-10-23",
          "2015-10-26",
          "2015-10-27",
          "2015-10-28",
          "2015-10-29",
          "2015-10-30",
          "2015-11-02",
          "2015-11-03",
          "2015-11-04",
          "2015-11-05",
          "2015-11-06",
          "2015-11-09",
          "2015-11-10",
          "2015-11-11",
          "2015-11-12",
          "2015-11-13",
          "2015-11-16",
          "2015-11-17",
          "2015-11-18",
          "2015-11-19",
          "2015-11-20",
          "2015-11-23",
          "2015-11-24",
          "2015-11-25",
          "2015-11-27",
          "2015-11-30",
          "2015-12-01",
          "2015-12-02",
          "2015-12-03",
          "2015-12-04",
          "2015-12-07",
          "2015-12-08",
          "2015-12-09",
          "2015-12-10",
          "2015-12-11",
          "2015-12-14",
          "2015-12-15",
          "2015-12-16",
          "2015-12-17",
          "2015-12-18",
          "2015-12-21",
          "2015-12-22",
          "2015-12-23",
          "2015-12-24",
          "2015-12-28",
          "2015-12-29",
          "2015-12-30",
          "2015-12-31",
          "2016-01-04",
          "2016-01-05",
          "2016-01-06",
          "2016-01-07",
          "2016-01-08",
          "2016-01-11",
          "2016-01-12",
          "2016-01-13",
          "2016-01-14",
          "2016-01-15",
          "2016-01-19",
          "2016-01-20",
          "2016-01-21",
          "2016-01-22",
          "2016-01-25",
          "2016-01-26",
          "2016-01-27",
          "2016-01-28",
          "2016-01-29",
          "2016-02-01",
          "2016-02-02",
          "2016-02-03",
          "2016-02-04",
          "2016-02-05",
          "2016-02-08",
          "2016-02-09",
          "2016-02-10",
          "2016-02-11",
          "2016-02-12",
          "2016-02-16",
          "2016-02-17",
          "2016-02-18",
          "2016-02-19",
          "2016-02-22",
          "2016-02-23",
          "2016-02-24",
          "2016-02-25",
          "2016-02-26",
          "2016-02-29",
          "2016-03-01",
          "2016-03-02",
          "2016-03-03",
          "2016-03-04",
          "2016-03-07",
          "2016-03-08",
          "2016-03-09",
          "2016-03-10",
          "2016-03-11",
          "2016-03-14",
          "2016-03-15",
          "2016-03-16",
          "2016-03-17",
          "2016-03-18",
          "2016-03-21",
          "2016-03-22",
          "2016-03-23",
          "2016-03-24",
          "2016-03-28",
          "2016-03-29",
          "2016-03-30",
          "2016-03-31",
          "2016-04-01",
          "2016-04-04",
          "2016-04-05",
          "2016-04-06",
          "2016-04-07",
          "2016-04-08",
          "2016-04-11",
          "2016-04-12",
          "2016-04-13",
          "2016-04-14",
          "2016-04-15",
          "2016-04-18",
          "2016-04-19",
          "2016-04-20",
          "2016-04-21",
          "2016-04-22",
          "2016-04-25",
          "2016-04-26",
          "2016-04-27",
          "2016-04-28",
          "2016-04-29",
          "2016-05-02",
          "2016-05-03",
          "2016-05-04",
          "2016-05-05",
          "2016-05-06",
          "2016-05-09",
          "2016-05-10",
          "2016-05-11",
          "2016-05-12",
          "2016-05-13",
          "2016-05-16",
          "2016-05-17",
          "2016-05-18",
          "2016-05-19",
          "2016-05-20",
          "2016-05-23",
          "2016-05-24",
          "2016-05-25",
          "2016-05-26",
          "2016-05-27",
          "2016-05-31",
          "2016-06-01",
          "2016-06-02",
          "2016-06-03",
          "2016-06-06",
          "2016-06-07",
          "2016-06-08",
          "2016-06-09",
          "2016-06-10",
          "2016-06-13",
          "2016-06-14",
          "2016-06-15",
          "2016-06-16",
          "2016-06-17",
          "2016-06-20",
          "2016-06-21",
          "2016-06-22",
          "2016-06-23",
          "2016-06-24",
          "2016-06-27",
          "2016-06-28",
          "2016-06-29",
          "2016-06-30",
          "2016-07-01",
          "2016-07-05",
          "2016-07-06",
          "2016-07-07",
          "2016-07-08",
          "2016-07-11",
          "2016-07-12",
          "2016-07-13",
          "2016-07-14",
          "2016-07-15",
          "2016-07-18",
          "2016-07-19",
          "2016-07-20",
          "2016-07-21",
          "2016-07-22",
          "2016-07-25",
          "2016-07-26",
          "2016-07-27",
          "2016-07-28",
          "2016-07-29",
          "2016-08-01",
          "2016-08-02",
          "2016-08-03",
          "2016-08-04",
          "2016-08-05",
          "2016-08-08",
          "2016-08-09",
          "2016-08-10",
          "2016-08-11",
          "2016-08-12",
          "2016-08-15",
          "2016-08-16",
          "2016-08-17",
          "2016-08-18",
          "2016-08-19",
          "2016-08-22",
          "2016-08-23",
          "2016-08-24",
          "2016-08-25",
          "2016-08-26",
          "2016-08-29",
          "2016-08-30",
          "2016-08-31",
          "2016-09-01",
          "2016-09-02",
          "2016-09-06",
          "2016-09-07",
          "2016-09-08",
          "2016-09-09",
          "2016-09-12",
          "2016-09-13",
          "2016-09-14",
          "2016-09-15",
          "2016-09-16",
          "2016-09-19",
          "2016-09-20",
          "2016-09-21",
          "2016-09-22",
          "2016-09-23",
          "2016-09-26",
          "2016-09-27",
          "2016-09-28",
          "2016-09-29",
          "2016-09-30",
          "2016-10-03",
          "2016-10-04",
          "2016-10-05",
          "2016-10-06",
          "2016-10-07",
          "2016-10-10",
          "2016-10-11",
          "2016-10-12",
          "2016-10-13",
          "2016-10-14",
          "2016-10-17",
          "2016-10-18",
          "2016-10-19",
          "2016-10-20",
          "2016-10-21",
          "2016-10-24",
          "2016-10-25",
          "2016-10-26",
          "2016-10-27",
          "2016-10-28",
          "2016-10-31",
          "2016-11-01",
          "2016-11-02",
          "2016-11-03",
          "2016-11-04",
          "2016-11-07",
          "2016-11-08",
          "2016-11-09",
          "2016-11-10",
          "2016-11-11",
          "2016-11-14",
          "2016-11-15",
          "2016-11-16",
          "2016-11-17",
          "2016-11-18",
          "2016-11-21",
          "2016-11-22",
          "2016-11-23",
          "2016-11-25",
          "2016-11-28",
          "2016-11-29",
          "2016-11-30",
          "2016-12-01",
          "2016-12-02",
          "2016-12-05",
          "2016-12-06",
          "2016-12-07",
          "2016-12-08",
          "2016-12-09",
          "2016-12-12",
          "2016-12-13",
          "2016-12-14",
          "2016-12-15",
          "2016-12-16",
          "2016-12-19",
          "2016-12-20",
          "2016-12-21",
          "2016-12-22",
          "2016-12-23",
          "2016-12-27",
          "2016-12-28",
          "2016-12-29",
          "2016-12-30",
          "2017-01-03",
          "2017-01-04",
          "2017-01-05",
          "2017-01-06",
          "2017-01-09",
          "2017-01-10",
          "2017-01-11",
          "2017-01-12",
          "2017-01-13",
          "2017-01-17",
          "2017-01-18",
          "2017-01-19",
          "2017-01-20",
          "2017-01-23",
          "2017-01-24",
          "2017-01-25",
          "2017-01-26",
          "2017-01-27",
          "2017-01-30",
          "2017-01-31",
          "2017-02-01",
          "2017-02-02",
          "2017-02-03",
          "2017-02-06",
          "2017-02-07",
          "2017-02-08",
          "2017-02-09",
          "2017-02-10",
          "2017-02-13",
          "2017-02-14",
          "2017-02-15",
          "2017-02-16",
          "2017-02-17",
          "2017-02-21",
          "2017-02-22",
          "2017-02-23",
          "2017-02-24",
          "2017-02-27",
          "2017-02-28",
          "2017-03-01",
          "2017-03-02",
          "2017-03-03",
          "2017-03-06",
          "2017-03-07",
          "2017-03-08",
          "2017-03-09",
          "2017-03-10",
          "2017-03-13",
          "2017-03-14",
          "2017-03-15",
          "2017-03-16",
          "2017-03-17",
          "2017-03-20",
          "2017-03-21",
          "2017-03-22",
          "2017-03-23",
          "2017-03-24",
          "2017-03-27",
          "2017-03-28",
          "2017-03-29",
          "2017-03-30",
          "2017-03-31",
          "2017-04-03",
          "2017-04-04",
          "2017-04-05",
          "2017-04-06",
          "2017-04-07",
          "2017-04-10",
          "2017-04-11",
          "2017-04-12",
          "2017-04-13",
          "2017-04-17",
          "2017-04-18",
          "2017-04-19",
          "2017-04-20",
          "2017-04-21",
          "2017-04-24",
          "2017-04-25",
          "2017-04-26",
          "2017-04-27",
          "2017-04-28",
          "2017-05-01",
          "2017-05-02",
          "2017-05-03",
          "2017-05-04",
          "2017-05-05",
          "2017-05-08",
          "2017-05-09",
          "2017-05-10",
          "2017-05-11",
          "2017-05-12",
          "2017-05-15",
          "2017-05-16",
          "2017-05-17",
          "2017-05-18",
          "2017-05-19",
          "2017-05-22",
          "2017-05-23",
          "2017-05-24",
          "2017-05-25",
          "2017-05-26",
          "2017-05-30",
          "2017-05-31",
          "2017-06-01",
          "2017-06-02",
          "2017-06-05",
          "2017-06-06",
          "2017-06-07",
          "2017-06-08",
          "2017-06-09",
          "2017-06-12",
          "2017-06-13",
          "2017-06-14",
          "2017-06-15",
          "2017-06-16",
          "2017-06-19",
          "2017-06-20",
          "2017-06-21",
          "2017-06-22",
          "2017-06-23",
          "2017-06-26",
          "2017-06-27",
          "2017-06-28",
          "2017-06-29",
          "2017-06-30",
          "2017-07-03",
          "2017-07-05",
          "2017-07-06",
          "2017-07-07",
          "2017-07-10",
          "2017-07-11",
          "2017-07-12",
          "2017-07-13",
          "2017-07-14",
          "2017-07-17",
          "2017-07-18",
          "2017-07-19",
          "2017-07-20",
          "2017-07-21",
          "2017-07-24",
          "2017-07-25",
          "2017-07-26",
          "2017-07-27",
          "2017-07-28",
          "2017-07-31",
          "2017-08-01",
          "2017-08-02",
          "2017-08-03",
          "2017-08-04",
          "2017-08-07",
          "2017-08-08",
          "2017-08-09",
          "2017-08-10",
          "2017-08-11",
          "2017-08-14",
          "2017-08-15",
          "2017-08-16",
          "2017-08-17",
          "2017-08-18",
          "2017-08-21",
          "2017-08-22",
          "2017-08-23",
          "2017-08-24",
          "2017-08-25",
          "2017-08-28",
          "2017-08-29",
          "2017-08-30",
          "2017-08-31",
          "2017-09-01",
          "2017-09-05",
          "2017-09-06",
          "2017-09-07",
          "2017-09-08",
          "2017-09-11",
          "2017-09-12",
          "2017-09-13",
          "2017-09-14",
          "2017-09-15",
          "2017-09-18",
          "2017-09-19",
          "2017-09-20",
          "2017-09-21",
          "2017-09-22",
          "2017-09-25",
          "2017-09-26",
          "2017-09-27",
          "2017-09-28",
          "2017-09-29",
          "2017-10-02",
          "2017-10-03",
          "2017-10-04",
          "2017-10-05",
          "2017-10-06",
          "2017-10-09",
          "2017-10-10",
          "2017-10-11",
          "2017-10-12",
          "2017-10-13",
          "2017-10-16",
          "2017-10-17",
          "2017-10-18",
          "2017-10-19",
          "2017-10-20",
          "2017-10-23",
          "2017-10-24",
          "2017-10-25",
          "2017-10-26",
          "2017-10-27",
          "2017-10-30",
          "2017-10-31",
          "2017-11-01",
          "2017-11-02",
          "2017-11-03",
          "2017-11-06",
          "2017-11-07",
          "2017-11-08",
          "2017-11-09",
          "2017-11-10",
          "2017-11-13",
          "2017-11-14",
          "2017-11-15",
          "2017-11-16",
          "2017-11-17",
          "2017-11-20",
          "2017-11-21",
          "2017-11-22",
          "2017-11-24",
          "2017-11-27",
          "2017-11-28",
          "2017-11-29",
          "2017-11-30",
          "2017-12-01",
          "2017-12-04",
          "2017-12-05",
          "2017-12-06",
          "2017-12-07",
          "2017-12-08",
          "2017-12-11",
          "2017-12-12",
          "2017-12-13",
          "2017-12-14",
          "2017-12-15",
          "2017-12-18",
          "2017-12-19",
          "2017-12-20",
          "2017-12-21",
          "2017-12-22",
          "2017-12-26",
          "2017-12-27",
          "2017-12-28",
          "2017-12-29",
          "2018-01-02",
          "2018-01-03",
          "2018-01-04",
          "2018-01-05",
          "2018-01-08",
          "2018-01-09",
          "2018-01-10",
          "2018-01-11",
          "2018-01-12",
          "2018-01-16",
          "2018-01-17",
          "2018-01-18",
          "2018-01-19",
          "2018-01-22",
          "2018-01-23",
          "2018-01-24",
          "2018-01-25",
          "2018-01-26",
          "2018-01-29",
          "2018-01-30",
          "2018-01-31",
          "2018-02-01",
          "2018-02-02",
          "2018-02-05",
          "2018-02-06",
          "2018-02-07",
          "2018-02-08",
          "2018-02-09",
          "2018-02-12",
          "2018-02-13",
          "2018-02-14",
          "2018-02-15",
          "2018-02-16",
          "2018-02-20",
          "2018-02-21",
          "2018-02-22",
          "2018-02-23",
          "2018-02-26",
          "2018-02-27",
          "2018-02-28",
          "2018-03-01",
          "2018-03-02",
          "2018-03-05",
          "2018-03-06",
          "2018-03-07",
          "2018-03-08",
          "2018-03-09",
          "2018-03-12",
          "2018-03-13",
          "2018-03-14",
          "2018-03-15",
          "2018-03-16",
          "2018-03-19",
          "2018-03-20",
          "2018-03-21",
          "2018-03-22",
          "2018-03-23",
          "2018-03-26",
          "2018-03-27",
          "2018-03-28",
          "2018-03-29",
          "2018-04-02",
          "2018-04-03",
          "2018-04-04",
          "2018-04-05",
          "2018-04-06",
          "2018-04-09",
          "2018-04-10",
          "2018-04-11",
          "2018-04-12",
          "2018-04-13",
          "2018-04-16",
          "2018-04-17",
          "2018-04-18",
          "2018-04-19",
          "2018-04-20",
          "2018-04-23",
          "2018-04-24",
          "2018-04-25",
          "2018-04-26",
          "2018-04-27",
          "2018-04-30",
          "2018-05-01",
          "2018-05-02",
          "2018-05-03",
          "2018-05-04",
          "2018-05-07",
          "2018-05-08",
          "2018-05-09",
          "2018-05-10",
          "2018-05-11",
          "2018-05-14",
          "2018-05-15",
          "2018-05-16",
          "2018-05-17",
          "2018-05-18",
          "2018-05-21",
          "2018-05-22",
          "2018-05-23",
          "2018-05-24",
          "2018-05-25",
          "2018-05-29",
          "2018-05-30",
          "2018-05-31",
          "2018-06-01",
          "2018-06-04",
          "2018-06-05",
          "2018-06-06",
          "2018-06-07",
          "2018-06-08",
          "2018-06-11",
          "2018-06-12",
          "2018-06-13",
          "2018-06-14",
          "2018-06-15",
          "2018-06-18",
          "2018-06-19",
          "2018-06-20",
          "2018-06-21",
          "2018-06-22",
          "2018-06-25",
          "2018-06-26",
          "2018-06-27",
          "2018-06-28",
          "2018-06-29",
          "2018-07-02",
          "2018-07-03",
          "2018-07-05",
          "2018-07-06",
          "2018-07-09",
          "2018-07-10",
          "2018-07-11",
          "2018-07-12",
          "2018-07-13",
          "2018-07-16",
          "2018-07-17",
          "2018-07-18",
          "2018-07-19",
          "2018-07-20",
          "2018-07-23",
          "2018-07-24",
          "2018-07-25",
          "2018-07-26",
          "2018-07-27",
          "2018-07-30",
          "2018-07-31",
          "2018-08-01",
          "2018-08-02",
          "2018-08-03",
          "2018-08-06",
          "2018-08-07",
          "2018-08-08",
          "2018-08-09",
          "2018-08-10",
          "2018-08-13",
          "2018-08-14",
          "2018-08-15",
          "2018-08-16",
          "2018-08-17",
          "2018-08-20",
          "2018-08-21",
          "2018-08-22",
          "2018-08-23",
          "2018-08-24",
          "2018-08-27",
          "2018-08-28",
          "2018-08-29",
          "2018-08-30",
          "2018-08-31",
          "2018-09-04",
          "2018-09-05",
          "2018-09-06",
          "2018-09-07",
          "2018-09-10",
          "2018-09-11",
          "2018-09-12",
          "2018-09-13",
          "2018-09-14",
          "2018-09-17",
          "2018-09-18",
          "2018-09-19",
          "2018-09-20",
          "2018-09-21",
          "2018-09-24",
          "2018-09-25",
          "2018-09-26",
          "2018-09-27",
          "2018-09-28",
          "2018-10-01",
          "2018-10-02",
          "2018-10-03",
          "2018-10-04",
          "2018-10-05",
          "2018-10-08",
          "2018-10-09",
          "2018-10-10",
          "2018-10-11",
          "2018-10-12",
          "2018-10-15",
          "2018-10-16",
          "2018-10-17",
          "2018-10-18",
          "2018-10-19",
          "2018-10-22",
          "2018-10-23",
          "2018-10-24",
          "2018-10-25",
          "2018-10-26",
          "2018-10-29",
          "2018-10-30",
          "2018-10-31",
          "2018-11-01",
          "2018-11-02",
          "2018-11-05",
          "2018-11-06",
          "2018-11-07",
          "2018-11-08",
          "2018-11-09",
          "2018-11-12",
          "2018-11-13",
          "2018-11-14",
          "2018-11-15",
          "2018-11-16",
          "2018-11-19",
          "2018-11-20",
          "2018-11-21",
          "2018-11-23",
          "2018-11-26",
          "2018-11-27",
          "2018-11-28",
          "2018-11-29",
          "2018-11-30",
          "2018-12-03",
          "2018-12-04",
          "2018-12-06",
          "2018-12-07",
          "2018-12-10",
          "2018-12-11",
          "2018-12-12",
          "2018-12-13",
          "2018-12-14",
          "2018-12-17",
          "2018-12-18",
          "2018-12-19",
          "2018-12-20",
          "2018-12-21",
          "2018-12-24",
          "2018-12-26",
          "2018-12-27",
          "2018-12-28",
          "2018-12-31",
          "2019-01-02",
          "2019-01-03",
          "2019-01-04",
          "2019-01-07",
          "2019-01-08",
          "2019-01-09",
          "2019-01-10",
          "2019-01-11",
          "2019-01-14",
          "2019-01-15",
          "2019-01-16",
          "2019-01-17",
          "2019-01-18",
          "2019-01-22",
          "2019-01-23",
          "2019-01-24",
          "2019-01-25",
          "2019-01-28",
          "2019-01-29",
          "2019-01-30",
          "2019-01-31",
          "2019-02-01",
          "2019-02-04",
          "2019-02-05",
          "2019-02-06",
          "2019-02-07",
          "2019-02-08",
          "2019-02-11",
          "2019-02-12",
          "2019-02-13",
          "2019-02-14",
          "2019-02-15",
          "2019-02-19",
          "2019-02-20",
          "2019-02-21",
          "2019-02-22",
          "2019-02-25",
          "2019-02-26",
          "2019-02-27",
          "2019-02-28",
          "2019-03-01",
          "2019-03-04",
          "2019-03-05",
          "2019-03-06",
          "2019-03-07",
          "2019-03-08",
          "2019-03-11",
          "2019-03-12",
          "2019-03-13",
          "2019-03-14",
          "2019-03-15",
          "2019-03-18",
          "2019-03-19",
          "2019-03-20",
          "2019-03-21",
          "2019-03-22",
          "2019-03-25",
          "2019-03-26",
          "2019-03-27",
          "2019-03-28",
          "2019-03-29",
          "2019-04-01",
          "2019-04-02",
          "2019-04-03",
          "2019-04-04",
          "2019-04-05",
          "2019-04-08",
          "2019-04-09",
          "2019-04-10",
          "2019-04-11",
          "2019-04-12",
          "2019-04-15",
          "2019-04-16",
          "2019-04-17",
          "2019-04-18",
          "2019-04-22",
          "2019-04-23",
          "2019-04-24",
          "2019-04-25",
          "2019-04-26",
          "2019-04-29",
          "2019-04-30",
          "2019-05-01",
          "2019-05-02",
          "2019-05-03",
          "2019-05-06",
          "2019-05-07",
          "2019-05-08",
          "2019-05-09",
          "2019-05-10",
          "2019-05-13",
          "2019-05-14",
          "2019-05-15",
          "2019-05-16",
          "2019-05-17",
          "2019-05-20",
          "2019-05-21",
          "2019-05-22",
          "2019-05-23",
          "2019-05-24",
          "2019-05-28",
          "2019-05-29",
          "2019-05-30",
          "2019-05-31",
          "2019-06-03",
          "2019-06-04",
          "2019-06-05",
          "2019-06-06",
          "2019-06-07",
          "2019-06-10",
          "2019-06-11",
          "2019-06-12",
          "2019-06-13",
          "2019-06-14",
          "2019-06-17",
          "2019-06-18",
          "2019-06-19",
          "2019-06-20",
          "2019-06-21",
          "2019-06-24",
          "2019-06-25",
          "2019-06-26",
          "2019-06-27",
          "2019-06-28",
          "2019-07-01",
          "2019-07-02",
          "2019-07-03",
          "2019-07-05",
          "2019-07-08",
          "2019-07-09",
          "2019-07-10",
          "2019-07-11",
          "2019-07-12",
          "2019-07-15",
          "2019-07-16",
          "2019-07-17",
          "2019-07-18",
          "2019-07-19",
          "2019-07-22",
          "2019-07-23",
          "2019-07-24",
          "2019-07-25",
          "2019-07-26",
          "2019-07-29",
          "2019-07-30",
          "2019-07-31",
          "2019-08-01",
          "2019-08-02",
          "2019-08-05",
          "2019-08-06",
          "2019-08-07",
          "2019-08-08",
          "2019-08-09",
          "2019-08-12",
          "2019-08-13",
          "2019-08-14",
          "2019-08-15",
          "2019-08-16",
          "2019-08-19",
          "2019-08-20",
          "2019-08-21",
          "2019-08-22",
          "2019-08-23",
          "2019-08-26",
          "2019-08-27",
          "2019-08-28",
          "2019-08-29",
          "2019-08-30",
          "2019-09-03",
          "2019-09-04",
          "2019-09-05",
          "2019-09-06",
          "2019-09-09",
          "2019-09-10",
          "2019-09-11",
          "2019-09-12",
          "2019-09-13",
          "2019-09-16",
          "2019-09-17",
          "2019-09-18",
          "2019-09-19",
          "2019-09-20",
          "2019-09-23",
          "2019-09-24",
          "2019-09-25",
          "2019-09-26",
          "2019-09-27",
          "2019-09-30",
          "2019-10-01",
          "2019-10-02",
          "2019-10-03",
          "2019-10-04",
          "2019-10-07",
          "2019-10-08",
          "2019-10-09",
          "2019-10-10",
          "2019-10-11",
          "2019-10-14",
          "2019-10-15",
          "2019-10-16",
          "2019-10-17",
          "2019-10-18",
          "2019-10-21",
          "2019-10-22",
          "2019-10-23",
          "2019-10-24",
          "2019-10-25",
          "2019-10-28",
          "2019-10-29",
          "2019-10-30",
          "2019-10-31",
          "2019-11-01",
          "2019-11-04",
          "2019-11-05",
          "2019-11-06",
          "2019-11-07",
          "2019-11-08",
          "2019-11-11",
          "2019-11-12",
          "2019-11-13",
          "2019-11-14",
          "2019-11-15",
          "2019-11-18",
          "2019-11-19",
          "2019-11-20",
          "2019-11-21",
          "2019-11-22",
          "2019-11-25",
          "2019-11-26",
          "2019-11-27",
          "2019-11-29"
         ],
         "xaxis": "x",
         "y": [
          113.33,
          113.63,
          113.71,
          114.19,
          114.57,
          114.73,
          113.66,
          114.62,
          114.93,
          113.64,
          115.06,
          113.89,
          111.7,
          109.21,
          109.77,
          109.31,
          109.83,
          108.57,
          107.39,
          109.06,
          110.38,
          109.83,
          106.44,
          106.66,
          105.89,
          107.22,
          107.01,
          108.13,
          108.04,
          109.74,
          110.26,
          110.91,
          111.14,
          111.16,
          109.81,
          110.82,
          110.67,
          110.74,
          111.89,
          112.2,
          112.3,
          112.641,
          114.25,
          114.27,
          114.46,
          114.97,
          115.45,
          115.46,
          115.49,
          116.41,
          117.1,
          117.0375,
          115.97,
          116.5925,
          117.41,
          116.84,
          116.65,
          116.582,
          117.32,
          117.4,
          117,
          117.8,
          118.76,
          119.04,
          118.36,
          118.7725,
          119.55,
          119.74,
          119.83,
          121.19,
          121.29,
          119.36,
          119.81,
          120.88,
          120.66,
          121.02,
          121.8125,
          121.35,
          118.48,
          119.38,
          120.8575,
          118.8125,
          120.35,
          117.52,
          116.82,
          112.942,
          111.26,
          116.16,
          115.83,
          117.45,
          115.99,
          113.89,
          113.95,
          112.4,
          111.76,
          107.54,
          109.115,
          107.71,
          107.818,
          107.17,
          110.76,
          109.369,
          107.53,
          110.33,
          110.71,
          106.82,
          105.49,
          106.62,
          106.05,
          109.15,
          109.68,
          109.509,
          112,
          111.96,
          112.14,
          111.729,
          111.41,
          109.57,
          109.23,
          107.42,
          107.8675,
          107.53,
          104.21,
          103.22,
          102.76,
          102.2,
          102.87,
          106.1075,
          107.16,
          107.96,
          108.03,
          109.66,
          109.651,
          109.68,
          106.66,
          107.29,
          108.48,
          107.07,
          109.461,
          110.41,
          111.56,
          111.55,
          110.83,
          110.29,
          110.27,
          112.76,
          112.22,
          112.97,
          112.85,
          112.392,
          112.992,
          112.375,
          109.3,
          108.63,
          108.31,
          108.26,
          109.59,
          109.79,
          107.88,
          107.53,
          107.1236,
          105.53,
          105.94,
          105.23,
          106.86,
          105.311,
          105.31,
          108.46,
          109.47,
          110.89,
          109.64,
          110.41,
          110.919998,
          111.482,
          112.72,
          112.65,
          113.08,
          113.05,
          112.49,
          114.21,
          113.98,
          113.42,
          112.498,
          114.82,
          114.27,
          114.67,
          114.47,
          114.13,
          114.61,
          113.75,
          116.04,
          116.03,
          115.89,
          116.5375,
          116.65,
          117.01,
          117.92,
          117.46,
          117.7,
          118.28,
          116.73,
          117.87,
          118.13,
          118.347,
          118.7,
          118.72,
          118.38,
          118.4,
          118.49,
          118.53,
          119.475,
          119.95,
          122.26,
          122.725,
          122.49,
          121.61,
          122.1,
          121.635,
          120.198,
          120.03,
          118.16,
          118.218,
          119.9575,
          120.29,
          120.19,
          118.4475,
          120.2,
          119.29,
          119.162,
          118.4925,
          121.01,
          122.56,
          122.89,
          122.76,
          122.83,
          123.28,
          123.76,
          124.48,
          124.56,
          124.67,
          124.098,
          124.82,
          124.3,
          124.6,
          125.39,
          125.78,
          125.6,
          125.65,
          125.83,
          125.92,
          125.72,
          125.75,
          127.05,
          126.98,
          127.64,
          127.39,
          127.14,
          126.98,
          127.43,
          128.58,
          128.3675,
          129.3,
          129.52,
          128.25,
          128.08,
          128.37,
          129.1,
          129.17,
          129.67,
          129.99,
          127.72,
          128.68,
          130.74,
          130.485,
          130.78,
          131.15,
          131.97,
          132.57,
          132.269,
          132.321,
          133.11,
          133.43,
          133.01,
          133.85,
          134.25,
          134.53,
          131.83,
          131.02,
          130.93,
          132.33,
          133.15,
          130.93,
          131.21,
          133.47,
          132.47,
          131.43,
          132.58,
          132.39,
          129.9375,
          130.84,
          130.05,
          128.56,
          126.175,
          127.85,
          127.76,
          129.74,
          129.29,
          129.66,
          130.9,
          131.3,
          130.98,
          131.86,
          132.77,
          132.59,
          133.15,
          133.26,
          133.24,
          133.66,
          133.32,
          132.86,
          132.46,
          131.47,
          131.46,
          131.56,
          132.04,
          130.56,
          131.31,
          133.1,
          133.78,
          133.64,
          134.791,
          135.67,
          136.11,
          136.43,
          136.22,
          135.73,
          134.83,
          133.61,
          134.2,
          134.72,
          135.87,
          134.44,
          135.08,
          134.04,
          133.19,
          133.17,
          134.36,
          134.68,
          133.61,
          132.06,
          131.95,
          132.39,
          133,
          133.51,
          134.9,
          131.87,
          131.73,
          130.42,
          129.045,
          128.96,
          128.42,
          129.4,
          127.6,
          127.7,
          129.32,
          127.02,
          127.3,
          127.05,
          127.7,
          129.45,
          128.67,
          128.301,
          126.81,
          127.94,
          129.61,
          130.72,
          131.97,
          133.92,
          133.81,
          133.97,
          135.36,
          134.4,
          131.97,
          131.4,
          131.84,
          130.93,
          131.69,
          130.61,
          132.73,
          132.65,
          134.49,
          134.58,
          133.83,
          133.33,
          130.6,
          130.22,
          129.33,
          128.78,
          125.49,
          126.17,
          120.26,
          120.08,
          112.26,
          117.48,
          112.29,
          117.33,
          118.12,
          120.62,
          119.59,
          119.67,
          114.51,
          112.64,
          112.73,
          116.44,
          118.08,
          116.28,
          117.97,
          121.36,
          121.68,
          122.22,
          120.94,
          117.85,
          116.99,
          120.29,
          119.04,
          115.92,
          116.67,
          117.74,
          119.37,
          121.43,
          121.521,
          120.31,
          120.17,
          116.63,
          112.86,
          113.54,
          116.24,
          117.54,
          115.145,
          116.05,
          113.15,
          109.93,
          112.34,
          114.42,
          116.49,
          115.71,
          119.58,
          119.7,
          120.75,
          120.51,
          122.57,
          120.23,
          122.58,
          121.13,
          121.66,
          123.97,
          125.49,
          123.049,
          124.3,
          128.63,
          128.6,
          125.5,
          122.002,
          123.99,
          126.25,
          125.481,
          126.26,
          127.88,
          123.161,
          124.32,
          126.66,
          125.46,
          126.083,
          124.08,
          122.105,
          121.979,
          119.661,
          119.19,
          116.56,
          116.34,
          119.71,
          120.05,
          124.99,
          124.97,
          124.86,
          126.22,
          126.26,
          126.73,
          123.95,
          126.05,
          124.21,
          123.05,
          121.74,
          122.185,
          121.59,
          120.29,
          123.93,
          124.17,
          125.27,
          126.39,
          126.49,
          124.83,
          126.12,
          125.5,
          127.495,
          127.7,
          128.04,
          127.71,
          128.02,
          129.13,
          129.2,
          129.51,
          128.84,
          129.34,
          130.77,
          131.46,
          131.95,
          131.61,
          131.46,
          132.56,
          131.88,
          131.82,
          131.37,
          131.32,
          132.47,
          132.68,
          134.54,
          134.45,
          134.79,
          135.19,
          135.36,
          134.361,
          135.36,
          135.19,
          134.56,
          136.049,
          136.41,
          136.47,
          136.032,
          136.631,
          136.93,
          137.16,
          137.559,
          137.02,
          137.73,
          137.312,
          136.75,
          134.75,
          135.69,
          137.04,
          137.57,
          137.58,
          140.062,
          139.91,
          140.72,
          140.3,
          140.85,
          140.44,
          140.21,
          139.2,
          139.65,
          141.61,
          141.17,
          140.47,
          140.23,
          140.81,
          141.84,
          141.26,
          139.86,
          139.79,
          138.22,
          135.9,
          137,
          138.79,
          137.14,
          137.05,
          139.082,
          138.61,
          137.72,
          137.95,
          136.79,
          137.31,
          139.19,
          140.16,
          140.39,
          139.87,
          140.74,
          140.325,
          139.25,
          137,
          137.1,
          136.55,
          135.74,
          136.02,
          135.61,
          134.11,
          133.34,
          132.829,
          130.86,
          129.74,
          131.97,
          132.2,
          132.27,
          132.53,
          132.1,
          133.7,
          131.76,
          131.47,
          128.16,
          128.1,
          129.07,
          131.97,
          132.05,
          133.1,
          131.415,
          132.92,
          132.07,
          133.47,
          134.14,
          134.4,
          135.7,
          135.48,
          132.44,
          133.46,
          131.32,
          131.98,
          133.173,
          132.79,
          136.105,
          136.51,
          137.412,
          136.79,
          135.49,
          135.32,
          134.14,
          134.16,
          133.51,
          135.75,
          135.43,
          136.36,
          137.37,
          137.73,
          136.47,
          135.09,
          133.925,
          133.96,
          136.17,
          138.675,
          138.68,
          137.71,
          137.59,
          136.64,
          139.349,
          139.62,
          140.32,
          140.49,
          140.61,
          140.84,
          140.77,
          140.79,
          140.95,
          141.99,
          142.18,
          142.19,
          141.76,
          141.82,
          140.665,
          141.51,
          141.54,
          141.4,
          141.51,
          140.49,
          141.16,
          141.03,
          140.91,
          143.77,
          144.33,
          143.51,
          143.91,
          144.39,
          146.59,
          147.24,
          146.74,
          146.62,
          146.7,
          146.71,
          145.87,
          145.645,
          144.1,
          143.295,
          144.64,
          143.97,
          144.345,
          144.5,
          145.09,
          146.125,
          146.14,
          145.642,
          144.2,
          143.28,
          143.36,
          142.89,
          144.08,
          145.54,
          146.2,
          145.82,
          143.3896,
          143.41,
          141.42,
          141.02,
          141.43,
          141.35,
          141.35,
          142.83,
          141.56,
          141.8486,
          142.96,
          139.72,
          138.04,
          138.16,
          138.265,
          137.79,
          135.9299,
          135.7,
          136.37,
          139.13,
          139.19,
          139.45,
          141.35,
          141.05,
          140.33,
          141.46,
          142.12,
          142.155,
          141.45,
          141.25,
          141.5,
          141.98,
          142.415,
          142.473,
          143.44,
          143.51,
          142.63,
          142.1051,
          143.77,
          145.37,
          144.29,
          145.12,
          142.79,
          142.35,
          141.75,
          141.5616,
          140.03,
          142.41,
          146.06,
          145.7341,
          146.37,
          145.9695,
          145.5496,
          145.92,
          147.08,
          147.07,
          146.97,
          147.07,
          147.05,
          148,
          148.33,
          149.13,
          149.37,
          149.41,
          150.25,
          150.07,
          150.66,
          150.07,
          149.7,
          151.24,
          149.535,
          151.05,
          151.16,
          150.96,
          151.8,
          151.77,
          152.02,
          152.151,
          152.29,
          152.11,
          153.25,
          151.34,
          150.42,
          151.89,
          149,
          150.02,
          151.91,
          151.61,
          152.11,
          152.92,
          154.29,
          154.5,
          154.776,
          155.44,
          156.03,
          155.68,
          155.905,
          156.73,
          155.83,
          154.97,
          154.61,
          155.69,
          154.359,
          155.6,
          154.95,
          156.19,
          156.19,
          156.67,
          156.05,
          156.82,
          155.23,
          155.86,
          155.158,
          156.21,
          156.75,
          158.67,
          159.19,
          158.8,
          155.118,
          157.41,
          155.11,
          154.14,
          155.48,
          156.17,
          157.78,
          157.88,
          158.52,
          158.24,
          159.3,
          159.68,
          158.28,
          159.75,
          161.368,
          161.78,
          162.5999,
          163.34,
          162.881,
          163.41,
          163.54,
          165.23,
          166.115,
          165.34,
          166.94,
          166.93,
          167.17,
          165.93,
          165.45,
          165.308,
          166.3,
          165.22,
          165.83,
          163.445,
          164.35,
          163.56,
          161.272,
          162.73,
          164.8,
          164.8,
          163.098,
          161.75,
          164.21,
          163.175,
          164.44,
          165.735,
          163.45,
          159.4,
          159.07,
          157.06,
          158.575,
          160.14,
          161.08,
          160.42,
          161.36,
          161.21,
          161.28,
          163.02,
          163.945,
          165.13,
          165.192,
          167.44,
          167.51,
          168.155,
          167.525,
          167.9501,
          168.87,
          169.17,
          169.5,
          169.14,
          168.52,
          168.93,
          169.11,
          168.59,
          168.588,
          168.71,
          170.66,
          170.95,
          170.7,
          169.73,
          169.18,
          169.8,
          169.31,
          169.111,
          169.61,
          168.74,
          166.38,
          165.83,
          164.77,
          165.58,
          164.56,
          166.06,
          166.62,
          166,
          163.33,
          163.91,
          164.17,
          163.65,
          164.39,
          165.75,
          165.96,
          166.04,
          167.634,
          168.87,
          169.4,
          168.95,
          169.33,
          170.31,
          171.07,
          173.051,
          172.76,
          170.72,
          169.93,
          169.53,
          169.04,
          169.69,
          168.909,
          168.01,
          169.34,
          169.18,
          167.62,
          168.89,
          167.43,
          165.48,
          165.6,
          169.17,
          170.26,
          170.94,
          169.7,
          172.07,
          173.22,
          174.388,
          174.4,
          175.41,
          174.57,
          175.15,
          175.95,
          176.23,
          177.17,
          176.29,
          175.79,
          176.21,
          176.83,
          176.27,
          177.17,
          174.93,
          177.29,
          177.32,
          176.96,
          178.38,
          179.27,
          180.05,
          179.42,
          179.03,
          178.47,
          179.91,
          180.81,
          180.63,
          180.68,
          181.12,
          181,
          180.53,
          179.75,
          179.73,
          178.94,
          180.94,
          181.4,
          180.75,
          178.72,
          178.13,
          178.11,
          179.216,
          178.65,
          181.7,
          181.49,
          181.56,
          182.53,
          182.93,
          183.855,
          183.845,
          183.82,
          184.69,
          182.92,
          182.885,
          182.36,
          183.48,
          183.52,
          183.64,
          184.14,
          181.685,
          183.67,
          184.66,
          184.42,
          183.635,
          184.18,
          184.3,
          182.79,
          178.89,
          178.01,
          179.07,
          177.35,
          179.23,
          178.18,
          174.17,
          175.385,
          175.17,
          177.48,
          179.68,
          180.01,
          181.98,
          182.07,
          183.01,
          184.02,
          184.24,
          183.02,
          184.1,
          183.89,
          184.91,
          184.84,
          184.85,
          185.82,
          186.29,
          184.98,
          187.58,
          187.75,
          188.18,
          188.26,
          188.16,
          187.23,
          187.28,
          185.18,
          184.66,
          186.33,
          187.66,
          186.66,
          187.747,
          186.2,
          185.43,
          186.31,
          184.97,
          184.58,
          185.49,
          187.01,
          188.25,
          188.88,
          188.63,
          186.4,
          184.34,
          185.1,
          187.09,
          183.155,
          181.51,
          182.9401,
          184.2,
          186.125,
          186.39,
          187.04,
          187.89,
          187.45,
          187.83,
          186.29,
          186.875,
          187.75,
          188.31,
          188.325,
          188.06,
          188.42,
          186.78,
          187.88,
          187.675,
          187.96,
          189.785,
          189.96,
          189.06,
          187.4,
          188.05,
          188.74,
          187.55,
          189.13,
          189.59,
          190.35,
          191.52,
          191.38,
          192.37,
          192.68,
          192.895,
          192.8,
          193.19,
          194.45,
          195.375,
          195.58,
          195.6,
          194.92,
          193.54,
          194.13,
          194.29,
          194.83,
          196.255,
          196.48,
          195.94,
          195.88,
          194.7,
          195.58,
          195.44,
          195.82,
          195.72,
          197.03,
          197.23,
          198.2,
          197.51,
          196.24,
          197.12,
          196.34,
          196.61,
          197.6,
          197.23,
          197.96,
          195.71,
          197.7099,
          197.34,
          198.2,
          198.64,
          198.65,
          197.72,
          197.8,
          196.95,
          196.98,
          193.09,
          192.5,
          193.89,
          192.01,
          192.07,
          191.03,
          193.24,
          193.795,
          193.53,
          194.84,
          195.76,
          195.72,
          197.36,
          198.39,
          198.92,
          199.5,
          199.19,
          200.2,
          200.33,
          200.25,
          200.14,
          200.71,
          200.61,
          200.5,
          200.2101,
          201.11,
          200.59,
          199.32,
          200.07,
          200.3,
          199.13,
          198.981,
          200.48,
          200.75,
          201.82,
          200.7,
          199.15,
          198.01,
          199.56,
          196.34,
          197.9,
          197.54,
          197.02,
          194.35,
          194.38,
          196.52,
          196.29,
          193.26,
          196.64,
          192.74,
          190.54,
          187.4099,
          187.7,
          186.43,
          186.27,
          188.47,
          190.3,
          194.07,
          192.69,
          194.93,
          196.43,
          196.16,
          198.41,
          198.11,
          199.38,
          201.66,
          201.77,
          201.07,
          202.34,
          203.15,
          203.34,
          203.98,
          204.175,
          203.96,
          204.19,
          204.24,
          204.37,
          205.55,
          205.22,
          205.58,
          206.68,
          207.26,
          207.11,
          207.64,
          207.2,
          205.76,
          207.085,
          207.89,
          207.66,
          208,
          206.61,
          206.47,
          203.1601,
          204.19,
          200.89,
          199.51,
          197.91,
          201.79,
          206.78,
          206.52,
          207.47,
          207.75,
          207.77,
          208.44,
          208.72,
          207.6,
          205.54,
          205.43,
          201.72,
          199.82,
          202.31,
          205.9,
          204.25,
          202.65,
          202.08,
          200.86,
          199.0199,
          201.63,
          202.055,
          203.08,
          206.1,
          204.97,
          205.45,
          202.74,
          200.14,
          201.9902,
          199.45,
          201.92,
          204.84,
          204.06,
          206.12,
          205.55,
          204.63,
          206.81,
          206.93,
          208.92,
          209.78,
          210.11,
          210.13,
          209.98,
          211.239,
          211.209,
          211.81,
          211.63,
          211.38,
          210.66,
          211.99,
          211.12,
          210.2301,
          210.46,
          207.5,
          208.36,
          204.98,
          204.5,
          207.1,
          205.8272,
          208.58,
          207.96,
          210.46,
          209.5,
          210.41,
          210,
          208.82,
          205.76,
          205.27,
          205.74,
          208.25,
          206.43,
          205.7,
          206.435,
          207.83,
          207.28,
          207.975,
          208.9,
          210.04,
          209.09,
          209.49,
          210.43,
          210.37,
          207.95,
          209.85,
          209.6,
          210.63,
          211.16,
          211.6499,
          210.77,
          211.44,
          210.57,
          208.46,
          210.72,
          211.32,
          208.9,
          208.04,
          208.87,
          211.62,
          210.605,
          209.98,
          210.02,
          212.21,
          212.44,
          213.1,
          213.03,
          212.88,
          213.5,
          212.99,
          210.7,
          212.7,
          212.46,
          211.14,
          211.57,
          211.36,
          211.92,
          210.1292,
          209.77,
          208.48,
          208.45,
          210.95,
          211.63,
          210.01,
          209.11,
          210.25,
          210.59,
          212.78,
          210.81,
          211.89,
          212.04,
          210.5,
          209.86,
          209.82,
          205.42,
          205.85,
          207.5,
          207.31,
          206.72,
          208.02,
          204.53,
          204.9,
          207.48,
          209.77,
          210.68,
          210.61,
          212.3,
          212.48,
          212.59,
          211.75,
          211.37,
          210.18,
          208,
          206.79,
          209.33,
          210.77,
          210.82,
          210.5,
          209.79,
          209.38,
          210.07,
          208.35,
          207.95,
          210.57,
          208.67,
          208.92,
          208.66,
          209.42,
          210.59,
          209.98,
          208.32,
          203.97,
          197.83,
          189.5,
          187.27,
          194.46,
          199.27,
          199.28,
          197.67,
          191.77,
          195.41,
          195.55,
          192.59,
          197.43,
          194.79,
          195.85,
          196.74,
          196.01,
          198.46,
          200.18,
          199.73,
          195.45,
          196.46,
          193.91,
          193.6,
          192.9,
          192.85,
          188.01,
          188.12,
          191.63,
          192.13,
          195,
          198.47,
          197.79,
          199.41,
          201.21,
          201.33,
          201.52,
          200.25,
          199.29,
          202.35,
          203.27,
          203.37,
          203.11,
          201.85,
          205.26,
          207.51,
          207,
          206.6,
          208.95,
          208.83,
          207.93,
          210.39,
          211,
          210.36,
          210.15,
          210.04,
          208.08,
          208.56,
          207.74,
          204.84,
          202.54,
          205.62,
          205.47,
          208.73,
          208.55,
          209.3108,
          209.07,
          209.35,
          209.32,
          209.56,
          208.69,
          210.68,
          208.529,
          205.61,
          209.62,
          208.35,
          206.949,
          205.34,
          205.87,
          201.88,
          202.9008,
          205.0308,
          208.03,
          204.86,
          200.0208,
          201.67,
          203.5,
          206.02,
          205.68,
          205.21,
          207.4,
          205.93,
          203.87,
          201.0192,
          201.36,
          198.82,
          194.05,
          191.923,
          192.11,
          193.6608,
          188.83,
          191.93,
          187.81,
          188.06,
          185.65,
          186.69,
          190.52,
          187.64,
          190.2,
          188.13,
          189.11,
          193.7208,
          193.65,
          190.16,
          191.3,
          191.6,
          187.95,
          185.42,
          185.43,
          185.27,
          182.86,
          186.63,
          189.78,
          192.88,
          192.09,
          192,
          194.78,
          192.32,
          193.2,
          195.54,
          195.0892,
          193.56,
          198.11,
          199,
          199.775,
          200.43,
          200.59,
          198.4,
          199.38,
          199.54,
          202.76,
          202.5,
          202.17,
          203.34,
          204.63,
          204.38,
          204.67,
          204.56,
          203.2092,
          203.12,
          203.24,
          205.1208,
          206.02,
          205.52,
          206.92,
          206.25,
          204.1892,
          206.42,
          203.95,
          204.4992,
          204.0201,
          205.92,
          208.0008,
          208.01,
          207.78,
          209.2392,
          209.9,
          210.1,
          208.97,
          208.97,
          208.61,
          208.9192,
          209.35,
          207.4475,
          206.3308,
          207.97,
          206.1592,
          205.01,
          204.97,
          205.72,
          205.8892,
          208.45,
          206.5,
          206.56,
          204.76,
          206.78,
          204.8508,
          204.91,
          204.2,
          205.49,
          205.21,
          207.87,
          209.28,
          209.34,
          210.24,
          209.84,
          210.27,
          210.91,
          210.28,
          211.35,
          211.68,
          212.37,
          212.08,
          210.07,
          208.4492,
          208.04,
          207.75,
          208.37,
          206.52,
          207.85,
          208.44,
          208.1,
          210.81,
          203.13,
          199.6,
          203.1997,
          206.66,
          209.475,
          209.9208,
          208.41,
          209.66,
          209.526,
          212.65,
          213.4,
          214.95,
          214.92,
          216.12,
          215.83,
          216.4092,
          216.19,
          217.085,
          216.265,
          217.24,
          216.65,
          216.75,
          216.52,
          216.77,
          217.12,
          216.94,
          215.5492,
          216.18,
          216.4097,
          218.18,
          218.05,
          218.18,
          217.64,
          218.65,
          218.46,
          219.09,
          217.96,
          218.37,
          218.86,
          218.54,
          218.53,
          218.97,
          217.85,
          217.7,
          217.29,
          218.3608,
          218,
          217.38,
          217.39,
          218.37,
          219.0308,
          219.01,
          218.51,
          213.28,
          216.34,
          213.23,
          213.15,
          215.28,
          213.37,
          213.41,
          213.42,
          215.82,
          217.18,
          215.99,
          214.24,
          215.57,
          216.64,
          214.68,
          216.3,
          215.78,
          214.68,
          215.63,
          215.78,
          215.04,
          216.16,
          213.43,
          213.71,
          213.01,
          213.12,
          212.38,
          213.71,
          214.28,
          213.88,
          213.98,
          214.89,
          214.17,
          213.74,
          213.17,
          212.54,
          212.55,
          211.01,
          209.74,
          208.78,
          208.55,
          213.15,
          214.11,
          216.3792,
          216.92,
          216.42,
          216.59,
          218.28,
          217.87,
          218.99,
          218.5,
          220.15,
          220.58,
          220.7,
          221.52,
          220.48,
          220.91,
          220.38,
          219.57,
          219.68,
          221,
          221.7,
          224.6,
          225.15,
          226.51,
          226.25,
          227.76,
          225.88,
          226.81,
          225.04,
          225.53,
          226.4,
          225.77,
          225.38,
          225.71,
          226.27,
          224.4,
          224.35,
          223.53,
          225.24,
          226.58,
          226.4,
          227.21,
          226.46,
          226.46,
          227.1,
          226.53,
          227.05,
          226.25,
          226.75,
          225.91,
          226.74,
          226.15,
          227.6,
          229.57,
          229.33,
          228.97,
          227.55,
          227.53,
          227.62,
          227.77,
          229.34,
          228.93,
          228.94,
          229.24,
          230.6,
          231.51,
          232.77,
          233.7,
          234.92,
          234.72,
          235.09,
          236.49,
          236.28,
          236.44,
          236.74,
          237.11,
          236.47,
          239.78,
          238.27,
          238.42,
          237.71,
          237,
          236.56,
          236.86,
          237.69,
          237.81,
          236.9,
          238.95,
          238.48,
          237.03,
          236.77,
          233.73,
          234.28,
          234.03,
          233.86,
          233.62,
          235.32,
          235.54,
          236.29,
          235.74,
          235.33,
          235.48,
          234.78,
          235.44,
          235.2,
          235.34,
          235.06,
          234.03,
          232.51,
          234.57,
          233.87,
          233.44,
          235.34,
          234.59,
          237.17,
          238.55,
          238.4,
          238.6,
          238.08,
          238.68,
          238.77,
          238.48,
          238.76,
          239.7,
          239.66,
          239.44,
          239.87,
          239.38,
          238.98,
          240.3,
          240.08,
          235.82,
          236.77,
          238.31,
          239.52,
          240.05,
          240.61,
          241.76,
          241.71,
          241.5,
          241.44,
          243.36,
          244.17,
          243.99,
          243.21,
          243.66,
          243.78,
          243.41,
          243.36,
          244.55,
          244.24,
          243.77,
          242.64,
          244.66,
          243.01,
          242.95,
          242.84,
          243.13,
          243.29,
          241.33,
          243.49,
          241.35,
          241.8,
          242.21,
          242.77,
          240.55,
          242.11,
          242.37,
          242.19,
          244.01,
          244.42,
          245.56,
          245.53,
          245.66,
          246.99,
          247.1,
          246.88,
          246.82,
          247.42,
          247.43,
          247.2,
          246.91,
          246.77,
          247.32,
          247.44,
          246.96,
          247.41,
          247.87,
          247.26,
          247.25,
          243.76,
          244.12,
          246.54,
          246.51,
          246.94,
          243.09,
          242.71,
          242.9,
          245.44,
          244.56,
          243.99,
          244.56,
          244.57,
          244.85,
          246.01,
          247.49,
          247.84,
          246.06,
          246.9,
          246.87,
          246.58,
          249.21,
          250.05,
          250.17,
          250.09,
          249.19,
          249.72,
          249.97,
          250.06,
          249.39,
          249.44,
          248.93,
          249.08,
          250.05,
          250.35,
          251.23,
          252.32,
          252.86,
          253.16,
          254.66,
          254.37,
          253.95,
          254.62,
          255.02,
          254.64,
          254.95,
          255.29,
          255.47,
          255.72,
          255.79,
          257.11,
          256.11,
          256.56,
          255.29,
          255.62,
          257.71,
          256.75,
          257.15,
          257.49,
          257.59,
          258.45,
          258.85,
          258.67,
          259.11,
          258.17,
          258.09,
          258.33,
          257.73,
          256.44,
          258.62,
          257.86,
          258.3,
          259.99,
          259.76,
          260.36,
          260.23,
          262.87,
          262.71,
          265.01,
          264.46,
          264.14,
          263.19,
          263.24,
          264.07,
          265.51,
          266.31,
          266.78,
          266.75,
          265.66,
          266.51,
          268.2,
          267.17,
          267.03,
          267.58,
          267.51,
          267.19,
          267.32,
          267.87,
          266.86,
          268.77,
          270.47,
          271.61,
          273.42,
          273.92,
          274.54,
          274.12,
          276.12,
          277.92,
          276.97,
          279.61,
          279.14,
          280.41,
          282.69,
          283.29,
          283.18,
          283.3,
          286.58,
          284.68,
          281.76,
          281.9,
          281.58,
          275.45,
          263.93,
          269.13,
          267.67,
          257.63,
          261.5,
          265.34,
          266,
          269.59,
          273.03,
          273.11,
          271.4,
          270.05,
          270.4,
          274.71,
          277.9,
          274.43,
          271.65,
          267.7,
          269.08,
          272.19,
          272.88,
          272.78,
          274.1,
          278.87,
          278.52,
          276.72,
          275.3,
          275,
          274.2,
          270.49,
          270.95,
          270.43,
          263.67,
          258.05,
          265.11,
          260.6,
          259.83,
          263.15,
          257.47,
          260.77,
          263.56,
          265.64,
          259.72,
          261,
          265.15,
          263.76,
          265.93,
          265.15,
          267.33,
          270.19,
          270.39,
          268.89,
          266.61,
          266.57,
          262.98,
          263.63,
          266.31,
          266.56,
          264.51,
          264.98,
          263.2,
          262.62,
          266.02,
          266.92,
          266.92,
          269.5,
          272.02,
          272.85,
          272.98,
          271.1,
          272.24,
          272.01,
          271.33,
          273.37,
          272.61,
          273.36,
          272.8,
          272.15,
          269.02,
          272.61,
          270.94,
          273.6,
          274.9,
          275.1,
          277.4,
          277.37,
          278.19,
          278.56,
          278.92,
          278.03,
          278.73,
          277.13,
          276.56,
          275.5,
          275.97,
          274.24,
          274.74,
          271,
          271.6,
          269.35,
          270.89,
          271.28,
          271.86,
          270.9,
          273.11,
          275.42,
          277.9,
          278.9,
          276.86,
          279.37,
          279.59,
          279.34,
          280.47,
          281.06,
          280,
          279.68,
          280.2,
          281.61,
          284.01,
          283.34,
          281.42,
          279.95,
          281.33,
          280.86,
          282.39,
          283.6,
          284.64,
          285.58,
          285.46,
          285.07,
          283.16,
          282.1,
          283.9,
          281.78,
          284.06,
          285.06,
          285.67,
          286.34,
          286.17,
          285.79,
          287.51,
          289.78,
          289.92,
          291.48,
          290.3,
          290.31,
          289.81,
          289.03,
          288.16,
          287.6,
          288.1,
          289.05,
          289.12,
          290.83,
          290.88,
          289.34,
          290.91,
          291.22,
          293.58,
          291.99,
          291.02,
          290.75,
          289.88,
          290.69,
          290.72,
          291.73,
          291.56,
          291.72,
          289.44,
          287.82,
          287.82,
          287.4,
          278.3,
          272.17,
          275.95,
          274.4,
          280.4,
          280.45,
          276.4,
          276.25,
          275.01,
          273.61,
          265.32,
          270.08,
          265.33,
          263.86,
          267.77,
          270.63,
          273.51,
          271.89,
          273.39,
          275.12,
          281.01,
          280.5,
          277.76,
          272.57,
          272.06,
          270.2,
          273.02,
          273.73,
          269.1,
          264.12,
          265.02,
          263.25,
          267.5,
          268.4,
          274.58,
          273.98,
          275.65,
          279.3,
          270.25,
          269.84,
          263.57,
          264.07,
          264.13,
          265.46,
          265.37,
          260.47,
          255.36,
          255.08,
          251.26,
          247.17,
          240.7,
          234.34,
          246.18,
          248.07,
          247.75,
          249.92,
          250.18,
          244.21,
          252.39,
          254.38,
          256.77,
          257.97,
          258.88,
          258.98,
          257.4,
          260.35,
          260.98,
          262.96,
          266.46,
          262.86,
          263.41,
          263.55,
          265.78,
          263.76,
          263.41,
          267.58,
          269.93,
          270.06,
          271.96,
          273.1,
          272.74,
          270.14,
          270.47,
          270.62,
          274.1,
          274.99,
          274.38,
          277.37,
          277.85,
          278.41,
          277.42,
          279.14,
          279.52,
          279.32,
          279.2,
          278.68,
          280.42,
          279.4,
          279.02,
          277.33,
          275.01,
          274.46,
          278.44,
          279.49,
          281.34,
          281.16,
          281.31,
          282.33,
          282.4,
          281.55,
          284.73,
          279.25,
          279.04,
          281.12,
          279.65,
          280.71,
          282.48,
          285.83,
          285.97,
          286.42,
          287.18,
          288.57,
          288.79,
          287.31,
          288.29,
          288.21,
          290.16,
          289.97,
          290.16,
          289.45,
          290.02,
          290.27,
          292.88,
          292.23,
          292.05,
          293.41,
          293.87,
          294.02,
          291.81,
          291.18,
          294.03,
          292.82,
          287.93,
          287.53,
          286.66,
          288.1,
          280.86,
          283.4,
          285.06,
          287.7,
          285.84,
          283.95,
          286.51,
          285.63,
          282.14,
          282.78,
          280.15,
          278.27,
          279.03,
          275.27,
          274.57,
          280.53,
          282.96,
          284.8,
          287.65,
          288.97,
          288.9,
          288.39,
          289.58,
          289.26,
          289.37,
          292.4,
          293.06,
          295.86,
          294,
          293.64,
          290.76,
          290.47,
          291.5,
          293,
          295.66,
          296.43,
          298.8,
          298.46,
          296.82,
          297.19,
          298.61,
          299.31,
          300.65,
          300.75,
          299.71,
          297.74,
          298.83,
          297.17,
          297.9,
          300.03,
          301.44,
          300,
          302.01,
          301.46,
          300.72,
          297.43,
          294.84,
          292.62,
          283.82,
          287.8,
          287.97,
          293.62,
          291.62,
          288.07,
          292.55,
          283.9,
          284.65,
          288.85,
          292.33,
          290.09,
          292.45,
          292.36,
          284.85,
          288,
          286.87,
          288.89,
          292.58,
          292.45,
          290.74,
          294.04,
          297.82,
          298.05,
          298.2,
          298.13,
          300.25,
          301.29,
          301.09,
          300.16,
          300.92,
          301.1,
          301.08,
          298.28,
          298.21,
          295.87,
          297.62,
          297,
          295.4,
          296.77,
          293.24,
          288.06,
          290.42,
          294.35,
          293.08,
          288.53,
          291.27,
          293.24,
          296.28,
          295.95,
          298.88,
          298.4,
          299.28,
          297.97,
          299.99,
          299.01,
          299.88,
          300.37,
          301.6,
          303.3,
          303.21,
          304.14,
          303.33,
          306.14,
          307.37,
          307.03,
          307.1,
          308.18,
          308.94,
          308.35,
          309,
          309.1,
          309.55,
          311.79,
          312.02,
          311.93,
          310.77,
          310.27,
          310.96,
          313.37,
          314.08,
          315.48,
          314.31
         ],
         "yaxis": "y"
        },
        {
         "line": {
          "color": "rgba(55, 128, 191, 1.0)",
          "dash": "solid",
          "shape": "linear",
          "width": 1.3
         },
         "mode": "lines",
         "name": "VOLUME",
         "text": "",
         "type": "scatter",
         "x": [
          "2010-01-04",
          "2010-01-05",
          "2010-01-06",
          "2010-01-07",
          "2010-01-08",
          "2010-01-11",
          "2010-01-12",
          "2010-01-13",
          "2010-01-14",
          "2010-01-15",
          "2010-01-19",
          "2010-01-20",
          "2010-01-21",
          "2010-01-22",
          "2010-01-25",
          "2010-01-26",
          "2010-01-27",
          "2010-01-28",
          "2010-01-29",
          "2010-02-01",
          "2010-02-02",
          "2010-02-03",
          "2010-02-04",
          "2010-02-05",
          "2010-02-08",
          "2010-02-09",
          "2010-02-10",
          "2010-02-11",
          "2010-02-12",
          "2010-02-16",
          "2010-02-17",
          "2010-02-18",
          "2010-02-19",
          "2010-02-22",
          "2010-02-23",
          "2010-02-24",
          "2010-02-25",
          "2010-02-26",
          "2010-03-01",
          "2010-03-02",
          "2010-03-03",
          "2010-03-04",
          "2010-03-05",
          "2010-03-08",
          "2010-03-09",
          "2010-03-10",
          "2010-03-11",
          "2010-03-12",
          "2010-03-15",
          "2010-03-16",
          "2010-03-17",
          "2010-03-18",
          "2010-03-19",
          "2010-03-22",
          "2010-03-23",
          "2010-03-24",
          "2010-03-25",
          "2010-03-26",
          "2010-03-29",
          "2010-03-30",
          "2010-03-31",
          "2010-04-01",
          "2010-04-05",
          "2010-04-06",
          "2010-04-07",
          "2010-04-08",
          "2010-04-09",
          "2010-04-12",
          "2010-04-13",
          "2010-04-14",
          "2010-04-15",
          "2010-04-16",
          "2010-04-19",
          "2010-04-20",
          "2010-04-21",
          "2010-04-22",
          "2010-04-23",
          "2010-04-26",
          "2010-04-27",
          "2010-04-28",
          "2010-04-29",
          "2010-04-30",
          "2010-05-03",
          "2010-05-04",
          "2010-05-05",
          "2010-05-06",
          "2010-05-07",
          "2010-05-10",
          "2010-05-11",
          "2010-05-12",
          "2010-05-13",
          "2010-05-14",
          "2010-05-17",
          "2010-05-18",
          "2010-05-19",
          "2010-05-20",
          "2010-05-21",
          "2010-05-24",
          "2010-05-25",
          "2010-05-26",
          "2010-05-27",
          "2010-05-28",
          "2010-06-01",
          "2010-06-02",
          "2010-06-03",
          "2010-06-04",
          "2010-06-07",
          "2010-06-08",
          "2010-06-09",
          "2010-06-10",
          "2010-06-11",
          "2010-06-14",
          "2010-06-15",
          "2010-06-16",
          "2010-06-17",
          "2010-06-18",
          "2010-06-21",
          "2010-06-22",
          "2010-06-23",
          "2010-06-24",
          "2010-06-25",
          "2010-06-28",
          "2010-06-29",
          "2010-06-30",
          "2010-07-01",
          "2010-07-02",
          "2010-07-06",
          "2010-07-07",
          "2010-07-08",
          "2010-07-09",
          "2010-07-12",
          "2010-07-13",
          "2010-07-14",
          "2010-07-15",
          "2010-07-16",
          "2010-07-19",
          "2010-07-20",
          "2010-07-21",
          "2010-07-22",
          "2010-07-23",
          "2010-07-26",
          "2010-07-27",
          "2010-07-28",
          "2010-07-29",
          "2010-07-30",
          "2010-08-02",
          "2010-08-03",
          "2010-08-04",
          "2010-08-05",
          "2010-08-06",
          "2010-08-09",
          "2010-08-10",
          "2010-08-11",
          "2010-08-12",
          "2010-08-13",
          "2010-08-16",
          "2010-08-17",
          "2010-08-18",
          "2010-08-19",
          "2010-08-20",
          "2010-08-23",
          "2010-08-24",
          "2010-08-25",
          "2010-08-26",
          "2010-08-27",
          "2010-08-30",
          "2010-08-31",
          "2010-09-01",
          "2010-09-02",
          "2010-09-03",
          "2010-09-07",
          "2010-09-08",
          "2010-09-09",
          "2010-09-10",
          "2010-09-13",
          "2010-09-14",
          "2010-09-15",
          "2010-09-16",
          "2010-09-17",
          "2010-09-20",
          "2010-09-21",
          "2010-09-22",
          "2010-09-23",
          "2010-09-24",
          "2010-09-27",
          "2010-09-28",
          "2010-09-29",
          "2010-09-30",
          "2010-10-01",
          "2010-10-04",
          "2010-10-05",
          "2010-10-06",
          "2010-10-07",
          "2010-10-08",
          "2010-10-11",
          "2010-10-12",
          "2010-10-13",
          "2010-10-14",
          "2010-10-15",
          "2010-10-18",
          "2010-10-19",
          "2010-10-20",
          "2010-10-21",
          "2010-10-22",
          "2010-10-25",
          "2010-10-26",
          "2010-10-27",
          "2010-10-28",
          "2010-10-29",
          "2010-11-01",
          "2010-11-02",
          "2010-11-03",
          "2010-11-04",
          "2010-11-05",
          "2010-11-08",
          "2010-11-09",
          "2010-11-10",
          "2010-11-11",
          "2010-11-12",
          "2010-11-15",
          "2010-11-16",
          "2010-11-17",
          "2010-11-18",
          "2010-11-19",
          "2010-11-22",
          "2010-11-23",
          "2010-11-24",
          "2010-11-26",
          "2010-11-29",
          "2010-11-30",
          "2010-12-01",
          "2010-12-02",
          "2010-12-03",
          "2010-12-06",
          "2010-12-07",
          "2010-12-08",
          "2010-12-09",
          "2010-12-10",
          "2010-12-13",
          "2010-12-14",
          "2010-12-15",
          "2010-12-16",
          "2010-12-17",
          "2010-12-20",
          "2010-12-21",
          "2010-12-22",
          "2010-12-23",
          "2010-12-27",
          "2010-12-28",
          "2010-12-29",
          "2010-12-30",
          "2010-12-31",
          "2011-01-03",
          "2011-01-04",
          "2011-01-05",
          "2011-01-06",
          "2011-01-07",
          "2011-01-10",
          "2011-01-11",
          "2011-01-12",
          "2011-01-13",
          "2011-01-14",
          "2011-01-18",
          "2011-01-19",
          "2011-01-20",
          "2011-01-21",
          "2011-01-24",
          "2011-01-25",
          "2011-01-26",
          "2011-01-27",
          "2011-01-28",
          "2011-01-31",
          "2011-02-01",
          "2011-02-02",
          "2011-02-03",
          "2011-02-04",
          "2011-02-07",
          "2011-02-08",
          "2011-02-09",
          "2011-02-10",
          "2011-02-11",
          "2011-02-14",
          "2011-02-15",
          "2011-02-16",
          "2011-02-17",
          "2011-02-18",
          "2011-02-22",
          "2011-02-23",
          "2011-02-24",
          "2011-02-25",
          "2011-02-28",
          "2011-03-01",
          "2011-03-02",
          "2011-03-03",
          "2011-03-04",
          "2011-03-07",
          "2011-03-08",
          "2011-03-09",
          "2011-03-10",
          "2011-03-11",
          "2011-03-14",
          "2011-03-15",
          "2011-03-16",
          "2011-03-17",
          "2011-03-18",
          "2011-03-21",
          "2011-03-22",
          "2011-03-23",
          "2011-03-24",
          "2011-03-25",
          "2011-03-28",
          "2011-03-29",
          "2011-03-30",
          "2011-03-31",
          "2011-04-01",
          "2011-04-04",
          "2011-04-05",
          "2011-04-06",
          "2011-04-07",
          "2011-04-08",
          "2011-04-11",
          "2011-04-12",
          "2011-04-13",
          "2011-04-14",
          "2011-04-15",
          "2011-04-18",
          "2011-04-19",
          "2011-04-20",
          "2011-04-21",
          "2011-04-25",
          "2011-04-26",
          "2011-04-27",
          "2011-04-28",
          "2011-04-29",
          "2011-05-02",
          "2011-05-03",
          "2011-05-04",
          "2011-05-05",
          "2011-05-06",
          "2011-05-09",
          "2011-05-10",
          "2011-05-11",
          "2011-05-12",
          "2011-05-13",
          "2011-05-16",
          "2011-05-17",
          "2011-05-18",
          "2011-05-19",
          "2011-05-20",
          "2011-05-23",
          "2011-05-24",
          "2011-05-25",
          "2011-05-26",
          "2011-05-27",
          "2011-05-31",
          "2011-06-01",
          "2011-06-02",
          "2011-06-03",
          "2011-06-06",
          "2011-06-07",
          "2011-06-08",
          "2011-06-09",
          "2011-06-10",
          "2011-06-13",
          "2011-06-14",
          "2011-06-15",
          "2011-06-16",
          "2011-06-17",
          "2011-06-20",
          "2011-06-21",
          "2011-06-22",
          "2011-06-23",
          "2011-06-24",
          "2011-06-27",
          "2011-06-28",
          "2011-06-29",
          "2011-06-30",
          "2011-07-01",
          "2011-07-05",
          "2011-07-06",
          "2011-07-07",
          "2011-07-08",
          "2011-07-11",
          "2011-07-12",
          "2011-07-13",
          "2011-07-14",
          "2011-07-15",
          "2011-07-18",
          "2011-07-19",
          "2011-07-20",
          "2011-07-21",
          "2011-07-22",
          "2011-07-25",
          "2011-07-26",
          "2011-07-27",
          "2011-07-28",
          "2011-07-29",
          "2011-08-01",
          "2011-08-02",
          "2011-08-03",
          "2011-08-04",
          "2011-08-05",
          "2011-08-08",
          "2011-08-09",
          "2011-08-10",
          "2011-08-11",
          "2011-08-12",
          "2011-08-15",
          "2011-08-16",
          "2011-08-17",
          "2011-08-18",
          "2011-08-19",
          "2011-08-22",
          "2011-08-23",
          "2011-08-24",
          "2011-08-25",
          "2011-08-26",
          "2011-08-29",
          "2011-08-30",
          "2011-08-31",
          "2011-09-01",
          "2011-09-02",
          "2011-09-06",
          "2011-09-07",
          "2011-09-08",
          "2011-09-09",
          "2011-09-12",
          "2011-09-13",
          "2011-09-14",
          "2011-09-15",
          "2011-09-16",
          "2011-09-19",
          "2011-09-20",
          "2011-09-21",
          "2011-09-22",
          "2011-09-23",
          "2011-09-26",
          "2011-09-27",
          "2011-09-28",
          "2011-09-29",
          "2011-09-30",
          "2011-10-03",
          "2011-10-04",
          "2011-10-05",
          "2011-10-06",
          "2011-10-07",
          "2011-10-10",
          "2011-10-11",
          "2011-10-12",
          "2011-10-13",
          "2011-10-14",
          "2011-10-17",
          "2011-10-18",
          "2011-10-19",
          "2011-10-20",
          "2011-10-21",
          "2011-10-24",
          "2011-10-25",
          "2011-10-26",
          "2011-10-27",
          "2011-10-28",
          "2011-10-31",
          "2011-11-01",
          "2011-11-02",
          "2011-11-03",
          "2011-11-04",
          "2011-11-07",
          "2011-11-08",
          "2011-11-09",
          "2011-11-10",
          "2011-11-11",
          "2011-11-14",
          "2011-11-15",
          "2011-11-16",
          "2011-11-17",
          "2011-11-18",
          "2011-11-21",
          "2011-11-22",
          "2011-11-23",
          "2011-11-25",
          "2011-11-28",
          "2011-11-29",
          "2011-11-30",
          "2011-12-01",
          "2011-12-02",
          "2011-12-05",
          "2011-12-06",
          "2011-12-07",
          "2011-12-08",
          "2011-12-09",
          "2011-12-12",
          "2011-12-13",
          "2011-12-14",
          "2011-12-15",
          "2011-12-16",
          "2011-12-19",
          "2011-12-20",
          "2011-12-21",
          "2011-12-22",
          "2011-12-23",
          "2011-12-27",
          "2011-12-28",
          "2011-12-29",
          "2011-12-30",
          "2012-01-03",
          "2012-01-04",
          "2012-01-05",
          "2012-01-06",
          "2012-01-09",
          "2012-01-10",
          "2012-01-11",
          "2012-01-12",
          "2012-01-13",
          "2012-01-17",
          "2012-01-18",
          "2012-01-19",
          "2012-01-20",
          "2012-01-23",
          "2012-01-24",
          "2012-01-25",
          "2012-01-26",
          "2012-01-27",
          "2012-01-30",
          "2012-01-31",
          "2012-02-01",
          "2012-02-02",
          "2012-02-03",
          "2012-02-06",
          "2012-02-07",
          "2012-02-08",
          "2012-02-09",
          "2012-02-10",
          "2012-02-13",
          "2012-02-14",
          "2012-02-15",
          "2012-02-16",
          "2012-02-17",
          "2012-02-21",
          "2012-02-22",
          "2012-02-23",
          "2012-02-24",
          "2012-02-27",
          "2012-02-28",
          "2012-02-29",
          "2012-03-01",
          "2012-03-02",
          "2012-03-05",
          "2012-03-06",
          "2012-03-07",
          "2012-03-08",
          "2012-03-09",
          "2012-03-12",
          "2012-03-13",
          "2012-03-14",
          "2012-03-15",
          "2012-03-16",
          "2012-03-19",
          "2012-03-20",
          "2012-03-21",
          "2012-03-22",
          "2012-03-23",
          "2012-03-26",
          "2012-03-27",
          "2012-03-28",
          "2012-03-29",
          "2012-03-30",
          "2012-04-02",
          "2012-04-03",
          "2012-04-04",
          "2012-04-05",
          "2012-04-09",
          "2012-04-10",
          "2012-04-11",
          "2012-04-12",
          "2012-04-13",
          "2012-04-16",
          "2012-04-17",
          "2012-04-18",
          "2012-04-19",
          "2012-04-20",
          "2012-04-23",
          "2012-04-24",
          "2012-04-25",
          "2012-04-26",
          "2012-04-27",
          "2012-04-30",
          "2012-05-01",
          "2012-05-02",
          "2012-05-03",
          "2012-05-04",
          "2012-05-07",
          "2012-05-08",
          "2012-05-09",
          "2012-05-10",
          "2012-05-11",
          "2012-05-14",
          "2012-05-15",
          "2012-05-16",
          "2012-05-17",
          "2012-05-18",
          "2012-05-21",
          "2012-05-22",
          "2012-05-23",
          "2012-05-24",
          "2012-05-25",
          "2012-05-29",
          "2012-05-30",
          "2012-05-31",
          "2012-06-01",
          "2012-06-04",
          "2012-06-05",
          "2012-06-06",
          "2012-06-07",
          "2012-06-08",
          "2012-06-11",
          "2012-06-12",
          "2012-06-13",
          "2012-06-14",
          "2012-06-15",
          "2012-06-18",
          "2012-06-19",
          "2012-06-20",
          "2012-06-21",
          "2012-06-22",
          "2012-06-25",
          "2012-06-26",
          "2012-06-27",
          "2012-06-28",
          "2012-06-29",
          "2012-07-02",
          "2012-07-03",
          "2012-07-05",
          "2012-07-06",
          "2012-07-09",
          "2012-07-10",
          "2012-07-11",
          "2012-07-12",
          "2012-07-13",
          "2012-07-16",
          "2012-07-17",
          "2012-07-18",
          "2012-07-19",
          "2012-07-20",
          "2012-07-23",
          "2012-07-24",
          "2012-07-25",
          "2012-07-26",
          "2012-07-27",
          "2012-07-30",
          "2012-07-31",
          "2012-08-01",
          "2012-08-02",
          "2012-08-03",
          "2012-08-06",
          "2012-08-07",
          "2012-08-08",
          "2012-08-09",
          "2012-08-10",
          "2012-08-13",
          "2012-08-14",
          "2012-08-15",
          "2012-08-16",
          "2012-08-17",
          "2012-08-20",
          "2012-08-21",
          "2012-08-22",
          "2012-08-23",
          "2012-08-24",
          "2012-08-27",
          "2012-08-28",
          "2012-08-29",
          "2012-08-30",
          "2012-08-31",
          "2012-09-04",
          "2012-09-05",
          "2012-09-06",
          "2012-09-07",
          "2012-09-10",
          "2012-09-11",
          "2012-09-12",
          "2012-09-13",
          "2012-09-14",
          "2012-09-17",
          "2012-09-18",
          "2012-09-19",
          "2012-09-20",
          "2012-09-21",
          "2012-09-24",
          "2012-09-25",
          "2012-09-26",
          "2012-09-27",
          "2012-09-28",
          "2012-10-01",
          "2012-10-02",
          "2012-10-03",
          "2012-10-04",
          "2012-10-05",
          "2012-10-08",
          "2012-10-09",
          "2012-10-10",
          "2012-10-11",
          "2012-10-12",
          "2012-10-15",
          "2012-10-16",
          "2012-10-17",
          "2012-10-18",
          "2012-10-19",
          "2012-10-22",
          "2012-10-23",
          "2012-10-24",
          "2012-10-25",
          "2012-10-26",
          "2012-10-31",
          "2012-11-01",
          "2012-11-02",
          "2012-11-05",
          "2012-11-06",
          "2012-11-07",
          "2012-11-08",
          "2012-11-09",
          "2012-11-12",
          "2012-11-13",
          "2012-11-14",
          "2012-11-15",
          "2012-11-16",
          "2012-11-19",
          "2012-11-20",
          "2012-11-21",
          "2012-11-23",
          "2012-11-26",
          "2012-11-27",
          "2012-11-28",
          "2012-11-29",
          "2012-11-30",
          "2012-12-03",
          "2012-12-04",
          "2012-12-05",
          "2012-12-06",
          "2012-12-07",
          "2012-12-10",
          "2012-12-11",
          "2012-12-12",
          "2012-12-13",
          "2012-12-14",
          "2012-12-17",
          "2012-12-18",
          "2012-12-19",
          "2012-12-20",
          "2012-12-21",
          "2012-12-24",
          "2012-12-26",
          "2012-12-27",
          "2012-12-28",
          "2012-12-31",
          "2013-01-02",
          "2013-01-03",
          "2013-01-04",
          "2013-01-07",
          "2013-01-08",
          "2013-01-09",
          "2013-01-10",
          "2013-01-11",
          "2013-01-14",
          "2013-01-15",
          "2013-01-16",
          "2013-01-17",
          "2013-01-18",
          "2013-01-22",
          "2013-01-23",
          "2013-01-24",
          "2013-01-25",
          "2013-01-28",
          "2013-01-29",
          "2013-01-30",
          "2013-01-31",
          "2013-02-01",
          "2013-02-04",
          "2013-02-05",
          "2013-02-06",
          "2013-02-07",
          "2013-02-08",
          "2013-02-11",
          "2013-02-12",
          "2013-02-13",
          "2013-02-14",
          "2013-02-15",
          "2013-02-19",
          "2013-02-20",
          "2013-02-21",
          "2013-02-22",
          "2013-02-25",
          "2013-02-26",
          "2013-02-27",
          "2013-02-28",
          "2013-03-01",
          "2013-03-04",
          "2013-03-05",
          "2013-03-06",
          "2013-03-07",
          "2013-03-08",
          "2013-03-11",
          "2013-03-12",
          "2013-03-13",
          "2013-03-14",
          "2013-03-15",
          "2013-03-18",
          "2013-03-19",
          "2013-03-20",
          "2013-03-21",
          "2013-03-22",
          "2013-03-25",
          "2013-03-26",
          "2013-03-27",
          "2013-03-28",
          "2013-04-01",
          "2013-04-02",
          "2013-04-03",
          "2013-04-04",
          "2013-04-05",
          "2013-04-08",
          "2013-04-09",
          "2013-04-10",
          "2013-04-11",
          "2013-04-12",
          "2013-04-15",
          "2013-04-16",
          "2013-04-17",
          "2013-04-18",
          "2013-04-19",
          "2013-04-22",
          "2013-04-23",
          "2013-04-24",
          "2013-04-25",
          "2013-04-26",
          "2013-04-29",
          "2013-04-30",
          "2013-05-01",
          "2013-05-02",
          "2013-05-03",
          "2013-05-06",
          "2013-05-07",
          "2013-05-08",
          "2013-05-09",
          "2013-05-10",
          "2013-05-13",
          "2013-05-14",
          "2013-05-15",
          "2013-05-16",
          "2013-05-17",
          "2013-05-20",
          "2013-05-21",
          "2013-05-22",
          "2013-05-23",
          "2013-05-24",
          "2013-05-28",
          "2013-05-29",
          "2013-05-30",
          "2013-05-31",
          "2013-06-03",
          "2013-06-04",
          "2013-06-05",
          "2013-06-06",
          "2013-06-07",
          "2013-06-10",
          "2013-06-11",
          "2013-06-12",
          "2013-06-13",
          "2013-06-14",
          "2013-06-17",
          "2013-06-18",
          "2013-06-19",
          "2013-06-20",
          "2013-06-21",
          "2013-06-24",
          "2013-06-25",
          "2013-06-26",
          "2013-06-27",
          "2013-06-28",
          "2013-07-01",
          "2013-07-02",
          "2013-07-03",
          "2013-07-05",
          "2013-07-08",
          "2013-07-09",
          "2013-07-10",
          "2013-07-11",
          "2013-07-12",
          "2013-07-15",
          "2013-07-16",
          "2013-07-17",
          "2013-07-18",
          "2013-07-19",
          "2013-07-22",
          "2013-07-23",
          "2013-07-24",
          "2013-07-25",
          "2013-07-26",
          "2013-07-29",
          "2013-07-30",
          "2013-07-31",
          "2013-08-01",
          "2013-08-02",
          "2013-08-05",
          "2013-08-06",
          "2013-08-07",
          "2013-08-08",
          "2013-08-09",
          "2013-08-12",
          "2013-08-13",
          "2013-08-14",
          "2013-08-15",
          "2013-08-16",
          "2013-08-19",
          "2013-08-20",
          "2013-08-21",
          "2013-08-22",
          "2013-08-23",
          "2013-08-26",
          "2013-08-27",
          "2013-08-28",
          "2013-08-29",
          "2013-08-30",
          "2013-09-03",
          "2013-09-04",
          "2013-09-05",
          "2013-09-06",
          "2013-09-09",
          "2013-09-10",
          "2013-09-11",
          "2013-09-12",
          "2013-09-13",
          "2013-09-16",
          "2013-09-17",
          "2013-09-18",
          "2013-09-19",
          "2013-09-20",
          "2013-09-23",
          "2013-09-24",
          "2013-09-25",
          "2013-09-26",
          "2013-09-27",
          "2013-09-30",
          "2013-10-01",
          "2013-10-02",
          "2013-10-03",
          "2013-10-04",
          "2013-10-07",
          "2013-10-08",
          "2013-10-09",
          "2013-10-10",
          "2013-10-11",
          "2013-10-14",
          "2013-10-15",
          "2013-10-16",
          "2013-10-17",
          "2013-10-18",
          "2013-10-21",
          "2013-10-22",
          "2013-10-23",
          "2013-10-24",
          "2013-10-25",
          "2013-10-28",
          "2013-10-29",
          "2013-10-30",
          "2013-10-31",
          "2013-11-01",
          "2013-11-04",
          "2013-11-05",
          "2013-11-06",
          "2013-11-07",
          "2013-11-08",
          "2013-11-11",
          "2013-11-12",
          "2013-11-13",
          "2013-11-14",
          "2013-11-15",
          "2013-11-18",
          "2013-11-19",
          "2013-11-20",
          "2013-11-21",
          "2013-11-22",
          "2013-11-25",
          "2013-11-26",
          "2013-11-27",
          "2013-11-29",
          "2013-12-02",
          "2013-12-03",
          "2013-12-04",
          "2013-12-05",
          "2013-12-06",
          "2013-12-09",
          "2013-12-10",
          "2013-12-11",
          "2013-12-12",
          "2013-12-13",
          "2013-12-16",
          "2013-12-17",
          "2013-12-18",
          "2013-12-19",
          "2013-12-20",
          "2013-12-23",
          "2013-12-24",
          "2013-12-26",
          "2013-12-27",
          "2013-12-30",
          "2013-12-31",
          "2014-01-02",
          "2014-01-03",
          "2014-01-06",
          "2014-01-07",
          "2014-01-08",
          "2014-01-09",
          "2014-01-10",
          "2014-01-13",
          "2014-01-14",
          "2014-01-15",
          "2014-01-16",
          "2014-01-17",
          "2014-01-21",
          "2014-01-22",
          "2014-01-23",
          "2014-01-24",
          "2014-01-27",
          "2014-01-28",
          "2014-01-29",
          "2014-01-30",
          "2014-01-31",
          "2014-02-03",
          "2014-02-04",
          "2014-02-05",
          "2014-02-06",
          "2014-02-07",
          "2014-02-10",
          "2014-02-11",
          "2014-02-12",
          "2014-02-13",
          "2014-02-14",
          "2014-02-18",
          "2014-02-19",
          "2014-02-20",
          "2014-02-21",
          "2014-02-24",
          "2014-02-25",
          "2014-02-26",
          "2014-02-27",
          "2014-02-28",
          "2014-03-03",
          "2014-03-04",
          "2014-03-05",
          "2014-03-06",
          "2014-03-07",
          "2014-03-10",
          "2014-03-11",
          "2014-03-12",
          "2014-03-13",
          "2014-03-14",
          "2014-03-17",
          "2014-03-18",
          "2014-03-19",
          "2014-03-20",
          "2014-03-21",
          "2014-03-24",
          "2014-03-25",
          "2014-03-26",
          "2014-03-27",
          "2014-03-28",
          "2014-03-31",
          "2014-04-01",
          "2014-04-02",
          "2014-04-03",
          "2014-04-04",
          "2014-04-07",
          "2014-04-08",
          "2014-04-09",
          "2014-04-10",
          "2014-04-11",
          "2014-04-14",
          "2014-04-15",
          "2014-04-16",
          "2014-04-17",
          "2014-04-21",
          "2014-04-22",
          "2014-04-23",
          "2014-04-24",
          "2014-04-25",
          "2014-04-28",
          "2014-04-29",
          "2014-04-30",
          "2014-05-01",
          "2014-05-02",
          "2014-05-05",
          "2014-05-06",
          "2014-05-07",
          "2014-05-08",
          "2014-05-09",
          "2014-05-12",
          "2014-05-13",
          "2014-05-14",
          "2014-05-15",
          "2014-05-16",
          "2014-05-19",
          "2014-05-20",
          "2014-05-21",
          "2014-05-22",
          "2014-05-23",
          "2014-05-27",
          "2014-05-28",
          "2014-05-29",
          "2014-05-30",
          "2014-06-02",
          "2014-06-03",
          "2014-06-04",
          "2014-06-05",
          "2014-06-06",
          "2014-06-09",
          "2014-06-10",
          "2014-06-11",
          "2014-06-12",
          "2014-06-13",
          "2014-06-16",
          "2014-06-17",
          "2014-06-18",
          "2014-06-19",
          "2014-06-20",
          "2014-06-23",
          "2014-06-24",
          "2014-06-25",
          "2014-06-26",
          "2014-06-27",
          "2014-06-30",
          "2014-07-01",
          "2014-07-02",
          "2014-07-03",
          "2014-07-07",
          "2014-07-08",
          "2014-07-09",
          "2014-07-10",
          "2014-07-11",
          "2014-07-14",
          "2014-07-15",
          "2014-07-16",
          "2014-07-17",
          "2014-07-18",
          "2014-07-21",
          "2014-07-22",
          "2014-07-23",
          "2014-07-24",
          "2014-07-25",
          "2014-07-28",
          "2014-07-29",
          "2014-07-30",
          "2014-07-31",
          "2014-08-01",
          "2014-08-04",
          "2014-08-05",
          "2014-08-06",
          "2014-08-07",
          "2014-08-08",
          "2014-08-11",
          "2014-08-12",
          "2014-08-13",
          "2014-08-14",
          "2014-08-15",
          "2014-08-18",
          "2014-08-19",
          "2014-08-20",
          "2014-08-21",
          "2014-08-22",
          "2014-08-25",
          "2014-08-26",
          "2014-08-27",
          "2014-08-28",
          "2014-08-29",
          "2014-09-02",
          "2014-09-03",
          "2014-09-04",
          "2014-09-05",
          "2014-09-08",
          "2014-09-09",
          "2014-09-10",
          "2014-09-11",
          "2014-09-12",
          "2014-09-15",
          "2014-09-16",
          "2014-09-17",
          "2014-09-18",
          "2014-09-19",
          "2014-09-22",
          "2014-09-23",
          "2014-09-24",
          "2014-09-25",
          "2014-09-26",
          "2014-09-29",
          "2014-09-30",
          "2014-10-01",
          "2014-10-02",
          "2014-10-03",
          "2014-10-06",
          "2014-10-07",
          "2014-10-08",
          "2014-10-09",
          "2014-10-10",
          "2014-10-13",
          "2014-10-14",
          "2014-10-15",
          "2014-10-16",
          "2014-10-17",
          "2014-10-20",
          "2014-10-21",
          "2014-10-22",
          "2014-10-23",
          "2014-10-24",
          "2014-10-27",
          "2014-10-28",
          "2014-10-29",
          "2014-10-30",
          "2014-10-31",
          "2014-11-03",
          "2014-11-04",
          "2014-11-05",
          "2014-11-06",
          "2014-11-07",
          "2014-11-10",
          "2014-11-11",
          "2014-11-12",
          "2014-11-13",
          "2014-11-14",
          "2014-11-17",
          "2014-11-18",
          "2014-11-19",
          "2014-11-20",
          "2014-11-21",
          "2014-11-24",
          "2014-11-25",
          "2014-11-26",
          "2014-11-28",
          "2014-12-01",
          "2014-12-02",
          "2014-12-03",
          "2014-12-04",
          "2014-12-05",
          "2014-12-08",
          "2014-12-09",
          "2014-12-10",
          "2014-12-11",
          "2014-12-12",
          "2014-12-15",
          "2014-12-16",
          "2014-12-17",
          "2014-12-18",
          "2014-12-19",
          "2014-12-22",
          "2014-12-23",
          "2014-12-24",
          "2014-12-26",
          "2014-12-29",
          "2014-12-30",
          "2014-12-31",
          "2015-01-02",
          "2015-01-05",
          "2015-01-06",
          "2015-01-07",
          "2015-01-08",
          "2015-01-09",
          "2015-01-12",
          "2015-01-13",
          "2015-01-14",
          "2015-01-15",
          "2015-01-16",
          "2015-01-20",
          "2015-01-21",
          "2015-01-22",
          "2015-01-23",
          "2015-01-26",
          "2015-01-27",
          "2015-01-28",
          "2015-01-29",
          "2015-01-30",
          "2015-02-02",
          "2015-02-03",
          "2015-02-04",
          "2015-02-05",
          "2015-02-06",
          "2015-02-09",
          "2015-02-10",
          "2015-02-11",
          "2015-02-12",
          "2015-02-13",
          "2015-02-17",
          "2015-02-18",
          "2015-02-19",
          "2015-02-20",
          "2015-02-23",
          "2015-02-24",
          "2015-02-25",
          "2015-02-26",
          "2015-02-27",
          "2015-03-02",
          "2015-03-03",
          "2015-03-04",
          "2015-03-05",
          "2015-03-06",
          "2015-03-09",
          "2015-03-10",
          "2015-03-11",
          "2015-03-12",
          "2015-03-13",
          "2015-03-16",
          "2015-03-17",
          "2015-03-18",
          "2015-03-19",
          "2015-03-20",
          "2015-03-23",
          "2015-03-24",
          "2015-03-25",
          "2015-03-26",
          "2015-03-27",
          "2015-03-30",
          "2015-03-31",
          "2015-04-01",
          "2015-04-02",
          "2015-04-06",
          "2015-04-07",
          "2015-04-08",
          "2015-04-09",
          "2015-04-10",
          "2015-04-13",
          "2015-04-14",
          "2015-04-15",
          "2015-04-16",
          "2015-04-17",
          "2015-04-20",
          "2015-04-21",
          "2015-04-22",
          "2015-04-23",
          "2015-04-24",
          "2015-04-27",
          "2015-04-28",
          "2015-04-29",
          "2015-04-30",
          "2015-05-01",
          "2015-05-04",
          "2015-05-05",
          "2015-05-06",
          "2015-05-07",
          "2015-05-08",
          "2015-05-11",
          "2015-05-12",
          "2015-05-13",
          "2015-05-14",
          "2015-05-15",
          "2015-05-18",
          "2015-05-19",
          "2015-05-20",
          "2015-05-21",
          "2015-05-22",
          "2015-05-26",
          "2015-05-27",
          "2015-05-28",
          "2015-05-29",
          "2015-06-01",
          "2015-06-02",
          "2015-06-03",
          "2015-06-04",
          "2015-06-05",
          "2015-06-08",
          "2015-06-09",
          "2015-06-10",
          "2015-06-11",
          "2015-06-12",
          "2015-06-15",
          "2015-06-16",
          "2015-06-17",
          "2015-06-18",
          "2015-06-19",
          "2015-06-22",
          "2015-06-23",
          "2015-06-24",
          "2015-06-25",
          "2015-06-26",
          "2015-06-29",
          "2015-06-30",
          "2015-07-01",
          "2015-07-02",
          "2015-07-06",
          "2015-07-07",
          "2015-07-08",
          "2015-07-09",
          "2015-07-10",
          "2015-07-13",
          "2015-07-14",
          "2015-07-15",
          "2015-07-16",
          "2015-07-17",
          "2015-07-20",
          "2015-07-21",
          "2015-07-22",
          "2015-07-23",
          "2015-07-24",
          "2015-07-27",
          "2015-07-28",
          "2015-07-29",
          "2015-07-30",
          "2015-07-31",
          "2015-08-03",
          "2015-08-04",
          "2015-08-05",
          "2015-08-06",
          "2015-08-07",
          "2015-08-10",
          "2015-08-11",
          "2015-08-12",
          "2015-08-13",
          "2015-08-14",
          "2015-08-17",
          "2015-08-18",
          "2015-08-19",
          "2015-08-20",
          "2015-08-21",
          "2015-08-24",
          "2015-08-25",
          "2015-08-26",
          "2015-08-27",
          "2015-08-28",
          "2015-08-31",
          "2015-09-01",
          "2015-09-02",
          "2015-09-03",
          "2015-09-04",
          "2015-09-08",
          "2015-09-09",
          "2015-09-10",
          "2015-09-11",
          "2015-09-14",
          "2015-09-15",
          "2015-09-16",
          "2015-09-17",
          "2015-09-18",
          "2015-09-21",
          "2015-09-22",
          "2015-09-23",
          "2015-09-24",
          "2015-09-25",
          "2015-09-28",
          "2015-09-29",
          "2015-09-30",
          "2015-10-01",
          "2015-10-02",
          "2015-10-05",
          "2015-10-06",
          "2015-10-07",
          "2015-10-08",
          "2015-10-09",
          "2015-10-12",
          "2015-10-13",
          "2015-10-14",
          "2015-10-15",
          "2015-10-16",
          "2015-10-19",
          "2015-10-20",
          "2015-10-21",
          "2015-10-22",
          "2015-10-23",
          "2015-10-26",
          "2015-10-27",
          "2015-10-28",
          "2015-10-29",
          "2015-10-30",
          "2015-11-02",
          "2015-11-03",
          "2015-11-04",
          "2015-11-05",
          "2015-11-06",
          "2015-11-09",
          "2015-11-10",
          "2015-11-11",
          "2015-11-12",
          "2015-11-13",
          "2015-11-16",
          "2015-11-17",
          "2015-11-18",
          "2015-11-19",
          "2015-11-20",
          "2015-11-23",
          "2015-11-24",
          "2015-11-25",
          "2015-11-27",
          "2015-11-30",
          "2015-12-01",
          "2015-12-02",
          "2015-12-03",
          "2015-12-04",
          "2015-12-07",
          "2015-12-08",
          "2015-12-09",
          "2015-12-10",
          "2015-12-11",
          "2015-12-14",
          "2015-12-15",
          "2015-12-16",
          "2015-12-17",
          "2015-12-18",
          "2015-12-21",
          "2015-12-22",
          "2015-12-23",
          "2015-12-24",
          "2015-12-28",
          "2015-12-29",
          "2015-12-30",
          "2015-12-31",
          "2016-01-04",
          "2016-01-05",
          "2016-01-06",
          "2016-01-07",
          "2016-01-08",
          "2016-01-11",
          "2016-01-12",
          "2016-01-13",
          "2016-01-14",
          "2016-01-15",
          "2016-01-19",
          "2016-01-20",
          "2016-01-21",
          "2016-01-22",
          "2016-01-25",
          "2016-01-26",
          "2016-01-27",
          "2016-01-28",
          "2016-01-29",
          "2016-02-01",
          "2016-02-02",
          "2016-02-03",
          "2016-02-04",
          "2016-02-05",
          "2016-02-08",
          "2016-02-09",
          "2016-02-10",
          "2016-02-11",
          "2016-02-12",
          "2016-02-16",
          "2016-02-17",
          "2016-02-18",
          "2016-02-19",
          "2016-02-22",
          "2016-02-23",
          "2016-02-24",
          "2016-02-25",
          "2016-02-26",
          "2016-02-29",
          "2016-03-01",
          "2016-03-02",
          "2016-03-03",
          "2016-03-04",
          "2016-03-07",
          "2016-03-08",
          "2016-03-09",
          "2016-03-10",
          "2016-03-11",
          "2016-03-14",
          "2016-03-15",
          "2016-03-16",
          "2016-03-17",
          "2016-03-18",
          "2016-03-21",
          "2016-03-22",
          "2016-03-23",
          "2016-03-24",
          "2016-03-28",
          "2016-03-29",
          "2016-03-30",
          "2016-03-31",
          "2016-04-01",
          "2016-04-04",
          "2016-04-05",
          "2016-04-06",
          "2016-04-07",
          "2016-04-08",
          "2016-04-11",
          "2016-04-12",
          "2016-04-13",
          "2016-04-14",
          "2016-04-15",
          "2016-04-18",
          "2016-04-19",
          "2016-04-20",
          "2016-04-21",
          "2016-04-22",
          "2016-04-25",
          "2016-04-26",
          "2016-04-27",
          "2016-04-28",
          "2016-04-29",
          "2016-05-02",
          "2016-05-03",
          "2016-05-04",
          "2016-05-05",
          "2016-05-06",
          "2016-05-09",
          "2016-05-10",
          "2016-05-11",
          "2016-05-12",
          "2016-05-13",
          "2016-05-16",
          "2016-05-17",
          "2016-05-18",
          "2016-05-19",
          "2016-05-20",
          "2016-05-23",
          "2016-05-24",
          "2016-05-25",
          "2016-05-26",
          "2016-05-27",
          "2016-05-31",
          "2016-06-01",
          "2016-06-02",
          "2016-06-03",
          "2016-06-06",
          "2016-06-07",
          "2016-06-08",
          "2016-06-09",
          "2016-06-10",
          "2016-06-13",
          "2016-06-14",
          "2016-06-15",
          "2016-06-16",
          "2016-06-17",
          "2016-06-20",
          "2016-06-21",
          "2016-06-22",
          "2016-06-23",
          "2016-06-24",
          "2016-06-27",
          "2016-06-28",
          "2016-06-29",
          "2016-06-30",
          "2016-07-01",
          "2016-07-05",
          "2016-07-06",
          "2016-07-07",
          "2016-07-08",
          "2016-07-11",
          "2016-07-12",
          "2016-07-13",
          "2016-07-14",
          "2016-07-15",
          "2016-07-18",
          "2016-07-19",
          "2016-07-20",
          "2016-07-21",
          "2016-07-22",
          "2016-07-25",
          "2016-07-26",
          "2016-07-27",
          "2016-07-28",
          "2016-07-29",
          "2016-08-01",
          "2016-08-02",
          "2016-08-03",
          "2016-08-04",
          "2016-08-05",
          "2016-08-08",
          "2016-08-09",
          "2016-08-10",
          "2016-08-11",
          "2016-08-12",
          "2016-08-15",
          "2016-08-16",
          "2016-08-17",
          "2016-08-18",
          "2016-08-19",
          "2016-08-22",
          "2016-08-23",
          "2016-08-24",
          "2016-08-25",
          "2016-08-26",
          "2016-08-29",
          "2016-08-30",
          "2016-08-31",
          "2016-09-01",
          "2016-09-02",
          "2016-09-06",
          "2016-09-07",
          "2016-09-08",
          "2016-09-09",
          "2016-09-12",
          "2016-09-13",
          "2016-09-14",
          "2016-09-15",
          "2016-09-16",
          "2016-09-19",
          "2016-09-20",
          "2016-09-21",
          "2016-09-22",
          "2016-09-23",
          "2016-09-26",
          "2016-09-27",
          "2016-09-28",
          "2016-09-29",
          "2016-09-30",
          "2016-10-03",
          "2016-10-04",
          "2016-10-05",
          "2016-10-06",
          "2016-10-07",
          "2016-10-10",
          "2016-10-11",
          "2016-10-12",
          "2016-10-13",
          "2016-10-14",
          "2016-10-17",
          "2016-10-18",
          "2016-10-19",
          "2016-10-20",
          "2016-10-21",
          "2016-10-24",
          "2016-10-25",
          "2016-10-26",
          "2016-10-27",
          "2016-10-28",
          "2016-10-31",
          "2016-11-01",
          "2016-11-02",
          "2016-11-03",
          "2016-11-04",
          "2016-11-07",
          "2016-11-08",
          "2016-11-09",
          "2016-11-10",
          "2016-11-11",
          "2016-11-14",
          "2016-11-15",
          "2016-11-16",
          "2016-11-17",
          "2016-11-18",
          "2016-11-21",
          "2016-11-22",
          "2016-11-23",
          "2016-11-25",
          "2016-11-28",
          "2016-11-29",
          "2016-11-30",
          "2016-12-01",
          "2016-12-02",
          "2016-12-05",
          "2016-12-06",
          "2016-12-07",
          "2016-12-08",
          "2016-12-09",
          "2016-12-12",
          "2016-12-13",
          "2016-12-14",
          "2016-12-15",
          "2016-12-16",
          "2016-12-19",
          "2016-12-20",
          "2016-12-21",
          "2016-12-22",
          "2016-12-23",
          "2016-12-27",
          "2016-12-28",
          "2016-12-29",
          "2016-12-30",
          "2017-01-03",
          "2017-01-04",
          "2017-01-05",
          "2017-01-06",
          "2017-01-09",
          "2017-01-10",
          "2017-01-11",
          "2017-01-12",
          "2017-01-13",
          "2017-01-17",
          "2017-01-18",
          "2017-01-19",
          "2017-01-20",
          "2017-01-23",
          "2017-01-24",
          "2017-01-25",
          "2017-01-26",
          "2017-01-27",
          "2017-01-30",
          "2017-01-31",
          "2017-02-01",
          "2017-02-02",
          "2017-02-03",
          "2017-02-06",
          "2017-02-07",
          "2017-02-08",
          "2017-02-09",
          "2017-02-10",
          "2017-02-13",
          "2017-02-14",
          "2017-02-15",
          "2017-02-16",
          "2017-02-17",
          "2017-02-21",
          "2017-02-22",
          "2017-02-23",
          "2017-02-24",
          "2017-02-27",
          "2017-02-28",
          "2017-03-01",
          "2017-03-02",
          "2017-03-03",
          "2017-03-06",
          "2017-03-07",
          "2017-03-08",
          "2017-03-09",
          "2017-03-10",
          "2017-03-13",
          "2017-03-14",
          "2017-03-15",
          "2017-03-16",
          "2017-03-17",
          "2017-03-20",
          "2017-03-21",
          "2017-03-22",
          "2017-03-23",
          "2017-03-24",
          "2017-03-27",
          "2017-03-28",
          "2017-03-29",
          "2017-03-30",
          "2017-03-31",
          "2017-04-03",
          "2017-04-04",
          "2017-04-05",
          "2017-04-06",
          "2017-04-07",
          "2017-04-10",
          "2017-04-11",
          "2017-04-12",
          "2017-04-13",
          "2017-04-17",
          "2017-04-18",
          "2017-04-19",
          "2017-04-20",
          "2017-04-21",
          "2017-04-24",
          "2017-04-25",
          "2017-04-26",
          "2017-04-27",
          "2017-04-28",
          "2017-05-01",
          "2017-05-02",
          "2017-05-03",
          "2017-05-04",
          "2017-05-05",
          "2017-05-08",
          "2017-05-09",
          "2017-05-10",
          "2017-05-11",
          "2017-05-12",
          "2017-05-15",
          "2017-05-16",
          "2017-05-17",
          "2017-05-18",
          "2017-05-19",
          "2017-05-22",
          "2017-05-23",
          "2017-05-24",
          "2017-05-25",
          "2017-05-26",
          "2017-05-30",
          "2017-05-31",
          "2017-06-01",
          "2017-06-02",
          "2017-06-05",
          "2017-06-06",
          "2017-06-07",
          "2017-06-08",
          "2017-06-09",
          "2017-06-12",
          "2017-06-13",
          "2017-06-14",
          "2017-06-15",
          "2017-06-16",
          "2017-06-19",
          "2017-06-20",
          "2017-06-21",
          "2017-06-22",
          "2017-06-23",
          "2017-06-26",
          "2017-06-27",
          "2017-06-28",
          "2017-06-29",
          "2017-06-30",
          "2017-07-03",
          "2017-07-05",
          "2017-07-06",
          "2017-07-07",
          "2017-07-10",
          "2017-07-11",
          "2017-07-12",
          "2017-07-13",
          "2017-07-14",
          "2017-07-17",
          "2017-07-18",
          "2017-07-19",
          "2017-07-20",
          "2017-07-21",
          "2017-07-24",
          "2017-07-25",
          "2017-07-26",
          "2017-07-27",
          "2017-07-28",
          "2017-07-31",
          "2017-08-01",
          "2017-08-02",
          "2017-08-03",
          "2017-08-04",
          "2017-08-07",
          "2017-08-08",
          "2017-08-09",
          "2017-08-10",
          "2017-08-11",
          "2017-08-14",
          "2017-08-15",
          "2017-08-16",
          "2017-08-17",
          "2017-08-18",
          "2017-08-21",
          "2017-08-22",
          "2017-08-23",
          "2017-08-24",
          "2017-08-25",
          "2017-08-28",
          "2017-08-29",
          "2017-08-30",
          "2017-08-31",
          "2017-09-01",
          "2017-09-05",
          "2017-09-06",
          "2017-09-07",
          "2017-09-08",
          "2017-09-11",
          "2017-09-12",
          "2017-09-13",
          "2017-09-14",
          "2017-09-15",
          "2017-09-18",
          "2017-09-19",
          "2017-09-20",
          "2017-09-21",
          "2017-09-22",
          "2017-09-25",
          "2017-09-26",
          "2017-09-27",
          "2017-09-28",
          "2017-09-29",
          "2017-10-02",
          "2017-10-03",
          "2017-10-04",
          "2017-10-05",
          "2017-10-06",
          "2017-10-09",
          "2017-10-10",
          "2017-10-11",
          "2017-10-12",
          "2017-10-13",
          "2017-10-16",
          "2017-10-17",
          "2017-10-18",
          "2017-10-19",
          "2017-10-20",
          "2017-10-23",
          "2017-10-24",
          "2017-10-25",
          "2017-10-26",
          "2017-10-27",
          "2017-10-30",
          "2017-10-31",
          "2017-11-01",
          "2017-11-02",
          "2017-11-03",
          "2017-11-06",
          "2017-11-07",
          "2017-11-08",
          "2017-11-09",
          "2017-11-10",
          "2017-11-13",
          "2017-11-14",
          "2017-11-15",
          "2017-11-16",
          "2017-11-17",
          "2017-11-20",
          "2017-11-21",
          "2017-11-22",
          "2017-11-24",
          "2017-11-27",
          "2017-11-28",
          "2017-11-29",
          "2017-11-30",
          "2017-12-01",
          "2017-12-04",
          "2017-12-05",
          "2017-12-06",
          "2017-12-07",
          "2017-12-08",
          "2017-12-11",
          "2017-12-12",
          "2017-12-13",
          "2017-12-14",
          "2017-12-15",
          "2017-12-18",
          "2017-12-19",
          "2017-12-20",
          "2017-12-21",
          "2017-12-22",
          "2017-12-26",
          "2017-12-27",
          "2017-12-28",
          "2017-12-29",
          "2018-01-02",
          "2018-01-03",
          "2018-01-04",
          "2018-01-05",
          "2018-01-08",
          "2018-01-09",
          "2018-01-10",
          "2018-01-11",
          "2018-01-12",
          "2018-01-16",
          "2018-01-17",
          "2018-01-18",
          "2018-01-19",
          "2018-01-22",
          "2018-01-23",
          "2018-01-24",
          "2018-01-25",
          "2018-01-26",
          "2018-01-29",
          "2018-01-30",
          "2018-01-31",
          "2018-02-01",
          "2018-02-02",
          "2018-02-05",
          "2018-02-06",
          "2018-02-07",
          "2018-02-08",
          "2018-02-09",
          "2018-02-12",
          "2018-02-13",
          "2018-02-14",
          "2018-02-15",
          "2018-02-16",
          "2018-02-20",
          "2018-02-21",
          "2018-02-22",
          "2018-02-23",
          "2018-02-26",
          "2018-02-27",
          "2018-02-28",
          "2018-03-01",
          "2018-03-02",
          "2018-03-05",
          "2018-03-06",
          "2018-03-07",
          "2018-03-08",
          "2018-03-09",
          "2018-03-12",
          "2018-03-13",
          "2018-03-14",
          "2018-03-15",
          "2018-03-16",
          "2018-03-19",
          "2018-03-20",
          "2018-03-21",
          "2018-03-22",
          "2018-03-23",
          "2018-03-26",
          "2018-03-27",
          "2018-03-28",
          "2018-03-29",
          "2018-04-02",
          "2018-04-03",
          "2018-04-04",
          "2018-04-05",
          "2018-04-06",
          "2018-04-09",
          "2018-04-10",
          "2018-04-11",
          "2018-04-12",
          "2018-04-13",
          "2018-04-16",
          "2018-04-17",
          "2018-04-18",
          "2018-04-19",
          "2018-04-20",
          "2018-04-23",
          "2018-04-24",
          "2018-04-25",
          "2018-04-26",
          "2018-04-27",
          "2018-04-30",
          "2018-05-01",
          "2018-05-02",
          "2018-05-03",
          "2018-05-04",
          "2018-05-07",
          "2018-05-08",
          "2018-05-09",
          "2018-05-10",
          "2018-05-11",
          "2018-05-14",
          "2018-05-15",
          "2018-05-16",
          "2018-05-17",
          "2018-05-18",
          "2018-05-21",
          "2018-05-22",
          "2018-05-23",
          "2018-05-24",
          "2018-05-25",
          "2018-05-29",
          "2018-05-30",
          "2018-05-31",
          "2018-06-01",
          "2018-06-04",
          "2018-06-05",
          "2018-06-06",
          "2018-06-07",
          "2018-06-08",
          "2018-06-11",
          "2018-06-12",
          "2018-06-13",
          "2018-06-14",
          "2018-06-15",
          "2018-06-18",
          "2018-06-19",
          "2018-06-20",
          "2018-06-21",
          "2018-06-22",
          "2018-06-25",
          "2018-06-26",
          "2018-06-27",
          "2018-06-28",
          "2018-06-29",
          "2018-07-02",
          "2018-07-03",
          "2018-07-05",
          "2018-07-06",
          "2018-07-09",
          "2018-07-10",
          "2018-07-11",
          "2018-07-12",
          "2018-07-13",
          "2018-07-16",
          "2018-07-17",
          "2018-07-18",
          "2018-07-19",
          "2018-07-20",
          "2018-07-23",
          "2018-07-24",
          "2018-07-25",
          "2018-07-26",
          "2018-07-27",
          "2018-07-30",
          "2018-07-31",
          "2018-08-01",
          "2018-08-02",
          "2018-08-03",
          "2018-08-06",
          "2018-08-07",
          "2018-08-08",
          "2018-08-09",
          "2018-08-10",
          "2018-08-13",
          "2018-08-14",
          "2018-08-15",
          "2018-08-16",
          "2018-08-17",
          "2018-08-20",
          "2018-08-21",
          "2018-08-22",
          "2018-08-23",
          "2018-08-24",
          "2018-08-27",
          "2018-08-28",
          "2018-08-29",
          "2018-08-30",
          "2018-08-31",
          "2018-09-04",
          "2018-09-05",
          "2018-09-06",
          "2018-09-07",
          "2018-09-10",
          "2018-09-11",
          "2018-09-12",
          "2018-09-13",
          "2018-09-14",
          "2018-09-17",
          "2018-09-18",
          "2018-09-19",
          "2018-09-20",
          "2018-09-21",
          "2018-09-24",
          "2018-09-25",
          "2018-09-26",
          "2018-09-27",
          "2018-09-28",
          "2018-10-01",
          "2018-10-02",
          "2018-10-03",
          "2018-10-04",
          "2018-10-05",
          "2018-10-08",
          "2018-10-09",
          "2018-10-10",
          "2018-10-11",
          "2018-10-12",
          "2018-10-15",
          "2018-10-16",
          "2018-10-17",
          "2018-10-18",
          "2018-10-19",
          "2018-10-22",
          "2018-10-23",
          "2018-10-24",
          "2018-10-25",
          "2018-10-26",
          "2018-10-29",
          "2018-10-30",
          "2018-10-31",
          "2018-11-01",
          "2018-11-02",
          "2018-11-05",
          "2018-11-06",
          "2018-11-07",
          "2018-11-08",
          "2018-11-09",
          "2018-11-12",
          "2018-11-13",
          "2018-11-14",
          "2018-11-15",
          "2018-11-16",
          "2018-11-19",
          "2018-11-20",
          "2018-11-21",
          "2018-11-23",
          "2018-11-26",
          "2018-11-27",
          "2018-11-28",
          "2018-11-29",
          "2018-11-30",
          "2018-12-03",
          "2018-12-04",
          "2018-12-06",
          "2018-12-07",
          "2018-12-10",
          "2018-12-11",
          "2018-12-12",
          "2018-12-13",
          "2018-12-14",
          "2018-12-17",
          "2018-12-18",
          "2018-12-19",
          "2018-12-20",
          "2018-12-21",
          "2018-12-24",
          "2018-12-26",
          "2018-12-27",
          "2018-12-28",
          "2018-12-31",
          "2019-01-02",
          "2019-01-03",
          "2019-01-04",
          "2019-01-07",
          "2019-01-08",
          "2019-01-09",
          "2019-01-10",
          "2019-01-11",
          "2019-01-14",
          "2019-01-15",
          "2019-01-16",
          "2019-01-17",
          "2019-01-18",
          "2019-01-22",
          "2019-01-23",
          "2019-01-24",
          "2019-01-25",
          "2019-01-28",
          "2019-01-29",
          "2019-01-30",
          "2019-01-31",
          "2019-02-01",
          "2019-02-04",
          "2019-02-05",
          "2019-02-06",
          "2019-02-07",
          "2019-02-08",
          "2019-02-11",
          "2019-02-12",
          "2019-02-13",
          "2019-02-14",
          "2019-02-15",
          "2019-02-19",
          "2019-02-20",
          "2019-02-21",
          "2019-02-22",
          "2019-02-25",
          "2019-02-26",
          "2019-02-27",
          "2019-02-28",
          "2019-03-01",
          "2019-03-04",
          "2019-03-05",
          "2019-03-06",
          "2019-03-07",
          "2019-03-08",
          "2019-03-11",
          "2019-03-12",
          "2019-03-13",
          "2019-03-14",
          "2019-03-15",
          "2019-03-18",
          "2019-03-19",
          "2019-03-20",
          "2019-03-21",
          "2019-03-22",
          "2019-03-25",
          "2019-03-26",
          "2019-03-27",
          "2019-03-28",
          "2019-03-29",
          "2019-04-01",
          "2019-04-02",
          "2019-04-03",
          "2019-04-04",
          "2019-04-05",
          "2019-04-08",
          "2019-04-09",
          "2019-04-10",
          "2019-04-11",
          "2019-04-12",
          "2019-04-15",
          "2019-04-16",
          "2019-04-17",
          "2019-04-18",
          "2019-04-22",
          "2019-04-23",
          "2019-04-24",
          "2019-04-25",
          "2019-04-26",
          "2019-04-29",
          "2019-04-30",
          "2019-05-01",
          "2019-05-02",
          "2019-05-03",
          "2019-05-06",
          "2019-05-07",
          "2019-05-08",
          "2019-05-09",
          "2019-05-10",
          "2019-05-13",
          "2019-05-14",
          "2019-05-15",
          "2019-05-16",
          "2019-05-17",
          "2019-05-20",
          "2019-05-21",
          "2019-05-22",
          "2019-05-23",
          "2019-05-24",
          "2019-05-28",
          "2019-05-29",
          "2019-05-30",
          "2019-05-31",
          "2019-06-03",
          "2019-06-04",
          "2019-06-05",
          "2019-06-06",
          "2019-06-07",
          "2019-06-10",
          "2019-06-11",
          "2019-06-12",
          "2019-06-13",
          "2019-06-14",
          "2019-06-17",
          "2019-06-18",
          "2019-06-19",
          "2019-06-20",
          "2019-06-21",
          "2019-06-24",
          "2019-06-25",
          "2019-06-26",
          "2019-06-27",
          "2019-06-28",
          "2019-07-01",
          "2019-07-02",
          "2019-07-03",
          "2019-07-05",
          "2019-07-08",
          "2019-07-09",
          "2019-07-10",
          "2019-07-11",
          "2019-07-12",
          "2019-07-15",
          "2019-07-16",
          "2019-07-17",
          "2019-07-18",
          "2019-07-19",
          "2019-07-22",
          "2019-07-23",
          "2019-07-24",
          "2019-07-25",
          "2019-07-26",
          "2019-07-29",
          "2019-07-30",
          "2019-07-31",
          "2019-08-01",
          "2019-08-02",
          "2019-08-05",
          "2019-08-06",
          "2019-08-07",
          "2019-08-08",
          "2019-08-09",
          "2019-08-12",
          "2019-08-13",
          "2019-08-14",
          "2019-08-15",
          "2019-08-16",
          "2019-08-19",
          "2019-08-20",
          "2019-08-21",
          "2019-08-22",
          "2019-08-23",
          "2019-08-26",
          "2019-08-27",
          "2019-08-28",
          "2019-08-29",
          "2019-08-30",
          "2019-09-03",
          "2019-09-04",
          "2019-09-05",
          "2019-09-06",
          "2019-09-09",
          "2019-09-10",
          "2019-09-11",
          "2019-09-12",
          "2019-09-13",
          "2019-09-16",
          "2019-09-17",
          "2019-09-18",
          "2019-09-19",
          "2019-09-20",
          "2019-09-23",
          "2019-09-24",
          "2019-09-25",
          "2019-09-26",
          "2019-09-27",
          "2019-09-30",
          "2019-10-01",
          "2019-10-02",
          "2019-10-03",
          "2019-10-04",
          "2019-10-07",
          "2019-10-08",
          "2019-10-09",
          "2019-10-10",
          "2019-10-11",
          "2019-10-14",
          "2019-10-15",
          "2019-10-16",
          "2019-10-17",
          "2019-10-18",
          "2019-10-21",
          "2019-10-22",
          "2019-10-23",
          "2019-10-24",
          "2019-10-25",
          "2019-10-28",
          "2019-10-29",
          "2019-10-30",
          "2019-10-31",
          "2019-11-01",
          "2019-11-04",
          "2019-11-05",
          "2019-11-06",
          "2019-11-07",
          "2019-11-08",
          "2019-11-11",
          "2019-11-12",
          "2019-11-13",
          "2019-11-14",
          "2019-11-15",
          "2019-11-18",
          "2019-11-19",
          "2019-11-20",
          "2019-11-21",
          "2019-11-22",
          "2019-11-25",
          "2019-11-26",
          "2019-11-27",
          "2019-11-29"
         ],
         "xaxis": "x2",
         "y": [
          118944541,
          111579866,
          116074402,
          131091048,
          126402764,
          106375678,
          163333432,
          161821927,
          115783759,
          212283097,
          139172635,
          216490121,
          344859506,
          345942402,
          186937468,
          211168719,
          271863580,
          316103993,
          310677592,
          187864905,
          216327851,
          172730603,
          356715612,
          493585758,
          224166833,
          337820408,
          240511495,
          223591548,
          304622008,
          159317418,
          168845041,
          193708529,
          222684816,
          132346808,
          207496924,
          176350611,
          259634682,
          173589231,
          147709644,
          160992382,
          150784940,
          135770353,
          176118769,
          114631139,
          154556674,
          186088798,
          160875844,
          162074761,
          146816801,
          168672990,
          177468085,
          196509041,
          226641098,
          184477713,
          182941554,
          196183319,
          223396257,
          205808499,
          134513501,
          145772406,
          161078665,
          161215165,
          105847602,
          110384143,
          184576297,
          158703990,
          133006493,
          110278931,
          125125040,
          161608989,
          144615226,
          366879697,
          217947757,
          157707939,
          192910086,
          239188584,
          177335420,
          143457213,
          355853771,
          300677608,
          193774904,
          270000858,
          182747817,
          360353366,
          328973162,
          647316760,
          637558734,
          396159543,
          317849705,
          235607027,
          234456089,
          345602060,
          325943991,
          360595878,
          394759527,
          530423626,
          500909335,
          269822997,
          396505132,
          349719279,
          300870473,
          297933434,
          277909392,
          240243641,
          226618259,
          398475566,
          264609061,
          357774294,
          268023252,
          317890583,
          214128107,
          207196003,
          238268655,
          216373918,
          263185740,
          174006543,
          213140636,
          239355313,
          254698722,
          268692053,
          238726472,
          169333229,
          373760407,
          284101670,
          382924764,
          233385146,
          256936431,
          253769702,
          210842046,
          144999850,
          131283538,
          213025882,
          184426719,
          232337892,
          282693306,
          186708979,
          258162303,
          264526950,
          274781292,
          222020785,
          182126480,
          204855535,
          163056171,
          220149031,
          220070531,
          188263197,
          146657242,
          158171627,
          140473721,
          239728279,
          120800381,
          242916211,
          273408176,
          239542543,
          158698476,
          147895278,
          172270222,
          182922040,
          265847589,
          209714149,
          163490258,
          280795568,
          272330717,
          224492677,
          272704063,
          167238558,
          273933006,
          267834949,
          156112147,
          212197260,
          141973690,
          150268927,
          147017889,
          127818961,
          178503456,
          209823581,
          168608341,
          199962858,
          195836810,
          214786712,
          268632440,
          191322353,
          202354235,
          209671704,
          128799460,
          209207409,
          179665724,
          287106609,
          174638619,
          166153198,
          229634076,
          148626519,
          164859971,
          177760079,
          103098291,
          182209984,
          194347147,
          217764255,
          243704938,
          141502179,
          280604682,
          200051747,
          221546107,
          108212321,
          151145700,
          158982885,
          190023965,
          168575989,
          144305475,
          174074708,
          158345856,
          226702775,
          215039313,
          180654096,
          155901614,
          186621575,
          221387386,
          158017547,
          239068789,
          163940710,
          300331917,
          172308826,
          197723674,
          156852807,
          181592166,
          222308913,
          140159033,
          76007704,
          223642224,
          233930639,
          221037149,
          191213570,
          151288823,
          103050459,
          206580946,
          138019177,
          123705049,
          117571625,
          133812609,
          147249532,
          160823010,
          185035177,
          141075278,
          119085459,
          94965438,
          78878090,
          70079275,
          58125974,
          55309010,
          58033036,
          76616846,
          91270271,
          138725191,
          137409675,
          133975250,
          122518970,
          156034587,
          122401644,
          110286968,
          107929135,
          129229132,
          117677857,
          114401252,
          151958324,
          175745603,
          151462880,
          113715455,
          167552153,
          141281439,
          123302633,
          295637223,
          149249105,
          167194214,
          118323602,
          145886611,
          134634710,
          112439030,
          99072704,
          146436606,
          162708478,
          137716436,
          101691100,
          119575387,
          130183448,
          109810420,
          130002330,
          233116375,
          227610100,
          260467041,
          141693837,
          141600773,
          258582270,
          200277834,
          176485166,
          277371473,
          216888931,
          174706407,
          153903463,
          301665703,
          225758504,
          235607778,
          359794831,
          469160630,
          254521638,
          230654390,
          154065282,
          129743412,
          148648724,
          159238287,
          155769995,
          109839083,
          129844555,
          135895860,
          132756530,
          154038917,
          100773342,
          121083840,
          120453617,
          170973204,
          148014798,
          121518486,
          161480682,
          162172967,
          161271236,
          170146610,
          210908208,
          124321889,
          156473001,
          136214509,
          65760002,
          146658425,
          143104801,
          124865764,
          115094350,
          126310033,
          138445808,
          182821163,
          227065699,
          222951264,
          114134435,
          114886994,
          193745610,
          171648128,
          157499081,
          141770642,
          192852310,
          135228138,
          119584847,
          182638302,
          168799987,
          147200295,
          151102185,
          164984594,
          120921858,
          164731167,
          233094277,
          200466729,
          234690124,
          179951146,
          161805954,
          198696304,
          160964350,
          238629307,
          207599751,
          160570345,
          300957945,
          308038426,
          234996065,
          159478911,
          193157234,
          176886453,
          334286827,
          226129358,
          168908174,
          165556257,
          244295405,
          223496512,
          202385636,
          165935968,
          143332679,
          170464164,
          194171492,
          195918544,
          214675640,
          204062545,
          226111747,
          220124620,
          196872076,
          166554896,
          137145310,
          245270290,
          126019327,
          136653703,
          131278113,
          249020022,
          207939900,
          307042469,
          325790824,
          346653757,
          371029415,
          520721783,
          655561584,
          702263849,
          717828611,
          662607378,
          487979673,
          313731600,
          258810580,
          294095199,
          238201070,
          512956218,
          428281241,
          275090591,
          331136599,
          246869675,
          312365337,
          314495833,
          190977185,
          241315666,
          301828304,
          254585844,
          255517200,
          285142737,
          209803113,
          250568194,
          380195064,
          305793438,
          272514654,
          319389428,
          326777105,
          284528213,
          241516921,
          218932124,
          316251215,
          513920097,
          307242488,
          260673617,
          311753819,
          286696748,
          298108816,
          288685511,
          365136777,
          459177456,
          284107995,
          257800742,
          312657900,
          230666207,
          209087953,
          281544827,
          212538802,
          211397567,
          202311559,
          318857857,
          226601263,
          262075598,
          278999360,
          203215563,
          268596749,
          289053783,
          343800151,
          225906497,
          228146632,
          416565738,
          245529375,
          291174800,
          249401512,
          196617175,
          224426217,
          337981970,
          231866470,
          189924327,
          159258229,
          184709388,
          235782466,
          331219799,
          215580353,
          229611599,
          216494841,
          224531653,
          99556980,
          210686012,
          199241491,
          324439457,
          176954756,
          221109692,
          225263845,
          178842040,
          237802476,
          240862724,
          209111336,
          215826054,
          245159708,
          238618786,
          199109123,
          220481303,
          183902965,
          225418075,
          194230879,
          119465303,
          92187159,
          86075701,
          119107005,
          123507123,
          95598996,
          193697825,
          127186456,
          173894933,
          148049929,
          99530109,
          115281921,
          111540673,
          118983646,
          179836140,
          132209191,
          163395122,
          126328814,
          138230146,
          129295759,
          103083260,
          198613161,
          184880478,
          135259033,
          147311730,
          157211918,
          166234457,
          113090345,
          160598487,
          107694459,
          135528071,
          139361385,
          148602826,
          167907482,
          115841819,
          165996154,
          195195094,
          186567742,
          129869401,
          134042271,
          124455245,
          137704236,
          105539083,
          145728833,
          129355808,
          185934689,
          145026117,
          120638224,
          140764992,
          202129838,
          143692128,
          116968812,
          122836765,
          104003471,
          184090417,
          145163502,
          165118448,
          152893405,
          125291026,
          121729639,
          122388401,
          135216691,
          120520956,
          120163949,
          119868421,
          148562025,
          164963645,
          135486715,
          151741045,
          155806609,
          146895936,
          137439344,
          127555857,
          235360256,
          154132907,
          154321489,
          169246612,
          147825217,
          147877575,
          123884187,
          198666751,
          143199560,
          171844860,
          137484192,
          150254995,
          136292712,
          124639054,
          115092198,
          138837314,
          121080935,
          143762703,
          193931300,
          127765875,
          213383873,
          220778190,
          150600916,
          153032360,
          163909908,
          207629260,
          207265560,
          247992908,
          319631058,
          177861071,
          197531138,
          204958303,
          167357599,
          135465568,
          152883408,
          162370365,
          196186175,
          253244993,
          202548253,
          164149384,
          184202757,
          184772672,
          143915630,
          169756044,
          181931736,
          172223884,
          230616235,
          169444421,
          131365459,
          137382532,
          206466600,
          205272317,
          130029174,
          146375688,
          141633945,
          108087938,
          169242658,
          212251060,
          129524407,
          80450171,
          126177419,
          151192025,
          103780468,
          167884796,
          141734024,
          143583154,
          129644147,
          97525191,
          138860218,
          113349636,
          129847218,
          142904464,
          145210831,
          173301102,
          129122265,
          156526464,
          236768882,
          106781926,
          120575835,
          138293740,
          199556580,
          157824975,
          86327738,
          109545089,
          89754633,
          90291642,
          99792622,
          79426869,
          102379363,
          71085811,
          112014164,
          90813666,
          78255657,
          105581009,
          133243431,
          111466361,
          99481192,
          68785850,
          75689536,
          65421300,
          96589830,
          151970364,
          120226199,
          100660254,
          158272434,
          107272023,
          86458407,
          88759995,
          87640880,
          225470102,
          169776992,
          119427726,
          98326520,
          128318257,
          154009764,
          108737426,
          95681978,
          133165138,
          146502136,
          111830276,
          150696066,
          135911137,
          113422151,
          121283027,
          124311599,
          124842048,
          78415562,
          148872811,
          124247412,
          123601455,
          124181900,
          107689051,
          108815410,
          128834057,
          148108412,
          185645112,
          125578601,
          192056293,
          120179305,
          134457331,
          146023428,
          103438492,
          100995566,
          137702120,
          98378432,
          107068091,
          264304430,
          181517243,
          201055214,
          97677409,
          123018209,
          191504916,
          178128354,
          239483819,
          151495731,
          119807381,
          81710736,
          65409145,
          100124325,
          128646177,
          177086443,
          151085880,
          136568288,
          124656283,
          127622507,
          147300444,
          103220533,
          108726325,
          98840667,
          152570378,
          145880026,
          135714940,
          137701692,
          143735755,
          177762727,
          150895322,
          168486930,
          245883785,
          53874548,
          106947663,
          167920546,
          148806608,
          243952162,
          192058911,
          144761781,
          116817675,
          110002444,
          121265078,
          90745581,
          130735372,
          113917286,
          89567104,
          93172559,
          104849487,
          133833420,
          169905915,
          111797291,
          104596066,
          146426315,
          147216088,
          113357611,
          105694364,
          137447625,
          108975801,
          131172997,
          159073559,
          113912334,
          138762719,
          162489974,
          103133681,
          73774925,
          65392613,
          82322561,
          80834206,
          215226408,
          95105396,
          160574782,
          183256921,
          106356525,
          245824757,
          186596178,
          150781872,
          126865910,
          170634729,
          99010157,
          121663035,
          94469849,
          86101309,
          123487628,
          83746703,
          105755706,
          92550856,
          126329853,
          138601089,
          126704266,
          167567263,
          113759222,
          128604916,
          111163530,
          151322280,
          86856545,
          99950532,
          102932783,
          99194043,
          101504286,
          154167332,
          131884920,
          159665917,
          86571104,
          101922102,
          135711015,
          110142479,
          116359817,
          217258928,
          147507796,
          226834743,
          167583106,
          149687552,
          106553422,
          166141269,
          96781189,
          131060567,
          95918776,
          88572702,
          116010614,
          138874120,
          96407564,
          144202220,
          66882091,
          90359178,
          97419172,
          106738550,
          103202902,
          81843160,
          119000837,
          120718433,
          109913544,
          129801000,
          85071182,
          95804190,
          244031724,
          211064320,
          151573867,
          143679738,
          160363334,
          107793730,
          176850020,
          168390676,
          157631425,
          211737712,
          200225418,
          188337725,
          105667060,
          159505378,
          177363530,
          163587777,
          141197468,
          136295578,
          114695519,
          206149463,
          321255850,
          271956728,
          222334758,
          162262138,
          134847909,
          129483673,
          160402823,
          131954792,
          154863617,
          75216341,
          122416847,
          108092440,
          119297903,
          121410362,
          135592163,
          104212650,
          69450551,
          88702093,
          92873880,
          103620266,
          103831633,
          79428559,
          80829656,
          112913979,
          111156540,
          107814531,
          79845115,
          85216968,
          142388621,
          110438393,
          91116603,
          54072643,
          87494967,
          84854618,
          102181229,
          91856453,
          68593204,
          80806030,
          79829169,
          152931740,
          130868145,
          96437569,
          89294374,
          159530482,
          101471352,
          90893581,
          89705051,
          158621736,
          108112952,
          119200461,
          134928918,
          142375036,
          97389357,
          63090428,
          159756439,
          87559246,
          105847733,
          94545837,
          83208998,
          72727764,
          126187482,
          82523205,
          203460601,
          146616842,
          132867912,
          104616418,
          106333010,
          117306473,
          77146878,
          99141710,
          143937398,
          127160442,
          113349748,
          176698430,
          96878377,
          96295115,
          178014932,
          168972837,
          195954729,
          105039740,
          112106394,
          155484509,
          161676079,
          129389185,
          138315691,
          104103543,
          126663233,
          105484397,
          70350456,
          93625090,
          84979018,
          87401344,
          140001834,
          133795417,
          142805050,
          85676773,
          85824778,
          87347728,
          157000422,
          136712623,
          62614326,
          83989617,
          103844266,
          103435238,
          102818190,
          104796009,
          93891416,
          124908601,
          92841271,
          81295887,
          79485709,
          86993560,
          58800056,
          55870903,
          99725781,
          116563302,
          123032637,
          106934067,
          127727518,
          70123608,
          80976207,
          130590810,
          115564840,
          107807610,
          96194790,
          89886224,
          234906482,
          136298872,
          197086908,
          85597541,
          45368841,
          63365227,
          61813841,
          56857458,
          86247638,
          119636836,
          81390502,
          108028139,
          86144169,
          96582234,
          90683302,
          102026318,
          149891938,
          105016055,
          98525721,
          72290520,
          107848616,
          88621138,
          61270816,
          132496880,
          208677093,
          180843004,
          110463152,
          216597269,
          118938051,
          194677861,
          254837004,
          165012351,
          164230470,
          132877526,
          170787197,
          92218729,
          117814009,
          94717638,
          100542155,
          96498305,
          80460878,
          126524261,
          104998099,
          118116359,
          114063868,
          117084901,
          98677144,
          93880780,
          150842000,
          167748455,
          167545852,
          88376859,
          82516500,
          114513432,
          74939176,
          99009013,
          104824323,
          155014237,
          153919598,
          98359454,
          101804519,
          176267253,
          117240972,
          163127905,
          121411145,
          103851737,
          119842897,
          142382757,
          101641547,
          99744911,
          89193125,
          78773818,
          77435320,
          169380705,
          140802699,
          112659755,
          100253612,
          172959331,
          167250792,
          132381601,
          157092533,
          105196633,
          105254649,
          68329343,
          85790307,
          73869384,
          88169916,
          100380205,
          135121094,
          84097551,
          101507717,
          93019095,
          98121662,
          75882739,
          85454226,
          106500480,
          93617513,
          83678568,
          86940045,
          66453965,
          72366848,
          154956399,
          97457678,
          63839398,
          111644478,
          89093285,
          61549345,
          60156088,
          72010355,
          66722865,
          64376573,
          76315640,
          64655648,
          65047193,
          55529372,
          92102592,
          78696219,
          65118828,
          57129440,
          68772479,
          106350200,
          82017278,
          87424332,
          84833876,
          105266767,
          85928920,
          100587108,
          70611486,
          96236917,
          82781912,
          84311822,
          71453616,
          70504228,
          90470121,
          52474832,
          52938832,
          61696447,
          108142552,
          72992322,
          99040407,
          64243410,
          58657919,
          111346230,
          80073242,
          145398459,
          124330419,
          67591618,
          67677602,
          65611830,
          56888093,
          76837257,
          69258785,
          80466351,
          104222452,
          183479441,
          189260864,
          91340487,
          152690379,
          94818317,
          135733421,
          117014384,
          74543691,
          73631640,
          69046544,
          57370793,
          139950669,
          75424360,
          59134709,
          72762541,
          67790690,
          76107359,
          63855022,
          47298324,
          47873708,
          58330373,
          65906598,
          72425793,
          57461742,
          85236442,
          102176784,
          64145745,
          88590876,
          67251103,
          66823558,
          117478516,
          76401421,
          116200722,
          151265896,
          94990300,
          121649147,
          125552758,
          111393319,
          107275635,
          150300028,
          103546740,
          95111605,
          131302082,
          177797862,
          157285182,
          121568769,
          104778335,
          147913498,
          186461453,
          210704601,
          221908954,
          230938833,
          215846527,
          380714598,
          270391488,
          214624921,
          130010813,
          154948579,
          151822409,
          154944169,
          117927286,
          82953689,
          106735936,
          142557417,
          113329976,
          146902554,
          93734143,
          93342777,
          91708574,
          107089076,
          89539712,
          66318964,
          54499375,
          90120295,
          85357918,
          80417514,
          80440954,
          76068107,
          82373009,
          72840326,
          142327285,
          65880759,
          79108301,
          62167832,
          57890088,
          103968354,
          74507192,
          68951968,
          91316591,
          91025470,
          108588152,
          125180054,
          159856394,
          159012805,
          202330191,
          189965750,
          259543848,
          253910092,
          257633887,
          245084590,
          148318934,
          122167931,
          42963399,
          57326703,
          79643948,
          73540761,
          130333829,
          121465865,
          169632646,
          209151408,
          125346709,
          147217784,
          158567288,
          144396067,
          214553306,
          192991092,
          176613906,
          211879605,
          130991069,
          122942707,
          174356029,
          117516753,
          92009711,
          134044598,
          168514312,
          173585424,
          197729724,
          163106969,
          124212881,
          134306728,
          97953181,
          125672026,
          87219016,
          96164183,
          91087785,
          97545949,
          93670430,
          76968199,
          80652941,
          91462491,
          140896392,
          74411054,
          72472263,
          73061687,
          72697868,
          108075972,
          87491428,
          110325809,
          114497192,
          76872957,
          188127982,
          89818893,
          157121263,
          110145718,
          93993523,
          162410893,
          136099192,
          94510422,
          228808524,
          117917302,
          177715081,
          71784536,
          77805321,
          159521708,
          153067241,
          118938966,
          96180365,
          126768703,
          137303584,
          86900906,
          114368155,
          81236337,
          89351939,
          85548854,
          72722915,
          74436594,
          75099866,
          99529320,
          68934864,
          191113230,
          92189481,
          72559831,
          78264616,
          102585942,
          61327387,
          79358126,
          86863531,
          125684903,
          161304890,
          103399711,
          70927235,
          113326156,
          135060151,
          88244940,
          155877260,
          75708065,
          119727592,
          94667943,
          95934006,
          76510099,
          74549685,
          72114610,
          76857530,
          64764585,
          57433495,
          124308584,
          93213981,
          74974560,
          124919611,
          93338750,
          91531012,
          87820909,
          151882820,
          121704676,
          89063330,
          105034690,
          134551285,
          73876447,
          135382369,
          124384184,
          85308227,
          126708635,
          165867949,
          130478689,
          70696027,
          68476797,
          92307318,
          97107361,
          104174840,
          202621332,
          182925106,
          135979873,
          104373652,
          117975369,
          173820249,
          164020059,
          144113107,
          129456890,
          106069400,
          81709575,
          97914141,
          106683266,
          89029973,
          70446821,
          77965048,
          88667920,
          90509128,
          117754979,
          132361082,
          123544845,
          105791255,
          91304374,
          103266857,
          113965728,
          81820823,
          85786817,
          116030803,
          117857956,
          80270676,
          126081377,
          172123672,
          89383253,
          72786528,
          79072643,
          71692678,
          172945975,
          194327884,
          346588469,
          507244333,
          369833071,
          339256986,
          274143906,
          160414352,
          163298816,
          256000392,
          160269331,
          152087836,
          207080961,
          116025739,
          149347735,
          158611063,
          119691212,
          79451983,
          113806176,
          99581557,
          276046618,
          223657456,
          105726209,
          153890876,
          92790620,
          159378840,
          155054777,
          178515871,
          159045572,
          163452044,
          131078964,
          211003342,
          126320842,
          110274530,
          124307295,
          153055231,
          107069240,
          56395585,
          88038718,
          99106161,
          134142195,
          114580052,
          76523897,
          78448484,
          102038033,
          174911723,
          144442340,
          69032965,
          77905770,
          135906725,
          90525498,
          131076942,
          86270811,
          95246052,
          96224477,
          78408744,
          110471473,
          131008660,
          75874602,
          67845971,
          121315200,
          153577050,
          117645231,
          121123744,
          121342544,
          88220465,
          94011519,
          64931172,
          98874365,
          51980062,
          37317779,
          112822700,
          97858418,
          108441259,
          166224154,
          192913879,
          102027111,
          103372367,
          162401537,
          116128884,
          211173305,
          182385177,
          154069569,
          197017008,
          173092476,
          251393535,
          99094290,
          111026246,
          110987228,
          48542150,
          65899939,
          92640672,
          63317679,
          114877859,
          222353534,
          110845849,
          152112604,
          213436073,
          209817228,
          187941323,
          172330490,
          221168886,
          240795609,
          324846447,
          195244373,
          286547839,
          195772941,
          168319598,
          130371686,
          141036757,
          185681707,
          143798780,
          210529336,
          136061564,
          182564890,
          205054934,
          139531794,
          180788308,
          191526694,
          184513136,
          148214057,
          219058885,
          127632393,
          120250668,
          136009496,
          102342997,
          114792988,
          103640292,
          111455289,
          150812152,
          110728317,
          129833663,
          125918102,
          141799687,
          102414960,
          95172197,
          129293601,
          100218998,
          123974866,
          94801213,
          156838697,
          137964528,
          73611974,
          93169090,
          129303179,
          134278505,
          138372404,
          72926659,
          97471939,
          81052455,
          84360853,
          62408185,
          92922863,
          86365310,
          94584110,
          114423478,
          63496969,
          99662158,
          91839761,
          113859037,
          95040598,
          83757486,
          115350567,
          96336433,
          65212883,
          75761615,
          82530960,
          88316060,
          81100314,
          85695041,
          99251724,
          66166494,
          75864174,
          77329437,
          97216169,
          142424137,
          62188015,
          106422142,
          92243810,
          67619222,
          89315004,
          74374922,
          77472207,
          81726989,
          89586308,
          96474630,
          77486827,
          114924940,
          123493379,
          115430507,
          104990408,
          58682576,
          93537808,
          79221525,
          55280699,
          64211214,
          109879380,
          69936215,
          63044749,
          101757126,
          64887045,
          60974761,
          66170920,
          73786869,
          113829158,
          117751153,
          125059286,
          109124496,
          149533065,
          117055748,
          82789603,
          72461663,
          95560471,
          102731356,
          333444397,
          248988660,
          159382399,
          137328614,
          165021948,
          106055333,
          109803713,
          96021491,
          85593827,
          133970972,
          73633937,
          101275629,
          87324129,
          91230870,
          107155401,
          58725918,
          54345728,
          58159457,
          67777310,
          62787477,
          55873147,
          70080493,
          84083893,
          65035718,
          79519436,
          73311422,
          92295506,
          53993626,
          46585528,
          71892161,
          39906479,
          51251728,
          57941092,
          72504270,
          61313544,
          49813482,
          53213621,
          75134339,
          52989266,
          75443004,
          61368766,
          53399159,
          71728949,
          69224776,
          122506348,
          70502167,
          58114543,
          85269453,
          97844207,
          79293856,
          56702089,
          76554855,
          74102880,
          221589073,
          168110913,
          182828839,
          134185491,
          145736123,
          155236354,
          80250490,
          69665279,
          110284425,
          76678713,
          73630921,
          89827305,
          78494829,
          87411015,
          128070615,
          117202914,
          83512057,
          119948052,
          72815963,
          62927376,
          89788255,
          51855023,
          130367373,
          73866117,
          101356960,
          93346237,
          58275674,
          76869656,
          66519224,
          73639830,
          89089092,
          60146592,
          66542329,
          75705478,
          77220213,
          140623183,
          61272507,
          122781818,
          103330806,
          88939346,
          109122059,
          109794861,
          106772138,
          258428972,
          172113313,
          100552732,
          94579982,
          91652580,
          65617697,
          69797191,
          86265751,
          72402638,
          67428957,
          56620237,
          37872255,
          76572511,
          69886690,
          113291793,
          79040487,
          74840347,
          67837821,
          59877377,
          110738050,
          99714387,
          88005766,
          102016125,
          110477485,
          142501812,
          124972554,
          156420152,
          90341147,
          89838810,
          67909039,
          56219071,
          36697822,
          42672487,
          64095014,
          48696080,
          108998328,
          91366522,
          78744433,
          78379012,
          71559922,
          46939676,
          63771939,
          74650016,
          72113181,
          62717865,
          61240814,
          54793302,
          66608787,
          129168623,
          75061645,
          95555295,
          84437712,
          59970719,
          59711118,
          79737252,
          75880805,
          79117651,
          69657560,
          80563168,
          57790108,
          57931151,
          51566218,
          65955245,
          66015892,
          55182050,
          71108983,
          86785826,
          84722437,
          77204104,
          88946051,
          62115185,
          74615902,
          82381612,
          56515440,
          96961938,
          149158170,
          70245978,
          81974300,
          55391533,
          65103737,
          78168795,
          90683918,
          81991652,
          57256824,
          59880778,
          96081750,
          78343951,
          89002111,
          52536979,
          131809275,
          97569204,
          100410277,
          112504853,
          87454452,
          93483915,
          61950354,
          56737890,
          73733094,
          85546486,
          56466195,
          108800604,
          69135757,
          74412311,
          67615302,
          88045276,
          81864436,
          92880394,
          68405367,
          83225821,
          68699868,
          92572186,
          110389847,
          119209877,
          76698265,
          84702455,
          57410326,
          63532845,
          66882521,
          57375732,
          73137731,
          61462732,
          62001269,
          48385730,
          51363200,
          54293799,
          62358346,
          53912730,
          61918937,
          51241791,
          172174107,
          107047656,
          115011373,
          61010602,
          48341683,
          49181099,
          64071661,
          46629905,
          35201897,
          91796016,
          68962024,
          88666128,
          44698825,
          50375430,
          54144311,
          65950691,
          132256362,
          86108102,
          60066953,
          78602311,
          66464888,
          84553097,
          65123802,
          56906368,
          55977569,
          44148059,
          66986801,
          56700477,
          82247666,
          70042599,
          106949719,
          86820694,
          39153806,
          54427596,
          66115317,
          57972268,
          36663274,
          50354614,
          59610405,
          39471637,
          60262692,
          33531917,
          42742498,
          51034260,
          47135183,
          88711019,
          46622256,
          54915591,
          47575422,
          70766568,
          50088359,
          65838659,
          55050401,
          47211216,
          40855997,
          60191838,
          31995021,
          61719353,
          62632619,
          120479470,
          74869947,
          73291919,
          55242746,
          56715544,
          128490396,
          136747986,
          65469736,
          63140101,
          50203837,
          50741671,
          64445912,
          40565606,
          51135715,
          62030805,
          103803880,
          62006989,
          91398777,
          57916867,
          58034730,
          63832825,
          71364848,
          56896027,
          59228002,
          95446349,
          95432382,
          46235238,
          47108148,
          59574083,
          48211398,
          51214032,
          57064357,
          54081959,
          81001426,
          44778841,
          85578002,
          59022985,
          66810169,
          55953619,
          63522757,
          80645998,
          35803138,
          43057363,
          47674325,
          47065144,
          54800435,
          38221675,
          31560964,
          40888330,
          61903788,
          89176377,
          63915306,
          66935910,
          103715291,
          69797972,
          85562544,
          54285687,
          60304781,
          54202736,
          56449535,
          59589730,
          49652598,
          57502161,
          50469579,
          95085497,
          59984662,
          50228648,
          61315152,
          80811525,
          67777027,
          75756833,
          48075514,
          69176799,
          45033392,
          27856514,
          52274922,
          98971719,
          77512102,
          127894389,
          164390902,
          94040560,
          77994544,
          75898566,
          77218569,
          76563873,
          83077533,
          85195750,
          102905409,
          100666692,
          144610290,
          83653572,
          82382876,
          76751500,
          67032339,
          78720873,
          45244433,
          57750986,
          45116139,
          96007424,
          86655749,
          90070416,
          80636408,
          83523995,
          57319192,
          57253957,
          69574318,
          62361455,
          90816076,
          106555142,
          113258799,
          100728006,
          140920098,
          91322408,
          97084700,
          134816117,
          84587313,
          107743119,
          90118337,
          131796419,
          118948131,
          90102470,
          173174790,
          294681816,
          355026782,
          167376100,
          246449505,
          283565315,
          143735976,
          81223640,
          120735685,
          111200286,
          160420135,
          86369662,
          98883740,
          110511290,
          92766428,
          86491406,
          99099165,
          121907767,
          176855077,
          139083217,
          97307387,
          79213163,
          87063502,
          66901150,
          113625335,
          71924793,
          91968937,
          105895079,
          83433038,
          100343673,
          109208442,
          59757271,
          78709578,
          148785916,
          183534751,
          141956102,
          129941445,
          146452306,
          124244790,
          186286343,
          119956861,
          123715339,
          82652618,
          179521209,
          105442932,
          105573736,
          91140243,
          68890480,
          85079176,
          63405287,
          64682036,
          57303857,
          77655909,
          99953133,
          65557954,
          112885452,
          103840948,
          67731942,
          57053647,
          82182324,
          74203365,
          86368943,
          136311479,
          91222075,
          55304907,
          67499247,
          59666143,
          72063931,
          59871511,
          54790606,
          87036136,
          53942631,
          56536400,
          64367959,
          58025875,
          52966358,
          64694184,
          76043827,
          56374755,
          115908607,
          69678449,
          93519941,
          71258411,
          45385166,
          51135038,
          62732215,
          72969402,
          72139719,
          58892515,
          72329028,
          79070610,
          77097620,
          120041562,
          52917581,
          97531510,
          53785486,
          71061404,
          56612003,
          137854162,
          68683211,
          105110674,
          76650517,
          97592499,
          63554774,
          42187071,
          56925919,
          66493696,
          50550399,
          51966829,
          77054739,
          60124687,
          48234964,
          48201038,
          52315500,
          44593465,
          61412117,
          82372729,
          47047565,
          68026935,
          78882927,
          57919495,
          76783177,
          63742508,
          68570493,
          53853326,
          63426363,
          53935386,
          39400887,
          43196646,
          42114551,
          35716976,
          77076044,
          65732909,
          43842031,
          102925355,
          69967919,
          65618481,
          39807490,
          67271983,
          44993333,
          49204851,
          57487399,
          57072377,
          46943472,
          61485514,
          61229501,
          66140838,
          57594367,
          72452437,
          65909863,
          73524824,
          50210903,
          50530492,
          59810758,
          51034222,
          55079875,
          68244043,
          61930407,
          49080562,
          100360646,
          105479656,
          53409645,
          44370037,
          79739674,
          59249455,
          70091385,
          62078937,
          47258227,
          64694594,
          111545910,
          105951698,
          87742172,
          74338982,
          214731042,
          274840491,
          183186492,
          102263717,
          118255834,
          110625987,
          134557525,
          139901634,
          82415812,
          146352719,
          177806697,
          138061545,
          201574596,
          160749101,
          157115995,
          128296325,
          99495037,
          122634107,
          65622482,
          60085894,
          102752099,
          65584886,
          98812561,
          99673574,
          98176610,
          125335931,
          135101437,
          126668040,
          103061706,
          136021311,
          75563743,
          42807878,
          79981362,
          75502441,
          127629633,
          82346420,
          98204190,
          103017719,
          177986013,
          204185411,
          161018923,
          151445885,
          121504431,
          97976706,
          96662717,
          116961071,
          165492257,
          134515094,
          214992763,
          252053377,
          255345633,
          147311588,
          218485360,
          186267342,
          153100189,
          144299370,
          126925199,
          144140692,
          142628834,
          103139100,
          102512587,
          95006554,
          96823923,
          73858110,
          70908227,
          85208271,
          77636710,
          96118435,
          127900303,
          115531183,
          86030287,
          59204139,
          96883358,
          85613655,
          66136334,
          92473671,
          104012073,
          85782524,
          60744844,
          79552774,
          58347791,
          95481961,
          75788861,
          68021423,
          72270221,
          65277204,
          83234396,
          97088659,
          59120804,
          76610767,
          64214727,
          78114616,
          69030699,
          56844101,
          56921570,
          69268293,
          78880548,
          106494637,
          59114559,
          75039771,
          94885089,
          85795799,
          65098897,
          79667530,
          80639153,
          67518366,
          81308979,
          62199806,
          90268121,
          84609210,
          79550375,
          122659286,
          85575197,
          68125920,
          72224722,
          56238545,
          82186806,
          77617945,
          40070351,
          68243202,
          48997505,
          58621729,
          53566335,
          66142316,
          52601499,
          55093100,
          69727782,
          49596685,
          52153197,
          58268295,
          68708513,
          40160140,
          52246633,
          50392914,
          57770862,
          50916423,
          57197747,
          81111733,
          71671870,
          65030170,
          56543653,
          107198069,
          144729908,
          91568287,
          103471104,
          112429293,
          127290527,
          77003230,
          73956407,
          76749643,
          100353024,
          62877610,
          46847085,
          49482472,
          98733847,
          55268095,
          70029356,
          104972927,
          62523780,
          86862782,
          96427952,
          77231889,
          71169717,
          69430381,
          74272199,
          60799053,
          58641325,
          47096312,
          48945156,
          52324716,
          39205709,
          85434823,
          78674377,
          116570017,
          83309466,
          47582730,
          82028656,
          51584902,
          40355239,
          59350929,
          79107474,
          61504544,
          40898896,
          51677326,
          45841772,
          41101279,
          58595558,
          50889481,
          40354410,
          33910261,
          40567964,
          44102443,
          51701687,
          71081238,
          43687404,
          44657973,
          47213232,
          55394092,
          45084077,
          38126462,
          45849045,
          104245162,
          142646576,
          116749695,
          178745449,
          120711682,
          140572265,
          87713904,
          93729958,
          65527632,
          94792972,
          135622053,
          101929845,
          85825286,
          53640153,
          51652752,
          49723430,
          51739292,
          149318151,
          72620598,
          68262998,
          59852324,
          57998913,
          62961780,
          69231875,
          47003957,
          83356779,
          49584290,
          51260290,
          57947101,
          68821066,
          72908745,
          62104838,
          58191175,
          42904427,
          74192091,
          78099215,
          97455979,
          47541321,
          97367568,
          73434081,
          58722357,
          84781110,
          52562761,
          89900420,
          124523974,
          85906799,
          66700681,
          60656561,
          101575470,
          65707329,
          57255974,
          101228577,
          40546668,
          47832356,
          50563596,
          46784885,
          64338028,
          39460901,
          49126038,
          34991829,
          35857459,
          45205412,
          42146965,
          44284921,
          49643928,
          69053791,
          71141515,
          60606916,
          42933219,
          46487108,
          54272274,
          49068797,
          35934909,
          46484624,
          54459018,
          52001874,
          62706192,
          49327980,
          67927818,
          79696276,
          54664690,
          44850228,
          48762676,
          37727953,
          44793179,
          36592740
         ],
         "yaxis": "y2"
        }
       ],
       "layout": {
        "legend": {
         "bgcolor": "#F5F6F9",
         "font": {
          "color": "#4D5663"
         }
        },
        "paper_bgcolor": "#F5F6F9",
        "plot_bgcolor": "#F5F6F9",
        "template": {
         "data": {
          "bar": [
           {
            "error_x": {
             "color": "#2a3f5f"
            },
            "error_y": {
             "color": "#2a3f5f"
            },
            "marker": {
             "line": {
              "color": "#E5ECF6",
              "width": 0.5
             }
            },
            "type": "bar"
           }
          ],
          "barpolar": [
           {
            "marker": {
             "line": {
              "color": "#E5ECF6",
              "width": 0.5
             }
            },
            "type": "barpolar"
           }
          ],
          "carpet": [
           {
            "aaxis": {
             "endlinecolor": "#2a3f5f",
             "gridcolor": "white",
             "linecolor": "white",
             "minorgridcolor": "white",
             "startlinecolor": "#2a3f5f"
            },
            "baxis": {
             "endlinecolor": "#2a3f5f",
             "gridcolor": "white",
             "linecolor": "white",
             "minorgridcolor": "white",
             "startlinecolor": "#2a3f5f"
            },
            "type": "carpet"
           }
          ],
          "choropleth": [
           {
            "colorbar": {
             "outlinewidth": 0,
             "ticks": ""
            },
            "type": "choropleth"
           }
          ],
          "contour": [
           {
            "colorbar": {
             "outlinewidth": 0,
             "ticks": ""
            },
            "colorscale": [
             [
              0,
              "#0d0887"
             ],
             [
              0.1111111111111111,
              "#46039f"
             ],
             [
              0.2222222222222222,
              "#7201a8"
             ],
             [
              0.3333333333333333,
              "#9c179e"
             ],
             [
              0.4444444444444444,
              "#bd3786"
             ],
             [
              0.5555555555555556,
              "#d8576b"
             ],
             [
              0.6666666666666666,
              "#ed7953"
             ],
             [
              0.7777777777777778,
              "#fb9f3a"
             ],
             [
              0.8888888888888888,
              "#fdca26"
             ],
             [
              1,
              "#f0f921"
             ]
            ],
            "type": "contour"
           }
          ],
          "contourcarpet": [
           {
            "colorbar": {
             "outlinewidth": 0,
             "ticks": ""
            },
            "type": "contourcarpet"
           }
          ],
          "heatmap": [
           {
            "colorbar": {
             "outlinewidth": 0,
             "ticks": ""
            },
            "colorscale": [
             [
              0,
              "#0d0887"
             ],
             [
              0.1111111111111111,
              "#46039f"
             ],
             [
              0.2222222222222222,
              "#7201a8"
             ],
             [
              0.3333333333333333,
              "#9c179e"
             ],
             [
              0.4444444444444444,
              "#bd3786"
             ],
             [
              0.5555555555555556,
              "#d8576b"
             ],
             [
              0.6666666666666666,
              "#ed7953"
             ],
             [
              0.7777777777777778,
              "#fb9f3a"
             ],
             [
              0.8888888888888888,
              "#fdca26"
             ],
             [
              1,
              "#f0f921"
             ]
            ],
            "type": "heatmap"
           }
          ],
          "heatmapgl": [
           {
            "colorbar": {
             "outlinewidth": 0,
             "ticks": ""
            },
            "colorscale": [
             [
              0,
              "#0d0887"
             ],
             [
              0.1111111111111111,
              "#46039f"
             ],
             [
              0.2222222222222222,
              "#7201a8"
             ],
             [
              0.3333333333333333,
              "#9c179e"
             ],
             [
              0.4444444444444444,
              "#bd3786"
             ],
             [
              0.5555555555555556,
              "#d8576b"
             ],
             [
              0.6666666666666666,
              "#ed7953"
             ],
             [
              0.7777777777777778,
              "#fb9f3a"
             ],
             [
              0.8888888888888888,
              "#fdca26"
             ],
             [
              1,
              "#f0f921"
             ]
            ],
            "type": "heatmapgl"
           }
          ],
          "histogram": [
           {
            "marker": {
             "colorbar": {
              "outlinewidth": 0,
              "ticks": ""
             }
            },
            "type": "histogram"
           }
          ],
          "histogram2d": [
           {
            "colorbar": {
             "outlinewidth": 0,
             "ticks": ""
            },
            "colorscale": [
             [
              0,
              "#0d0887"
             ],
             [
              0.1111111111111111,
              "#46039f"
             ],
             [
              0.2222222222222222,
              "#7201a8"
             ],
             [
              0.3333333333333333,
              "#9c179e"
             ],
             [
              0.4444444444444444,
              "#bd3786"
             ],
             [
              0.5555555555555556,
              "#d8576b"
             ],
             [
              0.6666666666666666,
              "#ed7953"
             ],
             [
              0.7777777777777778,
              "#fb9f3a"
             ],
             [
              0.8888888888888888,
              "#fdca26"
             ],
             [
              1,
              "#f0f921"
             ]
            ],
            "type": "histogram2d"
           }
          ],
          "histogram2dcontour": [
           {
            "colorbar": {
             "outlinewidth": 0,
             "ticks": ""
            },
            "colorscale": [
             [
              0,
              "#0d0887"
             ],
             [
              0.1111111111111111,
              "#46039f"
             ],
             [
              0.2222222222222222,
              "#7201a8"
             ],
             [
              0.3333333333333333,
              "#9c179e"
             ],
             [
              0.4444444444444444,
              "#bd3786"
             ],
             [
              0.5555555555555556,
              "#d8576b"
             ],
             [
              0.6666666666666666,
              "#ed7953"
             ],
             [
              0.7777777777777778,
              "#fb9f3a"
             ],
             [
              0.8888888888888888,
              "#fdca26"
             ],
             [
              1,
              "#f0f921"
             ]
            ],
            "type": "histogram2dcontour"
           }
          ],
          "mesh3d": [
           {
            "colorbar": {
             "outlinewidth": 0,
             "ticks": ""
            },
            "type": "mesh3d"
           }
          ],
          "parcoords": [
           {
            "line": {
             "colorbar": {
              "outlinewidth": 0,
              "ticks": ""
             }
            },
            "type": "parcoords"
           }
          ],
          "pie": [
           {
            "automargin": true,
            "type": "pie"
           }
          ],
          "scatter": [
           {
            "marker": {
             "colorbar": {
              "outlinewidth": 0,
              "ticks": ""
             }
            },
            "type": "scatter"
           }
          ],
          "scatter3d": [
           {
            "line": {
             "colorbar": {
              "outlinewidth": 0,
              "ticks": ""
             }
            },
            "marker": {
             "colorbar": {
              "outlinewidth": 0,
              "ticks": ""
             }
            },
            "type": "scatter3d"
           }
          ],
          "scattercarpet": [
           {
            "marker": {
             "colorbar": {
              "outlinewidth": 0,
              "ticks": ""
             }
            },
            "type": "scattercarpet"
           }
          ],
          "scattergeo": [
           {
            "marker": {
             "colorbar": {
              "outlinewidth": 0,
              "ticks": ""
             }
            },
            "type": "scattergeo"
           }
          ],
          "scattergl": [
           {
            "marker": {
             "colorbar": {
              "outlinewidth": 0,
              "ticks": ""
             }
            },
            "type": "scattergl"
           }
          ],
          "scattermapbox": [
           {
            "marker": {
             "colorbar": {
              "outlinewidth": 0,
              "ticks": ""
             }
            },
            "type": "scattermapbox"
           }
          ],
          "scatterpolar": [
           {
            "marker": {
             "colorbar": {
              "outlinewidth": 0,
              "ticks": ""
             }
            },
            "type": "scatterpolar"
           }
          ],
          "scatterpolargl": [
           {
            "marker": {
             "colorbar": {
              "outlinewidth": 0,
              "ticks": ""
             }
            },
            "type": "scatterpolargl"
           }
          ],
          "scatterternary": [
           {
            "marker": {
             "colorbar": {
              "outlinewidth": 0,
              "ticks": ""
             }
            },
            "type": "scatterternary"
           }
          ],
          "surface": [
           {
            "colorbar": {
             "outlinewidth": 0,
             "ticks": ""
            },
            "colorscale": [
             [
              0,
              "#0d0887"
             ],
             [
              0.1111111111111111,
              "#46039f"
             ],
             [
              0.2222222222222222,
              "#7201a8"
             ],
             [
              0.3333333333333333,
              "#9c179e"
             ],
             [
              0.4444444444444444,
              "#bd3786"
             ],
             [
              0.5555555555555556,
              "#d8576b"
             ],
             [
              0.6666666666666666,
              "#ed7953"
             ],
             [
              0.7777777777777778,
              "#fb9f3a"
             ],
             [
              0.8888888888888888,
              "#fdca26"
             ],
             [
              1,
              "#f0f921"
             ]
            ],
            "type": "surface"
           }
          ],
          "table": [
           {
            "cells": {
             "fill": {
              "color": "#EBF0F8"
             },
             "line": {
              "color": "white"
             }
            },
            "header": {
             "fill": {
              "color": "#C8D4E3"
             },
             "line": {
              "color": "white"
             }
            },
            "type": "table"
           }
          ]
         },
         "layout": {
          "annotationdefaults": {
           "arrowcolor": "#2a3f5f",
           "arrowhead": 0,
           "arrowwidth": 1
          },
          "coloraxis": {
           "colorbar": {
            "outlinewidth": 0,
            "ticks": ""
           }
          },
          "colorscale": {
           "diverging": [
            [
             0,
             "#8e0152"
            ],
            [
             0.1,
             "#c51b7d"
            ],
            [
             0.2,
             "#de77ae"
            ],
            [
             0.3,
             "#f1b6da"
            ],
            [
             0.4,
             "#fde0ef"
            ],
            [
             0.5,
             "#f7f7f7"
            ],
            [
             0.6,
             "#e6f5d0"
            ],
            [
             0.7,
             "#b8e186"
            ],
            [
             0.8,
             "#7fbc41"
            ],
            [
             0.9,
             "#4d9221"
            ],
            [
             1,
             "#276419"
            ]
           ],
           "sequential": [
            [
             0,
             "#0d0887"
            ],
            [
             0.1111111111111111,
             "#46039f"
            ],
            [
             0.2222222222222222,
             "#7201a8"
            ],
            [
             0.3333333333333333,
             "#9c179e"
            ],
            [
             0.4444444444444444,
             "#bd3786"
            ],
            [
             0.5555555555555556,
             "#d8576b"
            ],
            [
             0.6666666666666666,
             "#ed7953"
            ],
            [
             0.7777777777777778,
             "#fb9f3a"
            ],
            [
             0.8888888888888888,
             "#fdca26"
            ],
            [
             1,
             "#f0f921"
            ]
           ],
           "sequentialminus": [
            [
             0,
             "#0d0887"
            ],
            [
             0.1111111111111111,
             "#46039f"
            ],
            [
             0.2222222222222222,
             "#7201a8"
            ],
            [
             0.3333333333333333,
             "#9c179e"
            ],
            [
             0.4444444444444444,
             "#bd3786"
            ],
            [
             0.5555555555555556,
             "#d8576b"
            ],
            [
             0.6666666666666666,
             "#ed7953"
            ],
            [
             0.7777777777777778,
             "#fb9f3a"
            ],
            [
             0.8888888888888888,
             "#fdca26"
            ],
            [
             1,
             "#f0f921"
            ]
           ]
          },
          "colorway": [
           "#636efa",
           "#EF553B",
           "#00cc96",
           "#ab63fa",
           "#FFA15A",
           "#19d3f3",
           "#FF6692",
           "#B6E880",
           "#FF97FF",
           "#FECB52"
          ],
          "font": {
           "color": "#2a3f5f"
          },
          "geo": {
           "bgcolor": "white",
           "lakecolor": "white",
           "landcolor": "#E5ECF6",
           "showlakes": true,
           "showland": true,
           "subunitcolor": "white"
          },
          "hoverlabel": {
           "align": "left"
          },
          "hovermode": "closest",
          "mapbox": {
           "style": "light"
          },
          "paper_bgcolor": "white",
          "plot_bgcolor": "#E5ECF6",
          "polar": {
           "angularaxis": {
            "gridcolor": "white",
            "linecolor": "white",
            "ticks": ""
           },
           "bgcolor": "#E5ECF6",
           "radialaxis": {
            "gridcolor": "white",
            "linecolor": "white",
            "ticks": ""
           }
          },
          "scene": {
           "xaxis": {
            "backgroundcolor": "#E5ECF6",
            "gridcolor": "white",
            "gridwidth": 2,
            "linecolor": "white",
            "showbackground": true,
            "ticks": "",
            "zerolinecolor": "white"
           },
           "yaxis": {
            "backgroundcolor": "#E5ECF6",
            "gridcolor": "white",
            "gridwidth": 2,
            "linecolor": "white",
            "showbackground": true,
            "ticks": "",
            "zerolinecolor": "white"
           },
           "zaxis": {
            "backgroundcolor": "#E5ECF6",
            "gridcolor": "white",
            "gridwidth": 2,
            "linecolor": "white",
            "showbackground": true,
            "ticks": "",
            "zerolinecolor": "white"
           }
          },
          "shapedefaults": {
           "line": {
            "color": "#2a3f5f"
           }
          },
          "ternary": {
           "aaxis": {
            "gridcolor": "white",
            "linecolor": "white",
            "ticks": ""
           },
           "baxis": {
            "gridcolor": "white",
            "linecolor": "white",
            "ticks": ""
           },
           "bgcolor": "#E5ECF6",
           "caxis": {
            "gridcolor": "white",
            "linecolor": "white",
            "ticks": ""
           }
          },
          "title": {
           "x": 0.05
          },
          "xaxis": {
           "automargin": true,
           "gridcolor": "white",
           "linecolor": "white",
           "ticks": "",
           "title": {
            "standoff": 15
           },
           "zerolinecolor": "white",
           "zerolinewidth": 2
          },
          "yaxis": {
           "automargin": true,
           "gridcolor": "white",
           "linecolor": "white",
           "ticks": "",
           "title": {
            "standoff": 15
           },
           "zerolinecolor": "white",
           "zerolinewidth": 2
          }
         }
        },
        "title": {
         "font": {
          "color": "#4D5663"
         },
         "text": "spy"
        },
        "xaxis": {
         "anchor": "y",
         "domain": [
          0,
          0.45
         ],
         "gridcolor": "#E1E5ED",
         "showgrid": true,
         "tickfont": {
          "color": "#4D5663"
         },
         "title": {
          "font": {
           "color": "#4D5663"
          },
          "text": "Year"
         },
         "zerolinecolor": "#E1E5ED"
        },
        "xaxis2": {
         "anchor": "y2",
         "domain": [
          0.55,
          1
         ],
         "gridcolor": "#E1E5ED",
         "showgrid": true,
         "tickfont": {
          "color": "#4D5663"
         },
         "title": {
          "font": {
           "color": "#4D5663"
          },
          "text": "Year"
         },
         "zerolinecolor": "#E1E5ED"
        },
        "yaxis": {
         "anchor": "x",
         "domain": [
          0,
          1
         ],
         "gridcolor": "#E1E5ED",
         "showgrid": true,
         "tickfont": {
          "color": "#4D5663"
         },
         "title": {
          "font": {
           "color": "#4D5663"
          },
          "text": "Price"
         },
         "zerolinecolor": "#E1E5ED"
        },
        "yaxis2": {
         "anchor": "x2",
         "domain": [
          0,
          1
         ],
         "gridcolor": "#E1E5ED",
         "showgrid": true,
         "tickfont": {
          "color": "#4D5663"
         },
         "title": {
          "font": {
           "color": "#4D5663"
          },
          "text": "Price"
         },
         "zerolinecolor": "#E1E5ED"
        }
       }
      },
      "text/html": [
       "<div>\n",
       "        \n",
       "        \n",
       "            <div id=\"1707fca2-fae3-43bc-a693-30deb829dc2b\" class=\"plotly-graph-div\" style=\"height:525px; width:100%;\"></div>\n",
       "            <script type=\"text/javascript\">\n",
       "                require([\"plotly\"], function(Plotly) {\n",
       "                    window.PLOTLYENV=window.PLOTLYENV || {};\n",
       "                    window.PLOTLYENV.BASE_URL='https://plot.ly';\n",
       "                    \n",
       "                if (document.getElementById(\"1707fca2-fae3-43bc-a693-30deb829dc2b\")) {\n",
       "                    Plotly.newPlot(\n",
       "                        '1707fca2-fae3-43bc-a693-30deb829dc2b',\n",
       "                        [{\"line\": {\"color\": \"rgba(255, 153, 51, 1.0)\", \"dash\": \"solid\", \"shape\": \"linear\", \"width\": 1.3}, \"mode\": \"lines\", \"name\": \"CLOSE\", \"text\": \"\", \"type\": \"scatter\", \"x\": [\"2010-01-04\", \"2010-01-05\", \"2010-01-06\", \"2010-01-07\", \"2010-01-08\", \"2010-01-11\", \"2010-01-12\", \"2010-01-13\", \"2010-01-14\", \"2010-01-15\", \"2010-01-19\", \"2010-01-20\", \"2010-01-21\", \"2010-01-22\", \"2010-01-25\", \"2010-01-26\", \"2010-01-27\", \"2010-01-28\", \"2010-01-29\", \"2010-02-01\", \"2010-02-02\", \"2010-02-03\", \"2010-02-04\", \"2010-02-05\", \"2010-02-08\", \"2010-02-09\", \"2010-02-10\", \"2010-02-11\", \"2010-02-12\", \"2010-02-16\", \"2010-02-17\", \"2010-02-18\", \"2010-02-19\", \"2010-02-22\", \"2010-02-23\", \"2010-02-24\", \"2010-02-25\", \"2010-02-26\", \"2010-03-01\", \"2010-03-02\", \"2010-03-03\", \"2010-03-04\", \"2010-03-05\", \"2010-03-08\", \"2010-03-09\", \"2010-03-10\", \"2010-03-11\", \"2010-03-12\", \"2010-03-15\", \"2010-03-16\", \"2010-03-17\", \"2010-03-18\", \"2010-03-19\", \"2010-03-22\", \"2010-03-23\", \"2010-03-24\", \"2010-03-25\", \"2010-03-26\", \"2010-03-29\", \"2010-03-30\", \"2010-03-31\", \"2010-04-01\", \"2010-04-05\", \"2010-04-06\", \"2010-04-07\", \"2010-04-08\", \"2010-04-09\", \"2010-04-12\", \"2010-04-13\", \"2010-04-14\", \"2010-04-15\", \"2010-04-16\", \"2010-04-19\", \"2010-04-20\", \"2010-04-21\", \"2010-04-22\", \"2010-04-23\", \"2010-04-26\", \"2010-04-27\", \"2010-04-28\", \"2010-04-29\", \"2010-04-30\", \"2010-05-03\", \"2010-05-04\", \"2010-05-05\", \"2010-05-06\", \"2010-05-07\", \"2010-05-10\", \"2010-05-11\", \"2010-05-12\", \"2010-05-13\", \"2010-05-14\", \"2010-05-17\", \"2010-05-18\", \"2010-05-19\", \"2010-05-20\", \"2010-05-21\", \"2010-05-24\", \"2010-05-25\", \"2010-05-26\", \"2010-05-27\", \"2010-05-28\", \"2010-06-01\", \"2010-06-02\", \"2010-06-03\", \"2010-06-04\", \"2010-06-07\", \"2010-06-08\", \"2010-06-09\", \"2010-06-10\", \"2010-06-11\", \"2010-06-14\", \"2010-06-15\", \"2010-06-16\", \"2010-06-17\", \"2010-06-18\", \"2010-06-21\", \"2010-06-22\", \"2010-06-23\", \"2010-06-24\", \"2010-06-25\", \"2010-06-28\", \"2010-06-29\", \"2010-06-30\", \"2010-07-01\", \"2010-07-02\", \"2010-07-06\", \"2010-07-07\", \"2010-07-08\", \"2010-07-09\", \"2010-07-12\", \"2010-07-13\", \"2010-07-14\", \"2010-07-15\", \"2010-07-16\", \"2010-07-19\", \"2010-07-20\", \"2010-07-21\", \"2010-07-22\", \"2010-07-23\", \"2010-07-26\", \"2010-07-27\", \"2010-07-28\", \"2010-07-29\", \"2010-07-30\", \"2010-08-02\", \"2010-08-03\", \"2010-08-04\", \"2010-08-05\", \"2010-08-06\", \"2010-08-09\", \"2010-08-10\", \"2010-08-11\", \"2010-08-12\", \"2010-08-13\", \"2010-08-16\", \"2010-08-17\", \"2010-08-18\", \"2010-08-19\", \"2010-08-20\", \"2010-08-23\", \"2010-08-24\", \"2010-08-25\", \"2010-08-26\", \"2010-08-27\", \"2010-08-30\", \"2010-08-31\", \"2010-09-01\", \"2010-09-02\", \"2010-09-03\", \"2010-09-07\", \"2010-09-08\", \"2010-09-09\", \"2010-09-10\", \"2010-09-13\", \"2010-09-14\", \"2010-09-15\", \"2010-09-16\", \"2010-09-17\", \"2010-09-20\", \"2010-09-21\", \"2010-09-22\", \"2010-09-23\", \"2010-09-24\", \"2010-09-27\", \"2010-09-28\", \"2010-09-29\", \"2010-09-30\", \"2010-10-01\", \"2010-10-04\", \"2010-10-05\", \"2010-10-06\", \"2010-10-07\", \"2010-10-08\", \"2010-10-11\", \"2010-10-12\", \"2010-10-13\", \"2010-10-14\", \"2010-10-15\", \"2010-10-18\", \"2010-10-19\", \"2010-10-20\", \"2010-10-21\", \"2010-10-22\", \"2010-10-25\", \"2010-10-26\", \"2010-10-27\", \"2010-10-28\", \"2010-10-29\", \"2010-11-01\", \"2010-11-02\", \"2010-11-03\", \"2010-11-04\", \"2010-11-05\", \"2010-11-08\", \"2010-11-09\", \"2010-11-10\", \"2010-11-11\", \"2010-11-12\", \"2010-11-15\", \"2010-11-16\", \"2010-11-17\", \"2010-11-18\", \"2010-11-19\", \"2010-11-22\", \"2010-11-23\", \"2010-11-24\", \"2010-11-26\", \"2010-11-29\", \"2010-11-30\", \"2010-12-01\", \"2010-12-02\", \"2010-12-03\", \"2010-12-06\", \"2010-12-07\", \"2010-12-08\", \"2010-12-09\", \"2010-12-10\", \"2010-12-13\", \"2010-12-14\", \"2010-12-15\", \"2010-12-16\", \"2010-12-17\", \"2010-12-20\", \"2010-12-21\", \"2010-12-22\", \"2010-12-23\", \"2010-12-27\", \"2010-12-28\", \"2010-12-29\", \"2010-12-30\", \"2010-12-31\", \"2011-01-03\", \"2011-01-04\", \"2011-01-05\", \"2011-01-06\", \"2011-01-07\", \"2011-01-10\", \"2011-01-11\", \"2011-01-12\", \"2011-01-13\", \"2011-01-14\", \"2011-01-18\", \"2011-01-19\", \"2011-01-20\", \"2011-01-21\", \"2011-01-24\", \"2011-01-25\", \"2011-01-26\", \"2011-01-27\", \"2011-01-28\", \"2011-01-31\", \"2011-02-01\", \"2011-02-02\", \"2011-02-03\", \"2011-02-04\", \"2011-02-07\", \"2011-02-08\", \"2011-02-09\", \"2011-02-10\", \"2011-02-11\", \"2011-02-14\", \"2011-02-15\", \"2011-02-16\", \"2011-02-17\", \"2011-02-18\", \"2011-02-22\", \"2011-02-23\", \"2011-02-24\", \"2011-02-25\", \"2011-02-28\", \"2011-03-01\", \"2011-03-02\", \"2011-03-03\", \"2011-03-04\", \"2011-03-07\", \"2011-03-08\", \"2011-03-09\", \"2011-03-10\", \"2011-03-11\", \"2011-03-14\", \"2011-03-15\", \"2011-03-16\", \"2011-03-17\", \"2011-03-18\", \"2011-03-21\", \"2011-03-22\", \"2011-03-23\", \"2011-03-24\", \"2011-03-25\", \"2011-03-28\", \"2011-03-29\", \"2011-03-30\", \"2011-03-31\", \"2011-04-01\", \"2011-04-04\", \"2011-04-05\", \"2011-04-06\", \"2011-04-07\", \"2011-04-08\", \"2011-04-11\", \"2011-04-12\", \"2011-04-13\", \"2011-04-14\", \"2011-04-15\", \"2011-04-18\", \"2011-04-19\", \"2011-04-20\", \"2011-04-21\", \"2011-04-25\", \"2011-04-26\", \"2011-04-27\", \"2011-04-28\", \"2011-04-29\", \"2011-05-02\", \"2011-05-03\", \"2011-05-04\", \"2011-05-05\", \"2011-05-06\", \"2011-05-09\", \"2011-05-10\", \"2011-05-11\", \"2011-05-12\", \"2011-05-13\", \"2011-05-16\", \"2011-05-17\", \"2011-05-18\", \"2011-05-19\", \"2011-05-20\", \"2011-05-23\", \"2011-05-24\", \"2011-05-25\", \"2011-05-26\", \"2011-05-27\", \"2011-05-31\", \"2011-06-01\", \"2011-06-02\", \"2011-06-03\", \"2011-06-06\", \"2011-06-07\", \"2011-06-08\", \"2011-06-09\", \"2011-06-10\", \"2011-06-13\", \"2011-06-14\", \"2011-06-15\", \"2011-06-16\", \"2011-06-17\", \"2011-06-20\", \"2011-06-21\", \"2011-06-22\", \"2011-06-23\", \"2011-06-24\", \"2011-06-27\", \"2011-06-28\", \"2011-06-29\", \"2011-06-30\", \"2011-07-01\", \"2011-07-05\", \"2011-07-06\", \"2011-07-07\", \"2011-07-08\", \"2011-07-11\", \"2011-07-12\", \"2011-07-13\", \"2011-07-14\", \"2011-07-15\", \"2011-07-18\", \"2011-07-19\", \"2011-07-20\", \"2011-07-21\", \"2011-07-22\", \"2011-07-25\", \"2011-07-26\", \"2011-07-27\", \"2011-07-28\", \"2011-07-29\", \"2011-08-01\", \"2011-08-02\", \"2011-08-03\", \"2011-08-04\", \"2011-08-05\", \"2011-08-08\", \"2011-08-09\", \"2011-08-10\", \"2011-08-11\", \"2011-08-12\", \"2011-08-15\", \"2011-08-16\", \"2011-08-17\", \"2011-08-18\", \"2011-08-19\", \"2011-08-22\", \"2011-08-23\", \"2011-08-24\", \"2011-08-25\", \"2011-08-26\", \"2011-08-29\", \"2011-08-30\", \"2011-08-31\", \"2011-09-01\", \"2011-09-02\", \"2011-09-06\", \"2011-09-07\", \"2011-09-08\", \"2011-09-09\", \"2011-09-12\", \"2011-09-13\", \"2011-09-14\", \"2011-09-15\", \"2011-09-16\", \"2011-09-19\", \"2011-09-20\", \"2011-09-21\", \"2011-09-22\", \"2011-09-23\", \"2011-09-26\", \"2011-09-27\", \"2011-09-28\", \"2011-09-29\", \"2011-09-30\", \"2011-10-03\", \"2011-10-04\", \"2011-10-05\", \"2011-10-06\", \"2011-10-07\", \"2011-10-10\", \"2011-10-11\", \"2011-10-12\", \"2011-10-13\", \"2011-10-14\", \"2011-10-17\", \"2011-10-18\", \"2011-10-19\", \"2011-10-20\", \"2011-10-21\", \"2011-10-24\", \"2011-10-25\", \"2011-10-26\", \"2011-10-27\", \"2011-10-28\", \"2011-10-31\", \"2011-11-01\", \"2011-11-02\", \"2011-11-03\", \"2011-11-04\", \"2011-11-07\", \"2011-11-08\", \"2011-11-09\", \"2011-11-10\", \"2011-11-11\", \"2011-11-14\", \"2011-11-15\", \"2011-11-16\", \"2011-11-17\", \"2011-11-18\", \"2011-11-21\", \"2011-11-22\", \"2011-11-23\", \"2011-11-25\", \"2011-11-28\", \"2011-11-29\", \"2011-11-30\", \"2011-12-01\", \"2011-12-02\", \"2011-12-05\", \"2011-12-06\", \"2011-12-07\", \"2011-12-08\", \"2011-12-09\", \"2011-12-12\", \"2011-12-13\", \"2011-12-14\", \"2011-12-15\", \"2011-12-16\", \"2011-12-19\", \"2011-12-20\", \"2011-12-21\", \"2011-12-22\", \"2011-12-23\", \"2011-12-27\", \"2011-12-28\", \"2011-12-29\", \"2011-12-30\", \"2012-01-03\", \"2012-01-04\", \"2012-01-05\", \"2012-01-06\", \"2012-01-09\", \"2012-01-10\", \"2012-01-11\", \"2012-01-12\", \"2012-01-13\", \"2012-01-17\", \"2012-01-18\", \"2012-01-19\", \"2012-01-20\", \"2012-01-23\", \"2012-01-24\", \"2012-01-25\", \"2012-01-26\", \"2012-01-27\", \"2012-01-30\", \"2012-01-31\", \"2012-02-01\", \"2012-02-02\", \"2012-02-03\", \"2012-02-06\", \"2012-02-07\", \"2012-02-08\", \"2012-02-09\", \"2012-02-10\", \"2012-02-13\", \"2012-02-14\", \"2012-02-15\", \"2012-02-16\", \"2012-02-17\", \"2012-02-21\", \"2012-02-22\", \"2012-02-23\", \"2012-02-24\", \"2012-02-27\", \"2012-02-28\", \"2012-02-29\", \"2012-03-01\", \"2012-03-02\", \"2012-03-05\", \"2012-03-06\", \"2012-03-07\", \"2012-03-08\", \"2012-03-09\", \"2012-03-12\", \"2012-03-13\", \"2012-03-14\", \"2012-03-15\", \"2012-03-16\", \"2012-03-19\", \"2012-03-20\", \"2012-03-21\", \"2012-03-22\", \"2012-03-23\", \"2012-03-26\", \"2012-03-27\", \"2012-03-28\", \"2012-03-29\", \"2012-03-30\", \"2012-04-02\", \"2012-04-03\", \"2012-04-04\", \"2012-04-05\", \"2012-04-09\", \"2012-04-10\", \"2012-04-11\", \"2012-04-12\", \"2012-04-13\", \"2012-04-16\", \"2012-04-17\", \"2012-04-18\", \"2012-04-19\", \"2012-04-20\", \"2012-04-23\", \"2012-04-24\", \"2012-04-25\", \"2012-04-26\", \"2012-04-27\", \"2012-04-30\", \"2012-05-01\", \"2012-05-02\", \"2012-05-03\", \"2012-05-04\", \"2012-05-07\", \"2012-05-08\", \"2012-05-09\", \"2012-05-10\", \"2012-05-11\", \"2012-05-14\", \"2012-05-15\", \"2012-05-16\", \"2012-05-17\", \"2012-05-18\", \"2012-05-21\", \"2012-05-22\", \"2012-05-23\", \"2012-05-24\", \"2012-05-25\", \"2012-05-29\", \"2012-05-30\", \"2012-05-31\", \"2012-06-01\", \"2012-06-04\", \"2012-06-05\", \"2012-06-06\", \"2012-06-07\", \"2012-06-08\", \"2012-06-11\", \"2012-06-12\", \"2012-06-13\", \"2012-06-14\", \"2012-06-15\", \"2012-06-18\", \"2012-06-19\", \"2012-06-20\", \"2012-06-21\", \"2012-06-22\", \"2012-06-25\", \"2012-06-26\", \"2012-06-27\", \"2012-06-28\", \"2012-06-29\", \"2012-07-02\", \"2012-07-03\", \"2012-07-05\", \"2012-07-06\", \"2012-07-09\", \"2012-07-10\", \"2012-07-11\", \"2012-07-12\", \"2012-07-13\", \"2012-07-16\", \"2012-07-17\", \"2012-07-18\", \"2012-07-19\", \"2012-07-20\", \"2012-07-23\", \"2012-07-24\", \"2012-07-25\", \"2012-07-26\", \"2012-07-27\", \"2012-07-30\", \"2012-07-31\", \"2012-08-01\", \"2012-08-02\", \"2012-08-03\", \"2012-08-06\", \"2012-08-07\", \"2012-08-08\", \"2012-08-09\", \"2012-08-10\", \"2012-08-13\", \"2012-08-14\", \"2012-08-15\", \"2012-08-16\", \"2012-08-17\", \"2012-08-20\", \"2012-08-21\", \"2012-08-22\", \"2012-08-23\", \"2012-08-24\", \"2012-08-27\", \"2012-08-28\", \"2012-08-29\", \"2012-08-30\", \"2012-08-31\", \"2012-09-04\", \"2012-09-05\", \"2012-09-06\", \"2012-09-07\", \"2012-09-10\", \"2012-09-11\", \"2012-09-12\", \"2012-09-13\", \"2012-09-14\", \"2012-09-17\", \"2012-09-18\", \"2012-09-19\", \"2012-09-20\", \"2012-09-21\", \"2012-09-24\", \"2012-09-25\", \"2012-09-26\", \"2012-09-27\", \"2012-09-28\", \"2012-10-01\", \"2012-10-02\", \"2012-10-03\", \"2012-10-04\", \"2012-10-05\", \"2012-10-08\", \"2012-10-09\", \"2012-10-10\", \"2012-10-11\", \"2012-10-12\", \"2012-10-15\", \"2012-10-16\", \"2012-10-17\", \"2012-10-18\", \"2012-10-19\", \"2012-10-22\", \"2012-10-23\", \"2012-10-24\", \"2012-10-25\", \"2012-10-26\", \"2012-10-31\", \"2012-11-01\", \"2012-11-02\", \"2012-11-05\", \"2012-11-06\", \"2012-11-07\", \"2012-11-08\", \"2012-11-09\", \"2012-11-12\", \"2012-11-13\", \"2012-11-14\", \"2012-11-15\", \"2012-11-16\", \"2012-11-19\", \"2012-11-20\", \"2012-11-21\", \"2012-11-23\", \"2012-11-26\", \"2012-11-27\", \"2012-11-28\", \"2012-11-29\", \"2012-11-30\", \"2012-12-03\", \"2012-12-04\", \"2012-12-05\", \"2012-12-06\", \"2012-12-07\", \"2012-12-10\", \"2012-12-11\", \"2012-12-12\", \"2012-12-13\", \"2012-12-14\", \"2012-12-17\", \"2012-12-18\", \"2012-12-19\", \"2012-12-20\", \"2012-12-21\", \"2012-12-24\", \"2012-12-26\", \"2012-12-27\", \"2012-12-28\", \"2012-12-31\", \"2013-01-02\", \"2013-01-03\", \"2013-01-04\", \"2013-01-07\", \"2013-01-08\", \"2013-01-09\", \"2013-01-10\", \"2013-01-11\", \"2013-01-14\", \"2013-01-15\", \"2013-01-16\", \"2013-01-17\", \"2013-01-18\", \"2013-01-22\", \"2013-01-23\", \"2013-01-24\", \"2013-01-25\", \"2013-01-28\", \"2013-01-29\", \"2013-01-30\", \"2013-01-31\", \"2013-02-01\", \"2013-02-04\", \"2013-02-05\", \"2013-02-06\", \"2013-02-07\", \"2013-02-08\", \"2013-02-11\", \"2013-02-12\", \"2013-02-13\", \"2013-02-14\", \"2013-02-15\", \"2013-02-19\", \"2013-02-20\", \"2013-02-21\", \"2013-02-22\", \"2013-02-25\", \"2013-02-26\", \"2013-02-27\", \"2013-02-28\", \"2013-03-01\", \"2013-03-04\", \"2013-03-05\", \"2013-03-06\", \"2013-03-07\", \"2013-03-08\", \"2013-03-11\", \"2013-03-12\", \"2013-03-13\", \"2013-03-14\", \"2013-03-15\", \"2013-03-18\", \"2013-03-19\", \"2013-03-20\", \"2013-03-21\", \"2013-03-22\", \"2013-03-25\", \"2013-03-26\", \"2013-03-27\", \"2013-03-28\", \"2013-04-01\", \"2013-04-02\", \"2013-04-03\", \"2013-04-04\", \"2013-04-05\", \"2013-04-08\", \"2013-04-09\", \"2013-04-10\", \"2013-04-11\", \"2013-04-12\", \"2013-04-15\", \"2013-04-16\", \"2013-04-17\", \"2013-04-18\", \"2013-04-19\", \"2013-04-22\", \"2013-04-23\", \"2013-04-24\", \"2013-04-25\", \"2013-04-26\", \"2013-04-29\", \"2013-04-30\", \"2013-05-01\", \"2013-05-02\", \"2013-05-03\", \"2013-05-06\", \"2013-05-07\", \"2013-05-08\", \"2013-05-09\", \"2013-05-10\", \"2013-05-13\", \"2013-05-14\", \"2013-05-15\", \"2013-05-16\", \"2013-05-17\", \"2013-05-20\", \"2013-05-21\", \"2013-05-22\", \"2013-05-23\", \"2013-05-24\", \"2013-05-28\", \"2013-05-29\", \"2013-05-30\", \"2013-05-31\", \"2013-06-03\", \"2013-06-04\", \"2013-06-05\", \"2013-06-06\", \"2013-06-07\", \"2013-06-10\", \"2013-06-11\", \"2013-06-12\", \"2013-06-13\", \"2013-06-14\", \"2013-06-17\", \"2013-06-18\", \"2013-06-19\", \"2013-06-20\", \"2013-06-21\", \"2013-06-24\", \"2013-06-25\", \"2013-06-26\", \"2013-06-27\", \"2013-06-28\", \"2013-07-01\", \"2013-07-02\", \"2013-07-03\", \"2013-07-05\", \"2013-07-08\", \"2013-07-09\", \"2013-07-10\", \"2013-07-11\", \"2013-07-12\", \"2013-07-15\", \"2013-07-16\", \"2013-07-17\", \"2013-07-18\", \"2013-07-19\", \"2013-07-22\", \"2013-07-23\", \"2013-07-24\", \"2013-07-25\", \"2013-07-26\", \"2013-07-29\", \"2013-07-30\", \"2013-07-31\", \"2013-08-01\", \"2013-08-02\", \"2013-08-05\", \"2013-08-06\", \"2013-08-07\", \"2013-08-08\", \"2013-08-09\", \"2013-08-12\", \"2013-08-13\", \"2013-08-14\", \"2013-08-15\", \"2013-08-16\", \"2013-08-19\", \"2013-08-20\", \"2013-08-21\", \"2013-08-22\", \"2013-08-23\", \"2013-08-26\", \"2013-08-27\", \"2013-08-28\", \"2013-08-29\", \"2013-08-30\", \"2013-09-03\", \"2013-09-04\", \"2013-09-05\", \"2013-09-06\", \"2013-09-09\", \"2013-09-10\", \"2013-09-11\", \"2013-09-12\", \"2013-09-13\", \"2013-09-16\", \"2013-09-17\", \"2013-09-18\", \"2013-09-19\", \"2013-09-20\", \"2013-09-23\", \"2013-09-24\", \"2013-09-25\", \"2013-09-26\", \"2013-09-27\", \"2013-09-30\", \"2013-10-01\", \"2013-10-02\", \"2013-10-03\", \"2013-10-04\", \"2013-10-07\", \"2013-10-08\", \"2013-10-09\", \"2013-10-10\", \"2013-10-11\", \"2013-10-14\", \"2013-10-15\", \"2013-10-16\", \"2013-10-17\", \"2013-10-18\", \"2013-10-21\", \"2013-10-22\", \"2013-10-23\", \"2013-10-24\", \"2013-10-25\", \"2013-10-28\", \"2013-10-29\", \"2013-10-30\", \"2013-10-31\", \"2013-11-01\", \"2013-11-04\", \"2013-11-05\", \"2013-11-06\", \"2013-11-07\", \"2013-11-08\", \"2013-11-11\", \"2013-11-12\", \"2013-11-13\", \"2013-11-14\", \"2013-11-15\", \"2013-11-18\", \"2013-11-19\", \"2013-11-20\", \"2013-11-21\", \"2013-11-22\", \"2013-11-25\", \"2013-11-26\", \"2013-11-27\", \"2013-11-29\", \"2013-12-02\", \"2013-12-03\", \"2013-12-04\", \"2013-12-05\", \"2013-12-06\", \"2013-12-09\", \"2013-12-10\", \"2013-12-11\", \"2013-12-12\", \"2013-12-13\", \"2013-12-16\", \"2013-12-17\", \"2013-12-18\", \"2013-12-19\", \"2013-12-20\", \"2013-12-23\", \"2013-12-24\", \"2013-12-26\", \"2013-12-27\", \"2013-12-30\", \"2013-12-31\", \"2014-01-02\", \"2014-01-03\", \"2014-01-06\", \"2014-01-07\", \"2014-01-08\", \"2014-01-09\", \"2014-01-10\", \"2014-01-13\", \"2014-01-14\", \"2014-01-15\", \"2014-01-16\", \"2014-01-17\", \"2014-01-21\", \"2014-01-22\", \"2014-01-23\", \"2014-01-24\", \"2014-01-27\", \"2014-01-28\", \"2014-01-29\", \"2014-01-30\", \"2014-01-31\", \"2014-02-03\", \"2014-02-04\", \"2014-02-05\", \"2014-02-06\", \"2014-02-07\", \"2014-02-10\", \"2014-02-11\", \"2014-02-12\", \"2014-02-13\", \"2014-02-14\", \"2014-02-18\", \"2014-02-19\", \"2014-02-20\", \"2014-02-21\", \"2014-02-24\", \"2014-02-25\", \"2014-02-26\", \"2014-02-27\", \"2014-02-28\", \"2014-03-03\", \"2014-03-04\", \"2014-03-05\", \"2014-03-06\", \"2014-03-07\", \"2014-03-10\", \"2014-03-11\", \"2014-03-12\", \"2014-03-13\", \"2014-03-14\", \"2014-03-17\", \"2014-03-18\", \"2014-03-19\", \"2014-03-20\", \"2014-03-21\", \"2014-03-24\", \"2014-03-25\", \"2014-03-26\", \"2014-03-27\", \"2014-03-28\", \"2014-03-31\", \"2014-04-01\", \"2014-04-02\", \"2014-04-03\", \"2014-04-04\", \"2014-04-07\", \"2014-04-08\", \"2014-04-09\", \"2014-04-10\", \"2014-04-11\", \"2014-04-14\", \"2014-04-15\", \"2014-04-16\", \"2014-04-17\", \"2014-04-21\", \"2014-04-22\", \"2014-04-23\", \"2014-04-24\", \"2014-04-25\", \"2014-04-28\", \"2014-04-29\", \"2014-04-30\", \"2014-05-01\", \"2014-05-02\", \"2014-05-05\", \"2014-05-06\", \"2014-05-07\", \"2014-05-08\", \"2014-05-09\", \"2014-05-12\", \"2014-05-13\", \"2014-05-14\", \"2014-05-15\", \"2014-05-16\", \"2014-05-19\", \"2014-05-20\", \"2014-05-21\", \"2014-05-22\", \"2014-05-23\", \"2014-05-27\", \"2014-05-28\", \"2014-05-29\", \"2014-05-30\", \"2014-06-02\", \"2014-06-03\", \"2014-06-04\", \"2014-06-05\", \"2014-06-06\", \"2014-06-09\", \"2014-06-10\", \"2014-06-11\", \"2014-06-12\", \"2014-06-13\", \"2014-06-16\", \"2014-06-17\", \"2014-06-18\", \"2014-06-19\", \"2014-06-20\", \"2014-06-23\", \"2014-06-24\", \"2014-06-25\", \"2014-06-26\", \"2014-06-27\", \"2014-06-30\", \"2014-07-01\", \"2014-07-02\", \"2014-07-03\", \"2014-07-07\", \"2014-07-08\", \"2014-07-09\", \"2014-07-10\", \"2014-07-11\", \"2014-07-14\", \"2014-07-15\", \"2014-07-16\", \"2014-07-17\", \"2014-07-18\", \"2014-07-21\", \"2014-07-22\", \"2014-07-23\", \"2014-07-24\", \"2014-07-25\", \"2014-07-28\", \"2014-07-29\", \"2014-07-30\", \"2014-07-31\", \"2014-08-01\", \"2014-08-04\", \"2014-08-05\", \"2014-08-06\", \"2014-08-07\", \"2014-08-08\", \"2014-08-11\", \"2014-08-12\", \"2014-08-13\", \"2014-08-14\", \"2014-08-15\", \"2014-08-18\", \"2014-08-19\", \"2014-08-20\", \"2014-08-21\", \"2014-08-22\", \"2014-08-25\", \"2014-08-26\", \"2014-08-27\", \"2014-08-28\", \"2014-08-29\", \"2014-09-02\", \"2014-09-03\", \"2014-09-04\", \"2014-09-05\", \"2014-09-08\", \"2014-09-09\", \"2014-09-10\", \"2014-09-11\", \"2014-09-12\", \"2014-09-15\", \"2014-09-16\", \"2014-09-17\", \"2014-09-18\", \"2014-09-19\", \"2014-09-22\", \"2014-09-23\", \"2014-09-24\", \"2014-09-25\", \"2014-09-26\", \"2014-09-29\", \"2014-09-30\", \"2014-10-01\", \"2014-10-02\", \"2014-10-03\", \"2014-10-06\", \"2014-10-07\", \"2014-10-08\", \"2014-10-09\", \"2014-10-10\", \"2014-10-13\", \"2014-10-14\", \"2014-10-15\", \"2014-10-16\", \"2014-10-17\", \"2014-10-20\", \"2014-10-21\", \"2014-10-22\", \"2014-10-23\", \"2014-10-24\", \"2014-10-27\", \"2014-10-28\", \"2014-10-29\", \"2014-10-30\", \"2014-10-31\", \"2014-11-03\", \"2014-11-04\", \"2014-11-05\", \"2014-11-06\", \"2014-11-07\", \"2014-11-10\", \"2014-11-11\", \"2014-11-12\", \"2014-11-13\", \"2014-11-14\", \"2014-11-17\", \"2014-11-18\", \"2014-11-19\", \"2014-11-20\", \"2014-11-21\", \"2014-11-24\", \"2014-11-25\", \"2014-11-26\", \"2014-11-28\", \"2014-12-01\", \"2014-12-02\", \"2014-12-03\", \"2014-12-04\", \"2014-12-05\", \"2014-12-08\", \"2014-12-09\", \"2014-12-10\", \"2014-12-11\", \"2014-12-12\", \"2014-12-15\", \"2014-12-16\", \"2014-12-17\", \"2014-12-18\", \"2014-12-19\", \"2014-12-22\", \"2014-12-23\", \"2014-12-24\", \"2014-12-26\", \"2014-12-29\", \"2014-12-30\", \"2014-12-31\", \"2015-01-02\", \"2015-01-05\", \"2015-01-06\", \"2015-01-07\", \"2015-01-08\", \"2015-01-09\", \"2015-01-12\", \"2015-01-13\", \"2015-01-14\", \"2015-01-15\", \"2015-01-16\", \"2015-01-20\", \"2015-01-21\", \"2015-01-22\", \"2015-01-23\", \"2015-01-26\", \"2015-01-27\", \"2015-01-28\", \"2015-01-29\", \"2015-01-30\", \"2015-02-02\", \"2015-02-03\", \"2015-02-04\", \"2015-02-05\", \"2015-02-06\", \"2015-02-09\", \"2015-02-10\", \"2015-02-11\", \"2015-02-12\", \"2015-02-13\", \"2015-02-17\", \"2015-02-18\", \"2015-02-19\", \"2015-02-20\", \"2015-02-23\", \"2015-02-24\", \"2015-02-25\", \"2015-02-26\", \"2015-02-27\", \"2015-03-02\", \"2015-03-03\", \"2015-03-04\", \"2015-03-05\", \"2015-03-06\", \"2015-03-09\", \"2015-03-10\", \"2015-03-11\", \"2015-03-12\", \"2015-03-13\", \"2015-03-16\", \"2015-03-17\", \"2015-03-18\", \"2015-03-19\", \"2015-03-20\", \"2015-03-23\", \"2015-03-24\", \"2015-03-25\", \"2015-03-26\", \"2015-03-27\", \"2015-03-30\", \"2015-03-31\", \"2015-04-01\", \"2015-04-02\", \"2015-04-06\", \"2015-04-07\", \"2015-04-08\", \"2015-04-09\", \"2015-04-10\", \"2015-04-13\", \"2015-04-14\", \"2015-04-15\", \"2015-04-16\", \"2015-04-17\", \"2015-04-20\", \"2015-04-21\", \"2015-04-22\", \"2015-04-23\", \"2015-04-24\", \"2015-04-27\", \"2015-04-28\", \"2015-04-29\", \"2015-04-30\", \"2015-05-01\", \"2015-05-04\", \"2015-05-05\", \"2015-05-06\", \"2015-05-07\", \"2015-05-08\", \"2015-05-11\", \"2015-05-12\", \"2015-05-13\", \"2015-05-14\", \"2015-05-15\", \"2015-05-18\", \"2015-05-19\", \"2015-05-20\", \"2015-05-21\", \"2015-05-22\", \"2015-05-26\", \"2015-05-27\", \"2015-05-28\", \"2015-05-29\", \"2015-06-01\", \"2015-06-02\", \"2015-06-03\", \"2015-06-04\", \"2015-06-05\", \"2015-06-08\", \"2015-06-09\", \"2015-06-10\", \"2015-06-11\", \"2015-06-12\", \"2015-06-15\", \"2015-06-16\", \"2015-06-17\", \"2015-06-18\", \"2015-06-19\", \"2015-06-22\", \"2015-06-23\", \"2015-06-24\", \"2015-06-25\", \"2015-06-26\", \"2015-06-29\", \"2015-06-30\", \"2015-07-01\", \"2015-07-02\", \"2015-07-06\", \"2015-07-07\", \"2015-07-08\", \"2015-07-09\", \"2015-07-10\", \"2015-07-13\", \"2015-07-14\", \"2015-07-15\", \"2015-07-16\", \"2015-07-17\", \"2015-07-20\", \"2015-07-21\", \"2015-07-22\", \"2015-07-23\", \"2015-07-24\", \"2015-07-27\", \"2015-07-28\", \"2015-07-29\", \"2015-07-30\", \"2015-07-31\", \"2015-08-03\", \"2015-08-04\", \"2015-08-05\", \"2015-08-06\", \"2015-08-07\", \"2015-08-10\", \"2015-08-11\", \"2015-08-12\", \"2015-08-13\", \"2015-08-14\", \"2015-08-17\", \"2015-08-18\", \"2015-08-19\", \"2015-08-20\", \"2015-08-21\", \"2015-08-24\", \"2015-08-25\", \"2015-08-26\", \"2015-08-27\", \"2015-08-28\", \"2015-08-31\", \"2015-09-01\", \"2015-09-02\", \"2015-09-03\", \"2015-09-04\", \"2015-09-08\", \"2015-09-09\", \"2015-09-10\", \"2015-09-11\", \"2015-09-14\", \"2015-09-15\", \"2015-09-16\", \"2015-09-17\", \"2015-09-18\", \"2015-09-21\", \"2015-09-22\", \"2015-09-23\", \"2015-09-24\", \"2015-09-25\", \"2015-09-28\", \"2015-09-29\", \"2015-09-30\", \"2015-10-01\", \"2015-10-02\", \"2015-10-05\", \"2015-10-06\", \"2015-10-07\", \"2015-10-08\", \"2015-10-09\", \"2015-10-12\", \"2015-10-13\", \"2015-10-14\", \"2015-10-15\", \"2015-10-16\", \"2015-10-19\", \"2015-10-20\", \"2015-10-21\", \"2015-10-22\", \"2015-10-23\", \"2015-10-26\", \"2015-10-27\", \"2015-10-28\", \"2015-10-29\", \"2015-10-30\", \"2015-11-02\", \"2015-11-03\", \"2015-11-04\", \"2015-11-05\", \"2015-11-06\", \"2015-11-09\", \"2015-11-10\", \"2015-11-11\", \"2015-11-12\", \"2015-11-13\", \"2015-11-16\", \"2015-11-17\", \"2015-11-18\", \"2015-11-19\", \"2015-11-20\", \"2015-11-23\", \"2015-11-24\", \"2015-11-25\", \"2015-11-27\", \"2015-11-30\", \"2015-12-01\", \"2015-12-02\", \"2015-12-03\", \"2015-12-04\", \"2015-12-07\", \"2015-12-08\", \"2015-12-09\", \"2015-12-10\", \"2015-12-11\", \"2015-12-14\", \"2015-12-15\", \"2015-12-16\", \"2015-12-17\", \"2015-12-18\", \"2015-12-21\", \"2015-12-22\", \"2015-12-23\", \"2015-12-24\", \"2015-12-28\", \"2015-12-29\", \"2015-12-30\", \"2015-12-31\", \"2016-01-04\", \"2016-01-05\", \"2016-01-06\", \"2016-01-07\", \"2016-01-08\", \"2016-01-11\", \"2016-01-12\", \"2016-01-13\", \"2016-01-14\", \"2016-01-15\", \"2016-01-19\", \"2016-01-20\", \"2016-01-21\", \"2016-01-22\", \"2016-01-25\", \"2016-01-26\", \"2016-01-27\", \"2016-01-28\", \"2016-01-29\", \"2016-02-01\", \"2016-02-02\", \"2016-02-03\", \"2016-02-04\", \"2016-02-05\", \"2016-02-08\", \"2016-02-09\", \"2016-02-10\", \"2016-02-11\", \"2016-02-12\", \"2016-02-16\", \"2016-02-17\", \"2016-02-18\", \"2016-02-19\", \"2016-02-22\", \"2016-02-23\", \"2016-02-24\", \"2016-02-25\", \"2016-02-26\", \"2016-02-29\", \"2016-03-01\", \"2016-03-02\", \"2016-03-03\", \"2016-03-04\", \"2016-03-07\", \"2016-03-08\", \"2016-03-09\", \"2016-03-10\", \"2016-03-11\", \"2016-03-14\", \"2016-03-15\", \"2016-03-16\", \"2016-03-17\", \"2016-03-18\", \"2016-03-21\", \"2016-03-22\", \"2016-03-23\", \"2016-03-24\", \"2016-03-28\", \"2016-03-29\", \"2016-03-30\", \"2016-03-31\", \"2016-04-01\", \"2016-04-04\", \"2016-04-05\", \"2016-04-06\", \"2016-04-07\", \"2016-04-08\", \"2016-04-11\", \"2016-04-12\", \"2016-04-13\", \"2016-04-14\", \"2016-04-15\", \"2016-04-18\", \"2016-04-19\", \"2016-04-20\", \"2016-04-21\", \"2016-04-22\", \"2016-04-25\", \"2016-04-26\", \"2016-04-27\", \"2016-04-28\", \"2016-04-29\", \"2016-05-02\", \"2016-05-03\", \"2016-05-04\", \"2016-05-05\", \"2016-05-06\", \"2016-05-09\", \"2016-05-10\", \"2016-05-11\", \"2016-05-12\", \"2016-05-13\", \"2016-05-16\", \"2016-05-17\", \"2016-05-18\", \"2016-05-19\", \"2016-05-20\", \"2016-05-23\", \"2016-05-24\", \"2016-05-25\", \"2016-05-26\", \"2016-05-27\", \"2016-05-31\", \"2016-06-01\", \"2016-06-02\", \"2016-06-03\", \"2016-06-06\", \"2016-06-07\", \"2016-06-08\", \"2016-06-09\", \"2016-06-10\", \"2016-06-13\", \"2016-06-14\", \"2016-06-15\", \"2016-06-16\", \"2016-06-17\", \"2016-06-20\", \"2016-06-21\", \"2016-06-22\", \"2016-06-23\", \"2016-06-24\", \"2016-06-27\", \"2016-06-28\", \"2016-06-29\", \"2016-06-30\", \"2016-07-01\", \"2016-07-05\", \"2016-07-06\", \"2016-07-07\", \"2016-07-08\", \"2016-07-11\", \"2016-07-12\", \"2016-07-13\", \"2016-07-14\", \"2016-07-15\", \"2016-07-18\", \"2016-07-19\", \"2016-07-20\", \"2016-07-21\", \"2016-07-22\", \"2016-07-25\", \"2016-07-26\", \"2016-07-27\", \"2016-07-28\", \"2016-07-29\", \"2016-08-01\", \"2016-08-02\", \"2016-08-03\", \"2016-08-04\", \"2016-08-05\", \"2016-08-08\", \"2016-08-09\", \"2016-08-10\", \"2016-08-11\", \"2016-08-12\", \"2016-08-15\", \"2016-08-16\", \"2016-08-17\", \"2016-08-18\", \"2016-08-19\", \"2016-08-22\", \"2016-08-23\", \"2016-08-24\", \"2016-08-25\", \"2016-08-26\", \"2016-08-29\", \"2016-08-30\", \"2016-08-31\", \"2016-09-01\", \"2016-09-02\", \"2016-09-06\", \"2016-09-07\", \"2016-09-08\", \"2016-09-09\", \"2016-09-12\", \"2016-09-13\", \"2016-09-14\", \"2016-09-15\", \"2016-09-16\", \"2016-09-19\", \"2016-09-20\", \"2016-09-21\", \"2016-09-22\", \"2016-09-23\", \"2016-09-26\", \"2016-09-27\", \"2016-09-28\", \"2016-09-29\", \"2016-09-30\", \"2016-10-03\", \"2016-10-04\", \"2016-10-05\", \"2016-10-06\", \"2016-10-07\", \"2016-10-10\", \"2016-10-11\", \"2016-10-12\", \"2016-10-13\", \"2016-10-14\", \"2016-10-17\", \"2016-10-18\", \"2016-10-19\", \"2016-10-20\", \"2016-10-21\", \"2016-10-24\", \"2016-10-25\", \"2016-10-26\", \"2016-10-27\", \"2016-10-28\", \"2016-10-31\", \"2016-11-01\", \"2016-11-02\", \"2016-11-03\", \"2016-11-04\", \"2016-11-07\", \"2016-11-08\", \"2016-11-09\", \"2016-11-10\", \"2016-11-11\", \"2016-11-14\", \"2016-11-15\", \"2016-11-16\", \"2016-11-17\", \"2016-11-18\", \"2016-11-21\", \"2016-11-22\", \"2016-11-23\", \"2016-11-25\", \"2016-11-28\", \"2016-11-29\", \"2016-11-30\", \"2016-12-01\", \"2016-12-02\", \"2016-12-05\", \"2016-12-06\", \"2016-12-07\", \"2016-12-08\", \"2016-12-09\", \"2016-12-12\", \"2016-12-13\", \"2016-12-14\", \"2016-12-15\", \"2016-12-16\", \"2016-12-19\", \"2016-12-20\", \"2016-12-21\", \"2016-12-22\", \"2016-12-23\", \"2016-12-27\", \"2016-12-28\", \"2016-12-29\", \"2016-12-30\", \"2017-01-03\", \"2017-01-04\", \"2017-01-05\", \"2017-01-06\", \"2017-01-09\", \"2017-01-10\", \"2017-01-11\", \"2017-01-12\", \"2017-01-13\", \"2017-01-17\", \"2017-01-18\", \"2017-01-19\", \"2017-01-20\", \"2017-01-23\", \"2017-01-24\", \"2017-01-25\", \"2017-01-26\", \"2017-01-27\", \"2017-01-30\", \"2017-01-31\", \"2017-02-01\", \"2017-02-02\", \"2017-02-03\", \"2017-02-06\", \"2017-02-07\", \"2017-02-08\", \"2017-02-09\", \"2017-02-10\", \"2017-02-13\", \"2017-02-14\", \"2017-02-15\", \"2017-02-16\", \"2017-02-17\", \"2017-02-21\", \"2017-02-22\", \"2017-02-23\", \"2017-02-24\", \"2017-02-27\", \"2017-02-28\", \"2017-03-01\", \"2017-03-02\", \"2017-03-03\", \"2017-03-06\", \"2017-03-07\", \"2017-03-08\", \"2017-03-09\", \"2017-03-10\", \"2017-03-13\", \"2017-03-14\", \"2017-03-15\", \"2017-03-16\", \"2017-03-17\", \"2017-03-20\", \"2017-03-21\", \"2017-03-22\", \"2017-03-23\", \"2017-03-24\", \"2017-03-27\", \"2017-03-28\", \"2017-03-29\", \"2017-03-30\", \"2017-03-31\", \"2017-04-03\", \"2017-04-04\", \"2017-04-05\", \"2017-04-06\", \"2017-04-07\", \"2017-04-10\", \"2017-04-11\", \"2017-04-12\", \"2017-04-13\", \"2017-04-17\", \"2017-04-18\", \"2017-04-19\", \"2017-04-20\", \"2017-04-21\", \"2017-04-24\", \"2017-04-25\", \"2017-04-26\", \"2017-04-27\", \"2017-04-28\", \"2017-05-01\", \"2017-05-02\", \"2017-05-03\", \"2017-05-04\", \"2017-05-05\", \"2017-05-08\", \"2017-05-09\", \"2017-05-10\", \"2017-05-11\", \"2017-05-12\", \"2017-05-15\", \"2017-05-16\", \"2017-05-17\", \"2017-05-18\", \"2017-05-19\", \"2017-05-22\", \"2017-05-23\", \"2017-05-24\", \"2017-05-25\", \"2017-05-26\", \"2017-05-30\", \"2017-05-31\", \"2017-06-01\", \"2017-06-02\", \"2017-06-05\", \"2017-06-06\", \"2017-06-07\", \"2017-06-08\", \"2017-06-09\", \"2017-06-12\", \"2017-06-13\", \"2017-06-14\", \"2017-06-15\", \"2017-06-16\", \"2017-06-19\", \"2017-06-20\", \"2017-06-21\", \"2017-06-22\", \"2017-06-23\", \"2017-06-26\", \"2017-06-27\", \"2017-06-28\", \"2017-06-29\", \"2017-06-30\", \"2017-07-03\", \"2017-07-05\", \"2017-07-06\", \"2017-07-07\", \"2017-07-10\", \"2017-07-11\", \"2017-07-12\", \"2017-07-13\", \"2017-07-14\", \"2017-07-17\", \"2017-07-18\", \"2017-07-19\", \"2017-07-20\", \"2017-07-21\", \"2017-07-24\", \"2017-07-25\", \"2017-07-26\", \"2017-07-27\", \"2017-07-28\", \"2017-07-31\", \"2017-08-01\", \"2017-08-02\", \"2017-08-03\", \"2017-08-04\", \"2017-08-07\", \"2017-08-08\", \"2017-08-09\", \"2017-08-10\", \"2017-08-11\", \"2017-08-14\", \"2017-08-15\", \"2017-08-16\", \"2017-08-17\", \"2017-08-18\", \"2017-08-21\", \"2017-08-22\", \"2017-08-23\", \"2017-08-24\", \"2017-08-25\", \"2017-08-28\", \"2017-08-29\", \"2017-08-30\", \"2017-08-31\", \"2017-09-01\", \"2017-09-05\", \"2017-09-06\", \"2017-09-07\", \"2017-09-08\", \"2017-09-11\", \"2017-09-12\", \"2017-09-13\", \"2017-09-14\", \"2017-09-15\", \"2017-09-18\", \"2017-09-19\", \"2017-09-20\", \"2017-09-21\", \"2017-09-22\", \"2017-09-25\", \"2017-09-26\", \"2017-09-27\", \"2017-09-28\", \"2017-09-29\", \"2017-10-02\", \"2017-10-03\", \"2017-10-04\", \"2017-10-05\", \"2017-10-06\", \"2017-10-09\", \"2017-10-10\", \"2017-10-11\", \"2017-10-12\", \"2017-10-13\", \"2017-10-16\", \"2017-10-17\", \"2017-10-18\", \"2017-10-19\", \"2017-10-20\", \"2017-10-23\", \"2017-10-24\", \"2017-10-25\", \"2017-10-26\", \"2017-10-27\", \"2017-10-30\", \"2017-10-31\", \"2017-11-01\", \"2017-11-02\", \"2017-11-03\", \"2017-11-06\", \"2017-11-07\", \"2017-11-08\", \"2017-11-09\", \"2017-11-10\", \"2017-11-13\", \"2017-11-14\", \"2017-11-15\", \"2017-11-16\", \"2017-11-17\", \"2017-11-20\", \"2017-11-21\", \"2017-11-22\", \"2017-11-24\", \"2017-11-27\", \"2017-11-28\", \"2017-11-29\", \"2017-11-30\", \"2017-12-01\", \"2017-12-04\", \"2017-12-05\", \"2017-12-06\", \"2017-12-07\", \"2017-12-08\", \"2017-12-11\", \"2017-12-12\", \"2017-12-13\", \"2017-12-14\", \"2017-12-15\", \"2017-12-18\", \"2017-12-19\", \"2017-12-20\", \"2017-12-21\", \"2017-12-22\", \"2017-12-26\", \"2017-12-27\", \"2017-12-28\", \"2017-12-29\", \"2018-01-02\", \"2018-01-03\", \"2018-01-04\", \"2018-01-05\", \"2018-01-08\", \"2018-01-09\", \"2018-01-10\", \"2018-01-11\", \"2018-01-12\", \"2018-01-16\", \"2018-01-17\", \"2018-01-18\", \"2018-01-19\", \"2018-01-22\", \"2018-01-23\", \"2018-01-24\", \"2018-01-25\", \"2018-01-26\", \"2018-01-29\", \"2018-01-30\", \"2018-01-31\", \"2018-02-01\", \"2018-02-02\", \"2018-02-05\", \"2018-02-06\", \"2018-02-07\", \"2018-02-08\", \"2018-02-09\", \"2018-02-12\", \"2018-02-13\", \"2018-02-14\", \"2018-02-15\", \"2018-02-16\", \"2018-02-20\", \"2018-02-21\", \"2018-02-22\", \"2018-02-23\", \"2018-02-26\", \"2018-02-27\", \"2018-02-28\", \"2018-03-01\", \"2018-03-02\", \"2018-03-05\", \"2018-03-06\", \"2018-03-07\", \"2018-03-08\", \"2018-03-09\", \"2018-03-12\", \"2018-03-13\", \"2018-03-14\", \"2018-03-15\", \"2018-03-16\", \"2018-03-19\", \"2018-03-20\", \"2018-03-21\", \"2018-03-22\", \"2018-03-23\", \"2018-03-26\", \"2018-03-27\", \"2018-03-28\", \"2018-03-29\", \"2018-04-02\", \"2018-04-03\", \"2018-04-04\", \"2018-04-05\", \"2018-04-06\", \"2018-04-09\", \"2018-04-10\", \"2018-04-11\", \"2018-04-12\", \"2018-04-13\", \"2018-04-16\", \"2018-04-17\", \"2018-04-18\", \"2018-04-19\", \"2018-04-20\", \"2018-04-23\", \"2018-04-24\", \"2018-04-25\", \"2018-04-26\", \"2018-04-27\", \"2018-04-30\", \"2018-05-01\", \"2018-05-02\", \"2018-05-03\", \"2018-05-04\", \"2018-05-07\", \"2018-05-08\", \"2018-05-09\", \"2018-05-10\", \"2018-05-11\", \"2018-05-14\", \"2018-05-15\", \"2018-05-16\", \"2018-05-17\", \"2018-05-18\", \"2018-05-21\", \"2018-05-22\", \"2018-05-23\", \"2018-05-24\", \"2018-05-25\", \"2018-05-29\", \"2018-05-30\", \"2018-05-31\", \"2018-06-01\", \"2018-06-04\", \"2018-06-05\", \"2018-06-06\", \"2018-06-07\", \"2018-06-08\", \"2018-06-11\", \"2018-06-12\", \"2018-06-13\", \"2018-06-14\", \"2018-06-15\", \"2018-06-18\", \"2018-06-19\", \"2018-06-20\", \"2018-06-21\", \"2018-06-22\", \"2018-06-25\", \"2018-06-26\", \"2018-06-27\", \"2018-06-28\", \"2018-06-29\", \"2018-07-02\", \"2018-07-03\", \"2018-07-05\", \"2018-07-06\", \"2018-07-09\", \"2018-07-10\", \"2018-07-11\", \"2018-07-12\", \"2018-07-13\", \"2018-07-16\", \"2018-07-17\", \"2018-07-18\", \"2018-07-19\", \"2018-07-20\", \"2018-07-23\", \"2018-07-24\", \"2018-07-25\", \"2018-07-26\", \"2018-07-27\", \"2018-07-30\", \"2018-07-31\", \"2018-08-01\", \"2018-08-02\", \"2018-08-03\", \"2018-08-06\", \"2018-08-07\", \"2018-08-08\", \"2018-08-09\", \"2018-08-10\", \"2018-08-13\", \"2018-08-14\", \"2018-08-15\", \"2018-08-16\", \"2018-08-17\", \"2018-08-20\", \"2018-08-21\", \"2018-08-22\", \"2018-08-23\", \"2018-08-24\", \"2018-08-27\", \"2018-08-28\", \"2018-08-29\", \"2018-08-30\", \"2018-08-31\", \"2018-09-04\", \"2018-09-05\", \"2018-09-06\", \"2018-09-07\", \"2018-09-10\", \"2018-09-11\", \"2018-09-12\", \"2018-09-13\", \"2018-09-14\", \"2018-09-17\", \"2018-09-18\", \"2018-09-19\", \"2018-09-20\", \"2018-09-21\", \"2018-09-24\", \"2018-09-25\", \"2018-09-26\", \"2018-09-27\", \"2018-09-28\", \"2018-10-01\", \"2018-10-02\", \"2018-10-03\", \"2018-10-04\", \"2018-10-05\", \"2018-10-08\", \"2018-10-09\", \"2018-10-10\", \"2018-10-11\", \"2018-10-12\", \"2018-10-15\", \"2018-10-16\", \"2018-10-17\", \"2018-10-18\", \"2018-10-19\", \"2018-10-22\", \"2018-10-23\", \"2018-10-24\", \"2018-10-25\", \"2018-10-26\", \"2018-10-29\", \"2018-10-30\", \"2018-10-31\", \"2018-11-01\", \"2018-11-02\", \"2018-11-05\", \"2018-11-06\", \"2018-11-07\", \"2018-11-08\", \"2018-11-09\", \"2018-11-12\", \"2018-11-13\", \"2018-11-14\", \"2018-11-15\", \"2018-11-16\", \"2018-11-19\", \"2018-11-20\", \"2018-11-21\", \"2018-11-23\", \"2018-11-26\", \"2018-11-27\", \"2018-11-28\", \"2018-11-29\", \"2018-11-30\", \"2018-12-03\", \"2018-12-04\", \"2018-12-06\", \"2018-12-07\", \"2018-12-10\", \"2018-12-11\", \"2018-12-12\", \"2018-12-13\", \"2018-12-14\", \"2018-12-17\", \"2018-12-18\", \"2018-12-19\", \"2018-12-20\", \"2018-12-21\", \"2018-12-24\", \"2018-12-26\", \"2018-12-27\", \"2018-12-28\", \"2018-12-31\", \"2019-01-02\", \"2019-01-03\", \"2019-01-04\", \"2019-01-07\", \"2019-01-08\", \"2019-01-09\", \"2019-01-10\", \"2019-01-11\", \"2019-01-14\", \"2019-01-15\", \"2019-01-16\", \"2019-01-17\", \"2019-01-18\", \"2019-01-22\", \"2019-01-23\", \"2019-01-24\", \"2019-01-25\", \"2019-01-28\", \"2019-01-29\", \"2019-01-30\", \"2019-01-31\", \"2019-02-01\", \"2019-02-04\", \"2019-02-05\", \"2019-02-06\", \"2019-02-07\", \"2019-02-08\", \"2019-02-11\", \"2019-02-12\", \"2019-02-13\", \"2019-02-14\", \"2019-02-15\", \"2019-02-19\", \"2019-02-20\", \"2019-02-21\", \"2019-02-22\", \"2019-02-25\", \"2019-02-26\", \"2019-02-27\", \"2019-02-28\", \"2019-03-01\", \"2019-03-04\", \"2019-03-05\", \"2019-03-06\", \"2019-03-07\", \"2019-03-08\", \"2019-03-11\", \"2019-03-12\", \"2019-03-13\", \"2019-03-14\", \"2019-03-15\", \"2019-03-18\", \"2019-03-19\", \"2019-03-20\", \"2019-03-21\", \"2019-03-22\", \"2019-03-25\", \"2019-03-26\", \"2019-03-27\", \"2019-03-28\", \"2019-03-29\", \"2019-04-01\", \"2019-04-02\", \"2019-04-03\", \"2019-04-04\", \"2019-04-05\", \"2019-04-08\", \"2019-04-09\", \"2019-04-10\", \"2019-04-11\", \"2019-04-12\", \"2019-04-15\", \"2019-04-16\", \"2019-04-17\", \"2019-04-18\", \"2019-04-22\", \"2019-04-23\", \"2019-04-24\", \"2019-04-25\", \"2019-04-26\", \"2019-04-29\", \"2019-04-30\", \"2019-05-01\", \"2019-05-02\", \"2019-05-03\", \"2019-05-06\", \"2019-05-07\", \"2019-05-08\", \"2019-05-09\", \"2019-05-10\", \"2019-05-13\", \"2019-05-14\", \"2019-05-15\", \"2019-05-16\", \"2019-05-17\", \"2019-05-20\", \"2019-05-21\", \"2019-05-22\", \"2019-05-23\", \"2019-05-24\", \"2019-05-28\", \"2019-05-29\", \"2019-05-30\", \"2019-05-31\", \"2019-06-03\", \"2019-06-04\", \"2019-06-05\", \"2019-06-06\", \"2019-06-07\", \"2019-06-10\", \"2019-06-11\", \"2019-06-12\", \"2019-06-13\", \"2019-06-14\", \"2019-06-17\", \"2019-06-18\", \"2019-06-19\", \"2019-06-20\", \"2019-06-21\", \"2019-06-24\", \"2019-06-25\", \"2019-06-26\", \"2019-06-27\", \"2019-06-28\", \"2019-07-01\", \"2019-07-02\", \"2019-07-03\", \"2019-07-05\", \"2019-07-08\", \"2019-07-09\", \"2019-07-10\", \"2019-07-11\", \"2019-07-12\", \"2019-07-15\", \"2019-07-16\", \"2019-07-17\", \"2019-07-18\", \"2019-07-19\", \"2019-07-22\", \"2019-07-23\", \"2019-07-24\", \"2019-07-25\", \"2019-07-26\", \"2019-07-29\", \"2019-07-30\", \"2019-07-31\", \"2019-08-01\", \"2019-08-02\", \"2019-08-05\", \"2019-08-06\", \"2019-08-07\", \"2019-08-08\", \"2019-08-09\", \"2019-08-12\", \"2019-08-13\", \"2019-08-14\", \"2019-08-15\", \"2019-08-16\", \"2019-08-19\", \"2019-08-20\", \"2019-08-21\", \"2019-08-22\", \"2019-08-23\", \"2019-08-26\", \"2019-08-27\", \"2019-08-28\", \"2019-08-29\", \"2019-08-30\", \"2019-09-03\", \"2019-09-04\", \"2019-09-05\", \"2019-09-06\", \"2019-09-09\", \"2019-09-10\", \"2019-09-11\", \"2019-09-12\", \"2019-09-13\", \"2019-09-16\", \"2019-09-17\", \"2019-09-18\", \"2019-09-19\", \"2019-09-20\", \"2019-09-23\", \"2019-09-24\", \"2019-09-25\", \"2019-09-26\", \"2019-09-27\", \"2019-09-30\", \"2019-10-01\", \"2019-10-02\", \"2019-10-03\", \"2019-10-04\", \"2019-10-07\", \"2019-10-08\", \"2019-10-09\", \"2019-10-10\", \"2019-10-11\", \"2019-10-14\", \"2019-10-15\", \"2019-10-16\", \"2019-10-17\", \"2019-10-18\", \"2019-10-21\", \"2019-10-22\", \"2019-10-23\", \"2019-10-24\", \"2019-10-25\", \"2019-10-28\", \"2019-10-29\", \"2019-10-30\", \"2019-10-31\", \"2019-11-01\", \"2019-11-04\", \"2019-11-05\", \"2019-11-06\", \"2019-11-07\", \"2019-11-08\", \"2019-11-11\", \"2019-11-12\", \"2019-11-13\", \"2019-11-14\", \"2019-11-15\", \"2019-11-18\", \"2019-11-19\", \"2019-11-20\", \"2019-11-21\", \"2019-11-22\", \"2019-11-25\", \"2019-11-26\", \"2019-11-27\", \"2019-11-29\"], \"xaxis\": \"x\", \"y\": [113.33, 113.63, 113.71, 114.19, 114.57, 114.73, 113.66, 114.62, 114.93, 113.64, 115.06, 113.89, 111.7, 109.21, 109.77, 109.31, 109.83, 108.57, 107.39, 109.06, 110.38, 109.83, 106.44, 106.66, 105.89, 107.22, 107.01, 108.13, 108.04, 109.74, 110.26, 110.91, 111.14, 111.16, 109.81, 110.82, 110.67, 110.74, 111.89, 112.2, 112.3, 112.641, 114.25, 114.27, 114.46, 114.97, 115.45, 115.46, 115.49, 116.41, 117.1, 117.0375, 115.97, 116.5925, 117.41, 116.84, 116.65, 116.582, 117.32, 117.4, 117.0, 117.8, 118.76, 119.04, 118.36, 118.7725, 119.55, 119.74, 119.83, 121.19, 121.29, 119.36, 119.81, 120.88, 120.66, 121.02, 121.8125, 121.35, 118.48, 119.38, 120.8575, 118.8125, 120.35, 117.52, 116.82, 112.942, 111.26, 116.16, 115.83, 117.45, 115.99, 113.89, 113.95, 112.4, 111.76, 107.54, 109.115, 107.71, 107.818, 107.17, 110.76, 109.369, 107.53, 110.33, 110.71, 106.82, 105.49, 106.62, 106.05, 109.15, 109.68, 109.509, 112.0, 111.96, 112.14, 111.729, 111.41, 109.57, 109.23, 107.42, 107.8675, 107.53, 104.21, 103.22, 102.76, 102.2, 102.87, 106.1075, 107.16, 107.96, 108.03, 109.66, 109.651, 109.68, 106.66, 107.29, 108.48, 107.07, 109.461, 110.41, 111.56, 111.55, 110.83, 110.29, 110.27, 112.76, 112.22, 112.97, 112.85, 112.392, 112.992, 112.375, 109.3, 108.63, 108.31, 108.26, 109.59, 109.79, 107.88, 107.53, 107.1236, 105.53, 105.94, 105.23, 106.86, 105.311, 105.31, 108.46, 109.47, 110.89, 109.64, 110.41, 110.919998, 111.482, 112.72, 112.65, 113.08, 113.05, 112.49, 114.21, 113.98, 113.42, 112.498, 114.82, 114.27, 114.67, 114.47, 114.13, 114.61, 113.75, 116.04, 116.03, 115.89, 116.5375, 116.65, 117.01, 117.92, 117.46, 117.7, 118.28, 116.73, 117.87, 118.13, 118.347, 118.7, 118.72, 118.38, 118.4, 118.49, 118.53, 119.475, 119.95, 122.26, 122.725, 122.49, 121.61, 122.1, 121.635, 120.198, 120.03, 118.16, 118.218, 119.9575, 120.29, 120.19, 118.4475, 120.2, 119.29, 119.162, 118.4925, 121.01, 122.56, 122.89, 122.76, 122.83, 123.28, 123.76, 124.48, 124.56, 124.67, 124.098, 124.82, 124.3, 124.6, 125.39, 125.78, 125.6, 125.65, 125.83, 125.92, 125.72, 125.75, 127.05, 126.98, 127.64, 127.39, 127.14, 126.98, 127.43, 128.58, 128.3675, 129.3, 129.52, 128.25, 128.08, 128.37, 129.1, 129.17, 129.67, 129.99, 127.72, 128.68, 130.74, 130.485, 130.78, 131.15, 131.97, 132.57, 132.269, 132.321, 133.11, 133.43, 133.01, 133.85, 134.25, 134.53, 131.83, 131.02, 130.93, 132.33, 133.15, 130.93, 131.21, 133.47, 132.47, 131.43, 132.58, 132.39, 129.9375, 130.84, 130.05, 128.56, 126.175, 127.85, 127.76, 129.74, 129.29, 129.66, 130.9, 131.3, 130.98, 131.86, 132.77, 132.59, 133.15, 133.26, 133.24, 133.66, 133.32, 132.86, 132.46, 131.47, 131.46, 131.56, 132.04, 130.56, 131.31, 133.1, 133.78, 133.64, 134.791, 135.67, 136.11, 136.43, 136.22, 135.73, 134.83, 133.61, 134.2, 134.72, 135.87, 134.44, 135.08, 134.04, 133.19, 133.17, 134.36, 134.68, 133.61, 132.06, 131.95, 132.39, 133.0, 133.51, 134.9, 131.87, 131.73, 130.42, 129.045, 128.96, 128.42, 129.4, 127.6, 127.7, 129.32, 127.02, 127.3, 127.05, 127.7, 129.45, 128.67, 128.301, 126.81, 127.94, 129.61, 130.72, 131.97, 133.92, 133.81, 133.97, 135.36, 134.4, 131.97, 131.4, 131.84, 130.93, 131.69, 130.61, 132.73, 132.65, 134.49, 134.58, 133.83, 133.33, 130.6, 130.22, 129.33, 128.78, 125.49, 126.17, 120.26, 120.08, 112.26, 117.48, 112.29, 117.33, 118.12, 120.62, 119.59, 119.67, 114.51, 112.64, 112.73, 116.44, 118.08, 116.28, 117.97, 121.36, 121.68, 122.22, 120.94, 117.85, 116.99, 120.29, 119.04, 115.92, 116.67, 117.74, 119.37, 121.43, 121.521, 120.31, 120.17, 116.63, 112.86, 113.54, 116.24, 117.54, 115.145, 116.05, 113.15, 109.93, 112.34, 114.42, 116.49, 115.71, 119.58, 119.7, 120.75, 120.51, 122.57, 120.23, 122.58, 121.13, 121.66, 123.97, 125.49, 123.049, 124.3, 128.63, 128.6, 125.5, 122.002, 123.99, 126.25, 125.481, 126.26, 127.88, 123.161, 124.32, 126.66, 125.46, 126.083, 124.08, 122.105, 121.979, 119.661, 119.19, 116.56, 116.34, 119.71, 120.05, 124.99, 124.97, 124.86, 126.22, 126.26, 126.73, 123.95, 126.05, 124.21, 123.05, 121.74, 122.185, 121.59, 120.29, 123.93, 124.17, 125.27, 126.39, 126.49, 124.83, 126.12, 125.5, 127.495, 127.7, 128.04, 127.71, 128.02, 129.13, 129.2, 129.51, 128.84, 129.34, 130.77, 131.46, 131.95, 131.61, 131.46, 132.56, 131.88, 131.82, 131.37, 131.32, 132.47, 132.68, 134.54, 134.45, 134.79, 135.19, 135.36, 134.361, 135.36, 135.19, 134.56, 136.049, 136.41, 136.47, 136.032, 136.631, 136.93, 137.16, 137.559, 137.02, 137.73, 137.312, 136.75, 134.75, 135.69, 137.04, 137.57, 137.58, 140.062, 139.91, 140.72, 140.3, 140.85, 140.44, 140.21, 139.2, 139.65, 141.61, 141.17, 140.47, 140.23, 140.81, 141.84, 141.26, 139.86, 139.79, 138.22, 135.9, 137.0, 138.79, 137.14, 137.05, 139.082, 138.61, 137.72, 137.95, 136.79, 137.31, 139.19, 140.16, 140.39, 139.87, 140.74, 140.325, 139.25, 137.0, 137.1, 136.55, 135.74, 136.02, 135.61, 134.11, 133.34, 132.829, 130.86, 129.74, 131.97, 132.2, 132.27, 132.53, 132.1, 133.7, 131.76, 131.47, 128.16, 128.1, 129.07, 131.97, 132.05, 133.1, 131.415, 132.92, 132.07, 133.47, 134.14, 134.4, 135.7, 135.48, 132.44, 133.46, 131.32, 131.98, 133.173, 132.79, 136.105, 136.51, 137.412, 136.79, 135.49, 135.32, 134.14, 134.16, 133.51, 135.75, 135.43, 136.36, 137.37, 137.73, 136.47, 135.09, 133.925, 133.96, 136.17, 138.675, 138.68, 137.71, 137.59, 136.64, 139.349, 139.62, 140.32, 140.49, 140.61, 140.84, 140.77, 140.79, 140.95, 141.99, 142.18, 142.19, 141.76, 141.82, 140.665, 141.51, 141.54, 141.4, 141.51, 140.49, 141.16, 141.03, 140.91, 143.77, 144.33, 143.51, 143.91, 144.39, 146.59, 147.24, 146.74, 146.62, 146.7, 146.71, 145.87, 145.645, 144.1, 143.295, 144.64, 143.97, 144.345, 144.5, 145.09, 146.125, 146.14, 145.642, 144.2, 143.28, 143.36, 142.89, 144.08, 145.54, 146.2, 145.82, 143.3896, 143.41, 141.42, 141.02, 141.43, 141.35, 141.35, 142.83, 141.56, 141.8486, 142.96, 139.72, 138.04, 138.16, 138.265, 137.79, 135.9299, 135.7, 136.37, 139.13, 139.19, 139.45, 141.35, 141.05, 140.33, 141.46, 142.12, 142.155, 141.45, 141.25, 141.5, 141.98, 142.415, 142.473, 143.44, 143.51, 142.63, 142.1051, 143.77, 145.37, 144.29, 145.12, 142.79, 142.35, 141.75, 141.5616, 140.03, 142.41, 146.06, 145.7341, 146.37, 145.9695, 145.5496, 145.92, 147.08, 147.07, 146.97, 147.07, 147.05, 148.0, 148.33, 149.13, 149.37, 149.41, 150.25, 150.07, 150.66, 150.07, 149.7, 151.24, 149.535, 151.05, 151.16, 150.96, 151.8, 151.77, 152.02, 152.151, 152.29, 152.11, 153.25, 151.34, 150.42, 151.89, 149.0, 150.02, 151.91, 151.61, 152.11, 152.92, 154.29, 154.5, 154.776, 155.44, 156.03, 155.68, 155.905, 156.73, 155.83, 154.97, 154.61, 155.69, 154.359, 155.6, 154.95, 156.19, 156.19, 156.67, 156.05, 156.82, 155.23, 155.86, 155.158, 156.21, 156.75, 158.67, 159.19, 158.8, 155.118, 157.41, 155.11, 154.14, 155.48, 156.17, 157.78, 157.88, 158.52, 158.24, 159.3, 159.68, 158.28, 159.75, 161.368, 161.78, 162.5999, 163.34, 162.881, 163.41, 163.54, 165.23, 166.115, 165.34, 166.94, 166.93, 167.17, 165.93, 165.45, 165.308, 166.3, 165.22, 165.83, 163.445, 164.35, 163.56, 161.272, 162.73, 164.8, 164.8, 163.098, 161.75, 164.21, 163.175, 164.44, 165.735, 163.45, 159.4, 159.07, 157.06, 158.575, 160.14, 161.08, 160.42, 161.36, 161.21, 161.28, 163.02, 163.945, 165.13, 165.192, 167.44, 167.51, 168.155, 167.525, 167.9501, 168.87, 169.17, 169.5, 169.14, 168.52, 168.93, 169.11, 168.59, 168.588, 168.71, 170.66, 170.95, 170.7, 169.73, 169.18, 169.8, 169.31, 169.111, 169.61, 168.74, 166.38, 165.83, 164.77, 165.58, 164.56, 166.06, 166.62, 166.0, 163.33, 163.91, 164.17, 163.65, 164.39, 165.75, 165.96, 166.04, 167.634, 168.87, 169.4, 168.95, 169.33, 170.31, 171.07, 173.051, 172.76, 170.72, 169.93, 169.53, 169.04, 169.69, 168.909, 168.01, 169.34, 169.18, 167.62, 168.89, 167.43, 165.48, 165.6, 169.17, 170.26, 170.94, 169.7, 172.07, 173.22, 174.388, 174.4, 175.41, 174.57, 175.15, 175.95, 176.23, 177.17, 176.29, 175.79, 176.21, 176.83, 176.27, 177.17, 174.93, 177.29, 177.32, 176.96, 178.38, 179.27, 180.05, 179.42, 179.03, 178.47, 179.91, 180.81, 180.63, 180.68, 181.12, 181.0, 180.53, 179.75, 179.73, 178.94, 180.94, 181.4, 180.75, 178.72, 178.13, 178.11, 179.216, 178.65, 181.7, 181.49, 181.56, 182.53, 182.93, 183.855, 183.845, 183.82, 184.69, 182.92, 182.885, 182.36, 183.48, 183.52, 183.64, 184.14, 181.685, 183.67, 184.66, 184.42, 183.635, 184.18, 184.3, 182.79, 178.89, 178.01, 179.07, 177.35, 179.23, 178.18, 174.17, 175.385, 175.17, 177.48, 179.68, 180.01, 181.98, 182.07, 183.01, 184.02, 184.24, 183.02, 184.1, 183.89, 184.91, 184.84, 184.85, 185.82, 186.29, 184.98, 187.58, 187.75, 188.18, 188.26, 188.16, 187.23, 187.28, 185.18, 184.66, 186.33, 187.66, 186.66, 187.747, 186.2, 185.43, 186.31, 184.97, 184.58, 185.49, 187.01, 188.25, 188.88, 188.63, 186.4, 184.34, 185.1, 187.09, 183.155, 181.51, 182.9401, 184.2, 186.125, 186.39, 187.04, 187.89, 187.45, 187.83, 186.29, 186.875, 187.75, 188.31, 188.325, 188.06, 188.42, 186.78, 187.88, 187.675, 187.96, 189.785, 189.96, 189.06, 187.4, 188.05, 188.74, 187.55, 189.13, 189.59, 190.35, 191.52, 191.38, 192.37, 192.68, 192.895, 192.8, 193.19, 194.45, 195.375, 195.58, 195.6, 194.92, 193.54, 194.13, 194.29, 194.83, 196.255, 196.48, 195.94, 195.88, 194.7, 195.58, 195.44, 195.82, 195.72, 197.03, 197.23, 198.2, 197.51, 196.24, 197.12, 196.34, 196.61, 197.6, 197.23, 197.96, 195.71, 197.7099, 197.34, 198.2, 198.64, 198.65, 197.72, 197.8, 196.95, 196.98, 193.09, 192.5, 193.89, 192.01, 192.07, 191.03, 193.24, 193.795, 193.53, 194.84, 195.76, 195.72, 197.36, 198.39, 198.92, 199.5, 199.19, 200.2, 200.33, 200.25, 200.14, 200.71, 200.61, 200.5, 200.2101, 201.11, 200.59, 199.32, 200.07, 200.3, 199.13, 198.981, 200.48, 200.75, 201.82, 200.7, 199.15, 198.01, 199.56, 196.34, 197.9, 197.54, 197.02, 194.35, 194.38, 196.52, 196.29, 193.26, 196.64, 192.74, 190.54, 187.4099, 187.7, 186.43, 186.27, 188.47, 190.3, 194.07, 192.69, 194.93, 196.43, 196.16, 198.41, 198.11, 199.38, 201.66, 201.77, 201.07, 202.34, 203.15, 203.34, 203.98, 204.175, 203.96, 204.19, 204.24, 204.37, 205.55, 205.22, 205.58, 206.68, 207.26, 207.11, 207.64, 207.2, 205.76, 207.085, 207.89, 207.66, 208.0, 206.61, 206.47, 203.1601, 204.19, 200.89, 199.51, 197.91, 201.79, 206.78, 206.52, 207.47, 207.75, 207.77, 208.44, 208.72, 207.6, 205.54, 205.43, 201.72, 199.82, 202.31, 205.9, 204.25, 202.65, 202.08, 200.86, 199.0199, 201.63, 202.055, 203.08, 206.1, 204.97, 205.45, 202.74, 200.14, 201.9902, 199.45, 201.92, 204.84, 204.06, 206.12, 205.55, 204.63, 206.81, 206.93, 208.92, 209.78, 210.11, 210.13, 209.98, 211.239, 211.209, 211.81, 211.63, 211.38, 210.66, 211.99, 211.12, 210.2301, 210.46, 207.5, 208.36, 204.98, 204.5, 207.1, 205.8272, 208.58, 207.96, 210.46, 209.5, 210.41, 210.0, 208.82, 205.76, 205.27, 205.74, 208.25, 206.43, 205.7, 206.435, 207.83, 207.28, 207.975, 208.9, 210.04, 209.09, 209.49, 210.43, 210.37, 207.95, 209.85, 209.6, 210.63, 211.16, 211.6499, 210.77, 211.44, 210.57, 208.46, 210.72, 211.32, 208.9, 208.04, 208.87, 211.62, 210.605, 209.98, 210.02, 212.21, 212.44, 213.1, 213.03, 212.88, 213.5, 212.99, 210.7, 212.7, 212.46, 211.14, 211.57, 211.36, 211.92, 210.1292, 209.77, 208.48, 208.45, 210.95, 211.63, 210.01, 209.11, 210.25, 210.59, 212.78, 210.81, 211.89, 212.04, 210.5, 209.86, 209.82, 205.42, 205.85, 207.5, 207.31, 206.72, 208.02, 204.53, 204.9, 207.48, 209.77, 210.68, 210.61, 212.3, 212.48, 212.59, 211.75, 211.37, 210.18, 208.0, 206.79, 209.33, 210.77, 210.82, 210.5, 209.79, 209.38, 210.07, 208.35, 207.95, 210.57, 208.67, 208.92, 208.66, 209.42, 210.59, 209.98, 208.32, 203.97, 197.83, 189.5, 187.27, 194.46, 199.27, 199.28, 197.67, 191.77, 195.41, 195.55, 192.59, 197.43, 194.79, 195.85, 196.74, 196.01, 198.46, 200.18, 199.73, 195.45, 196.46, 193.91, 193.6, 192.9, 192.85, 188.01, 188.12, 191.63, 192.13, 195.0, 198.47, 197.79, 199.41, 201.21, 201.33, 201.52, 200.25, 199.29, 202.35, 203.27, 203.37, 203.11, 201.85, 205.26, 207.51, 207.0, 206.6, 208.95, 208.83, 207.93, 210.39, 211.0, 210.36, 210.15, 210.04, 208.08, 208.56, 207.74, 204.84, 202.54, 205.62, 205.47, 208.73, 208.55, 209.3108, 209.07, 209.35, 209.32, 209.56, 208.69, 210.68, 208.529, 205.61, 209.62, 208.35, 206.949, 205.34, 205.87, 201.88, 202.9008, 205.0308, 208.03, 204.86, 200.0208, 201.67, 203.5, 206.02, 205.68, 205.21, 207.4, 205.93, 203.87, 201.0192, 201.36, 198.82, 194.05, 191.923, 192.11, 193.6608, 188.83, 191.93, 187.81, 188.06, 185.65, 186.69, 190.52, 187.64, 190.2, 188.13, 189.11, 193.7208, 193.65, 190.16, 191.3, 191.6, 187.95, 185.42, 185.43, 185.27, 182.86, 186.63, 189.78, 192.88, 192.09, 192.0, 194.78, 192.32, 193.2, 195.54, 195.0892, 193.56, 198.11, 199.0, 199.775, 200.43, 200.59, 198.4, 199.38, 199.54, 202.76, 202.5, 202.17, 203.34, 204.63, 204.38, 204.67, 204.56, 203.2092, 203.12, 203.24, 205.1208, 206.02, 205.52, 206.92, 206.25, 204.1892, 206.42, 203.95, 204.4992, 204.0201, 205.92, 208.0008, 208.01, 207.78, 209.2392, 209.9, 210.1, 208.97, 208.97, 208.61, 208.9192, 209.35, 207.4475, 206.3308, 207.97, 206.1592, 205.01, 204.97, 205.72, 205.8892, 208.45, 206.5, 206.56, 204.76, 206.78, 204.8508, 204.91, 204.2, 205.49, 205.21, 207.87, 209.28, 209.34, 210.24, 209.84, 210.27, 210.91, 210.28, 211.35, 211.68, 212.37, 212.08, 210.07, 208.4492, 208.04, 207.75, 208.37, 206.52, 207.85, 208.44, 208.1, 210.81, 203.13, 199.6, 203.1997, 206.66, 209.475, 209.9208, 208.41, 209.66, 209.526, 212.65, 213.4, 214.95, 214.92, 216.12, 215.83, 216.4092, 216.19, 217.085, 216.265, 217.24, 216.65, 216.75, 216.52, 216.77, 217.12, 216.94, 215.5492, 216.18, 216.4097, 218.18, 218.05, 218.18, 217.64, 218.65, 218.46, 219.09, 217.96, 218.37, 218.86, 218.54, 218.53, 218.97, 217.85, 217.7, 217.29, 218.3608, 218.0, 217.38, 217.39, 218.37, 219.0308, 219.01, 218.51, 213.28, 216.34, 213.23, 213.15, 215.28, 213.37, 213.41, 213.42, 215.82, 217.18, 215.99, 214.24, 215.57, 216.64, 214.68, 216.3, 215.78, 214.68, 215.63, 215.78, 215.04, 216.16, 213.43, 213.71, 213.01, 213.12, 212.38, 213.71, 214.28, 213.88, 213.98, 214.89, 214.17, 213.74, 213.17, 212.54, 212.55, 211.01, 209.74, 208.78, 208.55, 213.15, 214.11, 216.3792, 216.92, 216.42, 216.59, 218.28, 217.87, 218.99, 218.5, 220.15, 220.58, 220.7, 221.52, 220.48, 220.91, 220.38, 219.57, 219.68, 221.0, 221.7, 224.6, 225.15, 226.51, 226.25, 227.76, 225.88, 226.81, 225.04, 225.53, 226.4, 225.77, 225.38, 225.71, 226.27, 224.4, 224.35, 223.53, 225.24, 226.58, 226.4, 227.21, 226.46, 226.46, 227.1, 226.53, 227.05, 226.25, 226.75, 225.91, 226.74, 226.15, 227.6, 229.57, 229.33, 228.97, 227.55, 227.53, 227.62, 227.77, 229.34, 228.93, 228.94, 229.24, 230.6, 231.51, 232.77, 233.7, 234.92, 234.72, 235.09, 236.49, 236.28, 236.44, 236.74, 237.11, 236.47, 239.78, 238.27, 238.42, 237.71, 237.0, 236.56, 236.86, 237.69, 237.81, 236.9, 238.95, 238.48, 237.03, 236.77, 233.73, 234.28, 234.03, 233.86, 233.62, 235.32, 235.54, 236.29, 235.74, 235.33, 235.48, 234.78, 235.44, 235.2, 235.34, 235.06, 234.03, 232.51, 234.57, 233.87, 233.44, 235.34, 234.59, 237.17, 238.55, 238.4, 238.6, 238.08, 238.68, 238.77, 238.48, 238.76, 239.7, 239.66, 239.44, 239.87, 239.38, 238.98, 240.3, 240.08, 235.82, 236.77, 238.31, 239.52, 240.05, 240.61, 241.76, 241.71, 241.5, 241.44, 243.36, 244.17, 243.99, 243.21, 243.66, 243.78, 243.41, 243.36, 244.55, 244.24, 243.77, 242.64, 244.66, 243.01, 242.95, 242.84, 243.13, 243.29, 241.33, 243.49, 241.35, 241.8, 242.21, 242.77, 240.55, 242.11, 242.37, 242.19, 244.01, 244.42, 245.56, 245.53, 245.66, 246.99, 247.1, 246.88, 246.82, 247.42, 247.43, 247.2, 246.91, 246.77, 247.32, 247.44, 246.96, 247.41, 247.87, 247.26, 247.25, 243.76, 244.12, 246.54, 246.51, 246.94, 243.09, 242.71, 242.9, 245.44, 244.56, 243.99, 244.56, 244.57, 244.85, 246.01, 247.49, 247.84, 246.06, 246.9, 246.87, 246.58, 249.21, 250.05, 250.17, 250.09, 249.19, 249.72, 249.97, 250.06, 249.39, 249.44, 248.93, 249.08, 250.05, 250.35, 251.23, 252.32, 252.86, 253.16, 254.66, 254.37, 253.95, 254.62, 255.02, 254.64, 254.95, 255.29, 255.47, 255.72, 255.79, 257.11, 256.11, 256.56, 255.29, 255.62, 257.71, 256.75, 257.15, 257.49, 257.59, 258.45, 258.85, 258.67, 259.11, 258.17, 258.09, 258.33, 257.73, 256.44, 258.62, 257.86, 258.3, 259.99, 259.76, 260.36, 260.23, 262.87, 262.71, 265.01, 264.46, 264.14, 263.19, 263.24, 264.07, 265.51, 266.31, 266.78, 266.75, 265.66, 266.51, 268.2, 267.17, 267.03, 267.58, 267.51, 267.19, 267.32, 267.87, 266.86, 268.77, 270.47, 271.61, 273.42, 273.92, 274.54, 274.12, 276.12, 277.92, 276.97, 279.61, 279.14, 280.41, 282.69, 283.29, 283.18, 283.3, 286.58, 284.68, 281.76, 281.9, 281.58, 275.45, 263.93, 269.13, 267.67, 257.63, 261.5, 265.34, 266.0, 269.59, 273.03, 273.11, 271.4, 270.05, 270.4, 274.71, 277.9, 274.43, 271.65, 267.7, 269.08, 272.19, 272.88, 272.78, 274.1, 278.87, 278.52, 276.72, 275.3, 275.0, 274.2, 270.49, 270.95, 270.43, 263.67, 258.05, 265.11, 260.6, 259.83, 263.15, 257.47, 260.77, 263.56, 265.64, 259.72, 261.0, 265.15, 263.76, 265.93, 265.15, 267.33, 270.19, 270.39, 268.89, 266.61, 266.57, 262.98, 263.63, 266.31, 266.56, 264.51, 264.98, 263.2, 262.62, 266.02, 266.92, 266.92, 269.5, 272.02, 272.85, 272.98, 271.1, 272.24, 272.01, 271.33, 273.37, 272.61, 273.36, 272.8, 272.15, 269.02, 272.61, 270.94, 273.6, 274.9, 275.1, 277.4, 277.37, 278.19, 278.56, 278.92, 278.03, 278.73, 277.13, 276.56, 275.5, 275.97, 274.24, 274.74, 271.0, 271.6, 269.35, 270.89, 271.28, 271.86, 270.9, 273.11, 275.42, 277.9, 278.9, 276.86, 279.37, 279.59, 279.34, 280.47, 281.06, 280.0, 279.68, 280.2, 281.61, 284.01, 283.34, 281.42, 279.95, 281.33, 280.86, 282.39, 283.6, 284.64, 285.58, 285.46, 285.07, 283.16, 282.1, 283.9, 281.78, 284.06, 285.06, 285.67, 286.34, 286.17, 285.79, 287.51, 289.78, 289.92, 291.48, 290.3, 290.31, 289.81, 289.03, 288.16, 287.6, 288.1, 289.05, 289.12, 290.83, 290.88, 289.34, 290.91, 291.22, 293.58, 291.99, 291.02, 290.75, 289.88, 290.69, 290.72, 291.73, 291.56, 291.72, 289.44, 287.82, 287.82, 287.4, 278.3, 272.17, 275.95, 274.4, 280.4, 280.45, 276.4, 276.25, 275.01, 273.61, 265.32, 270.08, 265.33, 263.86, 267.77, 270.63, 273.51, 271.89, 273.39, 275.12, 281.01, 280.5, 277.76, 272.57, 272.06, 270.2, 273.02, 273.73, 269.1, 264.12, 265.02, 263.25, 267.5, 268.4, 274.58, 273.98, 275.65, 279.3, 270.25, 269.84, 263.57, 264.07, 264.13, 265.46, 265.37, 260.47, 255.36, 255.08, 251.26, 247.17, 240.7, 234.34, 246.18, 248.07, 247.75, 249.92, 250.18, 244.21, 252.39, 254.38, 256.77, 257.97, 258.88, 258.98, 257.4, 260.35, 260.98, 262.96, 266.46, 262.86, 263.41, 263.55, 265.78, 263.76, 263.41, 267.58, 269.93, 270.06, 271.96, 273.1, 272.74, 270.14, 270.47, 270.62, 274.1, 274.99, 274.38, 277.37, 277.85, 278.41, 277.42, 279.14, 279.52, 279.32, 279.2, 278.68, 280.42, 279.4, 279.02, 277.33, 275.01, 274.46, 278.44, 279.49, 281.34, 281.16, 281.31, 282.33, 282.4, 281.55, 284.73, 279.25, 279.04, 281.12, 279.65, 280.71, 282.48, 285.83, 285.97, 286.42, 287.18, 288.57, 288.79, 287.31, 288.29, 288.21, 290.16, 289.97, 290.16, 289.45, 290.02, 290.27, 292.88, 292.23, 292.05, 293.41, 293.87, 294.02, 291.81, 291.18, 294.03, 292.82, 287.93, 287.53, 286.66, 288.1, 280.86, 283.4, 285.06, 287.7, 285.84, 283.95, 286.51, 285.63, 282.14, 282.78, 280.15, 278.27, 279.03, 275.27, 274.57, 280.53, 282.96, 284.8, 287.65, 288.97, 288.9, 288.39, 289.58, 289.26, 289.37, 292.4, 293.06, 295.86, 294.0, 293.64, 290.76, 290.47, 291.5, 293.0, 295.66, 296.43, 298.8, 298.46, 296.82, 297.19, 298.61, 299.31, 300.65, 300.75, 299.71, 297.74, 298.83, 297.17, 297.9, 300.03, 301.44, 300.0, 302.01, 301.46, 300.72, 297.43, 294.84, 292.62, 283.82, 287.8, 287.97, 293.62, 291.62, 288.07, 292.55, 283.9, 284.65, 288.85, 292.33, 290.09, 292.45, 292.36, 284.85, 288.0, 286.87, 288.89, 292.58, 292.45, 290.74, 294.04, 297.82, 298.05, 298.2, 298.13, 300.25, 301.29, 301.09, 300.16, 300.92, 301.1, 301.08, 298.28, 298.21, 295.87, 297.62, 297.0, 295.4, 296.77, 293.24, 288.06, 290.42, 294.35, 293.08, 288.53, 291.27, 293.24, 296.28, 295.95, 298.88, 298.4, 299.28, 297.97, 299.99, 299.01, 299.88, 300.37, 301.6, 303.3, 303.21, 304.14, 303.33, 306.14, 307.37, 307.03, 307.1, 308.18, 308.94, 308.35, 309.0, 309.1, 309.55, 311.79, 312.02, 311.93, 310.77, 310.27, 310.96, 313.37, 314.08, 315.48, 314.31], \"yaxis\": \"y\"}, {\"line\": {\"color\": \"rgba(55, 128, 191, 1.0)\", \"dash\": \"solid\", \"shape\": \"linear\", \"width\": 1.3}, \"mode\": \"lines\", \"name\": \"VOLUME\", \"text\": \"\", \"type\": \"scatter\", \"x\": [\"2010-01-04\", \"2010-01-05\", \"2010-01-06\", \"2010-01-07\", \"2010-01-08\", \"2010-01-11\", \"2010-01-12\", \"2010-01-13\", \"2010-01-14\", \"2010-01-15\", \"2010-01-19\", \"2010-01-20\", \"2010-01-21\", \"2010-01-22\", \"2010-01-25\", \"2010-01-26\", \"2010-01-27\", \"2010-01-28\", \"2010-01-29\", \"2010-02-01\", \"2010-02-02\", \"2010-02-03\", \"2010-02-04\", \"2010-02-05\", \"2010-02-08\", \"2010-02-09\", \"2010-02-10\", \"2010-02-11\", \"2010-02-12\", \"2010-02-16\", \"2010-02-17\", \"2010-02-18\", \"2010-02-19\", \"2010-02-22\", \"2010-02-23\", \"2010-02-24\", \"2010-02-25\", \"2010-02-26\", \"2010-03-01\", \"2010-03-02\", \"2010-03-03\", \"2010-03-04\", \"2010-03-05\", \"2010-03-08\", \"2010-03-09\", \"2010-03-10\", \"2010-03-11\", \"2010-03-12\", \"2010-03-15\", \"2010-03-16\", \"2010-03-17\", \"2010-03-18\", \"2010-03-19\", \"2010-03-22\", \"2010-03-23\", \"2010-03-24\", \"2010-03-25\", \"2010-03-26\", \"2010-03-29\", \"2010-03-30\", \"2010-03-31\", \"2010-04-01\", \"2010-04-05\", \"2010-04-06\", \"2010-04-07\", \"2010-04-08\", \"2010-04-09\", \"2010-04-12\", \"2010-04-13\", \"2010-04-14\", \"2010-04-15\", \"2010-04-16\", \"2010-04-19\", \"2010-04-20\", \"2010-04-21\", \"2010-04-22\", \"2010-04-23\", \"2010-04-26\", \"2010-04-27\", \"2010-04-28\", \"2010-04-29\", \"2010-04-30\", \"2010-05-03\", \"2010-05-04\", \"2010-05-05\", \"2010-05-06\", \"2010-05-07\", \"2010-05-10\", \"2010-05-11\", \"2010-05-12\", \"2010-05-13\", \"2010-05-14\", \"2010-05-17\", \"2010-05-18\", \"2010-05-19\", \"2010-05-20\", \"2010-05-21\", \"2010-05-24\", \"2010-05-25\", \"2010-05-26\", \"2010-05-27\", \"2010-05-28\", \"2010-06-01\", \"2010-06-02\", \"2010-06-03\", \"2010-06-04\", \"2010-06-07\", \"2010-06-08\", \"2010-06-09\", \"2010-06-10\", \"2010-06-11\", \"2010-06-14\", \"2010-06-15\", \"2010-06-16\", \"2010-06-17\", \"2010-06-18\", \"2010-06-21\", \"2010-06-22\", \"2010-06-23\", \"2010-06-24\", \"2010-06-25\", \"2010-06-28\", \"2010-06-29\", \"2010-06-30\", \"2010-07-01\", \"2010-07-02\", \"2010-07-06\", \"2010-07-07\", \"2010-07-08\", \"2010-07-09\", \"2010-07-12\", \"2010-07-13\", \"2010-07-14\", \"2010-07-15\", \"2010-07-16\", \"2010-07-19\", \"2010-07-20\", \"2010-07-21\", \"2010-07-22\", \"2010-07-23\", \"2010-07-26\", \"2010-07-27\", \"2010-07-28\", \"2010-07-29\", \"2010-07-30\", \"2010-08-02\", \"2010-08-03\", \"2010-08-04\", \"2010-08-05\", \"2010-08-06\", \"2010-08-09\", \"2010-08-10\", \"2010-08-11\", \"2010-08-12\", \"2010-08-13\", \"2010-08-16\", \"2010-08-17\", \"2010-08-18\", \"2010-08-19\", \"2010-08-20\", \"2010-08-23\", \"2010-08-24\", \"2010-08-25\", \"2010-08-26\", \"2010-08-27\", \"2010-08-30\", \"2010-08-31\", \"2010-09-01\", \"2010-09-02\", \"2010-09-03\", \"2010-09-07\", \"2010-09-08\", \"2010-09-09\", \"2010-09-10\", \"2010-09-13\", \"2010-09-14\", \"2010-09-15\", \"2010-09-16\", \"2010-09-17\", \"2010-09-20\", \"2010-09-21\", \"2010-09-22\", \"2010-09-23\", \"2010-09-24\", \"2010-09-27\", \"2010-09-28\", \"2010-09-29\", \"2010-09-30\", \"2010-10-01\", \"2010-10-04\", \"2010-10-05\", \"2010-10-06\", \"2010-10-07\", \"2010-10-08\", \"2010-10-11\", \"2010-10-12\", \"2010-10-13\", \"2010-10-14\", \"2010-10-15\", \"2010-10-18\", \"2010-10-19\", \"2010-10-20\", \"2010-10-21\", \"2010-10-22\", \"2010-10-25\", \"2010-10-26\", \"2010-10-27\", \"2010-10-28\", \"2010-10-29\", \"2010-11-01\", \"2010-11-02\", \"2010-11-03\", \"2010-11-04\", \"2010-11-05\", \"2010-11-08\", \"2010-11-09\", \"2010-11-10\", \"2010-11-11\", \"2010-11-12\", \"2010-11-15\", \"2010-11-16\", \"2010-11-17\", \"2010-11-18\", \"2010-11-19\", \"2010-11-22\", \"2010-11-23\", \"2010-11-24\", \"2010-11-26\", \"2010-11-29\", \"2010-11-30\", \"2010-12-01\", \"2010-12-02\", \"2010-12-03\", \"2010-12-06\", \"2010-12-07\", \"2010-12-08\", \"2010-12-09\", \"2010-12-10\", \"2010-12-13\", \"2010-12-14\", \"2010-12-15\", \"2010-12-16\", \"2010-12-17\", \"2010-12-20\", \"2010-12-21\", \"2010-12-22\", \"2010-12-23\", \"2010-12-27\", \"2010-12-28\", \"2010-12-29\", \"2010-12-30\", \"2010-12-31\", \"2011-01-03\", \"2011-01-04\", \"2011-01-05\", \"2011-01-06\", \"2011-01-07\", \"2011-01-10\", \"2011-01-11\", \"2011-01-12\", \"2011-01-13\", \"2011-01-14\", \"2011-01-18\", \"2011-01-19\", \"2011-01-20\", \"2011-01-21\", \"2011-01-24\", \"2011-01-25\", \"2011-01-26\", \"2011-01-27\", \"2011-01-28\", \"2011-01-31\", \"2011-02-01\", \"2011-02-02\", \"2011-02-03\", \"2011-02-04\", \"2011-02-07\", \"2011-02-08\", \"2011-02-09\", \"2011-02-10\", \"2011-02-11\", \"2011-02-14\", \"2011-02-15\", \"2011-02-16\", \"2011-02-17\", \"2011-02-18\", \"2011-02-22\", \"2011-02-23\", \"2011-02-24\", \"2011-02-25\", \"2011-02-28\", \"2011-03-01\", \"2011-03-02\", \"2011-03-03\", \"2011-03-04\", \"2011-03-07\", \"2011-03-08\", \"2011-03-09\", \"2011-03-10\", \"2011-03-11\", \"2011-03-14\", \"2011-03-15\", \"2011-03-16\", \"2011-03-17\", \"2011-03-18\", \"2011-03-21\", \"2011-03-22\", \"2011-03-23\", \"2011-03-24\", \"2011-03-25\", \"2011-03-28\", \"2011-03-29\", \"2011-03-30\", \"2011-03-31\", \"2011-04-01\", \"2011-04-04\", \"2011-04-05\", \"2011-04-06\", \"2011-04-07\", \"2011-04-08\", \"2011-04-11\", \"2011-04-12\", \"2011-04-13\", \"2011-04-14\", \"2011-04-15\", \"2011-04-18\", \"2011-04-19\", \"2011-04-20\", \"2011-04-21\", \"2011-04-25\", \"2011-04-26\", \"2011-04-27\", \"2011-04-28\", \"2011-04-29\", \"2011-05-02\", \"2011-05-03\", \"2011-05-04\", \"2011-05-05\", \"2011-05-06\", \"2011-05-09\", \"2011-05-10\", \"2011-05-11\", \"2011-05-12\", \"2011-05-13\", \"2011-05-16\", \"2011-05-17\", \"2011-05-18\", \"2011-05-19\", \"2011-05-20\", \"2011-05-23\", \"2011-05-24\", \"2011-05-25\", \"2011-05-26\", \"2011-05-27\", \"2011-05-31\", \"2011-06-01\", \"2011-06-02\", \"2011-06-03\", \"2011-06-06\", \"2011-06-07\", \"2011-06-08\", \"2011-06-09\", \"2011-06-10\", \"2011-06-13\", \"2011-06-14\", \"2011-06-15\", \"2011-06-16\", \"2011-06-17\", \"2011-06-20\", \"2011-06-21\", \"2011-06-22\", \"2011-06-23\", \"2011-06-24\", \"2011-06-27\", \"2011-06-28\", \"2011-06-29\", \"2011-06-30\", \"2011-07-01\", \"2011-07-05\", \"2011-07-06\", \"2011-07-07\", \"2011-07-08\", \"2011-07-11\", \"2011-07-12\", \"2011-07-13\", \"2011-07-14\", \"2011-07-15\", \"2011-07-18\", \"2011-07-19\", \"2011-07-20\", \"2011-07-21\", \"2011-07-22\", \"2011-07-25\", \"2011-07-26\", \"2011-07-27\", \"2011-07-28\", \"2011-07-29\", \"2011-08-01\", \"2011-08-02\", \"2011-08-03\", \"2011-08-04\", \"2011-08-05\", \"2011-08-08\", \"2011-08-09\", \"2011-08-10\", \"2011-08-11\", \"2011-08-12\", \"2011-08-15\", \"2011-08-16\", \"2011-08-17\", \"2011-08-18\", \"2011-08-19\", \"2011-08-22\", \"2011-08-23\", \"2011-08-24\", \"2011-08-25\", \"2011-08-26\", \"2011-08-29\", \"2011-08-30\", \"2011-08-31\", \"2011-09-01\", \"2011-09-02\", \"2011-09-06\", \"2011-09-07\", \"2011-09-08\", \"2011-09-09\", \"2011-09-12\", \"2011-09-13\", \"2011-09-14\", \"2011-09-15\", \"2011-09-16\", \"2011-09-19\", \"2011-09-20\", \"2011-09-21\", \"2011-09-22\", \"2011-09-23\", \"2011-09-26\", \"2011-09-27\", \"2011-09-28\", \"2011-09-29\", \"2011-09-30\", \"2011-10-03\", \"2011-10-04\", \"2011-10-05\", \"2011-10-06\", \"2011-10-07\", \"2011-10-10\", \"2011-10-11\", \"2011-10-12\", \"2011-10-13\", \"2011-10-14\", \"2011-10-17\", \"2011-10-18\", \"2011-10-19\", \"2011-10-20\", \"2011-10-21\", \"2011-10-24\", \"2011-10-25\", \"2011-10-26\", \"2011-10-27\", \"2011-10-28\", \"2011-10-31\", \"2011-11-01\", \"2011-11-02\", \"2011-11-03\", \"2011-11-04\", \"2011-11-07\", \"2011-11-08\", \"2011-11-09\", \"2011-11-10\", \"2011-11-11\", \"2011-11-14\", \"2011-11-15\", \"2011-11-16\", \"2011-11-17\", \"2011-11-18\", \"2011-11-21\", \"2011-11-22\", \"2011-11-23\", \"2011-11-25\", \"2011-11-28\", \"2011-11-29\", \"2011-11-30\", \"2011-12-01\", \"2011-12-02\", \"2011-12-05\", \"2011-12-06\", \"2011-12-07\", \"2011-12-08\", \"2011-12-09\", \"2011-12-12\", \"2011-12-13\", \"2011-12-14\", \"2011-12-15\", \"2011-12-16\", \"2011-12-19\", \"2011-12-20\", \"2011-12-21\", \"2011-12-22\", \"2011-12-23\", \"2011-12-27\", \"2011-12-28\", \"2011-12-29\", \"2011-12-30\", \"2012-01-03\", \"2012-01-04\", \"2012-01-05\", \"2012-01-06\", \"2012-01-09\", \"2012-01-10\", \"2012-01-11\", \"2012-01-12\", \"2012-01-13\", \"2012-01-17\", \"2012-01-18\", \"2012-01-19\", \"2012-01-20\", \"2012-01-23\", \"2012-01-24\", \"2012-01-25\", \"2012-01-26\", \"2012-01-27\", \"2012-01-30\", \"2012-01-31\", \"2012-02-01\", \"2012-02-02\", \"2012-02-03\", \"2012-02-06\", \"2012-02-07\", \"2012-02-08\", \"2012-02-09\", \"2012-02-10\", \"2012-02-13\", \"2012-02-14\", \"2012-02-15\", \"2012-02-16\", \"2012-02-17\", \"2012-02-21\", \"2012-02-22\", \"2012-02-23\", \"2012-02-24\", \"2012-02-27\", \"2012-02-28\", \"2012-02-29\", \"2012-03-01\", \"2012-03-02\", \"2012-03-05\", \"2012-03-06\", \"2012-03-07\", \"2012-03-08\", \"2012-03-09\", \"2012-03-12\", \"2012-03-13\", \"2012-03-14\", \"2012-03-15\", \"2012-03-16\", \"2012-03-19\", \"2012-03-20\", \"2012-03-21\", \"2012-03-22\", \"2012-03-23\", \"2012-03-26\", \"2012-03-27\", \"2012-03-28\", \"2012-03-29\", \"2012-03-30\", \"2012-04-02\", \"2012-04-03\", \"2012-04-04\", \"2012-04-05\", \"2012-04-09\", \"2012-04-10\", \"2012-04-11\", \"2012-04-12\", \"2012-04-13\", \"2012-04-16\", \"2012-04-17\", \"2012-04-18\", \"2012-04-19\", \"2012-04-20\", \"2012-04-23\", \"2012-04-24\", \"2012-04-25\", \"2012-04-26\", \"2012-04-27\", \"2012-04-30\", \"2012-05-01\", \"2012-05-02\", \"2012-05-03\", \"2012-05-04\", \"2012-05-07\", \"2012-05-08\", \"2012-05-09\", \"2012-05-10\", \"2012-05-11\", \"2012-05-14\", \"2012-05-15\", \"2012-05-16\", \"2012-05-17\", \"2012-05-18\", \"2012-05-21\", \"2012-05-22\", \"2012-05-23\", \"2012-05-24\", \"2012-05-25\", \"2012-05-29\", \"2012-05-30\", \"2012-05-31\", \"2012-06-01\", \"2012-06-04\", \"2012-06-05\", \"2012-06-06\", \"2012-06-07\", \"2012-06-08\", \"2012-06-11\", \"2012-06-12\", \"2012-06-13\", \"2012-06-14\", \"2012-06-15\", \"2012-06-18\", \"2012-06-19\", \"2012-06-20\", \"2012-06-21\", \"2012-06-22\", \"2012-06-25\", \"2012-06-26\", \"2012-06-27\", \"2012-06-28\", \"2012-06-29\", \"2012-07-02\", \"2012-07-03\", \"2012-07-05\", \"2012-07-06\", \"2012-07-09\", \"2012-07-10\", \"2012-07-11\", \"2012-07-12\", \"2012-07-13\", \"2012-07-16\", \"2012-07-17\", \"2012-07-18\", \"2012-07-19\", \"2012-07-20\", \"2012-07-23\", \"2012-07-24\", \"2012-07-25\", \"2012-07-26\", \"2012-07-27\", \"2012-07-30\", \"2012-07-31\", \"2012-08-01\", \"2012-08-02\", \"2012-08-03\", \"2012-08-06\", \"2012-08-07\", \"2012-08-08\", \"2012-08-09\", \"2012-08-10\", \"2012-08-13\", \"2012-08-14\", \"2012-08-15\", \"2012-08-16\", \"2012-08-17\", \"2012-08-20\", \"2012-08-21\", \"2012-08-22\", \"2012-08-23\", \"2012-08-24\", \"2012-08-27\", \"2012-08-28\", \"2012-08-29\", \"2012-08-30\", \"2012-08-31\", \"2012-09-04\", \"2012-09-05\", \"2012-09-06\", \"2012-09-07\", \"2012-09-10\", \"2012-09-11\", \"2012-09-12\", \"2012-09-13\", \"2012-09-14\", \"2012-09-17\", \"2012-09-18\", \"2012-09-19\", \"2012-09-20\", \"2012-09-21\", \"2012-09-24\", \"2012-09-25\", \"2012-09-26\", \"2012-09-27\", \"2012-09-28\", \"2012-10-01\", \"2012-10-02\", \"2012-10-03\", \"2012-10-04\", \"2012-10-05\", \"2012-10-08\", \"2012-10-09\", \"2012-10-10\", \"2012-10-11\", \"2012-10-12\", \"2012-10-15\", \"2012-10-16\", \"2012-10-17\", \"2012-10-18\", \"2012-10-19\", \"2012-10-22\", \"2012-10-23\", \"2012-10-24\", \"2012-10-25\", \"2012-10-26\", \"2012-10-31\", \"2012-11-01\", \"2012-11-02\", \"2012-11-05\", \"2012-11-06\", \"2012-11-07\", \"2012-11-08\", \"2012-11-09\", \"2012-11-12\", \"2012-11-13\", \"2012-11-14\", \"2012-11-15\", \"2012-11-16\", \"2012-11-19\", \"2012-11-20\", \"2012-11-21\", \"2012-11-23\", \"2012-11-26\", \"2012-11-27\", \"2012-11-28\", \"2012-11-29\", \"2012-11-30\", \"2012-12-03\", \"2012-12-04\", \"2012-12-05\", \"2012-12-06\", \"2012-12-07\", \"2012-12-10\", \"2012-12-11\", \"2012-12-12\", \"2012-12-13\", \"2012-12-14\", \"2012-12-17\", \"2012-12-18\", \"2012-12-19\", \"2012-12-20\", \"2012-12-21\", \"2012-12-24\", \"2012-12-26\", \"2012-12-27\", \"2012-12-28\", \"2012-12-31\", \"2013-01-02\", \"2013-01-03\", \"2013-01-04\", \"2013-01-07\", \"2013-01-08\", \"2013-01-09\", \"2013-01-10\", \"2013-01-11\", \"2013-01-14\", \"2013-01-15\", \"2013-01-16\", \"2013-01-17\", \"2013-01-18\", \"2013-01-22\", \"2013-01-23\", \"2013-01-24\", \"2013-01-25\", \"2013-01-28\", \"2013-01-29\", \"2013-01-30\", \"2013-01-31\", \"2013-02-01\", \"2013-02-04\", \"2013-02-05\", \"2013-02-06\", \"2013-02-07\", \"2013-02-08\", \"2013-02-11\", \"2013-02-12\", \"2013-02-13\", \"2013-02-14\", \"2013-02-15\", \"2013-02-19\", \"2013-02-20\", \"2013-02-21\", \"2013-02-22\", \"2013-02-25\", \"2013-02-26\", \"2013-02-27\", \"2013-02-28\", \"2013-03-01\", \"2013-03-04\", \"2013-03-05\", \"2013-03-06\", \"2013-03-07\", \"2013-03-08\", \"2013-03-11\", \"2013-03-12\", \"2013-03-13\", \"2013-03-14\", \"2013-03-15\", \"2013-03-18\", \"2013-03-19\", \"2013-03-20\", \"2013-03-21\", \"2013-03-22\", \"2013-03-25\", \"2013-03-26\", \"2013-03-27\", \"2013-03-28\", \"2013-04-01\", \"2013-04-02\", \"2013-04-03\", \"2013-04-04\", \"2013-04-05\", \"2013-04-08\", \"2013-04-09\", \"2013-04-10\", \"2013-04-11\", \"2013-04-12\", \"2013-04-15\", \"2013-04-16\", \"2013-04-17\", \"2013-04-18\", \"2013-04-19\", \"2013-04-22\", \"2013-04-23\", \"2013-04-24\", \"2013-04-25\", \"2013-04-26\", \"2013-04-29\", \"2013-04-30\", \"2013-05-01\", \"2013-05-02\", \"2013-05-03\", \"2013-05-06\", \"2013-05-07\", \"2013-05-08\", \"2013-05-09\", \"2013-05-10\", \"2013-05-13\", \"2013-05-14\", \"2013-05-15\", \"2013-05-16\", \"2013-05-17\", \"2013-05-20\", \"2013-05-21\", \"2013-05-22\", \"2013-05-23\", \"2013-05-24\", \"2013-05-28\", \"2013-05-29\", \"2013-05-30\", \"2013-05-31\", \"2013-06-03\", \"2013-06-04\", \"2013-06-05\", \"2013-06-06\", \"2013-06-07\", \"2013-06-10\", \"2013-06-11\", \"2013-06-12\", \"2013-06-13\", \"2013-06-14\", \"2013-06-17\", \"2013-06-18\", \"2013-06-19\", \"2013-06-20\", \"2013-06-21\", \"2013-06-24\", \"2013-06-25\", \"2013-06-26\", \"2013-06-27\", \"2013-06-28\", \"2013-07-01\", \"2013-07-02\", \"2013-07-03\", \"2013-07-05\", \"2013-07-08\", \"2013-07-09\", \"2013-07-10\", \"2013-07-11\", \"2013-07-12\", \"2013-07-15\", \"2013-07-16\", \"2013-07-17\", \"2013-07-18\", \"2013-07-19\", \"2013-07-22\", \"2013-07-23\", \"2013-07-24\", \"2013-07-25\", \"2013-07-26\", \"2013-07-29\", \"2013-07-30\", \"2013-07-31\", \"2013-08-01\", \"2013-08-02\", \"2013-08-05\", \"2013-08-06\", \"2013-08-07\", \"2013-08-08\", \"2013-08-09\", \"2013-08-12\", \"2013-08-13\", \"2013-08-14\", \"2013-08-15\", \"2013-08-16\", \"2013-08-19\", \"2013-08-20\", \"2013-08-21\", \"2013-08-22\", \"2013-08-23\", \"2013-08-26\", \"2013-08-27\", \"2013-08-28\", \"2013-08-29\", \"2013-08-30\", \"2013-09-03\", \"2013-09-04\", \"2013-09-05\", \"2013-09-06\", \"2013-09-09\", \"2013-09-10\", \"2013-09-11\", \"2013-09-12\", \"2013-09-13\", \"2013-09-16\", \"2013-09-17\", \"2013-09-18\", \"2013-09-19\", \"2013-09-20\", \"2013-09-23\", \"2013-09-24\", \"2013-09-25\", \"2013-09-26\", \"2013-09-27\", \"2013-09-30\", \"2013-10-01\", \"2013-10-02\", \"2013-10-03\", \"2013-10-04\", \"2013-10-07\", \"2013-10-08\", \"2013-10-09\", \"2013-10-10\", \"2013-10-11\", \"2013-10-14\", \"2013-10-15\", \"2013-10-16\", \"2013-10-17\", \"2013-10-18\", \"2013-10-21\", \"2013-10-22\", \"2013-10-23\", \"2013-10-24\", \"2013-10-25\", \"2013-10-28\", \"2013-10-29\", \"2013-10-30\", \"2013-10-31\", \"2013-11-01\", \"2013-11-04\", \"2013-11-05\", \"2013-11-06\", \"2013-11-07\", \"2013-11-08\", \"2013-11-11\", \"2013-11-12\", \"2013-11-13\", \"2013-11-14\", \"2013-11-15\", \"2013-11-18\", \"2013-11-19\", \"2013-11-20\", \"2013-11-21\", \"2013-11-22\", \"2013-11-25\", \"2013-11-26\", \"2013-11-27\", \"2013-11-29\", \"2013-12-02\", \"2013-12-03\", \"2013-12-04\", \"2013-12-05\", \"2013-12-06\", \"2013-12-09\", \"2013-12-10\", \"2013-12-11\", \"2013-12-12\", \"2013-12-13\", \"2013-12-16\", \"2013-12-17\", \"2013-12-18\", \"2013-12-19\", \"2013-12-20\", \"2013-12-23\", \"2013-12-24\", \"2013-12-26\", \"2013-12-27\", \"2013-12-30\", \"2013-12-31\", \"2014-01-02\", \"2014-01-03\", \"2014-01-06\", \"2014-01-07\", \"2014-01-08\", \"2014-01-09\", \"2014-01-10\", \"2014-01-13\", \"2014-01-14\", \"2014-01-15\", \"2014-01-16\", \"2014-01-17\", \"2014-01-21\", \"2014-01-22\", \"2014-01-23\", \"2014-01-24\", \"2014-01-27\", \"2014-01-28\", \"2014-01-29\", \"2014-01-30\", \"2014-01-31\", \"2014-02-03\", \"2014-02-04\", \"2014-02-05\", \"2014-02-06\", \"2014-02-07\", \"2014-02-10\", \"2014-02-11\", \"2014-02-12\", \"2014-02-13\", \"2014-02-14\", \"2014-02-18\", \"2014-02-19\", \"2014-02-20\", \"2014-02-21\", \"2014-02-24\", \"2014-02-25\", \"2014-02-26\", \"2014-02-27\", \"2014-02-28\", \"2014-03-03\", \"2014-03-04\", \"2014-03-05\", \"2014-03-06\", \"2014-03-07\", \"2014-03-10\", \"2014-03-11\", \"2014-03-12\", \"2014-03-13\", \"2014-03-14\", \"2014-03-17\", \"2014-03-18\", \"2014-03-19\", \"2014-03-20\", \"2014-03-21\", \"2014-03-24\", \"2014-03-25\", \"2014-03-26\", \"2014-03-27\", \"2014-03-28\", \"2014-03-31\", \"2014-04-01\", \"2014-04-02\", \"2014-04-03\", \"2014-04-04\", \"2014-04-07\", \"2014-04-08\", \"2014-04-09\", \"2014-04-10\", \"2014-04-11\", \"2014-04-14\", \"2014-04-15\", \"2014-04-16\", \"2014-04-17\", \"2014-04-21\", \"2014-04-22\", \"2014-04-23\", \"2014-04-24\", \"2014-04-25\", \"2014-04-28\", \"2014-04-29\", \"2014-04-30\", \"2014-05-01\", \"2014-05-02\", \"2014-05-05\", \"2014-05-06\", \"2014-05-07\", \"2014-05-08\", \"2014-05-09\", \"2014-05-12\", \"2014-05-13\", \"2014-05-14\", \"2014-05-15\", \"2014-05-16\", \"2014-05-19\", \"2014-05-20\", \"2014-05-21\", \"2014-05-22\", \"2014-05-23\", \"2014-05-27\", \"2014-05-28\", \"2014-05-29\", \"2014-05-30\", \"2014-06-02\", \"2014-06-03\", \"2014-06-04\", \"2014-06-05\", \"2014-06-06\", \"2014-06-09\", \"2014-06-10\", \"2014-06-11\", \"2014-06-12\", \"2014-06-13\", \"2014-06-16\", \"2014-06-17\", \"2014-06-18\", \"2014-06-19\", \"2014-06-20\", \"2014-06-23\", \"2014-06-24\", \"2014-06-25\", \"2014-06-26\", \"2014-06-27\", \"2014-06-30\", \"2014-07-01\", \"2014-07-02\", \"2014-07-03\", \"2014-07-07\", \"2014-07-08\", \"2014-07-09\", \"2014-07-10\", \"2014-07-11\", \"2014-07-14\", \"2014-07-15\", \"2014-07-16\", \"2014-07-17\", \"2014-07-18\", \"2014-07-21\", \"2014-07-22\", \"2014-07-23\", \"2014-07-24\", \"2014-07-25\", \"2014-07-28\", \"2014-07-29\", \"2014-07-30\", \"2014-07-31\", \"2014-08-01\", \"2014-08-04\", \"2014-08-05\", \"2014-08-06\", \"2014-08-07\", \"2014-08-08\", \"2014-08-11\", \"2014-08-12\", \"2014-08-13\", \"2014-08-14\", \"2014-08-15\", \"2014-08-18\", \"2014-08-19\", \"2014-08-20\", \"2014-08-21\", \"2014-08-22\", \"2014-08-25\", \"2014-08-26\", \"2014-08-27\", \"2014-08-28\", \"2014-08-29\", \"2014-09-02\", \"2014-09-03\", \"2014-09-04\", \"2014-09-05\", \"2014-09-08\", \"2014-09-09\", \"2014-09-10\", \"2014-09-11\", \"2014-09-12\", \"2014-09-15\", \"2014-09-16\", \"2014-09-17\", \"2014-09-18\", \"2014-09-19\", \"2014-09-22\", \"2014-09-23\", \"2014-09-24\", \"2014-09-25\", \"2014-09-26\", \"2014-09-29\", \"2014-09-30\", \"2014-10-01\", \"2014-10-02\", \"2014-10-03\", \"2014-10-06\", \"2014-10-07\", \"2014-10-08\", \"2014-10-09\", \"2014-10-10\", \"2014-10-13\", \"2014-10-14\", \"2014-10-15\", \"2014-10-16\", \"2014-10-17\", \"2014-10-20\", \"2014-10-21\", \"2014-10-22\", \"2014-10-23\", \"2014-10-24\", \"2014-10-27\", \"2014-10-28\", \"2014-10-29\", \"2014-10-30\", \"2014-10-31\", \"2014-11-03\", \"2014-11-04\", \"2014-11-05\", \"2014-11-06\", \"2014-11-07\", \"2014-11-10\", \"2014-11-11\", \"2014-11-12\", \"2014-11-13\", \"2014-11-14\", \"2014-11-17\", \"2014-11-18\", \"2014-11-19\", \"2014-11-20\", \"2014-11-21\", \"2014-11-24\", \"2014-11-25\", \"2014-11-26\", \"2014-11-28\", \"2014-12-01\", \"2014-12-02\", \"2014-12-03\", \"2014-12-04\", \"2014-12-05\", \"2014-12-08\", \"2014-12-09\", \"2014-12-10\", \"2014-12-11\", \"2014-12-12\", \"2014-12-15\", \"2014-12-16\", \"2014-12-17\", \"2014-12-18\", \"2014-12-19\", \"2014-12-22\", \"2014-12-23\", \"2014-12-24\", \"2014-12-26\", \"2014-12-29\", \"2014-12-30\", \"2014-12-31\", \"2015-01-02\", \"2015-01-05\", \"2015-01-06\", \"2015-01-07\", \"2015-01-08\", \"2015-01-09\", \"2015-01-12\", \"2015-01-13\", \"2015-01-14\", \"2015-01-15\", \"2015-01-16\", \"2015-01-20\", \"2015-01-21\", \"2015-01-22\", \"2015-01-23\", \"2015-01-26\", \"2015-01-27\", \"2015-01-28\", \"2015-01-29\", \"2015-01-30\", \"2015-02-02\", \"2015-02-03\", \"2015-02-04\", \"2015-02-05\", \"2015-02-06\", \"2015-02-09\", \"2015-02-10\", \"2015-02-11\", \"2015-02-12\", \"2015-02-13\", \"2015-02-17\", \"2015-02-18\", \"2015-02-19\", \"2015-02-20\", \"2015-02-23\", \"2015-02-24\", \"2015-02-25\", \"2015-02-26\", \"2015-02-27\", \"2015-03-02\", \"2015-03-03\", \"2015-03-04\", \"2015-03-05\", \"2015-03-06\", \"2015-03-09\", \"2015-03-10\", \"2015-03-11\", \"2015-03-12\", \"2015-03-13\", \"2015-03-16\", \"2015-03-17\", \"2015-03-18\", \"2015-03-19\", \"2015-03-20\", \"2015-03-23\", \"2015-03-24\", \"2015-03-25\", \"2015-03-26\", \"2015-03-27\", \"2015-03-30\", \"2015-03-31\", \"2015-04-01\", \"2015-04-02\", \"2015-04-06\", \"2015-04-07\", \"2015-04-08\", \"2015-04-09\", \"2015-04-10\", \"2015-04-13\", \"2015-04-14\", \"2015-04-15\", \"2015-04-16\", \"2015-04-17\", \"2015-04-20\", \"2015-04-21\", \"2015-04-22\", \"2015-04-23\", \"2015-04-24\", \"2015-04-27\", \"2015-04-28\", \"2015-04-29\", \"2015-04-30\", \"2015-05-01\", \"2015-05-04\", \"2015-05-05\", \"2015-05-06\", \"2015-05-07\", \"2015-05-08\", \"2015-05-11\", \"2015-05-12\", \"2015-05-13\", \"2015-05-14\", \"2015-05-15\", \"2015-05-18\", \"2015-05-19\", \"2015-05-20\", \"2015-05-21\", \"2015-05-22\", \"2015-05-26\", \"2015-05-27\", \"2015-05-28\", \"2015-05-29\", \"2015-06-01\", \"2015-06-02\", \"2015-06-03\", \"2015-06-04\", \"2015-06-05\", \"2015-06-08\", \"2015-06-09\", \"2015-06-10\", \"2015-06-11\", \"2015-06-12\", \"2015-06-15\", \"2015-06-16\", \"2015-06-17\", \"2015-06-18\", \"2015-06-19\", \"2015-06-22\", \"2015-06-23\", \"2015-06-24\", \"2015-06-25\", \"2015-06-26\", \"2015-06-29\", \"2015-06-30\", \"2015-07-01\", \"2015-07-02\", \"2015-07-06\", \"2015-07-07\", \"2015-07-08\", \"2015-07-09\", \"2015-07-10\", \"2015-07-13\", \"2015-07-14\", \"2015-07-15\", \"2015-07-16\", \"2015-07-17\", \"2015-07-20\", \"2015-07-21\", \"2015-07-22\", \"2015-07-23\", \"2015-07-24\", \"2015-07-27\", \"2015-07-28\", \"2015-07-29\", \"2015-07-30\", \"2015-07-31\", \"2015-08-03\", \"2015-08-04\", \"2015-08-05\", \"2015-08-06\", \"2015-08-07\", \"2015-08-10\", \"2015-08-11\", \"2015-08-12\", \"2015-08-13\", \"2015-08-14\", \"2015-08-17\", \"2015-08-18\", \"2015-08-19\", \"2015-08-20\", \"2015-08-21\", \"2015-08-24\", \"2015-08-25\", \"2015-08-26\", \"2015-08-27\", \"2015-08-28\", \"2015-08-31\", \"2015-09-01\", \"2015-09-02\", \"2015-09-03\", \"2015-09-04\", \"2015-09-08\", \"2015-09-09\", \"2015-09-10\", \"2015-09-11\", \"2015-09-14\", \"2015-09-15\", \"2015-09-16\", \"2015-09-17\", \"2015-09-18\", \"2015-09-21\", \"2015-09-22\", \"2015-09-23\", \"2015-09-24\", \"2015-09-25\", \"2015-09-28\", \"2015-09-29\", \"2015-09-30\", \"2015-10-01\", \"2015-10-02\", \"2015-10-05\", \"2015-10-06\", \"2015-10-07\", \"2015-10-08\", \"2015-10-09\", \"2015-10-12\", \"2015-10-13\", \"2015-10-14\", \"2015-10-15\", \"2015-10-16\", \"2015-10-19\", \"2015-10-20\", \"2015-10-21\", \"2015-10-22\", \"2015-10-23\", \"2015-10-26\", \"2015-10-27\", \"2015-10-28\", \"2015-10-29\", \"2015-10-30\", \"2015-11-02\", \"2015-11-03\", \"2015-11-04\", \"2015-11-05\", \"2015-11-06\", \"2015-11-09\", \"2015-11-10\", \"2015-11-11\", \"2015-11-12\", \"2015-11-13\", \"2015-11-16\", \"2015-11-17\", \"2015-11-18\", \"2015-11-19\", \"2015-11-20\", \"2015-11-23\", \"2015-11-24\", \"2015-11-25\", \"2015-11-27\", \"2015-11-30\", \"2015-12-01\", \"2015-12-02\", \"2015-12-03\", \"2015-12-04\", \"2015-12-07\", \"2015-12-08\", \"2015-12-09\", \"2015-12-10\", \"2015-12-11\", \"2015-12-14\", \"2015-12-15\", \"2015-12-16\", \"2015-12-17\", \"2015-12-18\", \"2015-12-21\", \"2015-12-22\", \"2015-12-23\", \"2015-12-24\", \"2015-12-28\", \"2015-12-29\", \"2015-12-30\", \"2015-12-31\", \"2016-01-04\", \"2016-01-05\", \"2016-01-06\", \"2016-01-07\", \"2016-01-08\", \"2016-01-11\", \"2016-01-12\", \"2016-01-13\", \"2016-01-14\", \"2016-01-15\", \"2016-01-19\", \"2016-01-20\", \"2016-01-21\", \"2016-01-22\", \"2016-01-25\", \"2016-01-26\", \"2016-01-27\", \"2016-01-28\", \"2016-01-29\", \"2016-02-01\", \"2016-02-02\", \"2016-02-03\", \"2016-02-04\", \"2016-02-05\", \"2016-02-08\", \"2016-02-09\", \"2016-02-10\", \"2016-02-11\", \"2016-02-12\", \"2016-02-16\", \"2016-02-17\", \"2016-02-18\", \"2016-02-19\", \"2016-02-22\", \"2016-02-23\", \"2016-02-24\", \"2016-02-25\", \"2016-02-26\", \"2016-02-29\", \"2016-03-01\", \"2016-03-02\", \"2016-03-03\", \"2016-03-04\", \"2016-03-07\", \"2016-03-08\", \"2016-03-09\", \"2016-03-10\", \"2016-03-11\", \"2016-03-14\", \"2016-03-15\", \"2016-03-16\", \"2016-03-17\", \"2016-03-18\", \"2016-03-21\", \"2016-03-22\", \"2016-03-23\", \"2016-03-24\", \"2016-03-28\", \"2016-03-29\", \"2016-03-30\", \"2016-03-31\", \"2016-04-01\", \"2016-04-04\", \"2016-04-05\", \"2016-04-06\", \"2016-04-07\", \"2016-04-08\", \"2016-04-11\", \"2016-04-12\", \"2016-04-13\", \"2016-04-14\", \"2016-04-15\", \"2016-04-18\", \"2016-04-19\", \"2016-04-20\", \"2016-04-21\", \"2016-04-22\", \"2016-04-25\", \"2016-04-26\", \"2016-04-27\", \"2016-04-28\", \"2016-04-29\", \"2016-05-02\", \"2016-05-03\", \"2016-05-04\", \"2016-05-05\", \"2016-05-06\", \"2016-05-09\", \"2016-05-10\", \"2016-05-11\", \"2016-05-12\", \"2016-05-13\", \"2016-05-16\", \"2016-05-17\", \"2016-05-18\", \"2016-05-19\", \"2016-05-20\", \"2016-05-23\", \"2016-05-24\", \"2016-05-25\", \"2016-05-26\", \"2016-05-27\", \"2016-05-31\", \"2016-06-01\", \"2016-06-02\", \"2016-06-03\", \"2016-06-06\", \"2016-06-07\", \"2016-06-08\", \"2016-06-09\", \"2016-06-10\", \"2016-06-13\", \"2016-06-14\", \"2016-06-15\", \"2016-06-16\", \"2016-06-17\", \"2016-06-20\", \"2016-06-21\", \"2016-06-22\", \"2016-06-23\", \"2016-06-24\", \"2016-06-27\", \"2016-06-28\", \"2016-06-29\", \"2016-06-30\", \"2016-07-01\", \"2016-07-05\", \"2016-07-06\", \"2016-07-07\", \"2016-07-08\", \"2016-07-11\", \"2016-07-12\", \"2016-07-13\", \"2016-07-14\", \"2016-07-15\", \"2016-07-18\", \"2016-07-19\", \"2016-07-20\", \"2016-07-21\", \"2016-07-22\", \"2016-07-25\", \"2016-07-26\", \"2016-07-27\", \"2016-07-28\", \"2016-07-29\", \"2016-08-01\", \"2016-08-02\", \"2016-08-03\", \"2016-08-04\", \"2016-08-05\", \"2016-08-08\", \"2016-08-09\", \"2016-08-10\", \"2016-08-11\", \"2016-08-12\", \"2016-08-15\", \"2016-08-16\", \"2016-08-17\", \"2016-08-18\", \"2016-08-19\", \"2016-08-22\", \"2016-08-23\", \"2016-08-24\", \"2016-08-25\", \"2016-08-26\", \"2016-08-29\", \"2016-08-30\", \"2016-08-31\", \"2016-09-01\", \"2016-09-02\", \"2016-09-06\", \"2016-09-07\", \"2016-09-08\", \"2016-09-09\", \"2016-09-12\", \"2016-09-13\", \"2016-09-14\", \"2016-09-15\", \"2016-09-16\", \"2016-09-19\", \"2016-09-20\", \"2016-09-21\", \"2016-09-22\", \"2016-09-23\", \"2016-09-26\", \"2016-09-27\", \"2016-09-28\", \"2016-09-29\", \"2016-09-30\", \"2016-10-03\", \"2016-10-04\", \"2016-10-05\", \"2016-10-06\", \"2016-10-07\", \"2016-10-10\", \"2016-10-11\", \"2016-10-12\", \"2016-10-13\", \"2016-10-14\", \"2016-10-17\", \"2016-10-18\", \"2016-10-19\", \"2016-10-20\", \"2016-10-21\", \"2016-10-24\", \"2016-10-25\", \"2016-10-26\", \"2016-10-27\", \"2016-10-28\", \"2016-10-31\", \"2016-11-01\", \"2016-11-02\", \"2016-11-03\", \"2016-11-04\", \"2016-11-07\", \"2016-11-08\", \"2016-11-09\", \"2016-11-10\", \"2016-11-11\", \"2016-11-14\", \"2016-11-15\", \"2016-11-16\", \"2016-11-17\", \"2016-11-18\", \"2016-11-21\", \"2016-11-22\", \"2016-11-23\", \"2016-11-25\", \"2016-11-28\", \"2016-11-29\", \"2016-11-30\", \"2016-12-01\", \"2016-12-02\", \"2016-12-05\", \"2016-12-06\", \"2016-12-07\", \"2016-12-08\", \"2016-12-09\", \"2016-12-12\", \"2016-12-13\", \"2016-12-14\", \"2016-12-15\", \"2016-12-16\", \"2016-12-19\", \"2016-12-20\", \"2016-12-21\", \"2016-12-22\", \"2016-12-23\", \"2016-12-27\", \"2016-12-28\", \"2016-12-29\", \"2016-12-30\", \"2017-01-03\", \"2017-01-04\", \"2017-01-05\", \"2017-01-06\", \"2017-01-09\", \"2017-01-10\", \"2017-01-11\", \"2017-01-12\", \"2017-01-13\", \"2017-01-17\", \"2017-01-18\", \"2017-01-19\", \"2017-01-20\", \"2017-01-23\", \"2017-01-24\", \"2017-01-25\", \"2017-01-26\", \"2017-01-27\", \"2017-01-30\", \"2017-01-31\", \"2017-02-01\", \"2017-02-02\", \"2017-02-03\", \"2017-02-06\", \"2017-02-07\", \"2017-02-08\", \"2017-02-09\", \"2017-02-10\", \"2017-02-13\", \"2017-02-14\", \"2017-02-15\", \"2017-02-16\", \"2017-02-17\", \"2017-02-21\", \"2017-02-22\", \"2017-02-23\", \"2017-02-24\", \"2017-02-27\", \"2017-02-28\", \"2017-03-01\", \"2017-03-02\", \"2017-03-03\", \"2017-03-06\", \"2017-03-07\", \"2017-03-08\", \"2017-03-09\", \"2017-03-10\", \"2017-03-13\", \"2017-03-14\", \"2017-03-15\", \"2017-03-16\", \"2017-03-17\", \"2017-03-20\", \"2017-03-21\", \"2017-03-22\", \"2017-03-23\", \"2017-03-24\", \"2017-03-27\", \"2017-03-28\", \"2017-03-29\", \"2017-03-30\", \"2017-03-31\", \"2017-04-03\", \"2017-04-04\", \"2017-04-05\", \"2017-04-06\", \"2017-04-07\", \"2017-04-10\", \"2017-04-11\", \"2017-04-12\", \"2017-04-13\", \"2017-04-17\", \"2017-04-18\", \"2017-04-19\", \"2017-04-20\", \"2017-04-21\", \"2017-04-24\", \"2017-04-25\", \"2017-04-26\", \"2017-04-27\", \"2017-04-28\", \"2017-05-01\", \"2017-05-02\", \"2017-05-03\", \"2017-05-04\", \"2017-05-05\", \"2017-05-08\", \"2017-05-09\", \"2017-05-10\", \"2017-05-11\", \"2017-05-12\", \"2017-05-15\", \"2017-05-16\", \"2017-05-17\", \"2017-05-18\", \"2017-05-19\", \"2017-05-22\", \"2017-05-23\", \"2017-05-24\", \"2017-05-25\", \"2017-05-26\", \"2017-05-30\", \"2017-05-31\", \"2017-06-01\", \"2017-06-02\", \"2017-06-05\", \"2017-06-06\", \"2017-06-07\", \"2017-06-08\", \"2017-06-09\", \"2017-06-12\", \"2017-06-13\", \"2017-06-14\", \"2017-06-15\", \"2017-06-16\", \"2017-06-19\", \"2017-06-20\", \"2017-06-21\", \"2017-06-22\", \"2017-06-23\", \"2017-06-26\", \"2017-06-27\", \"2017-06-28\", \"2017-06-29\", \"2017-06-30\", \"2017-07-03\", \"2017-07-05\", \"2017-07-06\", \"2017-07-07\", \"2017-07-10\", \"2017-07-11\", \"2017-07-12\", \"2017-07-13\", \"2017-07-14\", \"2017-07-17\", \"2017-07-18\", \"2017-07-19\", \"2017-07-20\", \"2017-07-21\", \"2017-07-24\", \"2017-07-25\", \"2017-07-26\", \"2017-07-27\", \"2017-07-28\", \"2017-07-31\", \"2017-08-01\", \"2017-08-02\", \"2017-08-03\", \"2017-08-04\", \"2017-08-07\", \"2017-08-08\", \"2017-08-09\", \"2017-08-10\", \"2017-08-11\", \"2017-08-14\", \"2017-08-15\", \"2017-08-16\", \"2017-08-17\", \"2017-08-18\", \"2017-08-21\", \"2017-08-22\", \"2017-08-23\", \"2017-08-24\", \"2017-08-25\", \"2017-08-28\", \"2017-08-29\", \"2017-08-30\", \"2017-08-31\", \"2017-09-01\", \"2017-09-05\", \"2017-09-06\", \"2017-09-07\", \"2017-09-08\", \"2017-09-11\", \"2017-09-12\", \"2017-09-13\", \"2017-09-14\", \"2017-09-15\", \"2017-09-18\", \"2017-09-19\", \"2017-09-20\", \"2017-09-21\", \"2017-09-22\", \"2017-09-25\", \"2017-09-26\", \"2017-09-27\", \"2017-09-28\", \"2017-09-29\", \"2017-10-02\", \"2017-10-03\", \"2017-10-04\", \"2017-10-05\", \"2017-10-06\", \"2017-10-09\", \"2017-10-10\", \"2017-10-11\", \"2017-10-12\", \"2017-10-13\", \"2017-10-16\", \"2017-10-17\", \"2017-10-18\", \"2017-10-19\", \"2017-10-20\", \"2017-10-23\", \"2017-10-24\", \"2017-10-25\", \"2017-10-26\", \"2017-10-27\", \"2017-10-30\", \"2017-10-31\", \"2017-11-01\", \"2017-11-02\", \"2017-11-03\", \"2017-11-06\", \"2017-11-07\", \"2017-11-08\", \"2017-11-09\", \"2017-11-10\", \"2017-11-13\", \"2017-11-14\", \"2017-11-15\", \"2017-11-16\", \"2017-11-17\", \"2017-11-20\", \"2017-11-21\", \"2017-11-22\", \"2017-11-24\", \"2017-11-27\", \"2017-11-28\", \"2017-11-29\", \"2017-11-30\", \"2017-12-01\", \"2017-12-04\", \"2017-12-05\", \"2017-12-06\", \"2017-12-07\", \"2017-12-08\", \"2017-12-11\", \"2017-12-12\", \"2017-12-13\", \"2017-12-14\", \"2017-12-15\", \"2017-12-18\", \"2017-12-19\", \"2017-12-20\", \"2017-12-21\", \"2017-12-22\", \"2017-12-26\", \"2017-12-27\", \"2017-12-28\", \"2017-12-29\", \"2018-01-02\", \"2018-01-03\", \"2018-01-04\", \"2018-01-05\", \"2018-01-08\", \"2018-01-09\", \"2018-01-10\", \"2018-01-11\", \"2018-01-12\", \"2018-01-16\", \"2018-01-17\", \"2018-01-18\", \"2018-01-19\", \"2018-01-22\", \"2018-01-23\", \"2018-01-24\", \"2018-01-25\", \"2018-01-26\", \"2018-01-29\", \"2018-01-30\", \"2018-01-31\", \"2018-02-01\", \"2018-02-02\", \"2018-02-05\", \"2018-02-06\", \"2018-02-07\", \"2018-02-08\", \"2018-02-09\", \"2018-02-12\", \"2018-02-13\", \"2018-02-14\", \"2018-02-15\", \"2018-02-16\", \"2018-02-20\", \"2018-02-21\", \"2018-02-22\", \"2018-02-23\", \"2018-02-26\", \"2018-02-27\", \"2018-02-28\", \"2018-03-01\", \"2018-03-02\", \"2018-03-05\", \"2018-03-06\", \"2018-03-07\", \"2018-03-08\", \"2018-03-09\", \"2018-03-12\", \"2018-03-13\", \"2018-03-14\", \"2018-03-15\", \"2018-03-16\", \"2018-03-19\", \"2018-03-20\", \"2018-03-21\", \"2018-03-22\", \"2018-03-23\", \"2018-03-26\", \"2018-03-27\", \"2018-03-28\", \"2018-03-29\", \"2018-04-02\", \"2018-04-03\", \"2018-04-04\", \"2018-04-05\", \"2018-04-06\", \"2018-04-09\", \"2018-04-10\", \"2018-04-11\", \"2018-04-12\", \"2018-04-13\", \"2018-04-16\", \"2018-04-17\", \"2018-04-18\", \"2018-04-19\", \"2018-04-20\", \"2018-04-23\", \"2018-04-24\", \"2018-04-25\", \"2018-04-26\", \"2018-04-27\", \"2018-04-30\", \"2018-05-01\", \"2018-05-02\", \"2018-05-03\", \"2018-05-04\", \"2018-05-07\", \"2018-05-08\", \"2018-05-09\", \"2018-05-10\", \"2018-05-11\", \"2018-05-14\", \"2018-05-15\", \"2018-05-16\", \"2018-05-17\", \"2018-05-18\", \"2018-05-21\", \"2018-05-22\", \"2018-05-23\", \"2018-05-24\", \"2018-05-25\", \"2018-05-29\", \"2018-05-30\", \"2018-05-31\", \"2018-06-01\", \"2018-06-04\", \"2018-06-05\", \"2018-06-06\", \"2018-06-07\", \"2018-06-08\", \"2018-06-11\", \"2018-06-12\", \"2018-06-13\", \"2018-06-14\", \"2018-06-15\", \"2018-06-18\", \"2018-06-19\", \"2018-06-20\", \"2018-06-21\", \"2018-06-22\", \"2018-06-25\", \"2018-06-26\", \"2018-06-27\", \"2018-06-28\", \"2018-06-29\", \"2018-07-02\", \"2018-07-03\", \"2018-07-05\", \"2018-07-06\", \"2018-07-09\", \"2018-07-10\", \"2018-07-11\", \"2018-07-12\", \"2018-07-13\", \"2018-07-16\", \"2018-07-17\", \"2018-07-18\", \"2018-07-19\", \"2018-07-20\", \"2018-07-23\", \"2018-07-24\", \"2018-07-25\", \"2018-07-26\", \"2018-07-27\", \"2018-07-30\", \"2018-07-31\", \"2018-08-01\", \"2018-08-02\", \"2018-08-03\", \"2018-08-06\", \"2018-08-07\", \"2018-08-08\", \"2018-08-09\", \"2018-08-10\", \"2018-08-13\", \"2018-08-14\", \"2018-08-15\", \"2018-08-16\", \"2018-08-17\", \"2018-08-20\", \"2018-08-21\", \"2018-08-22\", \"2018-08-23\", \"2018-08-24\", \"2018-08-27\", \"2018-08-28\", \"2018-08-29\", \"2018-08-30\", \"2018-08-31\", \"2018-09-04\", \"2018-09-05\", \"2018-09-06\", \"2018-09-07\", \"2018-09-10\", \"2018-09-11\", \"2018-09-12\", \"2018-09-13\", \"2018-09-14\", \"2018-09-17\", \"2018-09-18\", \"2018-09-19\", \"2018-09-20\", \"2018-09-21\", \"2018-09-24\", \"2018-09-25\", \"2018-09-26\", \"2018-09-27\", \"2018-09-28\", \"2018-10-01\", \"2018-10-02\", \"2018-10-03\", \"2018-10-04\", \"2018-10-05\", \"2018-10-08\", \"2018-10-09\", \"2018-10-10\", \"2018-10-11\", \"2018-10-12\", \"2018-10-15\", \"2018-10-16\", \"2018-10-17\", \"2018-10-18\", \"2018-10-19\", \"2018-10-22\", \"2018-10-23\", \"2018-10-24\", \"2018-10-25\", \"2018-10-26\", \"2018-10-29\", \"2018-10-30\", \"2018-10-31\", \"2018-11-01\", \"2018-11-02\", \"2018-11-05\", \"2018-11-06\", \"2018-11-07\", \"2018-11-08\", \"2018-11-09\", \"2018-11-12\", \"2018-11-13\", \"2018-11-14\", \"2018-11-15\", \"2018-11-16\", \"2018-11-19\", \"2018-11-20\", \"2018-11-21\", \"2018-11-23\", \"2018-11-26\", \"2018-11-27\", \"2018-11-28\", \"2018-11-29\", \"2018-11-30\", \"2018-12-03\", \"2018-12-04\", \"2018-12-06\", \"2018-12-07\", \"2018-12-10\", \"2018-12-11\", \"2018-12-12\", \"2018-12-13\", \"2018-12-14\", \"2018-12-17\", \"2018-12-18\", \"2018-12-19\", \"2018-12-20\", \"2018-12-21\", \"2018-12-24\", \"2018-12-26\", \"2018-12-27\", \"2018-12-28\", \"2018-12-31\", \"2019-01-02\", \"2019-01-03\", \"2019-01-04\", \"2019-01-07\", \"2019-01-08\", \"2019-01-09\", \"2019-01-10\", \"2019-01-11\", \"2019-01-14\", \"2019-01-15\", \"2019-01-16\", \"2019-01-17\", \"2019-01-18\", \"2019-01-22\", \"2019-01-23\", \"2019-01-24\", \"2019-01-25\", \"2019-01-28\", \"2019-01-29\", \"2019-01-30\", \"2019-01-31\", \"2019-02-01\", \"2019-02-04\", \"2019-02-05\", \"2019-02-06\", \"2019-02-07\", \"2019-02-08\", \"2019-02-11\", \"2019-02-12\", \"2019-02-13\", \"2019-02-14\", \"2019-02-15\", \"2019-02-19\", \"2019-02-20\", \"2019-02-21\", \"2019-02-22\", \"2019-02-25\", \"2019-02-26\", \"2019-02-27\", \"2019-02-28\", \"2019-03-01\", \"2019-03-04\", \"2019-03-05\", \"2019-03-06\", \"2019-03-07\", \"2019-03-08\", \"2019-03-11\", \"2019-03-12\", \"2019-03-13\", \"2019-03-14\", \"2019-03-15\", \"2019-03-18\", \"2019-03-19\", \"2019-03-20\", \"2019-03-21\", \"2019-03-22\", \"2019-03-25\", \"2019-03-26\", \"2019-03-27\", \"2019-03-28\", \"2019-03-29\", \"2019-04-01\", \"2019-04-02\", \"2019-04-03\", \"2019-04-04\", \"2019-04-05\", \"2019-04-08\", \"2019-04-09\", \"2019-04-10\", \"2019-04-11\", \"2019-04-12\", \"2019-04-15\", \"2019-04-16\", \"2019-04-17\", \"2019-04-18\", \"2019-04-22\", \"2019-04-23\", \"2019-04-24\", \"2019-04-25\", \"2019-04-26\", \"2019-04-29\", \"2019-04-30\", \"2019-05-01\", \"2019-05-02\", \"2019-05-03\", \"2019-05-06\", \"2019-05-07\", \"2019-05-08\", \"2019-05-09\", \"2019-05-10\", \"2019-05-13\", \"2019-05-14\", \"2019-05-15\", \"2019-05-16\", \"2019-05-17\", \"2019-05-20\", \"2019-05-21\", \"2019-05-22\", \"2019-05-23\", \"2019-05-24\", \"2019-05-28\", \"2019-05-29\", \"2019-05-30\", \"2019-05-31\", \"2019-06-03\", \"2019-06-04\", \"2019-06-05\", \"2019-06-06\", \"2019-06-07\", \"2019-06-10\", \"2019-06-11\", \"2019-06-12\", \"2019-06-13\", \"2019-06-14\", \"2019-06-17\", \"2019-06-18\", \"2019-06-19\", \"2019-06-20\", \"2019-06-21\", \"2019-06-24\", \"2019-06-25\", \"2019-06-26\", \"2019-06-27\", \"2019-06-28\", \"2019-07-01\", \"2019-07-02\", \"2019-07-03\", \"2019-07-05\", \"2019-07-08\", \"2019-07-09\", \"2019-07-10\", \"2019-07-11\", \"2019-07-12\", \"2019-07-15\", \"2019-07-16\", \"2019-07-17\", \"2019-07-18\", \"2019-07-19\", \"2019-07-22\", \"2019-07-23\", \"2019-07-24\", \"2019-07-25\", \"2019-07-26\", \"2019-07-29\", \"2019-07-30\", \"2019-07-31\", \"2019-08-01\", \"2019-08-02\", \"2019-08-05\", \"2019-08-06\", \"2019-08-07\", \"2019-08-08\", \"2019-08-09\", \"2019-08-12\", \"2019-08-13\", \"2019-08-14\", \"2019-08-15\", \"2019-08-16\", \"2019-08-19\", \"2019-08-20\", \"2019-08-21\", \"2019-08-22\", \"2019-08-23\", \"2019-08-26\", \"2019-08-27\", \"2019-08-28\", \"2019-08-29\", \"2019-08-30\", \"2019-09-03\", \"2019-09-04\", \"2019-09-05\", \"2019-09-06\", \"2019-09-09\", \"2019-09-10\", \"2019-09-11\", \"2019-09-12\", \"2019-09-13\", \"2019-09-16\", \"2019-09-17\", \"2019-09-18\", \"2019-09-19\", \"2019-09-20\", \"2019-09-23\", \"2019-09-24\", \"2019-09-25\", \"2019-09-26\", \"2019-09-27\", \"2019-09-30\", \"2019-10-01\", \"2019-10-02\", \"2019-10-03\", \"2019-10-04\", \"2019-10-07\", \"2019-10-08\", \"2019-10-09\", \"2019-10-10\", \"2019-10-11\", \"2019-10-14\", \"2019-10-15\", \"2019-10-16\", \"2019-10-17\", \"2019-10-18\", \"2019-10-21\", \"2019-10-22\", \"2019-10-23\", \"2019-10-24\", \"2019-10-25\", \"2019-10-28\", \"2019-10-29\", \"2019-10-30\", \"2019-10-31\", \"2019-11-01\", \"2019-11-04\", \"2019-11-05\", \"2019-11-06\", \"2019-11-07\", \"2019-11-08\", \"2019-11-11\", \"2019-11-12\", \"2019-11-13\", \"2019-11-14\", \"2019-11-15\", \"2019-11-18\", \"2019-11-19\", \"2019-11-20\", \"2019-11-21\", \"2019-11-22\", \"2019-11-25\", \"2019-11-26\", \"2019-11-27\", \"2019-11-29\"], \"xaxis\": \"x2\", \"y\": [118944541.0, 111579866.0, 116074402.0, 131091048.0, 126402764.0, 106375678.0, 163333432.0, 161821927.0, 115783759.0, 212283097.0, 139172635.0, 216490121.0, 344859506.0, 345942402.0, 186937468.0, 211168719.0, 271863580.0, 316103993.0, 310677592.0, 187864905.0, 216327851.0, 172730603.0, 356715612.0, 493585758.0, 224166833.0, 337820408.0, 240511495.0, 223591548.0, 304622008.0, 159317418.0, 168845041.0, 193708529.0, 222684816.0, 132346808.0, 207496924.0, 176350611.0, 259634682.0, 173589231.0, 147709644.0, 160992382.0, 150784940.0, 135770353.0, 176118769.0, 114631139.0, 154556674.0, 186088798.0, 160875844.0, 162074761.0, 146816801.0, 168672990.0, 177468085.0, 196509041.0, 226641098.0, 184477713.0, 182941554.0, 196183319.0, 223396257.0, 205808499.0, 134513501.0, 145772406.0, 161078665.0, 161215165.0, 105847602.0, 110384143.0, 184576297.0, 158703990.0, 133006493.0, 110278931.0, 125125040.0, 161608989.0, 144615226.0, 366879697.0, 217947757.0, 157707939.0, 192910086.0, 239188584.0, 177335420.0, 143457213.0, 355853771.0, 300677608.0, 193774904.0, 270000858.0, 182747817.0, 360353366.0, 328973162.0, 647316760.0, 637558734.0, 396159543.0, 317849705.0, 235607027.0, 234456089.0, 345602060.0, 325943991.0, 360595878.0, 394759527.0, 530423626.0, 500909335.0, 269822997.0, 396505132.0, 349719279.0, 300870473.0, 297933434.0, 277909392.0, 240243641.0, 226618259.0, 398475566.0, 264609061.0, 357774294.0, 268023252.0, 317890583.0, 214128107.0, 207196003.0, 238268655.0, 216373918.0, 263185740.0, 174006543.0, 213140636.0, 239355313.0, 254698722.0, 268692053.0, 238726472.0, 169333229.0, 373760407.0, 284101670.0, 382924764.0, 233385146.0, 256936431.0, 253769702.0, 210842046.0, 144999850.0, 131283538.0, 213025882.0, 184426719.0, 232337892.0, 282693306.0, 186708979.0, 258162303.0, 264526950.0, 274781292.0, 222020785.0, 182126480.0, 204855535.0, 163056171.0, 220149031.0, 220070531.0, 188263197.0, 146657242.0, 158171627.0, 140473721.0, 239728279.0, 120800381.0, 242916211.0, 273408176.0, 239542543.0, 158698476.0, 147895278.0, 172270222.0, 182922040.0, 265847589.0, 209714149.0, 163490258.0, 280795568.0, 272330717.0, 224492677.0, 272704063.0, 167238558.0, 273933006.0, 267834949.0, 156112147.0, 212197260.0, 141973690.0, 150268927.0, 147017889.0, 127818961.0, 178503456.0, 209823581.0, 168608341.0, 199962858.0, 195836810.0, 214786712.0, 268632440.0, 191322353.0, 202354235.0, 209671704.0, 128799460.0, 209207409.0, 179665724.0, 287106609.0, 174638619.0, 166153198.0, 229634076.0, 148626519.0, 164859971.0, 177760079.0, 103098291.0, 182209984.0, 194347147.0, 217764255.0, 243704938.0, 141502179.0, 280604682.0, 200051747.0, 221546107.0, 108212321.0, 151145700.0, 158982885.0, 190023965.0, 168575989.0, 144305475.0, 174074708.0, 158345856.0, 226702775.0, 215039313.0, 180654096.0, 155901614.0, 186621575.0, 221387386.0, 158017547.0, 239068789.0, 163940710.0, 300331917.0, 172308826.0, 197723674.0, 156852807.0, 181592166.0, 222308913.0, 140159033.0, 76007704.0, 223642224.0, 233930639.0, 221037149.0, 191213570.0, 151288823.0, 103050459.0, 206580946.0, 138019177.0, 123705049.0, 117571625.0, 133812609.0, 147249532.0, 160823010.0, 185035177.0, 141075278.0, 119085459.0, 94965438.0, 78878090.0, 70079275.0, 58125974.0, 55309010.0, 58033036.0, 76616846.0, 91270271.0, 138725191.0, 137409675.0, 133975250.0, 122518970.0, 156034587.0, 122401644.0, 110286968.0, 107929135.0, 129229132.0, 117677857.0, 114401252.0, 151958324.0, 175745603.0, 151462880.0, 113715455.0, 167552153.0, 141281439.0, 123302633.0, 295637223.0, 149249105.0, 167194214.0, 118323602.0, 145886611.0, 134634710.0, 112439030.0, 99072704.0, 146436606.0, 162708478.0, 137716436.0, 101691100.0, 119575387.0, 130183448.0, 109810420.0, 130002330.0, 233116375.0, 227610100.0, 260467041.0, 141693837.0, 141600773.0, 258582270.0, 200277834.0, 176485166.0, 277371473.0, 216888931.0, 174706407.0, 153903463.0, 301665703.0, 225758504.0, 235607778.0, 359794831.0, 469160630.0, 254521638.0, 230654390.0, 154065282.0, 129743412.0, 148648724.0, 159238287.0, 155769995.0, 109839083.0, 129844555.0, 135895860.0, 132756530.0, 154038917.0, 100773342.0, 121083840.0, 120453617.0, 170973204.0, 148014798.0, 121518486.0, 161480682.0, 162172967.0, 161271236.0, 170146610.0, 210908208.0, 124321889.0, 156473001.0, 136214509.0, 65760002.0, 146658425.0, 143104801.0, 124865764.0, 115094350.0, 126310033.0, 138445808.0, 182821163.0, 227065699.0, 222951264.0, 114134435.0, 114886994.0, 193745610.0, 171648128.0, 157499081.0, 141770642.0, 192852310.0, 135228138.0, 119584847.0, 182638302.0, 168799987.0, 147200295.0, 151102185.0, 164984594.0, 120921858.0, 164731167.0, 233094277.0, 200466729.0, 234690124.0, 179951146.0, 161805954.0, 198696304.0, 160964350.0, 238629307.0, 207599751.0, 160570345.0, 300957945.0, 308038426.0, 234996065.0, 159478911.0, 193157234.0, 176886453.0, 334286827.0, 226129358.0, 168908174.0, 165556257.0, 244295405.0, 223496512.0, 202385636.0, 165935968.0, 143332679.0, 170464164.0, 194171492.0, 195918544.0, 214675640.0, 204062545.0, 226111747.0, 220124620.0, 196872076.0, 166554896.0, 137145310.0, 245270290.0, 126019327.0, 136653703.0, 131278113.0, 249020022.0, 207939900.0, 307042469.0, 325790824.0, 346653757.0, 371029415.0, 520721783.0, 655561584.0, 702263849.0, 717828611.0, 662607378.0, 487979673.0, 313731600.0, 258810580.0, 294095199.0, 238201070.0, 512956218.0, 428281241.0, 275090591.0, 331136599.0, 246869675.0, 312365337.0, 314495833.0, 190977185.0, 241315666.0, 301828304.0, 254585844.0, 255517200.0, 285142737.0, 209803113.0, 250568194.0, 380195064.0, 305793438.0, 272514654.0, 319389428.0, 326777105.0, 284528213.0, 241516921.0, 218932124.0, 316251215.0, 513920097.0, 307242488.0, 260673617.0, 311753819.0, 286696748.0, 298108816.0, 288685511.0, 365136777.0, 459177456.0, 284107995.0, 257800742.0, 312657900.0, 230666207.0, 209087953.0, 281544827.0, 212538802.0, 211397567.0, 202311559.0, 318857857.0, 226601263.0, 262075598.0, 278999360.0, 203215563.0, 268596749.0, 289053783.0, 343800151.0, 225906497.0, 228146632.0, 416565738.0, 245529375.0, 291174800.0, 249401512.0, 196617175.0, 224426217.0, 337981970.0, 231866470.0, 189924327.0, 159258229.0, 184709388.0, 235782466.0, 331219799.0, 215580353.0, 229611599.0, 216494841.0, 224531653.0, 99556980.0, 210686012.0, 199241491.0, 324439457.0, 176954756.0, 221109692.0, 225263845.0, 178842040.0, 237802476.0, 240862724.0, 209111336.0, 215826054.0, 245159708.0, 238618786.0, 199109123.0, 220481303.0, 183902965.0, 225418075.0, 194230879.0, 119465303.0, 92187159.0, 86075701.0, 119107005.0, 123507123.0, 95598996.0, 193697825.0, 127186456.0, 173894933.0, 148049929.0, 99530109.0, 115281921.0, 111540673.0, 118983646.0, 179836140.0, 132209191.0, 163395122.0, 126328814.0, 138230146.0, 129295759.0, 103083260.0, 198613161.0, 184880478.0, 135259033.0, 147311730.0, 157211918.0, 166234457.0, 113090345.0, 160598487.0, 107694459.0, 135528071.0, 139361385.0, 148602826.0, 167907482.0, 115841819.0, 165996154.0, 195195094.0, 186567742.0, 129869401.0, 134042271.0, 124455245.0, 137704236.0, 105539083.0, 145728833.0, 129355808.0, 185934689.0, 145026117.0, 120638224.0, 140764992.0, 202129838.0, 143692128.0, 116968812.0, 122836765.0, 104003471.0, 184090417.0, 145163502.0, 165118448.0, 152893405.0, 125291026.0, 121729639.0, 122388401.0, 135216691.0, 120520956.0, 120163949.0, 119868421.0, 148562025.0, 164963645.0, 135486715.0, 151741045.0, 155806609.0, 146895936.0, 137439344.0, 127555857.0, 235360256.0, 154132907.0, 154321489.0, 169246612.0, 147825217.0, 147877575.0, 123884187.0, 198666751.0, 143199560.0, 171844860.0, 137484192.0, 150254995.0, 136292712.0, 124639054.0, 115092198.0, 138837314.0, 121080935.0, 143762703.0, 193931300.0, 127765875.0, 213383873.0, 220778190.0, 150600916.0, 153032360.0, 163909908.0, 207629260.0, 207265560.0, 247992908.0, 319631058.0, 177861071.0, 197531138.0, 204958303.0, 167357599.0, 135465568.0, 152883408.0, 162370365.0, 196186175.0, 253244993.0, 202548253.0, 164149384.0, 184202757.0, 184772672.0, 143915630.0, 169756044.0, 181931736.0, 172223884.0, 230616235.0, 169444421.0, 131365459.0, 137382532.0, 206466600.0, 205272317.0, 130029174.0, 146375688.0, 141633945.0, 108087938.0, 169242658.0, 212251060.0, 129524407.0, 80450171.0, 126177419.0, 151192025.0, 103780468.0, 167884796.0, 141734024.0, 143583154.0, 129644147.0, 97525191.0, 138860218.0, 113349636.0, 129847218.0, 142904464.0, 145210831.0, 173301102.0, 129122265.0, 156526464.0, 236768882.0, 106781926.0, 120575835.0, 138293740.0, 199556580.0, 157824975.0, 86327738.0, 109545089.0, 89754633.0, 90291642.0, 99792622.0, 79426869.0, 102379363.0, 71085811.0, 112014164.0, 90813666.0, 78255657.0, 105581009.0, 133243431.0, 111466361.0, 99481192.0, 68785850.0, 75689536.0, 65421300.0, 96589830.0, 151970364.0, 120226199.0, 100660254.0, 158272434.0, 107272023.0, 86458407.0, 88759995.0, 87640880.0, 225470102.0, 169776992.0, 119427726.0, 98326520.0, 128318257.0, 154009764.0, 108737426.0, 95681978.0, 133165138.0, 146502136.0, 111830276.0, 150696066.0, 135911137.0, 113422151.0, 121283027.0, 124311599.0, 124842048.0, 78415562.0, 148872811.0, 124247412.0, 123601455.0, 124181900.0, 107689051.0, 108815410.0, 128834057.0, 148108412.0, 185645112.0, 125578601.0, 192056293.0, 120179305.0, 134457331.0, 146023428.0, 103438492.0, 100995566.0, 137702120.0, 98378432.0, 107068091.0, 264304430.0, 181517243.0, 201055214.0, 97677409.0, 123018209.0, 191504916.0, 178128354.0, 239483819.0, 151495731.0, 119807381.0, 81710736.0, 65409145.0, 100124325.0, 128646177.0, 177086443.0, 151085880.0, 136568288.0, 124656283.0, 127622507.0, 147300444.0, 103220533.0, 108726325.0, 98840667.0, 152570378.0, 145880026.0, 135714940.0, 137701692.0, 143735755.0, 177762727.0, 150895322.0, 168486930.0, 245883785.0, 53874548.0, 106947663.0, 167920546.0, 148806608.0, 243952162.0, 192058911.0, 144761781.0, 116817675.0, 110002444.0, 121265078.0, 90745581.0, 130735372.0, 113917286.0, 89567104.0, 93172559.0, 104849487.0, 133833420.0, 169905915.0, 111797291.0, 104596066.0, 146426315.0, 147216088.0, 113357611.0, 105694364.0, 137447625.0, 108975801.0, 131172997.0, 159073559.0, 113912334.0, 138762719.0, 162489974.0, 103133681.0, 73774925.0, 65392613.0, 82322561.0, 80834206.0, 215226408.0, 95105396.0, 160574782.0, 183256921.0, 106356525.0, 245824757.0, 186596178.0, 150781872.0, 126865910.0, 170634729.0, 99010157.0, 121663035.0, 94469849.0, 86101309.0, 123487628.0, 83746703.0, 105755706.0, 92550856.0, 126329853.0, 138601089.0, 126704266.0, 167567263.0, 113759222.0, 128604916.0, 111163530.0, 151322280.0, 86856545.0, 99950532.0, 102932783.0, 99194043.0, 101504286.0, 154167332.0, 131884920.0, 159665917.0, 86571104.0, 101922102.0, 135711015.0, 110142479.0, 116359817.0, 217258928.0, 147507796.0, 226834743.0, 167583106.0, 149687552.0, 106553422.0, 166141269.0, 96781189.0, 131060567.0, 95918776.0, 88572702.0, 116010614.0, 138874120.0, 96407564.0, 144202220.0, 66882091.0, 90359178.0, 97419172.0, 106738550.0, 103202902.0, 81843160.0, 119000837.0, 120718433.0, 109913544.0, 129801000.0, 85071182.0, 95804190.0, 244031724.0, 211064320.0, 151573867.0, 143679738.0, 160363334.0, 107793730.0, 176850020.0, 168390676.0, 157631425.0, 211737712.0, 200225418.0, 188337725.0, 105667060.0, 159505378.0, 177363530.0, 163587777.0, 141197468.0, 136295578.0, 114695519.0, 206149463.0, 321255850.0, 271956728.0, 222334758.0, 162262138.0, 134847909.0, 129483673.0, 160402823.0, 131954792.0, 154863617.0, 75216341.0, 122416847.0, 108092440.0, 119297903.0, 121410362.0, 135592163.0, 104212650.0, 69450551.0, 88702093.0, 92873880.0, 103620266.0, 103831633.0, 79428559.0, 80829656.0, 112913979.0, 111156540.0, 107814531.0, 79845115.0, 85216968.0, 142388621.0, 110438393.0, 91116603.0, 54072643.0, 87494967.0, 84854618.0, 102181229.0, 91856453.0, 68593204.0, 80806030.0, 79829169.0, 152931740.0, 130868145.0, 96437569.0, 89294374.0, 159530482.0, 101471352.0, 90893581.0, 89705051.0, 158621736.0, 108112952.0, 119200461.0, 134928918.0, 142375036.0, 97389357.0, 63090428.0, 159756439.0, 87559246.0, 105847733.0, 94545837.0, 83208998.0, 72727764.0, 126187482.0, 82523205.0, 203460601.0, 146616842.0, 132867912.0, 104616418.0, 106333010.0, 117306473.0, 77146878.0, 99141710.0, 143937398.0, 127160442.0, 113349748.0, 176698430.0, 96878377.0, 96295115.0, 178014932.0, 168972837.0, 195954729.0, 105039740.0, 112106394.0, 155484509.0, 161676079.0, 129389185.0, 138315691.0, 104103543.0, 126663233.0, 105484397.0, 70350456.0, 93625090.0, 84979018.0, 87401344.0, 140001834.0, 133795417.0, 142805050.0, 85676773.0, 85824778.0, 87347728.0, 157000422.0, 136712623.0, 62614326.0, 83989617.0, 103844266.0, 103435238.0, 102818190.0, 104796009.0, 93891416.0, 124908601.0, 92841271.0, 81295887.0, 79485709.0, 86993560.0, 58800056.0, 55870903.0, 99725781.0, 116563302.0, 123032637.0, 106934067.0, 127727518.0, 70123608.0, 80976207.0, 130590810.0, 115564840.0, 107807610.0, 96194790.0, 89886224.0, 234906482.0, 136298872.0, 197086908.0, 85597541.0, 45368841.0, 63365227.0, 61813841.0, 56857458.0, 86247638.0, 119636836.0, 81390502.0, 108028139.0, 86144169.0, 96582234.0, 90683302.0, 102026318.0, 149891938.0, 105016055.0, 98525721.0, 72290520.0, 107848616.0, 88621138.0, 61270816.0, 132496880.0, 208677093.0, 180843004.0, 110463152.0, 216597269.0, 118938051.0, 194677861.0, 254837004.0, 165012351.0, 164230470.0, 132877526.0, 170787197.0, 92218729.0, 117814009.0, 94717638.0, 100542155.0, 96498305.0, 80460878.0, 126524261.0, 104998099.0, 118116359.0, 114063868.0, 117084901.0, 98677144.0, 93880780.0, 150842000.0, 167748455.0, 167545852.0, 88376859.0, 82516500.0, 114513432.0, 74939176.0, 99009013.0, 104824323.0, 155014237.0, 153919598.0, 98359454.0, 101804519.0, 176267253.0, 117240972.0, 163127905.0, 121411145.0, 103851737.0, 119842897.0, 142382757.0, 101641547.0, 99744911.0, 89193125.0, 78773818.0, 77435320.0, 169380705.0, 140802699.0, 112659755.0, 100253612.0, 172959331.0, 167250792.0, 132381601.0, 157092533.0, 105196633.0, 105254649.0, 68329343.0, 85790307.0, 73869384.0, 88169916.0, 100380205.0, 135121094.0, 84097551.0, 101507717.0, 93019095.0, 98121662.0, 75882739.0, 85454226.0, 106500480.0, 93617513.0, 83678568.0, 86940045.0, 66453965.0, 72366848.0, 154956399.0, 97457678.0, 63839398.0, 111644478.0, 89093285.0, 61549345.0, 60156088.0, 72010355.0, 66722865.0, 64376573.0, 76315640.0, 64655648.0, 65047193.0, 55529372.0, 92102592.0, 78696219.0, 65118828.0, 57129440.0, 68772479.0, 106350200.0, 82017278.0, 87424332.0, 84833876.0, 105266767.0, 85928920.0, 100587108.0, 70611486.0, 96236917.0, 82781912.0, 84311822.0, 71453616.0, 70504228.0, 90470121.0, 52474832.0, 52938832.0, 61696447.0, 108142552.0, 72992322.0, 99040407.0, 64243410.0, 58657919.0, 111346230.0, 80073242.0, 145398459.0, 124330419.0, 67591618.0, 67677602.0, 65611830.0, 56888093.0, 76837257.0, 69258785.0, 80466351.0, 104222452.0, 183479441.0, 189260864.0, 91340487.0, 152690379.0, 94818317.0, 135733421.0, 117014384.0, 74543691.0, 73631640.0, 69046544.0, 57370793.0, 139950669.0, 75424360.0, 59134709.0, 72762541.0, 67790690.0, 76107359.0, 63855022.0, 47298324.0, 47873708.0, 58330373.0, 65906598.0, 72425793.0, 57461742.0, 85236442.0, 102176784.0, 64145745.0, 88590876.0, 67251103.0, 66823558.0, 117478516.0, 76401421.0, 116200722.0, 151265896.0, 94990300.0, 121649147.0, 125552758.0, 111393319.0, 107275635.0, 150300028.0, 103546740.0, 95111605.0, 131302082.0, 177797862.0, 157285182.0, 121568769.0, 104778335.0, 147913498.0, 186461453.0, 210704601.0, 221908954.0, 230938833.0, 215846527.0, 380714598.0, 270391488.0, 214624921.0, 130010813.0, 154948579.0, 151822409.0, 154944169.0, 117927286.0, 82953689.0, 106735936.0, 142557417.0, 113329976.0, 146902554.0, 93734143.0, 93342777.0, 91708574.0, 107089076.0, 89539712.0, 66318964.0, 54499375.0, 90120295.0, 85357918.0, 80417514.0, 80440954.0, 76068107.0, 82373009.0, 72840326.0, 142327285.0, 65880759.0, 79108301.0, 62167832.0, 57890088.0, 103968354.0, 74507192.0, 68951968.0, 91316591.0, 91025470.0, 108588152.0, 125180054.0, 159856394.0, 159012805.0, 202330191.0, 189965750.0, 259543848.0, 253910092.0, 257633887.0, 245084590.0, 148318934.0, 122167931.0, 42963399.0, 57326703.0, 79643948.0, 73540761.0, 130333829.0, 121465865.0, 169632646.0, 209151408.0, 125346709.0, 147217784.0, 158567288.0, 144396067.0, 214553306.0, 192991092.0, 176613906.0, 211879605.0, 130991069.0, 122942707.0, 174356029.0, 117516753.0, 92009711.0, 134044598.0, 168514312.0, 173585424.0, 197729724.0, 163106969.0, 124212881.0, 134306728.0, 97953181.0, 125672026.0, 87219016.0, 96164183.0, 91087785.0, 97545949.0, 93670430.0, 76968199.0, 80652941.0, 91462491.0, 140896392.0, 74411054.0, 72472263.0, 73061687.0, 72697868.0, 108075972.0, 87491428.0, 110325809.0, 114497192.0, 76872957.0, 188127982.0, 89818893.0, 157121263.0, 110145718.0, 93993523.0, 162410893.0, 136099192.0, 94510422.0, 228808524.0, 117917302.0, 177715081.0, 71784536.0, 77805321.0, 159521708.0, 153067241.0, 118938966.0, 96180365.0, 126768703.0, 137303584.0, 86900906.0, 114368155.0, 81236337.0, 89351939.0, 85548854.0, 72722915.0, 74436594.0, 75099866.0, 99529320.0, 68934864.0, 191113230.0, 92189481.0, 72559831.0, 78264616.0, 102585942.0, 61327387.0, 79358126.0, 86863531.0, 125684903.0, 161304890.0, 103399711.0, 70927235.0, 113326156.0, 135060151.0, 88244940.0, 155877260.0, 75708065.0, 119727592.0, 94667943.0, 95934006.0, 76510099.0, 74549685.0, 72114610.0, 76857530.0, 64764585.0, 57433495.0, 124308584.0, 93213981.0, 74974560.0, 124919611.0, 93338750.0, 91531012.0, 87820909.0, 151882820.0, 121704676.0, 89063330.0, 105034690.0, 134551285.0, 73876447.0, 135382369.0, 124384184.0, 85308227.0, 126708635.0, 165867949.0, 130478689.0, 70696027.0, 68476797.0, 92307318.0, 97107361.0, 104174840.0, 202621332.0, 182925106.0, 135979873.0, 104373652.0, 117975369.0, 173820249.0, 164020059.0, 144113107.0, 129456890.0, 106069400.0, 81709575.0, 97914141.0, 106683266.0, 89029973.0, 70446821.0, 77965048.0, 88667920.0, 90509128.0, 117754979.0, 132361082.0, 123544845.0, 105791255.0, 91304374.0, 103266857.0, 113965728.0, 81820823.0, 85786817.0, 116030803.0, 117857956.0, 80270676.0, 126081377.0, 172123672.0, 89383253.0, 72786528.0, 79072643.0, 71692678.0, 172945975.0, 194327884.0, 346588469.0, 507244333.0, 369833071.0, 339256986.0, 274143906.0, 160414352.0, 163298816.0, 256000392.0, 160269331.0, 152087836.0, 207080961.0, 116025739.0, 149347735.0, 158611063.0, 119691212.0, 79451983.0, 113806176.0, 99581557.0, 276046618.0, 223657456.0, 105726209.0, 153890876.0, 92790620.0, 159378840.0, 155054777.0, 178515871.0, 159045572.0, 163452044.0, 131078964.0, 211003342.0, 126320842.0, 110274530.0, 124307295.0, 153055231.0, 107069240.0, 56395585.0, 88038718.0, 99106161.0, 134142195.0, 114580052.0, 76523897.0, 78448484.0, 102038033.0, 174911723.0, 144442340.0, 69032965.0, 77905770.0, 135906725.0, 90525498.0, 131076942.0, 86270811.0, 95246052.0, 96224477.0, 78408744.0, 110471473.0, 131008660.0, 75874602.0, 67845971.0, 121315200.0, 153577050.0, 117645231.0, 121123744.0, 121342544.0, 88220465.0, 94011519.0, 64931172.0, 98874365.0, 51980062.0, 37317779.0, 112822700.0, 97858418.0, 108441259.0, 166224154.0, 192913879.0, 102027111.0, 103372367.0, 162401537.0, 116128884.0, 211173305.0, 182385177.0, 154069569.0, 197017008.0, 173092476.0, 251393535.0, 99094290.0, 111026246.0, 110987228.0, 48542150.0, 65899939.0, 92640672.0, 63317679.0, 114877859.0, 222353534.0, 110845849.0, 152112604.0, 213436073.0, 209817228.0, 187941323.0, 172330490.0, 221168886.0, 240795609.0, 324846447.0, 195244373.0, 286547839.0, 195772941.0, 168319598.0, 130371686.0, 141036757.0, 185681707.0, 143798780.0, 210529336.0, 136061564.0, 182564890.0, 205054934.0, 139531794.0, 180788308.0, 191526694.0, 184513136.0, 148214057.0, 219058885.0, 127632393.0, 120250668.0, 136009496.0, 102342997.0, 114792988.0, 103640292.0, 111455289.0, 150812152.0, 110728317.0, 129833663.0, 125918102.0, 141799687.0, 102414960.0, 95172197.0, 129293601.0, 100218998.0, 123974866.0, 94801213.0, 156838697.0, 137964528.0, 73611974.0, 93169090.0, 129303179.0, 134278505.0, 138372404.0, 72926659.0, 97471939.0, 81052455.0, 84360853.0, 62408185.0, 92922863.0, 86365310.0, 94584110.0, 114423478.0, 63496969.0, 99662158.0, 91839761.0, 113859037.0, 95040598.0, 83757486.0, 115350567.0, 96336433.0, 65212883.0, 75761615.0, 82530960.0, 88316060.0, 81100314.0, 85695041.0, 99251724.0, 66166494.0, 75864174.0, 77329437.0, 97216169.0, 142424137.0, 62188015.0, 106422142.0, 92243810.0, 67619222.0, 89315004.0, 74374922.0, 77472207.0, 81726989.0, 89586308.0, 96474630.0, 77486827.0, 114924940.0, 123493379.0, 115430507.0, 104990408.0, 58682576.0, 93537808.0, 79221525.0, 55280699.0, 64211214.0, 109879380.0, 69936215.0, 63044749.0, 101757126.0, 64887045.0, 60974761.0, 66170920.0, 73786869.0, 113829158.0, 117751153.0, 125059286.0, 109124496.0, 149533065.0, 117055748.0, 82789603.0, 72461663.0, 95560471.0, 102731356.0, 333444397.0, 248988660.0, 159382399.0, 137328614.0, 165021948.0, 106055333.0, 109803713.0, 96021491.0, 85593827.0, 133970972.0, 73633937.0, 101275629.0, 87324129.0, 91230870.0, 107155401.0, 58725918.0, 54345728.0, 58159457.0, 67777310.0, 62787477.0, 55873147.0, 70080493.0, 84083893.0, 65035718.0, 79519436.0, 73311422.0, 92295506.0, 53993626.0, 46585528.0, 71892161.0, 39906479.0, 51251728.0, 57941092.0, 72504270.0, 61313544.0, 49813482.0, 53213621.0, 75134339.0, 52989266.0, 75443004.0, 61368766.0, 53399159.0, 71728949.0, 69224776.0, 122506348.0, 70502167.0, 58114543.0, 85269453.0, 97844207.0, 79293856.0, 56702089.0, 76554855.0, 74102880.0, 221589073.0, 168110913.0, 182828839.0, 134185491.0, 145736123.0, 155236354.0, 80250490.0, 69665279.0, 110284425.0, 76678713.0, 73630921.0, 89827305.0, 78494829.0, 87411015.0, 128070615.0, 117202914.0, 83512057.0, 119948052.0, 72815963.0, 62927376.0, 89788255.0, 51855023.0, 130367373.0, 73866117.0, 101356960.0, 93346237.0, 58275674.0, 76869656.0, 66519224.0, 73639830.0, 89089092.0, 60146592.0, 66542329.0, 75705478.0, 77220213.0, 140623183.0, 61272507.0, 122781818.0, 103330806.0, 88939346.0, 109122059.0, 109794861.0, 106772138.0, 258428972.0, 172113313.0, 100552732.0, 94579982.0, 91652580.0, 65617697.0, 69797191.0, 86265751.0, 72402638.0, 67428957.0, 56620237.0, 37872255.0, 76572511.0, 69886690.0, 113291793.0, 79040487.0, 74840347.0, 67837821.0, 59877377.0, 110738050.0, 99714387.0, 88005766.0, 102016125.0, 110477485.0, 142501812.0, 124972554.0, 156420152.0, 90341147.0, 89838810.0, 67909039.0, 56219071.0, 36697822.0, 42672487.0, 64095014.0, 48696080.0, 108998328.0, 91366522.0, 78744433.0, 78379012.0, 71559922.0, 46939676.0, 63771939.0, 74650016.0, 72113181.0, 62717865.0, 61240814.0, 54793302.0, 66608787.0, 129168623.0, 75061645.0, 95555295.0, 84437712.0, 59970719.0, 59711118.0, 79737252.0, 75880805.0, 79117651.0, 69657560.0, 80563168.0, 57790108.0, 57931151.0, 51566218.0, 65955245.0, 66015892.0, 55182050.0, 71108983.0, 86785826.0, 84722437.0, 77204104.0, 88946051.0, 62115185.0, 74615902.0, 82381612.0, 56515440.0, 96961938.0, 149158170.0, 70245978.0, 81974300.0, 55391533.0, 65103737.0, 78168795.0, 90683918.0, 81991652.0, 57256824.0, 59880778.0, 96081750.0, 78343951.0, 89002111.0, 52536979.0, 131809275.0, 97569204.0, 100410277.0, 112504853.0, 87454452.0, 93483915.0, 61950354.0, 56737890.0, 73733094.0, 85546486.0, 56466195.0, 108800604.0, 69135757.0, 74412311.0, 67615302.0, 88045276.0, 81864436.0, 92880394.0, 68405367.0, 83225821.0, 68699868.0, 92572186.0, 110389847.0, 119209877.0, 76698265.0, 84702455.0, 57410326.0, 63532845.0, 66882521.0, 57375732.0, 73137731.0, 61462732.0, 62001269.0, 48385730.0, 51363200.0, 54293799.0, 62358346.0, 53912730.0, 61918937.0, 51241791.0, 172174107.0, 107047656.0, 115011373.0, 61010602.0, 48341683.0, 49181099.0, 64071661.0, 46629905.0, 35201897.0, 91796016.0, 68962024.0, 88666128.0, 44698825.0, 50375430.0, 54144311.0, 65950691.0, 132256362.0, 86108102.0, 60066953.0, 78602311.0, 66464888.0, 84553097.0, 65123802.0, 56906368.0, 55977569.0, 44148059.0, 66986801.0, 56700477.0, 82247666.0, 70042599.0, 106949719.0, 86820694.0, 39153806.0, 54427596.0, 66115317.0, 57972268.0, 36663274.0, 50354614.0, 59610405.0, 39471637.0, 60262692.0, 33531917.0, 42742498.0, 51034260.0, 47135183.0, 88711019.0, 46622256.0, 54915591.0, 47575422.0, 70766568.0, 50088359.0, 65838659.0, 55050401.0, 47211216.0, 40855997.0, 60191838.0, 31995021.0, 61719353.0, 62632619.0, 120479470.0, 74869947.0, 73291919.0, 55242746.0, 56715544.0, 128490396.0, 136747986.0, 65469736.0, 63140101.0, 50203837.0, 50741671.0, 64445912.0, 40565606.0, 51135715.0, 62030805.0, 103803880.0, 62006989.0, 91398777.0, 57916867.0, 58034730.0, 63832825.0, 71364848.0, 56896027.0, 59228002.0, 95446349.0, 95432382.0, 46235238.0, 47108148.0, 59574083.0, 48211398.0, 51214032.0, 57064357.0, 54081959.0, 81001426.0, 44778841.0, 85578002.0, 59022985.0, 66810169.0, 55953619.0, 63522757.0, 80645998.0, 35803138.0, 43057363.0, 47674325.0, 47065144.0, 54800435.0, 38221675.0, 31560964.0, 40888330.0, 61903788.0, 89176377.0, 63915306.0, 66935910.0, 103715291.0, 69797972.0, 85562544.0, 54285687.0, 60304781.0, 54202736.0, 56449535.0, 59589730.0, 49652598.0, 57502161.0, 50469579.0, 95085497.0, 59984662.0, 50228648.0, 61315152.0, 80811525.0, 67777027.0, 75756833.0, 48075514.0, 69176799.0, 45033392.0, 27856514.0, 52274922.0, 98971719.0, 77512102.0, 127894389.0, 164390902.0, 94040560.0, 77994544.0, 75898566.0, 77218569.0, 76563873.0, 83077533.0, 85195750.0, 102905409.0, 100666692.0, 144610290.0, 83653572.0, 82382876.0, 76751500.0, 67032339.0, 78720873.0, 45244433.0, 57750986.0, 45116139.0, 96007424.0, 86655749.0, 90070416.0, 80636408.0, 83523995.0, 57319192.0, 57253957.0, 69574318.0, 62361455.0, 90816076.0, 106555142.0, 113258799.0, 100728006.0, 140920098.0, 91322408.0, 97084700.0, 134816117.0, 84587313.0, 107743119.0, 90118337.0, 131796419.0, 118948131.0, 90102470.0, 173174790.0, 294681816.0, 355026782.0, 167376100.0, 246449505.0, 283565315.0, 143735976.0, 81223640.0, 120735685.0, 111200286.0, 160420135.0, 86369662.0, 98883740.0, 110511290.0, 92766428.0, 86491406.0, 99099165.0, 121907767.0, 176855077.0, 139083217.0, 97307387.0, 79213163.0, 87063502.0, 66901150.0, 113625335.0, 71924793.0, 91968937.0, 105895079.0, 83433038.0, 100343673.0, 109208442.0, 59757271.0, 78709578.0, 148785916.0, 183534751.0, 141956102.0, 129941445.0, 146452306.0, 124244790.0, 186286343.0, 119956861.0, 123715339.0, 82652618.0, 179521209.0, 105442932.0, 105573736.0, 91140243.0, 68890480.0, 85079176.0, 63405287.0, 64682036.0, 57303857.0, 77655909.0, 99953133.0, 65557954.0, 112885452.0, 103840948.0, 67731942.0, 57053647.0, 82182324.0, 74203365.0, 86368943.0, 136311479.0, 91222075.0, 55304907.0, 67499247.0, 59666143.0, 72063931.0, 59871511.0, 54790606.0, 87036136.0, 53942631.0, 56536400.0, 64367959.0, 58025875.0, 52966358.0, 64694184.0, 76043827.0, 56374755.0, 115908607.0, 69678449.0, 93519941.0, 71258411.0, 45385166.0, 51135038.0, 62732215.0, 72969402.0, 72139719.0, 58892515.0, 72329028.0, 79070610.0, 77097620.0, 120041562.0, 52917581.0, 97531510.0, 53785486.0, 71061404.0, 56612003.0, 137854162.0, 68683211.0, 105110674.0, 76650517.0, 97592499.0, 63554774.0, 42187071.0, 56925919.0, 66493696.0, 50550399.0, 51966829.0, 77054739.0, 60124687.0, 48234964.0, 48201038.0, 52315500.0, 44593465.0, 61412117.0, 82372729.0, 47047565.0, 68026935.0, 78882927.0, 57919495.0, 76783177.0, 63742508.0, 68570493.0, 53853326.0, 63426363.0, 53935386.0, 39400887.0, 43196646.0, 42114551.0, 35716976.0, 77076044.0, 65732909.0, 43842031.0, 102925355.0, 69967919.0, 65618481.0, 39807490.0, 67271983.0, 44993333.0, 49204851.0, 57487399.0, 57072377.0, 46943472.0, 61485514.0, 61229501.0, 66140838.0, 57594367.0, 72452437.0, 65909863.0, 73524824.0, 50210903.0, 50530492.0, 59810758.0, 51034222.0, 55079875.0, 68244043.0, 61930407.0, 49080562.0, 100360646.0, 105479656.0, 53409645.0, 44370037.0, 79739674.0, 59249455.0, 70091385.0, 62078937.0, 47258227.0, 64694594.0, 111545910.0, 105951698.0, 87742172.0, 74338982.0, 214731042.0, 274840491.0, 183186492.0, 102263717.0, 118255834.0, 110625987.0, 134557525.0, 139901634.0, 82415812.0, 146352719.0, 177806697.0, 138061545.0, 201574596.0, 160749101.0, 157115995.0, 128296325.0, 99495037.0, 122634107.0, 65622482.0, 60085894.0, 102752099.0, 65584886.0, 98812561.0, 99673574.0, 98176610.0, 125335931.0, 135101437.0, 126668040.0, 103061706.0, 136021311.0, 75563743.0, 42807878.0, 79981362.0, 75502441.0, 127629633.0, 82346420.0, 98204190.0, 103017719.0, 177986013.0, 204185411.0, 161018923.0, 151445885.0, 121504431.0, 97976706.0, 96662717.0, 116961071.0, 165492257.0, 134515094.0, 214992763.0, 252053377.0, 255345633.0, 147311588.0, 218485360.0, 186267342.0, 153100189.0, 144299370.0, 126925199.0, 144140692.0, 142628834.0, 103139100.0, 102512587.0, 95006554.0, 96823923.0, 73858110.0, 70908227.0, 85208271.0, 77636710.0, 96118435.0, 127900303.0, 115531183.0, 86030287.0, 59204139.0, 96883358.0, 85613655.0, 66136334.0, 92473671.0, 104012073.0, 85782524.0, 60744844.0, 79552774.0, 58347791.0, 95481961.0, 75788861.0, 68021423.0, 72270221.0, 65277204.0, 83234396.0, 97088659.0, 59120804.0, 76610767.0, 64214727.0, 78114616.0, 69030699.0, 56844101.0, 56921570.0, 69268293.0, 78880548.0, 106494637.0, 59114559.0, 75039771.0, 94885089.0, 85795799.0, 65098897.0, 79667530.0, 80639153.0, 67518366.0, 81308979.0, 62199806.0, 90268121.0, 84609210.0, 79550375.0, 122659286.0, 85575197.0, 68125920.0, 72224722.0, 56238545.0, 82186806.0, 77617945.0, 40070351.0, 68243202.0, 48997505.0, 58621729.0, 53566335.0, 66142316.0, 52601499.0, 55093100.0, 69727782.0, 49596685.0, 52153197.0, 58268295.0, 68708513.0, 40160140.0, 52246633.0, 50392914.0, 57770862.0, 50916423.0, 57197747.0, 81111733.0, 71671870.0, 65030170.0, 56543653.0, 107198069.0, 144729908.0, 91568287.0, 103471104.0, 112429293.0, 127290527.0, 77003230.0, 73956407.0, 76749643.0, 100353024.0, 62877610.0, 46847085.0, 49482472.0, 98733847.0, 55268095.0, 70029356.0, 104972927.0, 62523780.0, 86862782.0, 96427952.0, 77231889.0, 71169717.0, 69430381.0, 74272199.0, 60799053.0, 58641325.0, 47096312.0, 48945156.0, 52324716.0, 39205709.0, 85434823.0, 78674377.0, 116570017.0, 83309466.0, 47582730.0, 82028656.0, 51584902.0, 40355239.0, 59350929.0, 79107474.0, 61504544.0, 40898896.0, 51677326.0, 45841772.0, 41101279.0, 58595558.0, 50889481.0, 40354410.0, 33910261.0, 40567964.0, 44102443.0, 51701687.0, 71081238.0, 43687404.0, 44657973.0, 47213232.0, 55394092.0, 45084077.0, 38126462.0, 45849045.0, 104245162.0, 142646576.0, 116749695.0, 178745449.0, 120711682.0, 140572265.0, 87713904.0, 93729958.0, 65527632.0, 94792972.0, 135622053.0, 101929845.0, 85825286.0, 53640153.0, 51652752.0, 49723430.0, 51739292.0, 149318151.0, 72620598.0, 68262998.0, 59852324.0, 57998913.0, 62961780.0, 69231875.0, 47003957.0, 83356779.0, 49584290.0, 51260290.0, 57947101.0, 68821066.0, 72908745.0, 62104838.0, 58191175.0, 42904427.0, 74192091.0, 78099215.0, 97455979.0, 47541321.0, 97367568.0, 73434081.0, 58722357.0, 84781110.0, 52562761.0, 89900420.0, 124523974.0, 85906799.0, 66700681.0, 60656561.0, 101575470.0, 65707329.0, 57255974.0, 101228577.0, 40546668.0, 47832356.0, 50563596.0, 46784885.0, 64338028.0, 39460901.0, 49126038.0, 34991829.0, 35857459.0, 45205412.0, 42146965.0, 44284921.0, 49643928.0, 69053791.0, 71141515.0, 60606916.0, 42933219.0, 46487108.0, 54272274.0, 49068797.0, 35934909.0, 46484624.0, 54459018.0, 52001874.0, 62706192.0, 49327980.0, 67927818.0, 79696276.0, 54664690.0, 44850228.0, 48762676.0, 37727953.0, 44793179.0, 36592740.0], \"yaxis\": \"y2\"}],\n",
       "                        {\"legend\": {\"bgcolor\": \"#F5F6F9\", \"font\": {\"color\": \"#4D5663\"}}, \"paper_bgcolor\": \"#F5F6F9\", \"plot_bgcolor\": \"#F5F6F9\", \"template\": {\"data\": {\"bar\": [{\"error_x\": {\"color\": \"#2a3f5f\"}, \"error_y\": {\"color\": \"#2a3f5f\"}, \"marker\": {\"line\": {\"color\": \"#E5ECF6\", \"width\": 0.5}}, \"type\": \"bar\"}], \"barpolar\": [{\"marker\": {\"line\": {\"color\": \"#E5ECF6\", \"width\": 0.5}}, \"type\": \"barpolar\"}], \"carpet\": [{\"aaxis\": {\"endlinecolor\": \"#2a3f5f\", \"gridcolor\": \"white\", \"linecolor\": \"white\", \"minorgridcolor\": \"white\", \"startlinecolor\": \"#2a3f5f\"}, \"baxis\": {\"endlinecolor\": \"#2a3f5f\", \"gridcolor\": \"white\", \"linecolor\": \"white\", \"minorgridcolor\": \"white\", \"startlinecolor\": \"#2a3f5f\"}, \"type\": \"carpet\"}], \"choropleth\": [{\"colorbar\": {\"outlinewidth\": 0, \"ticks\": \"\"}, \"type\": \"choropleth\"}], \"contour\": [{\"colorbar\": {\"outlinewidth\": 0, \"ticks\": \"\"}, \"colorscale\": [[0.0, \"#0d0887\"], [0.1111111111111111, \"#46039f\"], [0.2222222222222222, \"#7201a8\"], [0.3333333333333333, \"#9c179e\"], [0.4444444444444444, \"#bd3786\"], [0.5555555555555556, \"#d8576b\"], [0.6666666666666666, \"#ed7953\"], [0.7777777777777778, \"#fb9f3a\"], [0.8888888888888888, \"#fdca26\"], [1.0, \"#f0f921\"]], \"type\": \"contour\"}], \"contourcarpet\": [{\"colorbar\": {\"outlinewidth\": 0, \"ticks\": \"\"}, \"type\": \"contourcarpet\"}], \"heatmap\": [{\"colorbar\": {\"outlinewidth\": 0, \"ticks\": \"\"}, \"colorscale\": [[0.0, \"#0d0887\"], [0.1111111111111111, \"#46039f\"], [0.2222222222222222, \"#7201a8\"], [0.3333333333333333, \"#9c179e\"], [0.4444444444444444, \"#bd3786\"], [0.5555555555555556, \"#d8576b\"], [0.6666666666666666, \"#ed7953\"], [0.7777777777777778, \"#fb9f3a\"], [0.8888888888888888, \"#fdca26\"], [1.0, \"#f0f921\"]], \"type\": \"heatmap\"}], \"heatmapgl\": [{\"colorbar\": {\"outlinewidth\": 0, \"ticks\": \"\"}, \"colorscale\": [[0.0, \"#0d0887\"], [0.1111111111111111, \"#46039f\"], [0.2222222222222222, \"#7201a8\"], [0.3333333333333333, \"#9c179e\"], [0.4444444444444444, \"#bd3786\"], [0.5555555555555556, \"#d8576b\"], [0.6666666666666666, \"#ed7953\"], [0.7777777777777778, \"#fb9f3a\"], [0.8888888888888888, \"#fdca26\"], [1.0, \"#f0f921\"]], \"type\": \"heatmapgl\"}], \"histogram\": [{\"marker\": {\"colorbar\": {\"outlinewidth\": 0, \"ticks\": \"\"}}, \"type\": \"histogram\"}], \"histogram2d\": [{\"colorbar\": {\"outlinewidth\": 0, \"ticks\": \"\"}, \"colorscale\": [[0.0, \"#0d0887\"], [0.1111111111111111, \"#46039f\"], [0.2222222222222222, \"#7201a8\"], [0.3333333333333333, \"#9c179e\"], [0.4444444444444444, \"#bd3786\"], [0.5555555555555556, \"#d8576b\"], [0.6666666666666666, \"#ed7953\"], [0.7777777777777778, \"#fb9f3a\"], [0.8888888888888888, \"#fdca26\"], [1.0, \"#f0f921\"]], \"type\": \"histogram2d\"}], \"histogram2dcontour\": [{\"colorbar\": {\"outlinewidth\": 0, \"ticks\": \"\"}, \"colorscale\": [[0.0, \"#0d0887\"], [0.1111111111111111, \"#46039f\"], [0.2222222222222222, \"#7201a8\"], [0.3333333333333333, \"#9c179e\"], [0.4444444444444444, \"#bd3786\"], [0.5555555555555556, \"#d8576b\"], [0.6666666666666666, \"#ed7953\"], [0.7777777777777778, \"#fb9f3a\"], [0.8888888888888888, \"#fdca26\"], [1.0, \"#f0f921\"]], \"type\": \"histogram2dcontour\"}], \"mesh3d\": [{\"colorbar\": {\"outlinewidth\": 0, \"ticks\": \"\"}, \"type\": \"mesh3d\"}], \"parcoords\": [{\"line\": {\"colorbar\": {\"outlinewidth\": 0, \"ticks\": \"\"}}, \"type\": \"parcoords\"}], \"pie\": [{\"automargin\": true, \"type\": \"pie\"}], \"scatter\": [{\"marker\": {\"colorbar\": {\"outlinewidth\": 0, \"ticks\": \"\"}}, \"type\": \"scatter\"}], \"scatter3d\": [{\"line\": {\"colorbar\": {\"outlinewidth\": 0, \"ticks\": \"\"}}, \"marker\": {\"colorbar\": {\"outlinewidth\": 0, \"ticks\": \"\"}}, \"type\": \"scatter3d\"}], \"scattercarpet\": [{\"marker\": {\"colorbar\": {\"outlinewidth\": 0, \"ticks\": \"\"}}, \"type\": \"scattercarpet\"}], \"scattergeo\": [{\"marker\": {\"colorbar\": {\"outlinewidth\": 0, \"ticks\": \"\"}}, \"type\": \"scattergeo\"}], \"scattergl\": [{\"marker\": {\"colorbar\": {\"outlinewidth\": 0, \"ticks\": \"\"}}, \"type\": \"scattergl\"}], \"scattermapbox\": [{\"marker\": {\"colorbar\": {\"outlinewidth\": 0, \"ticks\": \"\"}}, \"type\": \"scattermapbox\"}], \"scatterpolar\": [{\"marker\": {\"colorbar\": {\"outlinewidth\": 0, \"ticks\": \"\"}}, \"type\": \"scatterpolar\"}], \"scatterpolargl\": [{\"marker\": {\"colorbar\": {\"outlinewidth\": 0, \"ticks\": \"\"}}, \"type\": \"scatterpolargl\"}], \"scatterternary\": [{\"marker\": {\"colorbar\": {\"outlinewidth\": 0, \"ticks\": \"\"}}, \"type\": \"scatterternary\"}], \"surface\": [{\"colorbar\": {\"outlinewidth\": 0, \"ticks\": \"\"}, \"colorscale\": [[0.0, \"#0d0887\"], [0.1111111111111111, \"#46039f\"], [0.2222222222222222, \"#7201a8\"], [0.3333333333333333, \"#9c179e\"], [0.4444444444444444, \"#bd3786\"], [0.5555555555555556, \"#d8576b\"], [0.6666666666666666, \"#ed7953\"], [0.7777777777777778, \"#fb9f3a\"], [0.8888888888888888, \"#fdca26\"], [1.0, \"#f0f921\"]], \"type\": \"surface\"}], \"table\": [{\"cells\": {\"fill\": {\"color\": \"#EBF0F8\"}, \"line\": {\"color\": \"white\"}}, \"header\": {\"fill\": {\"color\": \"#C8D4E3\"}, \"line\": {\"color\": \"white\"}}, \"type\": \"table\"}]}, \"layout\": {\"annotationdefaults\": {\"arrowcolor\": \"#2a3f5f\", \"arrowhead\": 0, \"arrowwidth\": 1}, \"coloraxis\": {\"colorbar\": {\"outlinewidth\": 0, \"ticks\": \"\"}}, \"colorscale\": {\"diverging\": [[0, \"#8e0152\"], [0.1, \"#c51b7d\"], [0.2, \"#de77ae\"], [0.3, \"#f1b6da\"], [0.4, \"#fde0ef\"], [0.5, \"#f7f7f7\"], [0.6, \"#e6f5d0\"], [0.7, \"#b8e186\"], [0.8, \"#7fbc41\"], [0.9, \"#4d9221\"], [1, \"#276419\"]], \"sequential\": [[0.0, \"#0d0887\"], [0.1111111111111111, \"#46039f\"], [0.2222222222222222, \"#7201a8\"], [0.3333333333333333, \"#9c179e\"], [0.4444444444444444, \"#bd3786\"], [0.5555555555555556, \"#d8576b\"], [0.6666666666666666, \"#ed7953\"], [0.7777777777777778, \"#fb9f3a\"], [0.8888888888888888, \"#fdca26\"], [1.0, \"#f0f921\"]], \"sequentialminus\": [[0.0, \"#0d0887\"], [0.1111111111111111, \"#46039f\"], [0.2222222222222222, \"#7201a8\"], [0.3333333333333333, \"#9c179e\"], [0.4444444444444444, \"#bd3786\"], [0.5555555555555556, \"#d8576b\"], [0.6666666666666666, \"#ed7953\"], [0.7777777777777778, \"#fb9f3a\"], [0.8888888888888888, \"#fdca26\"], [1.0, \"#f0f921\"]]}, \"colorway\": [\"#636efa\", \"#EF553B\", \"#00cc96\", \"#ab63fa\", \"#FFA15A\", \"#19d3f3\", \"#FF6692\", \"#B6E880\", \"#FF97FF\", \"#FECB52\"], \"font\": {\"color\": \"#2a3f5f\"}, \"geo\": {\"bgcolor\": \"white\", \"lakecolor\": \"white\", \"landcolor\": \"#E5ECF6\", \"showlakes\": true, \"showland\": true, \"subunitcolor\": \"white\"}, \"hoverlabel\": {\"align\": \"left\"}, \"hovermode\": \"closest\", \"mapbox\": {\"style\": \"light\"}, \"paper_bgcolor\": \"white\", \"plot_bgcolor\": \"#E5ECF6\", \"polar\": {\"angularaxis\": {\"gridcolor\": \"white\", \"linecolor\": \"white\", \"ticks\": \"\"}, \"bgcolor\": \"#E5ECF6\", \"radialaxis\": {\"gridcolor\": \"white\", \"linecolor\": \"white\", \"ticks\": \"\"}}, \"scene\": {\"xaxis\": {\"backgroundcolor\": \"#E5ECF6\", \"gridcolor\": \"white\", \"gridwidth\": 2, \"linecolor\": \"white\", \"showbackground\": true, \"ticks\": \"\", \"zerolinecolor\": \"white\"}, \"yaxis\": {\"backgroundcolor\": \"#E5ECF6\", \"gridcolor\": \"white\", \"gridwidth\": 2, \"linecolor\": \"white\", \"showbackground\": true, \"ticks\": \"\", \"zerolinecolor\": \"white\"}, \"zaxis\": {\"backgroundcolor\": \"#E5ECF6\", \"gridcolor\": \"white\", \"gridwidth\": 2, \"linecolor\": \"white\", \"showbackground\": true, \"ticks\": \"\", \"zerolinecolor\": \"white\"}}, \"shapedefaults\": {\"line\": {\"color\": \"#2a3f5f\"}}, \"ternary\": {\"aaxis\": {\"gridcolor\": \"white\", \"linecolor\": \"white\", \"ticks\": \"\"}, \"baxis\": {\"gridcolor\": \"white\", \"linecolor\": \"white\", \"ticks\": \"\"}, \"bgcolor\": \"#E5ECF6\", \"caxis\": {\"gridcolor\": \"white\", \"linecolor\": \"white\", \"ticks\": \"\"}}, \"title\": {\"x\": 0.05}, \"xaxis\": {\"automargin\": true, \"gridcolor\": \"white\", \"linecolor\": \"white\", \"ticks\": \"\", \"title\": {\"standoff\": 15}, \"zerolinecolor\": \"white\", \"zerolinewidth\": 2}, \"yaxis\": {\"automargin\": true, \"gridcolor\": \"white\", \"linecolor\": \"white\", \"ticks\": \"\", \"title\": {\"standoff\": 15}, \"zerolinecolor\": \"white\", \"zerolinewidth\": 2}}}, \"title\": {\"font\": {\"color\": \"#4D5663\"}, \"text\": \"spy\"}, \"xaxis\": {\"anchor\": \"y\", \"domain\": [0.0, 0.45], \"gridcolor\": \"#E1E5ED\", \"showgrid\": true, \"tickfont\": {\"color\": \"#4D5663\"}, \"title\": {\"font\": {\"color\": \"#4D5663\"}, \"text\": \"Year\"}, \"zerolinecolor\": \"#E1E5ED\"}, \"xaxis2\": {\"anchor\": \"y2\", \"domain\": [0.55, 1.0], \"gridcolor\": \"#E1E5ED\", \"showgrid\": true, \"tickfont\": {\"color\": \"#4D5663\"}, \"title\": {\"font\": {\"color\": \"#4D5663\"}, \"text\": \"Year\"}, \"zerolinecolor\": \"#E1E5ED\"}, \"yaxis\": {\"anchor\": \"x\", \"domain\": [0.0, 1.0], \"gridcolor\": \"#E1E5ED\", \"showgrid\": true, \"tickfont\": {\"color\": \"#4D5663\"}, \"title\": {\"font\": {\"color\": \"#4D5663\"}, \"text\": \"Price\"}, \"zerolinecolor\": \"#E1E5ED\"}, \"yaxis2\": {\"anchor\": \"x2\", \"domain\": [0.0, 1.0], \"gridcolor\": \"#E1E5ED\", \"showgrid\": true, \"tickfont\": {\"color\": \"#4D5663\"}, \"title\": {\"font\": {\"color\": \"#4D5663\"}, \"text\": \"Price\"}, \"zerolinecolor\": \"#E1E5ED\"}},\n",
       "                        {\"showLink\": true, \"linkText\": \"Export to plot.ly\", \"plotlyServerURL\": \"https://plot.ly\", \"responsive\": true}\n",
       "                    ).then(function(){\n",
       "                            \n",
       "var gd = document.getElementById('1707fca2-fae3-43bc-a693-30deb829dc2b');\n",
       "var x = new MutationObserver(function (mutations, observer) {{\n",
       "        var display = window.getComputedStyle(gd).display;\n",
       "        if (!display || display === 'none') {{\n",
       "            console.log([gd, 'removed!']);\n",
       "            Plotly.purge(gd);\n",
       "            observer.disconnect();\n",
       "        }}\n",
       "}});\n",
       "\n",
       "// Listen for the removal of the full notebook cells\n",
       "var notebookContainer = gd.closest('#notebook-container');\n",
       "if (notebookContainer) {{\n",
       "    x.observe(notebookContainer, {childList: true});\n",
       "}}\n",
       "\n",
       "// Listen for the clearing of the current output cell\n",
       "var outputEl = gd.closest('.output');\n",
       "if (outputEl) {{\n",
       "    x.observe(outputEl, {childList: true});\n",
       "}}\n",
       "\n",
       "                        })\n",
       "                };\n",
       "                });\n",
       "            </script>\n",
       "        </div>"
      ]
     },
     "metadata": {},
     "output_type": "display_data"
    }
   ],
   "source": [
    "spy.iplot(subplots=True, mode='lines', size=1, xTitle='Year', yTitle='Price', title='spy')"
   ]
  },
  {
   "cell_type": "code",
   "execution_count": 45,
   "metadata": {},
   "outputs": [
    {
     "data": {
      "text/html": [
       "<div>\n",
       "<style scoped>\n",
       "    .dataframe tbody tr th:only-of-type {\n",
       "        vertical-align: middle;\n",
       "    }\n",
       "\n",
       "    .dataframe tbody tr th {\n",
       "        vertical-align: top;\n",
       "    }\n",
       "\n",
       "    .dataframe thead th {\n",
       "        text-align: right;\n",
       "    }\n",
       "</style>\n",
       "<table border=\"1\" class=\"dataframe\">\n",
       "  <thead>\n",
       "    <tr style=\"text-align: right;\">\n",
       "      <th>SPY</th>\n",
       "      <th>CLOSE</th>\n",
       "      <th>VOLUME</th>\n",
       "    </tr>\n",
       "    <tr>\n",
       "      <th>Date</th>\n",
       "      <th></th>\n",
       "      <th></th>\n",
       "    </tr>\n",
       "  </thead>\n",
       "  <tbody>\n",
       "    <tr>\n",
       "      <th>2019-11-22</th>\n",
       "      <td>310.96</td>\n",
       "      <td>44850228.0</td>\n",
       "    </tr>\n",
       "    <tr>\n",
       "      <th>2019-11-25</th>\n",
       "      <td>313.37</td>\n",
       "      <td>48762676.0</td>\n",
       "    </tr>\n",
       "    <tr>\n",
       "      <th>2019-11-26</th>\n",
       "      <td>314.08</td>\n",
       "      <td>37727953.0</td>\n",
       "    </tr>\n",
       "    <tr>\n",
       "      <th>2019-11-27</th>\n",
       "      <td>315.48</td>\n",
       "      <td>44793179.0</td>\n",
       "    </tr>\n",
       "    <tr>\n",
       "      <th>2019-11-29</th>\n",
       "      <td>314.31</td>\n",
       "      <td>36592740.0</td>\n",
       "    </tr>\n",
       "  </tbody>\n",
       "</table>\n",
       "</div>"
      ],
      "text/plain": [
       "SPY          CLOSE      VOLUME\n",
       "Date                          \n",
       "2019-11-22  310.96  44850228.0\n",
       "2019-11-25  313.37  48762676.0\n",
       "2019-11-26  314.08  37727953.0\n",
       "2019-11-27  315.48  44793179.0\n",
       "2019-11-29  314.31  36592740.0"
      ]
     },
     "execution_count": 45,
     "metadata": {},
     "output_type": "execute_result"
    }
   ],
   "source": [
    "spy.tail()"
   ]
  },
  {
   "cell_type": "code",
   "execution_count": 46,
   "metadata": {},
   "outputs": [],
   "source": [
    "#fieldsSPY = ['CF_DATE', 'EXPIR_DATE', 'PUTCALLIND', 'STRIKE_PRC', 'CF_CLOSE', 'IMP_VOLT'] \n",
    "#spyOP = ek.get_data('0#ESU8+', fields=fieldsSPY)[0]\n",
    "fieldsOP = ['DSPLY_NAME','EXPIR_CYCL', 'IMP_VOLT', 'CF_CLOSE']\n",
    "spyOP = ek.get_data('0#IBM*.U', fields = fieldsOP)[0]"
   ]
  },
  {
   "cell_type": "code",
   "execution_count": 47,
   "metadata": {},
   "outputs": [
    {
     "data": {
      "text/html": [
       "<div>\n",
       "<style scoped>\n",
       "    .dataframe tbody tr th:only-of-type {\n",
       "        vertical-align: middle;\n",
       "    }\n",
       "\n",
       "    .dataframe tbody tr th {\n",
       "        vertical-align: top;\n",
       "    }\n",
       "\n",
       "    .dataframe thead th {\n",
       "        text-align: right;\n",
       "    }\n",
       "</style>\n",
       "<table border=\"1\" class=\"dataframe\">\n",
       "  <thead>\n",
       "    <tr style=\"text-align: right;\">\n",
       "      <th></th>\n",
       "      <th>Instrument</th>\n",
       "      <th>DSPLY_NAME</th>\n",
       "      <th>EXPIR_CYCL</th>\n",
       "      <th>IMP_VOLT</th>\n",
       "      <th>CF_CLOSE</th>\n",
       "    </tr>\n",
       "  </thead>\n",
       "  <tbody>\n",
       "    <tr>\n",
       "      <th>0</th>\n",
       "      <td>/IBM</td>\n",
       "      <td>INTL BUS MACHI/d</td>\n",
       "      <td>None</td>\n",
       "      <td>0.1372</td>\n",
       "      <td>134.91</td>\n",
       "    </tr>\n",
       "    <tr>\n",
       "      <th>1</th>\n",
       "      <td>/IBML271911500.U</td>\n",
       "      <td>IBM 4Dc9 115.0/d</td>\n",
       "      <td>W</td>\n",
       "      <td>118.8800</td>\n",
       "      <td>20.01</td>\n",
       "    </tr>\n",
       "    <tr>\n",
       "      <th>2</th>\n",
       "      <td>/IBMX271911500.U</td>\n",
       "      <td>IBM 4Dc9 115.0/d</td>\n",
       "      <td>W</td>\n",
       "      <td>28.4500</td>\n",
       "      <td>0.09</td>\n",
       "    </tr>\n",
       "    <tr>\n",
       "      <th>3</th>\n",
       "      <td>/IBML271911600.U</td>\n",
       "      <td>IBM 4Dc9 116.0/d</td>\n",
       "      <td>W</td>\n",
       "      <td>NaN</td>\n",
       "      <td>NaN</td>\n",
       "    </tr>\n",
       "    <tr>\n",
       "      <th>4</th>\n",
       "      <td>/IBMX271911600.U</td>\n",
       "      <td>IBM 4Dc9 116.0/d</td>\n",
       "      <td>W</td>\n",
       "      <td>NaN</td>\n",
       "      <td>NaN</td>\n",
       "    </tr>\n",
       "    <tr>\n",
       "      <th>...</th>\n",
       "      <td>...</td>\n",
       "      <td>...</td>\n",
       "      <td>...</td>\n",
       "      <td>...</td>\n",
       "      <td>...</td>\n",
       "    </tr>\n",
       "    <tr>\n",
       "      <th>974</th>\n",
       "      <td>/IBMM212219500.U</td>\n",
       "      <td>IBM Jan2 195.0/d</td>\n",
       "      <td>M</td>\n",
       "      <td>NaN</td>\n",
       "      <td>67.78</td>\n",
       "    </tr>\n",
       "    <tr>\n",
       "      <th>975</th>\n",
       "      <td>/IBMA212220000.U</td>\n",
       "      <td>IBM Jan2 200.0/d</td>\n",
       "      <td>M</td>\n",
       "      <td>19.1200</td>\n",
       "      <td>0.90</td>\n",
       "    </tr>\n",
       "    <tr>\n",
       "      <th>976</th>\n",
       "      <td>/IBMM212220000.U</td>\n",
       "      <td>IBM Jan2 200.0/d</td>\n",
       "      <td>M</td>\n",
       "      <td>NaN</td>\n",
       "      <td>71.95</td>\n",
       "    </tr>\n",
       "    <tr>\n",
       "      <th>977</th>\n",
       "      <td>/IBMA212221000.U</td>\n",
       "      <td>IBM Jan2 210.0/d</td>\n",
       "      <td>M</td>\n",
       "      <td>19.8000</td>\n",
       "      <td>0.70</td>\n",
       "    </tr>\n",
       "    <tr>\n",
       "      <th>978</th>\n",
       "      <td>/IBMM212221000.U</td>\n",
       "      <td>IBM Jan2 210.0/d</td>\n",
       "      <td>M</td>\n",
       "      <td>NaN</td>\n",
       "      <td>81.10</td>\n",
       "    </tr>\n",
       "  </tbody>\n",
       "</table>\n",
       "<p>979 rows × 5 columns</p>\n",
       "</div>"
      ],
      "text/plain": [
       "           Instrument        DSPLY_NAME EXPIR_CYCL  IMP_VOLT  CF_CLOSE\n",
       "0                /IBM  INTL BUS MACHI/d       None    0.1372    134.91\n",
       "1    /IBML271911500.U  IBM 4Dc9 115.0/d        W    118.8800     20.01\n",
       "2    /IBMX271911500.U  IBM 4Dc9 115.0/d        W     28.4500      0.09\n",
       "3    /IBML271911600.U  IBM 4Dc9 116.0/d        W         NaN       NaN\n",
       "4    /IBMX271911600.U  IBM 4Dc9 116.0/d        W         NaN       NaN\n",
       "..                ...               ...        ...       ...       ...\n",
       "974  /IBMM212219500.U  IBM Jan2 195.0/d        M         NaN     67.78\n",
       "975  /IBMA212220000.U  IBM Jan2 200.0/d        M     19.1200      0.90\n",
       "976  /IBMM212220000.U  IBM Jan2 200.0/d        M         NaN     71.95\n",
       "977  /IBMA212221000.U  IBM Jan2 210.0/d        M     19.8000      0.70\n",
       "978  /IBMM212221000.U  IBM Jan2 210.0/d        M         NaN     81.10\n",
       "\n",
       "[979 rows x 5 columns]"
      ]
     },
     "execution_count": 47,
     "metadata": {},
     "output_type": "execute_result"
    }
   ],
   "source": [
    "spyOP"
   ]
  },
  {
   "cell_type": "code",
   "execution_count": 48,
   "metadata": {},
   "outputs": [],
   "source": [
    "weekly = spyOP[spyOP['EXPIR_CYCL'] == 'None']\n",
    "#calls = dax[dax['PUTCALLIND'] == 'CALL']"
   ]
  },
  {
   "cell_type": "code",
   "execution_count": 49,
   "metadata": {},
   "outputs": [
    {
     "data": {
      "text/html": [
       "<div>\n",
       "<style scoped>\n",
       "    .dataframe tbody tr th:only-of-type {\n",
       "        vertical-align: middle;\n",
       "    }\n",
       "\n",
       "    .dataframe tbody tr th {\n",
       "        vertical-align: top;\n",
       "    }\n",
       "\n",
       "    .dataframe thead th {\n",
       "        text-align: right;\n",
       "    }\n",
       "</style>\n",
       "<table border=\"1\" class=\"dataframe\">\n",
       "  <thead>\n",
       "    <tr style=\"text-align: right;\">\n",
       "      <th></th>\n",
       "      <th>Instrument</th>\n",
       "      <th>DSPLY_NAME</th>\n",
       "      <th>EXPIR_CYCL</th>\n",
       "      <th>IMP_VOLT</th>\n",
       "      <th>CF_CLOSE</th>\n",
       "    </tr>\n",
       "  </thead>\n",
       "  <tbody>\n",
       "  </tbody>\n",
       "</table>\n",
       "</div>"
      ],
      "text/plain": [
       "Empty DataFrame\n",
       "Columns: [Instrument, DSPLY_NAME, EXPIR_CYCL, IMP_VOLT, CF_CLOSE]\n",
       "Index: []"
      ]
     },
     "execution_count": 49,
     "metadata": {},
     "output_type": "execute_result"
    }
   ],
   "source": [
    "weekly"
   ]
  },
  {
   "cell_type": "code",
   "execution_count": null,
   "metadata": {},
   "outputs": [],
   "source": []
  }
 ],
 "metadata": {
  "kernelspec": {
   "display_name": "Python 3",
   "language": "python",
   "name": "python3"
  },
  "language_info": {
   "codemirror_mode": {
    "name": "ipython",
    "version": 3
   },
   "file_extension": ".py",
   "mimetype": "text/x-python",
   "name": "python",
   "nbconvert_exporter": "python",
   "pygments_lexer": "ipython3",
   "version": "3.7.5"
  }
 },
 "nbformat": 4,
 "nbformat_minor": 2
}
