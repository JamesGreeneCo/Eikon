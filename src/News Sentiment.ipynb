{
 "cells": [
  {
   "cell_type": "code",
   "execution_count": 21,
   "metadata": {},
   "outputs": [],
   "source": [
    "import eikon as ek\n",
    "import pandas as pd\n",
    "import numpy as np\n",
    "from bs4 import BeautifulSoup\n",
    "from textblob import TextBlob\n",
    "import datetime\n",
    "from datetime import time\n",
    "import warnings\n",
    "import lxml\n",
    "warnings.filterwarnings('ignore')"
   ]
  },
  {
   "cell_type": "code",
   "execution_count": 4,
   "metadata": {},
   "outputs": [
    {
     "name": "stdout",
     "output_type": "stream",
     "text": [
      "db3b24135a174fb98684d4e21dbd7c7f46671263\n"
     ]
    }
   ],
   "source": [
    "with open('../key.txt', 'r') as file:\n",
    "    key = file.read()\n",
    "print(key)"
   ]
  },
  {
   "cell_type": "code",
   "execution_count": 6,
   "metadata": {},
   "outputs": [],
   "source": [
    "ek.set_app_id(key)"
   ]
  },
  {
   "cell_type": "code",
   "execution_count": 10,
   "metadata": {},
   "outputs": [
    {
     "data": {
      "text/html": [
       "<div>\n",
       "<style scoped>\n",
       "    .dataframe tbody tr th:only-of-type {\n",
       "        vertical-align: middle;\n",
       "    }\n",
       "\n",
       "    .dataframe tbody tr th {\n",
       "        vertical-align: top;\n",
       "    }\n",
       "\n",
       "    .dataframe thead th {\n",
       "        text-align: right;\n",
       "    }\n",
       "</style>\n",
       "<table border=\"1\" class=\"dataframe\">\n",
       "  <thead>\n",
       "    <tr style=\"text-align: right;\">\n",
       "      <th></th>\n",
       "      <th>versionCreated</th>\n",
       "      <th>text</th>\n",
       "      <th>storyId</th>\n",
       "      <th>sourceCode</th>\n",
       "    </tr>\n",
       "  </thead>\n",
       "  <tbody>\n",
       "    <tr>\n",
       "      <th>2019-12-03 09:47:58.824</th>\n",
       "      <td>2019-12-03 09:47:58.824000+00:00</td>\n",
       "      <td>FRENCH FINANCE MINISTER LE MAIRE SAYS:  DIGITA...</td>\n",
       "      <td>urn:newsml:reuters.com:20191203:nP6N28C00F:1</td>\n",
       "      <td>NS:RTRS</td>\n",
       "    </tr>\n",
       "    <tr>\n",
       "      <th>2019-12-03 09:33:48.139</th>\n",
       "      <td>2019-12-03 09:35:42.176000+00:00</td>\n",
       "      <td>SHARES IN LANSON &lt;ALLAN.PA&gt; FLAT, LAURENT PERR...</td>\n",
       "      <td>urn:newsml:reuters.com:20191203:nP6N28C00H:3</td>\n",
       "      <td>NS:RTRS</td>\n",
       "    </tr>\n",
       "    <tr>\n",
       "      <th>2019-12-03 09:33:48.023</th>\n",
       "      <td>2019-12-03 09:33:48.023000+00:00</td>\n",
       "      <td>SHARES IN FRENCH CHAMPAGNE AND WINE COMPANY VR...</td>\n",
       "      <td>urn:newsml:reuters.com:20191203:nP6N28C00H:1</td>\n",
       "      <td>NS:RTRS</td>\n",
       "    </tr>\n",
       "    <tr>\n",
       "      <th>2019-12-03 09:30:00.174</th>\n",
       "      <td>2019-12-03 09:30:00.174000+00:00</td>\n",
       "      <td>Ice Group ASA - Agreement with Apple</td>\n",
       "      <td>urn:newsml:reuters.com:20191203:nObiF9vbma:1</td>\n",
       "      <td>NS:OBI</td>\n",
       "    </tr>\n",
       "    <tr>\n",
       "      <th>2019-12-03 09:02:47.000</th>\n",
       "      <td>2019-12-03 09:19:54+00:00</td>\n",
       "      <td>BREAKINGVIEWS-Osram M&amp;A traps hedge funds in p...</td>\n",
       "      <td>urn:newsml:reuters.com:20191203:nL8N28D1M7:1</td>\n",
       "      <td>NS:RTRS</td>\n",
       "    </tr>\n",
       "  </tbody>\n",
       "</table>\n",
       "</div>"
      ],
      "text/plain": [
       "                                          versionCreated  \\\n",
       "2019-12-03 09:47:58.824 2019-12-03 09:47:58.824000+00:00   \n",
       "2019-12-03 09:33:48.139 2019-12-03 09:35:42.176000+00:00   \n",
       "2019-12-03 09:33:48.023 2019-12-03 09:33:48.023000+00:00   \n",
       "2019-12-03 09:30:00.174 2019-12-03 09:30:00.174000+00:00   \n",
       "2019-12-03 09:02:47.000        2019-12-03 09:19:54+00:00   \n",
       "\n",
       "                                                                      text  \\\n",
       "2019-12-03 09:47:58.824  FRENCH FINANCE MINISTER LE MAIRE SAYS:  DIGITA...   \n",
       "2019-12-03 09:33:48.139  SHARES IN LANSON <ALLAN.PA> FLAT, LAURENT PERR...   \n",
       "2019-12-03 09:33:48.023  SHARES IN FRENCH CHAMPAGNE AND WINE COMPANY VR...   \n",
       "2019-12-03 09:30:00.174               Ice Group ASA - Agreement with Apple   \n",
       "2019-12-03 09:02:47.000  BREAKINGVIEWS-Osram M&A traps hedge funds in p...   \n",
       "\n",
       "                                                              storyId  \\\n",
       "2019-12-03 09:47:58.824  urn:newsml:reuters.com:20191203:nP6N28C00F:1   \n",
       "2019-12-03 09:33:48.139  urn:newsml:reuters.com:20191203:nP6N28C00H:3   \n",
       "2019-12-03 09:33:48.023  urn:newsml:reuters.com:20191203:nP6N28C00H:1   \n",
       "2019-12-03 09:30:00.174  urn:newsml:reuters.com:20191203:nObiF9vbma:1   \n",
       "2019-12-03 09:02:47.000  urn:newsml:reuters.com:20191203:nL8N28D1M7:1   \n",
       "\n",
       "                        sourceCode  \n",
       "2019-12-03 09:47:58.824    NS:RTRS  \n",
       "2019-12-03 09:33:48.139    NS:RTRS  \n",
       "2019-12-03 09:33:48.023    NS:RTRS  \n",
       "2019-12-03 09:30:00.174     NS:OBI  \n",
       "2019-12-03 09:02:47.000    NS:RTRS  "
      ]
     },
     "execution_count": 10,
     "metadata": {},
     "output_type": "execute_result"
    }
   ],
   "source": [
    "df = ek.get_news_headlines('R:AAPL.O AND Language:LEN', date_to = '2019-12-04', count = 100)\n",
    "df.tail()"
   ]
  },
  {
   "cell_type": "code",
   "execution_count": 11,
   "metadata": {},
   "outputs": [],
   "source": [
    "df['Polarity'] = np.nan\n",
    "df['Subjectivity'] = np.nan\n",
    "df['Score'] = np.nan"
   ]
  },
  {
   "cell_type": "code",
   "execution_count": null,
   "metadata": {},
   "outputs": [],
   "source": [
    "for idx, storyId in enumerate(df['storyId'].values):\n",
    "    newsText = ek.get_news_story(storyId)\n",
    "    if newsText:\n",
    "        soup = BeautifulSoup(newsText, 'html.parser')\n",
    "        sentA = TextBlob(soup.get_text())\n",
    "        df['Polarity'].iloc[idx] = sentA.sentiment.polarity\n",
    "        df['Subjectivity'].iloc[idx] = sentA.sentiment.subjectivity\n",
    "        if sentA.sentiment.polarity >= 0.05:\n",
    "            score = 'positive'\n",
    "        elif -.05 < sentA.sentiment.polarity < 0.05:\n",
    "            score = 'neutral'\n",
    "        else:\n",
    "            score = 'negative'\n",
    "        df['Score'].iloc[idx] = score\n",
    "df.head()"
   ]
  },
  {
   "cell_type": "code",
   "execution_count": null,
   "metadata": {},
   "outputs": [],
   "source": []
  },
  {
   "cell_type": "code",
   "execution_count": null,
   "metadata": {},
   "outputs": [],
   "source": []
  }
 ],
 "metadata": {
  "kernelspec": {
   "display_name": "Python 3",
   "language": "python",
   "name": "python3"
  },
  "language_info": {
   "codemirror_mode": {
    "name": "ipython",
    "version": 3
   },
   "file_extension": ".py",
   "mimetype": "text/x-python",
   "name": "python",
   "nbconvert_exporter": "python",
   "pygments_lexer": "ipython3",
   "version": "3.7.5"
  }
 },
 "nbformat": 4,
 "nbformat_minor": 2
}
